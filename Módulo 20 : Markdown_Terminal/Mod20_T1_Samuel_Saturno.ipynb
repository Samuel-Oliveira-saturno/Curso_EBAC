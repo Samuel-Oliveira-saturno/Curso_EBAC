{
  "nbformat": 4,
  "nbformat_minor": 0,
  "metadata": {
    "colab": {
      "provenance": []
    },
    "kernelspec": {
      "name": "python3",
      "display_name": "Python 3"
    },
    "language_info": {
      "name": "python"
    }
  },
  "cells": [
    {
      "cell_type": "markdown",
      "source": [
        "<img src=\"https://raw.githubusercontent.com/andre-marcos-perez/ebac-course-utils/main/media/logo/newebac_logo_black_half.png\" alt=\"ebac-logo\">\n",
        "\n",
        "---\n",
        "\n",
        "# **Módulo 20** | Markdown - Terminal\n",
        "Caderno de **exercício 01**<br>\n",
        "\n",
        "\n",
        "\n",
        "## Discente: **Samuel Saturno**<br>\n",
        "\n",
        "---"
      ],
      "metadata": {
        "id": "hkmlWAjlCm24"
      }
    },
    {
      "cell_type": "markdown",
      "source": [
        "<h3><font color=\"turquoise\">Fórmula de Bhaskara</font></h3>\n",
        "\n",
        "A solução para uma função de segundo grau depende das suas raízes (valores de x). Como já vimos, os coeficientes precisam ser números reais e o coeficiente angular diferente de zero. Sendo assim, temos a seguinte fórmula de Bhaskara:\n",
        "\n",
        "\n",
        "\n",
        "$$\n",
        "\\large\n",
        "\\mathbf{\n",
        "X = \\frac{{-b \\pm \\sqrt{\\\\ b^2 - 4ac}}}{{2a}}\n",
        "}\n",
        "$$\n",
        "\\\n",
        "$$\n",
        "{\\small\\text{Fórmula de Bhaskara.}}\n",
        "$$\n",
        "\n",
        "\n",
        "Para melhor compreensão o seu cálculo é dividido em duas partes: discriminante da equação e operações para determinar as raízes.\n",
        "\n",
        "\n",
        "\n",
        "**Discriminante**\n",
        "\n",
        "\n",
        "\n",
        "A figura dentro da raiz na fórmula de Bhaskara é nomeada de discriminante. Seu símbolo é a letra grega delta e apresenta a determinada fórmula:\n",
        "\n",
        "$$\n",
        "\\large\n",
        "\\mathbf{\n",
        "\\text{} \\quad \\Delta = b^2 - 4ac\n",
        "}\n",
        "$$\n",
        "\\\n",
        "$$\n",
        "{\\small\\text{Fórmula da discriminante}}.\n",
        "$$\n",
        "\n",
        "\n",
        "*  Se o delta for maior que zero, a equação terá dois valores reais e distintos.\n",
        "* Se o delta for igual a zero, a equação terá somente um valor real ou dois resultados iguais.\n",
        "* Se o delta for menor que zero, a equação não possuirá valores reais.\n"
      ],
      "metadata": {
        "id": "lOM3UaEC18tT"
      }
    }
  ]
}