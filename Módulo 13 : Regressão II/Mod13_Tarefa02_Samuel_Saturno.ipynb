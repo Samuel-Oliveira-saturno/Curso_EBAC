{
  "cells": [
    {
      "cell_type": "markdown",
      "source": [
        "<img src=\"https://raw.githubusercontent.com/andre-marcos-perez/ebac-course-utils/main/media/logo/newebac_logo_black_half.png\" alt=\"ebac-logo\">\n",
        "\n",
        "---\n",
        "\n",
        "# **Módulo 13** | Regressão II\n",
        "Caderno de **exercício 02**<br>\n",
        "\n",
        "# Regressão múltipla\n",
        "\n",
        "Discente: Samuel Saturno\n"
      ],
      "metadata": {
        "id": "wUJBQdcKxraf"
      }
    },
    {
      "cell_type": "markdown",
      "metadata": {
        "id": "tY3_jEFjxqf5"
      },
      "source": [
        "#### Previsão de renda II\n",
        "\n",
        "Vamos continuar trabalhando com a base 'previsao_de_renda.csv', que é a base do seu próximo projeto. Vamos usar os recursos que vimos até aqui nesta base.\n",
        "\n",
        "|variavel|descrição|\n",
        "|-|-|\n",
        "|data_ref                | Data de referência de coleta das variáveis |\n",
        "|index                   | Código de identificação do cliente|\n",
        "|sexo                    | Sexo do cliente|\n",
        "|posse_de_veiculo        | Indica se o cliente possui veículo|\n",
        "|posse_de_imovel         | Indica se o cliente possui imóvel|\n",
        "|qtd_filhos              | Quantidade de filhos do cliente|\n",
        "|tipo_renda              | Tipo de renda do cliente|\n",
        "|educacao                | Grau de instrução do cliente|\n",
        "|estado_civil            | Estado civil do cliente|\n",
        "|tipo_residencia         | Tipo de residência do cliente (própria, alugada etc)|\n",
        "|idade                   | Idade do cliente|\n",
        "|tempo_emprego           | Tempo no emprego atual|\n",
        "|qt_pessoas_residencia   | Quantidade de pessoas que moram na residência|\n",
        "|renda                   | Renda em reais|"
      ]
    },
    {
      "cell_type": "markdown",
      "source": [
        "Importando as bibliotecas"
      ],
      "metadata": {
        "id": "-bpF6GXCybwA"
      }
    },
    {
      "cell_type": "code",
      "execution_count": null,
      "metadata": {
        "id": "ZYjjjiuixqf5"
      },
      "outputs": [],
      "source": [
        "import pandas as pd\n",
        "import seaborn as sns\n",
        "from seaborn import load_dataset\n",
        "import matplotlib.pyplot as plt\n",
        "import seaborn as sns\n",
        "import numpy as np\n",
        "import graphviz\n",
        "\n",
        "from sklearn import datasets\n",
        "from sklearn.tree import DecisionTreeRegressor\n",
        "from sklearn import tree\n",
        "from sklearn.model_selection import train_test_split\n",
        "from sklearn.metrics import mean_squared_error\n",
        "from sklearn.linear_model import LinearRegression\n",
        "\n",
        "from sklearn.linear_model import Lasso\n",
        "from sklearn.preprocessing import OneHotEncoder\n",
        "from sklearn.compose import ColumnTransformer\n",
        "from sklearn.pipeline import Pipeline\n",
        "\n",
        "from sklearn.linear_model import Ridge\n",
        "from sklearn.metrics import r2_score\n",
        "\n",
        "import patsy\n",
        "import statsmodels.api as sm\n",
        "import statsmodels.formula.api as smf\n",
        "\n",
        "%matplotlib inline"
      ]
    },
    {
      "cell_type": "code",
      "source": [
        "from google.colab import drive\n",
        "drive.mount('/content/drive')"
      ],
      "metadata": {
        "colab": {
          "base_uri": "https://localhost:8080/"
        },
        "id": "dJbePb71doLe",
        "outputId": "7b1e9ad9-db4c-4e66-bc51-89288f31cd06"
      },
      "execution_count": null,
      "outputs": [
        {
          "output_type": "stream",
          "name": "stdout",
          "text": [
            "Mounted at /content/drive\n"
          ]
        }
      ]
    },
    {
      "cell_type": "code",
      "execution_count": null,
      "metadata": {
        "id": "zGsK-QCDxqf6"
      },
      "outputs": [],
      "source": [
        "# importando o dataframe\n",
        "df = pd.read_csv('/content/drive/MyDrive/previsao_de_renda.csv')"
      ]
    },
    {
      "cell_type": "code",
      "execution_count": null,
      "metadata": {
        "colab": {
          "base_uri": "https://localhost:8080/"
        },
        "id": "j0fn6TNUxqf6",
        "outputId": "2474adb7-ace6-4906-d438-454dfcc216b3"
      },
      "outputs": [
        {
          "output_type": "stream",
          "name": "stdout",
          "text": [
            "<class 'pandas.core.frame.DataFrame'>\n",
            "RangeIndex: 15000 entries, 0 to 14999\n",
            "Data columns (total 15 columns):\n",
            " #   Column                 Non-Null Count  Dtype  \n",
            "---  ------                 --------------  -----  \n",
            " 0   Unnamed: 0             15000 non-null  int64  \n",
            " 1   data_ref               15000 non-null  object \n",
            " 2   id_cliente             15000 non-null  int64  \n",
            " 3   sexo                   15000 non-null  object \n",
            " 4   posse_de_veiculo       15000 non-null  bool   \n",
            " 5   posse_de_imovel        15000 non-null  bool   \n",
            " 6   qtd_filhos             15000 non-null  int64  \n",
            " 7   tipo_renda             15000 non-null  object \n",
            " 8   educacao               15000 non-null  object \n",
            " 9   estado_civil           15000 non-null  object \n",
            " 10  tipo_residencia        15000 non-null  object \n",
            " 11  idade                  15000 non-null  int64  \n",
            " 12  tempo_emprego          12427 non-null  float64\n",
            " 13  qt_pessoas_residencia  15000 non-null  float64\n",
            " 14  renda                  15000 non-null  float64\n",
            "dtypes: bool(2), float64(3), int64(4), object(6)\n",
            "memory usage: 1.5+ MB\n"
          ]
        }
      ],
      "source": [
        "# Exibindo as informações das colunas do dataframe\n",
        "df.info()"
      ]
    },
    {
      "cell_type": "markdown",
      "source": [
        "Tratamento dos dados do dataframe"
      ],
      "metadata": {
        "id": "8SU-9BjWy0HW"
      }
    },
    {
      "cell_type": "code",
      "source": [
        "# Usando a função drop para deletar as colunas irrelevante do dataframe\n",
        "df = df.dropna()\n",
        "df.drop(columns=['Unnamed: 0','data_ref','id_cliente'], inplace=True)\n",
        "df.info()"
      ],
      "metadata": {
        "colab": {
          "base_uri": "https://localhost:8080/"
        },
        "id": "64nL9wujy8Td",
        "outputId": "b236b873-693f-47d3-d83e-d8cdf92b8bbc"
      },
      "execution_count": null,
      "outputs": [
        {
          "output_type": "stream",
          "name": "stdout",
          "text": [
            "<class 'pandas.core.frame.DataFrame'>\n",
            "Int64Index: 12427 entries, 0 to 14999\n",
            "Data columns (total 12 columns):\n",
            " #   Column                 Non-Null Count  Dtype  \n",
            "---  ------                 --------------  -----  \n",
            " 0   sexo                   12427 non-null  object \n",
            " 1   posse_de_veiculo       12427 non-null  bool   \n",
            " 2   posse_de_imovel        12427 non-null  bool   \n",
            " 3   qtd_filhos             12427 non-null  int64  \n",
            " 4   tipo_renda             12427 non-null  object \n",
            " 5   educacao               12427 non-null  object \n",
            " 6   estado_civil           12427 non-null  object \n",
            " 7   tipo_residencia        12427 non-null  object \n",
            " 8   idade                  12427 non-null  int64  \n",
            " 9   tempo_emprego          12427 non-null  float64\n",
            " 10  qt_pessoas_residencia  12427 non-null  float64\n",
            " 11  renda                  12427 non-null  float64\n",
            "dtypes: bool(2), float64(3), int64(2), object(5)\n",
            "memory usage: 1.1+ MB\n"
          ]
        },
        {
          "output_type": "stream",
          "name": "stderr",
          "text": [
            "<ipython-input-5-7583b8632ba8>:3: SettingWithCopyWarning: \n",
            "A value is trying to be set on a copy of a slice from a DataFrame\n",
            "\n",
            "See the caveats in the documentation: https://pandas.pydata.org/pandas-docs/stable/user_guide/indexing.html#returning-a-view-versus-a-copy\n",
            "  df.drop(columns=['Unnamed: 0','data_ref','id_cliente'], inplace=True)\n"
          ]
        }
      ]
    },
    {
      "cell_type": "markdown",
      "metadata": {
        "id": "3NhRIYINxqf7"
      },
      "source": [
        "1. Separe a base em treinamento e teste (25% para teste, 75% para treinamento).\n",
        "2. Rode uma regularização *ridge* com alpha = [0, 0.001, 0.005, 0.01, 0.05, 0.1] e avalie o $R^2$ na base de testes. Qual o melhor modelo?\n",
        "3. Faça o mesmo que no passo 2, com uma regressão *LASSO*. Qual método chega a um melhor resultado?\n",
        "4. Rode um modelo *stepwise*. Avalie o $R^2$ na vase de testes. Qual o melhor resultado?\n",
        "5. Compare os parâmetros e avalie eventuais diferenças. Qual modelo você acha o melhor de todos?\n",
        "6. Partindo dos modelos que você ajustou, tente melhorar o $R^2$ na base de testes. Use a criatividade, veja se consegue inserir alguma transformação ou combinação de variáveis.\n",
        "7. Ajuste uma árvore de regressão e veja se consegue um $R^2$ melhor com ela."
      ]
    },
    {
      "cell_type": "markdown",
      "source": [
        "### 1. Separe a base em treinamento e teste (25% para teste, 75% para treinamento)."
      ],
      "metadata": {
        "id": "RBReZ2puM75w"
      }
    },
    {
      "cell_type": "code",
      "source": [
        "# Defina suas variáveis independentes (X) e variável dependente (y)\n",
        "X = df[['sexo', 'posse_de_veiculo', 'posse_de_imovel', 'qtd_filhos',\n",
        "        'tipo_renda', 'educacao', 'estado_civil', 'tipo_residencia',\n",
        "        'idade', 'tempo_emprego', 'qt_pessoas_residencia', 'renda']]\n",
        "y = df['renda']\n",
        "\n",
        "# Separe os dados em conjunto de treinamento e teste (75% para treinamento, 25% para teste)\n",
        "X_train, X_test, y_train, y_test = train_test_split(X, y, test_size=0.25, random_state=42)"
      ],
      "metadata": {
        "id": "zUmeJ71GNyTt"
      },
      "execution_count": null,
      "outputs": []
    },
    {
      "cell_type": "code",
      "source": [
        "# Criando um modelo de design matrix usando Patsy.\n",
        "df_1 = patsy.dmatrices('''np.log(renda) ~ C(sexo)\n",
        "                    + C(posse_de_veiculo)\n",
        "                    + C(posse_de_imovel)\n",
        "                    + qtd_filhos\n",
        "                    + C(tipo_renda)\n",
        "                    + C(educacao, Treatment(2))\n",
        "                    + C(estado_civil)\n",
        "                    + C(tipo_residencia, Treatment(1))\n",
        "                    + idade\n",
        "                    + tempo_emprego\n",
        "                    + qt_pessoas_residencia\n",
        "                    + 1''', X_test)"
      ],
      "metadata": {
        "id": "saoWeGi-qWwW"
      },
      "execution_count": null,
      "outputs": []
    },
    {
      "cell_type": "markdown",
      "source": [
        "###  2. Rode uma regularização ridge com alpha = [0, 0.001, 0.005, 0.01, 0.05, 0.1] e avalie o  R2  na base de testes. Qual o melhor modelo?"
      ],
      "metadata": {
        "id": "v7QTk2_QM_rF"
      }
    },
    {
      "cell_type": "code",
      "source": [
        "# Cálculo de regressão do modelo aplicado o \"elastic_net\" com alpha = 0\n",
        "modelo = smf.ols(df_1, data = X_test).fit_regularized(method = 'elastic_net'\n",
        "                         , refit = True\n",
        "                         , L1_wt = 1\n",
        "                         , alpha = 0)\n",
        "\n",
        "# Exibindo o sumário do modelo\n",
        "modelo.summary()"
      ],
      "metadata": {
        "colab": {
          "base_uri": "https://localhost:8080/",
          "height": 957
        },
        "id": "DDuhx_v8qfJu",
        "outputId": "0c0ff637-03dd-4308-d565-2bca786db23d"
      },
      "execution_count": null,
      "outputs": [
        {
          "output_type": "execute_result",
          "data": {
            "text/plain": [
              "<class 'statsmodels.iolib.summary.Summary'>\n",
              "\"\"\"\n",
              "                            OLS Regression Results                            \n",
              "==============================================================================\n",
              "Dep. Variable:          np.log(renda)   R-squared:                       0.371\n",
              "Model:                            OLS   Adj. R-squared:                  0.366\n",
              "Method:                 Least Squares   F-statistic:                     75.81\n",
              "Date:                Thu, 07 Mar 2024   Prob (F-statistic):          1.78e-288\n",
              "Time:                        01:53:29   Log-Likelihood:                -3369.0\n",
              "No. Observations:                3107   AIC:                             6788.\n",
              "Df Residuals:                    3083   BIC:                             6939.\n",
              "Df Model:                          24                                         \n",
              "Covariance Type:            nonrobust                                         \n",
              "=====================================================================================================================\n",
              "                                                        coef    std err          t      P>|t|      [0.025      0.975]\n",
              "---------------------------------------------------------------------------------------------------------------------\n",
              "Intercept                                             7.7632      1.022      7.593      0.000       5.759       9.768\n",
              "C(sexo)[T.M]                                          0.7800      0.029     26.491      0.000       0.722       0.838\n",
              "C(posse_de_veiculo)[T.True]                           0.0940      0.029      3.279      0.001       0.038       0.150\n",
              "C(posse_de_imovel)[T.True]                            0.0542      0.028      1.954      0.051      -0.000       0.109\n",
              "C(tipo_renda)[T.Empresário]                           0.1231      0.029      4.189      0.000       0.065       0.181\n",
              "C(tipo_renda)[T.Pensionista]                         -0.2766      0.510     -0.543      0.587      -1.276       0.722\n",
              "C(tipo_renda)[T.Servidor público]                     0.0457      0.045      1.018      0.309      -0.042       0.134\n",
              "C(educacao, Treatment(2))[T.Primário]                -0.0329      0.143     -0.230      0.818      -0.313       0.247\n",
              "C(educacao, Treatment(2))[T.Pós graduação]            0.3214      0.229      1.406      0.160      -0.127       0.770\n",
              "C(educacao, Treatment(2))[T.Superior completo]        0.0962      0.028      3.455      0.001       0.042       0.151\n",
              "C(educacao, Treatment(2))[T.Superior incompleto]     -0.0646      0.064     -1.005      0.315      -0.191       0.061\n",
              "C(estado_civil)[T.Separado]                          -0.2918      0.514     -0.568      0.570      -1.299       0.715\n",
              "C(estado_civil)[T.Solteiro]                          -0.3522      0.509     -0.691      0.489      -1.351       0.647\n",
              "C(estado_civil)[T.União]                             -0.0245      0.052     -0.471      0.638      -0.126       0.077\n",
              "C(estado_civil)[T.Viúvo]                             -0.3537      0.517     -0.684      0.494      -1.368       0.660\n",
              "C(tipo_residencia, Treatment(1))[T.Aluguel]          -0.0480      0.101     -0.476      0.634      -0.246       0.150\n",
              "C(tipo_residencia, Treatment(1))[T.Com os pais]      -0.0064      0.058     -0.111      0.912      -0.120       0.107\n",
              "C(tipo_residencia, Treatment(1))[T.Comunitário]       0.0565      0.151      0.374      0.709      -0.240       0.353\n",
              "C(tipo_residencia, Treatment(1))[T.Estúdio]           0.4626      0.181      2.558      0.011       0.108       0.817\n",
              "C(tipo_residencia, Treatment(1))[T.Governamental]     0.0124      0.078      0.158      0.874      -0.141       0.166\n",
              "qtd_filhos                                            0.3416      0.511      0.668      0.504      -0.660       1.344\n",
              "idade                                                 0.0049      0.002      3.082      0.002       0.002       0.008\n",
              "tempo_emprego                                         0.0644      0.002     30.488      0.000       0.060       0.069\n",
              "qt_pessoas_residencia                                -0.3222      0.511     -0.631      0.528      -1.324       0.679\n",
              "==============================================================================\n",
              "Omnibus:                        0.307   Durbin-Watson:                   2.034\n",
              "Prob(Omnibus):                  0.858   Jarque-Bera (JB):                0.358\n",
              "Skew:                           0.012   Prob(JB):                        0.836\n",
              "Kurtosis:                       2.953   Cond. No.                     5.03e+03\n",
              "==============================================================================\n",
              "\n",
              "Notes:\n",
              "[1] Standard Errors assume that the covariance matrix of the errors is correctly specified.\n",
              "[2] The condition number is large, 5.03e+03. This might indicate that there are\n",
              "strong multicollinearity or other numerical problems.\n",
              "\"\"\""
            ],
            "text/html": [
              "<table class=\"simpletable\">\n",
              "<caption>OLS Regression Results</caption>\n",
              "<tr>\n",
              "  <th>Dep. Variable:</th>      <td>np.log(renda)</td>  <th>  R-squared:         </th> <td>   0.371</td> \n",
              "</tr>\n",
              "<tr>\n",
              "  <th>Model:</th>                   <td>OLS</td>       <th>  Adj. R-squared:    </th> <td>   0.366</td> \n",
              "</tr>\n",
              "<tr>\n",
              "  <th>Method:</th>             <td>Least Squares</td>  <th>  F-statistic:       </th> <td>   75.81</td> \n",
              "</tr>\n",
              "<tr>\n",
              "  <th>Date:</th>             <td>Thu, 07 Mar 2024</td> <th>  Prob (F-statistic):</th> <td>1.78e-288</td>\n",
              "</tr>\n",
              "<tr>\n",
              "  <th>Time:</th>                 <td>01:53:29</td>     <th>  Log-Likelihood:    </th> <td> -3369.0</td> \n",
              "</tr>\n",
              "<tr>\n",
              "  <th>No. Observations:</th>      <td>  3107</td>      <th>  AIC:               </th> <td>   6788.</td> \n",
              "</tr>\n",
              "<tr>\n",
              "  <th>Df Residuals:</th>          <td>  3083</td>      <th>  BIC:               </th> <td>   6939.</td> \n",
              "</tr>\n",
              "<tr>\n",
              "  <th>Df Model:</th>              <td>    24</td>      <th>                     </th>     <td> </td>    \n",
              "</tr>\n",
              "<tr>\n",
              "  <th>Covariance Type:</th>      <td>nonrobust</td>    <th>                     </th>     <td> </td>    \n",
              "</tr>\n",
              "</table>\n",
              "<table class=\"simpletable\">\n",
              "<tr>\n",
              "                          <td></td>                             <th>coef</th>     <th>std err</th>      <th>t</th>      <th>P>|t|</th>  <th>[0.025</th>    <th>0.975]</th>  \n",
              "</tr>\n",
              "<tr>\n",
              "  <th>Intercept</th>                                         <td>    7.7632</td> <td>    1.022</td> <td>    7.593</td> <td> 0.000</td> <td>    5.759</td> <td>    9.768</td>\n",
              "</tr>\n",
              "<tr>\n",
              "  <th>C(sexo)[T.M]</th>                                      <td>    0.7800</td> <td>    0.029</td> <td>   26.491</td> <td> 0.000</td> <td>    0.722</td> <td>    0.838</td>\n",
              "</tr>\n",
              "<tr>\n",
              "  <th>C(posse_de_veiculo)[T.True]</th>                       <td>    0.0940</td> <td>    0.029</td> <td>    3.279</td> <td> 0.001</td> <td>    0.038</td> <td>    0.150</td>\n",
              "</tr>\n",
              "<tr>\n",
              "  <th>C(posse_de_imovel)[T.True]</th>                        <td>    0.0542</td> <td>    0.028</td> <td>    1.954</td> <td> 0.051</td> <td>   -0.000</td> <td>    0.109</td>\n",
              "</tr>\n",
              "<tr>\n",
              "  <th>C(tipo_renda)[T.Empresário]</th>                       <td>    0.1231</td> <td>    0.029</td> <td>    4.189</td> <td> 0.000</td> <td>    0.065</td> <td>    0.181</td>\n",
              "</tr>\n",
              "<tr>\n",
              "  <th>C(tipo_renda)[T.Pensionista]</th>                      <td>   -0.2766</td> <td>    0.510</td> <td>   -0.543</td> <td> 0.587</td> <td>   -1.276</td> <td>    0.722</td>\n",
              "</tr>\n",
              "<tr>\n",
              "  <th>C(tipo_renda)[T.Servidor público]</th>                 <td>    0.0457</td> <td>    0.045</td> <td>    1.018</td> <td> 0.309</td> <td>   -0.042</td> <td>    0.134</td>\n",
              "</tr>\n",
              "<tr>\n",
              "  <th>C(educacao, Treatment(2))[T.Primário]</th>             <td>   -0.0329</td> <td>    0.143</td> <td>   -0.230</td> <td> 0.818</td> <td>   -0.313</td> <td>    0.247</td>\n",
              "</tr>\n",
              "<tr>\n",
              "  <th>C(educacao, Treatment(2))[T.Pós graduação]</th>        <td>    0.3214</td> <td>    0.229</td> <td>    1.406</td> <td> 0.160</td> <td>   -0.127</td> <td>    0.770</td>\n",
              "</tr>\n",
              "<tr>\n",
              "  <th>C(educacao, Treatment(2))[T.Superior completo]</th>    <td>    0.0962</td> <td>    0.028</td> <td>    3.455</td> <td> 0.001</td> <td>    0.042</td> <td>    0.151</td>\n",
              "</tr>\n",
              "<tr>\n",
              "  <th>C(educacao, Treatment(2))[T.Superior incompleto]</th>  <td>   -0.0646</td> <td>    0.064</td> <td>   -1.005</td> <td> 0.315</td> <td>   -0.191</td> <td>    0.061</td>\n",
              "</tr>\n",
              "<tr>\n",
              "  <th>C(estado_civil)[T.Separado]</th>                       <td>   -0.2918</td> <td>    0.514</td> <td>   -0.568</td> <td> 0.570</td> <td>   -1.299</td> <td>    0.715</td>\n",
              "</tr>\n",
              "<tr>\n",
              "  <th>C(estado_civil)[T.Solteiro]</th>                       <td>   -0.3522</td> <td>    0.509</td> <td>   -0.691</td> <td> 0.489</td> <td>   -1.351</td> <td>    0.647</td>\n",
              "</tr>\n",
              "<tr>\n",
              "  <th>C(estado_civil)[T.União]</th>                          <td>   -0.0245</td> <td>    0.052</td> <td>   -0.471</td> <td> 0.638</td> <td>   -0.126</td> <td>    0.077</td>\n",
              "</tr>\n",
              "<tr>\n",
              "  <th>C(estado_civil)[T.Viúvo]</th>                          <td>   -0.3537</td> <td>    0.517</td> <td>   -0.684</td> <td> 0.494</td> <td>   -1.368</td> <td>    0.660</td>\n",
              "</tr>\n",
              "<tr>\n",
              "  <th>C(tipo_residencia, Treatment(1))[T.Aluguel]</th>       <td>   -0.0480</td> <td>    0.101</td> <td>   -0.476</td> <td> 0.634</td> <td>   -0.246</td> <td>    0.150</td>\n",
              "</tr>\n",
              "<tr>\n",
              "  <th>C(tipo_residencia, Treatment(1))[T.Com os pais]</th>   <td>   -0.0064</td> <td>    0.058</td> <td>   -0.111</td> <td> 0.912</td> <td>   -0.120</td> <td>    0.107</td>\n",
              "</tr>\n",
              "<tr>\n",
              "  <th>C(tipo_residencia, Treatment(1))[T.Comunitário]</th>   <td>    0.0565</td> <td>    0.151</td> <td>    0.374</td> <td> 0.709</td> <td>   -0.240</td> <td>    0.353</td>\n",
              "</tr>\n",
              "<tr>\n",
              "  <th>C(tipo_residencia, Treatment(1))[T.Estúdio]</th>       <td>    0.4626</td> <td>    0.181</td> <td>    2.558</td> <td> 0.011</td> <td>    0.108</td> <td>    0.817</td>\n",
              "</tr>\n",
              "<tr>\n",
              "  <th>C(tipo_residencia, Treatment(1))[T.Governamental]</th> <td>    0.0124</td> <td>    0.078</td> <td>    0.158</td> <td> 0.874</td> <td>   -0.141</td> <td>    0.166</td>\n",
              "</tr>\n",
              "<tr>\n",
              "  <th>qtd_filhos</th>                                        <td>    0.3416</td> <td>    0.511</td> <td>    0.668</td> <td> 0.504</td> <td>   -0.660</td> <td>    1.344</td>\n",
              "</tr>\n",
              "<tr>\n",
              "  <th>idade</th>                                             <td>    0.0049</td> <td>    0.002</td> <td>    3.082</td> <td> 0.002</td> <td>    0.002</td> <td>    0.008</td>\n",
              "</tr>\n",
              "<tr>\n",
              "  <th>tempo_emprego</th>                                     <td>    0.0644</td> <td>    0.002</td> <td>   30.488</td> <td> 0.000</td> <td>    0.060</td> <td>    0.069</td>\n",
              "</tr>\n",
              "<tr>\n",
              "  <th>qt_pessoas_residencia</th>                             <td>   -0.3222</td> <td>    0.511</td> <td>   -0.631</td> <td> 0.528</td> <td>   -1.324</td> <td>    0.679</td>\n",
              "</tr>\n",
              "</table>\n",
              "<table class=\"simpletable\">\n",
              "<tr>\n",
              "  <th>Omnibus:</th>       <td> 0.307</td> <th>  Durbin-Watson:     </th> <td>   2.034</td>\n",
              "</tr>\n",
              "<tr>\n",
              "  <th>Prob(Omnibus):</th> <td> 0.858</td> <th>  Jarque-Bera (JB):  </th> <td>   0.358</td>\n",
              "</tr>\n",
              "<tr>\n",
              "  <th>Skew:</th>          <td> 0.012</td> <th>  Prob(JB):          </th> <td>   0.836</td>\n",
              "</tr>\n",
              "<tr>\n",
              "  <th>Kurtosis:</th>      <td> 2.953</td> <th>  Cond. No.          </th> <td>5.03e+03</td>\n",
              "</tr>\n",
              "</table><br/><br/>Notes:<br/>[1] Standard Errors assume that the covariance matrix of the errors is correctly specified.<br/>[2] The condition number is large, 5.03e+03. This might indicate that there are<br/>strong multicollinearity or other numerical problems."
            ],
            "text/latex": "\\begin{center}\n\\begin{tabular}{lclc}\n\\toprule\n\\textbf{Dep. Variable:}                                     &  np.log(renda)   & \\textbf{  R-squared:         } &     0.371   \\\\\n\\textbf{Model:}                                             &       OLS        & \\textbf{  Adj. R-squared:    } &     0.366   \\\\\n\\textbf{Method:}                                            &  Least Squares   & \\textbf{  F-statistic:       } &     75.81   \\\\\n\\textbf{Date:}                                              & Thu, 07 Mar 2024 & \\textbf{  Prob (F-statistic):} & 1.78e-288   \\\\\n\\textbf{Time:}                                              &     01:53:29     & \\textbf{  Log-Likelihood:    } &   -3369.0   \\\\\n\\textbf{No. Observations:}                                  &        3107      & \\textbf{  AIC:               } &     6788.   \\\\\n\\textbf{Df Residuals:}                                      &        3083      & \\textbf{  BIC:               } &     6939.   \\\\\n\\textbf{Df Model:}                                          &          24      & \\textbf{                     } &             \\\\\n\\textbf{Covariance Type:}                                   &    nonrobust     & \\textbf{                     } &             \\\\\n\\bottomrule\n\\end{tabular}\n\\begin{tabular}{lcccccc}\n                                                            & \\textbf{coef} & \\textbf{std err} & \\textbf{t} & \\textbf{P$> |$t$|$} & \\textbf{[0.025} & \\textbf{0.975]}  \\\\\n\\midrule\n\\textbf{Intercept}                                          &       7.7632  &        1.022     &     7.593  &         0.000        &        5.759    &        9.768     \\\\\n\\textbf{C(sexo)[T.M]}                                       &       0.7800  &        0.029     &    26.491  &         0.000        &        0.722    &        0.838     \\\\\n\\textbf{C(posse\\_de\\_veiculo)[T.True]}                      &       0.0940  &        0.029     &     3.279  &         0.001        &        0.038    &        0.150     \\\\\n\\textbf{C(posse\\_de\\_imovel)[T.True]}                       &       0.0542  &        0.028     &     1.954  &         0.051        &       -0.000    &        0.109     \\\\\n\\textbf{C(tipo\\_renda)[T.Empresário]}                       &       0.1231  &        0.029     &     4.189  &         0.000        &        0.065    &        0.181     \\\\\n\\textbf{C(tipo\\_renda)[T.Pensionista]}                      &      -0.2766  &        0.510     &    -0.543  &         0.587        &       -1.276    &        0.722     \\\\\n\\textbf{C(tipo\\_renda)[T.Servidor público]}                 &       0.0457  &        0.045     &     1.018  &         0.309        &       -0.042    &        0.134     \\\\\n\\textbf{C(educacao, Treatment(2))[T.Primário]}              &      -0.0329  &        0.143     &    -0.230  &         0.818        &       -0.313    &        0.247     \\\\\n\\textbf{C(educacao, Treatment(2))[T.Pós graduação]}         &       0.3214  &        0.229     &     1.406  &         0.160        &       -0.127    &        0.770     \\\\\n\\textbf{C(educacao, Treatment(2))[T.Superior completo]}     &       0.0962  &        0.028     &     3.455  &         0.001        &        0.042    &        0.151     \\\\\n\\textbf{C(educacao, Treatment(2))[T.Superior incompleto]}   &      -0.0646  &        0.064     &    -1.005  &         0.315        &       -0.191    &        0.061     \\\\\n\\textbf{C(estado\\_civil)[T.Separado]}                       &      -0.2918  &        0.514     &    -0.568  &         0.570        &       -1.299    &        0.715     \\\\\n\\textbf{C(estado\\_civil)[T.Solteiro]}                       &      -0.3522  &        0.509     &    -0.691  &         0.489        &       -1.351    &        0.647     \\\\\n\\textbf{C(estado\\_civil)[T.União]}                          &      -0.0245  &        0.052     &    -0.471  &         0.638        &       -0.126    &        0.077     \\\\\n\\textbf{C(estado\\_civil)[T.Viúvo]}                          &      -0.3537  &        0.517     &    -0.684  &         0.494        &       -1.368    &        0.660     \\\\\n\\textbf{C(tipo\\_residencia, Treatment(1))[T.Aluguel]}       &      -0.0480  &        0.101     &    -0.476  &         0.634        &       -0.246    &        0.150     \\\\\n\\textbf{C(tipo\\_residencia, Treatment(1))[T.Com os pais]}   &      -0.0064  &        0.058     &    -0.111  &         0.912        &       -0.120    &        0.107     \\\\\n\\textbf{C(tipo\\_residencia, Treatment(1))[T.Comunitário]}   &       0.0565  &        0.151     &     0.374  &         0.709        &       -0.240    &        0.353     \\\\\n\\textbf{C(tipo\\_residencia, Treatment(1))[T.Estúdio]}       &       0.4626  &        0.181     &     2.558  &         0.011        &        0.108    &        0.817     \\\\\n\\textbf{C(tipo\\_residencia, Treatment(1))[T.Governamental]} &       0.0124  &        0.078     &     0.158  &         0.874        &       -0.141    &        0.166     \\\\\n\\textbf{qtd\\_filhos}                                        &       0.3416  &        0.511     &     0.668  &         0.504        &       -0.660    &        1.344     \\\\\n\\textbf{idade}                                              &       0.0049  &        0.002     &     3.082  &         0.002        &        0.002    &        0.008     \\\\\n\\textbf{tempo\\_emprego}                                     &       0.0644  &        0.002     &    30.488  &         0.000        &        0.060    &        0.069     \\\\\n\\textbf{qt\\_pessoas\\_residencia}                            &      -0.3222  &        0.511     &    -0.631  &         0.528        &       -1.324    &        0.679     \\\\\n\\bottomrule\n\\end{tabular}\n\\begin{tabular}{lclc}\n\\textbf{Omnibus:}       &  0.307 & \\textbf{  Durbin-Watson:     } &    2.034  \\\\\n\\textbf{Prob(Omnibus):} &  0.858 & \\textbf{  Jarque-Bera (JB):  } &    0.358  \\\\\n\\textbf{Skew:}          &  0.012 & \\textbf{  Prob(JB):          } &    0.836  \\\\\n\\textbf{Kurtosis:}      &  2.953 & \\textbf{  Cond. No.          } & 5.03e+03  \\\\\n\\bottomrule\n\\end{tabular}\n%\\caption{OLS Regression Results}\n\\end{center}\n\nNotes: \\newline\n [1] Standard Errors assume that the covariance matrix of the errors is correctly specified. \\newline\n [2] The condition number is large, 5.03e+03. This might indicate that there are \\newline\n strong multicollinearity or other numerical problems."
          },
          "metadata": {},
          "execution_count": 8
        }
      ]
    },
    {
      "cell_type": "code",
      "source": [
        "# Calculando o logaritmo natural na variável renda\n",
        "X_test['log_renda']=np.log(X_test['renda'])"
      ],
      "metadata": {
        "id": "LHbNkSHcuZNB"
      },
      "execution_count": null,
      "outputs": []
    },
    {
      "cell_type": "code",
      "source": [
        "# Calculando a correlação R² do modelo\n",
        "X_test['pred'] = modelo.predict(X_test)\n",
        "r = X_test[['pred', 'log_renda']].corr().iloc[0,1]\n",
        "r**2"
      ],
      "metadata": {
        "colab": {
          "base_uri": "https://localhost:8080/"
        },
        "id": "8TXQw3HguV5r",
        "outputId": "25e57002-4d1a-4f76-f7be-cb7c0286e5b4"
      },
      "execution_count": null,
      "outputs": [
        {
          "output_type": "execute_result",
          "data": {
            "text/plain": [
              "0.37111763464791053"
            ]
          },
          "metadata": {},
          "execution_count": 10
        }
      ]
    },
    {
      "cell_type": "code",
      "source": [
        "# Cálculo de regressão do modelo_1 aplicado o \"elastic_net\" com alpha = 0,001\n",
        "modelo_1 = smf.ols(df_1, data = X_test).fit_regularized(method = 'elastic_net'\n",
        "                         , refit = True\n",
        "                         , L1_wt = 1\n",
        "                         , alpha = 0.001)\n",
        "\n",
        "# Exibindo o sumário do modelo\n",
        "modelo_1.summary()"
      ],
      "metadata": {
        "colab": {
          "base_uri": "https://localhost:8080/",
          "height": 957
        },
        "id": "ogtwpfXcrGmO",
        "outputId": "836b3e25-7158-459e-dcb4-e75391dabb1e"
      },
      "execution_count": null,
      "outputs": [
        {
          "output_type": "execute_result",
          "data": {
            "text/plain": [
              "<class 'statsmodels.iolib.summary.Summary'>\n",
              "\"\"\"\n",
              "                            OLS Regression Results                            \n",
              "==============================================================================\n",
              "Dep. Variable:          np.log(renda)   R-squared:                       0.370\n",
              "Model:                            OLS   Adj. R-squared:                  0.367\n",
              "Method:                 Least Squares   F-statistic:                     101.0\n",
              "Date:                Thu, 07 Mar 2024   Prob (F-statistic):          1.34e-293\n",
              "Time:                        01:53:45   Log-Likelihood:                -3370.8\n",
              "No. Observations:                3107   AIC:                             6780.\n",
              "Df Residuals:                    3089   BIC:                             6894.\n",
              "Df Model:                          18                                         \n",
              "Covariance Type:            nonrobust                                         \n",
              "=====================================================================================================================\n",
              "                                                        coef    std err          t      P>|t|      [0.025      0.975]\n",
              "---------------------------------------------------------------------------------------------------------------------\n",
              "Intercept                                             7.7350      1.021      7.573      0.000       5.732       9.738\n",
              "C(sexo)[T.M]                                          0.7783      0.029     26.464      0.000       0.721       0.836\n",
              "C(posse_de_veiculo)[T.True]                           0.0934      0.029      3.267      0.001       0.037       0.149\n",
              "C(posse_de_imovel)[T.True]                            0.0549      0.027      1.999      0.046       0.001       0.109\n",
              "C(tipo_renda)[T.Empresário]                           0.1188      0.029      4.144      0.000       0.063       0.175\n",
              "C(tipo_renda)[T.Pensionista]                               0          0        nan        nan           0           0\n",
              "C(tipo_renda)[T.Servidor público]                          0          0        nan        nan           0           0\n",
              "C(educacao, Treatment(2))[T.Primário]                      0          0        nan        nan           0           0\n",
              "C(educacao, Treatment(2))[T.Pós graduação]                 0          0        nan        nan           0           0\n",
              "C(educacao, Treatment(2))[T.Superior completo]        0.0969      0.028      3.518      0.000       0.043       0.151\n",
              "C(educacao, Treatment(2))[T.Superior incompleto]     -0.0663      0.064     -1.033      0.302      -0.192       0.060\n",
              "C(estado_civil)[T.Separado]                          -0.2764      0.513     -0.539      0.590      -1.282       0.730\n",
              "C(estado_civil)[T.Solteiro]                          -0.3340      0.509     -0.656      0.512      -1.332       0.664\n",
              "C(estado_civil)[T.União]                             -0.0262      0.052     -0.506      0.613      -0.128       0.075\n",
              "C(estado_civil)[T.Viúvo]                             -0.3340      0.516     -0.647      0.518      -1.347       0.679\n",
              "C(tipo_residencia, Treatment(1))[T.Aluguel]          -0.0517      0.101     -0.513      0.608      -0.249       0.146\n",
              "C(tipo_residencia, Treatment(1))[T.Com os pais]      -0.0091      0.058     -0.159      0.874      -0.122       0.104\n",
              "C(tipo_residencia, Treatment(1))[T.Comunitário]            0          0        nan        nan           0           0\n",
              "C(tipo_residencia, Treatment(1))[T.Estúdio]           0.4663      0.181      2.581      0.010       0.112       0.820\n",
              "C(tipo_residencia, Treatment(1))[T.Governamental]          0          0        nan        nan           0           0\n",
              "qtd_filhos                                            0.3243      0.510      0.635      0.525      -0.677       1.325\n",
              "idade                                                 0.0049      0.002      3.067      0.002       0.002       0.008\n",
              "tempo_emprego                                         0.0645      0.002     30.771      0.000       0.060       0.069\n",
              "qt_pessoas_residencia                                -0.3043      0.510     -0.596      0.551      -1.305       0.696\n",
              "==============================================================================\n",
              "Omnibus:                        0.358   Durbin-Watson:                   2.035\n",
              "Prob(Omnibus):                  0.836   Jarque-Bera (JB):                0.410\n",
              "Skew:                           0.015   Prob(JB):                        0.815\n",
              "Kurtosis:                       2.952   Cond. No.                     5.03e+03\n",
              "==============================================================================\n",
              "\n",
              "Notes:\n",
              "[1] Standard Errors assume that the covariance matrix of the errors is correctly specified.\n",
              "[2] The condition number is large, 5.03e+03. This might indicate that there are\n",
              "strong multicollinearity or other numerical problems.\n",
              "\"\"\""
            ],
            "text/html": [
              "<table class=\"simpletable\">\n",
              "<caption>OLS Regression Results</caption>\n",
              "<tr>\n",
              "  <th>Dep. Variable:</th>      <td>np.log(renda)</td>  <th>  R-squared:         </th> <td>   0.370</td> \n",
              "</tr>\n",
              "<tr>\n",
              "  <th>Model:</th>                   <td>OLS</td>       <th>  Adj. R-squared:    </th> <td>   0.367</td> \n",
              "</tr>\n",
              "<tr>\n",
              "  <th>Method:</th>             <td>Least Squares</td>  <th>  F-statistic:       </th> <td>   101.0</td> \n",
              "</tr>\n",
              "<tr>\n",
              "  <th>Date:</th>             <td>Thu, 07 Mar 2024</td> <th>  Prob (F-statistic):</th> <td>1.34e-293</td>\n",
              "</tr>\n",
              "<tr>\n",
              "  <th>Time:</th>                 <td>01:53:45</td>     <th>  Log-Likelihood:    </th> <td> -3370.8</td> \n",
              "</tr>\n",
              "<tr>\n",
              "  <th>No. Observations:</th>      <td>  3107</td>      <th>  AIC:               </th> <td>   6780.</td> \n",
              "</tr>\n",
              "<tr>\n",
              "  <th>Df Residuals:</th>          <td>  3089</td>      <th>  BIC:               </th> <td>   6894.</td> \n",
              "</tr>\n",
              "<tr>\n",
              "  <th>Df Model:</th>              <td>    18</td>      <th>                     </th>     <td> </td>    \n",
              "</tr>\n",
              "<tr>\n",
              "  <th>Covariance Type:</th>      <td>nonrobust</td>    <th>                     </th>     <td> </td>    \n",
              "</tr>\n",
              "</table>\n",
              "<table class=\"simpletable\">\n",
              "<tr>\n",
              "                          <td></td>                             <th>coef</th>     <th>std err</th>      <th>t</th>      <th>P>|t|</th>  <th>[0.025</th>    <th>0.975]</th>  \n",
              "</tr>\n",
              "<tr>\n",
              "  <th>Intercept</th>                                         <td>    7.7350</td> <td>    1.021</td> <td>    7.573</td> <td> 0.000</td> <td>    5.732</td> <td>    9.738</td>\n",
              "</tr>\n",
              "<tr>\n",
              "  <th>C(sexo)[T.M]</th>                                      <td>    0.7783</td> <td>    0.029</td> <td>   26.464</td> <td> 0.000</td> <td>    0.721</td> <td>    0.836</td>\n",
              "</tr>\n",
              "<tr>\n",
              "  <th>C(posse_de_veiculo)[T.True]</th>                       <td>    0.0934</td> <td>    0.029</td> <td>    3.267</td> <td> 0.001</td> <td>    0.037</td> <td>    0.149</td>\n",
              "</tr>\n",
              "<tr>\n",
              "  <th>C(posse_de_imovel)[T.True]</th>                        <td>    0.0549</td> <td>    0.027</td> <td>    1.999</td> <td> 0.046</td> <td>    0.001</td> <td>    0.109</td>\n",
              "</tr>\n",
              "<tr>\n",
              "  <th>C(tipo_renda)[T.Empresário]</th>                       <td>    0.1188</td> <td>    0.029</td> <td>    4.144</td> <td> 0.000</td> <td>    0.063</td> <td>    0.175</td>\n",
              "</tr>\n",
              "<tr>\n",
              "  <th>C(tipo_renda)[T.Pensionista]</th>                      <td>         0</td> <td>        0</td> <td>      nan</td> <td>   nan</td> <td>        0</td> <td>        0</td>\n",
              "</tr>\n",
              "<tr>\n",
              "  <th>C(tipo_renda)[T.Servidor público]</th>                 <td>         0</td> <td>        0</td> <td>      nan</td> <td>   nan</td> <td>        0</td> <td>        0</td>\n",
              "</tr>\n",
              "<tr>\n",
              "  <th>C(educacao, Treatment(2))[T.Primário]</th>             <td>         0</td> <td>        0</td> <td>      nan</td> <td>   nan</td> <td>        0</td> <td>        0</td>\n",
              "</tr>\n",
              "<tr>\n",
              "  <th>C(educacao, Treatment(2))[T.Pós graduação]</th>        <td>         0</td> <td>        0</td> <td>      nan</td> <td>   nan</td> <td>        0</td> <td>        0</td>\n",
              "</tr>\n",
              "<tr>\n",
              "  <th>C(educacao, Treatment(2))[T.Superior completo]</th>    <td>    0.0969</td> <td>    0.028</td> <td>    3.518</td> <td> 0.000</td> <td>    0.043</td> <td>    0.151</td>\n",
              "</tr>\n",
              "<tr>\n",
              "  <th>C(educacao, Treatment(2))[T.Superior incompleto]</th>  <td>   -0.0663</td> <td>    0.064</td> <td>   -1.033</td> <td> 0.302</td> <td>   -0.192</td> <td>    0.060</td>\n",
              "</tr>\n",
              "<tr>\n",
              "  <th>C(estado_civil)[T.Separado]</th>                       <td>   -0.2764</td> <td>    0.513</td> <td>   -0.539</td> <td> 0.590</td> <td>   -1.282</td> <td>    0.730</td>\n",
              "</tr>\n",
              "<tr>\n",
              "  <th>C(estado_civil)[T.Solteiro]</th>                       <td>   -0.3340</td> <td>    0.509</td> <td>   -0.656</td> <td> 0.512</td> <td>   -1.332</td> <td>    0.664</td>\n",
              "</tr>\n",
              "<tr>\n",
              "  <th>C(estado_civil)[T.União]</th>                          <td>   -0.0262</td> <td>    0.052</td> <td>   -0.506</td> <td> 0.613</td> <td>   -0.128</td> <td>    0.075</td>\n",
              "</tr>\n",
              "<tr>\n",
              "  <th>C(estado_civil)[T.Viúvo]</th>                          <td>   -0.3340</td> <td>    0.516</td> <td>   -0.647</td> <td> 0.518</td> <td>   -1.347</td> <td>    0.679</td>\n",
              "</tr>\n",
              "<tr>\n",
              "  <th>C(tipo_residencia, Treatment(1))[T.Aluguel]</th>       <td>   -0.0517</td> <td>    0.101</td> <td>   -0.513</td> <td> 0.608</td> <td>   -0.249</td> <td>    0.146</td>\n",
              "</tr>\n",
              "<tr>\n",
              "  <th>C(tipo_residencia, Treatment(1))[T.Com os pais]</th>   <td>   -0.0091</td> <td>    0.058</td> <td>   -0.159</td> <td> 0.874</td> <td>   -0.122</td> <td>    0.104</td>\n",
              "</tr>\n",
              "<tr>\n",
              "  <th>C(tipo_residencia, Treatment(1))[T.Comunitário]</th>   <td>         0</td> <td>        0</td> <td>      nan</td> <td>   nan</td> <td>        0</td> <td>        0</td>\n",
              "</tr>\n",
              "<tr>\n",
              "  <th>C(tipo_residencia, Treatment(1))[T.Estúdio]</th>       <td>    0.4663</td> <td>    0.181</td> <td>    2.581</td> <td> 0.010</td> <td>    0.112</td> <td>    0.820</td>\n",
              "</tr>\n",
              "<tr>\n",
              "  <th>C(tipo_residencia, Treatment(1))[T.Governamental]</th> <td>         0</td> <td>        0</td> <td>      nan</td> <td>   nan</td> <td>        0</td> <td>        0</td>\n",
              "</tr>\n",
              "<tr>\n",
              "  <th>qtd_filhos</th>                                        <td>    0.3243</td> <td>    0.510</td> <td>    0.635</td> <td> 0.525</td> <td>   -0.677</td> <td>    1.325</td>\n",
              "</tr>\n",
              "<tr>\n",
              "  <th>idade</th>                                             <td>    0.0049</td> <td>    0.002</td> <td>    3.067</td> <td> 0.002</td> <td>    0.002</td> <td>    0.008</td>\n",
              "</tr>\n",
              "<tr>\n",
              "  <th>tempo_emprego</th>                                     <td>    0.0645</td> <td>    0.002</td> <td>   30.771</td> <td> 0.000</td> <td>    0.060</td> <td>    0.069</td>\n",
              "</tr>\n",
              "<tr>\n",
              "  <th>qt_pessoas_residencia</th>                             <td>   -0.3043</td> <td>    0.510</td> <td>   -0.596</td> <td> 0.551</td> <td>   -1.305</td> <td>    0.696</td>\n",
              "</tr>\n",
              "</table>\n",
              "<table class=\"simpletable\">\n",
              "<tr>\n",
              "  <th>Omnibus:</th>       <td> 0.358</td> <th>  Durbin-Watson:     </th> <td>   2.035</td>\n",
              "</tr>\n",
              "<tr>\n",
              "  <th>Prob(Omnibus):</th> <td> 0.836</td> <th>  Jarque-Bera (JB):  </th> <td>   0.410</td>\n",
              "</tr>\n",
              "<tr>\n",
              "  <th>Skew:</th>          <td> 0.015</td> <th>  Prob(JB):          </th> <td>   0.815</td>\n",
              "</tr>\n",
              "<tr>\n",
              "  <th>Kurtosis:</th>      <td> 2.952</td> <th>  Cond. No.          </th> <td>5.03e+03</td>\n",
              "</tr>\n",
              "</table><br/><br/>Notes:<br/>[1] Standard Errors assume that the covariance matrix of the errors is correctly specified.<br/>[2] The condition number is large, 5.03e+03. This might indicate that there are<br/>strong multicollinearity or other numerical problems."
            ],
            "text/latex": "\\begin{center}\n\\begin{tabular}{lclc}\n\\toprule\n\\textbf{Dep. Variable:}                                     &  np.log(renda)   & \\textbf{  R-squared:         } &     0.370   \\\\\n\\textbf{Model:}                                             &       OLS        & \\textbf{  Adj. R-squared:    } &     0.367   \\\\\n\\textbf{Method:}                                            &  Least Squares   & \\textbf{  F-statistic:       } &     101.0   \\\\\n\\textbf{Date:}                                              & Thu, 07 Mar 2024 & \\textbf{  Prob (F-statistic):} & 1.34e-293   \\\\\n\\textbf{Time:}                                              &     01:53:45     & \\textbf{  Log-Likelihood:    } &   -3370.8   \\\\\n\\textbf{No. Observations:}                                  &        3107      & \\textbf{  AIC:               } &     6780.   \\\\\n\\textbf{Df Residuals:}                                      &        3089      & \\textbf{  BIC:               } &     6894.   \\\\\n\\textbf{Df Model:}                                          &          18      & \\textbf{                     } &             \\\\\n\\textbf{Covariance Type:}                                   &    nonrobust     & \\textbf{                     } &             \\\\\n\\bottomrule\n\\end{tabular}\n\\begin{tabular}{lcccccc}\n                                                            & \\textbf{coef} & \\textbf{std err} & \\textbf{t} & \\textbf{P$> |$t$|$} & \\textbf{[0.025} & \\textbf{0.975]}  \\\\\n\\midrule\n\\textbf{Intercept}                                          &       7.7350  &        1.021     &     7.573  &         0.000        &        5.732    &        9.738     \\\\\n\\textbf{C(sexo)[T.M]}                                       &       0.7783  &        0.029     &    26.464  &         0.000        &        0.721    &        0.836     \\\\\n\\textbf{C(posse\\_de\\_veiculo)[T.True]}                      &       0.0934  &        0.029     &     3.267  &         0.001        &        0.037    &        0.149     \\\\\n\\textbf{C(posse\\_de\\_imovel)[T.True]}                       &       0.0549  &        0.027     &     1.999  &         0.046        &        0.001    &        0.109     \\\\\n\\textbf{C(tipo\\_renda)[T.Empresário]}                       &       0.1188  &        0.029     &     4.144  &         0.000        &        0.063    &        0.175     \\\\\n\\textbf{C(tipo\\_renda)[T.Pensionista]}                      &            0  &            0     &       nan  &           nan        &            0    &            0     \\\\\n\\textbf{C(tipo\\_renda)[T.Servidor público]}                 &            0  &            0     &       nan  &           nan        &            0    &            0     \\\\\n\\textbf{C(educacao, Treatment(2))[T.Primário]}              &            0  &            0     &       nan  &           nan        &            0    &            0     \\\\\n\\textbf{C(educacao, Treatment(2))[T.Pós graduação]}         &            0  &            0     &       nan  &           nan        &            0    &            0     \\\\\n\\textbf{C(educacao, Treatment(2))[T.Superior completo]}     &       0.0969  &        0.028     &     3.518  &         0.000        &        0.043    &        0.151     \\\\\n\\textbf{C(educacao, Treatment(2))[T.Superior incompleto]}   &      -0.0663  &        0.064     &    -1.033  &         0.302        &       -0.192    &        0.060     \\\\\n\\textbf{C(estado\\_civil)[T.Separado]}                       &      -0.2764  &        0.513     &    -0.539  &         0.590        &       -1.282    &        0.730     \\\\\n\\textbf{C(estado\\_civil)[T.Solteiro]}                       &      -0.3340  &        0.509     &    -0.656  &         0.512        &       -1.332    &        0.664     \\\\\n\\textbf{C(estado\\_civil)[T.União]}                          &      -0.0262  &        0.052     &    -0.506  &         0.613        &       -0.128    &        0.075     \\\\\n\\textbf{C(estado\\_civil)[T.Viúvo]}                          &      -0.3340  &        0.516     &    -0.647  &         0.518        &       -1.347    &        0.679     \\\\\n\\textbf{C(tipo\\_residencia, Treatment(1))[T.Aluguel]}       &      -0.0517  &        0.101     &    -0.513  &         0.608        &       -0.249    &        0.146     \\\\\n\\textbf{C(tipo\\_residencia, Treatment(1))[T.Com os pais]}   &      -0.0091  &        0.058     &    -0.159  &         0.874        &       -0.122    &        0.104     \\\\\n\\textbf{C(tipo\\_residencia, Treatment(1))[T.Comunitário]}   &            0  &            0     &       nan  &           nan        &            0    &            0     \\\\\n\\textbf{C(tipo\\_residencia, Treatment(1))[T.Estúdio]}       &       0.4663  &        0.181     &     2.581  &         0.010        &        0.112    &        0.820     \\\\\n\\textbf{C(tipo\\_residencia, Treatment(1))[T.Governamental]} &            0  &            0     &       nan  &           nan        &            0    &            0     \\\\\n\\textbf{qtd\\_filhos}                                        &       0.3243  &        0.510     &     0.635  &         0.525        &       -0.677    &        1.325     \\\\\n\\textbf{idade}                                              &       0.0049  &        0.002     &     3.067  &         0.002        &        0.002    &        0.008     \\\\\n\\textbf{tempo\\_emprego}                                     &       0.0645  &        0.002     &    30.771  &         0.000        &        0.060    &        0.069     \\\\\n\\textbf{qt\\_pessoas\\_residencia}                            &      -0.3043  &        0.510     &    -0.596  &         0.551        &       -1.305    &        0.696     \\\\\n\\bottomrule\n\\end{tabular}\n\\begin{tabular}{lclc}\n\\textbf{Omnibus:}       &  0.358 & \\textbf{  Durbin-Watson:     } &    2.035  \\\\\n\\textbf{Prob(Omnibus):} &  0.836 & \\textbf{  Jarque-Bera (JB):  } &    0.410  \\\\\n\\textbf{Skew:}          &  0.015 & \\textbf{  Prob(JB):          } &    0.815  \\\\\n\\textbf{Kurtosis:}      &  2.952 & \\textbf{  Cond. No.          } & 5.03e+03  \\\\\n\\bottomrule\n\\end{tabular}\n%\\caption{OLS Regression Results}\n\\end{center}\n\nNotes: \\newline\n [1] Standard Errors assume that the covariance matrix of the errors is correctly specified. \\newline\n [2] The condition number is large, 5.03e+03. This might indicate that there are \\newline\n strong multicollinearity or other numerical problems."
          },
          "metadata": {},
          "execution_count": 11
        }
      ]
    },
    {
      "cell_type": "code",
      "source": [
        "# Calculando a correlação R² do modelo_1\n",
        "X_test['pred1'] = modelo_1.predict(X_test)\n",
        "r = X_test[['pred1', 'log_renda']].corr().iloc[0,1]\n",
        "r**2"
      ],
      "metadata": {
        "colab": {
          "base_uri": "https://localhost:8080/"
        },
        "id": "qFDP-u3hvesx",
        "outputId": "2403e723-7790-4041-cece-d98ee636fd46"
      },
      "execution_count": null,
      "outputs": [
        {
          "output_type": "execute_result",
          "data": {
            "text/plain": [
              "0.370396737345504"
            ]
          },
          "metadata": {},
          "execution_count": 12
        }
      ]
    },
    {
      "cell_type": "code",
      "source": [
        "# Cálculo de regressão do modelo_1 aplicado o \"elastic_net\" com alpha = 0,005\n",
        "modelo_2 = smf.ols(df_1, data = X_train).fit_regularized(method = 'elastic_net'\n",
        "                         , refit = True\n",
        "                         , L1_wt = 1\n",
        "                         , alpha = 0.005)\n",
        "\n",
        "# Exibindo o modelo\n",
        "modelo_2.summary()"
      ],
      "metadata": {
        "colab": {
          "base_uri": "https://localhost:8080/",
          "height": 957
        },
        "id": "ToM_42tasbh9",
        "outputId": "dcf91fd6-3a9f-46b3-dfd8-25907faeea7a"
      },
      "execution_count": null,
      "outputs": [
        {
          "output_type": "execute_result",
          "data": {
            "text/plain": [
              "<class 'statsmodels.iolib.summary.Summary'>\n",
              "\"\"\"\n",
              "                            OLS Regression Results                            \n",
              "==============================================================================\n",
              "Dep. Variable:          np.log(renda)   R-squared:                       0.361\n",
              "Model:                            OLS   Adj. R-squared:                  0.360\n",
              "Method:                 Least Squares   F-statistic:                     194.8\n",
              "Date:                Thu, 07 Mar 2024   Prob (F-statistic):          7.77e-294\n",
              "Time:                        01:53:52   Log-Likelihood:                -3392.9\n",
              "No. Observations:                3107   AIC:                             6806.\n",
              "Df Residuals:                    3098   BIC:                             6866.\n",
              "Df Model:                           9                                         \n",
              "Covariance Type:            nonrobust                                         \n",
              "=====================================================================================================================\n",
              "                                                        coef    std err          t      P>|t|      [0.025      0.975]\n",
              "---------------------------------------------------------------------------------------------------------------------\n",
              "Intercept                                             7.2462      0.115     63.028      0.000       7.021       7.472\n",
              "C(sexo)[T.M]                                          0.7694      0.029     26.212      0.000       0.712       0.827\n",
              "C(posse_de_veiculo)[T.True]                           0.1102      0.028      3.871      0.000       0.054       0.166\n",
              "C(posse_de_imovel)[T.True]                            0.0564      0.027      2.063      0.039       0.003       0.110\n",
              "C(tipo_renda)[T.Empresário]                                0          0        nan        nan           0           0\n",
              "C(tipo_renda)[T.Pensionista]                               0          0        nan        nan           0           0\n",
              "C(tipo_renda)[T.Servidor público]                          0          0        nan        nan           0           0\n",
              "C(educacao, Treatment(2))[T.Primário]                      0          0        nan        nan           0           0\n",
              "C(educacao, Treatment(2))[T.Pós graduação]                 0          0        nan        nan           0           0\n",
              "C(educacao, Treatment(2))[T.Superior completo]             0          0        nan        nan           0           0\n",
              "C(educacao, Treatment(2))[T.Superior incompleto]           0          0        nan        nan           0           0\n",
              "C(estado_civil)[T.Separado]                                0          0        nan        nan           0           0\n",
              "C(estado_civil)[T.Solteiro]                          -0.0320      0.057     -0.562      0.574      -0.144       0.080\n",
              "C(estado_civil)[T.União]                                   0          0        nan        nan           0           0\n",
              "C(estado_civil)[T.Viúvo]                                   0          0        nan        nan           0           0\n",
              "C(tipo_residencia, Treatment(1))[T.Aluguel]                0          0        nan        nan           0           0\n",
              "C(tipo_residencia, Treatment(1))[T.Com os pais]            0          0        nan        nan           0           0\n",
              "C(tipo_residencia, Treatment(1))[T.Comunitário]            0          0        nan        nan           0           0\n",
              "C(tipo_residencia, Treatment(1))[T.Estúdio]                0          0        nan        nan           0           0\n",
              "C(tipo_residencia, Treatment(1))[T.Governamental]          0          0        nan        nan           0           0\n",
              "qtd_filhos                                            0.0357      0.049      0.725      0.468      -0.061       0.132\n",
              "idade                                                 0.0043      0.002      2.806      0.005       0.001       0.007\n",
              "tempo_emprego                                         0.0642      0.002     30.533      0.000       0.060       0.068\n",
              "qt_pessoas_residencia                                -0.0168      0.046     -0.361      0.718      -0.108       0.074\n",
              "==============================================================================\n",
              "Omnibus:                        0.165   Durbin-Watson:                   2.032\n",
              "Prob(Omnibus):                  0.921   Jarque-Bera (JB):                0.173\n",
              "Skew:                           0.018   Prob(JB):                        0.917\n",
              "Kurtosis:                       2.991   Cond. No.                     5.03e+03\n",
              "==============================================================================\n",
              "\n",
              "Notes:\n",
              "[1] Standard Errors assume that the covariance matrix of the errors is correctly specified.\n",
              "[2] The condition number is large, 5.03e+03. This might indicate that there are\n",
              "strong multicollinearity or other numerical problems.\n",
              "\"\"\""
            ],
            "text/html": [
              "<table class=\"simpletable\">\n",
              "<caption>OLS Regression Results</caption>\n",
              "<tr>\n",
              "  <th>Dep. Variable:</th>      <td>np.log(renda)</td>  <th>  R-squared:         </th> <td>   0.361</td> \n",
              "</tr>\n",
              "<tr>\n",
              "  <th>Model:</th>                   <td>OLS</td>       <th>  Adj. R-squared:    </th> <td>   0.360</td> \n",
              "</tr>\n",
              "<tr>\n",
              "  <th>Method:</th>             <td>Least Squares</td>  <th>  F-statistic:       </th> <td>   194.8</td> \n",
              "</tr>\n",
              "<tr>\n",
              "  <th>Date:</th>             <td>Thu, 07 Mar 2024</td> <th>  Prob (F-statistic):</th> <td>7.77e-294</td>\n",
              "</tr>\n",
              "<tr>\n",
              "  <th>Time:</th>                 <td>01:53:52</td>     <th>  Log-Likelihood:    </th> <td> -3392.9</td> \n",
              "</tr>\n",
              "<tr>\n",
              "  <th>No. Observations:</th>      <td>  3107</td>      <th>  AIC:               </th> <td>   6806.</td> \n",
              "</tr>\n",
              "<tr>\n",
              "  <th>Df Residuals:</th>          <td>  3098</td>      <th>  BIC:               </th> <td>   6866.</td> \n",
              "</tr>\n",
              "<tr>\n",
              "  <th>Df Model:</th>              <td>     9</td>      <th>                     </th>     <td> </td>    \n",
              "</tr>\n",
              "<tr>\n",
              "  <th>Covariance Type:</th>      <td>nonrobust</td>    <th>                     </th>     <td> </td>    \n",
              "</tr>\n",
              "</table>\n",
              "<table class=\"simpletable\">\n",
              "<tr>\n",
              "                          <td></td>                             <th>coef</th>     <th>std err</th>      <th>t</th>      <th>P>|t|</th>  <th>[0.025</th>    <th>0.975]</th>  \n",
              "</tr>\n",
              "<tr>\n",
              "  <th>Intercept</th>                                         <td>    7.2462</td> <td>    0.115</td> <td>   63.028</td> <td> 0.000</td> <td>    7.021</td> <td>    7.472</td>\n",
              "</tr>\n",
              "<tr>\n",
              "  <th>C(sexo)[T.M]</th>                                      <td>    0.7694</td> <td>    0.029</td> <td>   26.212</td> <td> 0.000</td> <td>    0.712</td> <td>    0.827</td>\n",
              "</tr>\n",
              "<tr>\n",
              "  <th>C(posse_de_veiculo)[T.True]</th>                       <td>    0.1102</td> <td>    0.028</td> <td>    3.871</td> <td> 0.000</td> <td>    0.054</td> <td>    0.166</td>\n",
              "</tr>\n",
              "<tr>\n",
              "  <th>C(posse_de_imovel)[T.True]</th>                        <td>    0.0564</td> <td>    0.027</td> <td>    2.063</td> <td> 0.039</td> <td>    0.003</td> <td>    0.110</td>\n",
              "</tr>\n",
              "<tr>\n",
              "  <th>C(tipo_renda)[T.Empresário]</th>                       <td>         0</td> <td>        0</td> <td>      nan</td> <td>   nan</td> <td>        0</td> <td>        0</td>\n",
              "</tr>\n",
              "<tr>\n",
              "  <th>C(tipo_renda)[T.Pensionista]</th>                      <td>         0</td> <td>        0</td> <td>      nan</td> <td>   nan</td> <td>        0</td> <td>        0</td>\n",
              "</tr>\n",
              "<tr>\n",
              "  <th>C(tipo_renda)[T.Servidor público]</th>                 <td>         0</td> <td>        0</td> <td>      nan</td> <td>   nan</td> <td>        0</td> <td>        0</td>\n",
              "</tr>\n",
              "<tr>\n",
              "  <th>C(educacao, Treatment(2))[T.Primário]</th>             <td>         0</td> <td>        0</td> <td>      nan</td> <td>   nan</td> <td>        0</td> <td>        0</td>\n",
              "</tr>\n",
              "<tr>\n",
              "  <th>C(educacao, Treatment(2))[T.Pós graduação]</th>        <td>         0</td> <td>        0</td> <td>      nan</td> <td>   nan</td> <td>        0</td> <td>        0</td>\n",
              "</tr>\n",
              "<tr>\n",
              "  <th>C(educacao, Treatment(2))[T.Superior completo]</th>    <td>         0</td> <td>        0</td> <td>      nan</td> <td>   nan</td> <td>        0</td> <td>        0</td>\n",
              "</tr>\n",
              "<tr>\n",
              "  <th>C(educacao, Treatment(2))[T.Superior incompleto]</th>  <td>         0</td> <td>        0</td> <td>      nan</td> <td>   nan</td> <td>        0</td> <td>        0</td>\n",
              "</tr>\n",
              "<tr>\n",
              "  <th>C(estado_civil)[T.Separado]</th>                       <td>         0</td> <td>        0</td> <td>      nan</td> <td>   nan</td> <td>        0</td> <td>        0</td>\n",
              "</tr>\n",
              "<tr>\n",
              "  <th>C(estado_civil)[T.Solteiro]</th>                       <td>   -0.0320</td> <td>    0.057</td> <td>   -0.562</td> <td> 0.574</td> <td>   -0.144</td> <td>    0.080</td>\n",
              "</tr>\n",
              "<tr>\n",
              "  <th>C(estado_civil)[T.União]</th>                          <td>         0</td> <td>        0</td> <td>      nan</td> <td>   nan</td> <td>        0</td> <td>        0</td>\n",
              "</tr>\n",
              "<tr>\n",
              "  <th>C(estado_civil)[T.Viúvo]</th>                          <td>         0</td> <td>        0</td> <td>      nan</td> <td>   nan</td> <td>        0</td> <td>        0</td>\n",
              "</tr>\n",
              "<tr>\n",
              "  <th>C(tipo_residencia, Treatment(1))[T.Aluguel]</th>       <td>         0</td> <td>        0</td> <td>      nan</td> <td>   nan</td> <td>        0</td> <td>        0</td>\n",
              "</tr>\n",
              "<tr>\n",
              "  <th>C(tipo_residencia, Treatment(1))[T.Com os pais]</th>   <td>         0</td> <td>        0</td> <td>      nan</td> <td>   nan</td> <td>        0</td> <td>        0</td>\n",
              "</tr>\n",
              "<tr>\n",
              "  <th>C(tipo_residencia, Treatment(1))[T.Comunitário]</th>   <td>         0</td> <td>        0</td> <td>      nan</td> <td>   nan</td> <td>        0</td> <td>        0</td>\n",
              "</tr>\n",
              "<tr>\n",
              "  <th>C(tipo_residencia, Treatment(1))[T.Estúdio]</th>       <td>         0</td> <td>        0</td> <td>      nan</td> <td>   nan</td> <td>        0</td> <td>        0</td>\n",
              "</tr>\n",
              "<tr>\n",
              "  <th>C(tipo_residencia, Treatment(1))[T.Governamental]</th> <td>         0</td> <td>        0</td> <td>      nan</td> <td>   nan</td> <td>        0</td> <td>        0</td>\n",
              "</tr>\n",
              "<tr>\n",
              "  <th>qtd_filhos</th>                                        <td>    0.0357</td> <td>    0.049</td> <td>    0.725</td> <td> 0.468</td> <td>   -0.061</td> <td>    0.132</td>\n",
              "</tr>\n",
              "<tr>\n",
              "  <th>idade</th>                                             <td>    0.0043</td> <td>    0.002</td> <td>    2.806</td> <td> 0.005</td> <td>    0.001</td> <td>    0.007</td>\n",
              "</tr>\n",
              "<tr>\n",
              "  <th>tempo_emprego</th>                                     <td>    0.0642</td> <td>    0.002</td> <td>   30.533</td> <td> 0.000</td> <td>    0.060</td> <td>    0.068</td>\n",
              "</tr>\n",
              "<tr>\n",
              "  <th>qt_pessoas_residencia</th>                             <td>   -0.0168</td> <td>    0.046</td> <td>   -0.361</td> <td> 0.718</td> <td>   -0.108</td> <td>    0.074</td>\n",
              "</tr>\n",
              "</table>\n",
              "<table class=\"simpletable\">\n",
              "<tr>\n",
              "  <th>Omnibus:</th>       <td> 0.165</td> <th>  Durbin-Watson:     </th> <td>   2.032</td>\n",
              "</tr>\n",
              "<tr>\n",
              "  <th>Prob(Omnibus):</th> <td> 0.921</td> <th>  Jarque-Bera (JB):  </th> <td>   0.173</td>\n",
              "</tr>\n",
              "<tr>\n",
              "  <th>Skew:</th>          <td> 0.018</td> <th>  Prob(JB):          </th> <td>   0.917</td>\n",
              "</tr>\n",
              "<tr>\n",
              "  <th>Kurtosis:</th>      <td> 2.991</td> <th>  Cond. No.          </th> <td>5.03e+03</td>\n",
              "</tr>\n",
              "</table><br/><br/>Notes:<br/>[1] Standard Errors assume that the covariance matrix of the errors is correctly specified.<br/>[2] The condition number is large, 5.03e+03. This might indicate that there are<br/>strong multicollinearity or other numerical problems."
            ],
            "text/latex": "\\begin{center}\n\\begin{tabular}{lclc}\n\\toprule\n\\textbf{Dep. Variable:}                                     &  np.log(renda)   & \\textbf{  R-squared:         } &     0.361   \\\\\n\\textbf{Model:}                                             &       OLS        & \\textbf{  Adj. R-squared:    } &     0.360   \\\\\n\\textbf{Method:}                                            &  Least Squares   & \\textbf{  F-statistic:       } &     194.8   \\\\\n\\textbf{Date:}                                              & Thu, 07 Mar 2024 & \\textbf{  Prob (F-statistic):} & 7.77e-294   \\\\\n\\textbf{Time:}                                              &     01:53:52     & \\textbf{  Log-Likelihood:    } &   -3392.9   \\\\\n\\textbf{No. Observations:}                                  &        3107      & \\textbf{  AIC:               } &     6806.   \\\\\n\\textbf{Df Residuals:}                                      &        3098      & \\textbf{  BIC:               } &     6866.   \\\\\n\\textbf{Df Model:}                                          &           9      & \\textbf{                     } &             \\\\\n\\textbf{Covariance Type:}                                   &    nonrobust     & \\textbf{                     } &             \\\\\n\\bottomrule\n\\end{tabular}\n\\begin{tabular}{lcccccc}\n                                                            & \\textbf{coef} & \\textbf{std err} & \\textbf{t} & \\textbf{P$> |$t$|$} & \\textbf{[0.025} & \\textbf{0.975]}  \\\\\n\\midrule\n\\textbf{Intercept}                                          &       7.2462  &        0.115     &    63.028  &         0.000        &        7.021    &        7.472     \\\\\n\\textbf{C(sexo)[T.M]}                                       &       0.7694  &        0.029     &    26.212  &         0.000        &        0.712    &        0.827     \\\\\n\\textbf{C(posse\\_de\\_veiculo)[T.True]}                      &       0.1102  &        0.028     &     3.871  &         0.000        &        0.054    &        0.166     \\\\\n\\textbf{C(posse\\_de\\_imovel)[T.True]}                       &       0.0564  &        0.027     &     2.063  &         0.039        &        0.003    &        0.110     \\\\\n\\textbf{C(tipo\\_renda)[T.Empresário]}                       &            0  &            0     &       nan  &           nan        &            0    &            0     \\\\\n\\textbf{C(tipo\\_renda)[T.Pensionista]}                      &            0  &            0     &       nan  &           nan        &            0    &            0     \\\\\n\\textbf{C(tipo\\_renda)[T.Servidor público]}                 &            0  &            0     &       nan  &           nan        &            0    &            0     \\\\\n\\textbf{C(educacao, Treatment(2))[T.Primário]}              &            0  &            0     &       nan  &           nan        &            0    &            0     \\\\\n\\textbf{C(educacao, Treatment(2))[T.Pós graduação]}         &            0  &            0     &       nan  &           nan        &            0    &            0     \\\\\n\\textbf{C(educacao, Treatment(2))[T.Superior completo]}     &            0  &            0     &       nan  &           nan        &            0    &            0     \\\\\n\\textbf{C(educacao, Treatment(2))[T.Superior incompleto]}   &            0  &            0     &       nan  &           nan        &            0    &            0     \\\\\n\\textbf{C(estado\\_civil)[T.Separado]}                       &            0  &            0     &       nan  &           nan        &            0    &            0     \\\\\n\\textbf{C(estado\\_civil)[T.Solteiro]}                       &      -0.0320  &        0.057     &    -0.562  &         0.574        &       -0.144    &        0.080     \\\\\n\\textbf{C(estado\\_civil)[T.União]}                          &            0  &            0     &       nan  &           nan        &            0    &            0     \\\\\n\\textbf{C(estado\\_civil)[T.Viúvo]}                          &            0  &            0     &       nan  &           nan        &            0    &            0     \\\\\n\\textbf{C(tipo\\_residencia, Treatment(1))[T.Aluguel]}       &            0  &            0     &       nan  &           nan        &            0    &            0     \\\\\n\\textbf{C(tipo\\_residencia, Treatment(1))[T.Com os pais]}   &            0  &            0     &       nan  &           nan        &            0    &            0     \\\\\n\\textbf{C(tipo\\_residencia, Treatment(1))[T.Comunitário]}   &            0  &            0     &       nan  &           nan        &            0    &            0     \\\\\n\\textbf{C(tipo\\_residencia, Treatment(1))[T.Estúdio]}       &            0  &            0     &       nan  &           nan        &            0    &            0     \\\\\n\\textbf{C(tipo\\_residencia, Treatment(1))[T.Governamental]} &            0  &            0     &       nan  &           nan        &            0    &            0     \\\\\n\\textbf{qtd\\_filhos}                                        &       0.0357  &        0.049     &     0.725  &         0.468        &       -0.061    &        0.132     \\\\\n\\textbf{idade}                                              &       0.0043  &        0.002     &     2.806  &         0.005        &        0.001    &        0.007     \\\\\n\\textbf{tempo\\_emprego}                                     &       0.0642  &        0.002     &    30.533  &         0.000        &        0.060    &        0.068     \\\\\n\\textbf{qt\\_pessoas\\_residencia}                            &      -0.0168  &        0.046     &    -0.361  &         0.718        &       -0.108    &        0.074     \\\\\n\\bottomrule\n\\end{tabular}\n\\begin{tabular}{lclc}\n\\textbf{Omnibus:}       &  0.165 & \\textbf{  Durbin-Watson:     } &    2.032  \\\\\n\\textbf{Prob(Omnibus):} &  0.921 & \\textbf{  Jarque-Bera (JB):  } &    0.173  \\\\\n\\textbf{Skew:}          &  0.018 & \\textbf{  Prob(JB):          } &    0.917  \\\\\n\\textbf{Kurtosis:}      &  2.991 & \\textbf{  Cond. No.          } & 5.03e+03  \\\\\n\\bottomrule\n\\end{tabular}\n%\\caption{OLS Regression Results}\n\\end{center}\n\nNotes: \\newline\n [1] Standard Errors assume that the covariance matrix of the errors is correctly specified. \\newline\n [2] The condition number is large, 5.03e+03. This might indicate that there are \\newline\n strong multicollinearity or other numerical problems."
          },
          "metadata": {},
          "execution_count": 13
        }
      ]
    },
    {
      "cell_type": "code",
      "source": [
        "# Calculando a correlação R² do modelo_2\n",
        "X_test['pred2'] = modelo_2.predict(X_test)\n",
        "r = X_test[['pred2', 'log_renda']].corr().iloc[0,1]\n",
        "r**2"
      ],
      "metadata": {
        "colab": {
          "base_uri": "https://localhost:8080/"
        },
        "id": "9S4neZP6vo3_",
        "outputId": "1752d126-3233-4dd9-c260-aa7bdce643f9"
      },
      "execution_count": null,
      "outputs": [
        {
          "output_type": "execute_result",
          "data": {
            "text/plain": [
              "0.3613672317329217"
            ]
          },
          "metadata": {},
          "execution_count": 14
        }
      ]
    },
    {
      "cell_type": "code",
      "source": [
        "# Cálculo de regressão do modelo_1 aplicado o \"elastic_net\" com alpha = 0,01\n",
        "modelo_3 = smf.ols(df_1, data = X_test).fit_regularized(method = 'elastic_net'\n",
        "                         , refit = True\n",
        "                         , L1_wt = 1\n",
        "                         , alpha = 0.01)\n",
        "\n",
        "# Exibindo o modelo\n",
        "modelo_3.summary()"
      ],
      "metadata": {
        "colab": {
          "base_uri": "https://localhost:8080/",
          "height": 957
        },
        "id": "6P2fzdRMswbE",
        "outputId": "613feb85-28cb-4569-a892-e8695ebad095"
      },
      "execution_count": null,
      "outputs": [
        {
          "output_type": "execute_result",
          "data": {
            "text/plain": [
              "<class 'statsmodels.iolib.summary.Summary'>\n",
              "\"\"\"\n",
              "                            OLS Regression Results                            \n",
              "==============================================================================\n",
              "Dep. Variable:          np.log(renda)   R-squared:                       0.357\n",
              "Model:                            OLS   Adj. R-squared:                  0.356\n",
              "Method:                 Least Squares   F-statistic:                     344.7\n",
              "Date:                Thu, 07 Mar 2024   Prob (F-statistic):          2.30e-294\n",
              "Time:                        01:53:58   Log-Likelihood:                -3403.1\n",
              "No. Observations:                3107   AIC:                             6818.\n",
              "Df Residuals:                    3102   BIC:                             6854.\n",
              "Df Model:                           5                                         \n",
              "Covariance Type:            nonrobust                                         \n",
              "=====================================================================================================================\n",
              "                                                        coef    std err          t      P>|t|      [0.025      0.975]\n",
              "---------------------------------------------------------------------------------------------------------------------\n",
              "Intercept                                             7.2743      0.064    112.812      0.000       7.148       7.401\n",
              "C(sexo)[T.M]                                          0.8075      0.027     29.489      0.000       0.754       0.861\n",
              "C(posse_de_veiculo)[T.True]                                0          0        nan        nan           0           0\n",
              "C(posse_de_imovel)[T.True]                                 0          0        nan        nan           0           0\n",
              "C(tipo_renda)[T.Empresário]                                0          0        nan        nan           0           0\n",
              "C(tipo_renda)[T.Pensionista]                               0          0        nan        nan           0           0\n",
              "C(tipo_renda)[T.Servidor público]                          0          0        nan        nan           0           0\n",
              "C(educacao, Treatment(2))[T.Primário]                      0          0        nan        nan           0           0\n",
              "C(educacao, Treatment(2))[T.Pós graduação]                 0          0        nan        nan           0           0\n",
              "C(educacao, Treatment(2))[T.Superior completo]             0          0        nan        nan           0           0\n",
              "C(educacao, Treatment(2))[T.Superior incompleto]           0          0        nan        nan           0           0\n",
              "C(estado_civil)[T.Separado]                                0          0        nan        nan           0           0\n",
              "C(estado_civil)[T.Solteiro]                                0          0        nan        nan           0           0\n",
              "C(estado_civil)[T.União]                                   0          0        nan        nan           0           0\n",
              "C(estado_civil)[T.Viúvo]                                   0          0        nan        nan           0           0\n",
              "C(tipo_residencia, Treatment(1))[T.Aluguel]                0          0        nan        nan           0           0\n",
              "C(tipo_residencia, Treatment(1))[T.Com os pais]            0          0        nan        nan           0           0\n",
              "C(tipo_residencia, Treatment(1))[T.Comunitário]            0          0        nan        nan           0           0\n",
              "C(tipo_residencia, Treatment(1))[T.Estúdio]                0          0        nan        nan           0           0\n",
              "C(tipo_residencia, Treatment(1))[T.Governamental]          0          0        nan        nan           0           0\n",
              "qtd_filhos                                            0.0252      0.016      1.586      0.113      -0.006       0.056\n",
              "idade                                                 0.0045      0.002      2.987      0.003       0.002       0.008\n",
              "tempo_emprego                                         0.0636      0.002     30.263      0.000       0.060       0.068\n",
              "qt_pessoas_residencia                                      0          0        nan        nan           0           0\n",
              "==============================================================================\n",
              "Omnibus:                        0.267   Durbin-Watson:                   2.041\n",
              "Prob(Omnibus):                  0.875   Jarque-Bera (JB):                0.278\n",
              "Skew:                           0.022   Prob(JB):                        0.870\n",
              "Kurtosis:                       2.988   Cond. No.                     5.03e+03\n",
              "==============================================================================\n",
              "\n",
              "Notes:\n",
              "[1] Standard Errors assume that the covariance matrix of the errors is correctly specified.\n",
              "[2] The condition number is large, 5.03e+03. This might indicate that there are\n",
              "strong multicollinearity or other numerical problems.\n",
              "\"\"\""
            ],
            "text/html": [
              "<table class=\"simpletable\">\n",
              "<caption>OLS Regression Results</caption>\n",
              "<tr>\n",
              "  <th>Dep. Variable:</th>      <td>np.log(renda)</td>  <th>  R-squared:         </th> <td>   0.357</td> \n",
              "</tr>\n",
              "<tr>\n",
              "  <th>Model:</th>                   <td>OLS</td>       <th>  Adj. R-squared:    </th> <td>   0.356</td> \n",
              "</tr>\n",
              "<tr>\n",
              "  <th>Method:</th>             <td>Least Squares</td>  <th>  F-statistic:       </th> <td>   344.7</td> \n",
              "</tr>\n",
              "<tr>\n",
              "  <th>Date:</th>             <td>Thu, 07 Mar 2024</td> <th>  Prob (F-statistic):</th> <td>2.30e-294</td>\n",
              "</tr>\n",
              "<tr>\n",
              "  <th>Time:</th>                 <td>01:53:58</td>     <th>  Log-Likelihood:    </th> <td> -3403.1</td> \n",
              "</tr>\n",
              "<tr>\n",
              "  <th>No. Observations:</th>      <td>  3107</td>      <th>  AIC:               </th> <td>   6818.</td> \n",
              "</tr>\n",
              "<tr>\n",
              "  <th>Df Residuals:</th>          <td>  3102</td>      <th>  BIC:               </th> <td>   6854.</td> \n",
              "</tr>\n",
              "<tr>\n",
              "  <th>Df Model:</th>              <td>     5</td>      <th>                     </th>     <td> </td>    \n",
              "</tr>\n",
              "<tr>\n",
              "  <th>Covariance Type:</th>      <td>nonrobust</td>    <th>                     </th>     <td> </td>    \n",
              "</tr>\n",
              "</table>\n",
              "<table class=\"simpletable\">\n",
              "<tr>\n",
              "                          <td></td>                             <th>coef</th>     <th>std err</th>      <th>t</th>      <th>P>|t|</th>  <th>[0.025</th>    <th>0.975]</th>  \n",
              "</tr>\n",
              "<tr>\n",
              "  <th>Intercept</th>                                         <td>    7.2743</td> <td>    0.064</td> <td>  112.812</td> <td> 0.000</td> <td>    7.148</td> <td>    7.401</td>\n",
              "</tr>\n",
              "<tr>\n",
              "  <th>C(sexo)[T.M]</th>                                      <td>    0.8075</td> <td>    0.027</td> <td>   29.489</td> <td> 0.000</td> <td>    0.754</td> <td>    0.861</td>\n",
              "</tr>\n",
              "<tr>\n",
              "  <th>C(posse_de_veiculo)[T.True]</th>                       <td>         0</td> <td>        0</td> <td>      nan</td> <td>   nan</td> <td>        0</td> <td>        0</td>\n",
              "</tr>\n",
              "<tr>\n",
              "  <th>C(posse_de_imovel)[T.True]</th>                        <td>         0</td> <td>        0</td> <td>      nan</td> <td>   nan</td> <td>        0</td> <td>        0</td>\n",
              "</tr>\n",
              "<tr>\n",
              "  <th>C(tipo_renda)[T.Empresário]</th>                       <td>         0</td> <td>        0</td> <td>      nan</td> <td>   nan</td> <td>        0</td> <td>        0</td>\n",
              "</tr>\n",
              "<tr>\n",
              "  <th>C(tipo_renda)[T.Pensionista]</th>                      <td>         0</td> <td>        0</td> <td>      nan</td> <td>   nan</td> <td>        0</td> <td>        0</td>\n",
              "</tr>\n",
              "<tr>\n",
              "  <th>C(tipo_renda)[T.Servidor público]</th>                 <td>         0</td> <td>        0</td> <td>      nan</td> <td>   nan</td> <td>        0</td> <td>        0</td>\n",
              "</tr>\n",
              "<tr>\n",
              "  <th>C(educacao, Treatment(2))[T.Primário]</th>             <td>         0</td> <td>        0</td> <td>      nan</td> <td>   nan</td> <td>        0</td> <td>        0</td>\n",
              "</tr>\n",
              "<tr>\n",
              "  <th>C(educacao, Treatment(2))[T.Pós graduação]</th>        <td>         0</td> <td>        0</td> <td>      nan</td> <td>   nan</td> <td>        0</td> <td>        0</td>\n",
              "</tr>\n",
              "<tr>\n",
              "  <th>C(educacao, Treatment(2))[T.Superior completo]</th>    <td>         0</td> <td>        0</td> <td>      nan</td> <td>   nan</td> <td>        0</td> <td>        0</td>\n",
              "</tr>\n",
              "<tr>\n",
              "  <th>C(educacao, Treatment(2))[T.Superior incompleto]</th>  <td>         0</td> <td>        0</td> <td>      nan</td> <td>   nan</td> <td>        0</td> <td>        0</td>\n",
              "</tr>\n",
              "<tr>\n",
              "  <th>C(estado_civil)[T.Separado]</th>                       <td>         0</td> <td>        0</td> <td>      nan</td> <td>   nan</td> <td>        0</td> <td>        0</td>\n",
              "</tr>\n",
              "<tr>\n",
              "  <th>C(estado_civil)[T.Solteiro]</th>                       <td>         0</td> <td>        0</td> <td>      nan</td> <td>   nan</td> <td>        0</td> <td>        0</td>\n",
              "</tr>\n",
              "<tr>\n",
              "  <th>C(estado_civil)[T.União]</th>                          <td>         0</td> <td>        0</td> <td>      nan</td> <td>   nan</td> <td>        0</td> <td>        0</td>\n",
              "</tr>\n",
              "<tr>\n",
              "  <th>C(estado_civil)[T.Viúvo]</th>                          <td>         0</td> <td>        0</td> <td>      nan</td> <td>   nan</td> <td>        0</td> <td>        0</td>\n",
              "</tr>\n",
              "<tr>\n",
              "  <th>C(tipo_residencia, Treatment(1))[T.Aluguel]</th>       <td>         0</td> <td>        0</td> <td>      nan</td> <td>   nan</td> <td>        0</td> <td>        0</td>\n",
              "</tr>\n",
              "<tr>\n",
              "  <th>C(tipo_residencia, Treatment(1))[T.Com os pais]</th>   <td>         0</td> <td>        0</td> <td>      nan</td> <td>   nan</td> <td>        0</td> <td>        0</td>\n",
              "</tr>\n",
              "<tr>\n",
              "  <th>C(tipo_residencia, Treatment(1))[T.Comunitário]</th>   <td>         0</td> <td>        0</td> <td>      nan</td> <td>   nan</td> <td>        0</td> <td>        0</td>\n",
              "</tr>\n",
              "<tr>\n",
              "  <th>C(tipo_residencia, Treatment(1))[T.Estúdio]</th>       <td>         0</td> <td>        0</td> <td>      nan</td> <td>   nan</td> <td>        0</td> <td>        0</td>\n",
              "</tr>\n",
              "<tr>\n",
              "  <th>C(tipo_residencia, Treatment(1))[T.Governamental]</th> <td>         0</td> <td>        0</td> <td>      nan</td> <td>   nan</td> <td>        0</td> <td>        0</td>\n",
              "</tr>\n",
              "<tr>\n",
              "  <th>qtd_filhos</th>                                        <td>    0.0252</td> <td>    0.016</td> <td>    1.586</td> <td> 0.113</td> <td>   -0.006</td> <td>    0.056</td>\n",
              "</tr>\n",
              "<tr>\n",
              "  <th>idade</th>                                             <td>    0.0045</td> <td>    0.002</td> <td>    2.987</td> <td> 0.003</td> <td>    0.002</td> <td>    0.008</td>\n",
              "</tr>\n",
              "<tr>\n",
              "  <th>tempo_emprego</th>                                     <td>    0.0636</td> <td>    0.002</td> <td>   30.263</td> <td> 0.000</td> <td>    0.060</td> <td>    0.068</td>\n",
              "</tr>\n",
              "<tr>\n",
              "  <th>qt_pessoas_residencia</th>                             <td>         0</td> <td>        0</td> <td>      nan</td> <td>   nan</td> <td>        0</td> <td>        0</td>\n",
              "</tr>\n",
              "</table>\n",
              "<table class=\"simpletable\">\n",
              "<tr>\n",
              "  <th>Omnibus:</th>       <td> 0.267</td> <th>  Durbin-Watson:     </th> <td>   2.041</td>\n",
              "</tr>\n",
              "<tr>\n",
              "  <th>Prob(Omnibus):</th> <td> 0.875</td> <th>  Jarque-Bera (JB):  </th> <td>   0.278</td>\n",
              "</tr>\n",
              "<tr>\n",
              "  <th>Skew:</th>          <td> 0.022</td> <th>  Prob(JB):          </th> <td>   0.870</td>\n",
              "</tr>\n",
              "<tr>\n",
              "  <th>Kurtosis:</th>      <td> 2.988</td> <th>  Cond. No.          </th> <td>5.03e+03</td>\n",
              "</tr>\n",
              "</table><br/><br/>Notes:<br/>[1] Standard Errors assume that the covariance matrix of the errors is correctly specified.<br/>[2] The condition number is large, 5.03e+03. This might indicate that there are<br/>strong multicollinearity or other numerical problems."
            ],
            "text/latex": "\\begin{center}\n\\begin{tabular}{lclc}\n\\toprule\n\\textbf{Dep. Variable:}                                     &  np.log(renda)   & \\textbf{  R-squared:         } &     0.357   \\\\\n\\textbf{Model:}                                             &       OLS        & \\textbf{  Adj. R-squared:    } &     0.356   \\\\\n\\textbf{Method:}                                            &  Least Squares   & \\textbf{  F-statistic:       } &     344.7   \\\\\n\\textbf{Date:}                                              & Thu, 07 Mar 2024 & \\textbf{  Prob (F-statistic):} & 2.30e-294   \\\\\n\\textbf{Time:}                                              &     01:53:58     & \\textbf{  Log-Likelihood:    } &   -3403.1   \\\\\n\\textbf{No. Observations:}                                  &        3107      & \\textbf{  AIC:               } &     6818.   \\\\\n\\textbf{Df Residuals:}                                      &        3102      & \\textbf{  BIC:               } &     6854.   \\\\\n\\textbf{Df Model:}                                          &           5      & \\textbf{                     } &             \\\\\n\\textbf{Covariance Type:}                                   &    nonrobust     & \\textbf{                     } &             \\\\\n\\bottomrule\n\\end{tabular}\n\\begin{tabular}{lcccccc}\n                                                            & \\textbf{coef} & \\textbf{std err} & \\textbf{t} & \\textbf{P$> |$t$|$} & \\textbf{[0.025} & \\textbf{0.975]}  \\\\\n\\midrule\n\\textbf{Intercept}                                          &       7.2743  &        0.064     &   112.812  &         0.000        &        7.148    &        7.401     \\\\\n\\textbf{C(sexo)[T.M]}                                       &       0.8075  &        0.027     &    29.489  &         0.000        &        0.754    &        0.861     \\\\\n\\textbf{C(posse\\_de\\_veiculo)[T.True]}                      &            0  &            0     &       nan  &           nan        &            0    &            0     \\\\\n\\textbf{C(posse\\_de\\_imovel)[T.True]}                       &            0  &            0     &       nan  &           nan        &            0    &            0     \\\\\n\\textbf{C(tipo\\_renda)[T.Empresário]}                       &            0  &            0     &       nan  &           nan        &            0    &            0     \\\\\n\\textbf{C(tipo\\_renda)[T.Pensionista]}                      &            0  &            0     &       nan  &           nan        &            0    &            0     \\\\\n\\textbf{C(tipo\\_renda)[T.Servidor público]}                 &            0  &            0     &       nan  &           nan        &            0    &            0     \\\\\n\\textbf{C(educacao, Treatment(2))[T.Primário]}              &            0  &            0     &       nan  &           nan        &            0    &            0     \\\\\n\\textbf{C(educacao, Treatment(2))[T.Pós graduação]}         &            0  &            0     &       nan  &           nan        &            0    &            0     \\\\\n\\textbf{C(educacao, Treatment(2))[T.Superior completo]}     &            0  &            0     &       nan  &           nan        &            0    &            0     \\\\\n\\textbf{C(educacao, Treatment(2))[T.Superior incompleto]}   &            0  &            0     &       nan  &           nan        &            0    &            0     \\\\\n\\textbf{C(estado\\_civil)[T.Separado]}                       &            0  &            0     &       nan  &           nan        &            0    &            0     \\\\\n\\textbf{C(estado\\_civil)[T.Solteiro]}                       &            0  &            0     &       nan  &           nan        &            0    &            0     \\\\\n\\textbf{C(estado\\_civil)[T.União]}                          &            0  &            0     &       nan  &           nan        &            0    &            0     \\\\\n\\textbf{C(estado\\_civil)[T.Viúvo]}                          &            0  &            0     &       nan  &           nan        &            0    &            0     \\\\\n\\textbf{C(tipo\\_residencia, Treatment(1))[T.Aluguel]}       &            0  &            0     &       nan  &           nan        &            0    &            0     \\\\\n\\textbf{C(tipo\\_residencia, Treatment(1))[T.Com os pais]}   &            0  &            0     &       nan  &           nan        &            0    &            0     \\\\\n\\textbf{C(tipo\\_residencia, Treatment(1))[T.Comunitário]}   &            0  &            0     &       nan  &           nan        &            0    &            0     \\\\\n\\textbf{C(tipo\\_residencia, Treatment(1))[T.Estúdio]}       &            0  &            0     &       nan  &           nan        &            0    &            0     \\\\\n\\textbf{C(tipo\\_residencia, Treatment(1))[T.Governamental]} &            0  &            0     &       nan  &           nan        &            0    &            0     \\\\\n\\textbf{qtd\\_filhos}                                        &       0.0252  &        0.016     &     1.586  &         0.113        &       -0.006    &        0.056     \\\\\n\\textbf{idade}                                              &       0.0045  &        0.002     &     2.987  &         0.003        &        0.002    &        0.008     \\\\\n\\textbf{tempo\\_emprego}                                     &       0.0636  &        0.002     &    30.263  &         0.000        &        0.060    &        0.068     \\\\\n\\textbf{qt\\_pessoas\\_residencia}                            &            0  &            0     &       nan  &           nan        &            0    &            0     \\\\\n\\bottomrule\n\\end{tabular}\n\\begin{tabular}{lclc}\n\\textbf{Omnibus:}       &  0.267 & \\textbf{  Durbin-Watson:     } &    2.041  \\\\\n\\textbf{Prob(Omnibus):} &  0.875 & \\textbf{  Jarque-Bera (JB):  } &    0.278  \\\\\n\\textbf{Skew:}          &  0.022 & \\textbf{  Prob(JB):          } &    0.870  \\\\\n\\textbf{Kurtosis:}      &  2.988 & \\textbf{  Cond. No.          } & 5.03e+03  \\\\\n\\bottomrule\n\\end{tabular}\n%\\caption{OLS Regression Results}\n\\end{center}\n\nNotes: \\newline\n [1] Standard Errors assume that the covariance matrix of the errors is correctly specified. \\newline\n [2] The condition number is large, 5.03e+03. This might indicate that there are \\newline\n strong multicollinearity or other numerical problems."
          },
          "metadata": {},
          "execution_count": 15
        }
      ]
    },
    {
      "cell_type": "code",
      "source": [
        "# Calculando a correlação R² do modelo_3\n",
        "X_test['pred3'] = modelo_3.predict(X_test)\n",
        "r = X_test[['pred3', 'log_renda']].corr().iloc[0,1]\n",
        "r**2"
      ],
      "metadata": {
        "colab": {
          "base_uri": "https://localhost:8080/"
        },
        "id": "YddoTqYavz0A",
        "outputId": "7dfe297d-fe17-4cf3-8586-bb07cad3742a"
      },
      "execution_count": null,
      "outputs": [
        {
          "output_type": "execute_result",
          "data": {
            "text/plain": [
              "0.3571592860637756"
            ]
          },
          "metadata": {},
          "execution_count": 16
        }
      ]
    },
    {
      "cell_type": "code",
      "source": [
        "# Cálculo de regressão do modelo_1 aplicado o \"elastic_net\" com alpha = 0,05\n",
        "modelo_4 = smf.ols(df_1, data = X_test).fit_regularized(method = 'elastic_net'\n",
        "                         , refit = True\n",
        "                         , L1_wt = 1\n",
        "                         , alpha = 0.05)\n",
        "\n",
        "# Exibindo o modelo\n",
        "modelo_4.summary()"
      ],
      "metadata": {
        "colab": {
          "base_uri": "https://localhost:8080/",
          "height": 957
        },
        "id": "F5Jhdj0XtDYD",
        "outputId": "9215502c-f342-4028-83c0-3720c263b101"
      },
      "execution_count": null,
      "outputs": [
        {
          "output_type": "execute_result",
          "data": {
            "text/plain": [
              "<class 'statsmodels.iolib.summary.Summary'>\n",
              "\"\"\"\n",
              "                            OLS Regression Results                            \n",
              "==============================================================================\n",
              "Dep. Variable:          np.log(renda)   R-squared:                       0.357\n",
              "Model:                            OLS   Adj. R-squared:                  0.356\n",
              "Method:                 Least Squares   F-statistic:                     430.0\n",
              "Date:                Thu, 07 Mar 2024   Prob (F-statistic):          3.65e-295\n",
              "Time:                        01:54:05   Log-Likelihood:                -3404.3\n",
              "No. Observations:                3107   AIC:                             6819.\n",
              "Df Residuals:                    3103   BIC:                             6849.\n",
              "Df Model:                           4                                         \n",
              "Covariance Type:            nonrobust                                         \n",
              "=====================================================================================================================\n",
              "                                                        coef    std err          t      P>|t|      [0.025      0.975]\n",
              "---------------------------------------------------------------------------------------------------------------------\n",
              "Intercept                                             7.3115      0.060    121.659      0.000       7.194       7.429\n",
              "C(sexo)[T.M]                                          0.8092      0.027     29.563      0.000       0.756       0.863\n",
              "C(posse_de_veiculo)[T.True]                                0          0        nan        nan           0           0\n",
              "C(posse_de_imovel)[T.True]                                 0          0        nan        nan           0           0\n",
              "C(tipo_renda)[T.Empresário]                                0          0        nan        nan           0           0\n",
              "C(tipo_renda)[T.Pensionista]                               0          0        nan        nan           0           0\n",
              "C(tipo_renda)[T.Servidor público]                          0          0        nan        nan           0           0\n",
              "C(educacao, Treatment(2))[T.Primário]                      0          0        nan        nan           0           0\n",
              "C(educacao, Treatment(2))[T.Pós graduação]                 0          0        nan        nan           0           0\n",
              "C(educacao, Treatment(2))[T.Superior completo]             0          0        nan        nan           0           0\n",
              "C(educacao, Treatment(2))[T.Superior incompleto]           0          0        nan        nan           0           0\n",
              "C(estado_civil)[T.Separado]                                0          0        nan        nan           0           0\n",
              "C(estado_civil)[T.Solteiro]                                0          0        nan        nan           0           0\n",
              "C(estado_civil)[T.União]                                   0          0        nan        nan           0           0\n",
              "C(estado_civil)[T.Viúvo]                                   0          0        nan        nan           0           0\n",
              "C(tipo_residencia, Treatment(1))[T.Aluguel]                0          0        nan        nan           0           0\n",
              "C(tipo_residencia, Treatment(1))[T.Com os pais]            0          0        nan        nan           0           0\n",
              "C(tipo_residencia, Treatment(1))[T.Comunitário]            0          0        nan        nan           0           0\n",
              "C(tipo_residencia, Treatment(1))[T.Estúdio]                0          0        nan        nan           0           0\n",
              "C(tipo_residencia, Treatment(1))[T.Governamental]          0          0        nan        nan           0           0\n",
              "qtd_filhos                                                 0          0        nan        nan           0           0\n",
              "idade                                                 0.0039      0.001      2.665      0.008       0.001       0.007\n",
              "tempo_emprego                                         0.0638      0.002     30.351      0.000       0.060       0.068\n",
              "qt_pessoas_residencia                                      0          0        nan        nan           0           0\n",
              "==============================================================================\n",
              "Omnibus:                        0.193   Durbin-Watson:                   2.041\n",
              "Prob(Omnibus):                  0.908   Jarque-Bera (JB):                0.203\n",
              "Skew:                           0.019   Prob(JB):                        0.903\n",
              "Kurtosis:                       2.990   Cond. No.                     5.03e+03\n",
              "==============================================================================\n",
              "\n",
              "Notes:\n",
              "[1] Standard Errors assume that the covariance matrix of the errors is correctly specified.\n",
              "[2] The condition number is large, 5.03e+03. This might indicate that there are\n",
              "strong multicollinearity or other numerical problems.\n",
              "\"\"\""
            ],
            "text/html": [
              "<table class=\"simpletable\">\n",
              "<caption>OLS Regression Results</caption>\n",
              "<tr>\n",
              "  <th>Dep. Variable:</th>      <td>np.log(renda)</td>  <th>  R-squared:         </th> <td>   0.357</td> \n",
              "</tr>\n",
              "<tr>\n",
              "  <th>Model:</th>                   <td>OLS</td>       <th>  Adj. R-squared:    </th> <td>   0.356</td> \n",
              "</tr>\n",
              "<tr>\n",
              "  <th>Method:</th>             <td>Least Squares</td>  <th>  F-statistic:       </th> <td>   430.0</td> \n",
              "</tr>\n",
              "<tr>\n",
              "  <th>Date:</th>             <td>Thu, 07 Mar 2024</td> <th>  Prob (F-statistic):</th> <td>3.65e-295</td>\n",
              "</tr>\n",
              "<tr>\n",
              "  <th>Time:</th>                 <td>01:54:05</td>     <th>  Log-Likelihood:    </th> <td> -3404.3</td> \n",
              "</tr>\n",
              "<tr>\n",
              "  <th>No. Observations:</th>      <td>  3107</td>      <th>  AIC:               </th> <td>   6819.</td> \n",
              "</tr>\n",
              "<tr>\n",
              "  <th>Df Residuals:</th>          <td>  3103</td>      <th>  BIC:               </th> <td>   6849.</td> \n",
              "</tr>\n",
              "<tr>\n",
              "  <th>Df Model:</th>              <td>     4</td>      <th>                     </th>     <td> </td>    \n",
              "</tr>\n",
              "<tr>\n",
              "  <th>Covariance Type:</th>      <td>nonrobust</td>    <th>                     </th>     <td> </td>    \n",
              "</tr>\n",
              "</table>\n",
              "<table class=\"simpletable\">\n",
              "<tr>\n",
              "                          <td></td>                             <th>coef</th>     <th>std err</th>      <th>t</th>      <th>P>|t|</th>  <th>[0.025</th>    <th>0.975]</th>  \n",
              "</tr>\n",
              "<tr>\n",
              "  <th>Intercept</th>                                         <td>    7.3115</td> <td>    0.060</td> <td>  121.659</td> <td> 0.000</td> <td>    7.194</td> <td>    7.429</td>\n",
              "</tr>\n",
              "<tr>\n",
              "  <th>C(sexo)[T.M]</th>                                      <td>    0.8092</td> <td>    0.027</td> <td>   29.563</td> <td> 0.000</td> <td>    0.756</td> <td>    0.863</td>\n",
              "</tr>\n",
              "<tr>\n",
              "  <th>C(posse_de_veiculo)[T.True]</th>                       <td>         0</td> <td>        0</td> <td>      nan</td> <td>   nan</td> <td>        0</td> <td>        0</td>\n",
              "</tr>\n",
              "<tr>\n",
              "  <th>C(posse_de_imovel)[T.True]</th>                        <td>         0</td> <td>        0</td> <td>      nan</td> <td>   nan</td> <td>        0</td> <td>        0</td>\n",
              "</tr>\n",
              "<tr>\n",
              "  <th>C(tipo_renda)[T.Empresário]</th>                       <td>         0</td> <td>        0</td> <td>      nan</td> <td>   nan</td> <td>        0</td> <td>        0</td>\n",
              "</tr>\n",
              "<tr>\n",
              "  <th>C(tipo_renda)[T.Pensionista]</th>                      <td>         0</td> <td>        0</td> <td>      nan</td> <td>   nan</td> <td>        0</td> <td>        0</td>\n",
              "</tr>\n",
              "<tr>\n",
              "  <th>C(tipo_renda)[T.Servidor público]</th>                 <td>         0</td> <td>        0</td> <td>      nan</td> <td>   nan</td> <td>        0</td> <td>        0</td>\n",
              "</tr>\n",
              "<tr>\n",
              "  <th>C(educacao, Treatment(2))[T.Primário]</th>             <td>         0</td> <td>        0</td> <td>      nan</td> <td>   nan</td> <td>        0</td> <td>        0</td>\n",
              "</tr>\n",
              "<tr>\n",
              "  <th>C(educacao, Treatment(2))[T.Pós graduação]</th>        <td>         0</td> <td>        0</td> <td>      nan</td> <td>   nan</td> <td>        0</td> <td>        0</td>\n",
              "</tr>\n",
              "<tr>\n",
              "  <th>C(educacao, Treatment(2))[T.Superior completo]</th>    <td>         0</td> <td>        0</td> <td>      nan</td> <td>   nan</td> <td>        0</td> <td>        0</td>\n",
              "</tr>\n",
              "<tr>\n",
              "  <th>C(educacao, Treatment(2))[T.Superior incompleto]</th>  <td>         0</td> <td>        0</td> <td>      nan</td> <td>   nan</td> <td>        0</td> <td>        0</td>\n",
              "</tr>\n",
              "<tr>\n",
              "  <th>C(estado_civil)[T.Separado]</th>                       <td>         0</td> <td>        0</td> <td>      nan</td> <td>   nan</td> <td>        0</td> <td>        0</td>\n",
              "</tr>\n",
              "<tr>\n",
              "  <th>C(estado_civil)[T.Solteiro]</th>                       <td>         0</td> <td>        0</td> <td>      nan</td> <td>   nan</td> <td>        0</td> <td>        0</td>\n",
              "</tr>\n",
              "<tr>\n",
              "  <th>C(estado_civil)[T.União]</th>                          <td>         0</td> <td>        0</td> <td>      nan</td> <td>   nan</td> <td>        0</td> <td>        0</td>\n",
              "</tr>\n",
              "<tr>\n",
              "  <th>C(estado_civil)[T.Viúvo]</th>                          <td>         0</td> <td>        0</td> <td>      nan</td> <td>   nan</td> <td>        0</td> <td>        0</td>\n",
              "</tr>\n",
              "<tr>\n",
              "  <th>C(tipo_residencia, Treatment(1))[T.Aluguel]</th>       <td>         0</td> <td>        0</td> <td>      nan</td> <td>   nan</td> <td>        0</td> <td>        0</td>\n",
              "</tr>\n",
              "<tr>\n",
              "  <th>C(tipo_residencia, Treatment(1))[T.Com os pais]</th>   <td>         0</td> <td>        0</td> <td>      nan</td> <td>   nan</td> <td>        0</td> <td>        0</td>\n",
              "</tr>\n",
              "<tr>\n",
              "  <th>C(tipo_residencia, Treatment(1))[T.Comunitário]</th>   <td>         0</td> <td>        0</td> <td>      nan</td> <td>   nan</td> <td>        0</td> <td>        0</td>\n",
              "</tr>\n",
              "<tr>\n",
              "  <th>C(tipo_residencia, Treatment(1))[T.Estúdio]</th>       <td>         0</td> <td>        0</td> <td>      nan</td> <td>   nan</td> <td>        0</td> <td>        0</td>\n",
              "</tr>\n",
              "<tr>\n",
              "  <th>C(tipo_residencia, Treatment(1))[T.Governamental]</th> <td>         0</td> <td>        0</td> <td>      nan</td> <td>   nan</td> <td>        0</td> <td>        0</td>\n",
              "</tr>\n",
              "<tr>\n",
              "  <th>qtd_filhos</th>                                        <td>         0</td> <td>        0</td> <td>      nan</td> <td>   nan</td> <td>        0</td> <td>        0</td>\n",
              "</tr>\n",
              "<tr>\n",
              "  <th>idade</th>                                             <td>    0.0039</td> <td>    0.001</td> <td>    2.665</td> <td> 0.008</td> <td>    0.001</td> <td>    0.007</td>\n",
              "</tr>\n",
              "<tr>\n",
              "  <th>tempo_emprego</th>                                     <td>    0.0638</td> <td>    0.002</td> <td>   30.351</td> <td> 0.000</td> <td>    0.060</td> <td>    0.068</td>\n",
              "</tr>\n",
              "<tr>\n",
              "  <th>qt_pessoas_residencia</th>                             <td>         0</td> <td>        0</td> <td>      nan</td> <td>   nan</td> <td>        0</td> <td>        0</td>\n",
              "</tr>\n",
              "</table>\n",
              "<table class=\"simpletable\">\n",
              "<tr>\n",
              "  <th>Omnibus:</th>       <td> 0.193</td> <th>  Durbin-Watson:     </th> <td>   2.041</td>\n",
              "</tr>\n",
              "<tr>\n",
              "  <th>Prob(Omnibus):</th> <td> 0.908</td> <th>  Jarque-Bera (JB):  </th> <td>   0.203</td>\n",
              "</tr>\n",
              "<tr>\n",
              "  <th>Skew:</th>          <td> 0.019</td> <th>  Prob(JB):          </th> <td>   0.903</td>\n",
              "</tr>\n",
              "<tr>\n",
              "  <th>Kurtosis:</th>      <td> 2.990</td> <th>  Cond. No.          </th> <td>5.03e+03</td>\n",
              "</tr>\n",
              "</table><br/><br/>Notes:<br/>[1] Standard Errors assume that the covariance matrix of the errors is correctly specified.<br/>[2] The condition number is large, 5.03e+03. This might indicate that there are<br/>strong multicollinearity or other numerical problems."
            ],
            "text/latex": "\\begin{center}\n\\begin{tabular}{lclc}\n\\toprule\n\\textbf{Dep. Variable:}                                     &  np.log(renda)   & \\textbf{  R-squared:         } &     0.357   \\\\\n\\textbf{Model:}                                             &       OLS        & \\textbf{  Adj. R-squared:    } &     0.356   \\\\\n\\textbf{Method:}                                            &  Least Squares   & \\textbf{  F-statistic:       } &     430.0   \\\\\n\\textbf{Date:}                                              & Thu, 07 Mar 2024 & \\textbf{  Prob (F-statistic):} & 3.65e-295   \\\\\n\\textbf{Time:}                                              &     01:54:05     & \\textbf{  Log-Likelihood:    } &   -3404.3   \\\\\n\\textbf{No. Observations:}                                  &        3107      & \\textbf{  AIC:               } &     6819.   \\\\\n\\textbf{Df Residuals:}                                      &        3103      & \\textbf{  BIC:               } &     6849.   \\\\\n\\textbf{Df Model:}                                          &           4      & \\textbf{                     } &             \\\\\n\\textbf{Covariance Type:}                                   &    nonrobust     & \\textbf{                     } &             \\\\\n\\bottomrule\n\\end{tabular}\n\\begin{tabular}{lcccccc}\n                                                            & \\textbf{coef} & \\textbf{std err} & \\textbf{t} & \\textbf{P$> |$t$|$} & \\textbf{[0.025} & \\textbf{0.975]}  \\\\\n\\midrule\n\\textbf{Intercept}                                          &       7.3115  &        0.060     &   121.659  &         0.000        &        7.194    &        7.429     \\\\\n\\textbf{C(sexo)[T.M]}                                       &       0.8092  &        0.027     &    29.563  &         0.000        &        0.756    &        0.863     \\\\\n\\textbf{C(posse\\_de\\_veiculo)[T.True]}                      &            0  &            0     &       nan  &           nan        &            0    &            0     \\\\\n\\textbf{C(posse\\_de\\_imovel)[T.True]}                       &            0  &            0     &       nan  &           nan        &            0    &            0     \\\\\n\\textbf{C(tipo\\_renda)[T.Empresário]}                       &            0  &            0     &       nan  &           nan        &            0    &            0     \\\\\n\\textbf{C(tipo\\_renda)[T.Pensionista]}                      &            0  &            0     &       nan  &           nan        &            0    &            0     \\\\\n\\textbf{C(tipo\\_renda)[T.Servidor público]}                 &            0  &            0     &       nan  &           nan        &            0    &            0     \\\\\n\\textbf{C(educacao, Treatment(2))[T.Primário]}              &            0  &            0     &       nan  &           nan        &            0    &            0     \\\\\n\\textbf{C(educacao, Treatment(2))[T.Pós graduação]}         &            0  &            0     &       nan  &           nan        &            0    &            0     \\\\\n\\textbf{C(educacao, Treatment(2))[T.Superior completo]}     &            0  &            0     &       nan  &           nan        &            0    &            0     \\\\\n\\textbf{C(educacao, Treatment(2))[T.Superior incompleto]}   &            0  &            0     &       nan  &           nan        &            0    &            0     \\\\\n\\textbf{C(estado\\_civil)[T.Separado]}                       &            0  &            0     &       nan  &           nan        &            0    &            0     \\\\\n\\textbf{C(estado\\_civil)[T.Solteiro]}                       &            0  &            0     &       nan  &           nan        &            0    &            0     \\\\\n\\textbf{C(estado\\_civil)[T.União]}                          &            0  &            0     &       nan  &           nan        &            0    &            0     \\\\\n\\textbf{C(estado\\_civil)[T.Viúvo]}                          &            0  &            0     &       nan  &           nan        &            0    &            0     \\\\\n\\textbf{C(tipo\\_residencia, Treatment(1))[T.Aluguel]}       &            0  &            0     &       nan  &           nan        &            0    &            0     \\\\\n\\textbf{C(tipo\\_residencia, Treatment(1))[T.Com os pais]}   &            0  &            0     &       nan  &           nan        &            0    &            0     \\\\\n\\textbf{C(tipo\\_residencia, Treatment(1))[T.Comunitário]}   &            0  &            0     &       nan  &           nan        &            0    &            0     \\\\\n\\textbf{C(tipo\\_residencia, Treatment(1))[T.Estúdio]}       &            0  &            0     &       nan  &           nan        &            0    &            0     \\\\\n\\textbf{C(tipo\\_residencia, Treatment(1))[T.Governamental]} &            0  &            0     &       nan  &           nan        &            0    &            0     \\\\\n\\textbf{qtd\\_filhos}                                        &            0  &            0     &       nan  &           nan        &            0    &            0     \\\\\n\\textbf{idade}                                              &       0.0039  &        0.001     &     2.665  &         0.008        &        0.001    &        0.007     \\\\\n\\textbf{tempo\\_emprego}                                     &       0.0638  &        0.002     &    30.351  &         0.000        &        0.060    &        0.068     \\\\\n\\textbf{qt\\_pessoas\\_residencia}                            &            0  &            0     &       nan  &           nan        &            0    &            0     \\\\\n\\bottomrule\n\\end{tabular}\n\\begin{tabular}{lclc}\n\\textbf{Omnibus:}       &  0.193 & \\textbf{  Durbin-Watson:     } &    2.041  \\\\\n\\textbf{Prob(Omnibus):} &  0.908 & \\textbf{  Jarque-Bera (JB):  } &    0.203  \\\\\n\\textbf{Skew:}          &  0.019 & \\textbf{  Prob(JB):          } &    0.903  \\\\\n\\textbf{Kurtosis:}      &  2.990 & \\textbf{  Cond. No.          } & 5.03e+03  \\\\\n\\bottomrule\n\\end{tabular}\n%\\caption{OLS Regression Results}\n\\end{center}\n\nNotes: \\newline\n [1] Standard Errors assume that the covariance matrix of the errors is correctly specified. \\newline\n [2] The condition number is large, 5.03e+03. This might indicate that there are \\newline\n strong multicollinearity or other numerical problems."
          },
          "metadata": {},
          "execution_count": 17
        }
      ]
    },
    {
      "cell_type": "code",
      "source": [
        "# Calculando a correlação R² do modelo_4\n",
        "X_test['pred4'] = modelo_4.predict(X_test)\n",
        "r = X_test[['pred4', 'log_renda']].corr().iloc[0,1]\n",
        "r**2"
      ],
      "metadata": {
        "colab": {
          "base_uri": "https://localhost:8080/"
        },
        "id": "zB-mKvSnv9lG",
        "outputId": "b5928bf5-3d1e-4163-d110-fd306e65c5d6"
      },
      "execution_count": null,
      "outputs": [
        {
          "output_type": "execute_result",
          "data": {
            "text/plain": [
              "0.3566377956841153"
            ]
          },
          "metadata": {},
          "execution_count": 18
        }
      ]
    },
    {
      "cell_type": "code",
      "source": [
        "# Cálculo de regressão do modelo_1 aplicado o \"elastic_net\" com alpha = 0,1\n",
        "modelo_5 = smf.ols(df_1, data = X_test).fit_regularized(method = 'elastic_net'\n",
        "                         , refit = True\n",
        "                         , L1_wt = 1\n",
        "                         , alpha = 0.1)\n",
        "\n",
        "# Exibindo o modelo\n",
        "modelo_5.summary()"
      ],
      "metadata": {
        "colab": {
          "base_uri": "https://localhost:8080/",
          "height": 957
        },
        "id": "Qm6btagstVUt",
        "outputId": "7a13b176-8a8c-480c-ac32-fecae7cc4a26"
      },
      "execution_count": null,
      "outputs": [
        {
          "output_type": "execute_result",
          "data": {
            "text/plain": [
              "<class 'statsmodels.iolib.summary.Summary'>\n",
              "\"\"\"\n",
              "                            OLS Regression Results                            \n",
              "==============================================================================\n",
              "Dep. Variable:          np.log(renda)   R-squared:                       0.357\n",
              "Model:                            OLS   Adj. R-squared:                  0.356\n",
              "Method:                 Least Squares   F-statistic:                     430.0\n",
              "Date:                Thu, 07 Mar 2024   Prob (F-statistic):          3.65e-295\n",
              "Time:                        01:54:13   Log-Likelihood:                -3404.3\n",
              "No. Observations:                3107   AIC:                             6819.\n",
              "Df Residuals:                    3103   BIC:                             6849.\n",
              "Df Model:                           4                                         \n",
              "Covariance Type:            nonrobust                                         \n",
              "=====================================================================================================================\n",
              "                                                        coef    std err          t      P>|t|      [0.025      0.975]\n",
              "---------------------------------------------------------------------------------------------------------------------\n",
              "Intercept                                             7.3115      0.060    121.659      0.000       7.194       7.429\n",
              "C(sexo)[T.M]                                          0.8092      0.027     29.563      0.000       0.756       0.863\n",
              "C(posse_de_veiculo)[T.True]                                0          0        nan        nan           0           0\n",
              "C(posse_de_imovel)[T.True]                                 0          0        nan        nan           0           0\n",
              "C(tipo_renda)[T.Empresário]                                0          0        nan        nan           0           0\n",
              "C(tipo_renda)[T.Pensionista]                               0          0        nan        nan           0           0\n",
              "C(tipo_renda)[T.Servidor público]                          0          0        nan        nan           0           0\n",
              "C(educacao, Treatment(2))[T.Primário]                      0          0        nan        nan           0           0\n",
              "C(educacao, Treatment(2))[T.Pós graduação]                 0          0        nan        nan           0           0\n",
              "C(educacao, Treatment(2))[T.Superior completo]             0          0        nan        nan           0           0\n",
              "C(educacao, Treatment(2))[T.Superior incompleto]           0          0        nan        nan           0           0\n",
              "C(estado_civil)[T.Separado]                                0          0        nan        nan           0           0\n",
              "C(estado_civil)[T.Solteiro]                                0          0        nan        nan           0           0\n",
              "C(estado_civil)[T.União]                                   0          0        nan        nan           0           0\n",
              "C(estado_civil)[T.Viúvo]                                   0          0        nan        nan           0           0\n",
              "C(tipo_residencia, Treatment(1))[T.Aluguel]                0          0        nan        nan           0           0\n",
              "C(tipo_residencia, Treatment(1))[T.Com os pais]            0          0        nan        nan           0           0\n",
              "C(tipo_residencia, Treatment(1))[T.Comunitário]            0          0        nan        nan           0           0\n",
              "C(tipo_residencia, Treatment(1))[T.Estúdio]                0          0        nan        nan           0           0\n",
              "C(tipo_residencia, Treatment(1))[T.Governamental]          0          0        nan        nan           0           0\n",
              "qtd_filhos                                                 0          0        nan        nan           0           0\n",
              "idade                                                 0.0039      0.001      2.665      0.008       0.001       0.007\n",
              "tempo_emprego                                         0.0638      0.002     30.351      0.000       0.060       0.068\n",
              "qt_pessoas_residencia                                      0          0        nan        nan           0           0\n",
              "==============================================================================\n",
              "Omnibus:                        0.193   Durbin-Watson:                   2.041\n",
              "Prob(Omnibus):                  0.908   Jarque-Bera (JB):                0.203\n",
              "Skew:                           0.019   Prob(JB):                        0.903\n",
              "Kurtosis:                       2.990   Cond. No.                     5.03e+03\n",
              "==============================================================================\n",
              "\n",
              "Notes:\n",
              "[1] Standard Errors assume that the covariance matrix of the errors is correctly specified.\n",
              "[2] The condition number is large, 5.03e+03. This might indicate that there are\n",
              "strong multicollinearity or other numerical problems.\n",
              "\"\"\""
            ],
            "text/html": [
              "<table class=\"simpletable\">\n",
              "<caption>OLS Regression Results</caption>\n",
              "<tr>\n",
              "  <th>Dep. Variable:</th>      <td>np.log(renda)</td>  <th>  R-squared:         </th> <td>   0.357</td> \n",
              "</tr>\n",
              "<tr>\n",
              "  <th>Model:</th>                   <td>OLS</td>       <th>  Adj. R-squared:    </th> <td>   0.356</td> \n",
              "</tr>\n",
              "<tr>\n",
              "  <th>Method:</th>             <td>Least Squares</td>  <th>  F-statistic:       </th> <td>   430.0</td> \n",
              "</tr>\n",
              "<tr>\n",
              "  <th>Date:</th>             <td>Thu, 07 Mar 2024</td> <th>  Prob (F-statistic):</th> <td>3.65e-295</td>\n",
              "</tr>\n",
              "<tr>\n",
              "  <th>Time:</th>                 <td>01:54:13</td>     <th>  Log-Likelihood:    </th> <td> -3404.3</td> \n",
              "</tr>\n",
              "<tr>\n",
              "  <th>No. Observations:</th>      <td>  3107</td>      <th>  AIC:               </th> <td>   6819.</td> \n",
              "</tr>\n",
              "<tr>\n",
              "  <th>Df Residuals:</th>          <td>  3103</td>      <th>  BIC:               </th> <td>   6849.</td> \n",
              "</tr>\n",
              "<tr>\n",
              "  <th>Df Model:</th>              <td>     4</td>      <th>                     </th>     <td> </td>    \n",
              "</tr>\n",
              "<tr>\n",
              "  <th>Covariance Type:</th>      <td>nonrobust</td>    <th>                     </th>     <td> </td>    \n",
              "</tr>\n",
              "</table>\n",
              "<table class=\"simpletable\">\n",
              "<tr>\n",
              "                          <td></td>                             <th>coef</th>     <th>std err</th>      <th>t</th>      <th>P>|t|</th>  <th>[0.025</th>    <th>0.975]</th>  \n",
              "</tr>\n",
              "<tr>\n",
              "  <th>Intercept</th>                                         <td>    7.3115</td> <td>    0.060</td> <td>  121.659</td> <td> 0.000</td> <td>    7.194</td> <td>    7.429</td>\n",
              "</tr>\n",
              "<tr>\n",
              "  <th>C(sexo)[T.M]</th>                                      <td>    0.8092</td> <td>    0.027</td> <td>   29.563</td> <td> 0.000</td> <td>    0.756</td> <td>    0.863</td>\n",
              "</tr>\n",
              "<tr>\n",
              "  <th>C(posse_de_veiculo)[T.True]</th>                       <td>         0</td> <td>        0</td> <td>      nan</td> <td>   nan</td> <td>        0</td> <td>        0</td>\n",
              "</tr>\n",
              "<tr>\n",
              "  <th>C(posse_de_imovel)[T.True]</th>                        <td>         0</td> <td>        0</td> <td>      nan</td> <td>   nan</td> <td>        0</td> <td>        0</td>\n",
              "</tr>\n",
              "<tr>\n",
              "  <th>C(tipo_renda)[T.Empresário]</th>                       <td>         0</td> <td>        0</td> <td>      nan</td> <td>   nan</td> <td>        0</td> <td>        0</td>\n",
              "</tr>\n",
              "<tr>\n",
              "  <th>C(tipo_renda)[T.Pensionista]</th>                      <td>         0</td> <td>        0</td> <td>      nan</td> <td>   nan</td> <td>        0</td> <td>        0</td>\n",
              "</tr>\n",
              "<tr>\n",
              "  <th>C(tipo_renda)[T.Servidor público]</th>                 <td>         0</td> <td>        0</td> <td>      nan</td> <td>   nan</td> <td>        0</td> <td>        0</td>\n",
              "</tr>\n",
              "<tr>\n",
              "  <th>C(educacao, Treatment(2))[T.Primário]</th>             <td>         0</td> <td>        0</td> <td>      nan</td> <td>   nan</td> <td>        0</td> <td>        0</td>\n",
              "</tr>\n",
              "<tr>\n",
              "  <th>C(educacao, Treatment(2))[T.Pós graduação]</th>        <td>         0</td> <td>        0</td> <td>      nan</td> <td>   nan</td> <td>        0</td> <td>        0</td>\n",
              "</tr>\n",
              "<tr>\n",
              "  <th>C(educacao, Treatment(2))[T.Superior completo]</th>    <td>         0</td> <td>        0</td> <td>      nan</td> <td>   nan</td> <td>        0</td> <td>        0</td>\n",
              "</tr>\n",
              "<tr>\n",
              "  <th>C(educacao, Treatment(2))[T.Superior incompleto]</th>  <td>         0</td> <td>        0</td> <td>      nan</td> <td>   nan</td> <td>        0</td> <td>        0</td>\n",
              "</tr>\n",
              "<tr>\n",
              "  <th>C(estado_civil)[T.Separado]</th>                       <td>         0</td> <td>        0</td> <td>      nan</td> <td>   nan</td> <td>        0</td> <td>        0</td>\n",
              "</tr>\n",
              "<tr>\n",
              "  <th>C(estado_civil)[T.Solteiro]</th>                       <td>         0</td> <td>        0</td> <td>      nan</td> <td>   nan</td> <td>        0</td> <td>        0</td>\n",
              "</tr>\n",
              "<tr>\n",
              "  <th>C(estado_civil)[T.União]</th>                          <td>         0</td> <td>        0</td> <td>      nan</td> <td>   nan</td> <td>        0</td> <td>        0</td>\n",
              "</tr>\n",
              "<tr>\n",
              "  <th>C(estado_civil)[T.Viúvo]</th>                          <td>         0</td> <td>        0</td> <td>      nan</td> <td>   nan</td> <td>        0</td> <td>        0</td>\n",
              "</tr>\n",
              "<tr>\n",
              "  <th>C(tipo_residencia, Treatment(1))[T.Aluguel]</th>       <td>         0</td> <td>        0</td> <td>      nan</td> <td>   nan</td> <td>        0</td> <td>        0</td>\n",
              "</tr>\n",
              "<tr>\n",
              "  <th>C(tipo_residencia, Treatment(1))[T.Com os pais]</th>   <td>         0</td> <td>        0</td> <td>      nan</td> <td>   nan</td> <td>        0</td> <td>        0</td>\n",
              "</tr>\n",
              "<tr>\n",
              "  <th>C(tipo_residencia, Treatment(1))[T.Comunitário]</th>   <td>         0</td> <td>        0</td> <td>      nan</td> <td>   nan</td> <td>        0</td> <td>        0</td>\n",
              "</tr>\n",
              "<tr>\n",
              "  <th>C(tipo_residencia, Treatment(1))[T.Estúdio]</th>       <td>         0</td> <td>        0</td> <td>      nan</td> <td>   nan</td> <td>        0</td> <td>        0</td>\n",
              "</tr>\n",
              "<tr>\n",
              "  <th>C(tipo_residencia, Treatment(1))[T.Governamental]</th> <td>         0</td> <td>        0</td> <td>      nan</td> <td>   nan</td> <td>        0</td> <td>        0</td>\n",
              "</tr>\n",
              "<tr>\n",
              "  <th>qtd_filhos</th>                                        <td>         0</td> <td>        0</td> <td>      nan</td> <td>   nan</td> <td>        0</td> <td>        0</td>\n",
              "</tr>\n",
              "<tr>\n",
              "  <th>idade</th>                                             <td>    0.0039</td> <td>    0.001</td> <td>    2.665</td> <td> 0.008</td> <td>    0.001</td> <td>    0.007</td>\n",
              "</tr>\n",
              "<tr>\n",
              "  <th>tempo_emprego</th>                                     <td>    0.0638</td> <td>    0.002</td> <td>   30.351</td> <td> 0.000</td> <td>    0.060</td> <td>    0.068</td>\n",
              "</tr>\n",
              "<tr>\n",
              "  <th>qt_pessoas_residencia</th>                             <td>         0</td> <td>        0</td> <td>      nan</td> <td>   nan</td> <td>        0</td> <td>        0</td>\n",
              "</tr>\n",
              "</table>\n",
              "<table class=\"simpletable\">\n",
              "<tr>\n",
              "  <th>Omnibus:</th>       <td> 0.193</td> <th>  Durbin-Watson:     </th> <td>   2.041</td>\n",
              "</tr>\n",
              "<tr>\n",
              "  <th>Prob(Omnibus):</th> <td> 0.908</td> <th>  Jarque-Bera (JB):  </th> <td>   0.203</td>\n",
              "</tr>\n",
              "<tr>\n",
              "  <th>Skew:</th>          <td> 0.019</td> <th>  Prob(JB):          </th> <td>   0.903</td>\n",
              "</tr>\n",
              "<tr>\n",
              "  <th>Kurtosis:</th>      <td> 2.990</td> <th>  Cond. No.          </th> <td>5.03e+03</td>\n",
              "</tr>\n",
              "</table><br/><br/>Notes:<br/>[1] Standard Errors assume that the covariance matrix of the errors is correctly specified.<br/>[2] The condition number is large, 5.03e+03. This might indicate that there are<br/>strong multicollinearity or other numerical problems."
            ],
            "text/latex": "\\begin{center}\n\\begin{tabular}{lclc}\n\\toprule\n\\textbf{Dep. Variable:}                                     &  np.log(renda)   & \\textbf{  R-squared:         } &     0.357   \\\\\n\\textbf{Model:}                                             &       OLS        & \\textbf{  Adj. R-squared:    } &     0.356   \\\\\n\\textbf{Method:}                                            &  Least Squares   & \\textbf{  F-statistic:       } &     430.0   \\\\\n\\textbf{Date:}                                              & Thu, 07 Mar 2024 & \\textbf{  Prob (F-statistic):} & 3.65e-295   \\\\\n\\textbf{Time:}                                              &     01:54:13     & \\textbf{  Log-Likelihood:    } &   -3404.3   \\\\\n\\textbf{No. Observations:}                                  &        3107      & \\textbf{  AIC:               } &     6819.   \\\\\n\\textbf{Df Residuals:}                                      &        3103      & \\textbf{  BIC:               } &     6849.   \\\\\n\\textbf{Df Model:}                                          &           4      & \\textbf{                     } &             \\\\\n\\textbf{Covariance Type:}                                   &    nonrobust     & \\textbf{                     } &             \\\\\n\\bottomrule\n\\end{tabular}\n\\begin{tabular}{lcccccc}\n                                                            & \\textbf{coef} & \\textbf{std err} & \\textbf{t} & \\textbf{P$> |$t$|$} & \\textbf{[0.025} & \\textbf{0.975]}  \\\\\n\\midrule\n\\textbf{Intercept}                                          &       7.3115  &        0.060     &   121.659  &         0.000        &        7.194    &        7.429     \\\\\n\\textbf{C(sexo)[T.M]}                                       &       0.8092  &        0.027     &    29.563  &         0.000        &        0.756    &        0.863     \\\\\n\\textbf{C(posse\\_de\\_veiculo)[T.True]}                      &            0  &            0     &       nan  &           nan        &            0    &            0     \\\\\n\\textbf{C(posse\\_de\\_imovel)[T.True]}                       &            0  &            0     &       nan  &           nan        &            0    &            0     \\\\\n\\textbf{C(tipo\\_renda)[T.Empresário]}                       &            0  &            0     &       nan  &           nan        &            0    &            0     \\\\\n\\textbf{C(tipo\\_renda)[T.Pensionista]}                      &            0  &            0     &       nan  &           nan        &            0    &            0     \\\\\n\\textbf{C(tipo\\_renda)[T.Servidor público]}                 &            0  &            0     &       nan  &           nan        &            0    &            0     \\\\\n\\textbf{C(educacao, Treatment(2))[T.Primário]}              &            0  &            0     &       nan  &           nan        &            0    &            0     \\\\\n\\textbf{C(educacao, Treatment(2))[T.Pós graduação]}         &            0  &            0     &       nan  &           nan        &            0    &            0     \\\\\n\\textbf{C(educacao, Treatment(2))[T.Superior completo]}     &            0  &            0     &       nan  &           nan        &            0    &            0     \\\\\n\\textbf{C(educacao, Treatment(2))[T.Superior incompleto]}   &            0  &            0     &       nan  &           nan        &            0    &            0     \\\\\n\\textbf{C(estado\\_civil)[T.Separado]}                       &            0  &            0     &       nan  &           nan        &            0    &            0     \\\\\n\\textbf{C(estado\\_civil)[T.Solteiro]}                       &            0  &            0     &       nan  &           nan        &            0    &            0     \\\\\n\\textbf{C(estado\\_civil)[T.União]}                          &            0  &            0     &       nan  &           nan        &            0    &            0     \\\\\n\\textbf{C(estado\\_civil)[T.Viúvo]}                          &            0  &            0     &       nan  &           nan        &            0    &            0     \\\\\n\\textbf{C(tipo\\_residencia, Treatment(1))[T.Aluguel]}       &            0  &            0     &       nan  &           nan        &            0    &            0     \\\\\n\\textbf{C(tipo\\_residencia, Treatment(1))[T.Com os pais]}   &            0  &            0     &       nan  &           nan        &            0    &            0     \\\\\n\\textbf{C(tipo\\_residencia, Treatment(1))[T.Comunitário]}   &            0  &            0     &       nan  &           nan        &            0    &            0     \\\\\n\\textbf{C(tipo\\_residencia, Treatment(1))[T.Estúdio]}       &            0  &            0     &       nan  &           nan        &            0    &            0     \\\\\n\\textbf{C(tipo\\_residencia, Treatment(1))[T.Governamental]} &            0  &            0     &       nan  &           nan        &            0    &            0     \\\\\n\\textbf{qtd\\_filhos}                                        &            0  &            0     &       nan  &           nan        &            0    &            0     \\\\\n\\textbf{idade}                                              &       0.0039  &        0.001     &     2.665  &         0.008        &        0.001    &        0.007     \\\\\n\\textbf{tempo\\_emprego}                                     &       0.0638  &        0.002     &    30.351  &         0.000        &        0.060    &        0.068     \\\\\n\\textbf{qt\\_pessoas\\_residencia}                            &            0  &            0     &       nan  &           nan        &            0    &            0     \\\\\n\\bottomrule\n\\end{tabular}\n\\begin{tabular}{lclc}\n\\textbf{Omnibus:}       &  0.193 & \\textbf{  Durbin-Watson:     } &    2.041  \\\\\n\\textbf{Prob(Omnibus):} &  0.908 & \\textbf{  Jarque-Bera (JB):  } &    0.203  \\\\\n\\textbf{Skew:}          &  0.019 & \\textbf{  Prob(JB):          } &    0.903  \\\\\n\\textbf{Kurtosis:}      &  2.990 & \\textbf{  Cond. No.          } & 5.03e+03  \\\\\n\\bottomrule\n\\end{tabular}\n%\\caption{OLS Regression Results}\n\\end{center}\n\nNotes: \\newline\n [1] Standard Errors assume that the covariance matrix of the errors is correctly specified. \\newline\n [2] The condition number is large, 5.03e+03. This might indicate that there are \\newline\n strong multicollinearity or other numerical problems."
          },
          "metadata": {},
          "execution_count": 19
        }
      ]
    },
    {
      "cell_type": "code",
      "source": [
        "# Calculando a correlação R² do modelo_5\n",
        "X_test['pred5'] = modelo_5.predict(X_test)\n",
        "r = X_test[['pred5', 'log_renda']].corr().iloc[0,1]\n",
        "r**2"
      ],
      "metadata": {
        "colab": {
          "base_uri": "https://localhost:8080/"
        },
        "id": "GcYURB4GwFrV",
        "outputId": "175f5f10-4cae-43b0-80f3-5243adc62d80"
      },
      "execution_count": null,
      "outputs": [
        {
          "output_type": "execute_result",
          "data": {
            "text/plain": [
              "0.3566377956841153"
            ]
          },
          "metadata": {},
          "execution_count": 20
        }
      ]
    },
    {
      "cell_type": "markdown",
      "source": [
        "### 3. Faça o mesmo que no passo 2, com uma regressão LASSO. Qual método chega a um melhor resultado?"
      ],
      "metadata": {
        "id": "hY5-qKiiNE22"
      }
    },
    {
      "cell_type": "code",
      "source": [
        "# Defina uma lista de valores alpha para LASSO\n",
        "alphas = [0, 0.001, 0.005, 0.01, 0.05, 0.1]\n",
        "\n",
        "# Construa um pipeline para codificar variáveis categóricas e ajustar o modelo LASSO\n",
        "pipeline = Pipeline([\n",
        "    ('preprocessor', ColumnTransformer(\n",
        "        transformers=[\n",
        "            ('cat', OneHotEncoder(drop='first'), ['sexo', 'tipo_renda', 'educacao', 'estado_civil', 'tipo_residencia'])\n",
        "        ],\n",
        "        remainder='passthrough'\n",
        "    )),\n",
        "    ('lasso', Lasso())\n",
        "])\n",
        "\n",
        "# Inicialize uma variável para armazenar o melhor modelo e o melhor R²\n",
        "melhor_modelo_lasso = None\n",
        "melhor_r2_lasso = -float('inf')\n",
        "\n",
        "# Valores alpha\n",
        "for alpha in alphas:\n",
        "    # Defina o valor de alpha para o LASSO no pipeline\n",
        "    pipeline.set_params(lasso__alpha=alpha)\n",
        "\n",
        "    # Treine o modelo no pipeline\n",
        "    pipeline.fit(X_train, y_train)\n",
        "\n",
        "    # Faça previsões na base de teste\n",
        "    previsoes_lasso = pipeline.predict(X_test)\n",
        "\n",
        "    # Avalie o R²\n",
        "    r2_lasso = r2_score(y_test, previsoes_lasso)\n",
        "\n",
        "    # Verifique se este modelo é o melhor até agora\n",
        "    if r2_lasso > melhor_r2_lasso:\n",
        "        melhor_modelo_lasso = pipeline\n",
        "        melhor_r2_lasso = r2_lasso\n",
        "\n",
        "    print(f\"Alpha: {alpha}, R² (LASSO): {r2_lasso}\")\n",
        "\n",
        "print(f\"Melhor modelo (LASSO): {melhor_modelo_lasso}, Melhor R² (LASSO): {melhor_r2_lasso}\")\n"
      ],
      "metadata": {
        "colab": {
          "base_uri": "https://localhost:8080/"
        },
        "id": "AnDJEMYFxYHs",
        "outputId": "5223b75b-15ea-4bf0-ad8f-a897d53213f6"
      },
      "execution_count": null,
      "outputs": [
        {
          "output_type": "stream",
          "name": "stderr",
          "text": [
            "/usr/local/lib/python3.10/dist-packages/sklearn/pipeline.py:405: UserWarning: With alpha=0, this algorithm does not converge well. You are advised to use the LinearRegression estimator\n",
            "  self._final_estimator.fit(Xt, y, **fit_params_last_step)\n",
            "/usr/local/lib/python3.10/dist-packages/sklearn/linear_model/_coordinate_descent.py:631: UserWarning: Coordinate descent with no regularization may lead to unexpected results and is discouraged.\n",
            "  model = cd_fast.enet_coordinate_descent(\n"
          ]
        },
        {
          "output_type": "stream",
          "name": "stdout",
          "text": [
            "Alpha: 0, R² (LASSO): 0.999999999999991\n",
            "Alpha: 0.001, R² (LASSO): 1.0\n",
            "Alpha: 0.005, R² (LASSO): 1.0\n",
            "Alpha: 0.01, R² (LASSO): 1.0\n",
            "Alpha: 0.05, R² (LASSO): 1.0\n",
            "Alpha: 0.1, R² (LASSO): 1.0\n",
            "Melhor modelo (LASSO): Pipeline(steps=[('preprocessor',\n",
            "                 ColumnTransformer(remainder='passthrough',\n",
            "                                   transformers=[('cat',\n",
            "                                                  OneHotEncoder(drop='first'),\n",
            "                                                  ['sexo', 'tipo_renda',\n",
            "                                                   'educacao', 'estado_civil',\n",
            "                                                   'tipo_residencia'])])),\n",
            "                ('lasso', Lasso(alpha=0.1))]), Melhor R² (LASSO): 1.0\n"
          ]
        }
      ]
    },
    {
      "cell_type": "markdown",
      "source": [
        "### 4. Rode um modelo stepwise. Avalie o  R2  na vase de testes. Qual o melhor resultado?"
      ],
      "metadata": {
        "id": "yne_25CNNItN"
      }
    },
    {
      "cell_type": "code",
      "source": [
        "def stepwise_selection(X, y,\n",
        "                       initial_list=[],\n",
        "                       threshold_in=0.05,\n",
        "                       threshold_out = 0.05,\n",
        "                       verbose=True):\n",
        "    \"\"\" Perform a forward-backward feature selection\n",
        "    based on p-value from statsmodels.api.OLS\n",
        "    Arguments:\n",
        "        X - pandas.DataFrame with candidate features\n",
        "        y - list-like with the target\n",
        "        initial_list - list of features to start with (column names of X)\n",
        "        threshold_in - include a feature if its p-value < threshold_in\n",
        "        threshold_out - exclude a feature if its p-value > threshold_out\n",
        "        verbose - whether to print the sequence of inclusions and exclusions\n",
        "    Returns: list of selected features\n",
        "    Always set threshold_in < threshold_out to avoid infinite looping.\n",
        "    See https://en.wikipedia.org/wiki/Stepwise_regression for the details\n",
        "    \"\"\"\n",
        "    included = list(initial_list)\n",
        "    while True:\n",
        "        changed=False\n",
        "        # forward step\n",
        "        excluded = list(set(X.columns)-set(included))\n",
        "        new_pval = pd.Series(index=excluded, dtype=np.dtype('float64'))\n",
        "        for new_column in excluded:\n",
        "            model = sm.OLS(y, sm.add_constant(pd.DataFrame(X[included+[new_column]]))).fit()\n",
        "            new_pval[new_column] = model.pvalues[new_column]\n",
        "        best_pval = new_pval.min()\n",
        "        if best_pval < threshold_in:\n",
        "            best_feature = new_pval.index[new_pval.argmin()]\n",
        "            included.append(best_feature)\n",
        "            changed=True\n",
        "            if verbose:\n",
        "                 print('Add  {:30} with p-value {:.6}'.format(best_feature, best_pval))\n",
        "\n",
        "        # backward step\n",
        "        print(\"#############\")\n",
        "        print(included)\n",
        "        model = sm.OLS(y, sm.add_constant(pd.DataFrame(X[included]))).fit()\n",
        "        # use all coefs except intercept\n",
        "        pvalues = model.pvalues.iloc[1:]\n",
        "        worst_pval = pvalues.max() # null if pvalues is empty\n",
        "        if worst_pval > threshold_out:\n",
        "            changed=True\n",
        "            worst_feature = pvalues.argmax()\n",
        "            included.remove(worst_feature)\n",
        "            if verbose:\n",
        "                print('Drop {:30} with p-value {:.6}'.format(worst_feature, worst_pval))\n",
        "        if not changed:\n",
        "            break\n",
        "    return included"
      ],
      "metadata": {
        "id": "oz21H8R2N0gV"
      },
      "execution_count": null,
      "outputs": []
    },
    {
      "cell_type": "code",
      "source": [
        "# Remover linhas do dataframe que contenham valores nulos\n",
        "X_train_a = X_train.dropna()"
      ],
      "metadata": {
        "id": "_Ue5qeJEyS1a"
      },
      "execution_count": null,
      "outputs": []
    },
    {
      "cell_type": "code",
      "source": [
        "# Convertendo variáveis categóricas em variáveis dummy\n",
        "X_train_b = pd.get_dummies(X_train_a, columns=['sexo', 'posse_de_veiculo', 'posse_de_imovel', 'tipo_renda', 'educacao', 'estado_civil', 'tipo_residencia'], drop_first=True)\n",
        "\n",
        "# Visualizando dataframe\n",
        "X_train_b.head()"
      ],
      "metadata": {
        "colab": {
          "base_uri": "https://localhost:8080/",
          "height": 273
        },
        "id": "KecAPQKIyVBb",
        "outputId": "2c183797-d2d1-48ef-cc83-ab3ddf18fb81"
      },
      "execution_count": null,
      "outputs": [
        {
          "output_type": "execute_result",
          "data": {
            "text/plain": [
              "       qtd_filhos  idade  tempo_emprego  qt_pessoas_residencia     renda  \\\n",
              "10766           0     50       5.509589                    2.0   2255.09   \n",
              "936             1     23       1.158904                    3.0   4263.03   \n",
              "695             0     41       0.578082                    2.0    729.12   \n",
              "1389            1     37      11.969863                    3.0   2415.14   \n",
              "1846            0     56       6.353425                    2.0  13817.67   \n",
              "\n",
              "       sexo_M  posse_de_veiculo_True  posse_de_imovel_True  \\\n",
              "10766       0                      1                     1   \n",
              "936         1                      0                     1   \n",
              "695         1                      0                     0   \n",
              "1389        0                      1                     1   \n",
              "1846        0                      0                     1   \n",
              "\n",
              "       tipo_renda_Bolsista  tipo_renda_Empresário  ...  \\\n",
              "10766                    0                      0  ...   \n",
              "936                      0                      0  ...   \n",
              "695                      0                      0  ...   \n",
              "1389                     0                      0  ...   \n",
              "1846                     0                      0  ...   \n",
              "\n",
              "       educacao_Superior incompleto  estado_civil_Separado  \\\n",
              "10766                             0                      0   \n",
              "936                               0                      0   \n",
              "695                               0                      0   \n",
              "1389                              0                      0   \n",
              "1846                              0                      0   \n",
              "\n",
              "       estado_civil_Solteiro  estado_civil_União  estado_civil_Viúvo  \\\n",
              "10766                      0                   0                   0   \n",
              "936                        0                   0                   0   \n",
              "695                        0                   0                   0   \n",
              "1389                       0                   0                   0   \n",
              "1846                       0                   0                   0   \n",
              "\n",
              "       tipo_residencia_Casa  tipo_residencia_Com os pais  \\\n",
              "10766                     1                            0   \n",
              "936                       1                            0   \n",
              "695                       1                            0   \n",
              "1389                      1                            0   \n",
              "1846                      1                            0   \n",
              "\n",
              "       tipo_residencia_Comunitário  tipo_residencia_Estúdio  \\\n",
              "10766                            0                        0   \n",
              "936                              0                        0   \n",
              "695                              0                        0   \n",
              "1389                             0                        0   \n",
              "1846                             0                        0   \n",
              "\n",
              "       tipo_residencia_Governamental  \n",
              "10766                              0  \n",
              "936                                0  \n",
              "695                                0  \n",
              "1389                               0  \n",
              "1846                               0  \n",
              "\n",
              "[5 rows x 25 columns]"
            ],
            "text/html": [
              "\n",
              "  <div id=\"df-f3d7ee22-a576-4844-88da-e40a73d63982\" class=\"colab-df-container\">\n",
              "    <div>\n",
              "<style scoped>\n",
              "    .dataframe tbody tr th:only-of-type {\n",
              "        vertical-align: middle;\n",
              "    }\n",
              "\n",
              "    .dataframe tbody tr th {\n",
              "        vertical-align: top;\n",
              "    }\n",
              "\n",
              "    .dataframe thead th {\n",
              "        text-align: right;\n",
              "    }\n",
              "</style>\n",
              "<table border=\"1\" class=\"dataframe\">\n",
              "  <thead>\n",
              "    <tr style=\"text-align: right;\">\n",
              "      <th></th>\n",
              "      <th>qtd_filhos</th>\n",
              "      <th>idade</th>\n",
              "      <th>tempo_emprego</th>\n",
              "      <th>qt_pessoas_residencia</th>\n",
              "      <th>renda</th>\n",
              "      <th>sexo_M</th>\n",
              "      <th>posse_de_veiculo_True</th>\n",
              "      <th>posse_de_imovel_True</th>\n",
              "      <th>tipo_renda_Bolsista</th>\n",
              "      <th>tipo_renda_Empresário</th>\n",
              "      <th>...</th>\n",
              "      <th>educacao_Superior incompleto</th>\n",
              "      <th>estado_civil_Separado</th>\n",
              "      <th>estado_civil_Solteiro</th>\n",
              "      <th>estado_civil_União</th>\n",
              "      <th>estado_civil_Viúvo</th>\n",
              "      <th>tipo_residencia_Casa</th>\n",
              "      <th>tipo_residencia_Com os pais</th>\n",
              "      <th>tipo_residencia_Comunitário</th>\n",
              "      <th>tipo_residencia_Estúdio</th>\n",
              "      <th>tipo_residencia_Governamental</th>\n",
              "    </tr>\n",
              "  </thead>\n",
              "  <tbody>\n",
              "    <tr>\n",
              "      <th>10766</th>\n",
              "      <td>0</td>\n",
              "      <td>50</td>\n",
              "      <td>5.509589</td>\n",
              "      <td>2.0</td>\n",
              "      <td>2255.09</td>\n",
              "      <td>0</td>\n",
              "      <td>1</td>\n",
              "      <td>1</td>\n",
              "      <td>0</td>\n",
              "      <td>0</td>\n",
              "      <td>...</td>\n",
              "      <td>0</td>\n",
              "      <td>0</td>\n",
              "      <td>0</td>\n",
              "      <td>0</td>\n",
              "      <td>0</td>\n",
              "      <td>1</td>\n",
              "      <td>0</td>\n",
              "      <td>0</td>\n",
              "      <td>0</td>\n",
              "      <td>0</td>\n",
              "    </tr>\n",
              "    <tr>\n",
              "      <th>936</th>\n",
              "      <td>1</td>\n",
              "      <td>23</td>\n",
              "      <td>1.158904</td>\n",
              "      <td>3.0</td>\n",
              "      <td>4263.03</td>\n",
              "      <td>1</td>\n",
              "      <td>0</td>\n",
              "      <td>1</td>\n",
              "      <td>0</td>\n",
              "      <td>0</td>\n",
              "      <td>...</td>\n",
              "      <td>0</td>\n",
              "      <td>0</td>\n",
              "      <td>0</td>\n",
              "      <td>0</td>\n",
              "      <td>0</td>\n",
              "      <td>1</td>\n",
              "      <td>0</td>\n",
              "      <td>0</td>\n",
              "      <td>0</td>\n",
              "      <td>0</td>\n",
              "    </tr>\n",
              "    <tr>\n",
              "      <th>695</th>\n",
              "      <td>0</td>\n",
              "      <td>41</td>\n",
              "      <td>0.578082</td>\n",
              "      <td>2.0</td>\n",
              "      <td>729.12</td>\n",
              "      <td>1</td>\n",
              "      <td>0</td>\n",
              "      <td>0</td>\n",
              "      <td>0</td>\n",
              "      <td>0</td>\n",
              "      <td>...</td>\n",
              "      <td>0</td>\n",
              "      <td>0</td>\n",
              "      <td>0</td>\n",
              "      <td>0</td>\n",
              "      <td>0</td>\n",
              "      <td>1</td>\n",
              "      <td>0</td>\n",
              "      <td>0</td>\n",
              "      <td>0</td>\n",
              "      <td>0</td>\n",
              "    </tr>\n",
              "    <tr>\n",
              "      <th>1389</th>\n",
              "      <td>1</td>\n",
              "      <td>37</td>\n",
              "      <td>11.969863</td>\n",
              "      <td>3.0</td>\n",
              "      <td>2415.14</td>\n",
              "      <td>0</td>\n",
              "      <td>1</td>\n",
              "      <td>1</td>\n",
              "      <td>0</td>\n",
              "      <td>0</td>\n",
              "      <td>...</td>\n",
              "      <td>0</td>\n",
              "      <td>0</td>\n",
              "      <td>0</td>\n",
              "      <td>0</td>\n",
              "      <td>0</td>\n",
              "      <td>1</td>\n",
              "      <td>0</td>\n",
              "      <td>0</td>\n",
              "      <td>0</td>\n",
              "      <td>0</td>\n",
              "    </tr>\n",
              "    <tr>\n",
              "      <th>1846</th>\n",
              "      <td>0</td>\n",
              "      <td>56</td>\n",
              "      <td>6.353425</td>\n",
              "      <td>2.0</td>\n",
              "      <td>13817.67</td>\n",
              "      <td>0</td>\n",
              "      <td>0</td>\n",
              "      <td>1</td>\n",
              "      <td>0</td>\n",
              "      <td>0</td>\n",
              "      <td>...</td>\n",
              "      <td>0</td>\n",
              "      <td>0</td>\n",
              "      <td>0</td>\n",
              "      <td>0</td>\n",
              "      <td>0</td>\n",
              "      <td>1</td>\n",
              "      <td>0</td>\n",
              "      <td>0</td>\n",
              "      <td>0</td>\n",
              "      <td>0</td>\n",
              "    </tr>\n",
              "  </tbody>\n",
              "</table>\n",
              "<p>5 rows × 25 columns</p>\n",
              "</div>\n",
              "    <div class=\"colab-df-buttons\">\n",
              "\n",
              "  <div class=\"colab-df-container\">\n",
              "    <button class=\"colab-df-convert\" onclick=\"convertToInteractive('df-f3d7ee22-a576-4844-88da-e40a73d63982')\"\n",
              "            title=\"Convert this dataframe to an interactive table.\"\n",
              "            style=\"display:none;\">\n",
              "\n",
              "  <svg xmlns=\"http://www.w3.org/2000/svg\" height=\"24px\" viewBox=\"0 -960 960 960\">\n",
              "    <path d=\"M120-120v-720h720v720H120Zm60-500h600v-160H180v160Zm220 220h160v-160H400v160Zm0 220h160v-160H400v160ZM180-400h160v-160H180v160Zm440 0h160v-160H620v160ZM180-180h160v-160H180v160Zm440 0h160v-160H620v160Z\"/>\n",
              "  </svg>\n",
              "    </button>\n",
              "\n",
              "  <style>\n",
              "    .colab-df-container {\n",
              "      display:flex;\n",
              "      gap: 12px;\n",
              "    }\n",
              "\n",
              "    .colab-df-convert {\n",
              "      background-color: #E8F0FE;\n",
              "      border: none;\n",
              "      border-radius: 50%;\n",
              "      cursor: pointer;\n",
              "      display: none;\n",
              "      fill: #1967D2;\n",
              "      height: 32px;\n",
              "      padding: 0 0 0 0;\n",
              "      width: 32px;\n",
              "    }\n",
              "\n",
              "    .colab-df-convert:hover {\n",
              "      background-color: #E2EBFA;\n",
              "      box-shadow: 0px 1px 2px rgba(60, 64, 67, 0.3), 0px 1px 3px 1px rgba(60, 64, 67, 0.15);\n",
              "      fill: #174EA6;\n",
              "    }\n",
              "\n",
              "    .colab-df-buttons div {\n",
              "      margin-bottom: 4px;\n",
              "    }\n",
              "\n",
              "    [theme=dark] .colab-df-convert {\n",
              "      background-color: #3B4455;\n",
              "      fill: #D2E3FC;\n",
              "    }\n",
              "\n",
              "    [theme=dark] .colab-df-convert:hover {\n",
              "      background-color: #434B5C;\n",
              "      box-shadow: 0px 1px 3px 1px rgba(0, 0, 0, 0.15);\n",
              "      filter: drop-shadow(0px 1px 2px rgba(0, 0, 0, 0.3));\n",
              "      fill: #FFFFFF;\n",
              "    }\n",
              "  </style>\n",
              "\n",
              "    <script>\n",
              "      const buttonEl =\n",
              "        document.querySelector('#df-f3d7ee22-a576-4844-88da-e40a73d63982 button.colab-df-convert');\n",
              "      buttonEl.style.display =\n",
              "        google.colab.kernel.accessAllowed ? 'block' : 'none';\n",
              "\n",
              "      async function convertToInteractive(key) {\n",
              "        const element = document.querySelector('#df-f3d7ee22-a576-4844-88da-e40a73d63982');\n",
              "        const dataTable =\n",
              "          await google.colab.kernel.invokeFunction('convertToInteractive',\n",
              "                                                    [key], {});\n",
              "        if (!dataTable) return;\n",
              "\n",
              "        const docLinkHtml = 'Like what you see? Visit the ' +\n",
              "          '<a target=\"_blank\" href=https://colab.research.google.com/notebooks/data_table.ipynb>data table notebook</a>'\n",
              "          + ' to learn more about interactive tables.';\n",
              "        element.innerHTML = '';\n",
              "        dataTable['output_type'] = 'display_data';\n",
              "        await google.colab.output.renderOutput(dataTable, element);\n",
              "        const docLink = document.createElement('div');\n",
              "        docLink.innerHTML = docLinkHtml;\n",
              "        element.appendChild(docLink);\n",
              "      }\n",
              "    </script>\n",
              "  </div>\n",
              "\n",
              "\n",
              "<div id=\"df-9d58b2ae-0c25-4dc1-bee5-d7b9ddaebadd\">\n",
              "  <button class=\"colab-df-quickchart\" onclick=\"quickchart('df-9d58b2ae-0c25-4dc1-bee5-d7b9ddaebadd')\"\n",
              "            title=\"Suggest charts\"\n",
              "            style=\"display:none;\">\n",
              "\n",
              "<svg xmlns=\"http://www.w3.org/2000/svg\" height=\"24px\"viewBox=\"0 0 24 24\"\n",
              "     width=\"24px\">\n",
              "    <g>\n",
              "        <path d=\"M19 3H5c-1.1 0-2 .9-2 2v14c0 1.1.9 2 2 2h14c1.1 0 2-.9 2-2V5c0-1.1-.9-2-2-2zM9 17H7v-7h2v7zm4 0h-2V7h2v10zm4 0h-2v-4h2v4z\"/>\n",
              "    </g>\n",
              "</svg>\n",
              "  </button>\n",
              "\n",
              "<style>\n",
              "  .colab-df-quickchart {\n",
              "      --bg-color: #E8F0FE;\n",
              "      --fill-color: #1967D2;\n",
              "      --hover-bg-color: #E2EBFA;\n",
              "      --hover-fill-color: #174EA6;\n",
              "      --disabled-fill-color: #AAA;\n",
              "      --disabled-bg-color: #DDD;\n",
              "  }\n",
              "\n",
              "  [theme=dark] .colab-df-quickchart {\n",
              "      --bg-color: #3B4455;\n",
              "      --fill-color: #D2E3FC;\n",
              "      --hover-bg-color: #434B5C;\n",
              "      --hover-fill-color: #FFFFFF;\n",
              "      --disabled-bg-color: #3B4455;\n",
              "      --disabled-fill-color: #666;\n",
              "  }\n",
              "\n",
              "  .colab-df-quickchart {\n",
              "    background-color: var(--bg-color);\n",
              "    border: none;\n",
              "    border-radius: 50%;\n",
              "    cursor: pointer;\n",
              "    display: none;\n",
              "    fill: var(--fill-color);\n",
              "    height: 32px;\n",
              "    padding: 0;\n",
              "    width: 32px;\n",
              "  }\n",
              "\n",
              "  .colab-df-quickchart:hover {\n",
              "    background-color: var(--hover-bg-color);\n",
              "    box-shadow: 0 1px 2px rgba(60, 64, 67, 0.3), 0 1px 3px 1px rgba(60, 64, 67, 0.15);\n",
              "    fill: var(--button-hover-fill-color);\n",
              "  }\n",
              "\n",
              "  .colab-df-quickchart-complete:disabled,\n",
              "  .colab-df-quickchart-complete:disabled:hover {\n",
              "    background-color: var(--disabled-bg-color);\n",
              "    fill: var(--disabled-fill-color);\n",
              "    box-shadow: none;\n",
              "  }\n",
              "\n",
              "  .colab-df-spinner {\n",
              "    border: 2px solid var(--fill-color);\n",
              "    border-color: transparent;\n",
              "    border-bottom-color: var(--fill-color);\n",
              "    animation:\n",
              "      spin 1s steps(1) infinite;\n",
              "  }\n",
              "\n",
              "  @keyframes spin {\n",
              "    0% {\n",
              "      border-color: transparent;\n",
              "      border-bottom-color: var(--fill-color);\n",
              "      border-left-color: var(--fill-color);\n",
              "    }\n",
              "    20% {\n",
              "      border-color: transparent;\n",
              "      border-left-color: var(--fill-color);\n",
              "      border-top-color: var(--fill-color);\n",
              "    }\n",
              "    30% {\n",
              "      border-color: transparent;\n",
              "      border-left-color: var(--fill-color);\n",
              "      border-top-color: var(--fill-color);\n",
              "      border-right-color: var(--fill-color);\n",
              "    }\n",
              "    40% {\n",
              "      border-color: transparent;\n",
              "      border-right-color: var(--fill-color);\n",
              "      border-top-color: var(--fill-color);\n",
              "    }\n",
              "    60% {\n",
              "      border-color: transparent;\n",
              "      border-right-color: var(--fill-color);\n",
              "    }\n",
              "    80% {\n",
              "      border-color: transparent;\n",
              "      border-right-color: var(--fill-color);\n",
              "      border-bottom-color: var(--fill-color);\n",
              "    }\n",
              "    90% {\n",
              "      border-color: transparent;\n",
              "      border-bottom-color: var(--fill-color);\n",
              "    }\n",
              "  }\n",
              "</style>\n",
              "\n",
              "  <script>\n",
              "    async function quickchart(key) {\n",
              "      const quickchartButtonEl =\n",
              "        document.querySelector('#' + key + ' button');\n",
              "      quickchartButtonEl.disabled = true;  // To prevent multiple clicks.\n",
              "      quickchartButtonEl.classList.add('colab-df-spinner');\n",
              "      try {\n",
              "        const charts = await google.colab.kernel.invokeFunction(\n",
              "            'suggestCharts', [key], {});\n",
              "      } catch (error) {\n",
              "        console.error('Error during call to suggestCharts:', error);\n",
              "      }\n",
              "      quickchartButtonEl.classList.remove('colab-df-spinner');\n",
              "      quickchartButtonEl.classList.add('colab-df-quickchart-complete');\n",
              "    }\n",
              "    (() => {\n",
              "      let quickchartButtonEl =\n",
              "        document.querySelector('#df-9d58b2ae-0c25-4dc1-bee5-d7b9ddaebadd button');\n",
              "      quickchartButtonEl.style.display =\n",
              "        google.colab.kernel.accessAllowed ? 'block' : 'none';\n",
              "    })();\n",
              "  </script>\n",
              "</div>\n",
              "\n",
              "    </div>\n",
              "  </div>\n"
            ],
            "application/vnd.google.colaboratory.intrinsic+json": {
              "type": "dataframe",
              "variable_name": "X_train_b"
            }
          },
          "metadata": {},
          "execution_count": 27
        }
      ]
    },
    {
      "cell_type": "code",
      "source": [
        "# Exibindo colunas, quantidades e tipo das variáveis do dataframe\n",
        "X_train_a.info()"
      ],
      "metadata": {
        "colab": {
          "base_uri": "https://localhost:8080/"
        },
        "id": "ptFqweZkybFc",
        "outputId": "0352a98f-c63c-46e5-c9c7-7845bc4559f4"
      },
      "execution_count": null,
      "outputs": [
        {
          "output_type": "stream",
          "name": "stdout",
          "text": [
            "<class 'pandas.core.frame.DataFrame'>\n",
            "Int64Index: 9320 entries, 10766 to 8761\n",
            "Data columns (total 12 columns):\n",
            " #   Column                 Non-Null Count  Dtype  \n",
            "---  ------                 --------------  -----  \n",
            " 0   sexo                   9320 non-null   object \n",
            " 1   posse_de_veiculo       9320 non-null   bool   \n",
            " 2   posse_de_imovel        9320 non-null   bool   \n",
            " 3   qtd_filhos             9320 non-null   int64  \n",
            " 4   tipo_renda             9320 non-null   object \n",
            " 5   educacao               9320 non-null   object \n",
            " 6   estado_civil           9320 non-null   object \n",
            " 7   tipo_residencia        9320 non-null   object \n",
            " 8   idade                  9320 non-null   int64  \n",
            " 9   tempo_emprego          9320 non-null   float64\n",
            " 10  qt_pessoas_residencia  9320 non-null   float64\n",
            " 11  renda                  9320 non-null   float64\n",
            "dtypes: bool(2), float64(3), int64(2), object(5)\n",
            "memory usage: 819.1+ KB\n"
          ]
        }
      ]
    },
    {
      "cell_type": "code",
      "source": [
        "# Exibindo colunas, quantidades e tipo das variáveis do dataframe\n",
        "X_train_b.info()"
      ],
      "metadata": {
        "colab": {
          "base_uri": "https://localhost:8080/"
        },
        "id": "hqXK3t4tyeta",
        "outputId": "d7c50b4b-44e0-4462-8c51-0e7919768097"
      },
      "execution_count": null,
      "outputs": [
        {
          "output_type": "stream",
          "name": "stdout",
          "text": [
            "<class 'pandas.core.frame.DataFrame'>\n",
            "Int64Index: 9320 entries, 10766 to 8761\n",
            "Data columns (total 25 columns):\n",
            " #   Column                         Non-Null Count  Dtype  \n",
            "---  ------                         --------------  -----  \n",
            " 0   qtd_filhos                     9320 non-null   int64  \n",
            " 1   idade                          9320 non-null   int64  \n",
            " 2   tempo_emprego                  9320 non-null   float64\n",
            " 3   qt_pessoas_residencia          9320 non-null   float64\n",
            " 4   renda                          9320 non-null   float64\n",
            " 5   sexo_M                         9320 non-null   uint8  \n",
            " 6   posse_de_veiculo_True          9320 non-null   uint8  \n",
            " 7   posse_de_imovel_True           9320 non-null   uint8  \n",
            " 8   tipo_renda_Bolsista            9320 non-null   uint8  \n",
            " 9   tipo_renda_Empresário          9320 non-null   uint8  \n",
            " 10  tipo_renda_Pensionista         9320 non-null   uint8  \n",
            " 11  tipo_renda_Servidor público    9320 non-null   uint8  \n",
            " 12  educacao_Pós graduação         9320 non-null   uint8  \n",
            " 13  educacao_Secundário            9320 non-null   uint8  \n",
            " 14  educacao_Superior completo     9320 non-null   uint8  \n",
            " 15  educacao_Superior incompleto   9320 non-null   uint8  \n",
            " 16  estado_civil_Separado          9320 non-null   uint8  \n",
            " 17  estado_civil_Solteiro          9320 non-null   uint8  \n",
            " 18  estado_civil_União             9320 non-null   uint8  \n",
            " 19  estado_civil_Viúvo             9320 non-null   uint8  \n",
            " 20  tipo_residencia_Casa           9320 non-null   uint8  \n",
            " 21  tipo_residencia_Com os pais    9320 non-null   uint8  \n",
            " 22  tipo_residencia_Comunitário    9320 non-null   uint8  \n",
            " 23  tipo_residencia_Estúdio        9320 non-null   uint8  \n",
            " 24  tipo_residencia_Governamental  9320 non-null   uint8  \n",
            "dtypes: float64(3), int64(2), uint8(20)\n",
            "memory usage: 618.9 KB\n"
          ]
        }
      ]
    },
    {
      "cell_type": "code",
      "source": [
        "# Cria uma cópia do conjunto de treinamento X_train_b sem a coluna 'renda'\n",
        "X_train_c = X_train_b.drop(['renda'], axis=1)\n",
        "\n",
        "# Define y_train_a como a coluna 'renda' do conjunto de treinamento X_train_b\n",
        "y_train_a = X_train_b['renda']"
      ],
      "metadata": {
        "id": "uYURXtJ-ylSj"
      },
      "execution_count": null,
      "outputs": []
    },
    {
      "cell_type": "code",
      "source": [
        "# Executando o método de seleção de variáveis stepwise\n",
        "result = stepwise_selection(X = X_train_c,y = y_train_a)\n",
        "\n",
        "# Imprimindo as features selecionadas pelo método\n",
        "print('resulting features:')\n",
        "print(result)"
      ],
      "metadata": {
        "colab": {
          "base_uri": "https://localhost:8080/"
        },
        "id": "vX2oJ1jGynqq",
        "outputId": "ef99523f-324b-42a2-88e9-dd7b03c262db"
      },
      "execution_count": null,
      "outputs": [
        {
          "output_type": "stream",
          "name": "stdout",
          "text": [
            "Add  tempo_emprego                  with p-value 0.0\n",
            "#############\n",
            "['tempo_emprego']\n",
            "Add  sexo_M                         with p-value 1.26513e-242\n",
            "#############\n",
            "['tempo_emprego', 'sexo_M']\n",
            "Add  tipo_renda_Empresário          with p-value 4.12304e-06\n",
            "#############\n",
            "['tempo_emprego', 'sexo_M', 'tipo_renda_Empresário']\n",
            "Add  idade                          with p-value 2.37794e-05\n",
            "#############\n",
            "['tempo_emprego', 'sexo_M', 'tipo_renda_Empresário', 'idade']\n",
            "Add  educacao_Superior completo     with p-value 0.00080423\n",
            "#############\n",
            "['tempo_emprego', 'sexo_M', 'tipo_renda_Empresário', 'idade', 'educacao_Superior completo']\n",
            "Add  posse_de_imovel_True           with p-value 0.043736\n",
            "#############\n",
            "['tempo_emprego', 'sexo_M', 'tipo_renda_Empresário', 'idade', 'educacao_Superior completo', 'posse_de_imovel_True']\n",
            "#############\n",
            "['tempo_emprego', 'sexo_M', 'tipo_renda_Empresário', 'idade', 'educacao_Superior completo', 'posse_de_imovel_True']\n",
            "resulting features:\n",
            "['tempo_emprego', 'sexo_M', 'tipo_renda_Empresário', 'idade', 'educacao_Superior completo', 'posse_de_imovel_True']\n"
          ]
        }
      ]
    },
    {
      "cell_type": "code",
      "source": [
        "# Renomeando uma coluna específica\n",
        "X_train_b.rename(columns = {'educacao_Superior completo':'educacao_Superior_completo'}, inplace=True)"
      ],
      "metadata": {
        "id": "GVSA_6P6ysa6"
      },
      "execution_count": null,
      "outputs": []
    },
    {
      "cell_type": "code",
      "source": [
        "# Criando um modelo de regressão linear com a biblioteca statsmodels\n",
        "modelo_m = smf.ols('''np.log(renda) ~  tempo_emprego +\n",
        "                                        sexo_M +\n",
        "                                        tipo_renda_Empresário +\n",
        "                                        idade +\n",
        "                                        educacao_Superior_completo +\n",
        "                                        qt_pessoas_residencia''', data = X_train_b).fit()\n",
        "\n",
        "# Resumo estatístico do modelo de regressão linear\n",
        "# Inclui estatísticas como coeficientes, valores-p, R-quadrado, etc.\n",
        "modelo_m.summary()"
      ],
      "metadata": {
        "colab": {
          "base_uri": "https://localhost:8080/",
          "height": 559
        },
        "id": "HzQu70tHyu_7",
        "outputId": "0df0d034-43a8-413f-fe50-6d2f3c619be8"
      },
      "execution_count": null,
      "outputs": [
        {
          "output_type": "execute_result",
          "data": {
            "text/plain": [
              "<class 'statsmodels.iolib.summary.Summary'>\n",
              "\"\"\"\n",
              "                            OLS Regression Results                            \n",
              "==============================================================================\n",
              "Dep. Variable:          np.log(renda)   R-squared:                       0.350\n",
              "Model:                            OLS   Adj. R-squared:                  0.349\n",
              "Method:                 Least Squares   F-statistic:                     834.0\n",
              "Date:                Thu, 07 Mar 2024   Prob (F-statistic):               0.00\n",
              "Time:                        02:19:17   Log-Likelihood:                -10221.\n",
              "No. Observations:                9320   AIC:                         2.046e+04\n",
              "Df Residuals:                    9313   BIC:                         2.051e+04\n",
              "Df Model:                           6                                         \n",
              "Covariance Type:            nonrobust                                         \n",
              "==============================================================================================\n",
              "                                 coef    std err          t      P>|t|      [0.025      0.975]\n",
              "----------------------------------------------------------------------------------------------\n",
              "Intercept                      7.1208      0.046    155.236      0.000       7.031       7.211\n",
              "tempo_emprego                  0.0609      0.001     51.386      0.000       0.059       0.063\n",
              "sexo_M                         0.7898      0.016     49.518      0.000       0.758       0.821\n",
              "tipo_renda_Empresário          0.1545      0.017      9.113      0.000       0.121       0.188\n",
              "idade                          0.0061      0.001      6.972      0.000       0.004       0.008\n",
              "educacao_Superior_completo     0.1202      0.016      7.721      0.000       0.090       0.151\n",
              "qt_pessoas_residencia          0.0231      0.008      2.730      0.006       0.007       0.040\n",
              "==============================================================================\n",
              "Omnibus:                        0.606   Durbin-Watson:                   1.995\n",
              "Prob(Omnibus):                  0.739   Jarque-Bera (JB):                0.571\n",
              "Skew:                           0.014   Prob(JB):                        0.752\n",
              "Kurtosis:                       3.027   Cond. No.                         264.\n",
              "==============================================================================\n",
              "\n",
              "Notes:\n",
              "[1] Standard Errors assume that the covariance matrix of the errors is correctly specified.\n",
              "\"\"\""
            ],
            "text/html": [
              "<table class=\"simpletable\">\n",
              "<caption>OLS Regression Results</caption>\n",
              "<tr>\n",
              "  <th>Dep. Variable:</th>      <td>np.log(renda)</td>  <th>  R-squared:         </th> <td>   0.350</td> \n",
              "</tr>\n",
              "<tr>\n",
              "  <th>Model:</th>                   <td>OLS</td>       <th>  Adj. R-squared:    </th> <td>   0.349</td> \n",
              "</tr>\n",
              "<tr>\n",
              "  <th>Method:</th>             <td>Least Squares</td>  <th>  F-statistic:       </th> <td>   834.0</td> \n",
              "</tr>\n",
              "<tr>\n",
              "  <th>Date:</th>             <td>Thu, 07 Mar 2024</td> <th>  Prob (F-statistic):</th>  <td>  0.00</td>  \n",
              "</tr>\n",
              "<tr>\n",
              "  <th>Time:</th>                 <td>02:19:17</td>     <th>  Log-Likelihood:    </th> <td> -10221.</td> \n",
              "</tr>\n",
              "<tr>\n",
              "  <th>No. Observations:</th>      <td>  9320</td>      <th>  AIC:               </th> <td>2.046e+04</td>\n",
              "</tr>\n",
              "<tr>\n",
              "  <th>Df Residuals:</th>          <td>  9313</td>      <th>  BIC:               </th> <td>2.051e+04</td>\n",
              "</tr>\n",
              "<tr>\n",
              "  <th>Df Model:</th>              <td>     6</td>      <th>                     </th>     <td> </td>    \n",
              "</tr>\n",
              "<tr>\n",
              "  <th>Covariance Type:</th>      <td>nonrobust</td>    <th>                     </th>     <td> </td>    \n",
              "</tr>\n",
              "</table>\n",
              "<table class=\"simpletable\">\n",
              "<tr>\n",
              "               <td></td>                 <th>coef</th>     <th>std err</th>      <th>t</th>      <th>P>|t|</th>  <th>[0.025</th>    <th>0.975]</th>  \n",
              "</tr>\n",
              "<tr>\n",
              "  <th>Intercept</th>                  <td>    7.1208</td> <td>    0.046</td> <td>  155.236</td> <td> 0.000</td> <td>    7.031</td> <td>    7.211</td>\n",
              "</tr>\n",
              "<tr>\n",
              "  <th>tempo_emprego</th>              <td>    0.0609</td> <td>    0.001</td> <td>   51.386</td> <td> 0.000</td> <td>    0.059</td> <td>    0.063</td>\n",
              "</tr>\n",
              "<tr>\n",
              "  <th>sexo_M</th>                     <td>    0.7898</td> <td>    0.016</td> <td>   49.518</td> <td> 0.000</td> <td>    0.758</td> <td>    0.821</td>\n",
              "</tr>\n",
              "<tr>\n",
              "  <th>tipo_renda_Empresário</th>      <td>    0.1545</td> <td>    0.017</td> <td>    9.113</td> <td> 0.000</td> <td>    0.121</td> <td>    0.188</td>\n",
              "</tr>\n",
              "<tr>\n",
              "  <th>idade</th>                      <td>    0.0061</td> <td>    0.001</td> <td>    6.972</td> <td> 0.000</td> <td>    0.004</td> <td>    0.008</td>\n",
              "</tr>\n",
              "<tr>\n",
              "  <th>educacao_Superior_completo</th> <td>    0.1202</td> <td>    0.016</td> <td>    7.721</td> <td> 0.000</td> <td>    0.090</td> <td>    0.151</td>\n",
              "</tr>\n",
              "<tr>\n",
              "  <th>qt_pessoas_residencia</th>      <td>    0.0231</td> <td>    0.008</td> <td>    2.730</td> <td> 0.006</td> <td>    0.007</td> <td>    0.040</td>\n",
              "</tr>\n",
              "</table>\n",
              "<table class=\"simpletable\">\n",
              "<tr>\n",
              "  <th>Omnibus:</th>       <td> 0.606</td> <th>  Durbin-Watson:     </th> <td>   1.995</td>\n",
              "</tr>\n",
              "<tr>\n",
              "  <th>Prob(Omnibus):</th> <td> 0.739</td> <th>  Jarque-Bera (JB):  </th> <td>   0.571</td>\n",
              "</tr>\n",
              "<tr>\n",
              "  <th>Skew:</th>          <td> 0.014</td> <th>  Prob(JB):          </th> <td>   0.752</td>\n",
              "</tr>\n",
              "<tr>\n",
              "  <th>Kurtosis:</th>      <td> 3.027</td> <th>  Cond. No.          </th> <td>    264.</td>\n",
              "</tr>\n",
              "</table><br/><br/>Notes:<br/>[1] Standard Errors assume that the covariance matrix of the errors is correctly specified."
            ],
            "text/latex": "\\begin{center}\n\\begin{tabular}{lclc}\n\\toprule\n\\textbf{Dep. Variable:}               &  np.log(renda)   & \\textbf{  R-squared:         } &     0.350   \\\\\n\\textbf{Model:}                       &       OLS        & \\textbf{  Adj. R-squared:    } &     0.349   \\\\\n\\textbf{Method:}                      &  Least Squares   & \\textbf{  F-statistic:       } &     834.0   \\\\\n\\textbf{Date:}                        & Thu, 07 Mar 2024 & \\textbf{  Prob (F-statistic):} &     0.00    \\\\\n\\textbf{Time:}                        &     02:19:17     & \\textbf{  Log-Likelihood:    } &   -10221.   \\\\\n\\textbf{No. Observations:}            &        9320      & \\textbf{  AIC:               } & 2.046e+04   \\\\\n\\textbf{Df Residuals:}                &        9313      & \\textbf{  BIC:               } & 2.051e+04   \\\\\n\\textbf{Df Model:}                    &           6      & \\textbf{                     } &             \\\\\n\\textbf{Covariance Type:}             &    nonrobust     & \\textbf{                     } &             \\\\\n\\bottomrule\n\\end{tabular}\n\\begin{tabular}{lcccccc}\n                                      & \\textbf{coef} & \\textbf{std err} & \\textbf{t} & \\textbf{P$> |$t$|$} & \\textbf{[0.025} & \\textbf{0.975]}  \\\\\n\\midrule\n\\textbf{Intercept}                    &       7.1208  &        0.046     &   155.236  &         0.000        &        7.031    &        7.211     \\\\\n\\textbf{tempo\\_emprego}               &       0.0609  &        0.001     &    51.386  &         0.000        &        0.059    &        0.063     \\\\\n\\textbf{sexo\\_M}                      &       0.7898  &        0.016     &    49.518  &         0.000        &        0.758    &        0.821     \\\\\n\\textbf{tipo\\_renda\\_Empresário}      &       0.1545  &        0.017     &     9.113  &         0.000        &        0.121    &        0.188     \\\\\n\\textbf{idade}                        &       0.0061  &        0.001     &     6.972  &         0.000        &        0.004    &        0.008     \\\\\n\\textbf{educacao\\_Superior\\_completo} &       0.1202  &        0.016     &     7.721  &         0.000        &        0.090    &        0.151     \\\\\n\\textbf{qt\\_pessoas\\_residencia}      &       0.0231  &        0.008     &     2.730  &         0.006        &        0.007    &        0.040     \\\\\n\\bottomrule\n\\end{tabular}\n\\begin{tabular}{lclc}\n\\textbf{Omnibus:}       &  0.606 & \\textbf{  Durbin-Watson:     } &    1.995  \\\\\n\\textbf{Prob(Omnibus):} &  0.739 & \\textbf{  Jarque-Bera (JB):  } &    0.571  \\\\\n\\textbf{Skew:}          &  0.014 & \\textbf{  Prob(JB):          } &    0.752  \\\\\n\\textbf{Kurtosis:}      &  3.027 & \\textbf{  Cond. No.          } &     264.  \\\\\n\\bottomrule\n\\end{tabular}\n%\\caption{OLS Regression Results}\n\\end{center}\n\nNotes: \\newline\n [1] Standard Errors assume that the covariance matrix of the errors is correctly specified."
          },
          "metadata": {},
          "execution_count": 34
        }
      ]
    },
    {
      "cell_type": "code",
      "source": [
        "# Remover linhas com valores ausentes do conjunto de treinamento\n",
        "X_train_a = X_train.dropna()\n",
        "\n",
        "# Convertendo variáveis categóricas em variáveis dummy e removendo a primeira categoria para evitar multicolinearidade\n",
        "X_train_b = pd.get_dummies(X_train_a, columns=['sexo', 'posse_de_veiculo', 'posse_de_imovel', 'tipo_renda', 'educacao', 'estado_civil', 'tipo_residencia'], drop_first=True)\n",
        "\n",
        "# Renomear a coluna 'educacao_Superior completo' para 'educacao_Superior_completo'\n",
        "X_train_b.rename(columns = {'educacao_Superior completo':'educacao_Superior_completo'}, inplace=True)\n",
        "\n",
        "# Criando uma nova coluna 'log_renda' que contém o logaritmo natural da coluna 'renda'\n",
        "X_train_b['log_renda']=np.log(X_train_b['renda'])"
      ],
      "metadata": {
        "id": "XJpeKjW-y-y6"
      },
      "execution_count": null,
      "outputs": []
    },
    {
      "cell_type": "code",
      "source": [
        "# Adiciona uma coluna 'pred_m' ao conjunto de treinamento balanceado (X_train_b),\n",
        "# contendo as previsões do modelo 'modelo_m' para as features em X_train_b.\n",
        "X_train_b['pred_m'] = modelo_m.predict(X_train_b)\n",
        "\n",
        "# Calcula a correlação entre as previsões ('pred_m') e os valores reais ('log_renda')\n",
        "# no conjunto de treinamento balanceado (X_train_b) e extrai o coeficiente de correlação.\n",
        "# Essa correlação é uma medida de quão bem as previsões do modelo estão relacionadas\n",
        "# aos valores reais.\n",
        "r = X_train_b[['pred_m', 'log_renda']].corr().iloc[0,1]\n",
        "\n",
        "# Calcula o coeficiente de determinação (R^2), que é o quadrado do coeficiente de correlação (r).\n",
        "# O coeficiente de determinação indica a proporção da variabilidade nos valores reais\n",
        "# ('log_renda') que é explicada pelas previsões do modelo ('pred_m').\n",
        "r_squared = r**2\n",
        "r_squared"
      ],
      "metadata": {
        "colab": {
          "base_uri": "https://localhost:8080/"
        },
        "id": "mkCPbCibzBYB",
        "outputId": "826bd5b8-cf1e-44ab-eb1e-973ceb402b32"
      },
      "execution_count": null,
      "outputs": [
        {
          "output_type": "execute_result",
          "data": {
            "text/plain": [
              "0.3495230994346052"
            ]
          },
          "metadata": {},
          "execution_count": 38
        }
      ]
    },
    {
      "cell_type": "code",
      "source": [
        "# Definindo o modelo de regressão linear usando a função OLS (Ordinary Least Squares)\n",
        "# 'np.log(renda)' é o target (variável dependente), e as features são 'tempo_emprego', 'sexo_M', 'idade' e 'qt_pessoas_residencia'\n",
        "# 'data=X_train_b' indica que os dados para ajustar o modelo são provenientes do conjunto de treinamento X_train_b\n",
        "modelo_n = smf.ols('np.log(renda) ~  tempo_emprego + sexo_M + idade + qt_pessoas_residencia', data = X_train_b).fit()\n",
        "\n",
        "# Obtendo um resumo estatístico do modelo ajustado\n",
        "modelo_n.summary()"
      ],
      "metadata": {
        "colab": {
          "base_uri": "https://localhost:8080/",
          "height": 516
        },
        "id": "xmgW3WyBzEtK",
        "outputId": "7738f17a-cc6e-424e-97b5-ddbf402a3cce"
      },
      "execution_count": null,
      "outputs": [
        {
          "output_type": "execute_result",
          "data": {
            "text/plain": [
              "<class 'statsmodels.iolib.summary.Summary'>\n",
              "\"\"\"\n",
              "                            OLS Regression Results                            \n",
              "==============================================================================\n",
              "Dep. Variable:          np.log(renda)   R-squared:                       0.339\n",
              "Model:                            OLS   Adj. R-squared:                  0.339\n",
              "Method:                 Least Squares   F-statistic:                     1194.\n",
              "Date:                Thu, 07 Mar 2024   Prob (F-statistic):               0.00\n",
              "Time:                        02:27:17   Log-Likelihood:                -10297.\n",
              "No. Observations:                9320   AIC:                         2.060e+04\n",
              "Df Residuals:                    9315   BIC:                         2.064e+04\n",
              "Df Model:                           4                                         \n",
              "Covariance Type:            nonrobust                                         \n",
              "=========================================================================================\n",
              "                            coef    std err          t      P>|t|      [0.025      0.975]\n",
              "-----------------------------------------------------------------------------------------\n",
              "Intercept                 7.2652      0.045    162.593      0.000       7.178       7.353\n",
              "tempo_emprego             0.0599      0.001     50.415      0.000       0.058       0.062\n",
              "sexo_M                    0.7763      0.016     48.400      0.000       0.745       0.808\n",
              "idade                     0.0053      0.001      6.018      0.000       0.004       0.007\n",
              "qt_pessoas_residencia     0.0189      0.009      2.222      0.026       0.002       0.036\n",
              "==============================================================================\n",
              "Omnibus:                        0.747   Durbin-Watson:                   1.988\n",
              "Prob(Omnibus):                  0.688   Jarque-Bera (JB):                0.720\n",
              "Skew:                           0.020   Prob(JB):                        0.698\n",
              "Kurtosis:                       3.018   Cond. No.                         254.\n",
              "==============================================================================\n",
              "\n",
              "Notes:\n",
              "[1] Standard Errors assume that the covariance matrix of the errors is correctly specified.\n",
              "\"\"\""
            ],
            "text/html": [
              "<table class=\"simpletable\">\n",
              "<caption>OLS Regression Results</caption>\n",
              "<tr>\n",
              "  <th>Dep. Variable:</th>      <td>np.log(renda)</td>  <th>  R-squared:         </th> <td>   0.339</td> \n",
              "</tr>\n",
              "<tr>\n",
              "  <th>Model:</th>                   <td>OLS</td>       <th>  Adj. R-squared:    </th> <td>   0.339</td> \n",
              "</tr>\n",
              "<tr>\n",
              "  <th>Method:</th>             <td>Least Squares</td>  <th>  F-statistic:       </th> <td>   1194.</td> \n",
              "</tr>\n",
              "<tr>\n",
              "  <th>Date:</th>             <td>Thu, 07 Mar 2024</td> <th>  Prob (F-statistic):</th>  <td>  0.00</td>  \n",
              "</tr>\n",
              "<tr>\n",
              "  <th>Time:</th>                 <td>02:27:17</td>     <th>  Log-Likelihood:    </th> <td> -10297.</td> \n",
              "</tr>\n",
              "<tr>\n",
              "  <th>No. Observations:</th>      <td>  9320</td>      <th>  AIC:               </th> <td>2.060e+04</td>\n",
              "</tr>\n",
              "<tr>\n",
              "  <th>Df Residuals:</th>          <td>  9315</td>      <th>  BIC:               </th> <td>2.064e+04</td>\n",
              "</tr>\n",
              "<tr>\n",
              "  <th>Df Model:</th>              <td>     4</td>      <th>                     </th>     <td> </td>    \n",
              "</tr>\n",
              "<tr>\n",
              "  <th>Covariance Type:</th>      <td>nonrobust</td>    <th>                     </th>     <td> </td>    \n",
              "</tr>\n",
              "</table>\n",
              "<table class=\"simpletable\">\n",
              "<tr>\n",
              "            <td></td>               <th>coef</th>     <th>std err</th>      <th>t</th>      <th>P>|t|</th>  <th>[0.025</th>    <th>0.975]</th>  \n",
              "</tr>\n",
              "<tr>\n",
              "  <th>Intercept</th>             <td>    7.2652</td> <td>    0.045</td> <td>  162.593</td> <td> 0.000</td> <td>    7.178</td> <td>    7.353</td>\n",
              "</tr>\n",
              "<tr>\n",
              "  <th>tempo_emprego</th>         <td>    0.0599</td> <td>    0.001</td> <td>   50.415</td> <td> 0.000</td> <td>    0.058</td> <td>    0.062</td>\n",
              "</tr>\n",
              "<tr>\n",
              "  <th>sexo_M</th>                <td>    0.7763</td> <td>    0.016</td> <td>   48.400</td> <td> 0.000</td> <td>    0.745</td> <td>    0.808</td>\n",
              "</tr>\n",
              "<tr>\n",
              "  <th>idade</th>                 <td>    0.0053</td> <td>    0.001</td> <td>    6.018</td> <td> 0.000</td> <td>    0.004</td> <td>    0.007</td>\n",
              "</tr>\n",
              "<tr>\n",
              "  <th>qt_pessoas_residencia</th> <td>    0.0189</td> <td>    0.009</td> <td>    2.222</td> <td> 0.026</td> <td>    0.002</td> <td>    0.036</td>\n",
              "</tr>\n",
              "</table>\n",
              "<table class=\"simpletable\">\n",
              "<tr>\n",
              "  <th>Omnibus:</th>       <td> 0.747</td> <th>  Durbin-Watson:     </th> <td>   1.988</td>\n",
              "</tr>\n",
              "<tr>\n",
              "  <th>Prob(Omnibus):</th> <td> 0.688</td> <th>  Jarque-Bera (JB):  </th> <td>   0.720</td>\n",
              "</tr>\n",
              "<tr>\n",
              "  <th>Skew:</th>          <td> 0.020</td> <th>  Prob(JB):          </th> <td>   0.698</td>\n",
              "</tr>\n",
              "<tr>\n",
              "  <th>Kurtosis:</th>      <td> 3.018</td> <th>  Cond. No.          </th> <td>    254.</td>\n",
              "</tr>\n",
              "</table><br/><br/>Notes:<br/>[1] Standard Errors assume that the covariance matrix of the errors is correctly specified."
            ],
            "text/latex": "\\begin{center}\n\\begin{tabular}{lclc}\n\\toprule\n\\textbf{Dep. Variable:}          &  np.log(renda)   & \\textbf{  R-squared:         } &     0.339   \\\\\n\\textbf{Model:}                  &       OLS        & \\textbf{  Adj. R-squared:    } &     0.339   \\\\\n\\textbf{Method:}                 &  Least Squares   & \\textbf{  F-statistic:       } &     1194.   \\\\\n\\textbf{Date:}                   & Thu, 07 Mar 2024 & \\textbf{  Prob (F-statistic):} &     0.00    \\\\\n\\textbf{Time:}                   &     02:27:17     & \\textbf{  Log-Likelihood:    } &   -10297.   \\\\\n\\textbf{No. Observations:}       &        9320      & \\textbf{  AIC:               } & 2.060e+04   \\\\\n\\textbf{Df Residuals:}           &        9315      & \\textbf{  BIC:               } & 2.064e+04   \\\\\n\\textbf{Df Model:}               &           4      & \\textbf{                     } &             \\\\\n\\textbf{Covariance Type:}        &    nonrobust     & \\textbf{                     } &             \\\\\n\\bottomrule\n\\end{tabular}\n\\begin{tabular}{lcccccc}\n                                 & \\textbf{coef} & \\textbf{std err} & \\textbf{t} & \\textbf{P$> |$t$|$} & \\textbf{[0.025} & \\textbf{0.975]}  \\\\\n\\midrule\n\\textbf{Intercept}               &       7.2652  &        0.045     &   162.593  &         0.000        &        7.178    &        7.353     \\\\\n\\textbf{tempo\\_emprego}          &       0.0599  &        0.001     &    50.415  &         0.000        &        0.058    &        0.062     \\\\\n\\textbf{sexo\\_M}                 &       0.7763  &        0.016     &    48.400  &         0.000        &        0.745    &        0.808     \\\\\n\\textbf{idade}                   &       0.0053  &        0.001     &     6.018  &         0.000        &        0.004    &        0.007     \\\\\n\\textbf{qt\\_pessoas\\_residencia} &       0.0189  &        0.009     &     2.222  &         0.026        &        0.002    &        0.036     \\\\\n\\bottomrule\n\\end{tabular}\n\\begin{tabular}{lclc}\n\\textbf{Omnibus:}       &  0.747 & \\textbf{  Durbin-Watson:     } &    1.988  \\\\\n\\textbf{Prob(Omnibus):} &  0.688 & \\textbf{  Jarque-Bera (JB):  } &    0.720  \\\\\n\\textbf{Skew:}          &  0.020 & \\textbf{  Prob(JB):          } &    0.698  \\\\\n\\textbf{Kurtosis:}      &  3.018 & \\textbf{  Cond. No.          } &     254.  \\\\\n\\bottomrule\n\\end{tabular}\n%\\caption{OLS Regression Results}\n\\end{center}\n\nNotes: \\newline\n [1] Standard Errors assume that the covariance matrix of the errors is correctly specified."
          },
          "metadata": {},
          "execution_count": 39
        }
      ]
    },
    {
      "cell_type": "code",
      "source": [
        "# Definindo o modelo de regressão com variável target 'renda' transformada para logaritmo\n",
        "# Variáveis independentes incluem 'tempo_emprego', 'tempo_emprego^2', 'sexo_M', 'idade' e 'qt_pessoas_residencia'\n",
        "modelo_o = smf.ols('np.log(renda) ~  tempo_emprego + I(tempo_emprego**2) + sexo_M + idade + qt_pessoas_residencia', data = X_train_b).fit()\n",
        "\n",
        "# Visualizando um resumo do modelo ajustado\n",
        "modelo_o.summary()"
      ],
      "metadata": {
        "colab": {
          "base_uri": "https://localhost:8080/",
          "height": 572
        },
        "id": "7VTdJAXkzIjp",
        "outputId": "7ee19352-407f-4f60-c220-1ccfdc632d97"
      },
      "execution_count": null,
      "outputs": [
        {
          "output_type": "execute_result",
          "data": {
            "text/plain": [
              "<class 'statsmodels.iolib.summary.Summary'>\n",
              "\"\"\"\n",
              "                            OLS Regression Results                            \n",
              "==============================================================================\n",
              "Dep. Variable:          np.log(renda)   R-squared:                       0.342\n",
              "Model:                            OLS   Adj. R-squared:                  0.341\n",
              "Method:                 Least Squares   F-statistic:                     966.5\n",
              "Date:                Thu, 07 Mar 2024   Prob (F-statistic):               0.00\n",
              "Time:                        02:30:51   Log-Likelihood:                -10278.\n",
              "No. Observations:                9320   AIC:                         2.057e+04\n",
              "Df Residuals:                    9314   BIC:                         2.061e+04\n",
              "Df Model:                           5                                         \n",
              "Covariance Type:            nonrobust                                         \n",
              "=========================================================================================\n",
              "                            coef    std err          t      P>|t|      [0.025      0.975]\n",
              "-----------------------------------------------------------------------------------------\n",
              "Intercept                 7.1976      0.046    156.821      0.000       7.108       7.288\n",
              "tempo_emprego             0.0767      0.003     26.012      0.000       0.071       0.082\n",
              "I(tempo_emprego ** 2)    -0.0006      0.000     -6.223      0.000      -0.001      -0.000\n",
              "sexo_M                    0.7764      0.016     48.502      0.000       0.745       0.808\n",
              "idade                     0.0056      0.001      6.369      0.000       0.004       0.007\n",
              "qt_pessoas_residencia     0.0150      0.009      1.768      0.077      -0.002       0.032\n",
              "==============================================================================\n",
              "Omnibus:                        1.059   Durbin-Watson:                   1.992\n",
              "Prob(Omnibus):                  0.589   Jarque-Bera (JB):                1.048\n",
              "Skew:                           0.026   Prob(JB):                        0.592\n",
              "Kurtosis:                       3.005   Cond. No.                     1.38e+03\n",
              "==============================================================================\n",
              "\n",
              "Notes:\n",
              "[1] Standard Errors assume that the covariance matrix of the errors is correctly specified.\n",
              "[2] The condition number is large, 1.38e+03. This might indicate that there are\n",
              "strong multicollinearity or other numerical problems.\n",
              "\"\"\""
            ],
            "text/html": [
              "<table class=\"simpletable\">\n",
              "<caption>OLS Regression Results</caption>\n",
              "<tr>\n",
              "  <th>Dep. Variable:</th>      <td>np.log(renda)</td>  <th>  R-squared:         </th> <td>   0.342</td> \n",
              "</tr>\n",
              "<tr>\n",
              "  <th>Model:</th>                   <td>OLS</td>       <th>  Adj. R-squared:    </th> <td>   0.341</td> \n",
              "</tr>\n",
              "<tr>\n",
              "  <th>Method:</th>             <td>Least Squares</td>  <th>  F-statistic:       </th> <td>   966.5</td> \n",
              "</tr>\n",
              "<tr>\n",
              "  <th>Date:</th>             <td>Thu, 07 Mar 2024</td> <th>  Prob (F-statistic):</th>  <td>  0.00</td>  \n",
              "</tr>\n",
              "<tr>\n",
              "  <th>Time:</th>                 <td>02:30:51</td>     <th>  Log-Likelihood:    </th> <td> -10278.</td> \n",
              "</tr>\n",
              "<tr>\n",
              "  <th>No. Observations:</th>      <td>  9320</td>      <th>  AIC:               </th> <td>2.057e+04</td>\n",
              "</tr>\n",
              "<tr>\n",
              "  <th>Df Residuals:</th>          <td>  9314</td>      <th>  BIC:               </th> <td>2.061e+04</td>\n",
              "</tr>\n",
              "<tr>\n",
              "  <th>Df Model:</th>              <td>     5</td>      <th>                     </th>     <td> </td>    \n",
              "</tr>\n",
              "<tr>\n",
              "  <th>Covariance Type:</th>      <td>nonrobust</td>    <th>                     </th>     <td> </td>    \n",
              "</tr>\n",
              "</table>\n",
              "<table class=\"simpletable\">\n",
              "<tr>\n",
              "            <td></td>               <th>coef</th>     <th>std err</th>      <th>t</th>      <th>P>|t|</th>  <th>[0.025</th>    <th>0.975]</th>  \n",
              "</tr>\n",
              "<tr>\n",
              "  <th>Intercept</th>             <td>    7.1976</td> <td>    0.046</td> <td>  156.821</td> <td> 0.000</td> <td>    7.108</td> <td>    7.288</td>\n",
              "</tr>\n",
              "<tr>\n",
              "  <th>tempo_emprego</th>         <td>    0.0767</td> <td>    0.003</td> <td>   26.012</td> <td> 0.000</td> <td>    0.071</td> <td>    0.082</td>\n",
              "</tr>\n",
              "<tr>\n",
              "  <th>I(tempo_emprego ** 2)</th> <td>   -0.0006</td> <td>    0.000</td> <td>   -6.223</td> <td> 0.000</td> <td>   -0.001</td> <td>   -0.000</td>\n",
              "</tr>\n",
              "<tr>\n",
              "  <th>sexo_M</th>                <td>    0.7764</td> <td>    0.016</td> <td>   48.502</td> <td> 0.000</td> <td>    0.745</td> <td>    0.808</td>\n",
              "</tr>\n",
              "<tr>\n",
              "  <th>idade</th>                 <td>    0.0056</td> <td>    0.001</td> <td>    6.369</td> <td> 0.000</td> <td>    0.004</td> <td>    0.007</td>\n",
              "</tr>\n",
              "<tr>\n",
              "  <th>qt_pessoas_residencia</th> <td>    0.0150</td> <td>    0.009</td> <td>    1.768</td> <td> 0.077</td> <td>   -0.002</td> <td>    0.032</td>\n",
              "</tr>\n",
              "</table>\n",
              "<table class=\"simpletable\">\n",
              "<tr>\n",
              "  <th>Omnibus:</th>       <td> 1.059</td> <th>  Durbin-Watson:     </th> <td>   1.992</td>\n",
              "</tr>\n",
              "<tr>\n",
              "  <th>Prob(Omnibus):</th> <td> 0.589</td> <th>  Jarque-Bera (JB):  </th> <td>   1.048</td>\n",
              "</tr>\n",
              "<tr>\n",
              "  <th>Skew:</th>          <td> 0.026</td> <th>  Prob(JB):          </th> <td>   0.592</td>\n",
              "</tr>\n",
              "<tr>\n",
              "  <th>Kurtosis:</th>      <td> 3.005</td> <th>  Cond. No.          </th> <td>1.38e+03</td>\n",
              "</tr>\n",
              "</table><br/><br/>Notes:<br/>[1] Standard Errors assume that the covariance matrix of the errors is correctly specified.<br/>[2] The condition number is large, 1.38e+03. This might indicate that there are<br/>strong multicollinearity or other numerical problems."
            ],
            "text/latex": "\\begin{center}\n\\begin{tabular}{lclc}\n\\toprule\n\\textbf{Dep. Variable:}          &  np.log(renda)   & \\textbf{  R-squared:         } &     0.342   \\\\\n\\textbf{Model:}                  &       OLS        & \\textbf{  Adj. R-squared:    } &     0.341   \\\\\n\\textbf{Method:}                 &  Least Squares   & \\textbf{  F-statistic:       } &     966.5   \\\\\n\\textbf{Date:}                   & Thu, 07 Mar 2024 & \\textbf{  Prob (F-statistic):} &     0.00    \\\\\n\\textbf{Time:}                   &     02:30:51     & \\textbf{  Log-Likelihood:    } &   -10278.   \\\\\n\\textbf{No. Observations:}       &        9320      & \\textbf{  AIC:               } & 2.057e+04   \\\\\n\\textbf{Df Residuals:}           &        9314      & \\textbf{  BIC:               } & 2.061e+04   \\\\\n\\textbf{Df Model:}               &           5      & \\textbf{                     } &             \\\\\n\\textbf{Covariance Type:}        &    nonrobust     & \\textbf{                     } &             \\\\\n\\bottomrule\n\\end{tabular}\n\\begin{tabular}{lcccccc}\n                                 & \\textbf{coef} & \\textbf{std err} & \\textbf{t} & \\textbf{P$> |$t$|$} & \\textbf{[0.025} & \\textbf{0.975]}  \\\\\n\\midrule\n\\textbf{Intercept}               &       7.1976  &        0.046     &   156.821  &         0.000        &        7.108    &        7.288     \\\\\n\\textbf{tempo\\_emprego}          &       0.0767  &        0.003     &    26.012  &         0.000        &        0.071    &        0.082     \\\\\n\\textbf{I(tempo\\_emprego ** 2)}  &      -0.0006  &        0.000     &    -6.223  &         0.000        &       -0.001    &       -0.000     \\\\\n\\textbf{sexo\\_M}                 &       0.7764  &        0.016     &    48.502  &         0.000        &        0.745    &        0.808     \\\\\n\\textbf{idade}                   &       0.0056  &        0.001     &     6.369  &         0.000        &        0.004    &        0.007     \\\\\n\\textbf{qt\\_pessoas\\_residencia} &       0.0150  &        0.009     &     1.768  &         0.077        &       -0.002    &        0.032     \\\\\n\\bottomrule\n\\end{tabular}\n\\begin{tabular}{lclc}\n\\textbf{Omnibus:}       &  1.059 & \\textbf{  Durbin-Watson:     } &    1.992  \\\\\n\\textbf{Prob(Omnibus):} &  0.589 & \\textbf{  Jarque-Bera (JB):  } &    1.048  \\\\\n\\textbf{Skew:}          &  0.026 & \\textbf{  Prob(JB):          } &    0.592  \\\\\n\\textbf{Kurtosis:}      &  3.005 & \\textbf{  Cond. No.          } & 1.38e+03  \\\\\n\\bottomrule\n\\end{tabular}\n%\\caption{OLS Regression Results}\n\\end{center}\n\nNotes: \\newline\n [1] Standard Errors assume that the covariance matrix of the errors is correctly specified. \\newline\n [2] The condition number is large, 1.38e+03. This might indicate that there are \\newline\n strong multicollinearity or other numerical problems."
          },
          "metadata": {},
          "execution_count": 40
        }
      ]
    },
    {
      "cell_type": "markdown",
      "source": [
        "### 5. Compare os parâmetros e avalie eventuais diferenças. Qual modelo você acha o melhor de todos?"
      ],
      "metadata": {
        "id": "hmbzJh6QNLot"
      }
    },
    {
      "cell_type": "markdown",
      "source": [
        "### 6. Partindo dos modelos que você ajustou, tente melhorar o  R2  na base de testes. Use a criatividade, veja se consegue inserir alguma transformação ou combinação de variáveis."
      ],
      "metadata": {
        "id": "x3RaytBdNOTF"
      }
    },
    {
      "cell_type": "markdown",
      "source": [
        "### 7. Ajuste uma árvore de regressão e veja se consegue um  R2  melhor com ela."
      ],
      "metadata": {
        "id": "E8gLqtdDNSC0"
      }
    },
    {
      "cell_type": "code",
      "source": [
        "# Criando dois regressores de árvore de decisão com diferentes profundidades máximas\n",
        "regr1 = DecisionTreeRegressor(max_depth=8)\n",
        "regr2 = DecisionTreeRegressor(max_depth=2)\n",
        "\n",
        "# Treinando os regressores com os dados de treinamento\n",
        "regr1.fit(X_train_c, y_train_a)\n",
        "regr2.fit(X_train_c, y_train_a)"
      ],
      "metadata": {
        "colab": {
          "base_uri": "https://localhost:8080/",
          "height": 75
        },
        "id": "E5ZGQtsJN1p1",
        "outputId": "a6b0e985-8c26-4a82-fd78-c753708dea2b"
      },
      "execution_count": null,
      "outputs": [
        {
          "output_type": "execute_result",
          "data": {
            "text/plain": [
              "DecisionTreeRegressor(max_depth=2)"
            ],
            "text/html": [
              "<style>#sk-container-id-1 {color: black;background-color: white;}#sk-container-id-1 pre{padding: 0;}#sk-container-id-1 div.sk-toggleable {background-color: white;}#sk-container-id-1 label.sk-toggleable__label {cursor: pointer;display: block;width: 100%;margin-bottom: 0;padding: 0.3em;box-sizing: border-box;text-align: center;}#sk-container-id-1 label.sk-toggleable__label-arrow:before {content: \"▸\";float: left;margin-right: 0.25em;color: #696969;}#sk-container-id-1 label.sk-toggleable__label-arrow:hover:before {color: black;}#sk-container-id-1 div.sk-estimator:hover label.sk-toggleable__label-arrow:before {color: black;}#sk-container-id-1 div.sk-toggleable__content {max-height: 0;max-width: 0;overflow: hidden;text-align: left;background-color: #f0f8ff;}#sk-container-id-1 div.sk-toggleable__content pre {margin: 0.2em;color: black;border-radius: 0.25em;background-color: #f0f8ff;}#sk-container-id-1 input.sk-toggleable__control:checked~div.sk-toggleable__content {max-height: 200px;max-width: 100%;overflow: auto;}#sk-container-id-1 input.sk-toggleable__control:checked~label.sk-toggleable__label-arrow:before {content: \"▾\";}#sk-container-id-1 div.sk-estimator input.sk-toggleable__control:checked~label.sk-toggleable__label {background-color: #d4ebff;}#sk-container-id-1 div.sk-label input.sk-toggleable__control:checked~label.sk-toggleable__label {background-color: #d4ebff;}#sk-container-id-1 input.sk-hidden--visually {border: 0;clip: rect(1px 1px 1px 1px);clip: rect(1px, 1px, 1px, 1px);height: 1px;margin: -1px;overflow: hidden;padding: 0;position: absolute;width: 1px;}#sk-container-id-1 div.sk-estimator {font-family: monospace;background-color: #f0f8ff;border: 1px dotted black;border-radius: 0.25em;box-sizing: border-box;margin-bottom: 0.5em;}#sk-container-id-1 div.sk-estimator:hover {background-color: #d4ebff;}#sk-container-id-1 div.sk-parallel-item::after {content: \"\";width: 100%;border-bottom: 1px solid gray;flex-grow: 1;}#sk-container-id-1 div.sk-label:hover label.sk-toggleable__label {background-color: #d4ebff;}#sk-container-id-1 div.sk-serial::before {content: \"\";position: absolute;border-left: 1px solid gray;box-sizing: border-box;top: 0;bottom: 0;left: 50%;z-index: 0;}#sk-container-id-1 div.sk-serial {display: flex;flex-direction: column;align-items: center;background-color: white;padding-right: 0.2em;padding-left: 0.2em;position: relative;}#sk-container-id-1 div.sk-item {position: relative;z-index: 1;}#sk-container-id-1 div.sk-parallel {display: flex;align-items: stretch;justify-content: center;background-color: white;position: relative;}#sk-container-id-1 div.sk-item::before, #sk-container-id-1 div.sk-parallel-item::before {content: \"\";position: absolute;border-left: 1px solid gray;box-sizing: border-box;top: 0;bottom: 0;left: 50%;z-index: -1;}#sk-container-id-1 div.sk-parallel-item {display: flex;flex-direction: column;z-index: 1;position: relative;background-color: white;}#sk-container-id-1 div.sk-parallel-item:first-child::after {align-self: flex-end;width: 50%;}#sk-container-id-1 div.sk-parallel-item:last-child::after {align-self: flex-start;width: 50%;}#sk-container-id-1 div.sk-parallel-item:only-child::after {width: 0;}#sk-container-id-1 div.sk-dashed-wrapped {border: 1px dashed gray;margin: 0 0.4em 0.5em 0.4em;box-sizing: border-box;padding-bottom: 0.4em;background-color: white;}#sk-container-id-1 div.sk-label label {font-family: monospace;font-weight: bold;display: inline-block;line-height: 1.2em;}#sk-container-id-1 div.sk-label-container {text-align: center;}#sk-container-id-1 div.sk-container {/* jupyter's `normalize.less` sets `[hidden] { display: none; }` but bootstrap.min.css set `[hidden] { display: none !important; }` so we also need the `!important` here to be able to override the default hidden behavior on the sphinx rendered scikit-learn.org. See: https://github.com/scikit-learn/scikit-learn/issues/21755 */display: inline-block !important;position: relative;}#sk-container-id-1 div.sk-text-repr-fallback {display: none;}</style><div id=\"sk-container-id-1\" class=\"sk-top-container\"><div class=\"sk-text-repr-fallback\"><pre>DecisionTreeRegressor(max_depth=2)</pre><b>In a Jupyter environment, please rerun this cell to show the HTML representation or trust the notebook. <br />On GitHub, the HTML representation is unable to render, please try loading this page with nbviewer.org.</b></div><div class=\"sk-container\" hidden><div class=\"sk-item\"><div class=\"sk-estimator sk-toggleable\"><input class=\"sk-toggleable__control sk-hidden--visually\" id=\"sk-estimator-id-1\" type=\"checkbox\" checked><label for=\"sk-estimator-id-1\" class=\"sk-toggleable__label sk-toggleable__label-arrow\">DecisionTreeRegressor</label><div class=\"sk-toggleable__content\"><pre>DecisionTreeRegressor(max_depth=2)</pre></div></div></div></div></div>"
            ]
          },
          "metadata": {},
          "execution_count": 41
        }
      ]
    },
    {
      "cell_type": "code",
      "source": [
        "# Predição dos conjuntos de treinamento utilizando os modelos regr1 e regr2\n",
        "train1 = regr1.predict(X_train_c)\n",
        "train2 = regr2.predict(X_train_c)\n",
        "\n",
        "# Imprimir resultados de treinamento\n",
        "print('Para base de treinamento:')\n",
        "print('O mse com profundidade = 8, MSE=', mean_squared_error(y_train_a,train1))\n",
        "print('O mse com profundidade = 2, MSE=', mean_squared_error(y_train_a,train2))"
      ],
      "metadata": {
        "colab": {
          "base_uri": "https://localhost:8080/"
        },
        "id": "gC5lMP1uza8x",
        "outputId": "e4f45ab7-4183-4751-b353-f6cd0a9b1bea"
      },
      "execution_count": null,
      "outputs": [
        {
          "output_type": "stream",
          "name": "stdout",
          "text": [
            "Para base de treinamento:\n",
            "O mse com profundidade = 8, MSE= 29027504.333294492\n",
            "O mse com profundidade = 2, MSE= 62611087.56588584\n"
          ]
        }
      ]
    },
    {
      "cell_type": "code",
      "source": [
        "# Criando a representação gráfica da árvore de decisão treinada\n",
        "# Utilizando a função export_graphviz da biblioteca scikit-learn\n",
        "data = tree.export_graphviz(regr1, out_file=None,\n",
        "                                feature_names=X_train_c.columns,\n",
        "                                filled=True)\n",
        "\n",
        "# Criando um objeto Source do Graphviz para visualizar a árvore\n",
        "graph = graphviz.Source(data, format=\"png\")\n",
        "\n",
        "# Visualizando a árvore de decisão\n",
        "graph"
      ],
      "metadata": {
        "colab": {
          "base_uri": "https://localhost:8080/",
          "height": 1000
        },
        "id": "aJVeHxpqzbow",
        "outputId": "414afa98-58c2-44ad-c592-fb1d5f0e58f7"
      },
      "execution_count": null,
      "outputs": [
        {
          "output_type": "execute_result",
          "data": {
            "image/svg+xml": "<?xml version=\"1.0\" encoding=\"UTF-8\" standalone=\"no\"?>\n<!DOCTYPE svg PUBLIC \"-//W3C//DTD SVG 1.1//EN\"\n \"http://www.w3.org/Graphics/SVG/1.1/DTD/svg11.dtd\">\n<!-- Generated by graphviz version 2.43.0 (0)\n -->\n<!-- Title: Tree Pages: 1 -->\n<svg width=\"30098pt\" height=\"893pt\"\n viewBox=\"0.00 0.00 30097.50 893.00\" xmlns=\"http://www.w3.org/2000/svg\" xmlns:xlink=\"http://www.w3.org/1999/xlink\">\n<g id=\"graph0\" class=\"graph\" transform=\"scale(1 1) rotate(0) translate(4 889)\">\n<title>Tree</title>\n<polygon fill=\"white\" stroke=\"transparent\" points=\"-4,4 -4,-889 30093.5,-889 30093.5,4 -4,4\"/>\n<!-- 0 -->\n<g id=\"node1\" class=\"node\">\n<title>0</title>\n<polygon fill=\"#fefcfb\" stroke=\"black\" points=\"23182.5,-885 22979.5,-885 22979.5,-817 23182.5,-817 23182.5,-885\"/>\n<text text-anchor=\"middle\" x=\"23081\" y=\"-869.8\" font-family=\"Helvetica,sans-Serif\" font-size=\"14.00\">tempo_emprego &lt;= 17.011</text>\n<text text-anchor=\"middle\" x=\"23081\" y=\"-854.8\" font-family=\"Helvetica,sans-Serif\" font-size=\"14.00\">squared_error = 86480286.682</text>\n<text text-anchor=\"middle\" x=\"23081\" y=\"-839.8\" font-family=\"Helvetica,sans-Serif\" font-size=\"14.00\">samples = 9320</text>\n<text text-anchor=\"middle\" x=\"23081\" y=\"-824.8\" font-family=\"Helvetica,sans-Serif\" font-size=\"14.00\">value = 6176.558</text>\n</g>\n<!-- 1 -->\n<g id=\"node2\" class=\"node\">\n<title>1</title>\n<polygon fill=\"#fffdfb\" stroke=\"black\" points=\"18088,-781 17892,-781 17892,-713 18088,-713 18088,-781\"/>\n<text text-anchor=\"middle\" x=\"17990\" y=\"-765.8\" font-family=\"Helvetica,sans-Serif\" font-size=\"14.00\">sexo_M &lt;= 0.5</text>\n<text text-anchor=\"middle\" x=\"17990\" y=\"-750.8\" font-family=\"Helvetica,sans-Serif\" font-size=\"14.00\">squared_error = 34895150.56</text>\n<text text-anchor=\"middle\" x=\"17990\" y=\"-735.8\" font-family=\"Helvetica,sans-Serif\" font-size=\"14.00\">samples = 8421</text>\n<text text-anchor=\"middle\" x=\"17990\" y=\"-720.8\" font-family=\"Helvetica,sans-Serif\" font-size=\"14.00\">value = 5212.23</text>\n</g>\n<!-- 0&#45;&gt;1 -->\n<g id=\"edge1\" class=\"edge\">\n<title>0&#45;&gt;1</title>\n<path fill=\"none\" stroke=\"black\" d=\"M22979.31,-847.96C22329.68,-834.95 18766.66,-763.56 18098.13,-750.17\"/>\n<polygon fill=\"black\" stroke=\"black\" points=\"18098.09,-746.67 18088.03,-749.96 18097.95,-753.66 18098.09,-746.67\"/>\n<text text-anchor=\"middle\" x=\"18105.35\" y=\"-764.29\" font-family=\"Helvetica,sans-Serif\" font-size=\"14.00\">True</text>\n</g>\n<!-- 238 -->\n<g id=\"node239\" class=\"node\">\n<title>238</title>\n<polygon fill=\"#fdf8f3\" stroke=\"black\" points=\"24830.5,-781 24619.5,-781 24619.5,-713 24830.5,-713 24830.5,-781\"/>\n<text text-anchor=\"middle\" x=\"24725\" y=\"-765.8\" font-family=\"Helvetica,sans-Serif\" font-size=\"14.00\">sexo_M &lt;= 0.5</text>\n<text text-anchor=\"middle\" x=\"24725\" y=\"-750.8\" font-family=\"Helvetica,sans-Serif\" font-size=\"14.00\">squared_error = 479377509.577</text>\n<text text-anchor=\"middle\" x=\"24725\" y=\"-735.8\" font-family=\"Helvetica,sans-Serif\" font-size=\"14.00\">samples = 899</text>\n<text text-anchor=\"middle\" x=\"24725\" y=\"-720.8\" font-family=\"Helvetica,sans-Serif\" font-size=\"14.00\">value = 15209.491</text>\n</g>\n<!-- 0&#45;&gt;238 -->\n<g id=\"edge238\" class=\"edge\">\n<title>0&#45;&gt;238</title>\n<path fill=\"none\" stroke=\"black\" d=\"M23182.6,-843.7C23472.46,-825.71 24302.19,-774.23 24609.07,-755.19\"/>\n<polygon fill=\"black\" stroke=\"black\" points=\"24609.56,-758.67 24619.32,-754.56 24609.12,-751.68 24609.56,-758.67\"/>\n<text text-anchor=\"middle\" x=\"24602.77\" y=\"-769.6\" font-family=\"Helvetica,sans-Serif\" font-size=\"14.00\">False</text>\n</g>\n<!-- 2 -->\n<g id=\"node3\" class=\"node\">\n<title>2</title>\n<polygon fill=\"#fffdfd\" stroke=\"black\" points=\"9447.5,-677 9244.5,-677 9244.5,-609 9447.5,-609 9447.5,-677\"/>\n<text text-anchor=\"middle\" x=\"9346\" y=\"-661.8\" font-family=\"Helvetica,sans-Serif\" font-size=\"14.00\">tempo_emprego &lt;= 10.267</text>\n<text text-anchor=\"middle\" x=\"9346\" y=\"-646.8\" font-family=\"Helvetica,sans-Serif\" font-size=\"14.00\">squared_error = 10336921.834</text>\n<text text-anchor=\"middle\" x=\"9346\" y=\"-631.8\" font-family=\"Helvetica,sans-Serif\" font-size=\"14.00\">samples = 5206</text>\n<text text-anchor=\"middle\" x=\"9346\" y=\"-616.8\" font-family=\"Helvetica,sans-Serif\" font-size=\"14.00\">value = 3668.601</text>\n</g>\n<!-- 1&#45;&gt;2 -->\n<g id=\"edge2\" class=\"edge\">\n<title>1&#45;&gt;2</title>\n<path fill=\"none\" stroke=\"black\" d=\"M17891.81,-744.84C17005.72,-734.39 10399.76,-656.43 9457.68,-645.32\"/>\n<polygon fill=\"black\" stroke=\"black\" points=\"9457.56,-641.82 9447.52,-645.2 9457.48,-648.82 9457.56,-641.82\"/>\n</g>\n<!-- 117 -->\n<g id=\"node118\" class=\"node\">\n<title>117</title>\n<polygon fill=\"#fefbf9\" stroke=\"black\" points=\"18088,-677 17892,-677 17892,-609 18088,-609 18088,-677\"/>\n<text text-anchor=\"middle\" x=\"17990\" y=\"-661.8\" font-family=\"Helvetica,sans-Serif\" font-size=\"14.00\">tempo_emprego &lt;= 8.273</text>\n<text text-anchor=\"middle\" x=\"17990\" y=\"-646.8\" font-family=\"Helvetica,sans-Serif\" font-size=\"14.00\">squared_error = 64555628.95</text>\n<text text-anchor=\"middle\" x=\"17990\" y=\"-631.8\" font-family=\"Helvetica,sans-Serif\" font-size=\"14.00\">samples = 3215</text>\n<text text-anchor=\"middle\" x=\"17990\" y=\"-616.8\" font-family=\"Helvetica,sans-Serif\" font-size=\"14.00\">value = 7711.803</text>\n</g>\n<!-- 1&#45;&gt;117 -->\n<g id=\"edge117\" class=\"edge\">\n<title>1&#45;&gt;117</title>\n<path fill=\"none\" stroke=\"black\" d=\"M17990,-712.88C17990,-704.78 17990,-695.98 17990,-687.47\"/>\n<polygon fill=\"black\" stroke=\"black\" points=\"17993.5,-687.3 17990,-677.3 17986.5,-687.3 17993.5,-687.3\"/>\n</g>\n<!-- 3 -->\n<g id=\"node4\" class=\"node\">\n<title>3</title>\n<polygon fill=\"#fffefd\" stroke=\"black\" points=\"4945,-573 4749,-573 4749,-505 4945,-505 4945,-573\"/>\n<text text-anchor=\"middle\" x=\"4847\" y=\"-557.8\" font-family=\"Helvetica,sans-Serif\" font-size=\"14.00\">tempo_emprego &lt;= 3.448</text>\n<text text-anchor=\"middle\" x=\"4847\" y=\"-542.8\" font-family=\"Helvetica,sans-Serif\" font-size=\"14.00\">squared_error = 6955348.727</text>\n<text text-anchor=\"middle\" x=\"4847\" y=\"-527.8\" font-family=\"Helvetica,sans-Serif\" font-size=\"14.00\">samples = 4249</text>\n<text text-anchor=\"middle\" x=\"4847\" y=\"-512.8\" font-family=\"Helvetica,sans-Serif\" font-size=\"14.00\">value = 3266.879</text>\n</g>\n<!-- 2&#45;&gt;3 -->\n<g id=\"edge3\" class=\"edge\">\n<title>2&#45;&gt;3</title>\n<path fill=\"none\" stroke=\"black\" d=\"M9244.39,-639.7C8644.82,-626.1 5574.34,-556.49 4955.7,-542.46\"/>\n<polygon fill=\"black\" stroke=\"black\" points=\"4955.53,-538.96 4945.45,-542.23 4955.37,-545.96 4955.53,-538.96\"/>\n</g>\n<!-- 66 -->\n<g id=\"node67\" class=\"node\">\n<title>66</title>\n<polygon fill=\"#fefdfb\" stroke=\"black\" points=\"9459.5,-573 9232.5,-573 9232.5,-505 9459.5,-505 9459.5,-573\"/>\n<text text-anchor=\"middle\" x=\"9346\" y=\"-557.8\" font-family=\"Helvetica,sans-Serif\" font-size=\"14.00\">tipo_renda_Servidor público &lt;= 0.5</text>\n<text text-anchor=\"middle\" x=\"9346\" y=\"-542.8\" font-family=\"Helvetica,sans-Serif\" font-size=\"14.00\">squared_error = 21453043.111</text>\n<text text-anchor=\"middle\" x=\"9346\" y=\"-527.8\" font-family=\"Helvetica,sans-Serif\" font-size=\"14.00\">samples = 957</text>\n<text text-anchor=\"middle\" x=\"9346\" y=\"-512.8\" font-family=\"Helvetica,sans-Serif\" font-size=\"14.00\">value = 5452.211</text>\n</g>\n<!-- 2&#45;&gt;66 -->\n<g id=\"edge66\" class=\"edge\">\n<title>2&#45;&gt;66</title>\n<path fill=\"none\" stroke=\"black\" d=\"M9346,-608.88C9346,-600.78 9346,-591.98 9346,-583.47\"/>\n<polygon fill=\"black\" stroke=\"black\" points=\"9349.5,-583.3 9346,-573.3 9342.5,-583.3 9349.5,-583.3\"/>\n</g>\n<!-- 4 -->\n<g id=\"node5\" class=\"node\">\n<title>4</title>\n<polygon fill=\"#fffefd\" stroke=\"black\" points=\"2532.5,-469 2335.5,-469 2335.5,-401 2532.5,-401 2532.5,-469\"/>\n<text text-anchor=\"middle\" x=\"2434\" y=\"-453.8\" font-family=\"Helvetica,sans-Serif\" font-size=\"14.00\">qt_pessoas_residencia &lt;= 4.5</text>\n<text text-anchor=\"middle\" x=\"2434\" y=\"-438.8\" font-family=\"Helvetica,sans-Serif\" font-size=\"14.00\">squared_error = 4579195.239</text>\n<text text-anchor=\"middle\" x=\"2434\" y=\"-423.8\" font-family=\"Helvetica,sans-Serif\" font-size=\"14.00\">samples = 1566</text>\n<text text-anchor=\"middle\" x=\"2434\" y=\"-408.8\" font-family=\"Helvetica,sans-Serif\" font-size=\"14.00\">value = 2829.754</text>\n</g>\n<!-- 3&#45;&gt;4 -->\n<g id=\"edge4\" class=\"edge\">\n<title>3&#45;&gt;4</title>\n<path fill=\"none\" stroke=\"black\" d=\"M4748.67,-533.84C4362.03,-517.5 2947.75,-457.72 2542.93,-440.6\"/>\n<polygon fill=\"black\" stroke=\"black\" points=\"2542.83,-437.1 2532.69,-440.17 2542.53,-444.09 2542.83,-437.1\"/>\n</g>\n<!-- 35 -->\n<g id=\"node36\" class=\"node\">\n<title>35</title>\n<polygon fill=\"#fffefd\" stroke=\"black\" points=\"4947,-469 4747,-469 4747,-401 4947,-401 4947,-469\"/>\n<text text-anchor=\"middle\" x=\"4847\" y=\"-453.8\" font-family=\"Helvetica,sans-Serif\" font-size=\"14.00\">tipo_renda_Empresário &lt;= 0.5</text>\n<text text-anchor=\"middle\" x=\"4847\" y=\"-438.8\" font-family=\"Helvetica,sans-Serif\" font-size=\"14.00\">squared_error = 8165625.881</text>\n<text text-anchor=\"middle\" x=\"4847\" y=\"-423.8\" font-family=\"Helvetica,sans-Serif\" font-size=\"14.00\">samples = 2683</text>\n<text text-anchor=\"middle\" x=\"4847\" y=\"-408.8\" font-family=\"Helvetica,sans-Serif\" font-size=\"14.00\">value = 3522.019</text>\n</g>\n<!-- 3&#45;&gt;35 -->\n<g id=\"edge35\" class=\"edge\">\n<title>3&#45;&gt;35</title>\n<path fill=\"none\" stroke=\"black\" d=\"M4847,-504.88C4847,-496.78 4847,-487.98 4847,-479.47\"/>\n<polygon fill=\"black\" stroke=\"black\" points=\"4850.5,-479.3 4847,-469.3 4843.5,-479.3 4850.5,-479.3\"/>\n</g>\n<!-- 5 -->\n<g id=\"node6\" class=\"node\">\n<title>5</title>\n<polygon fill=\"#fffefd\" stroke=\"black\" points=\"1376,-365 1180,-365 1180,-297 1376,-297 1376,-365\"/>\n<text text-anchor=\"middle\" x=\"1278\" y=\"-349.8\" font-family=\"Helvetica,sans-Serif\" font-size=\"14.00\">idade &lt;= 44.5</text>\n<text text-anchor=\"middle\" x=\"1278\" y=\"-334.8\" font-family=\"Helvetica,sans-Serif\" font-size=\"14.00\">squared_error = 4374868.671</text>\n<text text-anchor=\"middle\" x=\"1278\" y=\"-319.8\" font-family=\"Helvetica,sans-Serif\" font-size=\"14.00\">samples = 1534</text>\n<text text-anchor=\"middle\" x=\"1278\" y=\"-304.8\" font-family=\"Helvetica,sans-Serif\" font-size=\"14.00\">value = 2790.307</text>\n</g>\n<!-- 4&#45;&gt;5 -->\n<g id=\"edge5\" class=\"edge\">\n<title>4&#45;&gt;5</title>\n<path fill=\"none\" stroke=\"black\" d=\"M2335.44,-425.3C2120.35,-406.32 1610.23,-361.31 1386.42,-341.57\"/>\n<polygon fill=\"black\" stroke=\"black\" points=\"1386.58,-338.07 1376.31,-340.67 1385.96,-345.04 1386.58,-338.07\"/>\n</g>\n<!-- 20 -->\n<g id=\"node21\" class=\"node\">\n<title>20</title>\n<polygon fill=\"#fffdfc\" stroke=\"black\" points=\"2535.5,-365 2332.5,-365 2332.5,-297 2535.5,-297 2535.5,-365\"/>\n<text text-anchor=\"middle\" x=\"2434\" y=\"-349.8\" font-family=\"Helvetica,sans-Serif\" font-size=\"14.00\">posse_de_veiculo_True &lt;= 0.5</text>\n<text text-anchor=\"middle\" x=\"2434\" y=\"-334.8\" font-family=\"Helvetica,sans-Serif\" font-size=\"14.00\">squared_error = 10723738.173</text>\n<text text-anchor=\"middle\" x=\"2434\" y=\"-319.8\" font-family=\"Helvetica,sans-Serif\" font-size=\"14.00\">samples = 32</text>\n<text text-anchor=\"middle\" x=\"2434\" y=\"-304.8\" font-family=\"Helvetica,sans-Serif\" font-size=\"14.00\">value = 4720.724</text>\n</g>\n<!-- 4&#45;&gt;20 -->\n<g id=\"edge20\" class=\"edge\">\n<title>4&#45;&gt;20</title>\n<path fill=\"none\" stroke=\"black\" d=\"M2434,-400.88C2434,-392.78 2434,-383.98 2434,-375.47\"/>\n<polygon fill=\"black\" stroke=\"black\" points=\"2437.5,-375.3 2434,-365.3 2430.5,-375.3 2437.5,-375.3\"/>\n</g>\n<!-- 6 -->\n<g id=\"node7\" class=\"node\">\n<title>6</title>\n<polygon fill=\"#fffefd\" stroke=\"black\" points=\"733,-261 533,-261 533,-193 733,-193 733,-261\"/>\n<text text-anchor=\"middle\" x=\"633\" y=\"-245.8\" font-family=\"Helvetica,sans-Serif\" font-size=\"14.00\">tipo_renda_Empresário &lt;= 0.5</text>\n<text text-anchor=\"middle\" x=\"633\" y=\"-230.8\" font-family=\"Helvetica,sans-Serif\" font-size=\"14.00\">squared_error = 3574685.394</text>\n<text text-anchor=\"middle\" x=\"633\" y=\"-215.8\" font-family=\"Helvetica,sans-Serif\" font-size=\"14.00\">samples = 986</text>\n<text text-anchor=\"middle\" x=\"633\" y=\"-200.8\" font-family=\"Helvetica,sans-Serif\" font-size=\"14.00\">value = 2648.933</text>\n</g>\n<!-- 5&#45;&gt;6 -->\n<g id=\"edge6\" class=\"edge\">\n<title>5&#45;&gt;6</title>\n<path fill=\"none\" stroke=\"black\" d=\"M1179.69,-314.45C1062.12,-295.86 865.88,-264.83 743.26,-245.44\"/>\n<polygon fill=\"black\" stroke=\"black\" points=\"743.52,-241.93 733.1,-243.83 742.43,-248.85 743.52,-241.93\"/>\n</g>\n<!-- 13 -->\n<g id=\"node14\" class=\"node\">\n<title>13</title>\n<polygon fill=\"#fffefd\" stroke=\"black\" points=\"1376,-261 1180,-261 1180,-193 1376,-193 1376,-261\"/>\n<text text-anchor=\"middle\" x=\"1278\" y=\"-245.8\" font-family=\"Helvetica,sans-Serif\" font-size=\"14.00\">tempo_emprego &lt;= 3.034</text>\n<text text-anchor=\"middle\" x=\"1278\" y=\"-230.8\" font-family=\"Helvetica,sans-Serif\" font-size=\"14.00\">squared_error = 5713949.465</text>\n<text text-anchor=\"middle\" x=\"1278\" y=\"-215.8\" font-family=\"Helvetica,sans-Serif\" font-size=\"14.00\">samples = 548</text>\n<text text-anchor=\"middle\" x=\"1278\" y=\"-200.8\" font-family=\"Helvetica,sans-Serif\" font-size=\"14.00\">value = 3044.676</text>\n</g>\n<!-- 5&#45;&gt;13 -->\n<g id=\"edge13\" class=\"edge\">\n<title>5&#45;&gt;13</title>\n<path fill=\"none\" stroke=\"black\" d=\"M1278,-296.88C1278,-288.78 1278,-279.98 1278,-271.47\"/>\n<polygon fill=\"black\" stroke=\"black\" points=\"1281.5,-271.3 1278,-261.3 1274.5,-271.3 1281.5,-271.3\"/>\n</g>\n<!-- 7 -->\n<g id=\"node8\" class=\"node\">\n<title>7</title>\n<polygon fill=\"#fffefe\" stroke=\"black\" points=\"406,-157 218,-157 218,-89 406,-89 406,-157\"/>\n<text text-anchor=\"middle\" x=\"312\" y=\"-141.8\" font-family=\"Helvetica,sans-Serif\" font-size=\"14.00\">tempo_emprego &lt;= 0.682</text>\n<text text-anchor=\"middle\" x=\"312\" y=\"-126.8\" font-family=\"Helvetica,sans-Serif\" font-size=\"14.00\">squared_error = 2930816.62</text>\n<text text-anchor=\"middle\" x=\"312\" y=\"-111.8\" font-family=\"Helvetica,sans-Serif\" font-size=\"14.00\">samples = 627</text>\n<text text-anchor=\"middle\" x=\"312\" y=\"-96.8\" font-family=\"Helvetica,sans-Serif\" font-size=\"14.00\">value = 2437.62</text>\n</g>\n<!-- 6&#45;&gt;7 -->\n<g id=\"edge7\" class=\"edge\">\n<title>6&#45;&gt;7</title>\n<path fill=\"none\" stroke=\"black\" d=\"M532.75,-194.15C495.6,-182.34 453.41,-168.94 415.94,-157.03\"/>\n<polygon fill=\"black\" stroke=\"black\" points=\"416.61,-153.57 406.02,-153.87 414.49,-160.24 416.61,-153.57\"/>\n</g>\n<!-- 10 -->\n<g id=\"node11\" class=\"node\">\n<title>10</title>\n<polygon fill=\"#fffefd\" stroke=\"black\" points=\"731,-157 535,-157 535,-89 731,-89 731,-157\"/>\n<text text-anchor=\"middle\" x=\"633\" y=\"-141.8\" font-family=\"Helvetica,sans-Serif\" font-size=\"14.00\">idade &lt;= 42.5</text>\n<text text-anchor=\"middle\" x=\"633\" y=\"-126.8\" font-family=\"Helvetica,sans-Serif\" font-size=\"14.00\">squared_error = 4485019.164</text>\n<text text-anchor=\"middle\" x=\"633\" y=\"-111.8\" font-family=\"Helvetica,sans-Serif\" font-size=\"14.00\">samples = 359</text>\n<text text-anchor=\"middle\" x=\"633\" y=\"-96.8\" font-family=\"Helvetica,sans-Serif\" font-size=\"14.00\">value = 3017.995</text>\n</g>\n<!-- 6&#45;&gt;10 -->\n<g id=\"edge10\" class=\"edge\">\n<title>6&#45;&gt;10</title>\n<path fill=\"none\" stroke=\"black\" d=\"M633,-192.88C633,-184.78 633,-175.98 633,-167.47\"/>\n<polygon fill=\"black\" stroke=\"black\" points=\"636.5,-167.3 633,-157.3 629.5,-167.3 636.5,-167.3\"/>\n</g>\n<!-- 8 -->\n<g id=\"node9\" class=\"node\">\n<title>8</title>\n<polygon fill=\"#fffefe\" stroke=\"black\" points=\"196,-53 0,-53 0,0 196,0 196,-53\"/>\n<text text-anchor=\"middle\" x=\"98\" y=\"-37.8\" font-family=\"Helvetica,sans-Serif\" font-size=\"14.00\">squared_error = 1677507.343</text>\n<text text-anchor=\"middle\" x=\"98\" y=\"-22.8\" font-family=\"Helvetica,sans-Serif\" font-size=\"14.00\">samples = 95</text>\n<text text-anchor=\"middle\" x=\"98\" y=\"-7.8\" font-family=\"Helvetica,sans-Serif\" font-size=\"14.00\">value = 1980.298</text>\n</g>\n<!-- 7&#45;&gt;8 -->\n<g id=\"edge8\" class=\"edge\">\n<title>7&#45;&gt;8</title>\n<path fill=\"none\" stroke=\"black\" d=\"M237.15,-88.95C213.74,-78.61 188.07,-67.27 165.21,-57.18\"/>\n<polygon fill=\"black\" stroke=\"black\" points=\"166.5,-53.92 155.94,-53.09 163.68,-60.33 166.5,-53.92\"/>\n</g>\n<!-- 9 -->\n<g id=\"node10\" class=\"node\">\n<title>9</title>\n<polygon fill=\"#fffefe\" stroke=\"black\" points=\"410,-53 214,-53 214,0 410,0 410,-53\"/>\n<text text-anchor=\"middle\" x=\"312\" y=\"-37.8\" font-family=\"Helvetica,sans-Serif\" font-size=\"14.00\">squared_error = 3110605.713</text>\n<text text-anchor=\"middle\" x=\"312\" y=\"-22.8\" font-family=\"Helvetica,sans-Serif\" font-size=\"14.00\">samples = 532</text>\n<text text-anchor=\"middle\" x=\"312\" y=\"-7.8\" font-family=\"Helvetica,sans-Serif\" font-size=\"14.00\">value = 2519.285</text>\n</g>\n<!-- 7&#45;&gt;9 -->\n<g id=\"edge9\" class=\"edge\">\n<title>7&#45;&gt;9</title>\n<path fill=\"none\" stroke=\"black\" d=\"M312,-88.95C312,-80.72 312,-71.85 312,-63.48\"/>\n<polygon fill=\"black\" stroke=\"black\" points=\"315.5,-63.24 312,-53.24 308.5,-63.24 315.5,-63.24\"/>\n</g>\n<!-- 11 -->\n<g id=\"node12\" class=\"node\">\n<title>11</title>\n<polygon fill=\"#fffefd\" stroke=\"black\" points=\"624,-53 428,-53 428,0 624,0 624,-53\"/>\n<text text-anchor=\"middle\" x=\"526\" y=\"-37.8\" font-family=\"Helvetica,sans-Serif\" font-size=\"14.00\">squared_error = 4758062.357</text>\n<text text-anchor=\"middle\" x=\"526\" y=\"-22.8\" font-family=\"Helvetica,sans-Serif\" font-size=\"14.00\">samples = 316</text>\n<text text-anchor=\"middle\" x=\"526\" y=\"-7.8\" font-family=\"Helvetica,sans-Serif\" font-size=\"14.00\">value = 3127.13</text>\n</g>\n<!-- 10&#45;&gt;11 -->\n<g id=\"edge11\" class=\"edge\">\n<title>10&#45;&gt;11</title>\n<path fill=\"none\" stroke=\"black\" d=\"M595.58,-88.95C584.91,-79.53 573.3,-69.27 562.68,-59.89\"/>\n<polygon fill=\"black\" stroke=\"black\" points=\"564.95,-57.23 555.14,-53.24 560.32,-62.48 564.95,-57.23\"/>\n</g>\n<!-- 12 -->\n<g id=\"node13\" class=\"node\">\n<title>12</title>\n<polygon fill=\"#fffefe\" stroke=\"black\" points=\"838,-53 642,-53 642,0 838,0 838,-53\"/>\n<text text-anchor=\"middle\" x=\"740\" y=\"-37.8\" font-family=\"Helvetica,sans-Serif\" font-size=\"14.00\">squared_error = 1747718.723</text>\n<text text-anchor=\"middle\" x=\"740\" y=\"-22.8\" font-family=\"Helvetica,sans-Serif\" font-size=\"14.00\">samples = 43</text>\n<text text-anchor=\"middle\" x=\"740\" y=\"-7.8\" font-family=\"Helvetica,sans-Serif\" font-size=\"14.00\">value = 2215.983</text>\n</g>\n<!-- 10&#45;&gt;12 -->\n<g id=\"edge12\" class=\"edge\">\n<title>10&#45;&gt;12</title>\n<path fill=\"none\" stroke=\"black\" d=\"M670.42,-88.95C681.09,-79.53 692.7,-69.27 703.32,-59.89\"/>\n<polygon fill=\"black\" stroke=\"black\" points=\"705.68,-62.48 710.86,-53.24 701.05,-57.23 705.68,-62.48\"/>\n</g>\n<!-- 14 -->\n<g id=\"node15\" class=\"node\">\n<title>14</title>\n<polygon fill=\"#fffefd\" stroke=\"black\" points=\"1269,-157 1073,-157 1073,-89 1269,-89 1269,-157\"/>\n<text text-anchor=\"middle\" x=\"1171\" y=\"-141.8\" font-family=\"Helvetica,sans-Serif\" font-size=\"14.00\">tempo_emprego &lt;= 2.051</text>\n<text text-anchor=\"middle\" x=\"1171\" y=\"-126.8\" font-family=\"Helvetica,sans-Serif\" font-size=\"14.00\">squared_error = 6324637.279</text>\n<text text-anchor=\"middle\" x=\"1171\" y=\"-111.8\" font-family=\"Helvetica,sans-Serif\" font-size=\"14.00\">samples = 459</text>\n<text text-anchor=\"middle\" x=\"1171\" y=\"-96.8\" font-family=\"Helvetica,sans-Serif\" font-size=\"14.00\">value = 3161.616</text>\n</g>\n<!-- 13&#45;&gt;14 -->\n<g id=\"edge14\" class=\"edge\">\n<title>13&#45;&gt;14</title>\n<path fill=\"none\" stroke=\"black\" d=\"M1243.26,-192.88C1233.73,-183.8 1223.29,-173.85 1213.38,-164.4\"/>\n<polygon fill=\"black\" stroke=\"black\" points=\"1215.58,-161.67 1205.93,-157.3 1210.75,-166.73 1215.58,-161.67\"/>\n</g>\n<!-- 17 -->\n<g id=\"node18\" class=\"node\">\n<title>17</title>\n<polygon fill=\"#fffefe\" stroke=\"black\" points=\"1483,-157 1287,-157 1287,-89 1483,-89 1483,-157\"/>\n<text text-anchor=\"middle\" x=\"1385\" y=\"-141.8\" font-family=\"Helvetica,sans-Serif\" font-size=\"14.00\">tempo_emprego &lt;= 3.179</text>\n<text text-anchor=\"middle\" x=\"1385\" y=\"-126.8\" font-family=\"Helvetica,sans-Serif\" font-size=\"14.00\">squared_error = 2130202.663</text>\n<text text-anchor=\"middle\" x=\"1385\" y=\"-111.8\" font-family=\"Helvetica,sans-Serif\" font-size=\"14.00\">samples = 89</text>\n<text text-anchor=\"middle\" x=\"1385\" y=\"-96.8\" font-family=\"Helvetica,sans-Serif\" font-size=\"14.00\">value = 2441.585</text>\n</g>\n<!-- 13&#45;&gt;17 -->\n<g id=\"edge17\" class=\"edge\">\n<title>13&#45;&gt;17</title>\n<path fill=\"none\" stroke=\"black\" d=\"M1312.74,-192.88C1322.27,-183.8 1332.71,-173.85 1342.62,-164.4\"/>\n<polygon fill=\"black\" stroke=\"black\" points=\"1345.25,-166.73 1350.07,-157.3 1340.42,-161.67 1345.25,-166.73\"/>\n</g>\n<!-- 15 -->\n<g id=\"node16\" class=\"node\">\n<title>15</title>\n<polygon fill=\"#fffefd\" stroke=\"black\" points=\"1052,-53 856,-53 856,0 1052,0 1052,-53\"/>\n<text text-anchor=\"middle\" x=\"954\" y=\"-37.8\" font-family=\"Helvetica,sans-Serif\" font-size=\"14.00\">squared_error = 3492944.635</text>\n<text text-anchor=\"middle\" x=\"954\" y=\"-22.8\" font-family=\"Helvetica,sans-Serif\" font-size=\"14.00\">samples = 325</text>\n<text text-anchor=\"middle\" x=\"954\" y=\"-7.8\" font-family=\"Helvetica,sans-Serif\" font-size=\"14.00\">value = 2855.104</text>\n</g>\n<!-- 14&#45;&gt;15 -->\n<g id=\"edge15\" class=\"edge\">\n<title>14&#45;&gt;15</title>\n<path fill=\"none\" stroke=\"black\" d=\"M1095.1,-88.95C1071.36,-78.61 1045.33,-67.27 1022.16,-57.18\"/>\n<polygon fill=\"black\" stroke=\"black\" points=\"1023.32,-53.87 1012.75,-53.09 1020.53,-60.29 1023.32,-53.87\"/>\n</g>\n<!-- 16 -->\n<g id=\"node17\" class=\"node\">\n<title>16</title>\n<polygon fill=\"#fffdfc\" stroke=\"black\" points=\"1272.5,-53 1069.5,-53 1069.5,0 1272.5,0 1272.5,-53\"/>\n<text text-anchor=\"middle\" x=\"1171\" y=\"-37.8\" font-family=\"Helvetica,sans-Serif\" font-size=\"14.00\">squared_error = 12412033.624</text>\n<text text-anchor=\"middle\" x=\"1171\" y=\"-22.8\" font-family=\"Helvetica,sans-Serif\" font-size=\"14.00\">samples = 134</text>\n<text text-anchor=\"middle\" x=\"1171\" y=\"-7.8\" font-family=\"Helvetica,sans-Serif\" font-size=\"14.00\">value = 3905.022</text>\n</g>\n<!-- 14&#45;&gt;16 -->\n<g id=\"edge16\" class=\"edge\">\n<title>14&#45;&gt;16</title>\n<path fill=\"none\" stroke=\"black\" d=\"M1171,-88.95C1171,-80.72 1171,-71.85 1171,-63.48\"/>\n<polygon fill=\"black\" stroke=\"black\" points=\"1174.5,-63.24 1171,-53.24 1167.5,-63.24 1174.5,-63.24\"/>\n</g>\n<!-- 18 -->\n<g id=\"node19\" class=\"node\">\n<title>18</title>\n<polygon fill=\"#fffffe\" stroke=\"black\" points=\"1479,-53 1291,-53 1291,0 1479,0 1479,-53\"/>\n<text text-anchor=\"middle\" x=\"1385\" y=\"-37.8\" font-family=\"Helvetica,sans-Serif\" font-size=\"14.00\">squared_error = 524319.692</text>\n<text text-anchor=\"middle\" x=\"1385\" y=\"-22.8\" font-family=\"Helvetica,sans-Serif\" font-size=\"14.00\">samples = 33</text>\n<text text-anchor=\"middle\" x=\"1385\" y=\"-7.8\" font-family=\"Helvetica,sans-Serif\" font-size=\"14.00\">value = 1666.748</text>\n</g>\n<!-- 17&#45;&gt;18 -->\n<g id=\"edge18\" class=\"edge\">\n<title>17&#45;&gt;18</title>\n<path fill=\"none\" stroke=\"black\" d=\"M1385,-88.95C1385,-80.72 1385,-71.85 1385,-63.48\"/>\n<polygon fill=\"black\" stroke=\"black\" points=\"1388.5,-63.24 1385,-53.24 1381.5,-63.24 1388.5,-63.24\"/>\n</g>\n<!-- 19 -->\n<g id=\"node20\" class=\"node\">\n<title>19</title>\n<polygon fill=\"#fffefd\" stroke=\"black\" points=\"1693,-53 1497,-53 1497,0 1693,0 1693,-53\"/>\n<text text-anchor=\"middle\" x=\"1595\" y=\"-37.8\" font-family=\"Helvetica,sans-Serif\" font-size=\"14.00\">squared_error = 2514251.255</text>\n<text text-anchor=\"middle\" x=\"1595\" y=\"-22.8\" font-family=\"Helvetica,sans-Serif\" font-size=\"14.00\">samples = 56</text>\n<text text-anchor=\"middle\" x=\"1595\" y=\"-7.8\" font-family=\"Helvetica,sans-Serif\" font-size=\"14.00\">value = 2898.186</text>\n</g>\n<!-- 17&#45;&gt;19 -->\n<g id=\"edge19\" class=\"edge\">\n<title>17&#45;&gt;19</title>\n<path fill=\"none\" stroke=\"black\" d=\"M1458.45,-88.95C1481.32,-78.66 1506.39,-67.37 1528.74,-57.32\"/>\n<polygon fill=\"black\" stroke=\"black\" points=\"1530.46,-60.38 1538.14,-53.09 1527.59,-54 1530.46,-60.38\"/>\n</g>\n<!-- 21 -->\n<g id=\"node22\" class=\"node\">\n<title>21</title>\n<polygon fill=\"#fffdfb\" stroke=\"black\" points=\"2392.5,-261 2189.5,-261 2189.5,-193 2392.5,-193 2392.5,-261\"/>\n<text text-anchor=\"middle\" x=\"2291\" y=\"-245.8\" font-family=\"Helvetica,sans-Serif\" font-size=\"14.00\">tempo_emprego &lt;= 1.814</text>\n<text text-anchor=\"middle\" x=\"2291\" y=\"-230.8\" font-family=\"Helvetica,sans-Serif\" font-size=\"14.00\">squared_error = 11537244.022</text>\n<text text-anchor=\"middle\" x=\"2291\" y=\"-215.8\" font-family=\"Helvetica,sans-Serif\" font-size=\"14.00\">samples = 22</text>\n<text text-anchor=\"middle\" x=\"2291\" y=\"-200.8\" font-family=\"Helvetica,sans-Serif\" font-size=\"14.00\">value = 5399.411</text>\n</g>\n<!-- 20&#45;&gt;21 -->\n<g id=\"edge21\" class=\"edge\">\n<title>20&#45;&gt;21</title>\n<path fill=\"none\" stroke=\"black\" d=\"M2387.57,-296.88C2374.33,-287.44 2359.79,-277.06 2346.09,-267.29\"/>\n<polygon fill=\"black\" stroke=\"black\" points=\"2347.86,-264.26 2337.68,-261.3 2343.79,-269.96 2347.86,-264.26\"/>\n</g>\n<!-- 28 -->\n<g id=\"node29\" class=\"node\">\n<title>28</title>\n<polygon fill=\"#fffefd\" stroke=\"black\" points=\"2728,-261 2540,-261 2540,-193 2728,-193 2728,-261\"/>\n<text text-anchor=\"middle\" x=\"2634\" y=\"-245.8\" font-family=\"Helvetica,sans-Serif\" font-size=\"14.00\">idade &lt;= 36.0</text>\n<text text-anchor=\"middle\" x=\"2634\" y=\"-230.8\" font-family=\"Helvetica,sans-Serif\" font-size=\"14.00\">squared_error = 5691289.82</text>\n<text text-anchor=\"middle\" x=\"2634\" y=\"-215.8\" font-family=\"Helvetica,sans-Serif\" font-size=\"14.00\">samples = 10</text>\n<text text-anchor=\"middle\" x=\"2634\" y=\"-200.8\" font-family=\"Helvetica,sans-Serif\" font-size=\"14.00\">value = 3227.613</text>\n</g>\n<!-- 20&#45;&gt;28 -->\n<g id=\"edge28\" class=\"edge\">\n<title>20&#45;&gt;28</title>\n<path fill=\"none\" stroke=\"black\" d=\"M2498.93,-296.88C2518.42,-286.95 2539.94,-275.97 2559.97,-265.76\"/>\n<polygon fill=\"black\" stroke=\"black\" points=\"2561.73,-268.79 2569.05,-261.12 2558.55,-262.55 2561.73,-268.79\"/>\n</g>\n<!-- 22 -->\n<g id=\"node23\" class=\"node\">\n<title>22</title>\n<polygon fill=\"#fffdfc\" stroke=\"black\" points=\"2114.5,-157 1917.5,-157 1917.5,-89 2114.5,-89 2114.5,-157\"/>\n<text text-anchor=\"middle\" x=\"2016\" y=\"-141.8\" font-family=\"Helvetica,sans-Serif\" font-size=\"14.00\">qt_pessoas_residencia &lt;= 5.5</text>\n<text text-anchor=\"middle\" x=\"2016\" y=\"-126.8\" font-family=\"Helvetica,sans-Serif\" font-size=\"14.00\">squared_error = 4920825.138</text>\n<text text-anchor=\"middle\" x=\"2016\" y=\"-111.8\" font-family=\"Helvetica,sans-Serif\" font-size=\"14.00\">samples = 18</text>\n<text text-anchor=\"middle\" x=\"2016\" y=\"-96.8\" font-family=\"Helvetica,sans-Serif\" font-size=\"14.00\">value = 4293.57</text>\n</g>\n<!-- 21&#45;&gt;22 -->\n<g id=\"edge22\" class=\"edge\">\n<title>21&#45;&gt;22</title>\n<path fill=\"none\" stroke=\"black\" d=\"M2201.72,-192.88C2173.96,-182.59 2143.2,-171.18 2114.83,-160.66\"/>\n<polygon fill=\"black\" stroke=\"black\" points=\"2115.9,-157.32 2105.31,-157.12 2113.47,-163.88 2115.9,-157.32\"/>\n</g>\n<!-- 25 -->\n<g id=\"node26\" class=\"node\">\n<title>25</title>\n<polygon fill=\"#fefaf7\" stroke=\"black\" points=\"2392.5,-157 2189.5,-157 2189.5,-89 2392.5,-89 2392.5,-157\"/>\n<text text-anchor=\"middle\" x=\"2291\" y=\"-141.8\" font-family=\"Helvetica,sans-Serif\" font-size=\"14.00\">tipo_renda_Empresário &lt;= 0.5</text>\n<text text-anchor=\"middle\" x=\"2291\" y=\"-126.8\" font-family=\"Helvetica,sans-Serif\" font-size=\"14.00\">squared_error = 11044747.125</text>\n<text text-anchor=\"middle\" x=\"2291\" y=\"-111.8\" font-family=\"Helvetica,sans-Serif\" font-size=\"14.00\">samples = 4</text>\n<text text-anchor=\"middle\" x=\"2291\" y=\"-96.8\" font-family=\"Helvetica,sans-Serif\" font-size=\"14.00\">value = 10375.695</text>\n</g>\n<!-- 21&#45;&gt;25 -->\n<g id=\"edge25\" class=\"edge\">\n<title>21&#45;&gt;25</title>\n<path fill=\"none\" stroke=\"black\" d=\"M2291,-192.88C2291,-184.78 2291,-175.98 2291,-167.47\"/>\n<polygon fill=\"black\" stroke=\"black\" points=\"2294.5,-167.3 2291,-157.3 2287.5,-167.3 2294.5,-167.3\"/>\n</g>\n<!-- 23 -->\n<g id=\"node24\" class=\"node\">\n<title>23</title>\n<polygon fill=\"#fffdfc\" stroke=\"black\" points=\"1907,-53 1711,-53 1711,0 1907,0 1907,-53\"/>\n<text text-anchor=\"middle\" x=\"1809\" y=\"-37.8\" font-family=\"Helvetica,sans-Serif\" font-size=\"14.00\">squared_error = 4948239.161</text>\n<text text-anchor=\"middle\" x=\"1809\" y=\"-22.8\" font-family=\"Helvetica,sans-Serif\" font-size=\"14.00\">samples = 16</text>\n<text text-anchor=\"middle\" x=\"1809\" y=\"-7.8\" font-family=\"Helvetica,sans-Serif\" font-size=\"14.00\">value = 4527.427</text>\n</g>\n<!-- 22&#45;&gt;23 -->\n<g id=\"edge23\" class=\"edge\">\n<title>22&#45;&gt;23</title>\n<path fill=\"none\" stroke=\"black\" d=\"M1943.6,-88.95C1921.06,-78.66 1896.34,-67.37 1874.31,-57.32\"/>\n<polygon fill=\"black\" stroke=\"black\" points=\"1875.6,-54.06 1865.05,-53.09 1872.69,-60.42 1875.6,-54.06\"/>\n</g>\n<!-- 24 -->\n<g id=\"node25\" class=\"node\">\n<title>24</title>\n<polygon fill=\"#fffefe\" stroke=\"black\" points=\"2106.5,-53 1925.5,-53 1925.5,0 2106.5,0 2106.5,-53\"/>\n<text text-anchor=\"middle\" x=\"2016\" y=\"-37.8\" font-family=\"Helvetica,sans-Serif\" font-size=\"14.00\">squared_error = 763902.22</text>\n<text text-anchor=\"middle\" x=\"2016\" y=\"-22.8\" font-family=\"Helvetica,sans-Serif\" font-size=\"14.00\">samples = 2</text>\n<text text-anchor=\"middle\" x=\"2016\" y=\"-7.8\" font-family=\"Helvetica,sans-Serif\" font-size=\"14.00\">value = 2422.715</text>\n</g>\n<!-- 22&#45;&gt;24 -->\n<g id=\"edge24\" class=\"edge\">\n<title>22&#45;&gt;24</title>\n<path fill=\"none\" stroke=\"black\" d=\"M2016,-88.95C2016,-80.72 2016,-71.85 2016,-63.48\"/>\n<polygon fill=\"black\" stroke=\"black\" points=\"2019.5,-63.24 2016,-53.24 2012.5,-63.24 2019.5,-63.24\"/>\n</g>\n<!-- 26 -->\n<g id=\"node27\" class=\"node\">\n<title>26</title>\n<polygon fill=\"#fffdfc\" stroke=\"black\" points=\"2261,-53 2125,-53 2125,0 2261,0 2261,-53\"/>\n<text text-anchor=\"middle\" x=\"2193\" y=\"-37.8\" font-family=\"Helvetica,sans-Serif\" font-size=\"14.00\">squared_error = 0.0</text>\n<text text-anchor=\"middle\" x=\"2193\" y=\"-22.8\" font-family=\"Helvetica,sans-Serif\" font-size=\"14.00\">samples = 1</text>\n<text text-anchor=\"middle\" x=\"2193\" y=\"-7.8\" font-family=\"Helvetica,sans-Serif\" font-size=\"14.00\">value = 4619.46</text>\n</g>\n<!-- 25&#45;&gt;26 -->\n<g id=\"edge26\" class=\"edge\">\n<title>25&#45;&gt;26</title>\n<path fill=\"none\" stroke=\"black\" d=\"M2256.72,-88.95C2247.14,-79.71 2236.73,-69.67 2227.16,-60.44\"/>\n<polygon fill=\"black\" stroke=\"black\" points=\"2229.32,-57.66 2219.69,-53.24 2224.46,-62.7 2229.32,-57.66\"/>\n</g>\n<!-- 27 -->\n<g id=\"node28\" class=\"node\">\n<title>27</title>\n<polygon fill=\"#fef9f6\" stroke=\"black\" points=\"2415,-53 2279,-53 2279,0 2415,0 2415,-53\"/>\n<text text-anchor=\"middle\" x=\"2347\" y=\"-37.8\" font-family=\"Helvetica,sans-Serif\" font-size=\"14.00\">squared_error = 0.0</text>\n<text text-anchor=\"middle\" x=\"2347\" y=\"-22.8\" font-family=\"Helvetica,sans-Serif\" font-size=\"14.00\">samples = 3</text>\n<text text-anchor=\"middle\" x=\"2347\" y=\"-7.8\" font-family=\"Helvetica,sans-Serif\" font-size=\"14.00\">value = 12294.44</text>\n</g>\n<!-- 25&#45;&gt;27 -->\n<g id=\"edge27\" class=\"edge\">\n<title>25&#45;&gt;27</title>\n<path fill=\"none\" stroke=\"black\" d=\"M2310.59,-88.95C2315.74,-80.26 2321.3,-70.86 2326.5,-62.09\"/>\n<polygon fill=\"black\" stroke=\"black\" points=\"2329.66,-63.62 2331.75,-53.24 2323.64,-60.06 2329.66,-63.62\"/>\n</g>\n<!-- 29 -->\n<g id=\"node30\" class=\"node\">\n<title>29</title>\n<polygon fill=\"#fffefe\" stroke=\"black\" points=\"2732,-157 2536,-157 2536,-89 2732,-89 2732,-157\"/>\n<text text-anchor=\"middle\" x=\"2634\" y=\"-141.8\" font-family=\"Helvetica,sans-Serif\" font-size=\"14.00\">idade &lt;= 32.0</text>\n<text text-anchor=\"middle\" x=\"2634\" y=\"-126.8\" font-family=\"Helvetica,sans-Serif\" font-size=\"14.00\">squared_error = 1433980.126</text>\n<text text-anchor=\"middle\" x=\"2634\" y=\"-111.8\" font-family=\"Helvetica,sans-Serif\" font-size=\"14.00\">samples = 4</text>\n<text text-anchor=\"middle\" x=\"2634\" y=\"-96.8\" font-family=\"Helvetica,sans-Serif\" font-size=\"14.00\">value = 2259.815</text>\n</g>\n<!-- 28&#45;&gt;29 -->\n<g id=\"edge29\" class=\"edge\">\n<title>28&#45;&gt;29</title>\n<path fill=\"none\" stroke=\"black\" d=\"M2634,-192.88C2634,-184.78 2634,-175.98 2634,-167.47\"/>\n<polygon fill=\"black\" stroke=\"black\" points=\"2637.5,-167.3 2634,-157.3 2630.5,-167.3 2637.5,-167.3\"/>\n</g>\n<!-- 32 -->\n<g id=\"node33\" class=\"node\">\n<title>32</title>\n<polygon fill=\"#fffdfc\" stroke=\"black\" points=\"3055,-157 2819,-157 2819,-89 3055,-89 3055,-157\"/>\n<text text-anchor=\"middle\" x=\"2937\" y=\"-141.8\" font-family=\"Helvetica,sans-Serif\" font-size=\"14.00\">educacao_Superior completo &lt;= 0.5</text>\n<text text-anchor=\"middle\" x=\"2937\" y=\"-126.8\" font-family=\"Helvetica,sans-Serif\" font-size=\"14.00\">squared_error = 7488792.985</text>\n<text text-anchor=\"middle\" x=\"2937\" y=\"-111.8\" font-family=\"Helvetica,sans-Serif\" font-size=\"14.00\">samples = 6</text>\n<text text-anchor=\"middle\" x=\"2937\" y=\"-96.8\" font-family=\"Helvetica,sans-Serif\" font-size=\"14.00\">value = 3872.812</text>\n</g>\n<!-- 28&#45;&gt;32 -->\n<g id=\"edge32\" class=\"edge\">\n<title>28&#45;&gt;32</title>\n<path fill=\"none\" stroke=\"black\" d=\"M2728.21,-194.29C2760.23,-183.51 2796.25,-171.38 2829.24,-160.27\"/>\n<polygon fill=\"black\" stroke=\"black\" points=\"2830.56,-163.52 2838.92,-157.02 2828.33,-156.89 2830.56,-163.52\"/>\n</g>\n<!-- 30 -->\n<g id=\"node31\" class=\"node\">\n<title>30</title>\n<polygon fill=\"#fffefd\" stroke=\"black\" points=\"2629,-53 2433,-53 2433,0 2629,0 2629,-53\"/>\n<text text-anchor=\"middle\" x=\"2531\" y=\"-37.8\" font-family=\"Helvetica,sans-Serif\" font-size=\"14.00\">squared_error = 2436377.592</text>\n<text text-anchor=\"middle\" x=\"2531\" y=\"-22.8\" font-family=\"Helvetica,sans-Serif\" font-size=\"14.00\">samples = 2</text>\n<text text-anchor=\"middle\" x=\"2531\" y=\"-7.8\" font-family=\"Helvetica,sans-Serif\" font-size=\"14.00\">value = 2703.34</text>\n</g>\n<!-- 29&#45;&gt;30 -->\n<g id=\"edge30\" class=\"edge\">\n<title>29&#45;&gt;30</title>\n<path fill=\"none\" stroke=\"black\" d=\"M2597.98,-88.95C2587.81,-79.62 2576.75,-69.47 2566.6,-60.16\"/>\n<polygon fill=\"black\" stroke=\"black\" points=\"2568.79,-57.42 2559.05,-53.24 2564.05,-62.58 2568.79,-57.42\"/>\n</g>\n<!-- 31 -->\n<g id=\"node32\" class=\"node\">\n<title>31</title>\n<polygon fill=\"#fffefe\" stroke=\"black\" points=\"2828.5,-53 2647.5,-53 2647.5,0 2828.5,0 2828.5,-53\"/>\n<text text-anchor=\"middle\" x=\"2738\" y=\"-37.8\" font-family=\"Helvetica,sans-Serif\" font-size=\"14.00\">squared_error = 38153.809</text>\n<text text-anchor=\"middle\" x=\"2738\" y=\"-22.8\" font-family=\"Helvetica,sans-Serif\" font-size=\"14.00\">samples = 2</text>\n<text text-anchor=\"middle\" x=\"2738\" y=\"-7.8\" font-family=\"Helvetica,sans-Serif\" font-size=\"14.00\">value = 1816.29</text>\n</g>\n<!-- 29&#45;&gt;31 -->\n<g id=\"edge31\" class=\"edge\">\n<title>29&#45;&gt;31</title>\n<path fill=\"none\" stroke=\"black\" d=\"M2670.37,-88.95C2680.64,-79.62 2691.81,-69.47 2702.05,-60.16\"/>\n<polygon fill=\"black\" stroke=\"black\" points=\"2704.63,-62.55 2709.68,-53.24 2699.92,-57.37 2704.63,-62.55\"/>\n</g>\n<!-- 33 -->\n<g id=\"node34\" class=\"node\">\n<title>33</title>\n<polygon fill=\"#fffdfc\" stroke=\"black\" points=\"3027.5,-53 2846.5,-53 2846.5,0 3027.5,0 3027.5,-53\"/>\n<text text-anchor=\"middle\" x=\"2937\" y=\"-37.8\" font-family=\"Helvetica,sans-Serif\" font-size=\"14.00\">squared_error = 9160607.1</text>\n<text text-anchor=\"middle\" x=\"2937\" y=\"-22.8\" font-family=\"Helvetica,sans-Serif\" font-size=\"14.00\">samples = 4</text>\n<text text-anchor=\"middle\" x=\"2937\" y=\"-7.8\" font-family=\"Helvetica,sans-Serif\" font-size=\"14.00\">value = 4685.705</text>\n</g>\n<!-- 32&#45;&gt;33 -->\n<g id=\"edge33\" class=\"edge\">\n<title>32&#45;&gt;33</title>\n<path fill=\"none\" stroke=\"black\" d=\"M2937,-88.95C2937,-80.72 2937,-71.85 2937,-63.48\"/>\n<polygon fill=\"black\" stroke=\"black\" points=\"2940.5,-63.24 2937,-53.24 2933.5,-63.24 2940.5,-63.24\"/>\n</g>\n<!-- 34 -->\n<g id=\"node35\" class=\"node\">\n<title>34</title>\n<polygon fill=\"#fffefe\" stroke=\"black\" points=\"3234,-53 3046,-53 3046,0 3234,0 3234,-53\"/>\n<text text-anchor=\"middle\" x=\"3140\" y=\"-37.8\" font-family=\"Helvetica,sans-Serif\" font-size=\"14.00\">squared_error = 180391.326</text>\n<text text-anchor=\"middle\" x=\"3140\" y=\"-22.8\" font-family=\"Helvetica,sans-Serif\" font-size=\"14.00\">samples = 2</text>\n<text text-anchor=\"middle\" x=\"3140\" y=\"-7.8\" font-family=\"Helvetica,sans-Serif\" font-size=\"14.00\">value = 2247.025</text>\n</g>\n<!-- 32&#45;&gt;34 -->\n<g id=\"edge34\" class=\"edge\">\n<title>32&#45;&gt;34</title>\n<path fill=\"none\" stroke=\"black\" d=\"M3008,-88.95C3030.11,-78.66 3054.35,-67.37 3075.95,-57.32\"/>\n<polygon fill=\"black\" stroke=\"black\" points=\"3077.45,-60.48 3085.04,-53.09 3074.49,-54.13 3077.45,-60.48\"/>\n</g>\n<!-- 36 -->\n<g id=\"node37\" class=\"node\">\n<title>36</title>\n<polygon fill=\"#fffefd\" stroke=\"black\" points=\"4637,-365 4437,-365 4437,-297 4637,-297 4637,-365\"/>\n<text text-anchor=\"middle\" x=\"4537\" y=\"-349.8\" font-family=\"Helvetica,sans-Serif\" font-size=\"14.00\">posse_de_imovel_True &lt;= 0.5</text>\n<text text-anchor=\"middle\" x=\"4537\" y=\"-334.8\" font-family=\"Helvetica,sans-Serif\" font-size=\"14.00\">squared_error = 7059070.595</text>\n<text text-anchor=\"middle\" x=\"4537\" y=\"-319.8\" font-family=\"Helvetica,sans-Serif\" font-size=\"14.00\">samples = 1837</text>\n<text text-anchor=\"middle\" x=\"4537\" y=\"-304.8\" font-family=\"Helvetica,sans-Serif\" font-size=\"14.00\">value = 3340.448</text>\n</g>\n<!-- 35&#45;&gt;36 -->\n<g id=\"edge36\" class=\"edge\">\n<title>35&#45;&gt;36</title>\n<path fill=\"none\" stroke=\"black\" d=\"M4746.78,-401.02C4714.82,-390.51 4679.3,-378.82 4646.7,-368.1\"/>\n<polygon fill=\"black\" stroke=\"black\" points=\"4647.73,-364.75 4637.14,-364.95 4645.55,-371.4 4647.73,-364.75\"/>\n</g>\n<!-- 51 -->\n<g id=\"node52\" class=\"node\">\n<title>51</title>\n<polygon fill=\"#fffdfc\" stroke=\"black\" points=\"5494.5,-365 5291.5,-365 5291.5,-297 5494.5,-297 5494.5,-365\"/>\n<text text-anchor=\"middle\" x=\"5393\" y=\"-349.8\" font-family=\"Helvetica,sans-Serif\" font-size=\"14.00\">idade &lt;= 29.5</text>\n<text text-anchor=\"middle\" x=\"5393\" y=\"-334.8\" font-family=\"Helvetica,sans-Serif\" font-size=\"14.00\">squared_error = 10341365.633</text>\n<text text-anchor=\"middle\" x=\"5393\" y=\"-319.8\" font-family=\"Helvetica,sans-Serif\" font-size=\"14.00\">samples = 846</text>\n<text text-anchor=\"middle\" x=\"5393\" y=\"-304.8\" font-family=\"Helvetica,sans-Serif\" font-size=\"14.00\">value = 3916.281</text>\n</g>\n<!-- 35&#45;&gt;51 -->\n<g id=\"edge51\" class=\"edge\">\n<title>35&#45;&gt;51</title>\n<path fill=\"none\" stroke=\"black\" d=\"M4947.14,-415.29C5041.65,-397.64 5183.09,-371.21 5281.22,-352.88\"/>\n<polygon fill=\"black\" stroke=\"black\" points=\"5281.99,-356.3 5291.18,-351.02 5280.7,-349.42 5281.99,-356.3\"/>\n</g>\n<!-- 37 -->\n<g id=\"node38\" class=\"node\">\n<title>37</title>\n<polygon fill=\"#fffefd\" stroke=\"black\" points=\"3985,-261 3789,-261 3789,-193 3985,-193 3985,-261\"/>\n<text text-anchor=\"middle\" x=\"3887\" y=\"-245.8\" font-family=\"Helvetica,sans-Serif\" font-size=\"14.00\">tempo_emprego &lt;= 8.392</text>\n<text text-anchor=\"middle\" x=\"3887\" y=\"-230.8\" font-family=\"Helvetica,sans-Serif\" font-size=\"14.00\">squared_error = 4859105.518</text>\n<text text-anchor=\"middle\" x=\"3887\" y=\"-215.8\" font-family=\"Helvetica,sans-Serif\" font-size=\"14.00\">samples = 638</text>\n<text text-anchor=\"middle\" x=\"3887\" y=\"-200.8\" font-family=\"Helvetica,sans-Serif\" font-size=\"14.00\">value = 2951.335</text>\n</g>\n<!-- 36&#45;&gt;37 -->\n<g id=\"edge37\" class=\"edge\">\n<title>36&#45;&gt;37</title>\n<path fill=\"none\" stroke=\"black\" d=\"M4436.86,-314.29C4317.36,-295.53 4118.31,-264.3 3995.31,-245\"/>\n<polygon fill=\"black\" stroke=\"black\" points=\"3995.54,-241.49 3985.12,-243.4 3994.46,-248.41 3995.54,-241.49\"/>\n</g>\n<!-- 44 -->\n<g id=\"node45\" class=\"node\">\n<title>44</title>\n<polygon fill=\"#fffefd\" stroke=\"black\" points=\"4635,-261 4439,-261 4439,-193 4635,-193 4635,-261\"/>\n<text text-anchor=\"middle\" x=\"4537\" y=\"-245.8\" font-family=\"Helvetica,sans-Serif\" font-size=\"14.00\">idade &lt;= 29.5</text>\n<text text-anchor=\"middle\" x=\"4537\" y=\"-230.8\" font-family=\"Helvetica,sans-Serif\" font-size=\"14.00\">squared_error = 8106257.597</text>\n<text text-anchor=\"middle\" x=\"4537\" y=\"-215.8\" font-family=\"Helvetica,sans-Serif\" font-size=\"14.00\">samples = 1199</text>\n<text text-anchor=\"middle\" x=\"4537\" y=\"-200.8\" font-family=\"Helvetica,sans-Serif\" font-size=\"14.00\">value = 3547.499</text>\n</g>\n<!-- 36&#45;&gt;44 -->\n<g id=\"edge44\" class=\"edge\">\n<title>36&#45;&gt;44</title>\n<path fill=\"none\" stroke=\"black\" d=\"M4537,-296.88C4537,-288.78 4537,-279.98 4537,-271.47\"/>\n<polygon fill=\"black\" stroke=\"black\" points=\"4540.5,-271.3 4537,-261.3 4533.5,-271.3 4540.5,-271.3\"/>\n</g>\n<!-- 38 -->\n<g id=\"node39\" class=\"node\">\n<title>38</title>\n<polygon fill=\"#fffefd\" stroke=\"black\" points=\"3662,-157 3466,-157 3466,-89 3662,-89 3662,-157\"/>\n<text text-anchor=\"middle\" x=\"3564\" y=\"-141.8\" font-family=\"Helvetica,sans-Serif\" font-size=\"14.00\">idade &lt;= 37.5</text>\n<text text-anchor=\"middle\" x=\"3564\" y=\"-126.8\" font-family=\"Helvetica,sans-Serif\" font-size=\"14.00\">squared_error = 3754812.314</text>\n<text text-anchor=\"middle\" x=\"3564\" y=\"-111.8\" font-family=\"Helvetica,sans-Serif\" font-size=\"14.00\">samples = 511</text>\n<text text-anchor=\"middle\" x=\"3564\" y=\"-96.8\" font-family=\"Helvetica,sans-Serif\" font-size=\"14.00\">value = 2767.832</text>\n</g>\n<!-- 37&#45;&gt;38 -->\n<g id=\"edge38\" class=\"edge\">\n<title>37&#45;&gt;38</title>\n<path fill=\"none\" stroke=\"black\" d=\"M3788.77,-194.98C3751.89,-183.33 3709.77,-170.03 3672.04,-158.12\"/>\n<polygon fill=\"black\" stroke=\"black\" points=\"3672.63,-154.63 3662.04,-154.96 3670.52,-161.31 3672.63,-154.63\"/>\n</g>\n<!-- 41 -->\n<g id=\"node42\" class=\"node\">\n<title>41</title>\n<polygon fill=\"#fffdfd\" stroke=\"black\" points=\"3981,-157 3793,-157 3793,-89 3981,-89 3981,-157\"/>\n<text text-anchor=\"middle\" x=\"3887\" y=\"-141.8\" font-family=\"Helvetica,sans-Serif\" font-size=\"14.00\">qtd_filhos &lt;= 1.5</text>\n<text text-anchor=\"middle\" x=\"3887\" y=\"-126.8\" font-family=\"Helvetica,sans-Serif\" font-size=\"14.00\">squared_error = 8621719.73</text>\n<text text-anchor=\"middle\" x=\"3887\" y=\"-111.8\" font-family=\"Helvetica,sans-Serif\" font-size=\"14.00\">samples = 127</text>\n<text text-anchor=\"middle\" x=\"3887\" y=\"-96.8\" font-family=\"Helvetica,sans-Serif\" font-size=\"14.00\">value = 3689.681</text>\n</g>\n<!-- 37&#45;&gt;41 -->\n<g id=\"edge41\" class=\"edge\">\n<title>37&#45;&gt;41</title>\n<path fill=\"none\" stroke=\"black\" d=\"M3887,-192.88C3887,-184.78 3887,-175.98 3887,-167.47\"/>\n<polygon fill=\"black\" stroke=\"black\" points=\"3890.5,-167.3 3887,-157.3 3883.5,-167.3 3890.5,-167.3\"/>\n</g>\n<!-- 39 -->\n<g id=\"node40\" class=\"node\">\n<title>39</title>\n<polygon fill=\"#fffefe\" stroke=\"black\" points=\"3448,-53 3252,-53 3252,0 3448,0 3448,-53\"/>\n<text text-anchor=\"middle\" x=\"3350\" y=\"-37.8\" font-family=\"Helvetica,sans-Serif\" font-size=\"14.00\">squared_error = 2619045.209</text>\n<text text-anchor=\"middle\" x=\"3350\" y=\"-22.8\" font-family=\"Helvetica,sans-Serif\" font-size=\"14.00\">samples = 255</text>\n<text text-anchor=\"middle\" x=\"3350\" y=\"-7.8\" font-family=\"Helvetica,sans-Serif\" font-size=\"14.00\">value = 2491.523</text>\n</g>\n<!-- 38&#45;&gt;39 -->\n<g id=\"edge39\" class=\"edge\">\n<title>38&#45;&gt;39</title>\n<path fill=\"none\" stroke=\"black\" d=\"M3489.15,-88.95C3465.74,-78.61 3440.07,-67.27 3417.21,-57.18\"/>\n<polygon fill=\"black\" stroke=\"black\" points=\"3418.5,-53.92 3407.94,-53.09 3415.68,-60.33 3418.5,-53.92\"/>\n</g>\n<!-- 40 -->\n<g id=\"node41\" class=\"node\">\n<title>40</title>\n<polygon fill=\"#fffefd\" stroke=\"black\" points=\"3662,-53 3466,-53 3466,0 3662,0 3662,-53\"/>\n<text text-anchor=\"middle\" x=\"3564\" y=\"-37.8\" font-family=\"Helvetica,sans-Serif\" font-size=\"14.00\">squared_error = 4734343.437</text>\n<text text-anchor=\"middle\" x=\"3564\" y=\"-22.8\" font-family=\"Helvetica,sans-Serif\" font-size=\"14.00\">samples = 256</text>\n<text text-anchor=\"middle\" x=\"3564\" y=\"-7.8\" font-family=\"Helvetica,sans-Serif\" font-size=\"14.00\">value = 3043.061</text>\n</g>\n<!-- 38&#45;&gt;40 -->\n<g id=\"edge40\" class=\"edge\">\n<title>38&#45;&gt;40</title>\n<path fill=\"none\" stroke=\"black\" d=\"M3564,-88.95C3564,-80.72 3564,-71.85 3564,-63.48\"/>\n<polygon fill=\"black\" stroke=\"black\" points=\"3567.5,-63.24 3564,-53.24 3560.5,-63.24 3567.5,-63.24\"/>\n</g>\n<!-- 42 -->\n<g id=\"node43\" class=\"node\">\n<title>42</title>\n<polygon fill=\"#fffefd\" stroke=\"black\" points=\"3876,-53 3680,-53 3680,0 3876,0 3876,-53\"/>\n<text text-anchor=\"middle\" x=\"3778\" y=\"-37.8\" font-family=\"Helvetica,sans-Serif\" font-size=\"14.00\">squared_error = 5478730.425</text>\n<text text-anchor=\"middle\" x=\"3778\" y=\"-22.8\" font-family=\"Helvetica,sans-Serif\" font-size=\"14.00\">samples = 106</text>\n<text text-anchor=\"middle\" x=\"3778\" y=\"-7.8\" font-family=\"Helvetica,sans-Serif\" font-size=\"14.00\">value = 3292.002</text>\n</g>\n<!-- 41&#45;&gt;42 -->\n<g id=\"edge42\" class=\"edge\">\n<title>41&#45;&gt;42</title>\n<path fill=\"none\" stroke=\"black\" d=\"M3848.88,-88.95C3838.01,-79.53 3826.18,-69.27 3815.36,-59.89\"/>\n<polygon fill=\"black\" stroke=\"black\" points=\"3817.53,-57.14 3807.69,-53.24 3812.95,-62.43 3817.53,-57.14\"/>\n</g>\n<!-- 43 -->\n<g id=\"node44\" class=\"node\">\n<title>43</title>\n<polygon fill=\"#fefcfb\" stroke=\"black\" points=\"4096.5,-53 3893.5,-53 3893.5,0 4096.5,0 4096.5,-53\"/>\n<text text-anchor=\"middle\" x=\"3995\" y=\"-37.8\" font-family=\"Helvetica,sans-Serif\" font-size=\"14.00\">squared_error = 19658664.726</text>\n<text text-anchor=\"middle\" x=\"3995\" y=\"-22.8\" font-family=\"Helvetica,sans-Serif\" font-size=\"14.00\">samples = 21</text>\n<text text-anchor=\"middle\" x=\"3995\" y=\"-7.8\" font-family=\"Helvetica,sans-Serif\" font-size=\"14.00\">value = 5697.016</text>\n</g>\n<!-- 41&#45;&gt;43 -->\n<g id=\"edge43\" class=\"edge\">\n<title>41&#45;&gt;43</title>\n<path fill=\"none\" stroke=\"black\" d=\"M3924.77,-88.95C3935.54,-79.53 3947.26,-69.27 3957.98,-59.89\"/>\n<polygon fill=\"black\" stroke=\"black\" points=\"3960.37,-62.46 3965.59,-53.24 3955.76,-57.19 3960.37,-62.46\"/>\n</g>\n<!-- 45 -->\n<g id=\"node46\" class=\"node\">\n<title>45</title>\n<polygon fill=\"#fffdfc\" stroke=\"black\" points=\"4530.5,-157 4327.5,-157 4327.5,-89 4530.5,-89 4530.5,-157\"/>\n<text text-anchor=\"middle\" x=\"4429\" y=\"-141.8\" font-family=\"Helvetica,sans-Serif\" font-size=\"14.00\">qt_pessoas_residencia &lt;= 3.5</text>\n<text text-anchor=\"middle\" x=\"4429\" y=\"-126.8\" font-family=\"Helvetica,sans-Serif\" font-size=\"14.00\">squared_error = 22569257.938</text>\n<text text-anchor=\"middle\" x=\"4429\" y=\"-111.8\" font-family=\"Helvetica,sans-Serif\" font-size=\"14.00\">samples = 135</text>\n<text text-anchor=\"middle\" x=\"4429\" y=\"-96.8\" font-family=\"Helvetica,sans-Serif\" font-size=\"14.00\">value = 4574.233</text>\n</g>\n<!-- 44&#45;&gt;45 -->\n<g id=\"edge45\" class=\"edge\">\n<title>44&#45;&gt;45</title>\n<path fill=\"none\" stroke=\"black\" d=\"M4501.94,-192.88C4492.32,-183.8 4481.78,-173.85 4471.78,-164.4\"/>\n<polygon fill=\"black\" stroke=\"black\" points=\"4473.93,-161.62 4464.26,-157.3 4469.13,-166.71 4473.93,-161.62\"/>\n</g>\n<!-- 48 -->\n<g id=\"node49\" class=\"node\">\n<title>48</title>\n<polygon fill=\"#fffefd\" stroke=\"black\" points=\"4744,-157 4548,-157 4548,-89 4744,-89 4744,-157\"/>\n<text text-anchor=\"middle\" x=\"4646\" y=\"-141.8\" font-family=\"Helvetica,sans-Serif\" font-size=\"14.00\">idade &lt;= 54.5</text>\n<text text-anchor=\"middle\" x=\"4646\" y=\"-126.8\" font-family=\"Helvetica,sans-Serif\" font-size=\"14.00\">squared_error = 6120471.465</text>\n<text text-anchor=\"middle\" x=\"4646\" y=\"-111.8\" font-family=\"Helvetica,sans-Serif\" font-size=\"14.00\">samples = 1064</text>\n<text text-anchor=\"middle\" x=\"4646\" y=\"-96.8\" font-family=\"Helvetica,sans-Serif\" font-size=\"14.00\">value = 3417.228</text>\n</g>\n<!-- 44&#45;&gt;48 -->\n<g id=\"edge48\" class=\"edge\">\n<title>44&#45;&gt;48</title>\n<path fill=\"none\" stroke=\"black\" d=\"M4572.39,-192.88C4582.1,-183.8 4592.73,-173.85 4602.83,-164.4\"/>\n<polygon fill=\"black\" stroke=\"black\" points=\"4605.51,-166.69 4610.42,-157.3 4600.72,-161.58 4605.51,-166.69\"/>\n</g>\n<!-- 46 -->\n<g id=\"node47\" class=\"node\">\n<title>46</title>\n<polygon fill=\"#fffdfc\" stroke=\"black\" points=\"4317.5,-53 4114.5,-53 4114.5,0 4317.5,0 4317.5,-53\"/>\n<text text-anchor=\"middle\" x=\"4216\" y=\"-37.8\" font-family=\"Helvetica,sans-Serif\" font-size=\"14.00\">squared_error = 24367469.344</text>\n<text text-anchor=\"middle\" x=\"4216\" y=\"-22.8\" font-family=\"Helvetica,sans-Serif\" font-size=\"14.00\">samples = 118</text>\n<text text-anchor=\"middle\" x=\"4216\" y=\"-7.8\" font-family=\"Helvetica,sans-Serif\" font-size=\"14.00\">value = 4970.306</text>\n</g>\n<!-- 45&#45;&gt;46 -->\n<g id=\"edge46\" class=\"edge\">\n<title>45&#45;&gt;46</title>\n<path fill=\"none\" stroke=\"black\" d=\"M4354.5,-88.95C4331.2,-78.61 4305.65,-67.27 4282.9,-57.18\"/>\n<polygon fill=\"black\" stroke=\"black\" points=\"4284.23,-53.94 4273.67,-53.09 4281.39,-60.34 4284.23,-53.94\"/>\n</g>\n<!-- 47 -->\n<g id=\"node48\" class=\"node\">\n<title>47</title>\n<polygon fill=\"#fffefe\" stroke=\"black\" points=\"4531,-53 4335,-53 4335,0 4531,0 4531,-53\"/>\n<text text-anchor=\"middle\" x=\"4433\" y=\"-37.8\" font-family=\"Helvetica,sans-Serif\" font-size=\"14.00\">squared_error = 1440482.581</text>\n<text text-anchor=\"middle\" x=\"4433\" y=\"-22.8\" font-family=\"Helvetica,sans-Serif\" font-size=\"14.00\">samples = 17</text>\n<text text-anchor=\"middle\" x=\"4433\" y=\"-7.8\" font-family=\"Helvetica,sans-Serif\" font-size=\"14.00\">value = 1825.018</text>\n</g>\n<!-- 45&#45;&gt;47 -->\n<g id=\"edge47\" class=\"edge\">\n<title>45&#45;&gt;47</title>\n<path fill=\"none\" stroke=\"black\" d=\"M4430.4,-88.95C4430.75,-80.72 4431.12,-71.85 4431.48,-63.48\"/>\n<polygon fill=\"black\" stroke=\"black\" points=\"4434.98,-63.38 4431.91,-53.24 4427.99,-63.08 4434.98,-63.38\"/>\n</g>\n<!-- 49 -->\n<g id=\"node50\" class=\"node\">\n<title>49</title>\n<polygon fill=\"#fffefd\" stroke=\"black\" points=\"4737,-53 4549,-53 4549,0 4737,0 4737,-53\"/>\n<text text-anchor=\"middle\" x=\"4643\" y=\"-37.8\" font-family=\"Helvetica,sans-Serif\" font-size=\"14.00\">squared_error = 5824238.77</text>\n<text text-anchor=\"middle\" x=\"4643\" y=\"-22.8\" font-family=\"Helvetica,sans-Serif\" font-size=\"14.00\">samples = 977</text>\n<text text-anchor=\"middle\" x=\"4643\" y=\"-7.8\" font-family=\"Helvetica,sans-Serif\" font-size=\"14.00\">value = 3296.075</text>\n</g>\n<!-- 48&#45;&gt;49 -->\n<g id=\"edge49\" class=\"edge\">\n<title>48&#45;&gt;49</title>\n<path fill=\"none\" stroke=\"black\" d=\"M4644.95,-88.95C4644.69,-80.72 4644.41,-71.85 4644.14,-63.48\"/>\n<polygon fill=\"black\" stroke=\"black\" points=\"4647.63,-63.12 4643.82,-53.24 4640.64,-63.34 4647.63,-63.12\"/>\n</g>\n<!-- 50 -->\n<g id=\"node51\" class=\"node\">\n<title>50</title>\n<polygon fill=\"#fffdfc\" stroke=\"black\" points=\"4951,-53 4755,-53 4755,0 4951,0 4951,-53\"/>\n<text text-anchor=\"middle\" x=\"4853\" y=\"-37.8\" font-family=\"Helvetica,sans-Serif\" font-size=\"14.00\">squared_error = 7431244.045</text>\n<text text-anchor=\"middle\" x=\"4853\" y=\"-22.8\" font-family=\"Helvetica,sans-Serif\" font-size=\"14.00\">samples = 87</text>\n<text text-anchor=\"middle\" x=\"4853\" y=\"-7.8\" font-family=\"Helvetica,sans-Serif\" font-size=\"14.00\">value = 4777.762</text>\n</g>\n<!-- 48&#45;&gt;50 -->\n<g id=\"edge50\" class=\"edge\">\n<title>48&#45;&gt;50</title>\n<path fill=\"none\" stroke=\"black\" d=\"M4718.4,-88.95C4740.94,-78.66 4765.66,-67.37 4787.69,-57.32\"/>\n<polygon fill=\"black\" stroke=\"black\" points=\"4789.31,-60.42 4796.95,-53.09 4786.4,-54.06 4789.31,-60.42\"/>\n</g>\n<!-- 52 -->\n<g id=\"node53\" class=\"node\">\n<title>52</title>\n<polygon fill=\"#fffefd\" stroke=\"black\" points=\"5494.5,-261 5291.5,-261 5291.5,-193 5494.5,-193 5494.5,-261\"/>\n<text text-anchor=\"middle\" x=\"5393\" y=\"-245.8\" font-family=\"Helvetica,sans-Serif\" font-size=\"14.00\">posse_de_veiculo_True &lt;= 0.5</text>\n<text text-anchor=\"middle\" x=\"5393\" y=\"-230.8\" font-family=\"Helvetica,sans-Serif\" font-size=\"14.00\">squared_error = 3637252.392</text>\n<text text-anchor=\"middle\" x=\"5393\" y=\"-215.8\" font-family=\"Helvetica,sans-Serif\" font-size=\"14.00\">samples = 112</text>\n<text text-anchor=\"middle\" x=\"5393\" y=\"-200.8\" font-family=\"Helvetica,sans-Serif\" font-size=\"14.00\">value = 2902.823</text>\n</g>\n<!-- 51&#45;&gt;52 -->\n<g id=\"edge52\" class=\"edge\">\n<title>51&#45;&gt;52</title>\n<path fill=\"none\" stroke=\"black\" d=\"M5393,-296.88C5393,-288.78 5393,-279.98 5393,-271.47\"/>\n<polygon fill=\"black\" stroke=\"black\" points=\"5396.5,-271.3 5393,-261.3 5389.5,-271.3 5396.5,-271.3\"/>\n</g>\n<!-- 59 -->\n<g id=\"node60\" class=\"node\">\n<title>59</title>\n<polygon fill=\"#fffdfc\" stroke=\"black\" points=\"6161,-261 5915,-261 5915,-193 6161,-193 6161,-261\"/>\n<text text-anchor=\"middle\" x=\"6038\" y=\"-245.8\" font-family=\"Helvetica,sans-Serif\" font-size=\"14.00\">educacao_Superior incompleto &lt;= 0.5</text>\n<text text-anchor=\"middle\" x=\"6038\" y=\"-230.8\" font-family=\"Helvetica,sans-Serif\" font-size=\"14.00\">squared_error = 11183699.351</text>\n<text text-anchor=\"middle\" x=\"6038\" y=\"-215.8\" font-family=\"Helvetica,sans-Serif\" font-size=\"14.00\">samples = 734</text>\n<text text-anchor=\"middle\" x=\"6038\" y=\"-200.8\" font-family=\"Helvetica,sans-Serif\" font-size=\"14.00\">value = 4070.923</text>\n</g>\n<!-- 51&#45;&gt;59 -->\n<g id=\"edge59\" class=\"edge\">\n<title>51&#45;&gt;59</title>\n<path fill=\"none\" stroke=\"black\" d=\"M5494.85,-313.89C5605.6,-296.38 5783.05,-268.32 5904.79,-249.07\"/>\n<polygon fill=\"black\" stroke=\"black\" points=\"5905.59,-252.48 5914.92,-247.46 5904.5,-245.57 5905.59,-252.48\"/>\n</g>\n<!-- 53 -->\n<g id=\"node54\" class=\"node\">\n<title>53</title>\n<polygon fill=\"#fffefe\" stroke=\"black\" points=\"5374,-157 5178,-157 5178,-89 5374,-89 5374,-157\"/>\n<text text-anchor=\"middle\" x=\"5276\" y=\"-141.8\" font-family=\"Helvetica,sans-Serif\" font-size=\"14.00\">tempo_emprego &lt;= 8.947</text>\n<text text-anchor=\"middle\" x=\"5276\" y=\"-126.8\" font-family=\"Helvetica,sans-Serif\" font-size=\"14.00\">squared_error = 2682388.057</text>\n<text text-anchor=\"middle\" x=\"5276\" y=\"-111.8\" font-family=\"Helvetica,sans-Serif\" font-size=\"14.00\">samples = 73</text>\n<text text-anchor=\"middle\" x=\"5276\" y=\"-96.8\" font-family=\"Helvetica,sans-Serif\" font-size=\"14.00\">value = 2444.072</text>\n</g>\n<!-- 52&#45;&gt;53 -->\n<g id=\"edge53\" class=\"edge\">\n<title>52&#45;&gt;53</title>\n<path fill=\"none\" stroke=\"black\" d=\"M5355.01,-192.88C5344.49,-183.71 5332.95,-173.65 5322.02,-164.12\"/>\n<polygon fill=\"black\" stroke=\"black\" points=\"5324.03,-161.23 5314.2,-157.3 5319.43,-166.51 5324.03,-161.23\"/>\n</g>\n<!-- 56 -->\n<g id=\"node57\" class=\"node\">\n<title>56</title>\n<polygon fill=\"#fffdfd\" stroke=\"black\" points=\"5628,-157 5392,-157 5392,-89 5628,-89 5628,-157\"/>\n<text text-anchor=\"middle\" x=\"5510\" y=\"-141.8\" font-family=\"Helvetica,sans-Serif\" font-size=\"14.00\">educacao_Superior completo &lt;= 0.5</text>\n<text text-anchor=\"middle\" x=\"5510\" y=\"-126.8\" font-family=\"Helvetica,sans-Serif\" font-size=\"14.00\">squared_error = 4293290.951</text>\n<text text-anchor=\"middle\" x=\"5510\" y=\"-111.8\" font-family=\"Helvetica,sans-Serif\" font-size=\"14.00\">samples = 39</text>\n<text text-anchor=\"middle\" x=\"5510\" y=\"-96.8\" font-family=\"Helvetica,sans-Serif\" font-size=\"14.00\">value = 3761.512</text>\n</g>\n<!-- 52&#45;&gt;56 -->\n<g id=\"edge56\" class=\"edge\">\n<title>52&#45;&gt;56</title>\n<path fill=\"none\" stroke=\"black\" d=\"M5430.99,-192.88C5441.51,-183.71 5453.05,-173.65 5463.98,-164.12\"/>\n<polygon fill=\"black\" stroke=\"black\" points=\"5466.57,-166.51 5471.8,-157.3 5461.97,-161.23 5466.57,-166.51\"/>\n</g>\n<!-- 54 -->\n<g id=\"node55\" class=\"node\">\n<title>54</title>\n<polygon fill=\"#fffefe\" stroke=\"black\" points=\"5165,-53 4969,-53 4969,0 5165,0 5165,-53\"/>\n<text text-anchor=\"middle\" x=\"5067\" y=\"-37.8\" font-family=\"Helvetica,sans-Serif\" font-size=\"14.00\">squared_error = 1731229.646</text>\n<text text-anchor=\"middle\" x=\"5067\" y=\"-22.8\" font-family=\"Helvetica,sans-Serif\" font-size=\"14.00\">samples = 71</text>\n<text text-anchor=\"middle\" x=\"5067\" y=\"-7.8\" font-family=\"Helvetica,sans-Serif\" font-size=\"14.00\">value = 2352.536</text>\n</g>\n<!-- 53&#45;&gt;54 -->\n<g id=\"edge54\" class=\"edge\">\n<title>53&#45;&gt;54</title>\n<path fill=\"none\" stroke=\"black\" d=\"M5202.9,-88.95C5180.14,-78.66 5155.18,-67.37 5132.94,-57.32\"/>\n<polygon fill=\"black\" stroke=\"black\" points=\"5134.14,-54.02 5123.59,-53.09 5131.26,-60.4 5134.14,-54.02\"/>\n</g>\n<!-- 55 -->\n<g id=\"node56\" class=\"node\">\n<title>55</title>\n<polygon fill=\"#fefcfb\" stroke=\"black\" points=\"5385.5,-53 5182.5,-53 5182.5,0 5385.5,0 5385.5,-53\"/>\n<text text-anchor=\"middle\" x=\"5284\" y=\"-37.8\" font-family=\"Helvetica,sans-Serif\" font-size=\"14.00\">squared_error = 25591760.969</text>\n<text text-anchor=\"middle\" x=\"5284\" y=\"-22.8\" font-family=\"Helvetica,sans-Serif\" font-size=\"14.00\">samples = 2</text>\n<text text-anchor=\"middle\" x=\"5284\" y=\"-7.8\" font-family=\"Helvetica,sans-Serif\" font-size=\"14.00\">value = 5693.58</text>\n</g>\n<!-- 53&#45;&gt;55 -->\n<g id=\"edge55\" class=\"edge\">\n<title>53&#45;&gt;55</title>\n<path fill=\"none\" stroke=\"black\" d=\"M5278.8,-88.95C5279.5,-80.62 5280.26,-71.65 5280.98,-63.2\"/>\n<polygon fill=\"black\" stroke=\"black\" points=\"5284.47,-63.5 5281.82,-53.24 5277.49,-62.91 5284.47,-63.5\"/>\n</g>\n<!-- 57 -->\n<g id=\"node58\" class=\"node\">\n<title>57</title>\n<polygon fill=\"#fffefd\" stroke=\"black\" points=\"5599,-53 5403,-53 5403,0 5599,0 5599,-53\"/>\n<text text-anchor=\"middle\" x=\"5501\" y=\"-37.8\" font-family=\"Helvetica,sans-Serif\" font-size=\"14.00\">squared_error = 1466080.843</text>\n<text text-anchor=\"middle\" x=\"5501\" y=\"-22.8\" font-family=\"Helvetica,sans-Serif\" font-size=\"14.00\">samples = 18</text>\n<text text-anchor=\"middle\" x=\"5501\" y=\"-7.8\" font-family=\"Helvetica,sans-Serif\" font-size=\"14.00\">value = 2821.679</text>\n</g>\n<!-- 56&#45;&gt;57 -->\n<g id=\"edge57\" class=\"edge\">\n<title>56&#45;&gt;57</title>\n<path fill=\"none\" stroke=\"black\" d=\"M5506.85,-88.95C5506.06,-80.62 5505.2,-71.65 5504.4,-63.2\"/>\n<polygon fill=\"black\" stroke=\"black\" points=\"5507.88,-62.86 5503.45,-53.24 5500.92,-63.52 5507.88,-62.86\"/>\n</g>\n<!-- 58 -->\n<g id=\"node59\" class=\"node\">\n<title>58</title>\n<polygon fill=\"#fffdfc\" stroke=\"black\" points=\"5813,-53 5617,-53 5617,0 5813,0 5813,-53\"/>\n<text text-anchor=\"middle\" x=\"5715\" y=\"-37.8\" font-family=\"Helvetica,sans-Serif\" font-size=\"14.00\">squared_error = 5310567.867</text>\n<text text-anchor=\"middle\" x=\"5715\" y=\"-22.8\" font-family=\"Helvetica,sans-Serif\" font-size=\"14.00\">samples = 21</text>\n<text text-anchor=\"middle\" x=\"5715\" y=\"-7.8\" font-family=\"Helvetica,sans-Serif\" font-size=\"14.00\">value = 4567.083</text>\n</g>\n<!-- 56&#45;&gt;58 -->\n<g id=\"edge58\" class=\"edge\">\n<title>56&#45;&gt;58</title>\n<path fill=\"none\" stroke=\"black\" d=\"M5581.7,-88.95C5604.03,-78.66 5628.5,-67.37 5650.32,-57.32\"/>\n<polygon fill=\"black\" stroke=\"black\" points=\"5651.88,-60.45 5659.49,-53.09 5648.95,-54.09 5651.88,-60.45\"/>\n</g>\n<!-- 60 -->\n<g id=\"node61\" class=\"node\">\n<title>60</title>\n<polygon fill=\"#fffdfc\" stroke=\"black\" points=\"6139.5,-157 5936.5,-157 5936.5,-89 6139.5,-89 6139.5,-157\"/>\n<text text-anchor=\"middle\" x=\"6038\" y=\"-141.8\" font-family=\"Helvetica,sans-Serif\" font-size=\"14.00\">tempo_emprego &lt;= 9.507</text>\n<text text-anchor=\"middle\" x=\"6038\" y=\"-126.8\" font-family=\"Helvetica,sans-Serif\" font-size=\"14.00\">squared_error = 10680198.662</text>\n<text text-anchor=\"middle\" x=\"6038\" y=\"-111.8\" font-family=\"Helvetica,sans-Serif\" font-size=\"14.00\">samples = 703</text>\n<text text-anchor=\"middle\" x=\"6038\" y=\"-96.8\" font-family=\"Helvetica,sans-Serif\" font-size=\"14.00\">value = 3995.149</text>\n</g>\n<!-- 59&#45;&gt;60 -->\n<g id=\"edge60\" class=\"edge\">\n<title>59&#45;&gt;60</title>\n<path fill=\"none\" stroke=\"black\" d=\"M6038,-192.88C6038,-184.78 6038,-175.98 6038,-167.47\"/>\n<polygon fill=\"black\" stroke=\"black\" points=\"6041.5,-167.3 6038,-157.3 6034.5,-167.3 6041.5,-167.3\"/>\n</g>\n<!-- 63 -->\n<g id=\"node64\" class=\"node\">\n<title>63</title>\n<polygon fill=\"#fefcfb\" stroke=\"black\" points=\"6468.5,-157 6265.5,-157 6265.5,-89 6468.5,-89 6468.5,-157\"/>\n<text text-anchor=\"middle\" x=\"6367\" y=\"-141.8\" font-family=\"Helvetica,sans-Serif\" font-size=\"14.00\">tempo_emprego &lt;= 7.632</text>\n<text text-anchor=\"middle\" x=\"6367\" y=\"-126.8\" font-family=\"Helvetica,sans-Serif\" font-size=\"14.00\">squared_error = 19518845.889</text>\n<text text-anchor=\"middle\" x=\"6367\" y=\"-111.8\" font-family=\"Helvetica,sans-Serif\" font-size=\"14.00\">samples = 31</text>\n<text text-anchor=\"middle\" x=\"6367\" y=\"-96.8\" font-family=\"Helvetica,sans-Serif\" font-size=\"14.00\">value = 5789.277</text>\n</g>\n<!-- 59&#45;&gt;63 -->\n<g id=\"edge63\" class=\"edge\">\n<title>59&#45;&gt;63</title>\n<path fill=\"none\" stroke=\"black\" d=\"M6144.82,-192.88C6180.23,-181.9 6219.73,-169.66 6255.49,-158.57\"/>\n<polygon fill=\"black\" stroke=\"black\" points=\"6256.96,-161.78 6265.47,-155.48 6254.88,-155.1 6256.96,-161.78\"/>\n</g>\n<!-- 61 -->\n<g id=\"node62\" class=\"node\">\n<title>61</title>\n<polygon fill=\"#fffdfc\" stroke=\"black\" points=\"6027,-53 5831,-53 5831,0 6027,0 6027,-53\"/>\n<text text-anchor=\"middle\" x=\"5929\" y=\"-37.8\" font-family=\"Helvetica,sans-Serif\" font-size=\"14.00\">squared_error = 9800349.326</text>\n<text text-anchor=\"middle\" x=\"5929\" y=\"-22.8\" font-family=\"Helvetica,sans-Serif\" font-size=\"14.00\">samples = 663</text>\n<text text-anchor=\"middle\" x=\"5929\" y=\"-7.8\" font-family=\"Helvetica,sans-Serif\" font-size=\"14.00\">value = 3920.304</text>\n</g>\n<!-- 60&#45;&gt;61 -->\n<g id=\"edge61\" class=\"edge\">\n<title>60&#45;&gt;61</title>\n<path fill=\"none\" stroke=\"black\" d=\"M5999.88,-88.95C5989.01,-79.53 5977.18,-69.27 5966.36,-59.89\"/>\n<polygon fill=\"black\" stroke=\"black\" points=\"5968.53,-57.14 5958.69,-53.24 5963.95,-62.43 5968.53,-57.14\"/>\n</g>\n<!-- 62 -->\n<g id=\"node63\" class=\"node\">\n<title>62</title>\n<polygon fill=\"#fffdfb\" stroke=\"black\" points=\"6247.5,-53 6044.5,-53 6044.5,0 6247.5,0 6247.5,-53\"/>\n<text text-anchor=\"middle\" x=\"6146\" y=\"-37.8\" font-family=\"Helvetica,sans-Serif\" font-size=\"14.00\">squared_error = 23631891.823</text>\n<text text-anchor=\"middle\" x=\"6146\" y=\"-22.8\" font-family=\"Helvetica,sans-Serif\" font-size=\"14.00\">samples = 40</text>\n<text text-anchor=\"middle\" x=\"6146\" y=\"-7.8\" font-family=\"Helvetica,sans-Serif\" font-size=\"14.00\">value = 5235.697</text>\n</g>\n<!-- 60&#45;&gt;62 -->\n<g id=\"edge62\" class=\"edge\">\n<title>60&#45;&gt;62</title>\n<path fill=\"none\" stroke=\"black\" d=\"M6075.77,-88.95C6086.54,-79.53 6098.26,-69.27 6108.98,-59.89\"/>\n<polygon fill=\"black\" stroke=\"black\" points=\"6111.37,-62.46 6116.59,-53.24 6106.76,-57.19 6111.37,-62.46\"/>\n</g>\n<!-- 64 -->\n<g id=\"node65\" class=\"node\">\n<title>64</title>\n<polygon fill=\"#fffdfc\" stroke=\"black\" points=\"6468.5,-53 6265.5,-53 6265.5,0 6468.5,0 6468.5,-53\"/>\n<text text-anchor=\"middle\" x=\"6367\" y=\"-37.8\" font-family=\"Helvetica,sans-Serif\" font-size=\"14.00\">squared_error = 11701199.594</text>\n<text text-anchor=\"middle\" x=\"6367\" y=\"-22.8\" font-family=\"Helvetica,sans-Serif\" font-size=\"14.00\">samples = 26</text>\n<text text-anchor=\"middle\" x=\"6367\" y=\"-7.8\" font-family=\"Helvetica,sans-Serif\" font-size=\"14.00\">value = 4801.269</text>\n</g>\n<!-- 63&#45;&gt;64 -->\n<g id=\"edge64\" class=\"edge\">\n<title>63&#45;&gt;64</title>\n<path fill=\"none\" stroke=\"black\" d=\"M6367,-88.95C6367,-80.72 6367,-71.85 6367,-63.48\"/>\n<polygon fill=\"black\" stroke=\"black\" points=\"6370.5,-63.24 6367,-53.24 6363.5,-63.24 6370.5,-63.24\"/>\n</g>\n<!-- 65 -->\n<g id=\"node66\" class=\"node\">\n<title>65</title>\n<polygon fill=\"#fefaf7\" stroke=\"black\" points=\"6689.5,-53 6486.5,-53 6486.5,0 6689.5,0 6689.5,-53\"/>\n<text text-anchor=\"middle\" x=\"6588\" y=\"-37.8\" font-family=\"Helvetica,sans-Serif\" font-size=\"14.00\">squared_error = 28699202.392</text>\n<text text-anchor=\"middle\" x=\"6588\" y=\"-22.8\" font-family=\"Helvetica,sans-Serif\" font-size=\"14.00\">samples = 5</text>\n<text text-anchor=\"middle\" x=\"6588\" y=\"-7.8\" font-family=\"Helvetica,sans-Serif\" font-size=\"14.00\">value = 10926.92</text>\n</g>\n<!-- 63&#45;&gt;65 -->\n<g id=\"edge65\" class=\"edge\">\n<title>63&#45;&gt;65</title>\n<path fill=\"none\" stroke=\"black\" d=\"M6444.3,-88.95C6468.58,-78.56 6495.22,-67.17 6518.9,-57.05\"/>\n<polygon fill=\"black\" stroke=\"black\" points=\"6520.34,-60.24 6528.16,-53.09 6517.59,-53.8 6520.34,-60.24\"/>\n</g>\n<!-- 67 -->\n<g id=\"node68\" class=\"node\">\n<title>67</title>\n<polygon fill=\"#fffdfb\" stroke=\"black\" points=\"8880.5,-469 8677.5,-469 8677.5,-401 8880.5,-401 8880.5,-469\"/>\n<text text-anchor=\"middle\" x=\"8779\" y=\"-453.8\" font-family=\"Helvetica,sans-Serif\" font-size=\"14.00\">idade &lt;= 54.5</text>\n<text text-anchor=\"middle\" x=\"8779\" y=\"-438.8\" font-family=\"Helvetica,sans-Serif\" font-size=\"14.00\">squared_error = 17466551.008</text>\n<text text-anchor=\"middle\" x=\"8779\" y=\"-423.8\" font-family=\"Helvetica,sans-Serif\" font-size=\"14.00\">samples = 757</text>\n<text text-anchor=\"middle\" x=\"8779\" y=\"-408.8\" font-family=\"Helvetica,sans-Serif\" font-size=\"14.00\">value = 5202.435</text>\n</g>\n<!-- 66&#45;&gt;67 -->\n<g id=\"edge67\" class=\"edge\">\n<title>66&#45;&gt;67</title>\n<path fill=\"none\" stroke=\"black\" d=\"M9232.28,-517.54C9132.89,-499.66 8989.43,-473.85 8890.65,-456.09\"/>\n<polygon fill=\"black\" stroke=\"black\" points=\"8891.1,-452.61 8880.64,-454.28 8889.86,-459.5 8891.1,-452.61\"/>\n</g>\n<!-- 94 -->\n<g id=\"node95\" class=\"node\">\n<title>94</title>\n<polygon fill=\"#fefcfa\" stroke=\"black\" points=\"9725.5,-469 9522.5,-469 9522.5,-401 9725.5,-401 9725.5,-469\"/>\n<text text-anchor=\"middle\" x=\"9624\" y=\"-453.8\" font-family=\"Helvetica,sans-Serif\" font-size=\"14.00\">tempo_emprego &lt;= 15.295</text>\n<text text-anchor=\"middle\" x=\"9624\" y=\"-438.8\" font-family=\"Helvetica,sans-Serif\" font-size=\"14.00\">squared_error = 35411987.807</text>\n<text text-anchor=\"middle\" x=\"9624\" y=\"-423.8\" font-family=\"Helvetica,sans-Serif\" font-size=\"14.00\">samples = 200</text>\n<text text-anchor=\"middle\" x=\"9624\" y=\"-408.8\" font-family=\"Helvetica,sans-Serif\" font-size=\"14.00\">value = 6397.615</text>\n</g>\n<!-- 66&#45;&gt;94 -->\n<g id=\"edge94\" class=\"edge\">\n<title>66&#45;&gt;94</title>\n<path fill=\"none\" stroke=\"black\" d=\"M9436.26,-504.88C9464.32,-494.59 9495.41,-483.18 9524.09,-472.66\"/>\n<polygon fill=\"black\" stroke=\"black\" points=\"9525.54,-475.86 9533.72,-469.12 9523.13,-469.28 9525.54,-475.86\"/>\n</g>\n<!-- 68 -->\n<g id=\"node69\" class=\"node\">\n<title>68</title>\n<polygon fill=\"#fffdfb\" stroke=\"black\" points=\"7984.5,-365 7781.5,-365 7781.5,-297 7984.5,-297 7984.5,-365\"/>\n<text text-anchor=\"middle\" x=\"7883\" y=\"-349.8\" font-family=\"Helvetica,sans-Serif\" font-size=\"14.00\">tipo_renda_Empresário &lt;= 0.5</text>\n<text text-anchor=\"middle\" x=\"7883\" y=\"-334.8\" font-family=\"Helvetica,sans-Serif\" font-size=\"14.00\">squared_error = 16437319.737</text>\n<text text-anchor=\"middle\" x=\"7883\" y=\"-319.8\" font-family=\"Helvetica,sans-Serif\" font-size=\"14.00\">samples = 687</text>\n<text text-anchor=\"middle\" x=\"7883\" y=\"-304.8\" font-family=\"Helvetica,sans-Serif\" font-size=\"14.00\">value = 5045.952</text>\n</g>\n<!-- 67&#45;&gt;68 -->\n<g id=\"edge68\" class=\"edge\">\n<title>67&#45;&gt;68</title>\n<path fill=\"none\" stroke=\"black\" d=\"M8677.09,-422.4C8507.91,-403.14 8170.38,-364.72 7994.85,-344.73\"/>\n<polygon fill=\"black\" stroke=\"black\" points=\"7995.15,-341.24 7984.82,-343.59 7994.35,-348.2 7995.15,-341.24\"/>\n</g>\n<!-- 83 -->\n<g id=\"node84\" class=\"node\">\n<title>83</title>\n<polygon fill=\"#fefcfa\" stroke=\"black\" points=\"8880.5,-365 8677.5,-365 8677.5,-297 8880.5,-297 8880.5,-365\"/>\n<text text-anchor=\"middle\" x=\"8779\" y=\"-349.8\" font-family=\"Helvetica,sans-Serif\" font-size=\"14.00\">tempo_emprego &lt;= 11.03</text>\n<text text-anchor=\"middle\" x=\"8779\" y=\"-334.8\" font-family=\"Helvetica,sans-Serif\" font-size=\"14.00\">squared_error = 24968815.732</text>\n<text text-anchor=\"middle\" x=\"8779\" y=\"-319.8\" font-family=\"Helvetica,sans-Serif\" font-size=\"14.00\">samples = 70</text>\n<text text-anchor=\"middle\" x=\"8779\" y=\"-304.8\" font-family=\"Helvetica,sans-Serif\" font-size=\"14.00\">value = 6738.203</text>\n</g>\n<!-- 67&#45;&gt;83 -->\n<g id=\"edge83\" class=\"edge\">\n<title>67&#45;&gt;83</title>\n<path fill=\"none\" stroke=\"black\" d=\"M8779,-400.88C8779,-392.78 8779,-383.98 8779,-375.47\"/>\n<polygon fill=\"black\" stroke=\"black\" points=\"8782.5,-375.3 8779,-365.3 8775.5,-375.3 8782.5,-375.3\"/>\n</g>\n<!-- 69 -->\n<g id=\"node70\" class=\"node\">\n<title>69</title>\n<polygon fill=\"#fffdfc\" stroke=\"black\" points=\"7415.5,-261 7212.5,-261 7212.5,-193 7415.5,-193 7415.5,-261\"/>\n<text text-anchor=\"middle\" x=\"7314\" y=\"-245.8\" font-family=\"Helvetica,sans-Serif\" font-size=\"14.00\">qt_pessoas_residencia &lt;= 5.5</text>\n<text text-anchor=\"middle\" x=\"7314\" y=\"-230.8\" font-family=\"Helvetica,sans-Serif\" font-size=\"14.00\">squared_error = 13317719.447</text>\n<text text-anchor=\"middle\" x=\"7314\" y=\"-215.8\" font-family=\"Helvetica,sans-Serif\" font-size=\"14.00\">samples = 513</text>\n<text text-anchor=\"middle\" x=\"7314\" y=\"-200.8\" font-family=\"Helvetica,sans-Serif\" font-size=\"14.00\">value = 4693.097</text>\n</g>\n<!-- 68&#45;&gt;69 -->\n<g id=\"edge69\" class=\"edge\">\n<title>68&#45;&gt;69</title>\n<path fill=\"none\" stroke=\"black\" d=\"M7781.27,-311.76C7681.35,-293.85 7529.27,-266.59 7425.96,-248.07\"/>\n<polygon fill=\"black\" stroke=\"black\" points=\"7426.26,-244.57 7415.8,-246.25 7425.03,-251.46 7426.26,-244.57\"/>\n</g>\n<!-- 76 -->\n<g id=\"node77\" class=\"node\">\n<title>76</title>\n<polygon fill=\"#fefcfb\" stroke=\"black\" points=\"7984.5,-261 7781.5,-261 7781.5,-193 7984.5,-193 7984.5,-261\"/>\n<text text-anchor=\"middle\" x=\"7883\" y=\"-245.8\" font-family=\"Helvetica,sans-Serif\" font-size=\"14.00\">idade &lt;= 36.5</text>\n<text text-anchor=\"middle\" x=\"7883\" y=\"-230.8\" font-family=\"Helvetica,sans-Serif\" font-size=\"14.00\">squared_error = 24185430.402</text>\n<text text-anchor=\"middle\" x=\"7883\" y=\"-215.8\" font-family=\"Helvetica,sans-Serif\" font-size=\"14.00\">samples = 174</text>\n<text text-anchor=\"middle\" x=\"7883\" y=\"-200.8\" font-family=\"Helvetica,sans-Serif\" font-size=\"14.00\">value = 6086.265</text>\n</g>\n<!-- 68&#45;&gt;76 -->\n<g id=\"edge76\" class=\"edge\">\n<title>68&#45;&gt;76</title>\n<path fill=\"none\" stroke=\"black\" d=\"M7883,-296.88C7883,-288.78 7883,-279.98 7883,-271.47\"/>\n<polygon fill=\"black\" stroke=\"black\" points=\"7886.5,-271.3 7883,-261.3 7879.5,-271.3 7886.5,-271.3\"/>\n</g>\n<!-- 70 -->\n<g id=\"node71\" class=\"node\">\n<title>70</title>\n<polygon fill=\"#fffdfc\" stroke=\"black\" points=\"7123.5,-157 6920.5,-157 6920.5,-89 7123.5,-89 7123.5,-157\"/>\n<text text-anchor=\"middle\" x=\"7022\" y=\"-141.8\" font-family=\"Helvetica,sans-Serif\" font-size=\"14.00\">tempo_emprego &lt;= 12.099</text>\n<text text-anchor=\"middle\" x=\"7022\" y=\"-126.8\" font-family=\"Helvetica,sans-Serif\" font-size=\"14.00\">squared_error = 12979558.509</text>\n<text text-anchor=\"middle\" x=\"7022\" y=\"-111.8\" font-family=\"Helvetica,sans-Serif\" font-size=\"14.00\">samples = 509</text>\n<text text-anchor=\"middle\" x=\"7022\" y=\"-96.8\" font-family=\"Helvetica,sans-Serif\" font-size=\"14.00\">value = 4651.848</text>\n</g>\n<!-- 69&#45;&gt;70 -->\n<g id=\"edge70\" class=\"edge\">\n<title>69&#45;&gt;70</title>\n<path fill=\"none\" stroke=\"black\" d=\"M7219.2,-192.88C7189.59,-182.54 7156.78,-171.08 7126.54,-160.52\"/>\n<polygon fill=\"black\" stroke=\"black\" points=\"7127.42,-157.12 7116.83,-157.12 7125.11,-163.73 7127.42,-157.12\"/>\n</g>\n<!-- 73 -->\n<g id=\"node74\" class=\"node\">\n<title>73</title>\n<polygon fill=\"#fefaf8\" stroke=\"black\" points=\"7437,-157 7191,-157 7191,-89 7437,-89 7437,-157\"/>\n<text text-anchor=\"middle\" x=\"7314\" y=\"-141.8\" font-family=\"Helvetica,sans-Serif\" font-size=\"14.00\">educacao_Superior incompleto &lt;= 0.5</text>\n<text text-anchor=\"middle\" x=\"7314\" y=\"-126.8\" font-family=\"Helvetica,sans-Serif\" font-size=\"14.00\">squared_error = 28580678.288</text>\n<text text-anchor=\"middle\" x=\"7314\" y=\"-111.8\" font-family=\"Helvetica,sans-Serif\" font-size=\"14.00\">samples = 4</text>\n<text text-anchor=\"middle\" x=\"7314\" y=\"-96.8\" font-family=\"Helvetica,sans-Serif\" font-size=\"14.00\">value = 9942.05</text>\n</g>\n<!-- 69&#45;&gt;73 -->\n<g id=\"edge73\" class=\"edge\">\n<title>69&#45;&gt;73</title>\n<path fill=\"none\" stroke=\"black\" d=\"M7314,-192.88C7314,-184.78 7314,-175.98 7314,-167.47\"/>\n<polygon fill=\"black\" stroke=\"black\" points=\"7317.5,-167.3 7314,-157.3 7310.5,-167.3 7317.5,-167.3\"/>\n</g>\n<!-- 71 -->\n<g id=\"node72\" class=\"node\">\n<title>71</title>\n<polygon fill=\"#fffdfc\" stroke=\"black\" points=\"6903,-53 6707,-53 6707,0 6903,0 6903,-53\"/>\n<text text-anchor=\"middle\" x=\"6805\" y=\"-37.8\" font-family=\"Helvetica,sans-Serif\" font-size=\"14.00\">squared_error = 11764550.32</text>\n<text text-anchor=\"middle\" x=\"6805\" y=\"-22.8\" font-family=\"Helvetica,sans-Serif\" font-size=\"14.00\">samples = 158</text>\n<text text-anchor=\"middle\" x=\"6805\" y=\"-7.8\" font-family=\"Helvetica,sans-Serif\" font-size=\"14.00\">value = 3952.994</text>\n</g>\n<!-- 70&#45;&gt;71 -->\n<g id=\"edge71\" class=\"edge\">\n<title>70&#45;&gt;71</title>\n<path fill=\"none\" stroke=\"black\" d=\"M6946.1,-88.95C6922.36,-78.61 6896.33,-67.27 6873.16,-57.18\"/>\n<polygon fill=\"black\" stroke=\"black\" points=\"6874.32,-53.87 6863.75,-53.09 6871.53,-60.29 6874.32,-53.87\"/>\n</g>\n<!-- 72 -->\n<g id=\"node73\" class=\"node\">\n<title>72</title>\n<polygon fill=\"#fffdfc\" stroke=\"black\" points=\"7123.5,-53 6920.5,-53 6920.5,0 7123.5,0 7123.5,-53\"/>\n<text text-anchor=\"middle\" x=\"7022\" y=\"-37.8\" font-family=\"Helvetica,sans-Serif\" font-size=\"14.00\">squared_error = 13207673.871</text>\n<text text-anchor=\"middle\" x=\"7022\" y=\"-22.8\" font-family=\"Helvetica,sans-Serif\" font-size=\"14.00\">samples = 351</text>\n<text text-anchor=\"middle\" x=\"7022\" y=\"-7.8\" font-family=\"Helvetica,sans-Serif\" font-size=\"14.00\">value = 4966.432</text>\n</g>\n<!-- 70&#45;&gt;72 -->\n<g id=\"edge72\" class=\"edge\">\n<title>70&#45;&gt;72</title>\n<path fill=\"none\" stroke=\"black\" d=\"M7022,-88.95C7022,-80.72 7022,-71.85 7022,-63.48\"/>\n<polygon fill=\"black\" stroke=\"black\" points=\"7025.5,-63.24 7022,-53.24 7018.5,-63.24 7025.5,-63.24\"/>\n</g>\n<!-- 74 -->\n<g id=\"node75\" class=\"node\">\n<title>74</title>\n<polygon fill=\"#fdf7f3\" stroke=\"black\" points=\"7278,-53 7142,-53 7142,0 7278,0 7278,-53\"/>\n<text text-anchor=\"middle\" x=\"7210\" y=\"-37.8\" font-family=\"Helvetica,sans-Serif\" font-size=\"14.00\">squared_error = 0.0</text>\n<text text-anchor=\"middle\" x=\"7210\" y=\"-22.8\" font-family=\"Helvetica,sans-Serif\" font-size=\"14.00\">samples = 2</text>\n<text text-anchor=\"middle\" x=\"7210\" y=\"-7.8\" font-family=\"Helvetica,sans-Serif\" font-size=\"14.00\">value = 15288.14</text>\n</g>\n<!-- 73&#45;&gt;74 -->\n<g id=\"edge74\" class=\"edge\">\n<title>73&#45;&gt;74</title>\n<path fill=\"none\" stroke=\"black\" d=\"M7277.63,-88.95C7267.36,-79.62 7256.19,-69.47 7245.95,-60.16\"/>\n<polygon fill=\"black\" stroke=\"black\" points=\"7248.08,-57.37 7238.32,-53.24 7243.37,-62.55 7248.08,-57.37\"/>\n</g>\n<!-- 75 -->\n<g id=\"node76\" class=\"node\">\n<title>75</title>\n<polygon fill=\"#fffdfc\" stroke=\"black\" points=\"7432,-53 7296,-53 7296,0 7432,0 7432,-53\"/>\n<text text-anchor=\"middle\" x=\"7364\" y=\"-37.8\" font-family=\"Helvetica,sans-Serif\" font-size=\"14.00\">squared_error = 0.0</text>\n<text text-anchor=\"middle\" x=\"7364\" y=\"-22.8\" font-family=\"Helvetica,sans-Serif\" font-size=\"14.00\">samples = 2</text>\n<text text-anchor=\"middle\" x=\"7364\" y=\"-7.8\" font-family=\"Helvetica,sans-Serif\" font-size=\"14.00\">value = 4595.96</text>\n</g>\n<!-- 73&#45;&gt;75 -->\n<g id=\"edge75\" class=\"edge\">\n<title>73&#45;&gt;75</title>\n<path fill=\"none\" stroke=\"black\" d=\"M7331.49,-88.95C7336.09,-80.26 7341.06,-70.86 7345.7,-62.09\"/>\n<polygon fill=\"black\" stroke=\"black\" points=\"7348.8,-63.71 7350.38,-53.24 7342.61,-60.44 7348.8,-63.71\"/>\n</g>\n<!-- 77 -->\n<g id=\"node78\" class=\"node\">\n<title>77</title>\n<polygon fill=\"#fefbf8\" stroke=\"black\" points=\"7874.5,-157 7671.5,-157 7671.5,-89 7874.5,-89 7874.5,-157\"/>\n<text text-anchor=\"middle\" x=\"7773\" y=\"-141.8\" font-family=\"Helvetica,sans-Serif\" font-size=\"14.00\">posse_de_imovel_True &lt;= 0.5</text>\n<text text-anchor=\"middle\" x=\"7773\" y=\"-126.8\" font-family=\"Helvetica,sans-Serif\" font-size=\"14.00\">squared_error = 51212111.393</text>\n<text text-anchor=\"middle\" x=\"7773\" y=\"-111.8\" font-family=\"Helvetica,sans-Serif\" font-size=\"14.00\">samples = 35</text>\n<text text-anchor=\"middle\" x=\"7773\" y=\"-96.8\" font-family=\"Helvetica,sans-Serif\" font-size=\"14.00\">value = 9054.041</text>\n</g>\n<!-- 76&#45;&gt;77 -->\n<g id=\"edge77\" class=\"edge\">\n<title>76&#45;&gt;77</title>\n<path fill=\"none\" stroke=\"black\" d=\"M7847.29,-192.88C7837.39,-183.71 7826.54,-173.65 7816.27,-164.12\"/>\n<polygon fill=\"black\" stroke=\"black\" points=\"7818.62,-161.53 7808.91,-157.3 7813.86,-166.67 7818.62,-161.53\"/>\n</g>\n<!-- 80 -->\n<g id=\"node81\" class=\"node\">\n<title>80</title>\n<polygon fill=\"#fffdfb\" stroke=\"black\" points=\"8095.5,-157 7892.5,-157 7892.5,-89 8095.5,-89 8095.5,-157\"/>\n<text text-anchor=\"middle\" x=\"7994\" y=\"-141.8\" font-family=\"Helvetica,sans-Serif\" font-size=\"14.00\">estado_civil_Viúvo &lt;= 0.5</text>\n<text text-anchor=\"middle\" x=\"7994\" y=\"-126.8\" font-family=\"Helvetica,sans-Serif\" font-size=\"14.00\">squared_error = 14603957.818</text>\n<text text-anchor=\"middle\" x=\"7994\" y=\"-111.8\" font-family=\"Helvetica,sans-Serif\" font-size=\"14.00\">samples = 139</text>\n<text text-anchor=\"middle\" x=\"7994\" y=\"-96.8\" font-family=\"Helvetica,sans-Serif\" font-size=\"14.00\">value = 5338.984</text>\n</g>\n<!-- 76&#45;&gt;80 -->\n<g id=\"edge80\" class=\"edge\">\n<title>76&#45;&gt;80</title>\n<path fill=\"none\" stroke=\"black\" d=\"M7919.04,-192.88C7929.02,-183.71 7939.97,-173.65 7950.34,-164.12\"/>\n<polygon fill=\"black\" stroke=\"black\" points=\"7952.77,-166.64 7957.76,-157.3 7948.03,-161.49 7952.77,-166.64\"/>\n</g>\n<!-- 78 -->\n<g id=\"node79\" class=\"node\">\n<title>78</title>\n<polygon fill=\"#fefcfb\" stroke=\"black\" points=\"7653.5,-53 7450.5,-53 7450.5,0 7653.5,0 7653.5,-53\"/>\n<text text-anchor=\"middle\" x=\"7552\" y=\"-37.8\" font-family=\"Helvetica,sans-Serif\" font-size=\"14.00\">squared_error = 21272685.741</text>\n<text text-anchor=\"middle\" x=\"7552\" y=\"-22.8\" font-family=\"Helvetica,sans-Serif\" font-size=\"14.00\">samples = 18</text>\n<text text-anchor=\"middle\" x=\"7552\" y=\"-7.8\" font-family=\"Helvetica,sans-Serif\" font-size=\"14.00\">value = 6189.851</text>\n</g>\n<!-- 77&#45;&gt;78 -->\n<g id=\"edge78\" class=\"edge\">\n<title>77&#45;&gt;78</title>\n<path fill=\"none\" stroke=\"black\" d=\"M7695.7,-88.95C7671.42,-78.56 7644.78,-67.17 7621.1,-57.05\"/>\n<polygon fill=\"black\" stroke=\"black\" points=\"7622.41,-53.8 7611.84,-53.09 7619.66,-60.24 7622.41,-53.8\"/>\n</g>\n<!-- 79 -->\n<g id=\"node80\" class=\"node\">\n<title>79</title>\n<polygon fill=\"#fef9f6\" stroke=\"black\" points=\"7874.5,-53 7671.5,-53 7671.5,0 7874.5,0 7874.5,-53\"/>\n<text text-anchor=\"middle\" x=\"7773\" y=\"-37.8\" font-family=\"Helvetica,sans-Serif\" font-size=\"14.00\">squared_error = 65029440.296</text>\n<text text-anchor=\"middle\" x=\"7773\" y=\"-22.8\" font-family=\"Helvetica,sans-Serif\" font-size=\"14.00\">samples = 17</text>\n<text text-anchor=\"middle\" x=\"7773\" y=\"-7.8\" font-family=\"Helvetica,sans-Serif\" font-size=\"14.00\">value = 12086.712</text>\n</g>\n<!-- 77&#45;&gt;79 -->\n<g id=\"edge79\" class=\"edge\">\n<title>77&#45;&gt;79</title>\n<path fill=\"none\" stroke=\"black\" d=\"M7773,-88.95C7773,-80.72 7773,-71.85 7773,-63.48\"/>\n<polygon fill=\"black\" stroke=\"black\" points=\"7776.5,-63.24 7773,-53.24 7769.5,-63.24 7776.5,-63.24\"/>\n</g>\n<!-- 81 -->\n<g id=\"node82\" class=\"node\">\n<title>81</title>\n<polygon fill=\"#fffdfb\" stroke=\"black\" points=\"8095.5,-53 7892.5,-53 7892.5,0 8095.5,0 8095.5,-53\"/>\n<text text-anchor=\"middle\" x=\"7994\" y=\"-37.8\" font-family=\"Helvetica,sans-Serif\" font-size=\"14.00\">squared_error = 13624848.385</text>\n<text text-anchor=\"middle\" x=\"7994\" y=\"-22.8\" font-family=\"Helvetica,sans-Serif\" font-size=\"14.00\">samples = 134</text>\n<text text-anchor=\"middle\" x=\"7994\" y=\"-7.8\" font-family=\"Helvetica,sans-Serif\" font-size=\"14.00\">value = 5146.47</text>\n</g>\n<!-- 80&#45;&gt;81 -->\n<g id=\"edge81\" class=\"edge\">\n<title>80&#45;&gt;81</title>\n<path fill=\"none\" stroke=\"black\" d=\"M7994,-88.95C7994,-80.72 7994,-71.85 7994,-63.48\"/>\n<polygon fill=\"black\" stroke=\"black\" points=\"7997.5,-63.24 7994,-53.24 7990.5,-63.24 7997.5,-63.24\"/>\n</g>\n<!-- 82 -->\n<g id=\"node83\" class=\"node\">\n<title>82</title>\n<polygon fill=\"#fefaf7\" stroke=\"black\" points=\"8316.5,-53 8113.5,-53 8113.5,0 8316.5,0 8316.5,-53\"/>\n<text text-anchor=\"middle\" x=\"8215\" y=\"-37.8\" font-family=\"Helvetica,sans-Serif\" font-size=\"14.00\">squared_error = 13231847.682</text>\n<text text-anchor=\"middle\" x=\"8215\" y=\"-22.8\" font-family=\"Helvetica,sans-Serif\" font-size=\"14.00\">samples = 5</text>\n<text text-anchor=\"middle\" x=\"8215\" y=\"-7.8\" font-family=\"Helvetica,sans-Serif\" font-size=\"14.00\">value = 10498.344</text>\n</g>\n<!-- 80&#45;&gt;82 -->\n<g id=\"edge82\" class=\"edge\">\n<title>80&#45;&gt;82</title>\n<path fill=\"none\" stroke=\"black\" d=\"M8071.3,-88.95C8095.58,-78.56 8122.22,-67.17 8145.9,-57.05\"/>\n<polygon fill=\"black\" stroke=\"black\" points=\"8147.34,-60.24 8155.16,-53.09 8144.59,-53.8 8147.34,-60.24\"/>\n</g>\n<!-- 84 -->\n<g id=\"node85\" class=\"node\">\n<title>84</title>\n<polygon fill=\"#fef9f6\" stroke=\"black\" points=\"8770.5,-261 8567.5,-261 8567.5,-193 8770.5,-193 8770.5,-261\"/>\n<text text-anchor=\"middle\" x=\"8669\" y=\"-245.8\" font-family=\"Helvetica,sans-Serif\" font-size=\"14.00\">estado_civil_Viúvo &lt;= 0.5</text>\n<text text-anchor=\"middle\" x=\"8669\" y=\"-230.8\" font-family=\"Helvetica,sans-Serif\" font-size=\"14.00\">squared_error = 38799931.812</text>\n<text text-anchor=\"middle\" x=\"8669\" y=\"-215.8\" font-family=\"Helvetica,sans-Serif\" font-size=\"14.00\">samples = 10</text>\n<text text-anchor=\"middle\" x=\"8669\" y=\"-200.8\" font-family=\"Helvetica,sans-Serif\" font-size=\"14.00\">value = 11410.833</text>\n</g>\n<!-- 83&#45;&gt;84 -->\n<g id=\"edge84\" class=\"edge\">\n<title>83&#45;&gt;84</title>\n<path fill=\"none\" stroke=\"black\" d=\"M8743.29,-296.88C8733.39,-287.71 8722.54,-277.65 8712.27,-268.12\"/>\n<polygon fill=\"black\" stroke=\"black\" points=\"8714.62,-265.53 8704.91,-261.3 8709.86,-270.67 8714.62,-265.53\"/>\n</g>\n<!-- 89 -->\n<g id=\"node90\" class=\"node\">\n<title>89</title>\n<polygon fill=\"#fefcfb\" stroke=\"black\" points=\"8991.5,-261 8788.5,-261 8788.5,-193 8991.5,-193 8991.5,-261\"/>\n<text text-anchor=\"middle\" x=\"8890\" y=\"-245.8\" font-family=\"Helvetica,sans-Serif\" font-size=\"14.00\">estado_civil_Separado &lt;= 0.5</text>\n<text text-anchor=\"middle\" x=\"8890\" y=\"-230.8\" font-family=\"Helvetica,sans-Serif\" font-size=\"14.00\">squared_error = 18418232.556</text>\n<text text-anchor=\"middle\" x=\"8890\" y=\"-215.8\" font-family=\"Helvetica,sans-Serif\" font-size=\"14.00\">samples = 60</text>\n<text text-anchor=\"middle\" x=\"8890\" y=\"-200.8\" font-family=\"Helvetica,sans-Serif\" font-size=\"14.00\">value = 5959.431</text>\n</g>\n<!-- 83&#45;&gt;89 -->\n<g id=\"edge89\" class=\"edge\">\n<title>83&#45;&gt;89</title>\n<path fill=\"none\" stroke=\"black\" d=\"M8815.04,-296.88C8825.02,-287.71 8835.97,-277.65 8846.34,-268.12\"/>\n<polygon fill=\"black\" stroke=\"black\" points=\"8848.77,-270.64 8853.76,-261.3 8844.03,-265.49 8848.77,-270.64\"/>\n</g>\n<!-- 85 -->\n<g id=\"node86\" class=\"node\">\n<title>85</title>\n<polygon fill=\"#fef9f6\" stroke=\"black\" points=\"8598.5,-157 8395.5,-157 8395.5,-89 8598.5,-89 8598.5,-157\"/>\n<text text-anchor=\"middle\" x=\"8497\" y=\"-141.8\" font-family=\"Helvetica,sans-Serif\" font-size=\"14.00\">educacao_Secundário &lt;= 0.5</text>\n<text text-anchor=\"middle\" x=\"8497\" y=\"-126.8\" font-family=\"Helvetica,sans-Serif\" font-size=\"14.00\">squared_error = 37431381.564</text>\n<text text-anchor=\"middle\" x=\"8497\" y=\"-111.8\" font-family=\"Helvetica,sans-Serif\" font-size=\"14.00\">samples = 9</text>\n<text text-anchor=\"middle\" x=\"8497\" y=\"-96.8\" font-family=\"Helvetica,sans-Serif\" font-size=\"14.00\">value = 12164.468</text>\n</g>\n<!-- 84&#45;&gt;85 -->\n<g id=\"edge85\" class=\"edge\">\n<title>84&#45;&gt;85</title>\n<path fill=\"none\" stroke=\"black\" d=\"M8613.16,-192.88C8596.7,-183.12 8578.56,-172.37 8561.6,-162.31\"/>\n<polygon fill=\"black\" stroke=\"black\" points=\"8563.24,-159.22 8552.86,-157.12 8559.67,-165.24 8563.24,-159.22\"/>\n</g>\n<!-- 88 -->\n<g id=\"node89\" class=\"node\">\n<title>88</title>\n<polygon fill=\"#fffdfc\" stroke=\"black\" points=\"8753,-149.5 8617,-149.5 8617,-96.5 8753,-96.5 8753,-149.5\"/>\n<text text-anchor=\"middle\" x=\"8685\" y=\"-134.3\" font-family=\"Helvetica,sans-Serif\" font-size=\"14.00\">squared_error = 0.0</text>\n<text text-anchor=\"middle\" x=\"8685\" y=\"-119.3\" font-family=\"Helvetica,sans-Serif\" font-size=\"14.00\">samples = 1</text>\n<text text-anchor=\"middle\" x=\"8685\" y=\"-104.3\" font-family=\"Helvetica,sans-Serif\" font-size=\"14.00\">value = 4628.12</text>\n</g>\n<!-- 84&#45;&gt;88 -->\n<g id=\"edge88\" class=\"edge\">\n<title>84&#45;&gt;88</title>\n<path fill=\"none\" stroke=\"black\" d=\"M8674.19,-192.88C8675.87,-182.22 8677.73,-170.35 8679.43,-159.52\"/>\n<polygon fill=\"black\" stroke=\"black\" points=\"8682.9,-159.94 8681,-149.52 8675.99,-158.86 8682.9,-159.94\"/>\n</g>\n<!-- 86 -->\n<g id=\"node87\" class=\"node\">\n<title>86</title>\n<polygon fill=\"#fef9f6\" stroke=\"black\" points=\"8537.5,-53 8334.5,-53 8334.5,0 8537.5,0 8537.5,-53\"/>\n<text text-anchor=\"middle\" x=\"8436\" y=\"-37.8\" font-family=\"Helvetica,sans-Serif\" font-size=\"14.00\">squared_error = 41602686.603</text>\n<text text-anchor=\"middle\" x=\"8436\" y=\"-22.8\" font-family=\"Helvetica,sans-Serif\" font-size=\"14.00\">samples = 8</text>\n<text text-anchor=\"middle\" x=\"8436\" y=\"-7.8\" font-family=\"Helvetica,sans-Serif\" font-size=\"14.00\">value = 12401.959</text>\n</g>\n<!-- 85&#45;&gt;86 -->\n<g id=\"edge86\" class=\"edge\">\n<title>85&#45;&gt;86</title>\n<path fill=\"none\" stroke=\"black\" d=\"M8475.67,-88.95C8470,-80.17 8463.86,-70.66 8458.15,-61.82\"/>\n<polygon fill=\"black\" stroke=\"black\" points=\"8460.98,-59.74 8452.61,-53.24 8455.1,-63.54 8460.98,-59.74\"/>\n</g>\n<!-- 87 -->\n<g id=\"node88\" class=\"node\">\n<title>87</title>\n<polygon fill=\"#fefaf7\" stroke=\"black\" points=\"8696,-53 8556,-53 8556,0 8696,0 8696,-53\"/>\n<text text-anchor=\"middle\" x=\"8626\" y=\"-37.8\" font-family=\"Helvetica,sans-Serif\" font-size=\"14.00\">squared_error = &#45;0.0</text>\n<text text-anchor=\"middle\" x=\"8626\" y=\"-22.8\" font-family=\"Helvetica,sans-Serif\" font-size=\"14.00\">samples = 1</text>\n<text text-anchor=\"middle\" x=\"8626\" y=\"-7.8\" font-family=\"Helvetica,sans-Serif\" font-size=\"14.00\">value = 10264.54</text>\n</g>\n<!-- 85&#45;&gt;87 -->\n<g id=\"edge87\" class=\"edge\">\n<title>85&#45;&gt;87</title>\n<path fill=\"none\" stroke=\"black\" d=\"M8542.12,-88.95C8555.23,-79.34 8569.52,-68.87 8582.53,-59.34\"/>\n<polygon fill=\"black\" stroke=\"black\" points=\"8584.87,-61.97 8590.87,-53.24 8580.73,-56.32 8584.87,-61.97\"/>\n</g>\n<!-- 90 -->\n<g id=\"node91\" class=\"node\">\n<title>90</title>\n<polygon fill=\"#fefcfb\" stroke=\"black\" points=\"8974,-157 8774,-157 8774,-89 8974,-89 8974,-157\"/>\n<text text-anchor=\"middle\" x=\"8874\" y=\"-141.8\" font-family=\"Helvetica,sans-Serif\" font-size=\"14.00\">tipo_renda_Empresário &lt;= 0.5</text>\n<text text-anchor=\"middle\" x=\"8874\" y=\"-126.8\" font-family=\"Helvetica,sans-Serif\" font-size=\"14.00\">squared_error = 16892927.82</text>\n<text text-anchor=\"middle\" x=\"8874\" y=\"-111.8\" font-family=\"Helvetica,sans-Serif\" font-size=\"14.00\">samples = 59</text>\n<text text-anchor=\"middle\" x=\"8874\" y=\"-96.8\" font-family=\"Helvetica,sans-Serif\" font-size=\"14.00\">value = 5784.432</text>\n</g>\n<!-- 89&#45;&gt;90 -->\n<g id=\"edge90\" class=\"edge\">\n<title>89&#45;&gt;90</title>\n<path fill=\"none\" stroke=\"black\" d=\"M8884.81,-192.88C8883.52,-184.69 8882.12,-175.79 8880.78,-167.19\"/>\n<polygon fill=\"black\" stroke=\"black\" points=\"8884.23,-166.64 8879.22,-157.3 8877.32,-167.72 8884.23,-166.64\"/>\n</g>\n<!-- 93 -->\n<g id=\"node94\" class=\"node\">\n<title>93</title>\n<polygon fill=\"#fdf7f2\" stroke=\"black\" points=\"9132,-149.5 8992,-149.5 8992,-96.5 9132,-96.5 9132,-149.5\"/>\n<text text-anchor=\"middle\" x=\"9062\" y=\"-134.3\" font-family=\"Helvetica,sans-Serif\" font-size=\"14.00\">squared_error = &#45;0.0</text>\n<text text-anchor=\"middle\" x=\"9062\" y=\"-119.3\" font-family=\"Helvetica,sans-Serif\" font-size=\"14.00\">samples = 1</text>\n<text text-anchor=\"middle\" x=\"9062\" y=\"-104.3\" font-family=\"Helvetica,sans-Serif\" font-size=\"14.00\">value = 16284.37</text>\n</g>\n<!-- 89&#45;&gt;93 -->\n<g id=\"edge93\" class=\"edge\">\n<title>89&#45;&gt;93</title>\n<path fill=\"none\" stroke=\"black\" d=\"M8945.84,-192.88C8966.52,-180.62 8989.86,-166.78 9010.17,-154.74\"/>\n<polygon fill=\"black\" stroke=\"black\" points=\"9012.15,-157.63 9018.97,-149.52 9008.58,-151.61 9012.15,-157.63\"/>\n</g>\n<!-- 91 -->\n<g id=\"node92\" class=\"node\">\n<title>91</title>\n<polygon fill=\"#fefcfa\" stroke=\"black\" points=\"8917.5,-53 8714.5,-53 8714.5,0 8917.5,0 8917.5,-53\"/>\n<text text-anchor=\"middle\" x=\"8816\" y=\"-37.8\" font-family=\"Helvetica,sans-Serif\" font-size=\"14.00\">squared_error = 22230074.991</text>\n<text text-anchor=\"middle\" x=\"8816\" y=\"-22.8\" font-family=\"Helvetica,sans-Serif\" font-size=\"14.00\">samples = 37</text>\n<text text-anchor=\"middle\" x=\"8816\" y=\"-7.8\" font-family=\"Helvetica,sans-Serif\" font-size=\"14.00\">value = 6621.225</text>\n</g>\n<!-- 90&#45;&gt;91 -->\n<g id=\"edge91\" class=\"edge\">\n<title>90&#45;&gt;91</title>\n<path fill=\"none\" stroke=\"black\" d=\"M8853.71,-88.95C8848.32,-80.17 8842.49,-70.66 8837.06,-61.82\"/>\n<polygon fill=\"black\" stroke=\"black\" points=\"8840.01,-59.93 8831.8,-53.24 8834.04,-63.59 8840.01,-59.93\"/>\n</g>\n<!-- 92 -->\n<g id=\"node93\" class=\"node\">\n<title>92</title>\n<polygon fill=\"#fffdfc\" stroke=\"black\" points=\"9131,-53 8935,-53 8935,0 9131,0 9131,-53\"/>\n<text text-anchor=\"middle\" x=\"9033\" y=\"-37.8\" font-family=\"Helvetica,sans-Serif\" font-size=\"14.00\">squared_error = 4758581.358</text>\n<text text-anchor=\"middle\" x=\"9033\" y=\"-22.8\" font-family=\"Helvetica,sans-Serif\" font-size=\"14.00\">samples = 22</text>\n<text text-anchor=\"middle\" x=\"9033\" y=\"-7.8\" font-family=\"Helvetica,sans-Serif\" font-size=\"14.00\">value = 4377.099</text>\n</g>\n<!-- 90&#45;&gt;92 -->\n<g id=\"edge92\" class=\"edge\">\n<title>90&#45;&gt;92</title>\n<path fill=\"none\" stroke=\"black\" d=\"M8929.61,-88.95C8946.31,-79.02 8964.56,-68.18 8981.01,-58.4\"/>\n<polygon fill=\"black\" stroke=\"black\" points=\"8983.14,-61.2 8989.95,-53.09 8979.56,-55.19 8983.14,-61.2\"/>\n</g>\n<!-- 95 -->\n<g id=\"node96\" class=\"node\">\n<title>95</title>\n<polygon fill=\"#fffdfb\" stroke=\"black\" points=\"9725.5,-365 9522.5,-365 9522.5,-297 9725.5,-297 9725.5,-365\"/>\n<text text-anchor=\"middle\" x=\"9624\" y=\"-349.8\" font-family=\"Helvetica,sans-Serif\" font-size=\"14.00\">idade &lt;= 37.0</text>\n<text text-anchor=\"middle\" x=\"9624\" y=\"-334.8\" font-family=\"Helvetica,sans-Serif\" font-size=\"14.00\">squared_error = 15564893.471</text>\n<text text-anchor=\"middle\" x=\"9624\" y=\"-319.8\" font-family=\"Helvetica,sans-Serif\" font-size=\"14.00\">samples = 142</text>\n<text text-anchor=\"middle\" x=\"9624\" y=\"-304.8\" font-family=\"Helvetica,sans-Serif\" font-size=\"14.00\">value = 5092.755</text>\n</g>\n<!-- 94&#45;&gt;95 -->\n<g id=\"edge95\" class=\"edge\">\n<title>94&#45;&gt;95</title>\n<path fill=\"none\" stroke=\"black\" d=\"M9624,-400.88C9624,-392.78 9624,-383.98 9624,-375.47\"/>\n<polygon fill=\"black\" stroke=\"black\" points=\"9627.5,-375.3 9624,-365.3 9620.5,-375.3 9627.5,-375.3\"/>\n</g>\n<!-- 108 -->\n<g id=\"node109\" class=\"node\">\n<title>108</title>\n<polygon fill=\"#fefaf8\" stroke=\"black\" points=\"10742.5,-365 10539.5,-365 10539.5,-297 10742.5,-297 10742.5,-365\"/>\n<text text-anchor=\"middle\" x=\"10641\" y=\"-349.8\" font-family=\"Helvetica,sans-Serif\" font-size=\"14.00\">estado_civil_Separado &lt;= 0.5</text>\n<text text-anchor=\"middle\" x=\"10641\" y=\"-334.8\" font-family=\"Helvetica,sans-Serif\" font-size=\"14.00\">squared_error = 69628720.297</text>\n<text text-anchor=\"middle\" x=\"10641\" y=\"-319.8\" font-family=\"Helvetica,sans-Serif\" font-size=\"14.00\">samples = 58</text>\n<text text-anchor=\"middle\" x=\"10641\" y=\"-304.8\" font-family=\"Helvetica,sans-Serif\" font-size=\"14.00\">value = 9592.274</text>\n</g>\n<!-- 94&#45;&gt;108 -->\n<g id=\"edge108\" class=\"edge\">\n<title>94&#45;&gt;108</title>\n<path fill=\"none\" stroke=\"black\" d=\"M9725.7,-423.8C9917.18,-404.6 10329.82,-363.21 10528.97,-343.24\"/>\n<polygon fill=\"black\" stroke=\"black\" points=\"10529.56,-346.69 10539.16,-342.21 10528.86,-339.73 10529.56,-346.69\"/>\n</g>\n<!-- 96 -->\n<g id=\"node97\" class=\"node\">\n<title>96</title>\n<polygon fill=\"#fffefd\" stroke=\"black\" points=\"9559,-261 9363,-261 9363,-193 9559,-193 9559,-261\"/>\n<text text-anchor=\"middle\" x=\"9461\" y=\"-245.8\" font-family=\"Helvetica,sans-Serif\" font-size=\"14.00\">idade &lt;= 31.0</text>\n<text text-anchor=\"middle\" x=\"9461\" y=\"-230.8\" font-family=\"Helvetica,sans-Serif\" font-size=\"14.00\">squared_error = 3990257.968</text>\n<text text-anchor=\"middle\" x=\"9461\" y=\"-215.8\" font-family=\"Helvetica,sans-Serif\" font-size=\"14.00\">samples = 26</text>\n<text text-anchor=\"middle\" x=\"9461\" y=\"-200.8\" font-family=\"Helvetica,sans-Serif\" font-size=\"14.00\">value = 3552.021</text>\n</g>\n<!-- 95&#45;&gt;96 -->\n<g id=\"edge96\" class=\"edge\">\n<title>95&#45;&gt;96</title>\n<path fill=\"none\" stroke=\"black\" d=\"M9571.08,-296.88C9555.63,-287.21 9538.61,-276.56 9522.66,-266.59\"/>\n<polygon fill=\"black\" stroke=\"black\" points=\"9524.27,-263.46 9513.93,-261.12 9520.56,-269.4 9524.27,-263.46\"/>\n</g>\n<!-- 101 -->\n<g id=\"node102\" class=\"node\">\n<title>101</title>\n<polygon fill=\"#fefdfb\" stroke=\"black\" points=\"9885,-261 9689,-261 9689,-193 9885,-193 9885,-261\"/>\n<text text-anchor=\"middle\" x=\"9787\" y=\"-245.8\" font-family=\"Helvetica,sans-Serif\" font-size=\"14.00\">estado_civil_Separado &lt;= 0.5</text>\n<text text-anchor=\"middle\" x=\"9787\" y=\"-230.8\" font-family=\"Helvetica,sans-Serif\" font-size=\"14.00\">squared_error = 17507878.6</text>\n<text text-anchor=\"middle\" x=\"9787\" y=\"-215.8\" font-family=\"Helvetica,sans-Serif\" font-size=\"14.00\">samples = 116</text>\n<text text-anchor=\"middle\" x=\"9787\" y=\"-200.8\" font-family=\"Helvetica,sans-Serif\" font-size=\"14.00\">value = 5438.091</text>\n</g>\n<!-- 95&#45;&gt;101 -->\n<g id=\"edge101\" class=\"edge\">\n<title>95&#45;&gt;101</title>\n<path fill=\"none\" stroke=\"black\" d=\"M9676.92,-296.88C9692.37,-287.21 9709.39,-276.56 9725.34,-266.59\"/>\n<polygon fill=\"black\" stroke=\"black\" points=\"9727.44,-269.4 9734.07,-261.12 9723.73,-263.46 9727.44,-269.4\"/>\n</g>\n<!-- 97 -->\n<g id=\"node98\" class=\"node\">\n<title>97</title>\n<polygon fill=\"#fefcfa\" stroke=\"black\" points=\"9345,-149.5 9209,-149.5 9209,-96.5 9345,-96.5 9345,-149.5\"/>\n<text text-anchor=\"middle\" x=\"9277\" y=\"-134.3\" font-family=\"Helvetica,sans-Serif\" font-size=\"14.00\">squared_error = 0.0</text>\n<text text-anchor=\"middle\" x=\"9277\" y=\"-119.3\" font-family=\"Helvetica,sans-Serif\" font-size=\"14.00\">samples = 1</text>\n<text text-anchor=\"middle\" x=\"9277\" y=\"-104.3\" font-family=\"Helvetica,sans-Serif\" font-size=\"14.00\">value = 7433.16</text>\n</g>\n<!-- 96&#45;&gt;97 -->\n<g id=\"edge97\" class=\"edge\">\n<title>96&#45;&gt;97</title>\n<path fill=\"none\" stroke=\"black\" d=\"M9401.26,-192.88C9378.94,-180.51 9353.72,-166.53 9331.86,-154.41\"/>\n<polygon fill=\"black\" stroke=\"black\" points=\"9333.48,-151.31 9323.04,-149.52 9330.09,-157.43 9333.48,-151.31\"/>\n</g>\n<!-- 98 -->\n<g id=\"node99\" class=\"node\">\n<title>98</title>\n<polygon fill=\"#fffefd\" stroke=\"black\" points=\"9559,-157 9363,-157 9363,-89 9559,-89 9559,-157\"/>\n<text text-anchor=\"middle\" x=\"9461\" y=\"-141.8\" font-family=\"Helvetica,sans-Serif\" font-size=\"14.00\">tempo_emprego &lt;= 12.556</text>\n<text text-anchor=\"middle\" x=\"9461\" y=\"-126.8\" font-family=\"Helvetica,sans-Serif\" font-size=\"14.00\">squared_error = 3523237.431</text>\n<text text-anchor=\"middle\" x=\"9461\" y=\"-111.8\" font-family=\"Helvetica,sans-Serif\" font-size=\"14.00\">samples = 25</text>\n<text text-anchor=\"middle\" x=\"9461\" y=\"-96.8\" font-family=\"Helvetica,sans-Serif\" font-size=\"14.00\">value = 3396.775</text>\n</g>\n<!-- 96&#45;&gt;98 -->\n<g id=\"edge98\" class=\"edge\">\n<title>96&#45;&gt;98</title>\n<path fill=\"none\" stroke=\"black\" d=\"M9461,-192.88C9461,-184.78 9461,-175.98 9461,-167.47\"/>\n<polygon fill=\"black\" stroke=\"black\" points=\"9464.5,-167.3 9461,-157.3 9457.5,-167.3 9464.5,-167.3\"/>\n</g>\n<!-- 99 -->\n<g id=\"node100\" class=\"node\">\n<title>99</title>\n<polygon fill=\"#fffefd\" stroke=\"black\" points=\"9345,-53 9149,-53 9149,0 9345,0 9345,-53\"/>\n<text text-anchor=\"middle\" x=\"9247\" y=\"-37.8\" font-family=\"Helvetica,sans-Serif\" font-size=\"14.00\">squared_error = 2211566.782</text>\n<text text-anchor=\"middle\" x=\"9247\" y=\"-22.8\" font-family=\"Helvetica,sans-Serif\" font-size=\"14.00\">samples = 13</text>\n<text text-anchor=\"middle\" x=\"9247\" y=\"-7.8\" font-family=\"Helvetica,sans-Serif\" font-size=\"14.00\">value = 2600.685</text>\n</g>\n<!-- 98&#45;&gt;99 -->\n<g id=\"edge99\" class=\"edge\">\n<title>98&#45;&gt;99</title>\n<path fill=\"none\" stroke=\"black\" d=\"M9386.15,-88.95C9362.74,-78.61 9337.07,-67.27 9314.21,-57.18\"/>\n<polygon fill=\"black\" stroke=\"black\" points=\"9315.5,-53.92 9304.94,-53.09 9312.68,-60.33 9315.5,-53.92\"/>\n</g>\n<!-- 100 -->\n<g id=\"node101\" class=\"node\">\n<title>100</title>\n<polygon fill=\"#fffdfc\" stroke=\"black\" points=\"9559,-53 9363,-53 9363,0 9559,0 9559,-53\"/>\n<text text-anchor=\"middle\" x=\"9461\" y=\"-37.8\" font-family=\"Helvetica,sans-Serif\" font-size=\"14.00\">squared_error = 3513855.127</text>\n<text text-anchor=\"middle\" x=\"9461\" y=\"-22.8\" font-family=\"Helvetica,sans-Serif\" font-size=\"14.00\">samples = 12</text>\n<text text-anchor=\"middle\" x=\"9461\" y=\"-7.8\" font-family=\"Helvetica,sans-Serif\" font-size=\"14.00\">value = 4259.206</text>\n</g>\n<!-- 98&#45;&gt;100 -->\n<g id=\"edge100\" class=\"edge\">\n<title>98&#45;&gt;100</title>\n<path fill=\"none\" stroke=\"black\" d=\"M9461,-88.95C9461,-80.72 9461,-71.85 9461,-63.48\"/>\n<polygon fill=\"black\" stroke=\"black\" points=\"9464.5,-63.24 9461,-53.24 9457.5,-63.24 9464.5,-63.24\"/>\n</g>\n<!-- 102 -->\n<g id=\"node103\" class=\"node\">\n<title>102</title>\n<polygon fill=\"#fefcfb\" stroke=\"black\" points=\"9888.5,-157 9685.5,-157 9685.5,-89 9888.5,-89 9888.5,-157\"/>\n<text text-anchor=\"middle\" x=\"9787\" y=\"-141.8\" font-family=\"Helvetica,sans-Serif\" font-size=\"14.00\">idade &lt;= 48.5</text>\n<text text-anchor=\"middle\" x=\"9787\" y=\"-126.8\" font-family=\"Helvetica,sans-Serif\" font-size=\"14.00\">squared_error = 18030633.231</text>\n<text text-anchor=\"middle\" x=\"9787\" y=\"-111.8\" font-family=\"Helvetica,sans-Serif\" font-size=\"14.00\">samples = 108</text>\n<text text-anchor=\"middle\" x=\"9787\" y=\"-96.8\" font-family=\"Helvetica,sans-Serif\" font-size=\"14.00\">value = 5656.509</text>\n</g>\n<!-- 101&#45;&gt;102 -->\n<g id=\"edge102\" class=\"edge\">\n<title>101&#45;&gt;102</title>\n<path fill=\"none\" stroke=\"black\" d=\"M9787,-192.88C9787,-184.78 9787,-175.98 9787,-167.47\"/>\n<polygon fill=\"black\" stroke=\"black\" points=\"9790.5,-167.3 9787,-157.3 9783.5,-167.3 9790.5,-167.3\"/>\n</g>\n<!-- 105 -->\n<g id=\"node106\" class=\"node\">\n<title>105</title>\n<polygon fill=\"#fffefe\" stroke=\"black\" points=\"10211,-157 10015,-157 10015,-89 10211,-89 10211,-157\"/>\n<text text-anchor=\"middle\" x=\"10113\" y=\"-141.8\" font-family=\"Helvetica,sans-Serif\" font-size=\"14.00\">qtd_filhos &lt;= 0.5</text>\n<text text-anchor=\"middle\" x=\"10113\" y=\"-126.8\" font-family=\"Helvetica,sans-Serif\" font-size=\"14.00\">squared_error = 1112192.849</text>\n<text text-anchor=\"middle\" x=\"10113\" y=\"-111.8\" font-family=\"Helvetica,sans-Serif\" font-size=\"14.00\">samples = 8</text>\n<text text-anchor=\"middle\" x=\"10113\" y=\"-96.8\" font-family=\"Helvetica,sans-Serif\" font-size=\"14.00\">value = 2489.454</text>\n</g>\n<!-- 101&#45;&gt;105 -->\n<g id=\"edge105\" class=\"edge\">\n<title>101&#45;&gt;105</title>\n<path fill=\"none\" stroke=\"black\" d=\"M9885.25,-195.26C9923.1,-183.42 9966.51,-169.83 10005.22,-157.72\"/>\n<polygon fill=\"black\" stroke=\"black\" points=\"10006.45,-161.01 10014.95,-154.68 10004.36,-154.32 10006.45,-161.01\"/>\n</g>\n<!-- 103 -->\n<g id=\"node104\" class=\"node\">\n<title>103</title>\n<polygon fill=\"#fefcfa\" stroke=\"black\" points=\"9779.5,-53 9576.5,-53 9576.5,0 9779.5,0 9779.5,-53\"/>\n<text text-anchor=\"middle\" x=\"9678\" y=\"-37.8\" font-family=\"Helvetica,sans-Serif\" font-size=\"14.00\">squared_error = 13497347.595</text>\n<text text-anchor=\"middle\" x=\"9678\" y=\"-22.8\" font-family=\"Helvetica,sans-Serif\" font-size=\"14.00\">samples = 57</text>\n<text text-anchor=\"middle\" x=\"9678\" y=\"-7.8\" font-family=\"Helvetica,sans-Serif\" font-size=\"14.00\">value = 6569.02</text>\n</g>\n<!-- 102&#45;&gt;103 -->\n<g id=\"edge103\" class=\"edge\">\n<title>102&#45;&gt;103</title>\n<path fill=\"none\" stroke=\"black\" d=\"M9748.88,-88.95C9738.01,-79.53 9726.18,-69.27 9715.36,-59.89\"/>\n<polygon fill=\"black\" stroke=\"black\" points=\"9717.53,-57.14 9707.69,-53.24 9712.95,-62.43 9717.53,-57.14\"/>\n</g>\n<!-- 104 -->\n<g id=\"node105\" class=\"node\">\n<title>104</title>\n<polygon fill=\"#fffdfc\" stroke=\"black\" points=\"10000.5,-53 9797.5,-53 9797.5,0 10000.5,0 10000.5,-53\"/>\n<text text-anchor=\"middle\" x=\"9899\" y=\"-37.8\" font-family=\"Helvetica,sans-Serif\" font-size=\"14.00\">squared_error = 21126482.408</text>\n<text text-anchor=\"middle\" x=\"9899\" y=\"-22.8\" font-family=\"Helvetica,sans-Serif\" font-size=\"14.00\">samples = 51</text>\n<text text-anchor=\"middle\" x=\"9899\" y=\"-7.8\" font-family=\"Helvetica,sans-Serif\" font-size=\"14.00\">value = 4636.644</text>\n</g>\n<!-- 102&#45;&gt;104 -->\n<g id=\"edge104\" class=\"edge\">\n<title>102&#45;&gt;104</title>\n<path fill=\"none\" stroke=\"black\" d=\"M9826.17,-88.95C9837.34,-79.53 9849.49,-69.27 9860.61,-59.89\"/>\n<polygon fill=\"black\" stroke=\"black\" points=\"9863.11,-62.36 9868.5,-53.24 9858.6,-57.01 9863.11,-62.36\"/>\n</g>\n<!-- 106 -->\n<g id=\"node107\" class=\"node\">\n<title>106</title>\n<polygon fill=\"#fffefd\" stroke=\"black\" points=\"10207,-53 10019,-53 10019,0 10207,0 10207,-53\"/>\n<text text-anchor=\"middle\" x=\"10113\" y=\"-37.8\" font-family=\"Helvetica,sans-Serif\" font-size=\"14.00\">squared_error = 292805.443</text>\n<text text-anchor=\"middle\" x=\"10113\" y=\"-22.8\" font-family=\"Helvetica,sans-Serif\" font-size=\"14.00\">samples = 2</text>\n<text text-anchor=\"middle\" x=\"10113\" y=\"-7.8\" font-family=\"Helvetica,sans-Serif\" font-size=\"14.00\">value = 2750.815</text>\n</g>\n<!-- 105&#45;&gt;106 -->\n<g id=\"edge106\" class=\"edge\">\n<title>105&#45;&gt;106</title>\n<path fill=\"none\" stroke=\"black\" d=\"M10113,-88.95C10113,-80.72 10113,-71.85 10113,-63.48\"/>\n<polygon fill=\"black\" stroke=\"black\" points=\"10116.5,-63.24 10113,-53.24 10109.5,-63.24 10116.5,-63.24\"/>\n</g>\n<!-- 107 -->\n<g id=\"node108\" class=\"node\">\n<title>107</title>\n<polygon fill=\"#fffefe\" stroke=\"black\" points=\"10421,-53 10225,-53 10225,0 10421,0 10421,-53\"/>\n<text text-anchor=\"middle\" x=\"10323\" y=\"-37.8\" font-family=\"Helvetica,sans-Serif\" font-size=\"14.00\">squared_error = 1354962.117</text>\n<text text-anchor=\"middle\" x=\"10323\" y=\"-22.8\" font-family=\"Helvetica,sans-Serif\" font-size=\"14.00\">samples = 6</text>\n<text text-anchor=\"middle\" x=\"10323\" y=\"-7.8\" font-family=\"Helvetica,sans-Serif\" font-size=\"14.00\">value = 2402.333</text>\n</g>\n<!-- 105&#45;&gt;107 -->\n<g id=\"edge107\" class=\"edge\">\n<title>105&#45;&gt;107</title>\n<path fill=\"none\" stroke=\"black\" d=\"M10186.45,-88.95C10209.32,-78.66 10234.39,-67.37 10256.74,-57.32\"/>\n<polygon fill=\"black\" stroke=\"black\" points=\"10258.46,-60.38 10266.14,-53.09 10255.59,-54 10258.46,-60.38\"/>\n</g>\n<!-- 109 -->\n<g id=\"node110\" class=\"node\">\n<title>109</title>\n<polygon fill=\"#fefbf9\" stroke=\"black\" points=\"10742.5,-261 10539.5,-261 10539.5,-193 10742.5,-193 10742.5,-261\"/>\n<text text-anchor=\"middle\" x=\"10641\" y=\"-245.8\" font-family=\"Helvetica,sans-Serif\" font-size=\"14.00\">tempo_emprego &lt;= 15.971</text>\n<text text-anchor=\"middle\" x=\"10641\" y=\"-230.8\" font-family=\"Helvetica,sans-Serif\" font-size=\"14.00\">squared_error = 32848224.369</text>\n<text text-anchor=\"middle\" x=\"10641\" y=\"-215.8\" font-family=\"Helvetica,sans-Serif\" font-size=\"14.00\">samples = 54</text>\n<text text-anchor=\"middle\" x=\"10641\" y=\"-200.8\" font-family=\"Helvetica,sans-Serif\" font-size=\"14.00\">value = 8204.527</text>\n</g>\n<!-- 108&#45;&gt;109 -->\n<g id=\"edge109\" class=\"edge\">\n<title>108&#45;&gt;109</title>\n<path fill=\"none\" stroke=\"black\" d=\"M10641,-296.88C10641,-288.78 10641,-279.98 10641,-271.47\"/>\n<polygon fill=\"black\" stroke=\"black\" points=\"10644.5,-271.3 10641,-261.3 10637.5,-271.3 10644.5,-271.3\"/>\n</g>\n<!-- 116 -->\n<g id=\"node117\" class=\"node\">\n<title>116</title>\n<polygon fill=\"#fcf1e9\" stroke=\"black\" points=\"10971.5,-253.5 10760.5,-253.5 10760.5,-200.5 10971.5,-200.5 10971.5,-253.5\"/>\n<text text-anchor=\"middle\" x=\"10866\" y=\"-238.3\" font-family=\"Helvetica,sans-Serif\" font-size=\"14.00\">squared_error = 189182135.583</text>\n<text text-anchor=\"middle\" x=\"10866\" y=\"-223.3\" font-family=\"Helvetica,sans-Serif\" font-size=\"14.00\">samples = 4</text>\n<text text-anchor=\"middle\" x=\"10866\" y=\"-208.3\" font-family=\"Helvetica,sans-Serif\" font-size=\"14.00\">value = 28326.852</text>\n</g>\n<!-- 108&#45;&gt;116 -->\n<g id=\"edge116\" class=\"edge\">\n<title>108&#45;&gt;116</title>\n<path fill=\"none\" stroke=\"black\" d=\"M10714.05,-296.88C10741.83,-284.29 10773.28,-270.03 10800.33,-257.77\"/>\n<polygon fill=\"black\" stroke=\"black\" points=\"10802.04,-260.84 10809.71,-253.52 10799.15,-254.46 10802.04,-260.84\"/>\n</g>\n<!-- 110 -->\n<g id=\"node111\" class=\"node\">\n<title>110</title>\n<polygon fill=\"#fefaf7\" stroke=\"black\" points=\"10742.5,-157 10539.5,-157 10539.5,-89 10742.5,-89 10742.5,-157\"/>\n<text text-anchor=\"middle\" x=\"10641\" y=\"-141.8\" font-family=\"Helvetica,sans-Serif\" font-size=\"14.00\">qt_pessoas_residencia &lt;= 3.5</text>\n<text text-anchor=\"middle\" x=\"10641\" y=\"-126.8\" font-family=\"Helvetica,sans-Serif\" font-size=\"14.00\">squared_error = 42457695.303</text>\n<text text-anchor=\"middle\" x=\"10641\" y=\"-111.8\" font-family=\"Helvetica,sans-Serif\" font-size=\"14.00\">samples = 27</text>\n<text text-anchor=\"middle\" x=\"10641\" y=\"-96.8\" font-family=\"Helvetica,sans-Serif\" font-size=\"14.00\">value = 10354.057</text>\n</g>\n<!-- 109&#45;&gt;110 -->\n<g id=\"edge110\" class=\"edge\">\n<title>109&#45;&gt;110</title>\n<path fill=\"none\" stroke=\"black\" d=\"M10641,-192.88C10641,-184.78 10641,-175.98 10641,-167.47\"/>\n<polygon fill=\"black\" stroke=\"black\" points=\"10644.5,-167.3 10641,-157.3 10637.5,-167.3 10644.5,-167.3\"/>\n</g>\n<!-- 113 -->\n<g id=\"node114\" class=\"node\">\n<title>113</title>\n<polygon fill=\"#fefcfb\" stroke=\"black\" points=\"11065.5,-157 10862.5,-157 10862.5,-89 11065.5,-89 11065.5,-157\"/>\n<text text-anchor=\"middle\" x=\"10964\" y=\"-141.8\" font-family=\"Helvetica,sans-Serif\" font-size=\"14.00\">tempo_emprego &lt;= 16.319</text>\n<text text-anchor=\"middle\" x=\"10964\" y=\"-126.8\" font-family=\"Helvetica,sans-Serif\" font-size=\"14.00\">squared_error = 13997798.178</text>\n<text text-anchor=\"middle\" x=\"10964\" y=\"-111.8\" font-family=\"Helvetica,sans-Serif\" font-size=\"14.00\">samples = 27</text>\n<text text-anchor=\"middle\" x=\"10964\" y=\"-96.8\" font-family=\"Helvetica,sans-Serif\" font-size=\"14.00\">value = 6054.998</text>\n</g>\n<!-- 109&#45;&gt;113 -->\n<g id=\"edge113\" class=\"edge\">\n<title>109&#45;&gt;113</title>\n<path fill=\"none\" stroke=\"black\" d=\"M10742.76,-193.87C10777.66,-182.84 10816.9,-170.45 10852.53,-159.2\"/>\n<polygon fill=\"black\" stroke=\"black\" points=\"10854,-162.41 10862.48,-156.06 10851.89,-155.73 10854,-162.41\"/>\n</g>\n<!-- 111 -->\n<g id=\"node112\" class=\"node\">\n<title>111</title>\n<polygon fill=\"#fef9f6\" stroke=\"black\" points=\"10641.5,-53 10438.5,-53 10438.5,0 10641.5,0 10641.5,-53\"/>\n<text text-anchor=\"middle\" x=\"10540\" y=\"-37.8\" font-family=\"Helvetica,sans-Serif\" font-size=\"14.00\">squared_error = 41093154.775</text>\n<text text-anchor=\"middle\" x=\"10540\" y=\"-22.8\" font-family=\"Helvetica,sans-Serif\" font-size=\"14.00\">samples = 23</text>\n<text text-anchor=\"middle\" x=\"10540\" y=\"-7.8\" font-family=\"Helvetica,sans-Serif\" font-size=\"14.00\">value = 11474.083</text>\n</g>\n<!-- 110&#45;&gt;111 -->\n<g id=\"edge111\" class=\"edge\">\n<title>110&#45;&gt;111</title>\n<path fill=\"none\" stroke=\"black\" d=\"M10605.68,-88.95C10595.7,-79.62 10584.86,-69.47 10574.91,-60.16\"/>\n<polygon fill=\"black\" stroke=\"black\" points=\"10577.2,-57.51 10567.51,-53.24 10572.42,-62.62 10577.2,-57.51\"/>\n</g>\n<!-- 112 -->\n<g id=\"node113\" class=\"node\">\n<title>112</title>\n<polygon fill=\"#fffdfc\" stroke=\"black\" points=\"10848,-53 10660,-53 10660,0 10848,0 10848,-53\"/>\n<text text-anchor=\"middle\" x=\"10754\" y=\"-37.8\" font-family=\"Helvetica,sans-Serif\" font-size=\"14.00\">squared_error = 1615180.11</text>\n<text text-anchor=\"middle\" x=\"10754\" y=\"-22.8\" font-family=\"Helvetica,sans-Serif\" font-size=\"14.00\">samples = 4</text>\n<text text-anchor=\"middle\" x=\"10754\" y=\"-7.8\" font-family=\"Helvetica,sans-Serif\" font-size=\"14.00\">value = 3913.91</text>\n</g>\n<!-- 110&#45;&gt;112 -->\n<g id=\"edge112\" class=\"edge\">\n<title>110&#45;&gt;112</title>\n<path fill=\"none\" stroke=\"black\" d=\"M10680.52,-88.95C10691.79,-79.53 10704.05,-69.27 10715.27,-59.89\"/>\n<polygon fill=\"black\" stroke=\"black\" points=\"10717.8,-62.34 10723.22,-53.24 10713.31,-56.97 10717.8,-62.34\"/>\n</g>\n<!-- 114 -->\n<g id=\"node115\" class=\"node\">\n<title>114</title>\n<polygon fill=\"#fffefd\" stroke=\"black\" points=\"11062,-53 10866,-53 10866,0 11062,0 11062,-53\"/>\n<text text-anchor=\"middle\" x=\"10964\" y=\"-37.8\" font-family=\"Helvetica,sans-Serif\" font-size=\"14.00\">squared_error = 3995459.231</text>\n<text text-anchor=\"middle\" x=\"10964\" y=\"-22.8\" font-family=\"Helvetica,sans-Serif\" font-size=\"14.00\">samples = 9</text>\n<text text-anchor=\"middle\" x=\"10964\" y=\"-7.8\" font-family=\"Helvetica,sans-Serif\" font-size=\"14.00\">value = 3569.351</text>\n</g>\n<!-- 113&#45;&gt;114 -->\n<g id=\"edge114\" class=\"edge\">\n<title>113&#45;&gt;114</title>\n<path fill=\"none\" stroke=\"black\" d=\"M10964,-88.95C10964,-80.72 10964,-71.85 10964,-63.48\"/>\n<polygon fill=\"black\" stroke=\"black\" points=\"10967.5,-63.24 10964,-53.24 10960.5,-63.24 10967.5,-63.24\"/>\n</g>\n<!-- 115 -->\n<g id=\"node116\" class=\"node\">\n<title>115</title>\n<polygon fill=\"#fefcfa\" stroke=\"black\" points=\"11282.5,-53 11079.5,-53 11079.5,0 11282.5,0 11282.5,-53\"/>\n<text text-anchor=\"middle\" x=\"11181\" y=\"-37.8\" font-family=\"Helvetica,sans-Serif\" font-size=\"14.00\">squared_error = 14365138.137</text>\n<text text-anchor=\"middle\" x=\"11181\" y=\"-22.8\" font-family=\"Helvetica,sans-Serif\" font-size=\"14.00\">samples = 18</text>\n<text text-anchor=\"middle\" x=\"11181\" y=\"-7.8\" font-family=\"Helvetica,sans-Serif\" font-size=\"14.00\">value = 7297.821</text>\n</g>\n<!-- 113&#45;&gt;115 -->\n<g id=\"edge115\" class=\"edge\">\n<title>113&#45;&gt;115</title>\n<path fill=\"none\" stroke=\"black\" d=\"M11039.9,-88.95C11063.64,-78.61 11089.67,-67.27 11112.84,-57.18\"/>\n<polygon fill=\"black\" stroke=\"black\" points=\"11114.47,-60.29 11122.25,-53.09 11111.68,-53.87 11114.47,-60.29\"/>\n</g>\n<!-- 118 -->\n<g id=\"node119\" class=\"node\">\n<title>118</title>\n<polygon fill=\"#fefcfb\" stroke=\"black\" points=\"16000.5,-573 15797.5,-573 15797.5,-505 16000.5,-505 16000.5,-573\"/>\n<text text-anchor=\"middle\" x=\"15899\" y=\"-557.8\" font-family=\"Helvetica,sans-Serif\" font-size=\"14.00\">tempo_emprego &lt;= 4.544</text>\n<text text-anchor=\"middle\" x=\"15899\" y=\"-542.8\" font-family=\"Helvetica,sans-Serif\" font-size=\"14.00\">squared_error = 26328254.315</text>\n<text text-anchor=\"middle\" x=\"15899\" y=\"-527.8\" font-family=\"Helvetica,sans-Serif\" font-size=\"14.00\">samples = 2410</text>\n<text text-anchor=\"middle\" x=\"15899\" y=\"-512.8\" font-family=\"Helvetica,sans-Serif\" font-size=\"14.00\">value = 5966.618</text>\n</g>\n<!-- 117&#45;&gt;118 -->\n<g id=\"edge118\" class=\"edge\">\n<title>117&#45;&gt;118</title>\n<path fill=\"none\" stroke=\"black\" d=\"M17891.95,-637.22C17545.28,-620.31 16378.55,-563.39 16010.92,-545.46\"/>\n<polygon fill=\"black\" stroke=\"black\" points=\"16010.96,-541.96 16000.8,-544.97 16010.62,-548.95 16010.96,-541.96\"/>\n</g>\n<!-- 179 -->\n<g id=\"node180\" class=\"node\">\n<title>179</title>\n<polygon fill=\"#fef9f5\" stroke=\"black\" points=\"19021.5,-573 18810.5,-573 18810.5,-505 19021.5,-505 19021.5,-573\"/>\n<text text-anchor=\"middle\" x=\"18916\" y=\"-557.8\" font-family=\"Helvetica,sans-Serif\" font-size=\"14.00\">tempo_emprego &lt;= 11.664</text>\n<text text-anchor=\"middle\" x=\"18916\" y=\"-542.8\" font-family=\"Helvetica,sans-Serif\" font-size=\"14.00\">squared_error = 142584562.998</text>\n<text text-anchor=\"middle\" x=\"18916\" y=\"-527.8\" font-family=\"Helvetica,sans-Serif\" font-size=\"14.00\">samples = 805</text>\n<text text-anchor=\"middle\" x=\"18916\" y=\"-512.8\" font-family=\"Helvetica,sans-Serif\" font-size=\"14.00\">value = 12936.519</text>\n</g>\n<!-- 117&#45;&gt;179 -->\n<g id=\"edge179\" class=\"edge\">\n<title>117&#45;&gt;179</title>\n<path fill=\"none\" stroke=\"black\" d=\"M18088.22,-631.18C18260.53,-612.2 18616.41,-573 18800.32,-552.74\"/>\n<polygon fill=\"black\" stroke=\"black\" points=\"18800.74,-556.22 18810.3,-551.64 18799.98,-549.26 18800.74,-556.22\"/>\n</g>\n<!-- 119 -->\n<g id=\"node120\" class=\"node\">\n<title>119</title>\n<polygon fill=\"#fffdfc\" stroke=\"black\" points=\"13816.5,-469 13613.5,-469 13613.5,-401 13816.5,-401 13816.5,-469\"/>\n<text text-anchor=\"middle\" x=\"13715\" y=\"-453.8\" font-family=\"Helvetica,sans-Serif\" font-size=\"14.00\">tempo_emprego &lt;= 1.264</text>\n<text text-anchor=\"middle\" x=\"13715\" y=\"-438.8\" font-family=\"Helvetica,sans-Serif\" font-size=\"14.00\">squared_error = 16312499.883</text>\n<text text-anchor=\"middle\" x=\"13715\" y=\"-423.8\" font-family=\"Helvetica,sans-Serif\" font-size=\"14.00\">samples = 1506</text>\n<text text-anchor=\"middle\" x=\"13715\" y=\"-408.8\" font-family=\"Helvetica,sans-Serif\" font-size=\"14.00\">value = 4811.723</text>\n</g>\n<!-- 118&#45;&gt;119 -->\n<g id=\"edge119\" class=\"edge\">\n<title>118&#45;&gt;119</title>\n<path fill=\"none\" stroke=\"black\" d=\"M15797.32,-533.25C15434.52,-516.31 14205.22,-458.89 13826.8,-441.22\"/>\n<polygon fill=\"black\" stroke=\"black\" points=\"13826.82,-437.72 13816.67,-440.75 13826.49,-444.71 13826.82,-437.72\"/>\n</g>\n<!-- 148 -->\n<g id=\"node149\" class=\"node\">\n<title>148</title>\n<polygon fill=\"#fefbf9\" stroke=\"black\" points=\"16000.5,-469 15797.5,-469 15797.5,-401 16000.5,-401 16000.5,-469\"/>\n<text text-anchor=\"middle\" x=\"15899\" y=\"-453.8\" font-family=\"Helvetica,sans-Serif\" font-size=\"14.00\">tipo_renda_Empresário &lt;= 0.5</text>\n<text text-anchor=\"middle\" x=\"15899\" y=\"-438.8\" font-family=\"Helvetica,sans-Serif\" font-size=\"14.00\">squared_error = 37090130.629</text>\n<text text-anchor=\"middle\" x=\"15899\" y=\"-423.8\" font-family=\"Helvetica,sans-Serif\" font-size=\"14.00\">samples = 904</text>\n<text text-anchor=\"middle\" x=\"15899\" y=\"-408.8\" font-family=\"Helvetica,sans-Serif\" font-size=\"14.00\">value = 7890.592</text>\n</g>\n<!-- 118&#45;&gt;148 -->\n<g id=\"edge148\" class=\"edge\">\n<title>118&#45;&gt;148</title>\n<path fill=\"none\" stroke=\"black\" d=\"M15899,-504.88C15899,-496.78 15899,-487.98 15899,-479.47\"/>\n<polygon fill=\"black\" stroke=\"black\" points=\"15902.5,-479.3 15899,-469.3 15895.5,-479.3 15902.5,-479.3\"/>\n</g>\n<!-- 120 -->\n<g id=\"node121\" class=\"node\">\n<title>120</title>\n<polygon fill=\"#fffefd\" stroke=\"black\" points=\"12622,-365 12422,-365 12422,-297 12622,-297 12622,-365\"/>\n<text text-anchor=\"middle\" x=\"12522\" y=\"-349.8\" font-family=\"Helvetica,sans-Serif\" font-size=\"14.00\">posse_de_imovel_True &lt;= 0.5</text>\n<text text-anchor=\"middle\" x=\"12522\" y=\"-334.8\" font-family=\"Helvetica,sans-Serif\" font-size=\"14.00\">squared_error = 5611032.194</text>\n<text text-anchor=\"middle\" x=\"12522\" y=\"-319.8\" font-family=\"Helvetica,sans-Serif\" font-size=\"14.00\">samples = 406</text>\n<text text-anchor=\"middle\" x=\"12522\" y=\"-304.8\" font-family=\"Helvetica,sans-Serif\" font-size=\"14.00\">value = 3595.304</text>\n</g>\n<!-- 119&#45;&gt;120 -->\n<g id=\"edge120\" class=\"edge\">\n<title>119&#45;&gt;120</title>\n<path fill=\"none\" stroke=\"black\" d=\"M13613.29,-425.3C13390.78,-406.28 12862.36,-361.1 12632.26,-341.43\"/>\n<polygon fill=\"black\" stroke=\"black\" points=\"12632.46,-337.93 12622.19,-340.57 12631.86,-344.91 12632.46,-337.93\"/>\n</g>\n<!-- 135 -->\n<g id=\"node136\" class=\"node\">\n<title>135</title>\n<polygon fill=\"#fffdfb\" stroke=\"black\" points=\"13816.5,-365 13613.5,-365 13613.5,-297 13816.5,-297 13816.5,-365\"/>\n<text text-anchor=\"middle\" x=\"13715\" y=\"-349.8\" font-family=\"Helvetica,sans-Serif\" font-size=\"14.00\">tempo_emprego &lt;= 3.279</text>\n<text text-anchor=\"middle\" x=\"13715\" y=\"-334.8\" font-family=\"Helvetica,sans-Serif\" font-size=\"14.00\">squared_error = 19514606.379</text>\n<text text-anchor=\"middle\" x=\"13715\" y=\"-319.8\" font-family=\"Helvetica,sans-Serif\" font-size=\"14.00\">samples = 1100</text>\n<text text-anchor=\"middle\" x=\"13715\" y=\"-304.8\" font-family=\"Helvetica,sans-Serif\" font-size=\"14.00\">value = 5260.692</text>\n</g>\n<!-- 119&#45;&gt;135 -->\n<g id=\"edge135\" class=\"edge\">\n<title>119&#45;&gt;135</title>\n<path fill=\"none\" stroke=\"black\" d=\"M13715,-400.88C13715,-392.78 13715,-383.98 13715,-375.47\"/>\n<polygon fill=\"black\" stroke=\"black\" points=\"13718.5,-375.3 13715,-365.3 13711.5,-375.3 13718.5,-375.3\"/>\n</g>\n<!-- 121 -->\n<g id=\"node122\" class=\"node\">\n<title>121</title>\n<polygon fill=\"#fffefd\" stroke=\"black\" points=\"12021,-261 11825,-261 11825,-193 12021,-193 12021,-261\"/>\n<text text-anchor=\"middle\" x=\"11923\" y=\"-245.8\" font-family=\"Helvetica,sans-Serif\" font-size=\"14.00\">idade &lt;= 54.0</text>\n<text text-anchor=\"middle\" x=\"11923\" y=\"-230.8\" font-family=\"Helvetica,sans-Serif\" font-size=\"14.00\">squared_error = 3918965.714</text>\n<text text-anchor=\"middle\" x=\"11923\" y=\"-215.8\" font-family=\"Helvetica,sans-Serif\" font-size=\"14.00\">samples = 173</text>\n<text text-anchor=\"middle\" x=\"11923\" y=\"-200.8\" font-family=\"Helvetica,sans-Serif\" font-size=\"14.00\">value = 3114.512</text>\n</g>\n<!-- 120&#45;&gt;121 -->\n<g id=\"edge121\" class=\"edge\">\n<title>120&#45;&gt;121</title>\n<path fill=\"none\" stroke=\"black\" d=\"M12421.74,-312.93C12313.6,-294.51 12142.03,-265.3 12030.98,-246.39\"/>\n<polygon fill=\"black\" stroke=\"black\" points=\"12031.54,-242.93 12021.1,-244.7 12030.37,-249.83 12031.54,-242.93\"/>\n</g>\n<!-- 128 -->\n<g id=\"node129\" class=\"node\">\n<title>128</title>\n<polygon fill=\"#fffdfc\" stroke=\"black\" points=\"12638.5,-261 12405.5,-261 12405.5,-193 12638.5,-193 12638.5,-261\"/>\n<text text-anchor=\"middle\" x=\"12522\" y=\"-245.8\" font-family=\"Helvetica,sans-Serif\" font-size=\"14.00\">tipo_residencia_Com os pais &lt;= 0.5</text>\n<text text-anchor=\"middle\" x=\"12522\" y=\"-230.8\" font-family=\"Helvetica,sans-Serif\" font-size=\"14.00\">squared_error = 6568302.066</text>\n<text text-anchor=\"middle\" x=\"12522\" y=\"-215.8\" font-family=\"Helvetica,sans-Serif\" font-size=\"14.00\">samples = 233</text>\n<text text-anchor=\"middle\" x=\"12522\" y=\"-200.8\" font-family=\"Helvetica,sans-Serif\" font-size=\"14.00\">value = 3952.287</text>\n</g>\n<!-- 120&#45;&gt;128 -->\n<g id=\"edge128\" class=\"edge\">\n<title>120&#45;&gt;128</title>\n<path fill=\"none\" stroke=\"black\" d=\"M12522,-296.88C12522,-288.78 12522,-279.98 12522,-271.47\"/>\n<polygon fill=\"black\" stroke=\"black\" points=\"12525.5,-271.3 12522,-261.3 12518.5,-271.3 12525.5,-271.3\"/>\n</g>\n<!-- 122 -->\n<g id=\"node123\" class=\"node\">\n<title>122</title>\n<polygon fill=\"#fffefd\" stroke=\"black\" points=\"11710.5,-157 11513.5,-157 11513.5,-89 11710.5,-89 11710.5,-157\"/>\n<text text-anchor=\"middle\" x=\"11612\" y=\"-141.8\" font-family=\"Helvetica,sans-Serif\" font-size=\"14.00\">qt_pessoas_residencia &lt;= 1.5</text>\n<text text-anchor=\"middle\" x=\"11612\" y=\"-126.8\" font-family=\"Helvetica,sans-Serif\" font-size=\"14.00\">squared_error = 2900774.594</text>\n<text text-anchor=\"middle\" x=\"11612\" y=\"-111.8\" font-family=\"Helvetica,sans-Serif\" font-size=\"14.00\">samples = 164</text>\n<text text-anchor=\"middle\" x=\"11612\" y=\"-96.8\" font-family=\"Helvetica,sans-Serif\" font-size=\"14.00\">value = 2972.048</text>\n</g>\n<!-- 121&#45;&gt;122 -->\n<g id=\"edge122\" class=\"edge\">\n<title>121&#45;&gt;122</title>\n<path fill=\"none\" stroke=\"black\" d=\"M11824.6,-193.73C11791.48,-182.86 11754.34,-170.68 11720.49,-159.58\"/>\n<polygon fill=\"black\" stroke=\"black\" points=\"11721.16,-156.12 11710.56,-156.33 11718.97,-162.77 11721.16,-156.12\"/>\n</g>\n<!-- 125 -->\n<g id=\"node126\" class=\"node\">\n<title>125</title>\n<polygon fill=\"#fefcfb\" stroke=\"black\" points=\"12024.5,-157 11821.5,-157 11821.5,-89 12024.5,-89 12024.5,-157\"/>\n<text text-anchor=\"middle\" x=\"11923\" y=\"-141.8\" font-family=\"Helvetica,sans-Serif\" font-size=\"14.00\">estado_civil_União &lt;= 0.5</text>\n<text text-anchor=\"middle\" x=\"11923\" y=\"-126.8\" font-family=\"Helvetica,sans-Serif\" font-size=\"14.00\">squared_error = 15363552.471</text>\n<text text-anchor=\"middle\" x=\"11923\" y=\"-111.8\" font-family=\"Helvetica,sans-Serif\" font-size=\"14.00\">samples = 9</text>\n<text text-anchor=\"middle\" x=\"11923\" y=\"-96.8\" font-family=\"Helvetica,sans-Serif\" font-size=\"14.00\">value = 5710.524</text>\n</g>\n<!-- 121&#45;&gt;125 -->\n<g id=\"edge125\" class=\"edge\">\n<title>121&#45;&gt;125</title>\n<path fill=\"none\" stroke=\"black\" d=\"M11923,-192.88C11923,-184.78 11923,-175.98 11923,-167.47\"/>\n<polygon fill=\"black\" stroke=\"black\" points=\"11926.5,-167.3 11923,-157.3 11919.5,-167.3 11926.5,-167.3\"/>\n</g>\n<!-- 123 -->\n<g id=\"node124\" class=\"node\">\n<title>123</title>\n<polygon fill=\"#fffdfd\" stroke=\"black\" points=\"11496,-53 11300,-53 11300,0 11496,0 11496,-53\"/>\n<text text-anchor=\"middle\" x=\"11398\" y=\"-37.8\" font-family=\"Helvetica,sans-Serif\" font-size=\"14.00\">squared_error = 3110862.639</text>\n<text text-anchor=\"middle\" x=\"11398\" y=\"-22.8\" font-family=\"Helvetica,sans-Serif\" font-size=\"14.00\">samples = 30</text>\n<text text-anchor=\"middle\" x=\"11398\" y=\"-7.8\" font-family=\"Helvetica,sans-Serif\" font-size=\"14.00\">value = 3710.082</text>\n</g>\n<!-- 122&#45;&gt;123 -->\n<g id=\"edge123\" class=\"edge\">\n<title>122&#45;&gt;123</title>\n<path fill=\"none\" stroke=\"black\" d=\"M11537.15,-88.95C11513.74,-78.61 11488.07,-67.27 11465.21,-57.18\"/>\n<polygon fill=\"black\" stroke=\"black\" points=\"11466.5,-53.92 11455.94,-53.09 11463.68,-60.33 11466.5,-53.92\"/>\n</g>\n<!-- 124 -->\n<g id=\"node125\" class=\"node\">\n<title>124</title>\n<polygon fill=\"#fffefd\" stroke=\"black\" points=\"11710,-53 11514,-53 11514,0 11710,0 11710,-53\"/>\n<text text-anchor=\"middle\" x=\"11612\" y=\"-37.8\" font-family=\"Helvetica,sans-Serif\" font-size=\"14.00\">squared_error = 2704492.231</text>\n<text text-anchor=\"middle\" x=\"11612\" y=\"-22.8\" font-family=\"Helvetica,sans-Serif\" font-size=\"14.00\">samples = 134</text>\n<text text-anchor=\"middle\" x=\"11612\" y=\"-7.8\" font-family=\"Helvetica,sans-Serif\" font-size=\"14.00\">value = 2806.817</text>\n</g>\n<!-- 122&#45;&gt;124 -->\n<g id=\"edge124\" class=\"edge\">\n<title>122&#45;&gt;124</title>\n<path fill=\"none\" stroke=\"black\" d=\"M11612,-88.95C11612,-80.72 11612,-71.85 11612,-63.48\"/>\n<polygon fill=\"black\" stroke=\"black\" points=\"11615.5,-63.24 11612,-53.24 11608.5,-63.24 11615.5,-63.24\"/>\n</g>\n<!-- 126 -->\n<g id=\"node127\" class=\"node\">\n<title>126</title>\n<polygon fill=\"#fefcfa\" stroke=\"black\" points=\"11930.5,-53 11727.5,-53 11727.5,0 11930.5,0 11930.5,-53\"/>\n<text text-anchor=\"middle\" x=\"11829\" y=\"-37.8\" font-family=\"Helvetica,sans-Serif\" font-size=\"14.00\">squared_error = 10583623.227</text>\n<text text-anchor=\"middle\" x=\"11829\" y=\"-22.8\" font-family=\"Helvetica,sans-Serif\" font-size=\"14.00\">samples = 7</text>\n<text text-anchor=\"middle\" x=\"11829\" y=\"-7.8\" font-family=\"Helvetica,sans-Serif\" font-size=\"14.00\">value = 7137.994</text>\n</g>\n<!-- 125&#45;&gt;126 -->\n<g id=\"edge126\" class=\"edge\">\n<title>125&#45;&gt;126</title>\n<path fill=\"none\" stroke=\"black\" d=\"M11890.12,-88.95C11880.93,-79.71 11870.95,-69.67 11861.76,-60.44\"/>\n<polygon fill=\"black\" stroke=\"black\" points=\"11864.13,-57.86 11854.6,-53.24 11859.17,-62.79 11864.13,-57.86\"/>\n</g>\n<!-- 127 -->\n<g id=\"node128\" class=\"node\">\n<title>127</title>\n<polygon fill=\"#ffffff\" stroke=\"black\" points=\"12085,-53 11949,-53 11949,0 12085,0 12085,-53\"/>\n<text text-anchor=\"middle\" x=\"12017\" y=\"-37.8\" font-family=\"Helvetica,sans-Serif\" font-size=\"14.00\">squared_error = 0.0</text>\n<text text-anchor=\"middle\" x=\"12017\" y=\"-22.8\" font-family=\"Helvetica,sans-Serif\" font-size=\"14.00\">samples = 2</text>\n<text text-anchor=\"middle\" x=\"12017\" y=\"-7.8\" font-family=\"Helvetica,sans-Serif\" font-size=\"14.00\">value = 714.38</text>\n</g>\n<!-- 125&#45;&gt;127 -->\n<g id=\"edge127\" class=\"edge\">\n<title>125&#45;&gt;127</title>\n<path fill=\"none\" stroke=\"black\" d=\"M11955.88,-88.95C11965.07,-79.71 11975.05,-69.67 11984.24,-60.44\"/>\n<polygon fill=\"black\" stroke=\"black\" points=\"11986.83,-62.79 11991.4,-53.24 11981.87,-57.86 11986.83,-62.79\"/>\n</g>\n<!-- 129 -->\n<g id=\"node130\" class=\"node\">\n<title>129</title>\n<polygon fill=\"#fffdfc\" stroke=\"black\" points=\"12504,-157 12304,-157 12304,-89 12504,-89 12504,-157\"/>\n<text text-anchor=\"middle\" x=\"12404\" y=\"-141.8\" font-family=\"Helvetica,sans-Serif\" font-size=\"14.00\">tipo_renda_Empresário &lt;= 0.5</text>\n<text text-anchor=\"middle\" x=\"12404\" y=\"-126.8\" font-family=\"Helvetica,sans-Serif\" font-size=\"14.00\">squared_error = 5785493.05</text>\n<text text-anchor=\"middle\" x=\"12404\" y=\"-111.8\" font-family=\"Helvetica,sans-Serif\" font-size=\"14.00\">samples = 216</text>\n<text text-anchor=\"middle\" x=\"12404\" y=\"-96.8\" font-family=\"Helvetica,sans-Serif\" font-size=\"14.00\">value = 3823.405</text>\n</g>\n<!-- 128&#45;&gt;129 -->\n<g id=\"edge129\" class=\"edge\">\n<title>128&#45;&gt;129</title>\n<path fill=\"none\" stroke=\"black\" d=\"M12483.69,-192.88C12472.97,-183.62 12461.21,-173.45 12450.1,-163.85\"/>\n<polygon fill=\"black\" stroke=\"black\" points=\"12452.38,-161.19 12442.52,-157.3 12447.8,-166.49 12452.38,-161.19\"/>\n</g>\n<!-- 132 -->\n<g id=\"node133\" class=\"node\">\n<title>132</title>\n<polygon fill=\"#fefcfb\" stroke=\"black\" points=\"12758,-157 12522,-157 12522,-89 12758,-89 12758,-157\"/>\n<text text-anchor=\"middle\" x=\"12640\" y=\"-141.8\" font-family=\"Helvetica,sans-Serif\" font-size=\"14.00\">educacao_Superior completo &lt;= 0.5</text>\n<text text-anchor=\"middle\" x=\"12640\" y=\"-126.8\" font-family=\"Helvetica,sans-Serif\" font-size=\"14.00\">squared_error = 13621932.968</text>\n<text text-anchor=\"middle\" x=\"12640\" y=\"-111.8\" font-family=\"Helvetica,sans-Serif\" font-size=\"14.00\">samples = 17</text>\n<text text-anchor=\"middle\" x=\"12640\" y=\"-96.8\" font-family=\"Helvetica,sans-Serif\" font-size=\"14.00\">value = 5589.845</text>\n</g>\n<!-- 128&#45;&gt;132 -->\n<g id=\"edge132\" class=\"edge\">\n<title>128&#45;&gt;132</title>\n<path fill=\"none\" stroke=\"black\" d=\"M12560.31,-192.88C12571.03,-183.62 12582.79,-173.45 12593.9,-163.85\"/>\n<polygon fill=\"black\" stroke=\"black\" points=\"12596.2,-166.49 12601.48,-157.3 12591.62,-161.19 12596.2,-166.49\"/>\n</g>\n<!-- 130 -->\n<g id=\"node131\" class=\"node\">\n<title>130</title>\n<polygon fill=\"#fffefd\" stroke=\"black\" points=\"12299,-53 12103,-53 12103,0 12299,0 12299,-53\"/>\n<text text-anchor=\"middle\" x=\"12201\" y=\"-37.8\" font-family=\"Helvetica,sans-Serif\" font-size=\"14.00\">squared_error = 4197026.708</text>\n<text text-anchor=\"middle\" x=\"12201\" y=\"-22.8\" font-family=\"Helvetica,sans-Serif\" font-size=\"14.00\">samples = 156</text>\n<text text-anchor=\"middle\" x=\"12201\" y=\"-7.8\" font-family=\"Helvetica,sans-Serif\" font-size=\"14.00\">value = 3480.607</text>\n</g>\n<!-- 129&#45;&gt;130 -->\n<g id=\"edge130\" class=\"edge\">\n<title>129&#45;&gt;130</title>\n<path fill=\"none\" stroke=\"black\" d=\"M12333,-88.95C12310.89,-78.66 12286.65,-67.37 12265.05,-57.32\"/>\n<polygon fill=\"black\" stroke=\"black\" points=\"12266.51,-54.13 12255.96,-53.09 12263.55,-60.48 12266.51,-54.13\"/>\n</g>\n<!-- 131 -->\n<g id=\"node132\" class=\"node\">\n<title>131</title>\n<polygon fill=\"#fffdfc\" stroke=\"black\" points=\"12513,-53 12317,-53 12317,0 12513,0 12513,-53\"/>\n<text text-anchor=\"middle\" x=\"12415\" y=\"-37.8\" font-family=\"Helvetica,sans-Serif\" font-size=\"14.00\">squared_error = 8815603.515</text>\n<text text-anchor=\"middle\" x=\"12415\" y=\"-22.8\" font-family=\"Helvetica,sans-Serif\" font-size=\"14.00\">samples = 60</text>\n<text text-anchor=\"middle\" x=\"12415\" y=\"-7.8\" font-family=\"Helvetica,sans-Serif\" font-size=\"14.00\">value = 4714.682</text>\n</g>\n<!-- 129&#45;&gt;131 -->\n<g id=\"edge131\" class=\"edge\">\n<title>129&#45;&gt;131</title>\n<path fill=\"none\" stroke=\"black\" d=\"M12407.85,-88.95C12408.82,-80.62 12409.86,-71.65 12410.84,-63.2\"/>\n<polygon fill=\"black\" stroke=\"black\" points=\"12414.32,-63.57 12412,-53.24 12407.37,-62.76 12414.32,-63.57\"/>\n</g>\n<!-- 133 -->\n<g id=\"node134\" class=\"node\">\n<title>133</title>\n<polygon fill=\"#fffdfc\" stroke=\"black\" points=\"12727,-53 12531,-53 12531,0 12727,0 12727,-53\"/>\n<text text-anchor=\"middle\" x=\"12629\" y=\"-37.8\" font-family=\"Helvetica,sans-Serif\" font-size=\"14.00\">squared_error = 8862504.824</text>\n<text text-anchor=\"middle\" x=\"12629\" y=\"-22.8\" font-family=\"Helvetica,sans-Serif\" font-size=\"14.00\">samples = 16</text>\n<text text-anchor=\"middle\" x=\"12629\" y=\"-7.8\" font-family=\"Helvetica,sans-Serif\" font-size=\"14.00\">value = 5015.348</text>\n</g>\n<!-- 132&#45;&gt;133 -->\n<g id=\"edge133\" class=\"edge\">\n<title>132&#45;&gt;133</title>\n<path fill=\"none\" stroke=\"black\" d=\"M12636.15,-88.95C12635.18,-80.62 12634.14,-71.65 12633.16,-63.2\"/>\n<polygon fill=\"black\" stroke=\"black\" points=\"12636.63,-62.76 12632,-53.24 12629.68,-63.57 12636.63,-62.76\"/>\n</g>\n<!-- 134 -->\n<g id=\"node135\" class=\"node\">\n<title>134</title>\n<polygon fill=\"#fef8f4\" stroke=\"black\" points=\"12881,-53 12745,-53 12745,0 12881,0 12881,-53\"/>\n<text text-anchor=\"middle\" x=\"12813\" y=\"-37.8\" font-family=\"Helvetica,sans-Serif\" font-size=\"14.00\">squared_error = 0.0</text>\n<text text-anchor=\"middle\" x=\"12813\" y=\"-22.8\" font-family=\"Helvetica,sans-Serif\" font-size=\"14.00\">samples = 1</text>\n<text text-anchor=\"middle\" x=\"12813\" y=\"-7.8\" font-family=\"Helvetica,sans-Serif\" font-size=\"14.00\">value = 14781.8</text>\n</g>\n<!-- 132&#45;&gt;134 -->\n<g id=\"edge134\" class=\"edge\">\n<title>132&#45;&gt;134</title>\n<path fill=\"none\" stroke=\"black\" d=\"M12700.51,-88.95C12718.84,-78.93 12738.9,-67.98 12756.93,-58.13\"/>\n<polygon fill=\"black\" stroke=\"black\" points=\"12759.06,-60.95 12766.16,-53.09 12755.7,-54.81 12759.06,-60.95\"/>\n</g>\n<!-- 136 -->\n<g id=\"node137\" class=\"node\">\n<title>136</title>\n<polygon fill=\"#fffdfc\" stroke=\"black\" points=\"13645,-261 13445,-261 13445,-193 13645,-193 13645,-261\"/>\n<text text-anchor=\"middle\" x=\"13545\" y=\"-245.8\" font-family=\"Helvetica,sans-Serif\" font-size=\"14.00\">tipo_renda_Empresário &lt;= 0.5</text>\n<text text-anchor=\"middle\" x=\"13545\" y=\"-230.8\" font-family=\"Helvetica,sans-Serif\" font-size=\"14.00\">squared_error = 18877868.46</text>\n<text text-anchor=\"middle\" x=\"13545\" y=\"-215.8\" font-family=\"Helvetica,sans-Serif\" font-size=\"14.00\">samples = 650</text>\n<text text-anchor=\"middle\" x=\"13545\" y=\"-200.8\" font-family=\"Helvetica,sans-Serif\" font-size=\"14.00\">value = 4850.86</text>\n</g>\n<!-- 135&#45;&gt;136 -->\n<g id=\"edge136\" class=\"edge\">\n<title>135&#45;&gt;136</title>\n<path fill=\"none\" stroke=\"black\" d=\"M13659.81,-296.88C13643.54,-287.12 13625.61,-276.37 13608.85,-266.31\"/>\n<polygon fill=\"black\" stroke=\"black\" points=\"13610.58,-263.27 13600.21,-261.12 13606.98,-269.27 13610.58,-263.27\"/>\n</g>\n<!-- 143 -->\n<g id=\"node144\" class=\"node\">\n<title>143</title>\n<polygon fill=\"#fefcfb\" stroke=\"black\" points=\"13983,-261 13787,-261 13787,-193 13983,-193 13983,-261\"/>\n<text text-anchor=\"middle\" x=\"13885\" y=\"-245.8\" font-family=\"Helvetica,sans-Serif\" font-size=\"14.00\">idade &lt;= 60.5</text>\n<text text-anchor=\"middle\" x=\"13885\" y=\"-230.8\" font-family=\"Helvetica,sans-Serif\" font-size=\"14.00\">squared_error = 19841286.37</text>\n<text text-anchor=\"middle\" x=\"13885\" y=\"-215.8\" font-family=\"Helvetica,sans-Serif\" font-size=\"14.00\">samples = 450</text>\n<text text-anchor=\"middle\" x=\"13885\" y=\"-200.8\" font-family=\"Helvetica,sans-Serif\" font-size=\"14.00\">value = 5852.672</text>\n</g>\n<!-- 135&#45;&gt;143 -->\n<g id=\"edge143\" class=\"edge\">\n<title>135&#45;&gt;143</title>\n<path fill=\"none\" stroke=\"black\" d=\"M13770.19,-296.88C13786.46,-287.12 13804.39,-276.37 13821.15,-266.31\"/>\n<polygon fill=\"black\" stroke=\"black\" points=\"13823.02,-269.27 13829.79,-261.12 13819.42,-263.27 13823.02,-269.27\"/>\n</g>\n<!-- 137 -->\n<g id=\"node138\" class=\"node\">\n<title>137</title>\n<polygon fill=\"#fffdfc\" stroke=\"black\" points=\"13323.5,-157 13120.5,-157 13120.5,-89 13323.5,-89 13323.5,-157\"/>\n<text text-anchor=\"middle\" x=\"13222\" y=\"-141.8\" font-family=\"Helvetica,sans-Serif\" font-size=\"14.00\">tempo_emprego &lt;= 1.297</text>\n<text text-anchor=\"middle\" x=\"13222\" y=\"-126.8\" font-family=\"Helvetica,sans-Serif\" font-size=\"14.00\">squared_error = 11471742.785</text>\n<text text-anchor=\"middle\" x=\"13222\" y=\"-111.8\" font-family=\"Helvetica,sans-Serif\" font-size=\"14.00\">samples = 444</text>\n<text text-anchor=\"middle\" x=\"13222\" y=\"-96.8\" font-family=\"Helvetica,sans-Serif\" font-size=\"14.00\">value = 4373.764</text>\n</g>\n<!-- 136&#45;&gt;137 -->\n<g id=\"edge137\" class=\"edge\">\n<title>136&#45;&gt;137</title>\n<path fill=\"none\" stroke=\"black\" d=\"M13444.57,-194.29C13409.3,-183.15 13369.46,-170.57 13333.35,-159.16\"/>\n<polygon fill=\"black\" stroke=\"black\" points=\"13334.35,-155.81 13323.76,-156.13 13332.24,-162.48 13334.35,-155.81\"/>\n</g>\n<!-- 140 -->\n<g id=\"node141\" class=\"node\">\n<title>140</title>\n<polygon fill=\"#fefcfb\" stroke=\"black\" points=\"13646.5,-157 13443.5,-157 13443.5,-89 13646.5,-89 13646.5,-157\"/>\n<text text-anchor=\"middle\" x=\"13545\" y=\"-141.8\" font-family=\"Helvetica,sans-Serif\" font-size=\"14.00\">tempo_emprego &lt;= 1.893</text>\n<text text-anchor=\"middle\" x=\"13545\" y=\"-126.8\" font-family=\"Helvetica,sans-Serif\" font-size=\"14.00\">squared_error = 33292576.544</text>\n<text text-anchor=\"middle\" x=\"13545\" y=\"-111.8\" font-family=\"Helvetica,sans-Serif\" font-size=\"14.00\">samples = 206</text>\n<text text-anchor=\"middle\" x=\"13545\" y=\"-96.8\" font-family=\"Helvetica,sans-Serif\" font-size=\"14.00\">value = 5879.164</text>\n</g>\n<!-- 136&#45;&gt;140 -->\n<g id=\"edge140\" class=\"edge\">\n<title>136&#45;&gt;140</title>\n<path fill=\"none\" stroke=\"black\" d=\"M13545,-192.88C13545,-184.78 13545,-175.98 13545,-167.47\"/>\n<polygon fill=\"black\" stroke=\"black\" points=\"13548.5,-167.3 13545,-157.3 13541.5,-167.3 13548.5,-167.3\"/>\n</g>\n<!-- 138 -->\n<g id=\"node139\" class=\"node\">\n<title>138</title>\n<polygon fill=\"#fefaf7\" stroke=\"black\" points=\"13102.5,-53 12899.5,-53 12899.5,0 13102.5,0 13102.5,-53\"/>\n<text text-anchor=\"middle\" x=\"13001\" y=\"-37.8\" font-family=\"Helvetica,sans-Serif\" font-size=\"14.00\">squared_error = 19486970.885</text>\n<text text-anchor=\"middle\" x=\"13001\" y=\"-22.8\" font-family=\"Helvetica,sans-Serif\" font-size=\"14.00\">samples = 5</text>\n<text text-anchor=\"middle\" x=\"13001\" y=\"-7.8\" font-family=\"Helvetica,sans-Serif\" font-size=\"14.00\">value = 11143.724</text>\n</g>\n<!-- 137&#45;&gt;138 -->\n<g id=\"edge138\" class=\"edge\">\n<title>137&#45;&gt;138</title>\n<path fill=\"none\" stroke=\"black\" d=\"M13144.7,-88.95C13120.42,-78.56 13093.78,-67.17 13070.1,-57.05\"/>\n<polygon fill=\"black\" stroke=\"black\" points=\"13071.41,-53.8 13060.84,-53.09 13068.66,-60.24 13071.41,-53.8\"/>\n</g>\n<!-- 139 -->\n<g id=\"node140\" class=\"node\">\n<title>139</title>\n<polygon fill=\"#fffdfc\" stroke=\"black\" points=\"13323.5,-53 13120.5,-53 13120.5,0 13323.5,0 13323.5,-53\"/>\n<text text-anchor=\"middle\" x=\"13222\" y=\"-37.8\" font-family=\"Helvetica,sans-Serif\" font-size=\"14.00\">squared_error = 10852499.113</text>\n<text text-anchor=\"middle\" x=\"13222\" y=\"-22.8\" font-family=\"Helvetica,sans-Serif\" font-size=\"14.00\">samples = 439</text>\n<text text-anchor=\"middle\" x=\"13222\" y=\"-7.8\" font-family=\"Helvetica,sans-Serif\" font-size=\"14.00\">value = 4296.657</text>\n</g>\n<!-- 137&#45;&gt;139 -->\n<g id=\"edge139\" class=\"edge\">\n<title>137&#45;&gt;139</title>\n<path fill=\"none\" stroke=\"black\" d=\"M13222,-88.95C13222,-80.72 13222,-71.85 13222,-63.48\"/>\n<polygon fill=\"black\" stroke=\"black\" points=\"13225.5,-63.24 13222,-53.24 13218.5,-63.24 13225.5,-63.24\"/>\n</g>\n<!-- 141 -->\n<g id=\"node142\" class=\"node\">\n<title>141</title>\n<polygon fill=\"#fefcfa\" stroke=\"black\" points=\"13544.5,-53 13341.5,-53 13341.5,0 13544.5,0 13544.5,-53\"/>\n<text text-anchor=\"middle\" x=\"13443\" y=\"-37.8\" font-family=\"Helvetica,sans-Serif\" font-size=\"14.00\">squared_error = 71391699.917</text>\n<text text-anchor=\"middle\" x=\"13443\" y=\"-22.8\" font-family=\"Helvetica,sans-Serif\" font-size=\"14.00\">samples = 61</text>\n<text text-anchor=\"middle\" x=\"13443\" y=\"-7.8\" font-family=\"Helvetica,sans-Serif\" font-size=\"14.00\">value = 7275.648</text>\n</g>\n<!-- 140&#45;&gt;141 -->\n<g id=\"edge141\" class=\"edge\">\n<title>140&#45;&gt;141</title>\n<path fill=\"none\" stroke=\"black\" d=\"M13509.33,-88.95C13499.25,-79.62 13488.3,-69.47 13478.26,-60.16\"/>\n<polygon fill=\"black\" stroke=\"black\" points=\"13480.49,-57.47 13470.78,-53.24 13475.74,-62.6 13480.49,-57.47\"/>\n</g>\n<!-- 142 -->\n<g id=\"node143\" class=\"node\">\n<title>142</title>\n<polygon fill=\"#fffdfb\" stroke=\"black\" points=\"13765.5,-53 13562.5,-53 13562.5,0 13765.5,0 13765.5,-53\"/>\n<text text-anchor=\"middle\" x=\"13664\" y=\"-37.8\" font-family=\"Helvetica,sans-Serif\" font-size=\"14.00\">squared_error = 16099114.394</text>\n<text text-anchor=\"middle\" x=\"13664\" y=\"-22.8\" font-family=\"Helvetica,sans-Serif\" font-size=\"14.00\">samples = 145</text>\n<text text-anchor=\"middle\" x=\"13664\" y=\"-7.8\" font-family=\"Helvetica,sans-Serif\" font-size=\"14.00\">value = 5291.678</text>\n</g>\n<!-- 140&#45;&gt;142 -->\n<g id=\"edge142\" class=\"edge\">\n<title>140&#45;&gt;142</title>\n<path fill=\"none\" stroke=\"black\" d=\"M13586.62,-88.95C13598.6,-79.43 13611.65,-69.07 13623.56,-59.62\"/>\n<polygon fill=\"black\" stroke=\"black\" points=\"13625.94,-62.2 13631.59,-53.24 13621.58,-56.71 13625.94,-62.2\"/>\n</g>\n<!-- 144 -->\n<g id=\"node145\" class=\"node\">\n<title>144</title>\n<polygon fill=\"#fefcfb\" stroke=\"black\" points=\"14003,-157 13767,-157 13767,-89 14003,-89 14003,-157\"/>\n<text text-anchor=\"middle\" x=\"13885\" y=\"-141.8\" font-family=\"Helvetica,sans-Serif\" font-size=\"14.00\">educacao_Superior completo &lt;= 0.5</text>\n<text text-anchor=\"middle\" x=\"13885\" y=\"-126.8\" font-family=\"Helvetica,sans-Serif\" font-size=\"14.00\">squared_error = 18904202.555</text>\n<text text-anchor=\"middle\" x=\"13885\" y=\"-111.8\" font-family=\"Helvetica,sans-Serif\" font-size=\"14.00\">samples = 447</text>\n<text text-anchor=\"middle\" x=\"13885\" y=\"-96.8\" font-family=\"Helvetica,sans-Serif\" font-size=\"14.00\">value = 5779.002</text>\n</g>\n<!-- 143&#45;&gt;144 -->\n<g id=\"edge144\" class=\"edge\">\n<title>143&#45;&gt;144</title>\n<path fill=\"none\" stroke=\"black\" d=\"M13885,-192.88C13885,-184.78 13885,-175.98 13885,-167.47\"/>\n<polygon fill=\"black\" stroke=\"black\" points=\"13888.5,-167.3 13885,-157.3 13881.5,-167.3 13888.5,-167.3\"/>\n</g>\n<!-- 147 -->\n<g id=\"node148\" class=\"node\">\n<title>147</title>\n<polygon fill=\"#fdf7f2\" stroke=\"black\" points=\"14209,-149.5 14021,-149.5 14021,-96.5 14209,-96.5 14209,-149.5\"/>\n<text text-anchor=\"middle\" x=\"14115\" y=\"-134.3\" font-family=\"Helvetica,sans-Serif\" font-size=\"14.00\">squared_error = 38167584.5</text>\n<text text-anchor=\"middle\" x=\"14115\" y=\"-119.3\" font-family=\"Helvetica,sans-Serif\" font-size=\"14.00\">samples = 3</text>\n<text text-anchor=\"middle\" x=\"14115\" y=\"-104.3\" font-family=\"Helvetica,sans-Serif\" font-size=\"14.00\">value = 16829.49</text>\n</g>\n<!-- 143&#45;&gt;147 -->\n<g id=\"edge147\" class=\"edge\">\n<title>143&#45;&gt;147</title>\n<path fill=\"none\" stroke=\"black\" d=\"M13959.67,-192.88C13988.19,-180.24 14020.5,-165.91 14048.24,-153.61\"/>\n<polygon fill=\"black\" stroke=\"black\" points=\"14049.73,-156.77 14057.46,-149.52 14046.89,-150.37 14049.73,-156.77\"/>\n</g>\n<!-- 145 -->\n<g id=\"node146\" class=\"node\">\n<title>145</title>\n<polygon fill=\"#fffdfb\" stroke=\"black\" points=\"13986.5,-53 13783.5,-53 13783.5,0 13986.5,0 13986.5,-53\"/>\n<text text-anchor=\"middle\" x=\"13885\" y=\"-37.8\" font-family=\"Helvetica,sans-Serif\" font-size=\"14.00\">squared_error = 14312895.736</text>\n<text text-anchor=\"middle\" x=\"13885\" y=\"-22.8\" font-family=\"Helvetica,sans-Serif\" font-size=\"14.00\">samples = 321</text>\n<text text-anchor=\"middle\" x=\"13885\" y=\"-7.8\" font-family=\"Helvetica,sans-Serif\" font-size=\"14.00\">value = 5394.33</text>\n</g>\n<!-- 144&#45;&gt;145 -->\n<g id=\"edge145\" class=\"edge\">\n<title>144&#45;&gt;145</title>\n<path fill=\"none\" stroke=\"black\" d=\"M13885,-88.95C13885,-80.72 13885,-71.85 13885,-63.48\"/>\n<polygon fill=\"black\" stroke=\"black\" points=\"13888.5,-63.24 13885,-53.24 13881.5,-63.24 13888.5,-63.24\"/>\n</g>\n<!-- 146 -->\n<g id=\"node147\" class=\"node\">\n<title>146</title>\n<polygon fill=\"#fefcfa\" stroke=\"black\" points=\"14207.5,-53 14004.5,-53 14004.5,0 14207.5,0 14207.5,-53\"/>\n<text text-anchor=\"middle\" x=\"14106\" y=\"-37.8\" font-family=\"Helvetica,sans-Serif\" font-size=\"14.00\">squared_error = 29263730.047</text>\n<text text-anchor=\"middle\" x=\"14106\" y=\"-22.8\" font-family=\"Helvetica,sans-Serif\" font-size=\"14.00\">samples = 126</text>\n<text text-anchor=\"middle\" x=\"14106\" y=\"-7.8\" font-family=\"Helvetica,sans-Serif\" font-size=\"14.00\">value = 6759.0</text>\n</g>\n<!-- 144&#45;&gt;146 -->\n<g id=\"edge146\" class=\"edge\">\n<title>144&#45;&gt;146</title>\n<path fill=\"none\" stroke=\"black\" d=\"M13962.3,-88.95C13986.58,-78.56 14013.22,-67.17 14036.9,-57.05\"/>\n<polygon fill=\"black\" stroke=\"black\" points=\"14038.34,-60.24 14046.16,-53.09 14035.59,-53.8 14038.34,-60.24\"/>\n</g>\n<!-- 149 -->\n<g id=\"node150\" class=\"node\">\n<title>149</title>\n<polygon fill=\"#fefcfa\" stroke=\"black\" points=\"15562.5,-365 15359.5,-365 15359.5,-297 15562.5,-297 15562.5,-365\"/>\n<text text-anchor=\"middle\" x=\"15461\" y=\"-349.8\" font-family=\"Helvetica,sans-Serif\" font-size=\"14.00\">tempo_emprego &lt;= 6.573</text>\n<text text-anchor=\"middle\" x=\"15461\" y=\"-334.8\" font-family=\"Helvetica,sans-Serif\" font-size=\"14.00\">squared_error = 29306195.151</text>\n<text text-anchor=\"middle\" x=\"15461\" y=\"-319.8\" font-family=\"Helvetica,sans-Serif\" font-size=\"14.00\">samples = 637</text>\n<text text-anchor=\"middle\" x=\"15461\" y=\"-304.8\" font-family=\"Helvetica,sans-Serif\" font-size=\"14.00\">value = 7297.56</text>\n</g>\n<!-- 148&#45;&gt;149 -->\n<g id=\"edge149\" class=\"edge\">\n<title>148&#45;&gt;149</title>\n<path fill=\"none\" stroke=\"black\" d=\"M15797.41,-410.34C15730.21,-394.69 15642.07,-374.17 15572.86,-358.05\"/>\n<polygon fill=\"black\" stroke=\"black\" points=\"15573.33,-354.56 15562.79,-355.71 15571.74,-361.38 15573.33,-354.56\"/>\n</g>\n<!-- 164 -->\n<g id=\"node165\" class=\"node\">\n<title>164</title>\n<polygon fill=\"#fefbf8\" stroke=\"black\" points=\"16455,-365 16219,-365 16219,-297 16455,-297 16455,-365\"/>\n<text text-anchor=\"middle\" x=\"16337\" y=\"-349.8\" font-family=\"Helvetica,sans-Serif\" font-size=\"14.00\">educacao_Superior completo &lt;= 0.5</text>\n<text text-anchor=\"middle\" x=\"16337\" y=\"-334.8\" font-family=\"Helvetica,sans-Serif\" font-size=\"14.00\">squared_error = 52819990.658</text>\n<text text-anchor=\"middle\" x=\"16337\" y=\"-319.8\" font-family=\"Helvetica,sans-Serif\" font-size=\"14.00\">samples = 267</text>\n<text text-anchor=\"middle\" x=\"16337\" y=\"-304.8\" font-family=\"Helvetica,sans-Serif\" font-size=\"14.00\">value = 9305.427</text>\n</g>\n<!-- 148&#45;&gt;164 -->\n<g id=\"edge164\" class=\"edge\">\n<title>148&#45;&gt;164</title>\n<path fill=\"none\" stroke=\"black\" d=\"M16000.59,-410.34C16062.6,-395.9 16142.46,-377.3 16208.8,-361.86\"/>\n<polygon fill=\"black\" stroke=\"black\" points=\"16209.96,-365.18 16218.9,-359.5 16208.37,-358.36 16209.96,-365.18\"/>\n</g>\n<!-- 150 -->\n<g id=\"node151\" class=\"node\">\n<title>150</title>\n<polygon fill=\"#fefcfa\" stroke=\"black\" points=\"14973.5,-261 14770.5,-261 14770.5,-193 14973.5,-193 14973.5,-261\"/>\n<text text-anchor=\"middle\" x=\"14872\" y=\"-245.8\" font-family=\"Helvetica,sans-Serif\" font-size=\"14.00\">idade &lt;= 42.5</text>\n<text text-anchor=\"middle\" x=\"14872\" y=\"-230.8\" font-family=\"Helvetica,sans-Serif\" font-size=\"14.00\">squared_error = 21728547.305</text>\n<text text-anchor=\"middle\" x=\"14872\" y=\"-215.8\" font-family=\"Helvetica,sans-Serif\" font-size=\"14.00\">samples = 363</text>\n<text text-anchor=\"middle\" x=\"14872\" y=\"-200.8\" font-family=\"Helvetica,sans-Serif\" font-size=\"14.00\">value = 6418.226</text>\n</g>\n<!-- 149&#45;&gt;150 -->\n<g id=\"edge150\" class=\"edge\">\n<title>149&#45;&gt;150</title>\n<path fill=\"none\" stroke=\"black\" d=\"M15359.41,-312.41C15254.74,-294.28 15092.01,-266.1 14983.76,-247.35\"/>\n<polygon fill=\"black\" stroke=\"black\" points=\"14984.23,-243.88 14973.78,-245.63 14983.04,-250.78 14984.23,-243.88\"/>\n</g>\n<!-- 157 -->\n<g id=\"node158\" class=\"node\">\n<title>157</title>\n<polygon fill=\"#fefbf9\" stroke=\"black\" points=\"15559,-261 15363,-261 15363,-193 15559,-193 15559,-261\"/>\n<text text-anchor=\"middle\" x=\"15461\" y=\"-245.8\" font-family=\"Helvetica,sans-Serif\" font-size=\"14.00\">estado_civil_Separado &lt;= 0.5</text>\n<text text-anchor=\"middle\" x=\"15461\" y=\"-230.8\" font-family=\"Helvetica,sans-Serif\" font-size=\"14.00\">squared_error = 36963684.17</text>\n<text text-anchor=\"middle\" x=\"15461\" y=\"-215.8\" font-family=\"Helvetica,sans-Serif\" font-size=\"14.00\">samples = 274</text>\n<text text-anchor=\"middle\" x=\"15461\" y=\"-200.8\" font-family=\"Helvetica,sans-Serif\" font-size=\"14.00\">value = 8462.517</text>\n</g>\n<!-- 149&#45;&gt;157 -->\n<g id=\"edge157\" class=\"edge\">\n<title>149&#45;&gt;157</title>\n<path fill=\"none\" stroke=\"black\" d=\"M15461,-296.88C15461,-288.78 15461,-279.98 15461,-271.47\"/>\n<polygon fill=\"black\" stroke=\"black\" points=\"15464.5,-271.3 15461,-261.3 15457.5,-271.3 15464.5,-271.3\"/>\n</g>\n<!-- 151 -->\n<g id=\"node152\" class=\"node\">\n<title>151</title>\n<polygon fill=\"#fefcfa\" stroke=\"black\" points=\"14649.5,-157 14446.5,-157 14446.5,-89 14649.5,-89 14649.5,-157\"/>\n<text text-anchor=\"middle\" x=\"14548\" y=\"-141.8\" font-family=\"Helvetica,sans-Serif\" font-size=\"14.00\">tempo_emprego &lt;= 5.684</text>\n<text text-anchor=\"middle\" x=\"14548\" y=\"-126.8\" font-family=\"Helvetica,sans-Serif\" font-size=\"14.00\">squared_error = 24608337.183</text>\n<text text-anchor=\"middle\" x=\"14548\" y=\"-111.8\" font-family=\"Helvetica,sans-Serif\" font-size=\"14.00\">samples = 280</text>\n<text text-anchor=\"middle\" x=\"14548\" y=\"-96.8\" font-family=\"Helvetica,sans-Serif\" font-size=\"14.00\">value = 6849.443</text>\n</g>\n<!-- 150&#45;&gt;151 -->\n<g id=\"edge151\" class=\"edge\">\n<title>150&#45;&gt;151</title>\n<path fill=\"none\" stroke=\"black\" d=\"M14770.37,-194.01C14735.02,-182.88 14695.2,-170.34 14659.12,-158.98\"/>\n<polygon fill=\"black\" stroke=\"black\" points=\"14660.13,-155.63 14649.54,-155.97 14658.03,-162.31 14660.13,-155.63\"/>\n</g>\n<!-- 154 -->\n<g id=\"node155\" class=\"node\">\n<title>154</title>\n<polygon fill=\"#fffdfc\" stroke=\"black\" points=\"14970,-157 14774,-157 14774,-89 14970,-89 14970,-157\"/>\n<text text-anchor=\"middle\" x=\"14872\" y=\"-141.8\" font-family=\"Helvetica,sans-Serif\" font-size=\"14.00\">idade &lt;= 60.0</text>\n<text text-anchor=\"middle\" x=\"14872\" y=\"-126.8\" font-family=\"Helvetica,sans-Serif\" font-size=\"14.00\">squared_error = 9270120.506</text>\n<text text-anchor=\"middle\" x=\"14872\" y=\"-111.8\" font-family=\"Helvetica,sans-Serif\" font-size=\"14.00\">samples = 83</text>\n<text text-anchor=\"middle\" x=\"14872\" y=\"-96.8\" font-family=\"Helvetica,sans-Serif\" font-size=\"14.00\">value = 4963.517</text>\n</g>\n<!-- 150&#45;&gt;154 -->\n<g id=\"edge154\" class=\"edge\">\n<title>150&#45;&gt;154</title>\n<path fill=\"none\" stroke=\"black\" d=\"M14872,-192.88C14872,-184.78 14872,-175.98 14872,-167.47\"/>\n<polygon fill=\"black\" stroke=\"black\" points=\"14875.5,-167.3 14872,-157.3 14868.5,-167.3 14875.5,-167.3\"/>\n</g>\n<!-- 152 -->\n<g id=\"node153\" class=\"node\">\n<title>152</title>\n<polygon fill=\"#fefbf9\" stroke=\"black\" points=\"14428.5,-53 14225.5,-53 14225.5,0 14428.5,0 14428.5,-53\"/>\n<text text-anchor=\"middle\" x=\"14327\" y=\"-37.8\" font-family=\"Helvetica,sans-Serif\" font-size=\"14.00\">squared_error = 28791424.648</text>\n<text text-anchor=\"middle\" x=\"14327\" y=\"-22.8\" font-family=\"Helvetica,sans-Serif\" font-size=\"14.00\">samples = 165</text>\n<text text-anchor=\"middle\" x=\"14327\" y=\"-7.8\" font-family=\"Helvetica,sans-Serif\" font-size=\"14.00\">value = 7595.994</text>\n</g>\n<!-- 151&#45;&gt;152 -->\n<g id=\"edge152\" class=\"edge\">\n<title>151&#45;&gt;152</title>\n<path fill=\"none\" stroke=\"black\" d=\"M14470.7,-88.95C14446.42,-78.56 14419.78,-67.17 14396.1,-57.05\"/>\n<polygon fill=\"black\" stroke=\"black\" points=\"14397.41,-53.8 14386.84,-53.09 14394.66,-60.24 14397.41,-53.8\"/>\n</g>\n<!-- 153 -->\n<g id=\"node154\" class=\"node\">\n<title>153</title>\n<polygon fill=\"#fefcfb\" stroke=\"black\" points=\"14649.5,-53 14446.5,-53 14446.5,0 14649.5,0 14649.5,-53\"/>\n<text text-anchor=\"middle\" x=\"14548\" y=\"-37.8\" font-family=\"Helvetica,sans-Serif\" font-size=\"14.00\">squared_error = 16659520.824</text>\n<text text-anchor=\"middle\" x=\"14548\" y=\"-22.8\" font-family=\"Helvetica,sans-Serif\" font-size=\"14.00\">samples = 115</text>\n<text text-anchor=\"middle\" x=\"14548\" y=\"-7.8\" font-family=\"Helvetica,sans-Serif\" font-size=\"14.00\">value = 5778.305</text>\n</g>\n<!-- 151&#45;&gt;153 -->\n<g id=\"edge153\" class=\"edge\">\n<title>151&#45;&gt;153</title>\n<path fill=\"none\" stroke=\"black\" d=\"M14548,-88.95C14548,-80.72 14548,-71.85 14548,-63.48\"/>\n<polygon fill=\"black\" stroke=\"black\" points=\"14551.5,-63.24 14548,-53.24 14544.5,-63.24 14551.5,-63.24\"/>\n</g>\n<!-- 155 -->\n<g id=\"node156\" class=\"node\">\n<title>155</title>\n<polygon fill=\"#fffdfc\" stroke=\"black\" points=\"14863,-53 14667,-53 14667,0 14863,0 14863,-53\"/>\n<text text-anchor=\"middle\" x=\"14765\" y=\"-37.8\" font-family=\"Helvetica,sans-Serif\" font-size=\"14.00\">squared_error = 7916111.558</text>\n<text text-anchor=\"middle\" x=\"14765\" y=\"-22.8\" font-family=\"Helvetica,sans-Serif\" font-size=\"14.00\">samples = 80</text>\n<text text-anchor=\"middle\" x=\"14765\" y=\"-7.8\" font-family=\"Helvetica,sans-Serif\" font-size=\"14.00\">value = 4719.84</text>\n</g>\n<!-- 154&#45;&gt;155 -->\n<g id=\"edge155\" class=\"edge\">\n<title>154&#45;&gt;155</title>\n<path fill=\"none\" stroke=\"black\" d=\"M14834.58,-88.95C14823.91,-79.53 14812.3,-69.27 14801.68,-59.89\"/>\n<polygon fill=\"black\" stroke=\"black\" points=\"14803.95,-57.23 14794.14,-53.24 14799.32,-62.48 14803.95,-57.23\"/>\n</g>\n<!-- 156 -->\n<g id=\"node157\" class=\"node\">\n<title>156</title>\n<polygon fill=\"#fef9f6\" stroke=\"black\" points=\"15077,-53 14881,-53 14881,0 15077,0 15077,-53\"/>\n<text text-anchor=\"middle\" x=\"14979\" y=\"-37.8\" font-family=\"Helvetica,sans-Serif\" font-size=\"14.00\">squared_error = 1568687.016</text>\n<text text-anchor=\"middle\" x=\"14979\" y=\"-22.8\" font-family=\"Helvetica,sans-Serif\" font-size=\"14.00\">samples = 3</text>\n<text text-anchor=\"middle\" x=\"14979\" y=\"-7.8\" font-family=\"Helvetica,sans-Serif\" font-size=\"14.00\">value = 11461.587</text>\n</g>\n<!-- 154&#45;&gt;156 -->\n<g id=\"edge156\" class=\"edge\">\n<title>154&#45;&gt;156</title>\n<path fill=\"none\" stroke=\"black\" d=\"M14909.42,-88.95C14920.09,-79.53 14931.7,-69.27 14942.32,-59.89\"/>\n<polygon fill=\"black\" stroke=\"black\" points=\"14944.68,-62.48 14949.86,-53.24 14940.05,-57.23 14944.68,-62.48\"/>\n</g>\n<!-- 158 -->\n<g id=\"node159\" class=\"node\">\n<title>158</title>\n<polygon fill=\"#fefbf9\" stroke=\"black\" points=\"15452.5,-157 15249.5,-157 15249.5,-89 15452.5,-89 15452.5,-157\"/>\n<text text-anchor=\"middle\" x=\"15351\" y=\"-141.8\" font-family=\"Helvetica,sans-Serif\" font-size=\"14.00\">tempo_emprego &lt;= 6.605</text>\n<text text-anchor=\"middle\" x=\"15351\" y=\"-126.8\" font-family=\"Helvetica,sans-Serif\" font-size=\"14.00\">squared_error = 33303228.236</text>\n<text text-anchor=\"middle\" x=\"15351\" y=\"-111.8\" font-family=\"Helvetica,sans-Serif\" font-size=\"14.00\">samples = 262</text>\n<text text-anchor=\"middle\" x=\"15351\" y=\"-96.8\" font-family=\"Helvetica,sans-Serif\" font-size=\"14.00\">value = 8133.973</text>\n</g>\n<!-- 157&#45;&gt;158 -->\n<g id=\"edge158\" class=\"edge\">\n<title>157&#45;&gt;158</title>\n<path fill=\"none\" stroke=\"black\" d=\"M15425.29,-192.88C15415.39,-183.71 15404.54,-173.65 15394.27,-164.12\"/>\n<polygon fill=\"black\" stroke=\"black\" points=\"15396.62,-161.53 15386.91,-157.3 15391.86,-166.67 15396.62,-161.53\"/>\n</g>\n<!-- 161 -->\n<g id=\"node162\" class=\"node\">\n<title>161</title>\n<polygon fill=\"#fdf7f3\" stroke=\"black\" points=\"15673.5,-157 15470.5,-157 15470.5,-89 15673.5,-89 15673.5,-157\"/>\n<text text-anchor=\"middle\" x=\"15572\" y=\"-141.8\" font-family=\"Helvetica,sans-Serif\" font-size=\"14.00\">tempo_emprego &lt;= 7.451</text>\n<text text-anchor=\"middle\" x=\"15572\" y=\"-126.8\" font-family=\"Helvetica,sans-Serif\" font-size=\"14.00\">squared_error = 63071953.582</text>\n<text text-anchor=\"middle\" x=\"15572\" y=\"-111.8\" font-family=\"Helvetica,sans-Serif\" font-size=\"14.00\">samples = 12</text>\n<text text-anchor=\"middle\" x=\"15572\" y=\"-96.8\" font-family=\"Helvetica,sans-Serif\" font-size=\"14.00\">value = 15635.729</text>\n</g>\n<!-- 157&#45;&gt;161 -->\n<g id=\"edge161\" class=\"edge\">\n<title>157&#45;&gt;161</title>\n<path fill=\"none\" stroke=\"black\" d=\"M15497.04,-192.88C15507.02,-183.71 15517.97,-173.65 15528.34,-164.12\"/>\n<polygon fill=\"black\" stroke=\"black\" points=\"15530.77,-166.64 15535.76,-157.3 15526.03,-161.49 15530.77,-166.64\"/>\n</g>\n<!-- 159 -->\n<g id=\"node160\" class=\"node\">\n<title>159</title>\n<polygon fill=\"#fdf5ef\" stroke=\"black\" points=\"15231,-53 15095,-53 15095,0 15231,0 15231,-53\"/>\n<text text-anchor=\"middle\" x=\"15163\" y=\"-37.8\" font-family=\"Helvetica,sans-Serif\" font-size=\"14.00\">squared_error = 0.0</text>\n<text text-anchor=\"middle\" x=\"15163\" y=\"-22.8\" font-family=\"Helvetica,sans-Serif\" font-size=\"14.00\">samples = 3</text>\n<text text-anchor=\"middle\" x=\"15163\" y=\"-7.8\" font-family=\"Helvetica,sans-Serif\" font-size=\"14.00\">value = 20912.65</text>\n</g>\n<!-- 158&#45;&gt;159 -->\n<g id=\"edge159\" class=\"edge\">\n<title>158&#45;&gt;159</title>\n<path fill=\"none\" stroke=\"black\" d=\"M15285.25,-88.95C15264.95,-78.75 15242.72,-67.57 15222.85,-57.59\"/>\n<polygon fill=\"black\" stroke=\"black\" points=\"15224.41,-54.45 15213.9,-53.09 15221.27,-60.71 15224.41,-54.45\"/>\n</g>\n<!-- 160 -->\n<g id=\"node161\" class=\"node\">\n<title>160</title>\n<polygon fill=\"#fefbf9\" stroke=\"black\" points=\"15452.5,-53 15249.5,-53 15249.5,0 15452.5,0 15452.5,-53\"/>\n<text text-anchor=\"middle\" x=\"15351\" y=\"-37.8\" font-family=\"Helvetica,sans-Serif\" font-size=\"14.00\">squared_error = 31775628.289</text>\n<text text-anchor=\"middle\" x=\"15351\" y=\"-22.8\" font-family=\"Helvetica,sans-Serif\" font-size=\"14.00\">samples = 259</text>\n<text text-anchor=\"middle\" x=\"15351\" y=\"-7.8\" font-family=\"Helvetica,sans-Serif\" font-size=\"14.00\">value = 7985.958</text>\n</g>\n<!-- 158&#45;&gt;160 -->\n<g id=\"edge160\" class=\"edge\">\n<title>158&#45;&gt;160</title>\n<path fill=\"none\" stroke=\"black\" d=\"M15351,-88.95C15351,-80.72 15351,-71.85 15351,-63.48\"/>\n<polygon fill=\"black\" stroke=\"black\" points=\"15354.5,-63.24 15351,-53.24 15347.5,-63.24 15354.5,-63.24\"/>\n</g>\n<!-- 162 -->\n<g id=\"node163\" class=\"node\">\n<title>162</title>\n<polygon fill=\"#fdf6f1\" stroke=\"black\" points=\"15673.5,-53 15470.5,-53 15470.5,0 15673.5,0 15673.5,-53\"/>\n<text text-anchor=\"middle\" x=\"15572\" y=\"-37.8\" font-family=\"Helvetica,sans-Serif\" font-size=\"14.00\">squared_error = 57697983.387</text>\n<text text-anchor=\"middle\" x=\"15572\" y=\"-22.8\" font-family=\"Helvetica,sans-Serif\" font-size=\"14.00\">samples = 9</text>\n<text text-anchor=\"middle\" x=\"15572\" y=\"-7.8\" font-family=\"Helvetica,sans-Serif\" font-size=\"14.00\">value = 17541.597</text>\n</g>\n<!-- 161&#45;&gt;162 -->\n<g id=\"edge162\" class=\"edge\">\n<title>161&#45;&gt;162</title>\n<path fill=\"none\" stroke=\"black\" d=\"M15572,-88.95C15572,-80.72 15572,-71.85 15572,-63.48\"/>\n<polygon fill=\"black\" stroke=\"black\" points=\"15575.5,-63.24 15572,-53.24 15568.5,-63.24 15575.5,-63.24\"/>\n</g>\n<!-- 163 -->\n<g id=\"node164\" class=\"node\">\n<title>163</title>\n<polygon fill=\"#fefaf8\" stroke=\"black\" points=\"15894.5,-53 15691.5,-53 15691.5,0 15894.5,0 15894.5,-53\"/>\n<text text-anchor=\"middle\" x=\"15793\" y=\"-37.8\" font-family=\"Helvetica,sans-Serif\" font-size=\"14.00\">squared_error = 35605893.035</text>\n<text text-anchor=\"middle\" x=\"15793\" y=\"-22.8\" font-family=\"Helvetica,sans-Serif\" font-size=\"14.00\">samples = 3</text>\n<text text-anchor=\"middle\" x=\"15793\" y=\"-7.8\" font-family=\"Helvetica,sans-Serif\" font-size=\"14.00\">value = 9918.127</text>\n</g>\n<!-- 161&#45;&gt;163 -->\n<g id=\"edge163\" class=\"edge\">\n<title>161&#45;&gt;163</title>\n<path fill=\"none\" stroke=\"black\" d=\"M15649.3,-88.95C15673.58,-78.56 15700.22,-67.17 15723.9,-57.05\"/>\n<polygon fill=\"black\" stroke=\"black\" points=\"15725.34,-60.24 15733.16,-53.09 15722.59,-53.8 15725.34,-60.24\"/>\n</g>\n<!-- 165 -->\n<g id=\"node166\" class=\"node\">\n<title>165</title>\n<polygon fill=\"#fefbf9\" stroke=\"black\" points=\"16435,-261 16239,-261 16239,-193 16435,-193 16435,-261\"/>\n<text text-anchor=\"middle\" x=\"16337\" y=\"-245.8\" font-family=\"Helvetica,sans-Serif\" font-size=\"14.00\">idade &lt;= 28.5</text>\n<text text-anchor=\"middle\" x=\"16337\" y=\"-230.8\" font-family=\"Helvetica,sans-Serif\" font-size=\"14.00\">squared_error = 29241055.26</text>\n<text text-anchor=\"middle\" x=\"16337\" y=\"-215.8\" font-family=\"Helvetica,sans-Serif\" font-size=\"14.00\">samples = 127</text>\n<text text-anchor=\"middle\" x=\"16337\" y=\"-200.8\" font-family=\"Helvetica,sans-Serif\" font-size=\"14.00\">value = 7532.63</text>\n</g>\n<!-- 164&#45;&gt;165 -->\n<g id=\"edge165\" class=\"edge\">\n<title>164&#45;&gt;165</title>\n<path fill=\"none\" stroke=\"black\" d=\"M16337,-296.88C16337,-288.78 16337,-279.98 16337,-271.47\"/>\n<polygon fill=\"black\" stroke=\"black\" points=\"16340.5,-271.3 16337,-261.3 16333.5,-271.3 16340.5,-271.3\"/>\n</g>\n<!-- 172 -->\n<g id=\"node173\" class=\"node\">\n<title>172</title>\n<polygon fill=\"#fefaf7\" stroke=\"black\" points=\"17063.5,-261 16860.5,-261 16860.5,-193 17063.5,-193 17063.5,-261\"/>\n<text text-anchor=\"middle\" x=\"16962\" y=\"-245.8\" font-family=\"Helvetica,sans-Serif\" font-size=\"14.00\">posse_de_imovel_True &lt;= 0.5</text>\n<text text-anchor=\"middle\" x=\"16962\" y=\"-230.8\" font-family=\"Helvetica,sans-Serif\" font-size=\"14.00\">squared_error = 68772228.273</text>\n<text text-anchor=\"middle\" x=\"16962\" y=\"-215.8\" font-family=\"Helvetica,sans-Serif\" font-size=\"14.00\">samples = 140</text>\n<text text-anchor=\"middle\" x=\"16962\" y=\"-200.8\" font-family=\"Helvetica,sans-Serif\" font-size=\"14.00\">value = 10913.608</text>\n</g>\n<!-- 164&#45;&gt;172 -->\n<g id=\"edge172\" class=\"edge\">\n<title>164&#45;&gt;172</title>\n<path fill=\"none\" stroke=\"black\" d=\"M16455.29,-310.69C16568.91,-292.15 16739.28,-264.35 16850.55,-246.19\"/>\n<polygon fill=\"black\" stroke=\"black\" points=\"16851.16,-249.64 16860.46,-244.57 16850.03,-242.73 16851.16,-249.64\"/>\n</g>\n<!-- 166 -->\n<g id=\"node167\" class=\"node\">\n<title>166</title>\n<polygon fill=\"#fefaf7\" stroke=\"black\" points=\"16328.5,-157 16125.5,-157 16125.5,-89 16328.5,-89 16328.5,-157\"/>\n<text text-anchor=\"middle\" x=\"16227\" y=\"-141.8\" font-family=\"Helvetica,sans-Serif\" font-size=\"14.00\">posse_de_veiculo_True &lt;= 0.5</text>\n<text text-anchor=\"middle\" x=\"16227\" y=\"-126.8\" font-family=\"Helvetica,sans-Serif\" font-size=\"14.00\">squared_error = 95755581.707</text>\n<text text-anchor=\"middle\" x=\"16227\" y=\"-111.8\" font-family=\"Helvetica,sans-Serif\" font-size=\"14.00\">samples = 13</text>\n<text text-anchor=\"middle\" x=\"16227\" y=\"-96.8\" font-family=\"Helvetica,sans-Serif\" font-size=\"14.00\">value = 10949.601</text>\n</g>\n<!-- 165&#45;&gt;166 -->\n<g id=\"edge166\" class=\"edge\">\n<title>165&#45;&gt;166</title>\n<path fill=\"none\" stroke=\"black\" d=\"M16301.29,-192.88C16291.39,-183.71 16280.54,-173.65 16270.27,-164.12\"/>\n<polygon fill=\"black\" stroke=\"black\" points=\"16272.62,-161.53 16262.91,-157.3 16267.86,-166.67 16272.62,-161.53\"/>\n</g>\n<!-- 169 -->\n<g id=\"node170\" class=\"node\">\n<title>169</title>\n<polygon fill=\"#fefcfa\" stroke=\"black\" points=\"16549.5,-157 16346.5,-157 16346.5,-89 16549.5,-89 16549.5,-157\"/>\n<text text-anchor=\"middle\" x=\"16448\" y=\"-141.8\" font-family=\"Helvetica,sans-Serif\" font-size=\"14.00\">estado_civil_União &lt;= 0.5</text>\n<text text-anchor=\"middle\" x=\"16448\" y=\"-126.8\" font-family=\"Helvetica,sans-Serif\" font-size=\"14.00\">squared_error = 20172796.205</text>\n<text text-anchor=\"middle\" x=\"16448\" y=\"-111.8\" font-family=\"Helvetica,sans-Serif\" font-size=\"14.00\">samples = 114</text>\n<text text-anchor=\"middle\" x=\"16448\" y=\"-96.8\" font-family=\"Helvetica,sans-Serif\" font-size=\"14.00\">value = 7142.975</text>\n</g>\n<!-- 165&#45;&gt;169 -->\n<g id=\"edge169\" class=\"edge\">\n<title>165&#45;&gt;169</title>\n<path fill=\"none\" stroke=\"black\" d=\"M16373.04,-192.88C16383.02,-183.71 16393.97,-173.65 16404.34,-164.12\"/>\n<polygon fill=\"black\" stroke=\"black\" points=\"16406.77,-166.64 16411.76,-157.3 16402.03,-161.49 16406.77,-166.64\"/>\n</g>\n<!-- 167 -->\n<g id=\"node168\" class=\"node\">\n<title>167</title>\n<polygon fill=\"#fcefe7\" stroke=\"black\" points=\"16108,-53 15912,-53 15912,0 16108,0 16108,-53\"/>\n<text text-anchor=\"middle\" x=\"16010\" y=\"-37.8\" font-family=\"Helvetica,sans-Serif\" font-size=\"14.00\">squared_error = 78119082.25</text>\n<text text-anchor=\"middle\" x=\"16010\" y=\"-22.8\" font-family=\"Helvetica,sans-Serif\" font-size=\"14.00\">samples = 2</text>\n<text text-anchor=\"middle\" x=\"16010\" y=\"-7.8\" font-family=\"Helvetica,sans-Serif\" font-size=\"14.00\">value = 30905.35</text>\n</g>\n<!-- 166&#45;&gt;167 -->\n<g id=\"edge167\" class=\"edge\">\n<title>166&#45;&gt;167</title>\n<path fill=\"none\" stroke=\"black\" d=\"M16151.1,-88.95C16127.36,-78.61 16101.33,-67.27 16078.16,-57.18\"/>\n<polygon fill=\"black\" stroke=\"black\" points=\"16079.32,-53.87 16068.75,-53.09 16076.53,-60.29 16079.32,-53.87\"/>\n</g>\n<!-- 168 -->\n<g id=\"node169\" class=\"node\">\n<title>168</title>\n<polygon fill=\"#fefcfa\" stroke=\"black\" points=\"16328.5,-53 16125.5,-53 16125.5,0 16328.5,0 16328.5,-53\"/>\n<text text-anchor=\"middle\" x=\"16227\" y=\"-37.8\" font-family=\"Helvetica,sans-Serif\" font-size=\"14.00\">squared_error = 13391721.183</text>\n<text text-anchor=\"middle\" x=\"16227\" y=\"-22.8\" font-family=\"Helvetica,sans-Serif\" font-size=\"14.00\">samples = 11</text>\n<text text-anchor=\"middle\" x=\"16227\" y=\"-7.8\" font-family=\"Helvetica,sans-Serif\" font-size=\"14.00\">value = 7321.283</text>\n</g>\n<!-- 166&#45;&gt;168 -->\n<g id=\"edge168\" class=\"edge\">\n<title>166&#45;&gt;168</title>\n<path fill=\"none\" stroke=\"black\" d=\"M16227,-88.95C16227,-80.72 16227,-71.85 16227,-63.48\"/>\n<polygon fill=\"black\" stroke=\"black\" points=\"16230.5,-63.24 16227,-53.24 16223.5,-63.24 16230.5,-63.24\"/>\n</g>\n<!-- 170 -->\n<g id=\"node171\" class=\"node\">\n<title>170</title>\n<polygon fill=\"#fefbf9\" stroke=\"black\" points=\"16549.5,-53 16346.5,-53 16346.5,0 16549.5,0 16549.5,-53\"/>\n<text text-anchor=\"middle\" x=\"16448\" y=\"-37.8\" font-family=\"Helvetica,sans-Serif\" font-size=\"14.00\">squared_error = 21414366.462</text>\n<text text-anchor=\"middle\" x=\"16448\" y=\"-22.8\" font-family=\"Helvetica,sans-Serif\" font-size=\"14.00\">samples = 100</text>\n<text text-anchor=\"middle\" x=\"16448\" y=\"-7.8\" font-family=\"Helvetica,sans-Serif\" font-size=\"14.00\">value = 7529.955</text>\n</g>\n<!-- 169&#45;&gt;170 -->\n<g id=\"edge170\" class=\"edge\">\n<title>169&#45;&gt;170</title>\n<path fill=\"none\" stroke=\"black\" d=\"M16448,-88.95C16448,-80.72 16448,-71.85 16448,-63.48\"/>\n<polygon fill=\"black\" stroke=\"black\" points=\"16451.5,-63.24 16448,-53.24 16444.5,-63.24 16451.5,-63.24\"/>\n</g>\n<!-- 171 -->\n<g id=\"node172\" class=\"node\">\n<title>171</title>\n<polygon fill=\"#fffdfc\" stroke=\"black\" points=\"16763,-53 16567,-53 16567,0 16763,0 16763,-53\"/>\n<text text-anchor=\"middle\" x=\"16665\" y=\"-37.8\" font-family=\"Helvetica,sans-Serif\" font-size=\"14.00\">squared_error = 2594291.934</text>\n<text text-anchor=\"middle\" x=\"16665\" y=\"-22.8\" font-family=\"Helvetica,sans-Serif\" font-size=\"14.00\">samples = 14</text>\n<text text-anchor=\"middle\" x=\"16665\" y=\"-7.8\" font-family=\"Helvetica,sans-Serif\" font-size=\"14.00\">value = 4378.834</text>\n</g>\n<!-- 169&#45;&gt;171 -->\n<g id=\"edge171\" class=\"edge\">\n<title>169&#45;&gt;171</title>\n<path fill=\"none\" stroke=\"black\" d=\"M16523.9,-88.95C16547.64,-78.61 16573.67,-67.27 16596.84,-57.18\"/>\n<polygon fill=\"black\" stroke=\"black\" points=\"16598.47,-60.29 16606.25,-53.09 16595.68,-53.87 16598.47,-60.29\"/>\n</g>\n<!-- 173 -->\n<g id=\"node174\" class=\"node\">\n<title>173</title>\n<polygon fill=\"#fefbf9\" stroke=\"black\" points=\"17063.5,-157 16860.5,-157 16860.5,-89 17063.5,-89 17063.5,-157\"/>\n<text text-anchor=\"middle\" x=\"16962\" y=\"-141.8\" font-family=\"Helvetica,sans-Serif\" font-size=\"14.00\">estado_civil_Separado &lt;= 0.5</text>\n<text text-anchor=\"middle\" x=\"16962\" y=\"-126.8\" font-family=\"Helvetica,sans-Serif\" font-size=\"14.00\">squared_error = 33612835.032</text>\n<text text-anchor=\"middle\" x=\"16962\" y=\"-111.8\" font-family=\"Helvetica,sans-Serif\" font-size=\"14.00\">samples = 34</text>\n<text text-anchor=\"middle\" x=\"16962\" y=\"-96.8\" font-family=\"Helvetica,sans-Serif\" font-size=\"14.00\">value = 8292.432</text>\n</g>\n<!-- 172&#45;&gt;173 -->\n<g id=\"edge173\" class=\"edge\">\n<title>172&#45;&gt;173</title>\n<path fill=\"none\" stroke=\"black\" d=\"M16962,-192.88C16962,-184.78 16962,-175.98 16962,-167.47\"/>\n<polygon fill=\"black\" stroke=\"black\" points=\"16965.5,-167.3 16962,-157.3 16958.5,-167.3 16965.5,-167.3\"/>\n</g>\n<!-- 176 -->\n<g id=\"node177\" class=\"node\">\n<title>176</title>\n<polygon fill=\"#fef9f6\" stroke=\"black\" points=\"17363.5,-157 17160.5,-157 17160.5,-89 17363.5,-89 17363.5,-157\"/>\n<text text-anchor=\"middle\" x=\"17262\" y=\"-141.8\" font-family=\"Helvetica,sans-Serif\" font-size=\"14.00\">estado_civil_União &lt;= 0.5</text>\n<text text-anchor=\"middle\" x=\"17262\" y=\"-126.8\" font-family=\"Helvetica,sans-Serif\" font-size=\"14.00\">squared_error = 77139134.908</text>\n<text text-anchor=\"middle\" x=\"17262\" y=\"-111.8\" font-family=\"Helvetica,sans-Serif\" font-size=\"14.00\">samples = 106</text>\n<text text-anchor=\"middle\" x=\"17262\" y=\"-96.8\" font-family=\"Helvetica,sans-Serif\" font-size=\"14.00\">value = 11754.363</text>\n</g>\n<!-- 172&#45;&gt;176 -->\n<g id=\"edge176\" class=\"edge\">\n<title>172&#45;&gt;176</title>\n<path fill=\"none\" stroke=\"black\" d=\"M17059.4,-192.88C17090.02,-182.47 17123.99,-170.92 17155.23,-160.3\"/>\n<polygon fill=\"black\" stroke=\"black\" points=\"17156.49,-163.57 17164.83,-157.04 17154.24,-156.94 17156.49,-163.57\"/>\n</g>\n<!-- 174 -->\n<g id=\"node175\" class=\"node\">\n<title>174</title>\n<polygon fill=\"#fefcfa\" stroke=\"black\" points=\"16983.5,-53 16780.5,-53 16780.5,0 16983.5,0 16983.5,-53\"/>\n<text text-anchor=\"middle\" x=\"16882\" y=\"-37.8\" font-family=\"Helvetica,sans-Serif\" font-size=\"14.00\">squared_error = 23901018.494</text>\n<text text-anchor=\"middle\" x=\"16882\" y=\"-22.8\" font-family=\"Helvetica,sans-Serif\" font-size=\"14.00\">samples = 31</text>\n<text text-anchor=\"middle\" x=\"16882\" y=\"-7.8\" font-family=\"Helvetica,sans-Serif\" font-size=\"14.00\">value = 7222.88</text>\n</g>\n<!-- 173&#45;&gt;174 -->\n<g id=\"edge174\" class=\"edge\">\n<title>173&#45;&gt;174</title>\n<path fill=\"none\" stroke=\"black\" d=\"M16934.02,-88.95C16926.35,-79.89 16918.04,-70.07 16910.35,-60.99\"/>\n<polygon fill=\"black\" stroke=\"black\" points=\"16912.92,-58.61 16903.79,-53.24 16907.58,-63.13 16912.92,-58.61\"/>\n</g>\n<!-- 175 -->\n<g id=\"node176\" class=\"node\">\n<title>175</title>\n<polygon fill=\"#fdf5f0\" stroke=\"black\" points=\"17142,-53 17002,-53 17002,0 17142,0 17142,-53\"/>\n<text text-anchor=\"middle\" x=\"17072\" y=\"-37.8\" font-family=\"Helvetica,sans-Serif\" font-size=\"14.00\">squared_error = &#45;0.0</text>\n<text text-anchor=\"middle\" x=\"17072\" y=\"-22.8\" font-family=\"Helvetica,sans-Serif\" font-size=\"14.00\">samples = 3</text>\n<text text-anchor=\"middle\" x=\"17072\" y=\"-7.8\" font-family=\"Helvetica,sans-Serif\" font-size=\"14.00\">value = 19344.47</text>\n</g>\n<!-- 173&#45;&gt;175 -->\n<g id=\"edge175\" class=\"edge\">\n<title>173&#45;&gt;175</title>\n<path fill=\"none\" stroke=\"black\" d=\"M17000.47,-88.95C17011.44,-79.53 17023.38,-69.27 17034.3,-59.89\"/>\n<polygon fill=\"black\" stroke=\"black\" points=\"17036.74,-62.41 17042.04,-53.24 17032.18,-57.1 17036.74,-62.41\"/>\n</g>\n<!-- 177 -->\n<g id=\"node178\" class=\"node\">\n<title>177</title>\n<polygon fill=\"#fef9f6\" stroke=\"black\" points=\"17363.5,-53 17160.5,-53 17160.5,0 17363.5,0 17363.5,-53\"/>\n<text text-anchor=\"middle\" x=\"17262\" y=\"-37.8\" font-family=\"Helvetica,sans-Serif\" font-size=\"14.00\">squared_error = 71780371.631</text>\n<text text-anchor=\"middle\" x=\"17262\" y=\"-22.8\" font-family=\"Helvetica,sans-Serif\" font-size=\"14.00\">samples = 104</text>\n<text text-anchor=\"middle\" x=\"17262\" y=\"-7.8\" font-family=\"Helvetica,sans-Serif\" font-size=\"14.00\">value = 11471.615</text>\n</g>\n<!-- 176&#45;&gt;177 -->\n<g id=\"edge177\" class=\"edge\">\n<title>176&#45;&gt;177</title>\n<path fill=\"none\" stroke=\"black\" d=\"M17262,-88.95C17262,-80.72 17262,-71.85 17262,-63.48\"/>\n<polygon fill=\"black\" stroke=\"black\" points=\"17265.5,-63.24 17262,-53.24 17258.5,-63.24 17265.5,-63.24\"/>\n</g>\n<!-- 178 -->\n<g id=\"node179\" class=\"node\">\n<title>178</title>\n<polygon fill=\"#fcf2ea\" stroke=\"black\" points=\"17592.5,-53 17381.5,-53 17381.5,0 17592.5,0 17592.5,-53\"/>\n<text text-anchor=\"middle\" x=\"17487\" y=\"-37.8\" font-family=\"Helvetica,sans-Serif\" font-size=\"14.00\">squared_error = 135462130.992</text>\n<text text-anchor=\"middle\" x=\"17487\" y=\"-22.8\" font-family=\"Helvetica,sans-Serif\" font-size=\"14.00\">samples = 2</text>\n<text text-anchor=\"middle\" x=\"17487\" y=\"-7.8\" font-family=\"Helvetica,sans-Serif\" font-size=\"14.00\">value = 26457.27</text>\n</g>\n<!-- 176&#45;&gt;178 -->\n<g id=\"edge178\" class=\"edge\">\n<title>176&#45;&gt;178</title>\n<path fill=\"none\" stroke=\"black\" d=\"M17340.69,-88.95C17365.42,-78.56 17392.54,-67.17 17416.65,-57.05\"/>\n<polygon fill=\"black\" stroke=\"black\" points=\"17418.21,-60.19 17426.08,-53.09 17415.5,-53.73 17418.21,-60.19\"/>\n</g>\n<!-- 180 -->\n<g id=\"node181\" class=\"node\">\n<title>180</title>\n<polygon fill=\"#fefaf7\" stroke=\"black\" points=\"19017.5,-469 18814.5,-469 18814.5,-401 19017.5,-401 19017.5,-469\"/>\n<text text-anchor=\"middle\" x=\"18916\" y=\"-453.8\" font-family=\"Helvetica,sans-Serif\" font-size=\"14.00\">tipo_renda_Empresário &lt;= 0.5</text>\n<text text-anchor=\"middle\" x=\"18916\" y=\"-438.8\" font-family=\"Helvetica,sans-Serif\" font-size=\"14.00\">squared_error = 68280003.241</text>\n<text text-anchor=\"middle\" x=\"18916\" y=\"-423.8\" font-family=\"Helvetica,sans-Serif\" font-size=\"14.00\">samples = 491</text>\n<text text-anchor=\"middle\" x=\"18916\" y=\"-408.8\" font-family=\"Helvetica,sans-Serif\" font-size=\"14.00\">value = 10796.968</text>\n</g>\n<!-- 179&#45;&gt;180 -->\n<g id=\"edge180\" class=\"edge\">\n<title>179&#45;&gt;180</title>\n<path fill=\"none\" stroke=\"black\" d=\"M18916,-504.88C18916,-496.78 18916,-487.98 18916,-479.47\"/>\n<polygon fill=\"black\" stroke=\"black\" points=\"18919.5,-479.3 18916,-469.3 18912.5,-479.3 18919.5,-479.3\"/>\n</g>\n<!-- 209 -->\n<g id=\"node210\" class=\"node\">\n<title>209</title>\n<polygon fill=\"#fdf7f2\" stroke=\"black\" points=\"21401.5,-469 21174.5,-469 21174.5,-401 21401.5,-401 21401.5,-469\"/>\n<text text-anchor=\"middle\" x=\"21288\" y=\"-453.8\" font-family=\"Helvetica,sans-Serif\" font-size=\"14.00\">tipo_renda_Servidor público &lt;= 0.5</text>\n<text text-anchor=\"middle\" x=\"21288\" y=\"-438.8\" font-family=\"Helvetica,sans-Serif\" font-size=\"14.00\">squared_error = 240423022.831</text>\n<text text-anchor=\"middle\" x=\"21288\" y=\"-423.8\" font-family=\"Helvetica,sans-Serif\" font-size=\"14.00\">samples = 314</text>\n<text text-anchor=\"middle\" x=\"21288\" y=\"-408.8\" font-family=\"Helvetica,sans-Serif\" font-size=\"14.00\">value = 16282.123</text>\n</g>\n<!-- 179&#45;&gt;209 -->\n<g id=\"edge209\" class=\"edge\">\n<title>179&#45;&gt;209</title>\n<path fill=\"none\" stroke=\"black\" d=\"M19021.75,-533.45C19409.03,-516.8 20748.83,-459.19 21164.21,-441.32\"/>\n<polygon fill=\"black\" stroke=\"black\" points=\"21164.61,-444.81 21174.45,-440.88 21164.31,-437.82 21164.61,-444.81\"/>\n</g>\n<!-- 181 -->\n<g id=\"node182\" class=\"node\">\n<title>181</title>\n<polygon fill=\"#fefaf7\" stroke=\"black\" points=\"18905.5,-365 18702.5,-365 18702.5,-297 18905.5,-297 18905.5,-365\"/>\n<text text-anchor=\"middle\" x=\"18804\" y=\"-349.8\" font-family=\"Helvetica,sans-Serif\" font-size=\"14.00\">qtd_filhos &lt;= 2.5</text>\n<text text-anchor=\"middle\" x=\"18804\" y=\"-334.8\" font-family=\"Helvetica,sans-Serif\" font-size=\"14.00\">squared_error = 57228306.156</text>\n<text text-anchor=\"middle\" x=\"18804\" y=\"-319.8\" font-family=\"Helvetica,sans-Serif\" font-size=\"14.00\">samples = 391</text>\n<text text-anchor=\"middle\" x=\"18804\" y=\"-304.8\" font-family=\"Helvetica,sans-Serif\" font-size=\"14.00\">value = 10088.075</text>\n</g>\n<!-- 180&#45;&gt;181 -->\n<g id=\"edge181\" class=\"edge\">\n<title>180&#45;&gt;181</title>\n<path fill=\"none\" stroke=\"black\" d=\"M18879.64,-400.88C18869.56,-391.71 18858.52,-381.65 18848.06,-372.12\"/>\n<polygon fill=\"black\" stroke=\"black\" points=\"18850.31,-369.44 18840.56,-365.3 18845.6,-374.62 18850.31,-369.44\"/>\n</g>\n<!-- 196 -->\n<g id=\"node197\" class=\"node\">\n<title>196</title>\n<polygon fill=\"#fef8f5\" stroke=\"black\" points=\"19440.5,-365 19229.5,-365 19229.5,-297 19440.5,-297 19440.5,-365\"/>\n<text text-anchor=\"middle\" x=\"19335\" y=\"-349.8\" font-family=\"Helvetica,sans-Serif\" font-size=\"14.00\">idade &lt;= 38.0</text>\n<text text-anchor=\"middle\" x=\"19335\" y=\"-334.8\" font-family=\"Helvetica,sans-Serif\" font-size=\"14.00\">squared_error = 101844527.184</text>\n<text text-anchor=\"middle\" x=\"19335\" y=\"-319.8\" font-family=\"Helvetica,sans-Serif\" font-size=\"14.00\">samples = 100</text>\n<text text-anchor=\"middle\" x=\"19335\" y=\"-304.8\" font-family=\"Helvetica,sans-Serif\" font-size=\"14.00\">value = 13568.741</text>\n</g>\n<!-- 180&#45;&gt;196 -->\n<g id=\"edge196\" class=\"edge\">\n<title>180&#45;&gt;196</title>\n<path fill=\"none\" stroke=\"black\" d=\"M19017.7,-409.24C19078.51,-394.44 19155.98,-375.58 19219.15,-360.2\"/>\n<polygon fill=\"black\" stroke=\"black\" points=\"19220.27,-363.53 19229.16,-357.77 19218.61,-356.73 19220.27,-363.53\"/>\n</g>\n<!-- 182 -->\n<g id=\"node183\" class=\"node\">\n<title>182</title>\n<polygon fill=\"#fefaf7\" stroke=\"black\" points=\"18382,-261 18136,-261 18136,-193 18382,-193 18382,-261\"/>\n<text text-anchor=\"middle\" x=\"18259\" y=\"-245.8\" font-family=\"Helvetica,sans-Serif\" font-size=\"14.00\">educacao_Superior incompleto &lt;= 0.5</text>\n<text text-anchor=\"middle\" x=\"18259\" y=\"-230.8\" font-family=\"Helvetica,sans-Serif\" font-size=\"14.00\">squared_error = 57713927.033</text>\n<text text-anchor=\"middle\" x=\"18259\" y=\"-215.8\" font-family=\"Helvetica,sans-Serif\" font-size=\"14.00\">samples = 371</text>\n<text text-anchor=\"middle\" x=\"18259\" y=\"-200.8\" font-family=\"Helvetica,sans-Serif\" font-size=\"14.00\">value = 10369.82</text>\n</g>\n<!-- 181&#45;&gt;182 -->\n<g id=\"edge182\" class=\"edge\">\n<title>181&#45;&gt;182</title>\n<path fill=\"none\" stroke=\"black\" d=\"M18702.45,-310.99C18615,-294.63 18488.16,-270.89 18392.51,-252.99\"/>\n<polygon fill=\"black\" stroke=\"black\" points=\"18392.95,-249.51 18382.48,-251.11 18391.66,-256.39 18392.95,-249.51\"/>\n</g>\n<!-- 189 -->\n<g id=\"node190\" class=\"node\">\n<title>189</title>\n<polygon fill=\"#fffdfc\" stroke=\"black\" points=\"18905.5,-261 18702.5,-261 18702.5,-193 18905.5,-193 18905.5,-261\"/>\n<text text-anchor=\"middle\" x=\"18804\" y=\"-245.8\" font-family=\"Helvetica,sans-Serif\" font-size=\"14.00\">educacao_Secundário &lt;= 0.5</text>\n<text text-anchor=\"middle\" x=\"18804\" y=\"-230.8\" font-family=\"Helvetica,sans-Serif\" font-size=\"14.00\">squared_error = 19432518.953</text>\n<text text-anchor=\"middle\" x=\"18804\" y=\"-215.8\" font-family=\"Helvetica,sans-Serif\" font-size=\"14.00\">samples = 20</text>\n<text text-anchor=\"middle\" x=\"18804\" y=\"-200.8\" font-family=\"Helvetica,sans-Serif\" font-size=\"14.00\">value = 4861.698</text>\n</g>\n<!-- 181&#45;&gt;189 -->\n<g id=\"edge189\" class=\"edge\">\n<title>181&#45;&gt;189</title>\n<path fill=\"none\" stroke=\"black\" d=\"M18804,-296.88C18804,-288.78 18804,-279.98 18804,-271.47\"/>\n<polygon fill=\"black\" stroke=\"black\" points=\"18807.5,-271.3 18804,-261.3 18800.5,-271.3 18807.5,-271.3\"/>\n</g>\n<!-- 183 -->\n<g id=\"node184\" class=\"node\">\n<title>183</title>\n<polygon fill=\"#fefaf7\" stroke=\"black\" points=\"18034.5,-157 17831.5,-157 17831.5,-89 18034.5,-89 18034.5,-157\"/>\n<text text-anchor=\"middle\" x=\"17933\" y=\"-141.8\" font-family=\"Helvetica,sans-Serif\" font-size=\"14.00\">tempo_emprego &lt;= 8.388</text>\n<text text-anchor=\"middle\" x=\"17933\" y=\"-126.8\" font-family=\"Helvetica,sans-Serif\" font-size=\"14.00\">squared_error = 55123893.726</text>\n<text text-anchor=\"middle\" x=\"17933\" y=\"-111.8\" font-family=\"Helvetica,sans-Serif\" font-size=\"14.00\">samples = 365</text>\n<text text-anchor=\"middle\" x=\"17933\" y=\"-96.8\" font-family=\"Helvetica,sans-Serif\" font-size=\"14.00\">value = 10255.414</text>\n</g>\n<!-- 182&#45;&gt;183 -->\n<g id=\"edge183\" class=\"edge\">\n<title>182&#45;&gt;183</title>\n<path fill=\"none\" stroke=\"black\" d=\"M18153.16,-192.88C18118.4,-182.01 18079.68,-169.89 18044.52,-158.89\"/>\n<polygon fill=\"black\" stroke=\"black\" points=\"18045.29,-155.47 18034.71,-155.82 18043.2,-162.15 18045.29,-155.47\"/>\n</g>\n<!-- 186 -->\n<g id=\"node187\" class=\"node\">\n<title>186</title>\n<polygon fill=\"#fdf6f2\" stroke=\"black\" points=\"18372.5,-157 18145.5,-157 18145.5,-89 18372.5,-89 18372.5,-157\"/>\n<text text-anchor=\"middle\" x=\"18259\" y=\"-141.8\" font-family=\"Helvetica,sans-Serif\" font-size=\"14.00\">tipo_renda_Servidor público &lt;= 0.5</text>\n<text text-anchor=\"middle\" x=\"18259\" y=\"-126.8\" font-family=\"Helvetica,sans-Serif\" font-size=\"14.00\">squared_error = 166040260.412</text>\n<text text-anchor=\"middle\" x=\"18259\" y=\"-111.8\" font-family=\"Helvetica,sans-Serif\" font-size=\"14.00\">samples = 6</text>\n<text text-anchor=\"middle\" x=\"18259\" y=\"-96.8\" font-family=\"Helvetica,sans-Serif\" font-size=\"14.00\">value = 17329.547</text>\n</g>\n<!-- 182&#45;&gt;186 -->\n<g id=\"edge186\" class=\"edge\">\n<title>182&#45;&gt;186</title>\n<path fill=\"none\" stroke=\"black\" d=\"M18259,-192.88C18259,-184.78 18259,-175.98 18259,-167.47\"/>\n<polygon fill=\"black\" stroke=\"black\" points=\"18262.5,-167.3 18259,-157.3 18255.5,-167.3 18262.5,-167.3\"/>\n</g>\n<!-- 184 -->\n<g id=\"node185\" class=\"node\">\n<title>184</title>\n<polygon fill=\"#fef8f4\" stroke=\"black\" points=\"17813.5,-53 17610.5,-53 17610.5,0 17813.5,0 17813.5,-53\"/>\n<text text-anchor=\"middle\" x=\"17712\" y=\"-37.8\" font-family=\"Helvetica,sans-Serif\" font-size=\"14.00\">squared_error = 63809779.905</text>\n<text text-anchor=\"middle\" x=\"17712\" y=\"-22.8\" font-family=\"Helvetica,sans-Serif\" font-size=\"14.00\">samples = 13</text>\n<text text-anchor=\"middle\" x=\"17712\" y=\"-7.8\" font-family=\"Helvetica,sans-Serif\" font-size=\"14.00\">value = 14762.687</text>\n</g>\n<!-- 183&#45;&gt;184 -->\n<g id=\"edge184\" class=\"edge\">\n<title>183&#45;&gt;184</title>\n<path fill=\"none\" stroke=\"black\" d=\"M17855.7,-88.95C17831.42,-78.56 17804.78,-67.17 17781.1,-57.05\"/>\n<polygon fill=\"black\" stroke=\"black\" points=\"17782.41,-53.8 17771.84,-53.09 17779.66,-60.24 17782.41,-53.8\"/>\n</g>\n<!-- 185 -->\n<g id=\"node186\" class=\"node\">\n<title>185</title>\n<polygon fill=\"#fefaf7\" stroke=\"black\" points=\"18034.5,-53 17831.5,-53 17831.5,0 18034.5,0 18034.5,-53\"/>\n<text text-anchor=\"middle\" x=\"17933\" y=\"-37.8\" font-family=\"Helvetica,sans-Serif\" font-size=\"14.00\">squared_error = 54025109.949</text>\n<text text-anchor=\"middle\" x=\"17933\" y=\"-22.8\" font-family=\"Helvetica,sans-Serif\" font-size=\"14.00\">samples = 352</text>\n<text text-anchor=\"middle\" x=\"17933\" y=\"-7.8\" font-family=\"Helvetica,sans-Serif\" font-size=\"14.00\">value = 10088.952</text>\n</g>\n<!-- 183&#45;&gt;185 -->\n<g id=\"edge185\" class=\"edge\">\n<title>183&#45;&gt;185</title>\n<path fill=\"none\" stroke=\"black\" d=\"M17933,-88.95C17933,-80.72 17933,-71.85 17933,-63.48\"/>\n<polygon fill=\"black\" stroke=\"black\" points=\"17936.5,-63.24 17933,-53.24 17929.5,-63.24 17936.5,-63.24\"/>\n</g>\n<!-- 187 -->\n<g id=\"node188\" class=\"node\">\n<title>187</title>\n<polygon fill=\"#fefaf7\" stroke=\"black\" points=\"18263.5,-53 18052.5,-53 18052.5,0 18263.5,0 18263.5,-53\"/>\n<text text-anchor=\"middle\" x=\"18158\" y=\"-37.8\" font-family=\"Helvetica,sans-Serif\" font-size=\"14.00\">squared_error = 112628663.353</text>\n<text text-anchor=\"middle\" x=\"18158\" y=\"-22.8\" font-family=\"Helvetica,sans-Serif\" font-size=\"14.00\">samples = 4</text>\n<text text-anchor=\"middle\" x=\"18158\" y=\"-7.8\" font-family=\"Helvetica,sans-Serif\" font-size=\"14.00\">value = 10585.865</text>\n</g>\n<!-- 186&#45;&gt;187 -->\n<g id=\"edge187\" class=\"edge\">\n<title>186&#45;&gt;187</title>\n<path fill=\"none\" stroke=\"black\" d=\"M18223.68,-88.95C18213.7,-79.62 18202.86,-69.47 18192.91,-60.16\"/>\n<polygon fill=\"black\" stroke=\"black\" points=\"18195.2,-57.51 18185.51,-53.24 18190.42,-62.62 18195.2,-57.51\"/>\n</g>\n<!-- 188 -->\n<g id=\"node189\" class=\"node\">\n<title>188</title>\n<polygon fill=\"#fcefe7\" stroke=\"black\" points=\"18422,-53 18282,-53 18282,0 18422,0 18422,-53\"/>\n<text text-anchor=\"middle\" x=\"18352\" y=\"-37.8\" font-family=\"Helvetica,sans-Serif\" font-size=\"14.00\">squared_error = &#45;0.0</text>\n<text text-anchor=\"middle\" x=\"18352\" y=\"-22.8\" font-family=\"Helvetica,sans-Serif\" font-size=\"14.00\">samples = 2</text>\n<text text-anchor=\"middle\" x=\"18352\" y=\"-7.8\" font-family=\"Helvetica,sans-Serif\" font-size=\"14.00\">value = 30816.91</text>\n</g>\n<!-- 186&#45;&gt;188 -->\n<g id=\"edge188\" class=\"edge\">\n<title>186&#45;&gt;188</title>\n<path fill=\"none\" stroke=\"black\" d=\"M18291.53,-88.95C18300.62,-79.71 18310.5,-69.67 18319.58,-60.44\"/>\n<polygon fill=\"black\" stroke=\"black\" points=\"18322.15,-62.82 18326.67,-53.24 18317.16,-57.91 18322.15,-62.82\"/>\n</g>\n<!-- 190 -->\n<g id=\"node191\" class=\"node\">\n<title>190</title>\n<polygon fill=\"#fefaf8\" stroke=\"black\" points=\"18797.5,-157 18594.5,-157 18594.5,-89 18797.5,-89 18797.5,-157\"/>\n<text text-anchor=\"middle\" x=\"18696\" y=\"-141.8\" font-family=\"Helvetica,sans-Serif\" font-size=\"14.00\">idade &lt;= 33.0</text>\n<text text-anchor=\"middle\" x=\"18696\" y=\"-126.8\" font-family=\"Helvetica,sans-Serif\" font-size=\"14.00\">squared_error = 47574406.515</text>\n<text text-anchor=\"middle\" x=\"18696\" y=\"-111.8\" font-family=\"Helvetica,sans-Serif\" font-size=\"14.00\">samples = 4</text>\n<text text-anchor=\"middle\" x=\"18696\" y=\"-96.8\" font-family=\"Helvetica,sans-Serif\" font-size=\"14.00\">value = 9876.318</text>\n</g>\n<!-- 189&#45;&gt;190 -->\n<g id=\"edge190\" class=\"edge\">\n<title>189&#45;&gt;190</title>\n<path fill=\"none\" stroke=\"black\" d=\"M18768.94,-192.88C18759.32,-183.8 18748.78,-173.85 18738.78,-164.4\"/>\n<polygon fill=\"black\" stroke=\"black\" points=\"18740.93,-161.62 18731.26,-157.3 18736.13,-166.71 18740.93,-161.62\"/>\n</g>\n<!-- 193 -->\n<g id=\"node194\" class=\"node\">\n<title>193</title>\n<polygon fill=\"#fffefd\" stroke=\"black\" points=\"19011,-157 18815,-157 18815,-89 19011,-89 19011,-157\"/>\n<text text-anchor=\"middle\" x=\"18913\" y=\"-141.8\" font-family=\"Helvetica,sans-Serif\" font-size=\"14.00\">idade &lt;= 37.5</text>\n<text text-anchor=\"middle\" x=\"18913\" y=\"-126.8\" font-family=\"Helvetica,sans-Serif\" font-size=\"14.00\">squared_error = 4538795.901</text>\n<text text-anchor=\"middle\" x=\"18913\" y=\"-111.8\" font-family=\"Helvetica,sans-Serif\" font-size=\"14.00\">samples = 16</text>\n<text text-anchor=\"middle\" x=\"18913\" y=\"-96.8\" font-family=\"Helvetica,sans-Serif\" font-size=\"14.00\">value = 3608.044</text>\n</g>\n<!-- 189&#45;&gt;193 -->\n<g id=\"edge193\" class=\"edge\">\n<title>189&#45;&gt;193</title>\n<path fill=\"none\" stroke=\"black\" d=\"M18839.39,-192.88C18849.1,-183.8 18859.73,-173.85 18869.83,-164.4\"/>\n<polygon fill=\"black\" stroke=\"black\" points=\"18872.51,-166.69 18877.42,-157.3 18867.72,-161.58 18872.51,-166.69\"/>\n</g>\n<!-- 191 -->\n<g id=\"node192\" class=\"node\">\n<title>191</title>\n<polygon fill=\"#fdf7f2\" stroke=\"black\" points=\"18576,-53 18440,-53 18440,0 18576,0 18576,-53\"/>\n<text text-anchor=\"middle\" x=\"18508\" y=\"-37.8\" font-family=\"Helvetica,sans-Serif\" font-size=\"14.00\">squared_error = 0.0</text>\n<text text-anchor=\"middle\" x=\"18508\" y=\"-22.8\" font-family=\"Helvetica,sans-Serif\" font-size=\"14.00\">samples = 1</text>\n<text text-anchor=\"middle\" x=\"18508\" y=\"-7.8\" font-family=\"Helvetica,sans-Serif\" font-size=\"14.00\">value = 16743.7</text>\n</g>\n<!-- 190&#45;&gt;191 -->\n<g id=\"edge191\" class=\"edge\">\n<title>190&#45;&gt;191</title>\n<path fill=\"none\" stroke=\"black\" d=\"M18630.25,-88.95C18609.95,-78.75 18587.72,-67.57 18567.85,-57.59\"/>\n<polygon fill=\"black\" stroke=\"black\" points=\"18569.41,-54.45 18558.9,-53.09 18566.27,-60.71 18569.41,-54.45\"/>\n</g>\n<!-- 192 -->\n<g id=\"node193\" class=\"node\">\n<title>192</title>\n<polygon fill=\"#fefbf9\" stroke=\"black\" points=\"18797.5,-53 18594.5,-53 18594.5,0 18797.5,0 18797.5,-53\"/>\n<text text-anchor=\"middle\" x=\"18696\" y=\"-37.8\" font-family=\"Helvetica,sans-Serif\" font-size=\"14.00\">squared_error = 42472123.175</text>\n<text text-anchor=\"middle\" x=\"18696\" y=\"-22.8\" font-family=\"Helvetica,sans-Serif\" font-size=\"14.00\">samples = 3</text>\n<text text-anchor=\"middle\" x=\"18696\" y=\"-7.8\" font-family=\"Helvetica,sans-Serif\" font-size=\"14.00\">value = 7587.19</text>\n</g>\n<!-- 190&#45;&gt;192 -->\n<g id=\"edge192\" class=\"edge\">\n<title>190&#45;&gt;192</title>\n<path fill=\"none\" stroke=\"black\" d=\"M18696,-88.95C18696,-80.72 18696,-71.85 18696,-63.48\"/>\n<polygon fill=\"black\" stroke=\"black\" points=\"18699.5,-63.24 18696,-53.24 18692.5,-63.24 18699.5,-63.24\"/>\n</g>\n<!-- 194 -->\n<g id=\"node195\" class=\"node\">\n<title>194</title>\n<polygon fill=\"#fffdfc\" stroke=\"black\" points=\"19011,-53 18815,-53 18815,0 19011,0 19011,-53\"/>\n<text text-anchor=\"middle\" x=\"18913\" y=\"-37.8\" font-family=\"Helvetica,sans-Serif\" font-size=\"14.00\">squared_error = 4695735.521</text>\n<text text-anchor=\"middle\" x=\"18913\" y=\"-22.8\" font-family=\"Helvetica,sans-Serif\" font-size=\"14.00\">samples = 11</text>\n<text text-anchor=\"middle\" x=\"18913\" y=\"-7.8\" font-family=\"Helvetica,sans-Serif\" font-size=\"14.00\">value = 4154.949</text>\n</g>\n<!-- 193&#45;&gt;194 -->\n<g id=\"edge194\" class=\"edge\">\n<title>193&#45;&gt;194</title>\n<path fill=\"none\" stroke=\"black\" d=\"M18913,-88.95C18913,-80.72 18913,-71.85 18913,-63.48\"/>\n<polygon fill=\"black\" stroke=\"black\" points=\"18916.5,-63.24 18913,-53.24 18909.5,-63.24 18916.5,-63.24\"/>\n</g>\n<!-- 195 -->\n<g id=\"node196\" class=\"node\">\n<title>195</title>\n<polygon fill=\"#fffefe\" stroke=\"black\" points=\"19225,-53 19029,-53 19029,0 19225,0 19225,-53\"/>\n<text text-anchor=\"middle\" x=\"19127\" y=\"-37.8\" font-family=\"Helvetica,sans-Serif\" font-size=\"14.00\">squared_error = 2087826.356</text>\n<text text-anchor=\"middle\" x=\"19127\" y=\"-22.8\" font-family=\"Helvetica,sans-Serif\" font-size=\"14.00\">samples = 5</text>\n<text text-anchor=\"middle\" x=\"19127\" y=\"-7.8\" font-family=\"Helvetica,sans-Serif\" font-size=\"14.00\">value = 2404.852</text>\n</g>\n<!-- 193&#45;&gt;195 -->\n<g id=\"edge195\" class=\"edge\">\n<title>193&#45;&gt;195</title>\n<path fill=\"none\" stroke=\"black\" d=\"M18987.85,-88.95C19011.26,-78.61 19036.93,-67.27 19059.79,-57.18\"/>\n<polygon fill=\"black\" stroke=\"black\" points=\"19061.32,-60.33 19069.06,-53.09 19058.5,-53.92 19061.32,-60.33\"/>\n</g>\n<!-- 197 -->\n<g id=\"node198\" class=\"node\">\n<title>197</title>\n<polygon fill=\"#fdf7f3\" stroke=\"black\" points=\"19440.5,-261 19229.5,-261 19229.5,-193 19440.5,-193 19440.5,-261\"/>\n<text text-anchor=\"middle\" x=\"19335\" y=\"-245.8\" font-family=\"Helvetica,sans-Serif\" font-size=\"14.00\">tempo_emprego &lt;= 8.981</text>\n<text text-anchor=\"middle\" x=\"19335\" y=\"-230.8\" font-family=\"Helvetica,sans-Serif\" font-size=\"14.00\">squared_error = 159045412.995</text>\n<text text-anchor=\"middle\" x=\"19335\" y=\"-215.8\" font-family=\"Helvetica,sans-Serif\" font-size=\"14.00\">samples = 38</text>\n<text text-anchor=\"middle\" x=\"19335\" y=\"-200.8\" font-family=\"Helvetica,sans-Serif\" font-size=\"14.00\">value = 16117.1</text>\n</g>\n<!-- 196&#45;&gt;197 -->\n<g id=\"edge197\" class=\"edge\">\n<title>196&#45;&gt;197</title>\n<path fill=\"none\" stroke=\"black\" d=\"M19335,-296.88C19335,-288.78 19335,-279.98 19335,-271.47\"/>\n<polygon fill=\"black\" stroke=\"black\" points=\"19338.5,-271.3 19335,-261.3 19331.5,-271.3 19338.5,-271.3\"/>\n</g>\n<!-- 202 -->\n<g id=\"node203\" class=\"node\">\n<title>202</title>\n<polygon fill=\"#fef9f6\" stroke=\"black\" points=\"19953.5,-261 19750.5,-261 19750.5,-193 19953.5,-193 19953.5,-261\"/>\n<text text-anchor=\"middle\" x=\"19852\" y=\"-245.8\" font-family=\"Helvetica,sans-Serif\" font-size=\"14.00\">tipo_residencia_Estúdio &lt;= 0.5</text>\n<text text-anchor=\"middle\" x=\"19852\" y=\"-230.8\" font-family=\"Helvetica,sans-Serif\" font-size=\"14.00\">squared_error = 60366116.829</text>\n<text text-anchor=\"middle\" x=\"19852\" y=\"-215.8\" font-family=\"Helvetica,sans-Serif\" font-size=\"14.00\">samples = 62</text>\n<text text-anchor=\"middle\" x=\"19852\" y=\"-200.8\" font-family=\"Helvetica,sans-Serif\" font-size=\"14.00\">value = 12006.843</text>\n</g>\n<!-- 196&#45;&gt;202 -->\n<g id=\"edge202\" class=\"edge\">\n<title>196&#45;&gt;202</title>\n<path fill=\"none\" stroke=\"black\" d=\"M19440.56,-309.17C19527.81,-291.96 19651.35,-267.59 19740.26,-250.05\"/>\n<polygon fill=\"black\" stroke=\"black\" points=\"19740.98,-253.47 19750.11,-248.1 19739.62,-246.6 19740.98,-253.47\"/>\n</g>\n<!-- 198 -->\n<g id=\"node199\" class=\"node\">\n<title>198</title>\n<polygon fill=\"#fbede3\" stroke=\"black\" points=\"19325.5,-149.5 19114.5,-149.5 19114.5,-96.5 19325.5,-96.5 19325.5,-149.5\"/>\n<text text-anchor=\"middle\" x=\"19220\" y=\"-134.3\" font-family=\"Helvetica,sans-Serif\" font-size=\"14.00\">squared_error = 140796505.602</text>\n<text text-anchor=\"middle\" x=\"19220\" y=\"-119.3\" font-family=\"Helvetica,sans-Serif\" font-size=\"14.00\">samples = 3</text>\n<text text-anchor=\"middle\" x=\"19220\" y=\"-104.3\" font-family=\"Helvetica,sans-Serif\" font-size=\"14.00\">value = 35870.173</text>\n</g>\n<!-- 197&#45;&gt;198 -->\n<g id=\"edge198\" class=\"edge\">\n<title>197&#45;&gt;198</title>\n<path fill=\"none\" stroke=\"black\" d=\"M19297.66,-192.88C19284.4,-181.12 19269.49,-167.89 19256.31,-156.2\"/>\n<polygon fill=\"black\" stroke=\"black\" points=\"19258.58,-153.54 19248.77,-149.52 19253.93,-158.77 19258.58,-153.54\"/>\n</g>\n<!-- 199 -->\n<g id=\"node200\" class=\"node\">\n<title>199</title>\n<polygon fill=\"#fef8f4\" stroke=\"black\" points=\"19554.5,-157 19343.5,-157 19343.5,-89 19554.5,-89 19554.5,-157\"/>\n<text text-anchor=\"middle\" x=\"19449\" y=\"-141.8\" font-family=\"Helvetica,sans-Serif\" font-size=\"14.00\">idade &lt;= 35.5</text>\n<text text-anchor=\"middle\" x=\"19449\" y=\"-126.8\" font-family=\"Helvetica,sans-Serif\" font-size=\"14.00\">squared_error = 124298613.946</text>\n<text text-anchor=\"middle\" x=\"19449\" y=\"-111.8\" font-family=\"Helvetica,sans-Serif\" font-size=\"14.00\">samples = 35</text>\n<text text-anchor=\"middle\" x=\"19449\" y=\"-96.8\" font-family=\"Helvetica,sans-Serif\" font-size=\"14.00\">value = 14423.98</text>\n</g>\n<!-- 197&#45;&gt;199 -->\n<g id=\"edge199\" class=\"edge\">\n<title>197&#45;&gt;199</title>\n<path fill=\"none\" stroke=\"black\" d=\"M19372.01,-192.88C19382.27,-183.71 19393.51,-173.65 19404.16,-164.12\"/>\n<polygon fill=\"black\" stroke=\"black\" points=\"19406.66,-166.58 19411.78,-157.3 19402,-161.36 19406.66,-166.58\"/>\n</g>\n<!-- 200 -->\n<g id=\"node201\" class=\"node\">\n<title>200</title>\n<polygon fill=\"#fef8f5\" stroke=\"black\" points=\"19445.5,-53 19242.5,-53 19242.5,0 19445.5,0 19445.5,-53\"/>\n<text text-anchor=\"middle\" x=\"19344\" y=\"-37.8\" font-family=\"Helvetica,sans-Serif\" font-size=\"14.00\">squared_error = 99336649.935</text>\n<text text-anchor=\"middle\" x=\"19344\" y=\"-22.8\" font-family=\"Helvetica,sans-Serif\" font-size=\"14.00\">samples = 34</text>\n<text text-anchor=\"middle\" x=\"19344\" y=\"-7.8\" font-family=\"Helvetica,sans-Serif\" font-size=\"14.00\">value = 13519.739</text>\n</g>\n<!-- 199&#45;&gt;200 -->\n<g id=\"edge200\" class=\"edge\">\n<title>199&#45;&gt;200</title>\n<path fill=\"none\" stroke=\"black\" d=\"M19412.28,-88.95C19401.91,-79.62 19390.64,-69.47 19380.29,-60.16\"/>\n<polygon fill=\"black\" stroke=\"black\" points=\"19382.37,-57.32 19372.6,-53.24 19377.69,-62.53 19382.37,-57.32\"/>\n</g>\n<!-- 201 -->\n<g id=\"node202\" class=\"node\">\n<title>201</title>\n<polygon fill=\"#fae8db\" stroke=\"black\" points=\"19604,-53 19464,-53 19464,0 19604,0 19604,-53\"/>\n<text text-anchor=\"middle\" x=\"19534\" y=\"-37.8\" font-family=\"Helvetica,sans-Serif\" font-size=\"14.00\">squared_error = &#45;0.0</text>\n<text text-anchor=\"middle\" x=\"19534\" y=\"-22.8\" font-family=\"Helvetica,sans-Serif\" font-size=\"14.00\">samples = 1</text>\n<text text-anchor=\"middle\" x=\"19534\" y=\"-7.8\" font-family=\"Helvetica,sans-Serif\" font-size=\"14.00\">value = 45168.17</text>\n</g>\n<!-- 199&#45;&gt;201 -->\n<g id=\"edge201\" class=\"edge\">\n<title>199&#45;&gt;201</title>\n<path fill=\"none\" stroke=\"black\" d=\"M19478.73,-88.95C19486.96,-79.8 19495.89,-69.87 19504.13,-60.71\"/>\n<polygon fill=\"black\" stroke=\"black\" points=\"19506.77,-63.01 19510.85,-53.24 19501.56,-58.33 19506.77,-63.01\"/>\n</g>\n<!-- 203 -->\n<g id=\"node204\" class=\"node\">\n<title>203</title>\n<polygon fill=\"#fefaf6\" stroke=\"black\" points=\"19953.5,-157 19750.5,-157 19750.5,-89 19953.5,-89 19953.5,-157\"/>\n<text text-anchor=\"middle\" x=\"19852\" y=\"-141.8\" font-family=\"Helvetica,sans-Serif\" font-size=\"14.00\">idade &lt;= 53.5</text>\n<text text-anchor=\"middle\" x=\"19852\" y=\"-126.8\" font-family=\"Helvetica,sans-Serif\" font-size=\"14.00\">squared_error = 42594969.125</text>\n<text text-anchor=\"middle\" x=\"19852\" y=\"-111.8\" font-family=\"Helvetica,sans-Serif\" font-size=\"14.00\">samples = 58</text>\n<text text-anchor=\"middle\" x=\"19852\" y=\"-96.8\" font-family=\"Helvetica,sans-Serif\" font-size=\"14.00\">value = 11344.798</text>\n</g>\n<!-- 202&#45;&gt;203 -->\n<g id=\"edge203\" class=\"edge\">\n<title>202&#45;&gt;203</title>\n<path fill=\"none\" stroke=\"black\" d=\"M19852,-192.88C19852,-184.78 19852,-175.98 19852,-167.47\"/>\n<polygon fill=\"black\" stroke=\"black\" points=\"19855.5,-167.3 19852,-157.3 19848.5,-167.3 19855.5,-167.3\"/>\n</g>\n<!-- 206 -->\n<g id=\"node207\" class=\"node\">\n<title>206</title>\n<polygon fill=\"#fdf4ee\" stroke=\"black\" points=\"20275.5,-157 20064.5,-157 20064.5,-89 20275.5,-89 20275.5,-157\"/>\n<text text-anchor=\"middle\" x=\"20170\" y=\"-141.8\" font-family=\"Helvetica,sans-Serif\" font-size=\"14.00\">estado_civil_União &lt;= 0.5</text>\n<text text-anchor=\"middle\" x=\"20170\" y=\"-126.8\" font-family=\"Helvetica,sans-Serif\" font-size=\"14.00\">squared_error = 219539030.124</text>\n<text text-anchor=\"middle\" x=\"20170\" y=\"-111.8\" font-family=\"Helvetica,sans-Serif\" font-size=\"14.00\">samples = 4</text>\n<text text-anchor=\"middle\" x=\"20170\" y=\"-96.8\" font-family=\"Helvetica,sans-Serif\" font-size=\"14.00\">value = 21606.495</text>\n</g>\n<!-- 202&#45;&gt;206 -->\n<g id=\"edge206\" class=\"edge\">\n<title>202&#45;&gt;206</title>\n<path fill=\"none\" stroke=\"black\" d=\"M19953.93,-193.31C19986.83,-182.75 20023.5,-170.99 20057.14,-160.2\"/>\n<polygon fill=\"black\" stroke=\"black\" points=\"20058.56,-163.42 20067.01,-157.03 20056.42,-156.76 20058.56,-163.42\"/>\n</g>\n<!-- 204 -->\n<g id=\"node205\" class=\"node\">\n<title>204</title>\n<polygon fill=\"#fef9f6\" stroke=\"black\" points=\"19825.5,-53 19622.5,-53 19622.5,0 19825.5,0 19825.5,-53\"/>\n<text text-anchor=\"middle\" x=\"19724\" y=\"-37.8\" font-family=\"Helvetica,sans-Serif\" font-size=\"14.00\">squared_error = 42129276.336</text>\n<text text-anchor=\"middle\" x=\"19724\" y=\"-22.8\" font-family=\"Helvetica,sans-Serif\" font-size=\"14.00\">samples = 53</text>\n<text text-anchor=\"middle\" x=\"19724\" y=\"-7.8\" font-family=\"Helvetica,sans-Serif\" font-size=\"14.00\">value = 11870.008</text>\n</g>\n<!-- 203&#45;&gt;204 -->\n<g id=\"edge204\" class=\"edge\">\n<title>203&#45;&gt;204</title>\n<path fill=\"none\" stroke=\"black\" d=\"M19807.23,-88.95C19794.22,-79.34 19780.04,-68.87 19767.13,-59.34\"/>\n<polygon fill=\"black\" stroke=\"black\" points=\"19768.98,-56.36 19758.86,-53.24 19764.83,-61.99 19768.98,-56.36\"/>\n</g>\n<!-- 205 -->\n<g id=\"node206\" class=\"node\">\n<title>205</title>\n<polygon fill=\"#fefcfb\" stroke=\"black\" points=\"20046.5,-53 19843.5,-53 19843.5,0 20046.5,0 20046.5,-53\"/>\n<text text-anchor=\"middle\" x=\"19945\" y=\"-37.8\" font-family=\"Helvetica,sans-Serif\" font-size=\"14.00\">squared_error = 13613325.259</text>\n<text text-anchor=\"middle\" x=\"19945\" y=\"-22.8\" font-family=\"Helvetica,sans-Serif\" font-size=\"14.00\">samples = 5</text>\n<text text-anchor=\"middle\" x=\"19945\" y=\"-7.8\" font-family=\"Helvetica,sans-Serif\" font-size=\"14.00\">value = 5777.57</text>\n</g>\n<!-- 203&#45;&gt;205 -->\n<g id=\"edge205\" class=\"edge\">\n<title>203&#45;&gt;205</title>\n<path fill=\"none\" stroke=\"black\" d=\"M19884.53,-88.95C19893.62,-79.71 19903.5,-69.67 19912.58,-60.44\"/>\n<polygon fill=\"black\" stroke=\"black\" points=\"19915.15,-62.82 19919.67,-53.24 19910.16,-57.91 19915.15,-62.82\"/>\n</g>\n<!-- 207 -->\n<g id=\"node208\" class=\"node\">\n<title>207</title>\n<polygon fill=\"#fcf2eb\" stroke=\"black\" points=\"20275.5,-53 20064.5,-53 20064.5,0 20275.5,0 20275.5,-53\"/>\n<text text-anchor=\"middle\" x=\"20170\" y=\"-37.8\" font-family=\"Helvetica,sans-Serif\" font-size=\"14.00\">squared_error = 230708804.201</text>\n<text text-anchor=\"middle\" x=\"20170\" y=\"-22.8\" font-family=\"Helvetica,sans-Serif\" font-size=\"14.00\">samples = 3</text>\n<text text-anchor=\"middle\" x=\"20170\" y=\"-7.8\" font-family=\"Helvetica,sans-Serif\" font-size=\"14.00\">value = 25543.813</text>\n</g>\n<!-- 206&#45;&gt;207 -->\n<g id=\"edge207\" class=\"edge\">\n<title>206&#45;&gt;207</title>\n<path fill=\"none\" stroke=\"black\" d=\"M20170,-88.95C20170,-80.72 20170,-71.85 20170,-63.48\"/>\n<polygon fill=\"black\" stroke=\"black\" points=\"20173.5,-63.24 20170,-53.24 20166.5,-63.24 20173.5,-63.24\"/>\n</g>\n<!-- 208 -->\n<g id=\"node209\" class=\"node\">\n<title>208</title>\n<polygon fill=\"#fefaf8\" stroke=\"black\" points=\"20430,-53 20294,-53 20294,0 20430,0 20430,-53\"/>\n<text text-anchor=\"middle\" x=\"20362\" y=\"-37.8\" font-family=\"Helvetica,sans-Serif\" font-size=\"14.00\">squared_error = 0.0</text>\n<text text-anchor=\"middle\" x=\"20362\" y=\"-22.8\" font-family=\"Helvetica,sans-Serif\" font-size=\"14.00\">samples = 1</text>\n<text text-anchor=\"middle\" x=\"20362\" y=\"-7.8\" font-family=\"Helvetica,sans-Serif\" font-size=\"14.00\">value = 9794.54</text>\n</g>\n<!-- 206&#45;&gt;208 -->\n<g id=\"edge208\" class=\"edge\">\n<title>206&#45;&gt;208</title>\n<path fill=\"none\" stroke=\"black\" d=\"M20237.15,-88.95C20257.88,-78.75 20280.58,-67.57 20300.87,-57.59\"/>\n<polygon fill=\"black\" stroke=\"black\" points=\"20302.59,-60.64 20310.01,-53.09 20299.5,-54.36 20302.59,-60.64\"/>\n</g>\n<!-- 210 -->\n<g id=\"node211\" class=\"node\">\n<title>210</title>\n<polygon fill=\"#fdf7f3\" stroke=\"black\" points=\"21393.5,-365 21182.5,-365 21182.5,-297 21393.5,-297 21393.5,-365\"/>\n<text text-anchor=\"middle\" x=\"21288\" y=\"-349.8\" font-family=\"Helvetica,sans-Serif\" font-size=\"14.00\">posse_de_imovel_True &lt;= 0.5</text>\n<text text-anchor=\"middle\" x=\"21288\" y=\"-334.8\" font-family=\"Helvetica,sans-Serif\" font-size=\"14.00\">squared_error = 173220079.729</text>\n<text text-anchor=\"middle\" x=\"21288\" y=\"-319.8\" font-family=\"Helvetica,sans-Serif\" font-size=\"14.00\">samples = 278</text>\n<text text-anchor=\"middle\" x=\"21288\" y=\"-304.8\" font-family=\"Helvetica,sans-Serif\" font-size=\"14.00\">value = 15331.607</text>\n</g>\n<!-- 209&#45;&gt;210 -->\n<g id=\"edge210\" class=\"edge\">\n<title>209&#45;&gt;210</title>\n<path fill=\"none\" stroke=\"black\" d=\"M21288,-400.88C21288,-392.78 21288,-383.98 21288,-375.47\"/>\n<polygon fill=\"black\" stroke=\"black\" points=\"21291.5,-375.3 21288,-365.3 21284.5,-375.3 21291.5,-375.3\"/>\n</g>\n<!-- 225 -->\n<g id=\"node226\" class=\"node\">\n<title>225</title>\n<polygon fill=\"#fdf3ec\" stroke=\"black\" points=\"22661.5,-365 22450.5,-365 22450.5,-297 22661.5,-297 22661.5,-365\"/>\n<text text-anchor=\"middle\" x=\"22556\" y=\"-349.8\" font-family=\"Helvetica,sans-Serif\" font-size=\"14.00\">idade &lt;= 36.5</text>\n<text text-anchor=\"middle\" x=\"22556\" y=\"-334.8\" font-family=\"Helvetica,sans-Serif\" font-size=\"14.00\">squared_error = 698525253.326</text>\n<text text-anchor=\"middle\" x=\"22556\" y=\"-319.8\" font-family=\"Helvetica,sans-Serif\" font-size=\"14.00\">samples = 36</text>\n<text text-anchor=\"middle\" x=\"22556\" y=\"-304.8\" font-family=\"Helvetica,sans-Serif\" font-size=\"14.00\">value = 23622.216</text>\n</g>\n<!-- 209&#45;&gt;225 -->\n<g id=\"edge225\" class=\"edge\">\n<title>209&#45;&gt;225</title>\n<path fill=\"none\" stroke=\"black\" d=\"M21401.64,-424.86C21641.65,-405.55 22197.96,-360.8 22440.01,-341.33\"/>\n<polygon fill=\"black\" stroke=\"black\" points=\"22440.56,-344.8 22450.24,-340.51 22440,-337.82 22440.56,-344.8\"/>\n</g>\n<!-- 211 -->\n<g id=\"node212\" class=\"node\">\n<title>211</title>\n<polygon fill=\"#fdf6f0\" stroke=\"black\" points=\"21177.5,-261 20966.5,-261 20966.5,-193 21177.5,-193 21177.5,-261\"/>\n<text text-anchor=\"middle\" x=\"21072\" y=\"-245.8\" font-family=\"Helvetica,sans-Serif\" font-size=\"14.00\">idade &lt;= 33.5</text>\n<text text-anchor=\"middle\" x=\"21072\" y=\"-230.8\" font-family=\"Helvetica,sans-Serif\" font-size=\"14.00\">squared_error = 296782800.644</text>\n<text text-anchor=\"middle\" x=\"21072\" y=\"-215.8\" font-family=\"Helvetica,sans-Serif\" font-size=\"14.00\">samples = 99</text>\n<text text-anchor=\"middle\" x=\"21072\" y=\"-200.8\" font-family=\"Helvetica,sans-Serif\" font-size=\"14.00\">value = 19039.656</text>\n</g>\n<!-- 210&#45;&gt;211 -->\n<g id=\"edge211\" class=\"edge\">\n<title>210&#45;&gt;211</title>\n<path fill=\"none\" stroke=\"black\" d=\"M21217.87,-296.88C21196.64,-286.86 21173.17,-275.77 21151.37,-265.48\"/>\n<polygon fill=\"black\" stroke=\"black\" points=\"21152.68,-262.23 21142.15,-261.12 21149.69,-268.56 21152.68,-262.23\"/>\n</g>\n<!-- 218 -->\n<g id=\"node219\" class=\"node\">\n<title>218</title>\n<polygon fill=\"#fef9f5\" stroke=\"black\" points=\"21606.5,-261 21403.5,-261 21403.5,-193 21606.5,-193 21606.5,-261\"/>\n<text text-anchor=\"middle\" x=\"21505\" y=\"-245.8\" font-family=\"Helvetica,sans-Serif\" font-size=\"14.00\">tempo_emprego &lt;= 12.033</text>\n<text text-anchor=\"middle\" x=\"21505\" y=\"-230.8\" font-family=\"Helvetica,sans-Serif\" font-size=\"14.00\">squared_error = 93070520.315</text>\n<text text-anchor=\"middle\" x=\"21505\" y=\"-215.8\" font-family=\"Helvetica,sans-Serif\" font-size=\"14.00\">samples = 179</text>\n<text text-anchor=\"middle\" x=\"21505\" y=\"-200.8\" font-family=\"Helvetica,sans-Serif\" font-size=\"14.00\">value = 13280.788</text>\n</g>\n<!-- 210&#45;&gt;218 -->\n<g id=\"edge218\" class=\"edge\">\n<title>210&#45;&gt;218</title>\n<path fill=\"none\" stroke=\"black\" d=\"M21358.45,-296.88C21379.79,-286.86 21403.36,-275.77 21425.26,-265.48\"/>\n<polygon fill=\"black\" stroke=\"black\" points=\"21426.97,-268.55 21434.53,-261.12 21423.99,-262.21 21426.97,-268.55\"/>\n</g>\n<!-- 212 -->\n<g id=\"node213\" class=\"node\">\n<title>212</title>\n<polygon fill=\"#fceee5\" stroke=\"black\" points=\"20849.5,-157 20646.5,-157 20646.5,-89 20849.5,-89 20849.5,-157\"/>\n<text text-anchor=\"middle\" x=\"20748\" y=\"-141.8\" font-family=\"Helvetica,sans-Serif\" font-size=\"14.00\">idade &lt;= 32.5</text>\n<text text-anchor=\"middle\" x=\"20748\" y=\"-126.8\" font-family=\"Helvetica,sans-Serif\" font-size=\"14.00\">squared_error = 841674053.55</text>\n<text text-anchor=\"middle\" x=\"20748\" y=\"-111.8\" font-family=\"Helvetica,sans-Serif\" font-size=\"14.00\">samples = 12</text>\n<text text-anchor=\"middle\" x=\"20748\" y=\"-96.8\" font-family=\"Helvetica,sans-Serif\" font-size=\"14.00\">value = 33214.922</text>\n</g>\n<!-- 211&#45;&gt;212 -->\n<g id=\"edge212\" class=\"edge\">\n<title>211&#45;&gt;212</title>\n<path fill=\"none\" stroke=\"black\" d=\"M20966.81,-192.88C20932.44,-182.06 20894.16,-170.01 20859.35,-159.05\"/>\n<polygon fill=\"black\" stroke=\"black\" points=\"20860.22,-155.66 20849.63,-155.99 20858.12,-162.34 20860.22,-155.66\"/>\n</g>\n<!-- 215 -->\n<g id=\"node216\" class=\"node\">\n<title>215</title>\n<polygon fill=\"#fdf7f2\" stroke=\"black\" points=\"21177.5,-157 20966.5,-157 20966.5,-89 21177.5,-89 21177.5,-157\"/>\n<text text-anchor=\"middle\" x=\"21072\" y=\"-141.8\" font-family=\"Helvetica,sans-Serif\" font-size=\"14.00\">qt_pessoas_residencia &lt;= 2.5</text>\n<text text-anchor=\"middle\" x=\"21072\" y=\"-126.8\" font-family=\"Helvetica,sans-Serif\" font-size=\"14.00\">squared_error = 190086930.482</text>\n<text text-anchor=\"middle\" x=\"21072\" y=\"-111.8\" font-family=\"Helvetica,sans-Serif\" font-size=\"14.00\">samples = 87</text>\n<text text-anchor=\"middle\" x=\"21072\" y=\"-96.8\" font-family=\"Helvetica,sans-Serif\" font-size=\"14.00\">value = 17084.446</text>\n</g>\n<!-- 211&#45;&gt;215 -->\n<g id=\"edge215\" class=\"edge\">\n<title>211&#45;&gt;215</title>\n<path fill=\"none\" stroke=\"black\" d=\"M21072,-192.88C21072,-184.78 21072,-175.98 21072,-167.47\"/>\n<polygon fill=\"black\" stroke=\"black\" points=\"21075.5,-167.3 21072,-157.3 21068.5,-167.3 21075.5,-167.3\"/>\n</g>\n<!-- 213 -->\n<g id=\"node214\" class=\"node\">\n<title>213</title>\n<polygon fill=\"#fdf4ed\" stroke=\"black\" points=\"20659.5,-53 20448.5,-53 20448.5,0 20659.5,0 20659.5,-53\"/>\n<text text-anchor=\"middle\" x=\"20554\" y=\"-37.8\" font-family=\"Helvetica,sans-Serif\" font-size=\"14.00\">squared_error = 336380264.701</text>\n<text text-anchor=\"middle\" x=\"20554\" y=\"-22.8\" font-family=\"Helvetica,sans-Serif\" font-size=\"14.00\">samples = 10</text>\n<text text-anchor=\"middle\" x=\"20554\" y=\"-7.8\" font-family=\"Helvetica,sans-Serif\" font-size=\"14.00\">value = 22619.101</text>\n</g>\n<!-- 212&#45;&gt;213 -->\n<g id=\"edge213\" class=\"edge\">\n<title>212&#45;&gt;213</title>\n<path fill=\"none\" stroke=\"black\" d=\"M20680.15,-88.95C20659.21,-78.75 20636.27,-67.57 20615.76,-57.59\"/>\n<polygon fill=\"black\" stroke=\"black\" points=\"20617.05,-54.32 20606.53,-53.09 20613.98,-60.61 20617.05,-54.32\"/>\n</g>\n<!-- 214 -->\n<g id=\"node215\" class=\"node\">\n<title>214</title>\n<polygon fill=\"#f6d3ba\" stroke=\"black\" points=\"20818,-53 20678,-53 20678,0 20818,0 20818,-53\"/>\n<text text-anchor=\"middle\" x=\"20748\" y=\"-37.8\" font-family=\"Helvetica,sans-Serif\" font-size=\"14.00\">squared_error = &#45;0.0</text>\n<text text-anchor=\"middle\" x=\"20748\" y=\"-22.8\" font-family=\"Helvetica,sans-Serif\" font-size=\"14.00\">samples = 2</text>\n<text text-anchor=\"middle\" x=\"20748\" y=\"-7.8\" font-family=\"Helvetica,sans-Serif\" font-size=\"14.00\">value = 86194.03</text>\n</g>\n<!-- 212&#45;&gt;214 -->\n<g id=\"edge214\" class=\"edge\">\n<title>212&#45;&gt;214</title>\n<path fill=\"none\" stroke=\"black\" d=\"M20748,-88.95C20748,-80.72 20748,-71.85 20748,-63.48\"/>\n<polygon fill=\"black\" stroke=\"black\" points=\"20751.5,-63.24 20748,-53.24 20744.5,-63.24 20751.5,-63.24\"/>\n</g>\n<!-- 216 -->\n<g id=\"node217\" class=\"node\">\n<title>216</title>\n<polygon fill=\"#fdf8f3\" stroke=\"black\" points=\"21047.5,-53 20836.5,-53 20836.5,0 21047.5,0 21047.5,-53\"/>\n<text text-anchor=\"middle\" x=\"20942\" y=\"-37.8\" font-family=\"Helvetica,sans-Serif\" font-size=\"14.00\">squared_error = 151918491.472</text>\n<text text-anchor=\"middle\" x=\"20942\" y=\"-22.8\" font-family=\"Helvetica,sans-Serif\" font-size=\"14.00\">samples = 66</text>\n<text text-anchor=\"middle\" x=\"20942\" y=\"-7.8\" font-family=\"Helvetica,sans-Serif\" font-size=\"14.00\">value = 14946.781</text>\n</g>\n<!-- 215&#45;&gt;216 -->\n<g id=\"edge216\" class=\"edge\">\n<title>215&#45;&gt;216</title>\n<path fill=\"none\" stroke=\"black\" d=\"M21026.53,-88.95C21013.32,-79.34 20998.92,-68.87 20985.81,-59.34\"/>\n<polygon fill=\"black\" stroke=\"black\" points=\"20987.55,-56.29 20977.4,-53.24 20983.44,-61.95 20987.55,-56.29\"/>\n</g>\n<!-- 217 -->\n<g id=\"node218\" class=\"node\">\n<title>217</title>\n<polygon fill=\"#fdf3ec\" stroke=\"black\" points=\"21276.5,-53 21065.5,-53 21065.5,0 21276.5,0 21276.5,-53\"/>\n<text text-anchor=\"middle\" x=\"21171\" y=\"-37.8\" font-family=\"Helvetica,sans-Serif\" font-size=\"14.00\">squared_error = 250546649.822</text>\n<text text-anchor=\"middle\" x=\"21171\" y=\"-22.8\" font-family=\"Helvetica,sans-Serif\" font-size=\"14.00\">samples = 21</text>\n<text text-anchor=\"middle\" x=\"21171\" y=\"-7.8\" font-family=\"Helvetica,sans-Serif\" font-size=\"14.00\">value = 23802.823</text>\n</g>\n<!-- 215&#45;&gt;217 -->\n<g id=\"edge217\" class=\"edge\">\n<title>215&#45;&gt;217</title>\n<path fill=\"none\" stroke=\"black\" d=\"M21106.63,-88.95C21116.4,-79.62 21127.03,-69.47 21136.78,-60.16\"/>\n<polygon fill=\"black\" stroke=\"black\" points=\"21139.22,-62.67 21144.04,-53.24 21134.39,-57.61 21139.22,-62.67\"/>\n</g>\n<!-- 219 -->\n<g id=\"node220\" class=\"node\">\n<title>219</title>\n<polygon fill=\"#fdf5f0\" stroke=\"black\" points=\"21610.5,-157 21399.5,-157 21399.5,-89 21610.5,-89 21610.5,-157\"/>\n<text text-anchor=\"middle\" x=\"21505\" y=\"-141.8\" font-family=\"Helvetica,sans-Serif\" font-size=\"14.00\">estado_civil_União &lt;= 0.5</text>\n<text text-anchor=\"middle\" x=\"21505\" y=\"-126.8\" font-family=\"Helvetica,sans-Serif\" font-size=\"14.00\">squared_error = 229229407.442</text>\n<text text-anchor=\"middle\" x=\"21505\" y=\"-111.8\" font-family=\"Helvetica,sans-Serif\" font-size=\"14.00\">samples = 29</text>\n<text text-anchor=\"middle\" x=\"21505\" y=\"-96.8\" font-family=\"Helvetica,sans-Serif\" font-size=\"14.00\">value = 19534.405</text>\n</g>\n<!-- 218&#45;&gt;219 -->\n<g id=\"edge219\" class=\"edge\">\n<title>218&#45;&gt;219</title>\n<path fill=\"none\" stroke=\"black\" d=\"M21505,-192.88C21505,-184.78 21505,-175.98 21505,-167.47\"/>\n<polygon fill=\"black\" stroke=\"black\" points=\"21508.5,-167.3 21505,-157.3 21501.5,-167.3 21508.5,-167.3\"/>\n</g>\n<!-- 222 -->\n<g id=\"node223\" class=\"node\">\n<title>222</title>\n<polygon fill=\"#fef9f6\" stroke=\"black\" points=\"21939.5,-157 21736.5,-157 21736.5,-89 21939.5,-89 21939.5,-157\"/>\n<text text-anchor=\"middle\" x=\"21838\" y=\"-141.8\" font-family=\"Helvetica,sans-Serif\" font-size=\"14.00\">tempo_emprego &lt;= 13.86</text>\n<text text-anchor=\"middle\" x=\"21838\" y=\"-126.8\" font-family=\"Helvetica,sans-Serif\" font-size=\"14.00\">squared_error = 57723881.318</text>\n<text text-anchor=\"middle\" x=\"21838\" y=\"-111.8\" font-family=\"Helvetica,sans-Serif\" font-size=\"14.00\">samples = 150</text>\n<text text-anchor=\"middle\" x=\"21838\" y=\"-96.8\" font-family=\"Helvetica,sans-Serif\" font-size=\"14.00\">value = 12071.755</text>\n</g>\n<!-- 218&#45;&gt;222 -->\n<g id=\"edge222\" class=\"edge\">\n<title>218&#45;&gt;222</title>\n<path fill=\"none\" stroke=\"black\" d=\"M21606.72,-194.84C21644.63,-183.23 21687.85,-169.99 21726.58,-158.13\"/>\n<polygon fill=\"black\" stroke=\"black\" points=\"21727.79,-161.42 21736.33,-155.14 21725.74,-154.72 21727.79,-161.42\"/>\n</g>\n<!-- 220 -->\n<g id=\"node221\" class=\"node\">\n<title>220</title>\n<polygon fill=\"#fdf6f1\" stroke=\"black\" points=\"21497.5,-53 21294.5,-53 21294.5,0 21497.5,0 21497.5,-53\"/>\n<text text-anchor=\"middle\" x=\"21396\" y=\"-37.8\" font-family=\"Helvetica,sans-Serif\" font-size=\"14.00\">squared_error = 210981207.73</text>\n<text text-anchor=\"middle\" x=\"21396\" y=\"-22.8\" font-family=\"Helvetica,sans-Serif\" font-size=\"14.00\">samples = 27</text>\n<text text-anchor=\"middle\" x=\"21396\" y=\"-7.8\" font-family=\"Helvetica,sans-Serif\" font-size=\"14.00\">value = 18025.598</text>\n</g>\n<!-- 219&#45;&gt;220 -->\n<g id=\"edge220\" class=\"edge\">\n<title>219&#45;&gt;220</title>\n<path fill=\"none\" stroke=\"black\" d=\"M21466.88,-88.95C21456.01,-79.53 21444.18,-69.27 21433.36,-59.89\"/>\n<polygon fill=\"black\" stroke=\"black\" points=\"21435.53,-57.14 21425.69,-53.24 21430.95,-62.43 21435.53,-57.14\"/>\n</g>\n<!-- 221 -->\n<g id=\"node222\" class=\"node\">\n<title>221</title>\n<polygon fill=\"#fbebdf\" stroke=\"black\" points=\"21718.5,-53 21515.5,-53 21515.5,0 21718.5,0 21718.5,-53\"/>\n<text text-anchor=\"middle\" x=\"21617\" y=\"-37.8\" font-family=\"Helvetica,sans-Serif\" font-size=\"14.00\">squared_error = 29955480.386</text>\n<text text-anchor=\"middle\" x=\"21617\" y=\"-22.8\" font-family=\"Helvetica,sans-Serif\" font-size=\"14.00\">samples = 2</text>\n<text text-anchor=\"middle\" x=\"21617\" y=\"-7.8\" font-family=\"Helvetica,sans-Serif\" font-size=\"14.00\">value = 39903.3</text>\n</g>\n<!-- 219&#45;&gt;221 -->\n<g id=\"edge221\" class=\"edge\">\n<title>219&#45;&gt;221</title>\n<path fill=\"none\" stroke=\"black\" d=\"M21544.17,-88.95C21555.34,-79.53 21567.49,-69.27 21578.61,-59.89\"/>\n<polygon fill=\"black\" stroke=\"black\" points=\"21581.11,-62.36 21586.5,-53.24 21576.6,-57.01 21581.11,-62.36\"/>\n</g>\n<!-- 223 -->\n<g id=\"node224\" class=\"node\">\n<title>223</title>\n<polygon fill=\"#fefaf8\" stroke=\"black\" points=\"21939.5,-53 21736.5,-53 21736.5,0 21939.5,0 21939.5,-53\"/>\n<text text-anchor=\"middle\" x=\"21838\" y=\"-37.8\" font-family=\"Helvetica,sans-Serif\" font-size=\"14.00\">squared_error = 38451123.944</text>\n<text text-anchor=\"middle\" x=\"21838\" y=\"-22.8\" font-family=\"Helvetica,sans-Serif\" font-size=\"14.00\">samples = 66</text>\n<text text-anchor=\"middle\" x=\"21838\" y=\"-7.8\" font-family=\"Helvetica,sans-Serif\" font-size=\"14.00\">value = 9657.245</text>\n</g>\n<!-- 222&#45;&gt;223 -->\n<g id=\"edge223\" class=\"edge\">\n<title>222&#45;&gt;223</title>\n<path fill=\"none\" stroke=\"black\" d=\"M21838,-88.95C21838,-80.72 21838,-71.85 21838,-63.48\"/>\n<polygon fill=\"black\" stroke=\"black\" points=\"21841.5,-63.24 21838,-53.24 21834.5,-63.24 21841.5,-63.24\"/>\n</g>\n<!-- 224 -->\n<g id=\"node225\" class=\"node\">\n<title>224</title>\n<polygon fill=\"#fef8f4\" stroke=\"black\" points=\"22160.5,-53 21957.5,-53 21957.5,0 22160.5,0 22160.5,-53\"/>\n<text text-anchor=\"middle\" x=\"22059\" y=\"-37.8\" font-family=\"Helvetica,sans-Serif\" font-size=\"14.00\">squared_error = 64687113.075</text>\n<text text-anchor=\"middle\" x=\"22059\" y=\"-22.8\" font-family=\"Helvetica,sans-Serif\" font-size=\"14.00\">samples = 84</text>\n<text text-anchor=\"middle\" x=\"22059\" y=\"-7.8\" font-family=\"Helvetica,sans-Serif\" font-size=\"14.00\">value = 13968.87</text>\n</g>\n<!-- 222&#45;&gt;224 -->\n<g id=\"edge224\" class=\"edge\">\n<title>222&#45;&gt;224</title>\n<path fill=\"none\" stroke=\"black\" d=\"M21915.3,-88.95C21939.58,-78.56 21966.22,-67.17 21989.9,-57.05\"/>\n<polygon fill=\"black\" stroke=\"black\" points=\"21991.34,-60.24 21999.16,-53.09 21988.59,-53.8 21991.34,-60.24\"/>\n</g>\n<!-- 226 -->\n<g id=\"node227\" class=\"node\">\n<title>226</title>\n<polygon fill=\"#fceee5\" stroke=\"black\" points=\"22665,-261 22447,-261 22447,-193 22665,-193 22665,-261\"/>\n<text text-anchor=\"middle\" x=\"22556\" y=\"-245.8\" font-family=\"Helvetica,sans-Serif\" font-size=\"14.00\">posse_de_veiculo_True &lt;= 0.5</text>\n<text text-anchor=\"middle\" x=\"22556\" y=\"-230.8\" font-family=\"Helvetica,sans-Serif\" font-size=\"14.00\">squared_error = 1203195552.322</text>\n<text text-anchor=\"middle\" x=\"22556\" y=\"-215.8\" font-family=\"Helvetica,sans-Serif\" font-size=\"14.00\">samples = 17</text>\n<text text-anchor=\"middle\" x=\"22556\" y=\"-200.8\" font-family=\"Helvetica,sans-Serif\" font-size=\"14.00\">value = 32777.468</text>\n</g>\n<!-- 225&#45;&gt;226 -->\n<g id=\"edge226\" class=\"edge\">\n<title>225&#45;&gt;226</title>\n<path fill=\"none\" stroke=\"black\" d=\"M22556,-296.88C22556,-288.78 22556,-279.98 22556,-271.47\"/>\n<polygon fill=\"black\" stroke=\"black\" points=\"22559.5,-271.3 22556,-261.3 22552.5,-271.3 22559.5,-271.3\"/>\n</g>\n<!-- 233 -->\n<g id=\"node234\" class=\"node\">\n<title>233</title>\n<polygon fill=\"#fdf7f3\" stroke=\"black\" points=\"23145,-261 22949,-261 22949,-193 23145,-193 23145,-261\"/>\n<text text-anchor=\"middle\" x=\"23047\" y=\"-245.8\" font-family=\"Helvetica,sans-Serif\" font-size=\"14.00\">idade &lt;= 59.5</text>\n<text text-anchor=\"middle\" x=\"23047\" y=\"-230.8\" font-family=\"Helvetica,sans-Serif\" font-size=\"14.00\">squared_error = 104881149.8</text>\n<text text-anchor=\"middle\" x=\"23047\" y=\"-215.8\" font-family=\"Helvetica,sans-Serif\" font-size=\"14.00\">samples = 19</text>\n<text text-anchor=\"middle\" x=\"23047\" y=\"-200.8\" font-family=\"Helvetica,sans-Serif\" font-size=\"14.00\">value = 15430.674</text>\n</g>\n<!-- 225&#45;&gt;233 -->\n<g id=\"edge233\" class=\"edge\">\n<title>225&#45;&gt;233</title>\n<path fill=\"none\" stroke=\"black\" d=\"M22661.63,-308.06C22743.43,-291.06 22856.3,-267.62 22938.75,-250.49\"/>\n<polygon fill=\"black\" stroke=\"black\" points=\"22939.57,-253.89 22948.65,-248.43 22938.15,-247.04 22939.57,-253.89\"/>\n</g>\n<!-- 227 -->\n<g id=\"node228\" class=\"node\">\n<title>227</title>\n<polygon fill=\"#f7d9c3\" stroke=\"black\" points=\"22549,-157 22331,-157 22331,-89 22549,-89 22549,-157\"/>\n<text text-anchor=\"middle\" x=\"22440\" y=\"-141.8\" font-family=\"Helvetica,sans-Serif\" font-size=\"14.00\">posse_de_imovel_True &lt;= 0.5</text>\n<text text-anchor=\"middle\" x=\"22440\" y=\"-126.8\" font-family=\"Helvetica,sans-Serif\" font-size=\"14.00\">squared_error = 2422679933.215</text>\n<text text-anchor=\"middle\" x=\"22440\" y=\"-111.8\" font-family=\"Helvetica,sans-Serif\" font-size=\"14.00\">samples = 4</text>\n<text text-anchor=\"middle\" x=\"22440\" y=\"-96.8\" font-family=\"Helvetica,sans-Serif\" font-size=\"14.00\">value = 74445.118</text>\n</g>\n<!-- 226&#45;&gt;227 -->\n<g id=\"edge227\" class=\"edge\">\n<title>226&#45;&gt;227</title>\n<path fill=\"none\" stroke=\"black\" d=\"M22518.34,-192.88C22507.9,-183.71 22496.46,-173.65 22485.63,-164.12\"/>\n<polygon fill=\"black\" stroke=\"black\" points=\"22487.69,-161.27 22477.87,-157.3 22483.07,-166.53 22487.69,-161.27\"/>\n</g>\n<!-- 230 -->\n<g id=\"node231\" class=\"node\">\n<title>230</title>\n<polygon fill=\"#fdf5ef\" stroke=\"black\" points=\"22778.5,-157 22567.5,-157 22567.5,-89 22778.5,-89 22778.5,-157\"/>\n<text text-anchor=\"middle\" x=\"22673\" y=\"-141.8\" font-family=\"Helvetica,sans-Serif\" font-size=\"14.00\">tempo_emprego &lt;= 15.111</text>\n<text text-anchor=\"middle\" x=\"22673\" y=\"-126.8\" font-family=\"Helvetica,sans-Serif\" font-size=\"14.00\">squared_error = 129383058.339</text>\n<text text-anchor=\"middle\" x=\"22673\" y=\"-111.8\" font-family=\"Helvetica,sans-Serif\" font-size=\"14.00\">samples = 13</text>\n<text text-anchor=\"middle\" x=\"22673\" y=\"-96.8\" font-family=\"Helvetica,sans-Serif\" font-size=\"14.00\">value = 19956.653</text>\n</g>\n<!-- 226&#45;&gt;230 -->\n<g id=\"edge230\" class=\"edge\">\n<title>226&#45;&gt;230</title>\n<path fill=\"none\" stroke=\"black\" d=\"M22593.99,-192.88C22604.51,-183.71 22616.05,-173.65 22626.98,-164.12\"/>\n<polygon fill=\"black\" stroke=\"black\" points=\"22629.57,-166.51 22634.8,-157.3 22624.97,-161.23 22629.57,-166.51\"/>\n</g>\n<!-- 228 -->\n<g id=\"node229\" class=\"node\">\n<title>228</title>\n<polygon fill=\"#fae6d8\" stroke=\"black\" points=\"22315,-53 22179,-53 22179,0 22315,0 22315,-53\"/>\n<text text-anchor=\"middle\" x=\"22247\" y=\"-37.8\" font-family=\"Helvetica,sans-Serif\" font-size=\"14.00\">squared_error = 0.0</text>\n<text text-anchor=\"middle\" x=\"22247\" y=\"-22.8\" font-family=\"Helvetica,sans-Serif\" font-size=\"14.00\">samples = 1</text>\n<text text-anchor=\"middle\" x=\"22247\" y=\"-7.8\" font-family=\"Helvetica,sans-Serif\" font-size=\"14.00\">value = 48649.82</text>\n</g>\n<!-- 227&#45;&gt;228 -->\n<g id=\"edge228\" class=\"edge\">\n<title>227&#45;&gt;228</title>\n<path fill=\"none\" stroke=\"black\" d=\"M22372.5,-88.95C22351.67,-78.75 22328.84,-67.57 22308.44,-57.59\"/>\n<polygon fill=\"black\" stroke=\"black\" points=\"22309.78,-54.34 22299.26,-53.09 22306.7,-60.63 22309.78,-54.34\"/>\n</g>\n<!-- 229 -->\n<g id=\"node230\" class=\"node\">\n<title>229</title>\n<polygon fill=\"#f6d5bc\" stroke=\"black\" points=\"22551,-53 22333,-53 22333,0 22551,0 22551,-53\"/>\n<text text-anchor=\"middle\" x=\"22442\" y=\"-37.8\" font-family=\"Helvetica,sans-Serif\" font-size=\"14.00\">squared_error = 2934507745.125</text>\n<text text-anchor=\"middle\" x=\"22442\" y=\"-22.8\" font-family=\"Helvetica,sans-Serif\" font-size=\"14.00\">samples = 3</text>\n<text text-anchor=\"middle\" x=\"22442\" y=\"-7.8\" font-family=\"Helvetica,sans-Serif\" font-size=\"14.00\">value = 83043.55</text>\n</g>\n<!-- 227&#45;&gt;229 -->\n<g id=\"edge229\" class=\"edge\">\n<title>227&#45;&gt;229</title>\n<path fill=\"none\" stroke=\"black\" d=\"M22440.7,-88.95C22440.87,-80.72 22441.06,-71.85 22441.24,-63.48\"/>\n<polygon fill=\"black\" stroke=\"black\" points=\"22444.74,-63.31 22441.46,-53.24 22437.74,-63.16 22444.74,-63.31\"/>\n</g>\n<!-- 231 -->\n<g id=\"node232\" class=\"node\">\n<title>231</title>\n<polygon fill=\"#fdf7f3\" stroke=\"black\" points=\"22772.5,-53 22569.5,-53 22569.5,0 22772.5,0 22772.5,-53\"/>\n<text text-anchor=\"middle\" x=\"22671\" y=\"-37.8\" font-family=\"Helvetica,sans-Serif\" font-size=\"14.00\">squared_error = 53017618.167</text>\n<text text-anchor=\"middle\" x=\"22671\" y=\"-22.8\" font-family=\"Helvetica,sans-Serif\" font-size=\"14.00\">samples = 11</text>\n<text text-anchor=\"middle\" x=\"22671\" y=\"-7.8\" font-family=\"Helvetica,sans-Serif\" font-size=\"14.00\">value = 16036.495</text>\n</g>\n<!-- 230&#45;&gt;231 -->\n<g id=\"edge231\" class=\"edge\">\n<title>230&#45;&gt;231</title>\n<path fill=\"none\" stroke=\"black\" d=\"M22672.3,-88.95C22672.13,-80.72 22671.94,-71.85 22671.76,-63.48\"/>\n<polygon fill=\"black\" stroke=\"black\" points=\"22675.26,-63.16 22671.54,-53.24 22668.26,-63.31 22675.26,-63.16\"/>\n</g>\n<!-- 232 -->\n<g id=\"node233\" class=\"node\">\n<title>232</title>\n<polygon fill=\"#fbeade\" stroke=\"black\" points=\"22927,-53 22791,-53 22791,0 22927,0 22927,-53\"/>\n<text text-anchor=\"middle\" x=\"22859\" y=\"-37.8\" font-family=\"Helvetica,sans-Serif\" font-size=\"14.00\">squared_error = 0.0</text>\n<text text-anchor=\"middle\" x=\"22859\" y=\"-22.8\" font-family=\"Helvetica,sans-Serif\" font-size=\"14.00\">samples = 2</text>\n<text text-anchor=\"middle\" x=\"22859\" y=\"-7.8\" font-family=\"Helvetica,sans-Serif\" font-size=\"14.00\">value = 41517.52</text>\n</g>\n<!-- 230&#45;&gt;232 -->\n<g id=\"edge232\" class=\"edge\">\n<title>230&#45;&gt;232</title>\n<path fill=\"none\" stroke=\"black\" d=\"M22738.05,-88.95C22758.04,-78.79 22779.93,-67.67 22799.52,-57.72\"/>\n<polygon fill=\"black\" stroke=\"black\" points=\"22801.31,-60.74 22808.64,-53.09 22798.14,-54.5 22801.31,-60.74\"/>\n</g>\n<!-- 234 -->\n<g id=\"node235\" class=\"node\">\n<title>234</title>\n<polygon fill=\"#fef8f5\" stroke=\"black\" points=\"23148.5,-157 22945.5,-157 22945.5,-89 23148.5,-89 23148.5,-157\"/>\n<text text-anchor=\"middle\" x=\"23047\" y=\"-141.8\" font-family=\"Helvetica,sans-Serif\" font-size=\"14.00\">tempo_emprego &lt;= 15.073</text>\n<text text-anchor=\"middle\" x=\"23047\" y=\"-126.8\" font-family=\"Helvetica,sans-Serif\" font-size=\"14.00\">squared_error = 37563033.484</text>\n<text text-anchor=\"middle\" x=\"23047\" y=\"-111.8\" font-family=\"Helvetica,sans-Serif\" font-size=\"14.00\">samples = 18</text>\n<text text-anchor=\"middle\" x=\"23047\" y=\"-96.8\" font-family=\"Helvetica,sans-Serif\" font-size=\"14.00\">value = 13468.601</text>\n</g>\n<!-- 233&#45;&gt;234 -->\n<g id=\"edge234\" class=\"edge\">\n<title>233&#45;&gt;234</title>\n<path fill=\"none\" stroke=\"black\" d=\"M23047,-192.88C23047,-184.78 23047,-175.98 23047,-167.47\"/>\n<polygon fill=\"black\" stroke=\"black\" points=\"23050.5,-167.3 23047,-157.3 23043.5,-167.3 23050.5,-167.3\"/>\n</g>\n<!-- 237 -->\n<g id=\"node238\" class=\"node\">\n<title>237</title>\n<polygon fill=\"#fae5d6\" stroke=\"black\" points=\"23303,-149.5 23167,-149.5 23167,-96.5 23303,-96.5 23303,-149.5\"/>\n<text text-anchor=\"middle\" x=\"23235\" y=\"-134.3\" font-family=\"Helvetica,sans-Serif\" font-size=\"14.00\">squared_error = 0.0</text>\n<text text-anchor=\"middle\" x=\"23235\" y=\"-119.3\" font-family=\"Helvetica,sans-Serif\" font-size=\"14.00\">samples = 1</text>\n<text text-anchor=\"middle\" x=\"23235\" y=\"-104.3\" font-family=\"Helvetica,sans-Serif\" font-size=\"14.00\">value = 50747.98</text>\n</g>\n<!-- 233&#45;&gt;237 -->\n<g id=\"edge237\" class=\"edge\">\n<title>233&#45;&gt;237</title>\n<path fill=\"none\" stroke=\"black\" d=\"M23108.04,-192.88C23130.84,-180.51 23156.61,-166.53 23178.94,-154.41\"/>\n<polygon fill=\"black\" stroke=\"black\" points=\"23180.84,-157.37 23187.96,-149.52 23177.5,-151.21 23180.84,-157.37\"/>\n</g>\n<!-- 235 -->\n<g id=\"node236\" class=\"node\">\n<title>235</title>\n<polygon fill=\"#fefbf9\" stroke=\"black\" points=\"23148.5,-53 22945.5,-53 22945.5,0 23148.5,0 23148.5,-53\"/>\n<text text-anchor=\"middle\" x=\"23047\" y=\"-37.8\" font-family=\"Helvetica,sans-Serif\" font-size=\"14.00\">squared_error = 20949815.763</text>\n<text text-anchor=\"middle\" x=\"23047\" y=\"-22.8\" font-family=\"Helvetica,sans-Serif\" font-size=\"14.00\">samples = 8</text>\n<text text-anchor=\"middle\" x=\"23047\" y=\"-7.8\" font-family=\"Helvetica,sans-Serif\" font-size=\"14.00\">value = 8055.345</text>\n</g>\n<!-- 234&#45;&gt;235 -->\n<g id=\"edge235\" class=\"edge\">\n<title>234&#45;&gt;235</title>\n<path fill=\"none\" stroke=\"black\" d=\"M23047,-88.95C23047,-80.72 23047,-71.85 23047,-63.48\"/>\n<polygon fill=\"black\" stroke=\"black\" points=\"23050.5,-63.24 23047,-53.24 23043.5,-63.24 23050.5,-63.24\"/>\n</g>\n<!-- 236 -->\n<g id=\"node237\" class=\"node\">\n<title>236</title>\n<polygon fill=\"#fdf6f1\" stroke=\"black\" points=\"23362,-53 23166,-53 23166,0 23362,0 23362,-53\"/>\n<text text-anchor=\"middle\" x=\"23264\" y=\"-37.8\" font-family=\"Helvetica,sans-Serif\" font-size=\"14.00\">squared_error = 8656795.578</text>\n<text text-anchor=\"middle\" x=\"23264\" y=\"-22.8\" font-family=\"Helvetica,sans-Serif\" font-size=\"14.00\">samples = 10</text>\n<text text-anchor=\"middle\" x=\"23264\" y=\"-7.8\" font-family=\"Helvetica,sans-Serif\" font-size=\"14.00\">value = 17799.206</text>\n</g>\n<!-- 234&#45;&gt;236 -->\n<g id=\"edge236\" class=\"edge\">\n<title>234&#45;&gt;236</title>\n<path fill=\"none\" stroke=\"black\" d=\"M23122.9,-88.95C23146.64,-78.61 23172.67,-67.27 23195.84,-57.18\"/>\n<polygon fill=\"black\" stroke=\"black\" points=\"23197.47,-60.29 23205.25,-53.09 23194.68,-53.87 23197.47,-60.29\"/>\n</g>\n<!-- 239 -->\n<g id=\"node240\" class=\"node\">\n<title>239</title>\n<polygon fill=\"#fefaf8\" stroke=\"black\" points=\"24826.5,-677 24623.5,-677 24623.5,-609 24826.5,-609 24826.5,-677\"/>\n<text text-anchor=\"middle\" x=\"24725\" y=\"-661.8\" font-family=\"Helvetica,sans-Serif\" font-size=\"14.00\">tempo_emprego &lt;= 42.053</text>\n<text text-anchor=\"middle\" x=\"24725\" y=\"-646.8\" font-family=\"Helvetica,sans-Serif\" font-size=\"14.00\">squared_error = 91051960.998</text>\n<text text-anchor=\"middle\" x=\"24725\" y=\"-631.8\" font-family=\"Helvetica,sans-Serif\" font-size=\"14.00\">samples = 711</text>\n<text text-anchor=\"middle\" x=\"24725\" y=\"-616.8\" font-family=\"Helvetica,sans-Serif\" font-size=\"14.00\">value = 9552.967</text>\n</g>\n<!-- 238&#45;&gt;239 -->\n<g id=\"edge239\" class=\"edge\">\n<title>238&#45;&gt;239</title>\n<path fill=\"none\" stroke=\"black\" d=\"M24725,-712.88C24725,-704.78 24725,-695.98 24725,-687.47\"/>\n<polygon fill=\"black\" stroke=\"black\" points=\"24728.5,-687.3 24725,-677.3 24721.5,-687.3 24728.5,-687.3\"/>\n</g>\n<!-- 280 -->\n<g id=\"node281\" class=\"node\">\n<title>280</title>\n<polygon fill=\"#fbede2\" stroke=\"black\" points=\"28014,-677 27796,-677 27796,-609 28014,-609 28014,-677\"/>\n<text text-anchor=\"middle\" x=\"27905\" y=\"-661.8\" font-family=\"Helvetica,sans-Serif\" font-size=\"14.00\">tempo_emprego &lt;= 29.74</text>\n<text text-anchor=\"middle\" x=\"27905\" y=\"-646.8\" font-family=\"Helvetica,sans-Serif\" font-size=\"14.00\">squared_error = 1369345902.674</text>\n<text text-anchor=\"middle\" x=\"27905\" y=\"-631.8\" font-family=\"Helvetica,sans-Serif\" font-size=\"14.00\">samples = 188</text>\n<text text-anchor=\"middle\" x=\"27905\" y=\"-616.8\" font-family=\"Helvetica,sans-Serif\" font-size=\"14.00\">value = 36601.981</text>\n</g>\n<!-- 238&#45;&gt;280 -->\n<g id=\"edge280\" class=\"edge\">\n<title>238&#45;&gt;280</title>\n<path fill=\"none\" stroke=\"black\" d=\"M24830.8,-742.61C25310.44,-727.22 27279.13,-664.08 27785.7,-647.83\"/>\n<polygon fill=\"black\" stroke=\"black\" points=\"27786.06,-651.32 27795.95,-647.5 27785.84,-644.32 27786.06,-651.32\"/>\n</g>\n<!-- 240 -->\n<g id=\"node241\" class=\"node\">\n<title>240</title>\n<polygon fill=\"#fefbf8\" stroke=\"black\" points=\"24732.5,-573 24529.5,-573 24529.5,-505 24732.5,-505 24732.5,-573\"/>\n<text text-anchor=\"middle\" x=\"24631\" y=\"-557.8\" font-family=\"Helvetica,sans-Serif\" font-size=\"14.00\">tempo_emprego &lt;= 31.368</text>\n<text text-anchor=\"middle\" x=\"24631\" y=\"-542.8\" font-family=\"Helvetica,sans-Serif\" font-size=\"14.00\">squared_error = 77266548.664</text>\n<text text-anchor=\"middle\" x=\"24631\" y=\"-527.8\" font-family=\"Helvetica,sans-Serif\" font-size=\"14.00\">samples = 709</text>\n<text text-anchor=\"middle\" x=\"24631\" y=\"-512.8\" font-family=\"Helvetica,sans-Serif\" font-size=\"14.00\">value = 9354.221</text>\n</g>\n<!-- 239&#45;&gt;240 -->\n<g id=\"edge240\" class=\"edge\">\n<title>239&#45;&gt;240</title>\n<path fill=\"none\" stroke=\"black\" d=\"M24694.48,-608.88C24686.19,-599.89 24677.12,-590.04 24668.49,-580.68\"/>\n<polygon fill=\"black\" stroke=\"black\" points=\"24671.04,-578.28 24661.69,-573.3 24665.89,-583.02 24671.04,-578.28\"/>\n</g>\n<!-- 279 -->\n<g id=\"node280\" class=\"node\">\n<title>279</title>\n<polygon fill=\"#f7d6bf\" stroke=\"black\" points=\"24887,-565.5 24751,-565.5 24751,-512.5 24887,-512.5 24887,-565.5\"/>\n<text text-anchor=\"middle\" x=\"24819\" y=\"-550.3\" font-family=\"Helvetica,sans-Serif\" font-size=\"14.00\">squared_error = 0.0</text>\n<text text-anchor=\"middle\" x=\"24819\" y=\"-535.3\" font-family=\"Helvetica,sans-Serif\" font-size=\"14.00\">samples = 2</text>\n<text text-anchor=\"middle\" x=\"24819\" y=\"-520.3\" font-family=\"Helvetica,sans-Serif\" font-size=\"14.00\">value = 80008.47</text>\n</g>\n<!-- 239&#45;&gt;279 -->\n<g id=\"edge279\" class=\"edge\">\n<title>239&#45;&gt;279</title>\n<path fill=\"none\" stroke=\"black\" d=\"M24755.52,-608.88C24766.06,-597.45 24777.87,-584.63 24788.41,-573.19\"/>\n<polygon fill=\"black\" stroke=\"black\" points=\"24791.28,-575.25 24795.48,-565.52 24786.13,-570.5 24791.28,-575.25\"/>\n</g>\n<!-- 241 -->\n<g id=\"node242\" class=\"node\">\n<title>241</title>\n<polygon fill=\"#fefbf9\" stroke=\"black\" points=\"24401.5,-469 24198.5,-469 24198.5,-401 24401.5,-401 24401.5,-469\"/>\n<text text-anchor=\"middle\" x=\"24300\" y=\"-453.8\" font-family=\"Helvetica,sans-Serif\" font-size=\"14.00\">tempo_emprego &lt;= 17.105</text>\n<text text-anchor=\"middle\" x=\"24300\" y=\"-438.8\" font-family=\"Helvetica,sans-Serif\" font-size=\"14.00\">squared_error = 54958091.651</text>\n<text text-anchor=\"middle\" x=\"24300\" y=\"-423.8\" font-family=\"Helvetica,sans-Serif\" font-size=\"14.00\">samples = 620</text>\n<text text-anchor=\"middle\" x=\"24300\" y=\"-408.8\" font-family=\"Helvetica,sans-Serif\" font-size=\"14.00\">value = 8363.92</text>\n</g>\n<!-- 240&#45;&gt;241 -->\n<g id=\"edge241\" class=\"edge\">\n<title>240&#45;&gt;241</title>\n<path fill=\"none\" stroke=\"black\" d=\"M24529.44,-506.7C24492.04,-495.18 24449.48,-482.06 24411.27,-470.29\"/>\n<polygon fill=\"black\" stroke=\"black\" points=\"24412.24,-466.93 24401.65,-467.33 24410.18,-473.61 24412.24,-466.93\"/>\n</g>\n<!-- 260 -->\n<g id=\"node261\" class=\"node\">\n<title>260</title>\n<polygon fill=\"#fdf7f2\" stroke=\"black\" points=\"25336.5,-469 25125.5,-469 25125.5,-401 25336.5,-401 25336.5,-469\"/>\n<text text-anchor=\"middle\" x=\"25231\" y=\"-453.8\" font-family=\"Helvetica,sans-Serif\" font-size=\"14.00\">posse_de_imovel_True &lt;= 0.5</text>\n<text text-anchor=\"middle\" x=\"25231\" y=\"-438.8\" font-family=\"Helvetica,sans-Serif\" font-size=\"14.00\">squared_error = 178249529.168</text>\n<text text-anchor=\"middle\" x=\"25231\" y=\"-423.8\" font-family=\"Helvetica,sans-Serif\" font-size=\"14.00\">samples = 89</text>\n<text text-anchor=\"middle\" x=\"25231\" y=\"-408.8\" font-family=\"Helvetica,sans-Serif\" font-size=\"14.00\">value = 16252.948</text>\n</g>\n<!-- 240&#45;&gt;260 -->\n<g id=\"edge260\" class=\"edge\">\n<title>240&#45;&gt;260</title>\n<path fill=\"none\" stroke=\"black\" d=\"M24732.77,-507.11C24735.87,-506.37 24738.96,-505.66 24742,-505 24868.34,-477.47 25015.54,-458.43 25115.17,-447.43\"/>\n<polygon fill=\"black\" stroke=\"black\" points=\"25115.71,-450.89 25125.27,-446.32 25114.95,-443.93 25115.71,-450.89\"/>\n</g>\n<!-- 242 -->\n<g id=\"node243\" class=\"node\">\n<title>242</title>\n<polygon fill=\"#fcf2ea\" stroke=\"black\" points=\"24047.5,-365 23836.5,-365 23836.5,-297 24047.5,-297 24047.5,-365\"/>\n<text text-anchor=\"middle\" x=\"23942\" y=\"-349.8\" font-family=\"Helvetica,sans-Serif\" font-size=\"14.00\">posse_de_imovel_True &lt;= 0.5</text>\n<text text-anchor=\"middle\" x=\"23942\" y=\"-334.8\" font-family=\"Helvetica,sans-Serif\" font-size=\"14.00\">squared_error = 407975643.112</text>\n<text text-anchor=\"middle\" x=\"23942\" y=\"-319.8\" font-family=\"Helvetica,sans-Serif\" font-size=\"14.00\">samples = 4</text>\n<text text-anchor=\"middle\" x=\"23942\" y=\"-304.8\" font-family=\"Helvetica,sans-Serif\" font-size=\"14.00\">value = 26103.318</text>\n</g>\n<!-- 241&#45;&gt;242 -->\n<g id=\"edge242\" class=\"edge\">\n<title>241&#45;&gt;242</title>\n<path fill=\"none\" stroke=\"black\" d=\"M24198.37,-405.04C24154.46,-392.53 24102.86,-377.83 24057.5,-364.91\"/>\n<polygon fill=\"black\" stroke=\"black\" points=\"24058.2,-361.47 24047.63,-362.09 24056.28,-368.2 24058.2,-361.47\"/>\n</g>\n<!-- 245 -->\n<g id=\"node246\" class=\"node\">\n<title>245</title>\n<polygon fill=\"#fefbf9\" stroke=\"black\" points=\"24401.5,-365 24198.5,-365 24198.5,-297 24401.5,-297 24401.5,-365\"/>\n<text text-anchor=\"middle\" x=\"24300\" y=\"-349.8\" font-family=\"Helvetica,sans-Serif\" font-size=\"14.00\">tempo_emprego &lt;= 23.31</text>\n<text text-anchor=\"middle\" x=\"24300\" y=\"-334.8\" font-family=\"Helvetica,sans-Serif\" font-size=\"14.00\">squared_error = 50609083.902</text>\n<text text-anchor=\"middle\" x=\"24300\" y=\"-319.8\" font-family=\"Helvetica,sans-Serif\" font-size=\"14.00\">samples = 616</text>\n<text text-anchor=\"middle\" x=\"24300\" y=\"-304.8\" font-family=\"Helvetica,sans-Serif\" font-size=\"14.00\">value = 8248.729</text>\n</g>\n<!-- 241&#45;&gt;245 -->\n<g id=\"edge245\" class=\"edge\">\n<title>241&#45;&gt;245</title>\n<path fill=\"none\" stroke=\"black\" d=\"M24300,-400.88C24300,-392.78 24300,-383.98 24300,-375.47\"/>\n<polygon fill=\"black\" stroke=\"black\" points=\"24303.5,-375.3 24300,-365.3 24296.5,-375.3 24303.5,-375.3\"/>\n</g>\n<!-- 243 -->\n<g id=\"node244\" class=\"node\">\n<title>243</title>\n<polygon fill=\"#fffefe\" stroke=\"black\" points=\"23818,-253.5 23682,-253.5 23682,-200.5 23818,-200.5 23818,-253.5\"/>\n<text text-anchor=\"middle\" x=\"23750\" y=\"-238.3\" font-family=\"Helvetica,sans-Serif\" font-size=\"14.00\">squared_error = 0.0</text>\n<text text-anchor=\"middle\" x=\"23750\" y=\"-223.3\" font-family=\"Helvetica,sans-Serif\" font-size=\"14.00\">samples = 1</text>\n<text text-anchor=\"middle\" x=\"23750\" y=\"-208.3\" font-family=\"Helvetica,sans-Serif\" font-size=\"14.00\">value = 2237.03</text>\n</g>\n<!-- 242&#45;&gt;243 -->\n<g id=\"edge243\" class=\"edge\">\n<title>242&#45;&gt;243</title>\n<path fill=\"none\" stroke=\"black\" d=\"M23879.66,-296.88C23856.27,-284.46 23829.82,-270.41 23806.94,-258.25\"/>\n<polygon fill=\"black\" stroke=\"black\" points=\"23808.51,-255.12 23798.04,-253.52 23805.23,-261.3 23808.51,-255.12\"/>\n</g>\n<!-- 244 -->\n<g id=\"node245\" class=\"node\">\n<title>244</title>\n<polygon fill=\"#fbeee4\" stroke=\"black\" points=\"24047.5,-253.5 23836.5,-253.5 23836.5,-200.5 24047.5,-200.5 24047.5,-253.5\"/>\n<text text-anchor=\"middle\" x=\"23942\" y=\"-238.3\" font-family=\"Helvetica,sans-Serif\" font-size=\"14.00\">squared_error = 290812111.246</text>\n<text text-anchor=\"middle\" x=\"23942\" y=\"-223.3\" font-family=\"Helvetica,sans-Serif\" font-size=\"14.00\">samples = 3</text>\n<text text-anchor=\"middle\" x=\"23942\" y=\"-208.3\" font-family=\"Helvetica,sans-Serif\" font-size=\"14.00\">value = 34058.747</text>\n</g>\n<!-- 242&#45;&gt;244 -->\n<g id=\"edge244\" class=\"edge\">\n<title>242&#45;&gt;244</title>\n<path fill=\"none\" stroke=\"black\" d=\"M23942,-296.88C23942,-286.33 23942,-274.6 23942,-263.85\"/>\n<polygon fill=\"black\" stroke=\"black\" points=\"23945.5,-263.52 23942,-253.52 23938.5,-263.52 23945.5,-263.52\"/>\n</g>\n<!-- 246 -->\n<g id=\"node247\" class=\"node\">\n<title>246</title>\n<polygon fill=\"#fefcfa\" stroke=\"black\" points=\"24268.5,-261 24065.5,-261 24065.5,-193 24268.5,-193 24268.5,-261\"/>\n<text text-anchor=\"middle\" x=\"24167\" y=\"-245.8\" font-family=\"Helvetica,sans-Serif\" font-size=\"14.00\">tempo_emprego &lt;= 18.619</text>\n<text text-anchor=\"middle\" x=\"24167\" y=\"-230.8\" font-family=\"Helvetica,sans-Serif\" font-size=\"14.00\">squared_error = 29146831.071</text>\n<text text-anchor=\"middle\" x=\"24167\" y=\"-215.8\" font-family=\"Helvetica,sans-Serif\" font-size=\"14.00\">samples = 394</text>\n<text text-anchor=\"middle\" x=\"24167\" y=\"-200.8\" font-family=\"Helvetica,sans-Serif\" font-size=\"14.00\">value = 7114.637</text>\n</g>\n<!-- 245&#45;&gt;246 -->\n<g id=\"edge246\" class=\"edge\">\n<title>245&#45;&gt;246</title>\n<path fill=\"none\" stroke=\"black\" d=\"M24256.82,-296.88C24244.62,-287.53 24231.23,-277.26 24218.59,-267.57\"/>\n<polygon fill=\"black\" stroke=\"black\" points=\"24220.48,-264.61 24210.42,-261.3 24216.22,-270.16 24220.48,-264.61\"/>\n</g>\n<!-- 253 -->\n<g id=\"node254\" class=\"node\">\n<title>253</title>\n<polygon fill=\"#fefaf7\" stroke=\"black\" points=\"24508.5,-261 24305.5,-261 24305.5,-193 24508.5,-193 24508.5,-261\"/>\n<text text-anchor=\"middle\" x=\"24407\" y=\"-245.8\" font-family=\"Helvetica,sans-Serif\" font-size=\"14.00\">idade &lt;= 41.5</text>\n<text text-anchor=\"middle\" x=\"24407\" y=\"-230.8\" font-family=\"Helvetica,sans-Serif\" font-size=\"14.00\">squared_error = 82365900.064</text>\n<text text-anchor=\"middle\" x=\"24407\" y=\"-215.8\" font-family=\"Helvetica,sans-Serif\" font-size=\"14.00\">samples = 222</text>\n<text text-anchor=\"middle\" x=\"24407\" y=\"-200.8\" font-family=\"Helvetica,sans-Serif\" font-size=\"14.00\">value = 10261.487</text>\n</g>\n<!-- 245&#45;&gt;253 -->\n<g id=\"edge253\" class=\"edge\">\n<title>245&#45;&gt;253</title>\n<path fill=\"none\" stroke=\"black\" d=\"M24334.74,-296.88C24344.27,-287.8 24354.71,-277.85 24364.62,-268.4\"/>\n<polygon fill=\"black\" stroke=\"black\" points=\"24367.25,-270.73 24372.07,-261.3 24362.42,-265.67 24367.25,-270.73\"/>\n</g>\n<!-- 247 -->\n<g id=\"node248\" class=\"node\">\n<title>247</title>\n<polygon fill=\"#fefcfb\" stroke=\"black\" points=\"23803.5,-157 23600.5,-157 23600.5,-89 23803.5,-89 23803.5,-157\"/>\n<text text-anchor=\"middle\" x=\"23702\" y=\"-141.8\" font-family=\"Helvetica,sans-Serif\" font-size=\"14.00\">idade &lt;= 53.5</text>\n<text text-anchor=\"middle\" x=\"23702\" y=\"-126.8\" font-family=\"Helvetica,sans-Serif\" font-size=\"14.00\">squared_error = 19598230.339</text>\n<text text-anchor=\"middle\" x=\"23702\" y=\"-111.8\" font-family=\"Helvetica,sans-Serif\" font-size=\"14.00\">samples = 104</text>\n<text text-anchor=\"middle\" x=\"23702\" y=\"-96.8\" font-family=\"Helvetica,sans-Serif\" font-size=\"14.00\">value = 5832.575</text>\n</g>\n<!-- 246&#45;&gt;247 -->\n<g id=\"edge247\" class=\"edge\">\n<title>246&#45;&gt;247</title>\n<path fill=\"none\" stroke=\"black\" d=\"M24065.48,-195.39C24062.29,-194.57 24059.12,-193.77 24056,-193 23975.58,-173.26 23883.78,-155.5 23813.82,-142.94\"/>\n<polygon fill=\"black\" stroke=\"black\" points=\"23814.12,-139.44 23803.66,-141.13 23812.89,-146.33 23814.12,-139.44\"/>\n</g>\n<!-- 250 -->\n<g id=\"node251\" class=\"node\">\n<title>250</title>\n<polygon fill=\"#fefbf9\" stroke=\"black\" points=\"24245.5,-157 24042.5,-157 24042.5,-89 24245.5,-89 24245.5,-157\"/>\n<text text-anchor=\"middle\" x=\"24144\" y=\"-141.8\" font-family=\"Helvetica,sans-Serif\" font-size=\"14.00\">tempo_emprego &lt;= 18.77</text>\n<text text-anchor=\"middle\" x=\"24144\" y=\"-126.8\" font-family=\"Helvetica,sans-Serif\" font-size=\"14.00\">squared_error = 31770305.677</text>\n<text text-anchor=\"middle\" x=\"24144\" y=\"-111.8\" font-family=\"Helvetica,sans-Serif\" font-size=\"14.00\">samples = 290</text>\n<text text-anchor=\"middle\" x=\"24144\" y=\"-96.8\" font-family=\"Helvetica,sans-Serif\" font-size=\"14.00\">value = 7574.411</text>\n</g>\n<!-- 246&#45;&gt;250 -->\n<g id=\"edge250\" class=\"edge\">\n<title>246&#45;&gt;250</title>\n<path fill=\"none\" stroke=\"black\" d=\"M24159.53,-192.88C24157.68,-184.69 24155.68,-175.79 24153.74,-167.19\"/>\n<polygon fill=\"black\" stroke=\"black\" points=\"24157.12,-166.28 24151.51,-157.3 24150.29,-167.82 24157.12,-166.28\"/>\n</g>\n<!-- 248 -->\n<g id=\"node249\" class=\"node\">\n<title>248</title>\n<polygon fill=\"#fffdfb\" stroke=\"black\" points=\"23582.5,-53 23379.5,-53 23379.5,0 23582.5,0 23582.5,-53\"/>\n<text text-anchor=\"middle\" x=\"23481\" y=\"-37.8\" font-family=\"Helvetica,sans-Serif\" font-size=\"14.00\">squared_error = 19008899.089</text>\n<text text-anchor=\"middle\" x=\"23481\" y=\"-22.8\" font-family=\"Helvetica,sans-Serif\" font-size=\"14.00\">samples = 90</text>\n<text text-anchor=\"middle\" x=\"23481\" y=\"-7.8\" font-family=\"Helvetica,sans-Serif\" font-size=\"14.00\">value = 5349.441</text>\n</g>\n<!-- 247&#45;&gt;248 -->\n<g id=\"edge248\" class=\"edge\">\n<title>247&#45;&gt;248</title>\n<path fill=\"none\" stroke=\"black\" d=\"M23624.7,-88.95C23600.42,-78.56 23573.78,-67.17 23550.1,-57.05\"/>\n<polygon fill=\"black\" stroke=\"black\" points=\"23551.41,-53.8 23540.84,-53.09 23548.66,-60.24 23551.41,-53.8\"/>\n</g>\n<!-- 249 -->\n<g id=\"node250\" class=\"node\">\n<title>249</title>\n<polygon fill=\"#fefbf8\" stroke=\"black\" points=\"23803.5,-53 23600.5,-53 23600.5,0 23803.5,0 23803.5,-53\"/>\n<text text-anchor=\"middle\" x=\"23702\" y=\"-37.8\" font-family=\"Helvetica,sans-Serif\" font-size=\"14.00\">squared_error = 12239893.914</text>\n<text text-anchor=\"middle\" x=\"23702\" y=\"-22.8\" font-family=\"Helvetica,sans-Serif\" font-size=\"14.00\">samples = 14</text>\n<text text-anchor=\"middle\" x=\"23702\" y=\"-7.8\" font-family=\"Helvetica,sans-Serif\" font-size=\"14.00\">value = 8938.432</text>\n</g>\n<!-- 247&#45;&gt;249 -->\n<g id=\"edge249\" class=\"edge\">\n<title>247&#45;&gt;249</title>\n<path fill=\"none\" stroke=\"black\" d=\"M23702,-88.95C23702,-80.72 23702,-71.85 23702,-63.48\"/>\n<polygon fill=\"black\" stroke=\"black\" points=\"23705.5,-63.24 23702,-53.24 23698.5,-63.24 23705.5,-63.24\"/>\n</g>\n<!-- 251 -->\n<g id=\"node252\" class=\"node\">\n<title>251</title>\n<polygon fill=\"#fdf8f3\" stroke=\"black\" points=\"24024.5,-53 23821.5,-53 23821.5,0 24024.5,0 24024.5,-53\"/>\n<text text-anchor=\"middle\" x=\"23923\" y=\"-37.8\" font-family=\"Helvetica,sans-Serif\" font-size=\"14.00\">squared_error = 35483248.326</text>\n<text text-anchor=\"middle\" x=\"23923\" y=\"-22.8\" font-family=\"Helvetica,sans-Serif\" font-size=\"14.00\">samples = 5</text>\n<text text-anchor=\"middle\" x=\"23923\" y=\"-7.8\" font-family=\"Helvetica,sans-Serif\" font-size=\"14.00\">value = 15116.454</text>\n</g>\n<!-- 250&#45;&gt;251 -->\n<g id=\"edge251\" class=\"edge\">\n<title>250&#45;&gt;251</title>\n<path fill=\"none\" stroke=\"black\" d=\"M24066.7,-88.95C24042.42,-78.56 24015.78,-67.17 23992.1,-57.05\"/>\n<polygon fill=\"black\" stroke=\"black\" points=\"23993.41,-53.8 23982.84,-53.09 23990.66,-60.24 23993.41,-53.8\"/>\n</g>\n<!-- 252 -->\n<g id=\"node253\" class=\"node\">\n<title>252</title>\n<polygon fill=\"#fefcfa\" stroke=\"black\" points=\"24245.5,-53 24042.5,-53 24042.5,0 24245.5,0 24245.5,-53\"/>\n<text text-anchor=\"middle\" x=\"24144\" y=\"-37.8\" font-family=\"Helvetica,sans-Serif\" font-size=\"14.00\">squared_error = 30689721.591</text>\n<text text-anchor=\"middle\" x=\"24144\" y=\"-22.8\" font-family=\"Helvetica,sans-Serif\" font-size=\"14.00\">samples = 285</text>\n<text text-anchor=\"middle\" x=\"24144\" y=\"-7.8\" font-family=\"Helvetica,sans-Serif\" font-size=\"14.00\">value = 7442.094</text>\n</g>\n<!-- 250&#45;&gt;252 -->\n<g id=\"edge252\" class=\"edge\">\n<title>250&#45;&gt;252</title>\n<path fill=\"none\" stroke=\"black\" d=\"M24144,-88.95C24144,-80.72 24144,-71.85 24144,-63.48\"/>\n<polygon fill=\"black\" stroke=\"black\" points=\"24147.5,-63.24 24144,-53.24 24140.5,-63.24 24147.5,-63.24\"/>\n</g>\n<!-- 254 -->\n<g id=\"node255\" class=\"node\">\n<title>254</title>\n<polygon fill=\"#fbeee4\" stroke=\"black\" points=\"24512.5,-157 24301.5,-157 24301.5,-89 24512.5,-89 24512.5,-157\"/>\n<text text-anchor=\"middle\" x=\"24407\" y=\"-141.8\" font-family=\"Helvetica,sans-Serif\" font-size=\"14.00\">posse_de_imovel_True &lt;= 0.5</text>\n<text text-anchor=\"middle\" x=\"24407\" y=\"-126.8\" font-family=\"Helvetica,sans-Serif\" font-size=\"14.00\">squared_error = 228116113.683</text>\n<text text-anchor=\"middle\" x=\"24407\" y=\"-111.8\" font-family=\"Helvetica,sans-Serif\" font-size=\"14.00\">samples = 3</text>\n<text text-anchor=\"middle\" x=\"24407\" y=\"-96.8\" font-family=\"Helvetica,sans-Serif\" font-size=\"14.00\">value = 34102.143</text>\n</g>\n<!-- 253&#45;&gt;254 -->\n<g id=\"edge254\" class=\"edge\">\n<title>253&#45;&gt;254</title>\n<path fill=\"none\" stroke=\"black\" d=\"M24407,-192.88C24407,-184.78 24407,-175.98 24407,-167.47\"/>\n<polygon fill=\"black\" stroke=\"black\" points=\"24410.5,-167.3 24407,-157.3 24403.5,-167.3 24410.5,-167.3\"/>\n</g>\n<!-- 257 -->\n<g id=\"node258\" class=\"node\">\n<title>257</title>\n<polygon fill=\"#fefaf8\" stroke=\"black\" points=\"24775.5,-157 24572.5,-157 24572.5,-89 24775.5,-89 24775.5,-157\"/>\n<text text-anchor=\"middle\" x=\"24674\" y=\"-141.8\" font-family=\"Helvetica,sans-Serif\" font-size=\"14.00\">tempo_emprego &lt;= 23.784</text>\n<text text-anchor=\"middle\" x=\"24674\" y=\"-126.8\" font-family=\"Helvetica,sans-Serif\" font-size=\"14.00\">squared_error = 72476679.781</text>\n<text text-anchor=\"middle\" x=\"24674\" y=\"-111.8\" font-family=\"Helvetica,sans-Serif\" font-size=\"14.00\">samples = 219</text>\n<text text-anchor=\"middle\" x=\"24674\" y=\"-96.8\" font-family=\"Helvetica,sans-Serif\" font-size=\"14.00\">value = 9934.903</text>\n</g>\n<!-- 253&#45;&gt;257 -->\n<g id=\"edge257\" class=\"edge\">\n<title>253&#45;&gt;257</title>\n<path fill=\"none\" stroke=\"black\" d=\"M24493.69,-192.88C24520.52,-182.63 24550.24,-171.28 24577.69,-160.79\"/>\n<polygon fill=\"black\" stroke=\"black\" points=\"24579.2,-163.96 24587.29,-157.12 24576.7,-157.42 24579.2,-163.96\"/>\n</g>\n<!-- 255 -->\n<g id=\"node256\" class=\"node\">\n<title>255</title>\n<polygon fill=\"#fae8db\" stroke=\"black\" points=\"24400,-53 24264,-53 24264,0 24400,0 24400,-53\"/>\n<text text-anchor=\"middle\" x=\"24332\" y=\"-37.8\" font-family=\"Helvetica,sans-Serif\" font-size=\"14.00\">squared_error = 0.0</text>\n<text text-anchor=\"middle\" x=\"24332\" y=\"-22.8\" font-family=\"Helvetica,sans-Serif\" font-size=\"14.00\">samples = 2</text>\n<text text-anchor=\"middle\" x=\"24332\" y=\"-7.8\" font-family=\"Helvetica,sans-Serif\" font-size=\"14.00\">value = 44781.94</text>\n</g>\n<!-- 254&#45;&gt;255 -->\n<g id=\"edge255\" class=\"edge\">\n<title>254&#45;&gt;255</title>\n<path fill=\"none\" stroke=\"black\" d=\"M24380.77,-88.95C24373.65,-79.98 24365.94,-70.27 24358.8,-61.26\"/>\n<polygon fill=\"black\" stroke=\"black\" points=\"24361.38,-58.89 24352.43,-53.24 24355.9,-63.25 24361.38,-58.89\"/>\n</g>\n<!-- 256 -->\n<g id=\"node257\" class=\"node\">\n<title>256</title>\n<polygon fill=\"#fef9f5\" stroke=\"black\" points=\"24558,-53 24418,-53 24418,0 24558,0 24558,-53\"/>\n<text text-anchor=\"middle\" x=\"24488\" y=\"-37.8\" font-family=\"Helvetica,sans-Serif\" font-size=\"14.00\">squared_error = &#45;0.0</text>\n<text text-anchor=\"middle\" x=\"24488\" y=\"-22.8\" font-family=\"Helvetica,sans-Serif\" font-size=\"14.00\">samples = 1</text>\n<text text-anchor=\"middle\" x=\"24488\" y=\"-7.8\" font-family=\"Helvetica,sans-Serif\" font-size=\"14.00\">value = 12742.55</text>\n</g>\n<!-- 254&#45;&gt;256 -->\n<g id=\"edge256\" class=\"edge\">\n<title>254&#45;&gt;256</title>\n<path fill=\"none\" stroke=\"black\" d=\"M24435.33,-88.95C24443.09,-79.89 24451.51,-70.07 24459.3,-60.99\"/>\n<polygon fill=\"black\" stroke=\"black\" points=\"24462.09,-63.11 24465.94,-53.24 24456.77,-58.55 24462.09,-63.11\"/>\n</g>\n<!-- 258 -->\n<g id=\"node259\" class=\"node\">\n<title>258</title>\n<polygon fill=\"#fdf7f3\" stroke=\"black\" points=\"24779.5,-53 24576.5,-53 24576.5,0 24779.5,0 24779.5,-53\"/>\n<text text-anchor=\"middle\" x=\"24678\" y=\"-37.8\" font-family=\"Helvetica,sans-Serif\" font-size=\"14.00\">squared_error = 76066784.523</text>\n<text text-anchor=\"middle\" x=\"24678\" y=\"-22.8\" font-family=\"Helvetica,sans-Serif\" font-size=\"14.00\">samples = 18</text>\n<text text-anchor=\"middle\" x=\"24678\" y=\"-7.8\" font-family=\"Helvetica,sans-Serif\" font-size=\"14.00\">value = 15687.741</text>\n</g>\n<!-- 257&#45;&gt;258 -->\n<g id=\"edge258\" class=\"edge\">\n<title>257&#45;&gt;258</title>\n<path fill=\"none\" stroke=\"black\" d=\"M24675.4,-88.95C24675.75,-80.72 24676.12,-71.85 24676.48,-63.48\"/>\n<polygon fill=\"black\" stroke=\"black\" points=\"24679.98,-63.38 24676.91,-53.24 24672.99,-63.08 24679.98,-63.38\"/>\n</g>\n<!-- 259 -->\n<g id=\"node260\" class=\"node\">\n<title>259</title>\n<polygon fill=\"#fefbf8\" stroke=\"black\" points=\"25000.5,-53 24797.5,-53 24797.5,0 25000.5,0 25000.5,-53\"/>\n<text text-anchor=\"middle\" x=\"24899\" y=\"-37.8\" font-family=\"Helvetica,sans-Serif\" font-size=\"14.00\">squared_error = 68926023.378</text>\n<text text-anchor=\"middle\" x=\"24899\" y=\"-22.8\" font-family=\"Helvetica,sans-Serif\" font-size=\"14.00\">samples = 201</text>\n<text text-anchor=\"middle\" x=\"24899\" y=\"-7.8\" font-family=\"Helvetica,sans-Serif\" font-size=\"14.00\">value = 9419.723</text>\n</g>\n<!-- 257&#45;&gt;259 -->\n<g id=\"edge259\" class=\"edge\">\n<title>257&#45;&gt;259</title>\n<path fill=\"none\" stroke=\"black\" d=\"M24752.69,-88.95C24777.42,-78.56 24804.54,-67.17 24828.65,-57.05\"/>\n<polygon fill=\"black\" stroke=\"black\" points=\"24830.21,-60.19 24838.08,-53.09 24827.5,-53.73 24830.21,-60.19\"/>\n</g>\n<!-- 261 -->\n<g id=\"node262\" class=\"node\">\n<title>261</title>\n<polygon fill=\"#fefaf7\" stroke=\"black\" points=\"25329,-365 25133,-365 25133,-297 25329,-297 25329,-365\"/>\n<text text-anchor=\"middle\" x=\"25231\" y=\"-349.8\" font-family=\"Helvetica,sans-Serif\" font-size=\"14.00\">estado_civil_Solteiro &lt;= 0.5</text>\n<text text-anchor=\"middle\" x=\"25231\" y=\"-334.8\" font-family=\"Helvetica,sans-Serif\" font-size=\"14.00\">squared_error = 58569931.07</text>\n<text text-anchor=\"middle\" x=\"25231\" y=\"-319.8\" font-family=\"Helvetica,sans-Serif\" font-size=\"14.00\">samples = 20</text>\n<text text-anchor=\"middle\" x=\"25231\" y=\"-304.8\" font-family=\"Helvetica,sans-Serif\" font-size=\"14.00\">value = 10162.354</text>\n</g>\n<!-- 260&#45;&gt;261 -->\n<g id=\"edge261\" class=\"edge\">\n<title>260&#45;&gt;261</title>\n<path fill=\"none\" stroke=\"black\" d=\"M25231,-400.88C25231,-392.78 25231,-383.98 25231,-375.47\"/>\n<polygon fill=\"black\" stroke=\"black\" points=\"25234.5,-375.3 25231,-365.3 25227.5,-375.3 25234.5,-375.3\"/>\n</g>\n<!-- 270 -->\n<g id=\"node271\" class=\"node\">\n<title>270</title>\n<polygon fill=\"#fdf6f1\" stroke=\"black\" points=\"25671.5,-365 25460.5,-365 25460.5,-297 25671.5,-297 25671.5,-365\"/>\n<text text-anchor=\"middle\" x=\"25566\" y=\"-349.8\" font-family=\"Helvetica,sans-Serif\" font-size=\"14.00\">tempo_emprego &lt;= 31.653</text>\n<text text-anchor=\"middle\" x=\"25566\" y=\"-334.8\" font-family=\"Helvetica,sans-Serif\" font-size=\"14.00\">squared_error = 199070394.674</text>\n<text text-anchor=\"middle\" x=\"25566\" y=\"-319.8\" font-family=\"Helvetica,sans-Serif\" font-size=\"14.00\">samples = 69</text>\n<text text-anchor=\"middle\" x=\"25566\" y=\"-304.8\" font-family=\"Helvetica,sans-Serif\" font-size=\"14.00\">value = 18018.338</text>\n</g>\n<!-- 260&#45;&gt;270 -->\n<g id=\"edge270\" class=\"edge\">\n<title>260&#45;&gt;270</title>\n<path fill=\"none\" stroke=\"black\" d=\"M25336.54,-401.87C25372.8,-390.82 25413.58,-378.41 25450.59,-367.14\"/>\n<polygon fill=\"black\" stroke=\"black\" points=\"25451.87,-370.41 25460.42,-364.15 25449.83,-363.71 25451.87,-370.41\"/>\n</g>\n<!-- 262 -->\n<g id=\"node263\" class=\"node\">\n<title>262</title>\n<polygon fill=\"#fef9f6\" stroke=\"black\" points=\"25221.5,-261 25018.5,-261 25018.5,-193 25221.5,-193 25221.5,-261\"/>\n<text text-anchor=\"middle\" x=\"25120\" y=\"-245.8\" font-family=\"Helvetica,sans-Serif\" font-size=\"14.00\">tipo_residencia_Casa &lt;= 0.5</text>\n<text text-anchor=\"middle\" x=\"25120\" y=\"-230.8\" font-family=\"Helvetica,sans-Serif\" font-size=\"14.00\">squared_error = 64655527.754</text>\n<text text-anchor=\"middle\" x=\"25120\" y=\"-215.8\" font-family=\"Helvetica,sans-Serif\" font-size=\"14.00\">samples = 15</text>\n<text text-anchor=\"middle\" x=\"25120\" y=\"-200.8\" font-family=\"Helvetica,sans-Serif\" font-size=\"14.00\">value = 11734.869</text>\n</g>\n<!-- 261&#45;&gt;262 -->\n<g id=\"edge262\" class=\"edge\">\n<title>261&#45;&gt;262</title>\n<path fill=\"none\" stroke=\"black\" d=\"M25194.96,-296.88C25184.98,-287.71 25174.03,-277.65 25163.66,-268.12\"/>\n<polygon fill=\"black\" stroke=\"black\" points=\"25165.97,-265.49 25156.24,-261.3 25161.23,-270.64 25165.97,-265.49\"/>\n</g>\n<!-- 267 -->\n<g id=\"node268\" class=\"node\">\n<title>267</title>\n<polygon fill=\"#fefdfb\" stroke=\"black\" points=\"25442.5,-261 25239.5,-261 25239.5,-193 25442.5,-193 25442.5,-261\"/>\n<text text-anchor=\"middle\" x=\"25341\" y=\"-245.8\" font-family=\"Helvetica,sans-Serif\" font-size=\"14.00\">idade &lt;= 54.0</text>\n<text text-anchor=\"middle\" x=\"25341\" y=\"-230.8\" font-family=\"Helvetica,sans-Serif\" font-size=\"14.00\">squared_error = 10639468.464</text>\n<text text-anchor=\"middle\" x=\"25341\" y=\"-215.8\" font-family=\"Helvetica,sans-Serif\" font-size=\"14.00\">samples = 5</text>\n<text text-anchor=\"middle\" x=\"25341\" y=\"-200.8\" font-family=\"Helvetica,sans-Serif\" font-size=\"14.00\">value = 5444.806</text>\n</g>\n<!-- 261&#45;&gt;267 -->\n<g id=\"edge267\" class=\"edge\">\n<title>261&#45;&gt;267</title>\n<path fill=\"none\" stroke=\"black\" d=\"M25266.71,-296.88C25276.61,-287.71 25287.46,-277.65 25297.73,-268.12\"/>\n<polygon fill=\"black\" stroke=\"black\" points=\"25300.14,-270.67 25305.09,-261.3 25295.38,-265.53 25300.14,-270.67\"/>\n</g>\n<!-- 263 -->\n<g id=\"node264\" class=\"node\">\n<title>263</title>\n<polygon fill=\"#fdf7f3\" stroke=\"black\" points=\"25004.5,-149.5 24793.5,-149.5 24793.5,-96.5 25004.5,-96.5 25004.5,-149.5\"/>\n<text text-anchor=\"middle\" x=\"24899\" y=\"-134.3\" font-family=\"Helvetica,sans-Serif\" font-size=\"14.00\">squared_error = 145922382.076</text>\n<text text-anchor=\"middle\" x=\"24899\" y=\"-119.3\" font-family=\"Helvetica,sans-Serif\" font-size=\"14.00\">samples = 4</text>\n<text text-anchor=\"middle\" x=\"24899\" y=\"-104.3\" font-family=\"Helvetica,sans-Serif\" font-size=\"14.00\">value = 15464.152</text>\n</g>\n<!-- 262&#45;&gt;263 -->\n<g id=\"edge263\" class=\"edge\">\n<title>262&#45;&gt;263</title>\n<path fill=\"none\" stroke=\"black\" d=\"M25048.25,-192.88C25020.96,-180.29 24990.07,-166.03 24963.5,-153.77\"/>\n<polygon fill=\"black\" stroke=\"black\" points=\"24964.84,-150.53 24954.29,-149.52 24961.91,-156.89 24964.84,-150.53\"/>\n</g>\n<!-- 264 -->\n<g id=\"node265\" class=\"node\">\n<title>264</title>\n<polygon fill=\"#fefaf7\" stroke=\"black\" points=\"25225.5,-157 25022.5,-157 25022.5,-89 25225.5,-89 25225.5,-157\"/>\n<text text-anchor=\"middle\" x=\"25124\" y=\"-141.8\" font-family=\"Helvetica,sans-Serif\" font-size=\"14.00\">estado_civil_Separado &lt;= 0.5</text>\n<text text-anchor=\"middle\" x=\"25124\" y=\"-126.8\" font-family=\"Helvetica,sans-Serif\" font-size=\"14.00\">squared_error = 28207637.122</text>\n<text text-anchor=\"middle\" x=\"25124\" y=\"-111.8\" font-family=\"Helvetica,sans-Serif\" font-size=\"14.00\">samples = 11</text>\n<text text-anchor=\"middle\" x=\"25124\" y=\"-96.8\" font-family=\"Helvetica,sans-Serif\" font-size=\"14.00\">value = 10378.766</text>\n</g>\n<!-- 262&#45;&gt;264 -->\n<g id=\"edge264\" class=\"edge\">\n<title>262&#45;&gt;264</title>\n<path fill=\"none\" stroke=\"black\" d=\"M25121.3,-192.88C25121.62,-184.78 25121.96,-175.98 25122.3,-167.47\"/>\n<polygon fill=\"black\" stroke=\"black\" points=\"25125.8,-167.43 25122.69,-157.3 25118.8,-167.15 25125.8,-167.43\"/>\n</g>\n<!-- 265 -->\n<g id=\"node266\" class=\"node\">\n<title>265</title>\n<polygon fill=\"#fefcfa\" stroke=\"black\" points=\"25221.5,-53 25018.5,-53 25018.5,0 25221.5,0 25221.5,-53\"/>\n<text text-anchor=\"middle\" x=\"25120\" y=\"-37.8\" font-family=\"Helvetica,sans-Serif\" font-size=\"14.00\">squared_error = 10160560.662</text>\n<text text-anchor=\"middle\" x=\"25120\" y=\"-22.8\" font-family=\"Helvetica,sans-Serif\" font-size=\"14.00\">samples = 4</text>\n<text text-anchor=\"middle\" x=\"25120\" y=\"-7.8\" font-family=\"Helvetica,sans-Serif\" font-size=\"14.00\">value = 6955.442</text>\n</g>\n<!-- 264&#45;&gt;265 -->\n<g id=\"edge265\" class=\"edge\">\n<title>264&#45;&gt;265</title>\n<path fill=\"none\" stroke=\"black\" d=\"M25122.6,-88.95C25122.25,-80.72 25121.88,-71.85 25121.52,-63.48\"/>\n<polygon fill=\"black\" stroke=\"black\" points=\"25125.01,-63.08 25121.09,-53.24 25118.02,-63.38 25125.01,-63.08\"/>\n</g>\n<!-- 266 -->\n<g id=\"node267\" class=\"node\">\n<title>266</title>\n<polygon fill=\"#fef9f6\" stroke=\"black\" points=\"25435,-53 25239,-53 25239,0 25435,0 25435,-53\"/>\n<text text-anchor=\"middle\" x=\"25337\" y=\"-37.8\" font-family=\"Helvetica,sans-Serif\" font-size=\"14.00\">squared_error = 27996937.22</text>\n<text text-anchor=\"middle\" x=\"25337\" y=\"-22.8\" font-family=\"Helvetica,sans-Serif\" font-size=\"14.00\">samples = 7</text>\n<text text-anchor=\"middle\" x=\"25337\" y=\"-7.8\" font-family=\"Helvetica,sans-Serif\" font-size=\"14.00\">value = 12334.951</text>\n</g>\n<!-- 264&#45;&gt;266 -->\n<g id=\"edge266\" class=\"edge\">\n<title>264&#45;&gt;266</title>\n<path fill=\"none\" stroke=\"black\" d=\"M25198.5,-88.95C25221.8,-78.61 25247.35,-67.27 25270.1,-57.18\"/>\n<polygon fill=\"black\" stroke=\"black\" points=\"25271.61,-60.34 25279.33,-53.09 25268.77,-53.94 25271.61,-60.34\"/>\n</g>\n<!-- 268 -->\n<g id=\"node269\" class=\"node\">\n<title>268</title>\n<polygon fill=\"#fefcfb\" stroke=\"black\" points=\"25439,-149.5 25243,-149.5 25243,-96.5 25439,-96.5 25439,-149.5\"/>\n<text text-anchor=\"middle\" x=\"25341\" y=\"-134.3\" font-family=\"Helvetica,sans-Serif\" font-size=\"14.00\">squared_error = 13070341.67</text>\n<text text-anchor=\"middle\" x=\"25341\" y=\"-119.3\" font-family=\"Helvetica,sans-Serif\" font-size=\"14.00\">samples = 4</text>\n<text text-anchor=\"middle\" x=\"25341\" y=\"-104.3\" font-family=\"Helvetica,sans-Serif\" font-size=\"14.00\">value = 5658.812</text>\n</g>\n<!-- 267&#45;&gt;268 -->\n<g id=\"edge268\" class=\"edge\">\n<title>267&#45;&gt;268</title>\n<path fill=\"none\" stroke=\"black\" d=\"M25341,-192.88C25341,-182.33 25341,-170.6 25341,-159.85\"/>\n<polygon fill=\"black\" stroke=\"black\" points=\"25344.5,-159.52 25341,-149.52 25337.5,-159.52 25344.5,-159.52\"/>\n</g>\n<!-- 269 -->\n<g id=\"node270\" class=\"node\">\n<title>269</title>\n<polygon fill=\"#fffdfc\" stroke=\"black\" points=\"25593,-149.5 25457,-149.5 25457,-96.5 25593,-96.5 25593,-149.5\"/>\n<text text-anchor=\"middle\" x=\"25525\" y=\"-134.3\" font-family=\"Helvetica,sans-Serif\" font-size=\"14.00\">squared_error = 0.0</text>\n<text text-anchor=\"middle\" x=\"25525\" y=\"-119.3\" font-family=\"Helvetica,sans-Serif\" font-size=\"14.00\">samples = 1</text>\n<text text-anchor=\"middle\" x=\"25525\" y=\"-104.3\" font-family=\"Helvetica,sans-Serif\" font-size=\"14.00\">value = 4588.78</text>\n</g>\n<!-- 267&#45;&gt;269 -->\n<g id=\"edge269\" class=\"edge\">\n<title>267&#45;&gt;269</title>\n<path fill=\"none\" stroke=\"black\" d=\"M25400.74,-192.88C25423.06,-180.51 25448.28,-166.53 25470.14,-154.41\"/>\n<polygon fill=\"black\" stroke=\"black\" points=\"25471.91,-157.43 25478.96,-149.52 25468.52,-151.31 25471.91,-157.43\"/>\n</g>\n<!-- 271 -->\n<g id=\"node272\" class=\"node\">\n<title>271</title>\n<polygon fill=\"#fae5d6\" stroke=\"black\" points=\"25671.5,-253.5 25460.5,-253.5 25460.5,-200.5 25671.5,-200.5 25671.5,-253.5\"/>\n<text text-anchor=\"middle\" x=\"25566\" y=\"-238.3\" font-family=\"Helvetica,sans-Serif\" font-size=\"14.00\">squared_error = 214966766.445</text>\n<text text-anchor=\"middle\" x=\"25566\" y=\"-223.3\" font-family=\"Helvetica,sans-Serif\" font-size=\"14.00\">samples = 2</text>\n<text text-anchor=\"middle\" x=\"25566\" y=\"-208.3\" font-family=\"Helvetica,sans-Serif\" font-size=\"14.00\">value = 51794.185</text>\n</g>\n<!-- 270&#45;&gt;271 -->\n<g id=\"edge271\" class=\"edge\">\n<title>270&#45;&gt;271</title>\n<path fill=\"none\" stroke=\"black\" d=\"M25566,-296.88C25566,-286.33 25566,-274.6 25566,-263.85\"/>\n<polygon fill=\"black\" stroke=\"black\" points=\"25569.5,-263.52 25566,-253.52 25562.5,-263.52 25569.5,-263.52\"/>\n</g>\n<!-- 272 -->\n<g id=\"node273\" class=\"node\">\n<title>272</title>\n<polygon fill=\"#fdf7f2\" stroke=\"black\" points=\"25892.5,-261 25689.5,-261 25689.5,-193 25892.5,-193 25892.5,-261\"/>\n<text text-anchor=\"middle\" x=\"25791\" y=\"-245.8\" font-family=\"Helvetica,sans-Serif\" font-size=\"14.00\">estado_civil_Separado &lt;= 0.5</text>\n<text text-anchor=\"middle\" x=\"25791\" y=\"-230.8\" font-family=\"Helvetica,sans-Serif\" font-size=\"14.00\">squared_error = 163525373.48</text>\n<text text-anchor=\"middle\" x=\"25791\" y=\"-215.8\" font-family=\"Helvetica,sans-Serif\" font-size=\"14.00\">samples = 67</text>\n<text text-anchor=\"middle\" x=\"25791\" y=\"-200.8\" font-family=\"Helvetica,sans-Serif\" font-size=\"14.00\">value = 17010.103</text>\n</g>\n<!-- 270&#45;&gt;272 -->\n<g id=\"edge272\" class=\"edge\">\n<title>270&#45;&gt;272</title>\n<path fill=\"none\" stroke=\"black\" d=\"M25639.05,-296.88C25661.27,-286.81 25685.84,-275.67 25708.62,-265.34\"/>\n<polygon fill=\"black\" stroke=\"black\" points=\"25710.27,-268.44 25717.93,-261.12 25707.38,-262.07 25710.27,-268.44\"/>\n</g>\n<!-- 273 -->\n<g id=\"node274\" class=\"node\">\n<title>273</title>\n<polygon fill=\"#fdf8f3\" stroke=\"black\" points=\"25876.5,-157 25673.5,-157 25673.5,-89 25876.5,-89 25876.5,-157\"/>\n<text text-anchor=\"middle\" x=\"25775\" y=\"-141.8\" font-family=\"Helvetica,sans-Serif\" font-size=\"14.00\">idade &lt;= 56.5</text>\n<text text-anchor=\"middle\" x=\"25775\" y=\"-126.8\" font-family=\"Helvetica,sans-Serif\" font-size=\"14.00\">squared_error = 95440062.103</text>\n<text text-anchor=\"middle\" x=\"25775\" y=\"-111.8\" font-family=\"Helvetica,sans-Serif\" font-size=\"14.00\">samples = 60</text>\n<text text-anchor=\"middle\" x=\"25775\" y=\"-96.8\" font-family=\"Helvetica,sans-Serif\" font-size=\"14.00\">value = 15154.293</text>\n</g>\n<!-- 272&#45;&gt;273 -->\n<g id=\"edge273\" class=\"edge\">\n<title>272&#45;&gt;273</title>\n<path fill=\"none\" stroke=\"black\" d=\"M25785.81,-192.88C25784.52,-184.69 25783.12,-175.79 25781.78,-167.19\"/>\n<polygon fill=\"black\" stroke=\"black\" points=\"25785.23,-166.64 25780.22,-157.3 25778.32,-167.72 25785.23,-166.64\"/>\n</g>\n<!-- 276 -->\n<g id=\"node277\" class=\"node\">\n<title>276</title>\n<polygon fill=\"#fceee5\" stroke=\"black\" points=\"26121.5,-157 25894.5,-157 25894.5,-89 26121.5,-89 26121.5,-157\"/>\n<text text-anchor=\"middle\" x=\"26008\" y=\"-141.8\" font-family=\"Helvetica,sans-Serif\" font-size=\"14.00\">tipo_renda_Servidor público &lt;= 0.5</text>\n<text text-anchor=\"middle\" x=\"26008\" y=\"-126.8\" font-family=\"Helvetica,sans-Serif\" font-size=\"14.00\">squared_error = 464562575.674</text>\n<text text-anchor=\"middle\" x=\"26008\" y=\"-111.8\" font-family=\"Helvetica,sans-Serif\" font-size=\"14.00\">samples = 7</text>\n<text text-anchor=\"middle\" x=\"26008\" y=\"-96.8\" font-family=\"Helvetica,sans-Serif\" font-size=\"14.00\">value = 32917.049</text>\n</g>\n<!-- 272&#45;&gt;276 -->\n<g id=\"edge276\" class=\"edge\">\n<title>272&#45;&gt;276</title>\n<path fill=\"none\" stroke=\"black\" d=\"M25861.45,-192.88C25882.79,-182.86 25906.36,-171.77 25928.26,-161.48\"/>\n<polygon fill=\"black\" stroke=\"black\" points=\"25929.97,-164.55 25937.53,-157.12 25926.99,-158.21 25929.97,-164.55\"/>\n</g>\n<!-- 274 -->\n<g id=\"node275\" class=\"node\">\n<title>274</title>\n<polygon fill=\"#fefaf7\" stroke=\"black\" points=\"25655.5,-53 25452.5,-53 25452.5,0 25655.5,0 25655.5,-53\"/>\n<text text-anchor=\"middle\" x=\"25554\" y=\"-37.8\" font-family=\"Helvetica,sans-Serif\" font-size=\"14.00\">squared_error = 55410749.692</text>\n<text text-anchor=\"middle\" x=\"25554\" y=\"-22.8\" font-family=\"Helvetica,sans-Serif\" font-size=\"14.00\">samples = 19</text>\n<text text-anchor=\"middle\" x=\"25554\" y=\"-7.8\" font-family=\"Helvetica,sans-Serif\" font-size=\"14.00\">value = 10758.284</text>\n</g>\n<!-- 273&#45;&gt;274 -->\n<g id=\"edge274\" class=\"edge\">\n<title>273&#45;&gt;274</title>\n<path fill=\"none\" stroke=\"black\" d=\"M25697.7,-88.95C25673.42,-78.56 25646.78,-67.17 25623.1,-57.05\"/>\n<polygon fill=\"black\" stroke=\"black\" points=\"25624.41,-53.8 25613.84,-53.09 25621.66,-60.24 25624.41,-53.8\"/>\n</g>\n<!-- 275 -->\n<g id=\"node276\" class=\"node\">\n<title>275</title>\n<polygon fill=\"#fdf7f2\" stroke=\"black\" points=\"25884.5,-53 25673.5,-53 25673.5,0 25884.5,0 25884.5,-53\"/>\n<text text-anchor=\"middle\" x=\"25779\" y=\"-37.8\" font-family=\"Helvetica,sans-Serif\" font-size=\"14.00\">squared_error = 100884711.736</text>\n<text text-anchor=\"middle\" x=\"25779\" y=\"-22.8\" font-family=\"Helvetica,sans-Serif\" font-size=\"14.00\">samples = 41</text>\n<text text-anchor=\"middle\" x=\"25779\" y=\"-7.8\" font-family=\"Helvetica,sans-Serif\" font-size=\"14.00\">value = 17191.468</text>\n</g>\n<!-- 273&#45;&gt;275 -->\n<g id=\"edge275\" class=\"edge\">\n<title>273&#45;&gt;275</title>\n<path fill=\"none\" stroke=\"black\" d=\"M25776.4,-88.95C25776.75,-80.72 25777.12,-71.85 25777.48,-63.48\"/>\n<polygon fill=\"black\" stroke=\"black\" points=\"25780.98,-63.38 25777.91,-53.24 25773.99,-63.08 25780.98,-63.38\"/>\n</g>\n<!-- 277 -->\n<g id=\"node278\" class=\"node\">\n<title>277</title>\n<polygon fill=\"#fdf5ef\" stroke=\"black\" points=\"26105.5,-53 25902.5,-53 25902.5,0 26105.5,0 26105.5,-53\"/>\n<text text-anchor=\"middle\" x=\"26004\" y=\"-37.8\" font-family=\"Helvetica,sans-Serif\" font-size=\"14.00\">squared_error = 100770727.78</text>\n<text text-anchor=\"middle\" x=\"26004\" y=\"-22.8\" font-family=\"Helvetica,sans-Serif\" font-size=\"14.00\">samples = 5</text>\n<text text-anchor=\"middle\" x=\"26004\" y=\"-7.8\" font-family=\"Helvetica,sans-Serif\" font-size=\"14.00\">value = 20385.752</text>\n</g>\n<!-- 276&#45;&gt;277 -->\n<g id=\"edge277\" class=\"edge\">\n<title>276&#45;&gt;277</title>\n<path fill=\"none\" stroke=\"black\" d=\"M26006.6,-88.95C26006.25,-80.72 26005.88,-71.85 26005.52,-63.48\"/>\n<polygon fill=\"black\" stroke=\"black\" points=\"26009.01,-63.08 26005.09,-53.24 26002.02,-63.38 26009.01,-63.08\"/>\n</g>\n<!-- 278 -->\n<g id=\"node279\" class=\"node\">\n<title>278</title>\n<polygon fill=\"#f8decc\" stroke=\"black\" points=\"26264,-53 26124,-53 26124,0 26264,0 26264,-53\"/>\n<text text-anchor=\"middle\" x=\"26194\" y=\"-37.8\" font-family=\"Helvetica,sans-Serif\" font-size=\"14.00\">squared_error = &#45;0.0</text>\n<text text-anchor=\"middle\" x=\"26194\" y=\"-22.8\" font-family=\"Helvetica,sans-Serif\" font-size=\"14.00\">samples = 2</text>\n<text text-anchor=\"middle\" x=\"26194\" y=\"-7.8\" font-family=\"Helvetica,sans-Serif\" font-size=\"14.00\">value = 64245.29</text>\n</g>\n<!-- 276&#45;&gt;278 -->\n<g id=\"edge278\" class=\"edge\">\n<title>276&#45;&gt;278</title>\n<path fill=\"none\" stroke=\"black\" d=\"M26073.05,-88.95C26093.04,-78.79 26114.93,-67.67 26134.52,-57.72\"/>\n<polygon fill=\"black\" stroke=\"black\" points=\"26136.31,-60.74 26143.64,-53.09 26133.14,-54.5 26136.31,-60.74\"/>\n</g>\n<!-- 281 -->\n<g id=\"node282\" class=\"node\">\n<title>281</title>\n<polygon fill=\"#fcf0e7\" stroke=\"black\" points=\"28010.5,-573 27799.5,-573 27799.5,-505 28010.5,-505 28010.5,-573\"/>\n<text text-anchor=\"middle\" x=\"27905\" y=\"-557.8\" font-family=\"Helvetica,sans-Serif\" font-size=\"14.00\">tempo_emprego &lt;= 22.003</text>\n<text text-anchor=\"middle\" x=\"27905\" y=\"-542.8\" font-family=\"Helvetica,sans-Serif\" font-size=\"14.00\">squared_error = 734276862.036</text>\n<text text-anchor=\"middle\" x=\"27905\" y=\"-527.8\" font-family=\"Helvetica,sans-Serif\" font-size=\"14.00\">samples = 168</text>\n<text text-anchor=\"middle\" x=\"27905\" y=\"-512.8\" font-family=\"Helvetica,sans-Serif\" font-size=\"14.00\">value = 29834.035</text>\n</g>\n<!-- 280&#45;&gt;281 -->\n<g id=\"edge281\" class=\"edge\">\n<title>280&#45;&gt;281</title>\n<path fill=\"none\" stroke=\"black\" d=\"M27905,-608.88C27905,-600.78 27905,-591.98 27905,-583.47\"/>\n<polygon fill=\"black\" stroke=\"black\" points=\"27908.5,-583.3 27905,-573.3 27901.5,-583.3 27908.5,-583.3\"/>\n</g>\n<!-- 324 -->\n<g id=\"node325\" class=\"node\">\n<title>324</title>\n<polygon fill=\"#f5cfb4\" stroke=\"black\" points=\"29420,-573 29202,-573 29202,-505 29420,-505 29420,-573\"/>\n<text text-anchor=\"middle\" x=\"29311\" y=\"-557.8\" font-family=\"Helvetica,sans-Serif\" font-size=\"14.00\">idade &lt;= 57.5</text>\n<text text-anchor=\"middle\" x=\"29311\" y=\"-542.8\" font-family=\"Helvetica,sans-Serif\" font-size=\"14.00\">squared_error = 3087154905.069</text>\n<text text-anchor=\"middle\" x=\"29311\" y=\"-527.8\" font-family=\"Helvetica,sans-Serif\" font-size=\"14.00\">samples = 20</text>\n<text text-anchor=\"middle\" x=\"29311\" y=\"-512.8\" font-family=\"Helvetica,sans-Serif\" font-size=\"14.00\">value = 93452.734</text>\n</g>\n<!-- 280&#45;&gt;324 -->\n<g id=\"edge324\" class=\"edge\">\n<title>280&#45;&gt;324</title>\n<path fill=\"none\" stroke=\"black\" d=\"M28014.16,-634.08C28273.1,-615.3 28922.93,-568.15 29191.73,-548.65\"/>\n<polygon fill=\"black\" stroke=\"black\" points=\"29192.19,-552.13 29201.91,-547.91 29191.69,-545.15 29192.19,-552.13\"/>\n</g>\n<!-- 282 -->\n<g id=\"node283\" class=\"node\">\n<title>282</title>\n<polygon fill=\"#fcf2ea\" stroke=\"black\" points=\"27553.5,-469 27342.5,-469 27342.5,-401 27553.5,-401 27553.5,-469\"/>\n<text text-anchor=\"middle\" x=\"27448\" y=\"-453.8\" font-family=\"Helvetica,sans-Serif\" font-size=\"14.00\">tempo_emprego &lt;= 18.832</text>\n<text text-anchor=\"middle\" x=\"27448\" y=\"-438.8\" font-family=\"Helvetica,sans-Serif\" font-size=\"14.00\">squared_error = 595584996.696</text>\n<text text-anchor=\"middle\" x=\"27448\" y=\"-423.8\" font-family=\"Helvetica,sans-Serif\" font-size=\"14.00\">samples = 140</text>\n<text text-anchor=\"middle\" x=\"27448\" y=\"-408.8\" font-family=\"Helvetica,sans-Serif\" font-size=\"14.00\">value = 26323.129</text>\n</g>\n<!-- 281&#45;&gt;282 -->\n<g id=\"edge282\" class=\"edge\">\n<title>281&#45;&gt;282</title>\n<path fill=\"none\" stroke=\"black\" d=\"M27799.29,-514.41C27728.79,-498.67 27636.1,-477.98 27563.64,-461.81\"/>\n<polygon fill=\"black\" stroke=\"black\" points=\"27564.07,-458.32 27553.55,-459.56 27562.55,-465.15 27564.07,-458.32\"/>\n</g>\n<!-- 305 -->\n<g id=\"node306\" class=\"node\">\n<title>305</title>\n<polygon fill=\"#fae7d9\" stroke=\"black\" points=\"28340,-469 28122,-469 28122,-401 28340,-401 28340,-469\"/>\n<text text-anchor=\"middle\" x=\"28231\" y=\"-453.8\" font-family=\"Helvetica,sans-Serif\" font-size=\"14.00\">idade &lt;= 54.5</text>\n<text text-anchor=\"middle\" x=\"28231\" y=\"-438.8\" font-family=\"Helvetica,sans-Serif\" font-size=\"14.00\">squared_error = 1057942526.023</text>\n<text text-anchor=\"middle\" x=\"28231\" y=\"-423.8\" font-family=\"Helvetica,sans-Serif\" font-size=\"14.00\">samples = 28</text>\n<text text-anchor=\"middle\" x=\"28231\" y=\"-408.8\" font-family=\"Helvetica,sans-Serif\" font-size=\"14.00\">value = 47388.561</text>\n</g>\n<!-- 281&#45;&gt;305 -->\n<g id=\"edge305\" class=\"edge\">\n<title>281&#45;&gt;305</title>\n<path fill=\"none\" stroke=\"black\" d=\"M28010.84,-504.88C28044.41,-494.38 28081.67,-482.72 28115.86,-472.03\"/>\n<polygon fill=\"black\" stroke=\"black\" points=\"28116.91,-475.36 28125.41,-469.04 28114.82,-468.68 28116.91,-475.36\"/>\n</g>\n<!-- 283 -->\n<g id=\"node284\" class=\"node\">\n<title>283</title>\n<polygon fill=\"#fdf4ee\" stroke=\"black\" points=\"26921.5,-365 26710.5,-365 26710.5,-297 26921.5,-297 26921.5,-365\"/>\n<text text-anchor=\"middle\" x=\"26816\" y=\"-349.8\" font-family=\"Helvetica,sans-Serif\" font-size=\"14.00\">idade &lt;= 52.0</text>\n<text text-anchor=\"middle\" x=\"26816\" y=\"-334.8\" font-family=\"Helvetica,sans-Serif\" font-size=\"14.00\">squared_error = 243088795.901</text>\n<text text-anchor=\"middle\" x=\"26816\" y=\"-319.8\" font-family=\"Helvetica,sans-Serif\" font-size=\"14.00\">samples = 74</text>\n<text text-anchor=\"middle\" x=\"26816\" y=\"-304.8\" font-family=\"Helvetica,sans-Serif\" font-size=\"14.00\">value = 21290.844</text>\n</g>\n<!-- 282&#45;&gt;283 -->\n<g id=\"edge283\" class=\"edge\">\n<title>282&#45;&gt;283</title>\n<path fill=\"none\" stroke=\"black\" d=\"M27342.22,-416.93C27228.69,-398.6 27048.9,-369.59 26931.69,-350.67\"/>\n<polygon fill=\"black\" stroke=\"black\" points=\"26932.03,-347.18 26921.6,-349.04 26930.92,-354.09 26932.03,-347.18\"/>\n</g>\n<!-- 294 -->\n<g id=\"node295\" class=\"node\">\n<title>294</title>\n<polygon fill=\"#fcefe6\" stroke=\"black\" points=\"27553.5,-365 27342.5,-365 27342.5,-297 27553.5,-297 27553.5,-365\"/>\n<text text-anchor=\"middle\" x=\"27448\" y=\"-349.8\" font-family=\"Helvetica,sans-Serif\" font-size=\"14.00\">idade &lt;= 40.5</text>\n<text text-anchor=\"middle\" x=\"27448\" y=\"-334.8\" font-family=\"Helvetica,sans-Serif\" font-size=\"14.00\">squared_error = 930579466.247</text>\n<text text-anchor=\"middle\" x=\"27448\" y=\"-319.8\" font-family=\"Helvetica,sans-Serif\" font-size=\"14.00\">samples = 66</text>\n<text text-anchor=\"middle\" x=\"27448\" y=\"-304.8\" font-family=\"Helvetica,sans-Serif\" font-size=\"14.00\">value = 31965.388</text>\n</g>\n<!-- 282&#45;&gt;294 -->\n<g id=\"edge294\" class=\"edge\">\n<title>282&#45;&gt;294</title>\n<path fill=\"none\" stroke=\"black\" d=\"M27448,-400.88C27448,-392.78 27448,-383.98 27448,-375.47\"/>\n<polygon fill=\"black\" stroke=\"black\" points=\"27451.5,-375.3 27448,-365.3 27444.5,-375.3 27451.5,-375.3\"/>\n</g>\n<!-- 284 -->\n<g id=\"node285\" class=\"node\">\n<title>284</title>\n<polygon fill=\"#fdf6f1\" stroke=\"black\" points=\"26610.5,-261 26399.5,-261 26399.5,-193 26610.5,-193 26610.5,-261\"/>\n<text text-anchor=\"middle\" x=\"26505\" y=\"-245.8\" font-family=\"Helvetica,sans-Serif\" font-size=\"14.00\">tempo_emprego &lt;= 17.111</text>\n<text text-anchor=\"middle\" x=\"26505\" y=\"-230.8\" font-family=\"Helvetica,sans-Serif\" font-size=\"14.00\">squared_error = 125855215.003</text>\n<text text-anchor=\"middle\" x=\"26505\" y=\"-215.8\" font-family=\"Helvetica,sans-Serif\" font-size=\"14.00\">samples = 61</text>\n<text text-anchor=\"middle\" x=\"26505\" y=\"-200.8\" font-family=\"Helvetica,sans-Serif\" font-size=\"14.00\">value = 18319.972</text>\n</g>\n<!-- 283&#45;&gt;284 -->\n<g id=\"edge284\" class=\"edge\">\n<title>283&#45;&gt;284</title>\n<path fill=\"none\" stroke=\"black\" d=\"M26715.03,-296.88C26683.15,-286.43 26647.76,-274.82 26615.26,-264.16\"/>\n<polygon fill=\"black\" stroke=\"black\" points=\"26616.32,-260.83 26605.73,-261.04 26614.14,-267.48 26616.32,-260.83\"/>\n</g>\n<!-- 289 -->\n<g id=\"node290\" class=\"node\">\n<title>289</title>\n<polygon fill=\"#fbede3\" stroke=\"black\" points=\"26921.5,-261 26710.5,-261 26710.5,-193 26921.5,-193 26921.5,-261\"/>\n<text text-anchor=\"middle\" x=\"26816\" y=\"-245.8\" font-family=\"Helvetica,sans-Serif\" font-size=\"14.00\">idade &lt;= 53.5</text>\n<text text-anchor=\"middle\" x=\"26816\" y=\"-230.8\" font-family=\"Helvetica,sans-Serif\" font-size=\"14.00\">squared_error = 557439693.891</text>\n<text text-anchor=\"middle\" x=\"26816\" y=\"-215.8\" font-family=\"Helvetica,sans-Serif\" font-size=\"14.00\">samples = 13</text>\n<text text-anchor=\"middle\" x=\"26816\" y=\"-200.8\" font-family=\"Helvetica,sans-Serif\" font-size=\"14.00\">value = 35231.09</text>\n</g>\n<!-- 283&#45;&gt;289 -->\n<g id=\"edge289\" class=\"edge\">\n<title>283&#45;&gt;289</title>\n<path fill=\"none\" stroke=\"black\" d=\"M26816,-296.88C26816,-288.78 26816,-279.98 26816,-271.47\"/>\n<polygon fill=\"black\" stroke=\"black\" points=\"26819.5,-271.3 26816,-261.3 26812.5,-271.3 26819.5,-271.3\"/>\n</g>\n<!-- 285 -->\n<g id=\"node286\" class=\"node\">\n<title>285</title>\n<polygon fill=\"#fae6d7\" stroke=\"black\" points=\"26373,-149.5 26237,-149.5 26237,-96.5 26373,-96.5 26373,-149.5\"/>\n<text text-anchor=\"middle\" x=\"26305\" y=\"-134.3\" font-family=\"Helvetica,sans-Serif\" font-size=\"14.00\">squared_error = 0.0</text>\n<text text-anchor=\"middle\" x=\"26305\" y=\"-119.3\" font-family=\"Helvetica,sans-Serif\" font-size=\"14.00\">samples = 1</text>\n<text text-anchor=\"middle\" x=\"26305\" y=\"-104.3\" font-family=\"Helvetica,sans-Serif\" font-size=\"14.00\">value = 50008.77</text>\n</g>\n<!-- 284&#45;&gt;285 -->\n<g id=\"edge285\" class=\"edge\">\n<title>284&#45;&gt;285</title>\n<path fill=\"none\" stroke=\"black\" d=\"M26440.07,-192.88C26415.59,-180.4 26387.91,-166.28 26364,-154.09\"/>\n<polygon fill=\"black\" stroke=\"black\" points=\"26365.54,-150.95 26355.04,-149.52 26362.36,-157.18 26365.54,-150.95\"/>\n</g>\n<!-- 286 -->\n<g id=\"node287\" class=\"node\">\n<title>286</title>\n<polygon fill=\"#fdf6f1\" stroke=\"black\" points=\"26618.5,-157 26391.5,-157 26391.5,-89 26618.5,-89 26618.5,-157\"/>\n<text text-anchor=\"middle\" x=\"26505\" y=\"-141.8\" font-family=\"Helvetica,sans-Serif\" font-size=\"14.00\">tipo_renda_Servidor público &lt;= 0.5</text>\n<text text-anchor=\"middle\" x=\"26505\" y=\"-126.8\" font-family=\"Helvetica,sans-Serif\" font-size=\"14.00\">squared_error = 110937531.392</text>\n<text text-anchor=\"middle\" x=\"26505\" y=\"-111.8\" font-family=\"Helvetica,sans-Serif\" font-size=\"14.00\">samples = 60</text>\n<text text-anchor=\"middle\" x=\"26505\" y=\"-96.8\" font-family=\"Helvetica,sans-Serif\" font-size=\"14.00\">value = 17791.826</text>\n</g>\n<!-- 284&#45;&gt;286 -->\n<g id=\"edge286\" class=\"edge\">\n<title>284&#45;&gt;286</title>\n<path fill=\"none\" stroke=\"black\" d=\"M26505,-192.88C26505,-184.78 26505,-175.98 26505,-167.47\"/>\n<polygon fill=\"black\" stroke=\"black\" points=\"26508.5,-167.3 26505,-157.3 26501.5,-167.3 26508.5,-167.3\"/>\n</g>\n<!-- 287 -->\n<g id=\"node288\" class=\"node\">\n<title>287</title>\n<polygon fill=\"#fdf7f2\" stroke=\"black\" points=\"26485.5,-53 26282.5,-53 26282.5,0 26485.5,0 26485.5,-53\"/>\n<text text-anchor=\"middle\" x=\"26384\" y=\"-37.8\" font-family=\"Helvetica,sans-Serif\" font-size=\"14.00\">squared_error = 92090273.947</text>\n<text text-anchor=\"middle\" x=\"26384\" y=\"-22.8\" font-family=\"Helvetica,sans-Serif\" font-size=\"14.00\">samples = 50</text>\n<text text-anchor=\"middle\" x=\"26384\" y=\"-7.8\" font-family=\"Helvetica,sans-Serif\" font-size=\"14.00\">value = 16161.944</text>\n</g>\n<!-- 286&#45;&gt;287 -->\n<g id=\"edge287\" class=\"edge\">\n<title>286&#45;&gt;287</title>\n<path fill=\"none\" stroke=\"black\" d=\"M26462.68,-88.95C26450.5,-79.43 26437.23,-69.07 26425.12,-59.62\"/>\n<polygon fill=\"black\" stroke=\"black\" points=\"26426.99,-56.63 26416.95,-53.24 26422.68,-62.15 26426.99,-56.63\"/>\n</g>\n<!-- 288 -->\n<g id=\"node289\" class=\"node\">\n<title>288</title>\n<polygon fill=\"#fcf2eb\" stroke=\"black\" points=\"26714.5,-53 26503.5,-53 26503.5,0 26714.5,0 26714.5,-53\"/>\n<text text-anchor=\"middle\" x=\"26609\" y=\"-37.8\" font-family=\"Helvetica,sans-Serif\" font-size=\"14.00\">squared_error = 125478410.756</text>\n<text text-anchor=\"middle\" x=\"26609\" y=\"-22.8\" font-family=\"Helvetica,sans-Serif\" font-size=\"14.00\">samples = 10</text>\n<text text-anchor=\"middle\" x=\"26609\" y=\"-7.8\" font-family=\"Helvetica,sans-Serif\" font-size=\"14.00\">value = 25941.233</text>\n</g>\n<!-- 286&#45;&gt;288 -->\n<g id=\"edge288\" class=\"edge\">\n<title>286&#45;&gt;288</title>\n<path fill=\"none\" stroke=\"black\" d=\"M26541.37,-88.95C26551.64,-79.62 26562.81,-69.47 26573.05,-60.16\"/>\n<polygon fill=\"black\" stroke=\"black\" points=\"26575.63,-62.55 26580.68,-53.24 26570.92,-57.37 26575.63,-62.55\"/>\n</g>\n<!-- 290 -->\n<g id=\"node291\" class=\"node\">\n<title>290</title>\n<polygon fill=\"#f5cfb3\" stroke=\"black\" points=\"26773,-149.5 26637,-149.5 26637,-96.5 26773,-96.5 26773,-149.5\"/>\n<text text-anchor=\"middle\" x=\"26705\" y=\"-134.3\" font-family=\"Helvetica,sans-Serif\" font-size=\"14.00\">squared_error = 0.0</text>\n<text text-anchor=\"middle\" x=\"26705\" y=\"-119.3\" font-family=\"Helvetica,sans-Serif\" font-size=\"14.00\">samples = 1</text>\n<text text-anchor=\"middle\" x=\"26705\" y=\"-104.3\" font-family=\"Helvetica,sans-Serif\" font-size=\"14.00\">value = 93994.63</text>\n</g>\n<!-- 289&#45;&gt;290 -->\n<g id=\"edge290\" class=\"edge\">\n<title>289&#45;&gt;290</title>\n<path fill=\"none\" stroke=\"black\" d=\"M26779.96,-192.88C26767.28,-181.23 26753.04,-168.14 26740.4,-156.53\"/>\n<polygon fill=\"black\" stroke=\"black\" points=\"26742.5,-153.71 26732.77,-149.52 26737.77,-158.86 26742.5,-153.71\"/>\n</g>\n<!-- 291 -->\n<g id=\"node292\" class=\"node\">\n<title>291</title>\n<polygon fill=\"#fcf0e7\" stroke=\"black\" points=\"27002.5,-157 26791.5,-157 26791.5,-89 27002.5,-89 27002.5,-157\"/>\n<text text-anchor=\"middle\" x=\"26897\" y=\"-141.8\" font-family=\"Helvetica,sans-Serif\" font-size=\"14.00\">tempo_emprego &lt;= 17.751</text>\n<text text-anchor=\"middle\" x=\"26897\" y=\"-126.8\" font-family=\"Helvetica,sans-Serif\" font-size=\"14.00\">squared_error = 292149965.372</text>\n<text text-anchor=\"middle\" x=\"26897\" y=\"-111.8\" font-family=\"Helvetica,sans-Serif\" font-size=\"14.00\">samples = 12</text>\n<text text-anchor=\"middle\" x=\"26897\" y=\"-96.8\" font-family=\"Helvetica,sans-Serif\" font-size=\"14.00\">value = 30334.128</text>\n</g>\n<!-- 289&#45;&gt;291 -->\n<g id=\"edge291\" class=\"edge\">\n<title>289&#45;&gt;291</title>\n<path fill=\"none\" stroke=\"black\" d=\"M26842.3,-192.88C26849.3,-184.07 26856.95,-174.43 26864.25,-165.24\"/>\n<polygon fill=\"black\" stroke=\"black\" points=\"26867.08,-167.31 26870.56,-157.3 26861.6,-162.95 26867.08,-167.31\"/>\n</g>\n<!-- 292 -->\n<g id=\"node293\" class=\"node\">\n<title>292</title>\n<polygon fill=\"#fefaf7\" stroke=\"black\" points=\"26935.5,-53 26732.5,-53 26732.5,0 26935.5,0 26935.5,-53\"/>\n<text text-anchor=\"middle\" x=\"26834\" y=\"-37.8\" font-family=\"Helvetica,sans-Serif\" font-size=\"14.00\">squared_error = 14355580.452</text>\n<text text-anchor=\"middle\" x=\"26834\" y=\"-22.8\" font-family=\"Helvetica,sans-Serif\" font-size=\"14.00\">samples = 4</text>\n<text text-anchor=\"middle\" x=\"26834\" y=\"-7.8\" font-family=\"Helvetica,sans-Serif\" font-size=\"14.00\">value = 10172.232</text>\n</g>\n<!-- 291&#45;&gt;292 -->\n<g id=\"edge292\" class=\"edge\">\n<title>291&#45;&gt;292</title>\n<path fill=\"none\" stroke=\"black\" d=\"M26874.97,-88.95C26869.11,-80.17 26862.78,-70.66 26856.88,-61.82\"/>\n<polygon fill=\"black\" stroke=\"black\" points=\"26859.62,-59.62 26851.16,-53.24 26853.79,-63.5 26859.62,-59.62\"/>\n</g>\n<!-- 293 -->\n<g id=\"node294\" class=\"node\">\n<title>293</title>\n<polygon fill=\"#fbebdf\" stroke=\"black\" points=\"27164.5,-53 26953.5,-53 26953.5,0 27164.5,0 27164.5,-53\"/>\n<text text-anchor=\"middle\" x=\"27059\" y=\"-37.8\" font-family=\"Helvetica,sans-Serif\" font-size=\"14.00\">squared_error = 126170625.137</text>\n<text text-anchor=\"middle\" x=\"27059\" y=\"-22.8\" font-family=\"Helvetica,sans-Serif\" font-size=\"14.00\">samples = 8</text>\n<text text-anchor=\"middle\" x=\"27059\" y=\"-7.8\" font-family=\"Helvetica,sans-Serif\" font-size=\"14.00\">value = 40415.076</text>\n</g>\n<!-- 291&#45;&gt;293 -->\n<g id=\"edge293\" class=\"edge\">\n<title>291&#45;&gt;293</title>\n<path fill=\"none\" stroke=\"black\" d=\"M26953.66,-88.95C26970.83,-78.93 26989.61,-67.98 27006.5,-58.13\"/>\n<polygon fill=\"black\" stroke=\"black\" points=\"27008.26,-61.15 27015.14,-53.09 27004.74,-55.1 27008.26,-61.15\"/>\n</g>\n<!-- 295 -->\n<g id=\"node296\" class=\"node\">\n<title>295</title>\n<polygon fill=\"#fae6d8\" stroke=\"black\" points=\"27443,-261 27225,-261 27225,-193 27443,-193 27443,-261\"/>\n<text text-anchor=\"middle\" x=\"27334\" y=\"-245.8\" font-family=\"Helvetica,sans-Serif\" font-size=\"14.00\">idade &lt;= 37.5</text>\n<text text-anchor=\"middle\" x=\"27334\" y=\"-230.8\" font-family=\"Helvetica,sans-Serif\" font-size=\"14.00\">squared_error = 1593915277.614</text>\n<text text-anchor=\"middle\" x=\"27334\" y=\"-215.8\" font-family=\"Helvetica,sans-Serif\" font-size=\"14.00\">samples = 21</text>\n<text text-anchor=\"middle\" x=\"27334\" y=\"-200.8\" font-family=\"Helvetica,sans-Serif\" font-size=\"14.00\">value = 49467.51</text>\n</g>\n<!-- 294&#45;&gt;295 -->\n<g id=\"edge295\" class=\"edge\">\n<title>294&#45;&gt;295</title>\n<path fill=\"none\" stroke=\"black\" d=\"M27410.99,-296.88C27400.73,-287.71 27389.49,-277.65 27378.84,-268.12\"/>\n<polygon fill=\"black\" stroke=\"black\" points=\"27381,-265.36 27371.22,-261.3 27376.34,-270.58 27381,-265.36\"/>\n</g>\n<!-- 300 -->\n<g id=\"node301\" class=\"node\">\n<title>300</title>\n<polygon fill=\"#fdf3ec\" stroke=\"black\" points=\"27664.5,-261 27461.5,-261 27461.5,-193 27664.5,-193 27664.5,-261\"/>\n<text text-anchor=\"middle\" x=\"27563\" y=\"-245.8\" font-family=\"Helvetica,sans-Serif\" font-size=\"14.00\">qt_pessoas_residencia &lt;= 1.5</text>\n<text text-anchor=\"middle\" x=\"27563\" y=\"-230.8\" font-family=\"Helvetica,sans-Serif\" font-size=\"14.00\">squared_error = 411360818.01</text>\n<text text-anchor=\"middle\" x=\"27563\" y=\"-215.8\" font-family=\"Helvetica,sans-Serif\" font-size=\"14.00\">samples = 45</text>\n<text text-anchor=\"middle\" x=\"27563\" y=\"-200.8\" font-family=\"Helvetica,sans-Serif\" font-size=\"14.00\">value = 23797.732</text>\n</g>\n<!-- 294&#45;&gt;300 -->\n<g id=\"edge300\" class=\"edge\">\n<title>294&#45;&gt;300</title>\n<path fill=\"none\" stroke=\"black\" d=\"M27485.34,-296.88C27495.68,-287.71 27507.02,-277.65 27517.76,-268.12\"/>\n<polygon fill=\"black\" stroke=\"black\" points=\"27520.3,-270.55 27525.46,-261.3 27515.65,-265.32 27520.3,-270.55\"/>\n</g>\n<!-- 296 -->\n<g id=\"node297\" class=\"node\">\n<title>296</title>\n<polygon fill=\"#fdf5ef\" stroke=\"black\" points=\"27223.5,-149.5 27020.5,-149.5 27020.5,-96.5 27223.5,-96.5 27223.5,-149.5\"/>\n<text text-anchor=\"middle\" x=\"27122\" y=\"-134.3\" font-family=\"Helvetica,sans-Serif\" font-size=\"14.00\">squared_error = 31365470.441</text>\n<text text-anchor=\"middle\" x=\"27122\" y=\"-119.3\" font-family=\"Helvetica,sans-Serif\" font-size=\"14.00\">samples = 3</text>\n<text text-anchor=\"middle\" x=\"27122\" y=\"-104.3\" font-family=\"Helvetica,sans-Serif\" font-size=\"14.00\">value = 20452.647</text>\n</g>\n<!-- 295&#45;&gt;296 -->\n<g id=\"edge296\" class=\"edge\">\n<title>295&#45;&gt;296</title>\n<path fill=\"none\" stroke=\"black\" d=\"M27265.17,-192.88C27239.11,-180.35 27209.62,-166.16 27184.21,-153.93\"/>\n<polygon fill=\"black\" stroke=\"black\" points=\"27185.57,-150.7 27175.04,-149.52 27182.54,-157.01 27185.57,-150.7\"/>\n</g>\n<!-- 297 -->\n<g id=\"node298\" class=\"node\">\n<title>297</title>\n<polygon fill=\"#f9e3d4\" stroke=\"black\" points=\"27460,-157 27242,-157 27242,-89 27460,-89 27460,-157\"/>\n<text text-anchor=\"middle\" x=\"27351\" y=\"-141.8\" font-family=\"Helvetica,sans-Serif\" font-size=\"14.00\">qtd_filhos &lt;= 0.5</text>\n<text text-anchor=\"middle\" x=\"27351\" y=\"-126.8\" font-family=\"Helvetica,sans-Serif\" font-size=\"14.00\">squared_error = 1690644799.372</text>\n<text text-anchor=\"middle\" x=\"27351\" y=\"-111.8\" font-family=\"Helvetica,sans-Serif\" font-size=\"14.00\">samples = 18</text>\n<text text-anchor=\"middle\" x=\"27351\" y=\"-96.8\" font-family=\"Helvetica,sans-Serif\" font-size=\"14.00\">value = 54303.321</text>\n</g>\n<!-- 295&#45;&gt;297 -->\n<g id=\"edge297\" class=\"edge\">\n<title>295&#45;&gt;297</title>\n<path fill=\"none\" stroke=\"black\" d=\"M27339.52,-192.88C27340.89,-184.69 27342.37,-175.79 27343.8,-167.19\"/>\n<polygon fill=\"black\" stroke=\"black\" points=\"27347.26,-167.74 27345.45,-157.3 27340.35,-166.59 27347.26,-167.74\"/>\n</g>\n<!-- 298 -->\n<g id=\"node299\" class=\"node\">\n<title>298</title>\n<polygon fill=\"#f8ddc9\" stroke=\"black\" points=\"27393.5,-53 27182.5,-53 27182.5,0 27393.5,0 27393.5,-53\"/>\n<text text-anchor=\"middle\" x=\"27288\" y=\"-37.8\" font-family=\"Helvetica,sans-Serif\" font-size=\"14.00\">squared_error = 2330575026.08</text>\n<text text-anchor=\"middle\" x=\"27288\" y=\"-22.8\" font-family=\"Helvetica,sans-Serif\" font-size=\"14.00\">samples = 10</text>\n<text text-anchor=\"middle\" x=\"27288\" y=\"-7.8\" font-family=\"Helvetica,sans-Serif\" font-size=\"14.00\">value = 67234.675</text>\n</g>\n<!-- 297&#45;&gt;298 -->\n<g id=\"edge298\" class=\"edge\">\n<title>297&#45;&gt;298</title>\n<path fill=\"none\" stroke=\"black\" d=\"M27328.97,-88.95C27323.11,-80.17 27316.78,-70.66 27310.88,-61.82\"/>\n<polygon fill=\"black\" stroke=\"black\" points=\"27313.62,-59.62 27305.16,-53.24 27307.79,-63.5 27313.62,-59.62\"/>\n</g>\n<!-- 299 -->\n<g id=\"node300\" class=\"node\">\n<title>299</title>\n<polygon fill=\"#fbece1\" stroke=\"black\" points=\"27614.5,-53 27411.5,-53 27411.5,0 27614.5,0 27614.5,-53\"/>\n<text text-anchor=\"middle\" x=\"27513\" y=\"-37.8\" font-family=\"Helvetica,sans-Serif\" font-size=\"14.00\">squared_error = 420425969.14</text>\n<text text-anchor=\"middle\" x=\"27513\" y=\"-22.8\" font-family=\"Helvetica,sans-Serif\" font-size=\"14.00\">samples = 8</text>\n<text text-anchor=\"middle\" x=\"27513\" y=\"-7.8\" font-family=\"Helvetica,sans-Serif\" font-size=\"14.00\">value = 38139.128</text>\n</g>\n<!-- 297&#45;&gt;299 -->\n<g id=\"edge299\" class=\"edge\">\n<title>297&#45;&gt;299</title>\n<path fill=\"none\" stroke=\"black\" d=\"M27407.66,-88.95C27424.83,-78.93 27443.61,-67.98 27460.5,-58.13\"/>\n<polygon fill=\"black\" stroke=\"black\" points=\"27462.26,-61.15 27469.14,-53.09 27458.74,-55.1 27462.26,-61.15\"/>\n</g>\n<!-- 301 -->\n<g id=\"node302\" class=\"node\">\n<title>301</title>\n<polygon fill=\"#f9e0ce\" stroke=\"black\" points=\"27614,-149.5 27478,-149.5 27478,-96.5 27614,-96.5 27614,-149.5\"/>\n<text text-anchor=\"middle\" x=\"27546\" y=\"-134.3\" font-family=\"Helvetica,sans-Serif\" font-size=\"14.00\">squared_error = 0.0</text>\n<text text-anchor=\"middle\" x=\"27546\" y=\"-119.3\" font-family=\"Helvetica,sans-Serif\" font-size=\"14.00\">samples = 1</text>\n<text text-anchor=\"middle\" x=\"27546\" y=\"-104.3\" font-family=\"Helvetica,sans-Serif\" font-size=\"14.00\">value = 60803.32</text>\n</g>\n<!-- 300&#45;&gt;301 -->\n<g id=\"edge301\" class=\"edge\">\n<title>300&#45;&gt;301</title>\n<path fill=\"none\" stroke=\"black\" d=\"M27557.48,-192.88C27555.7,-182.22 27553.73,-170.35 27551.92,-159.52\"/>\n<polygon fill=\"black\" stroke=\"black\" points=\"27555.35,-158.81 27550.25,-149.52 27548.45,-159.96 27555.35,-158.81\"/>\n</g>\n<!-- 302 -->\n<g id=\"node303\" class=\"node\">\n<title>302</title>\n<polygon fill=\"#fdf4ed\" stroke=\"black\" points=\"27843.5,-157 27632.5,-157 27632.5,-89 27843.5,-89 27843.5,-157\"/>\n<text text-anchor=\"middle\" x=\"27738\" y=\"-141.8\" font-family=\"Helvetica,sans-Serif\" font-size=\"14.00\">tipo_renda_Empresário &lt;= 0.5</text>\n<text text-anchor=\"middle\" x=\"27738\" y=\"-126.8\" font-family=\"Helvetica,sans-Serif\" font-size=\"14.00\">squared_error = 388879550.349</text>\n<text text-anchor=\"middle\" x=\"27738\" y=\"-111.8\" font-family=\"Helvetica,sans-Serif\" font-size=\"14.00\">samples = 44</text>\n<text text-anchor=\"middle\" x=\"27738\" y=\"-96.8\" font-family=\"Helvetica,sans-Serif\" font-size=\"14.00\">value = 22956.696</text>\n</g>\n<!-- 300&#45;&gt;302 -->\n<g id=\"edge302\" class=\"edge\">\n<title>300&#45;&gt;302</title>\n<path fill=\"none\" stroke=\"black\" d=\"M27619.82,-192.88C27636.56,-183.12 27655.02,-172.37 27672.27,-162.31\"/>\n<polygon fill=\"black\" stroke=\"black\" points=\"27674.29,-165.18 27681.17,-157.12 27670.77,-159.14 27674.29,-165.18\"/>\n</g>\n<!-- 303 -->\n<g id=\"node304\" class=\"node\">\n<title>303</title>\n<polygon fill=\"#fcf2eb\" stroke=\"black\" points=\"27843.5,-53 27632.5,-53 27632.5,0 27843.5,0 27843.5,-53\"/>\n<text text-anchor=\"middle\" x=\"27738\" y=\"-37.8\" font-family=\"Helvetica,sans-Serif\" font-size=\"14.00\">squared_error = 449221546.651</text>\n<text text-anchor=\"middle\" x=\"27738\" y=\"-22.8\" font-family=\"Helvetica,sans-Serif\" font-size=\"14.00\">samples = 36</text>\n<text text-anchor=\"middle\" x=\"27738\" y=\"-7.8\" font-family=\"Helvetica,sans-Serif\" font-size=\"14.00\">value = 24993.477</text>\n</g>\n<!-- 302&#45;&gt;303 -->\n<g id=\"edge303\" class=\"edge\">\n<title>302&#45;&gt;303</title>\n<path fill=\"none\" stroke=\"black\" d=\"M27738,-88.95C27738,-80.72 27738,-71.85 27738,-63.48\"/>\n<polygon fill=\"black\" stroke=\"black\" points=\"27741.5,-63.24 27738,-53.24 27734.5,-63.24 27741.5,-63.24\"/>\n</g>\n<!-- 304 -->\n<g id=\"node305\" class=\"node\">\n<title>304</title>\n<polygon fill=\"#fef8f4\" stroke=\"black\" points=\"28064.5,-53 27861.5,-53 27861.5,0 28064.5,0 28064.5,-53\"/>\n<text text-anchor=\"middle\" x=\"27963\" y=\"-37.8\" font-family=\"Helvetica,sans-Serif\" font-size=\"14.00\">squared_error = 14665766.677</text>\n<text text-anchor=\"middle\" x=\"27963\" y=\"-22.8\" font-family=\"Helvetica,sans-Serif\" font-size=\"14.00\">samples = 8</text>\n<text text-anchor=\"middle\" x=\"27963\" y=\"-7.8\" font-family=\"Helvetica,sans-Serif\" font-size=\"14.00\">value = 13791.181</text>\n</g>\n<!-- 302&#45;&gt;304 -->\n<g id=\"edge304\" class=\"edge\">\n<title>302&#45;&gt;304</title>\n<path fill=\"none\" stroke=\"black\" d=\"M27816.69,-88.95C27841.42,-78.56 27868.54,-67.17 27892.65,-57.05\"/>\n<polygon fill=\"black\" stroke=\"black\" points=\"27894.21,-60.19 27902.08,-53.09 27891.5,-53.73 27894.21,-60.19\"/>\n</g>\n<!-- 306 -->\n<g id=\"node307\" class=\"node\">\n<title>306</title>\n<polygon fill=\"#fbebe0\" stroke=\"black\" points=\"28336.5,-365 28125.5,-365 28125.5,-297 28336.5,-297 28336.5,-365\"/>\n<text text-anchor=\"middle\" x=\"28231\" y=\"-349.8\" font-family=\"Helvetica,sans-Serif\" font-size=\"14.00\">tempo_emprego &lt;= 22.459</text>\n<text text-anchor=\"middle\" x=\"28231\" y=\"-334.8\" font-family=\"Helvetica,sans-Serif\" font-size=\"14.00\">squared_error = 503530070.355</text>\n<text text-anchor=\"middle\" x=\"28231\" y=\"-319.8\" font-family=\"Helvetica,sans-Serif\" font-size=\"14.00\">samples = 19</text>\n<text text-anchor=\"middle\" x=\"28231\" y=\"-304.8\" font-family=\"Helvetica,sans-Serif\" font-size=\"14.00\">value = 39311.824</text>\n</g>\n<!-- 305&#45;&gt;306 -->\n<g id=\"edge306\" class=\"edge\">\n<title>305&#45;&gt;306</title>\n<path fill=\"none\" stroke=\"black\" d=\"M28231,-400.88C28231,-392.78 28231,-383.98 28231,-375.47\"/>\n<polygon fill=\"black\" stroke=\"black\" points=\"28234.5,-375.3 28231,-365.3 28227.5,-375.3 28234.5,-375.3\"/>\n</g>\n<!-- 317 -->\n<g id=\"node318\" class=\"node\">\n<title>317</title>\n<polygon fill=\"#f8decb\" stroke=\"black\" points=\"28684,-365 28466,-365 28466,-297 28684,-297 28684,-365\"/>\n<text text-anchor=\"middle\" x=\"28575\" y=\"-349.8\" font-family=\"Helvetica,sans-Serif\" font-size=\"14.00\">idade &lt;= 56.5</text>\n<text text-anchor=\"middle\" x=\"28575\" y=\"-334.8\" font-family=\"Helvetica,sans-Serif\" font-size=\"14.00\">squared_error = 1799920446.999</text>\n<text text-anchor=\"middle\" x=\"28575\" y=\"-319.8\" font-family=\"Helvetica,sans-Serif\" font-size=\"14.00\">samples = 9</text>\n<text text-anchor=\"middle\" x=\"28575\" y=\"-304.8\" font-family=\"Helvetica,sans-Serif\" font-size=\"14.00\">value = 64439.45</text>\n</g>\n<!-- 305&#45;&gt;317 -->\n<g id=\"edge317\" class=\"edge\">\n<title>305&#45;&gt;317</title>\n<path fill=\"none\" stroke=\"black\" d=\"M28340.32,-401.59C28377.16,-390.66 28418.44,-378.42 28456,-367.29\"/>\n<polygon fill=\"black\" stroke=\"black\" points=\"28457.38,-370.53 28465.97,-364.33 28455.39,-363.82 28457.38,-370.53\"/>\n</g>\n<!-- 307 -->\n<g id=\"node308\" class=\"node\">\n<title>307</title>\n<polygon fill=\"#fdf3ed\" stroke=\"black\" points=\"28249.5,-261 28046.5,-261 28046.5,-193 28249.5,-193 28249.5,-261\"/>\n<text text-anchor=\"middle\" x=\"28148\" y=\"-245.8\" font-family=\"Helvetica,sans-Serif\" font-size=\"14.00\">tempo_emprego &lt;= 22.27</text>\n<text text-anchor=\"middle\" x=\"28148\" y=\"-230.8\" font-family=\"Helvetica,sans-Serif\" font-size=\"14.00\">squared_error = 52881740.757</text>\n<text text-anchor=\"middle\" x=\"28148\" y=\"-215.8\" font-family=\"Helvetica,sans-Serif\" font-size=\"14.00\">samples = 5</text>\n<text text-anchor=\"middle\" x=\"28148\" y=\"-200.8\" font-family=\"Helvetica,sans-Serif\" font-size=\"14.00\">value = 23068.6</text>\n</g>\n<!-- 306&#45;&gt;307 -->\n<g id=\"edge307\" class=\"edge\">\n<title>306&#45;&gt;307</title>\n<path fill=\"none\" stroke=\"black\" d=\"M28204.05,-296.88C28196.88,-288.07 28189.04,-278.43 28181.55,-269.24\"/>\n<polygon fill=\"black\" stroke=\"black\" points=\"28184.12,-266.85 28175.1,-261.3 28178.69,-271.26 28184.12,-266.85\"/>\n</g>\n<!-- 312 -->\n<g id=\"node313\" class=\"node\">\n<title>312</title>\n<polygon fill=\"#fae8db\" stroke=\"black\" points=\"28478.5,-261 28267.5,-261 28267.5,-193 28478.5,-193 28478.5,-261\"/>\n<text text-anchor=\"middle\" x=\"28373\" y=\"-245.8\" font-family=\"Helvetica,sans-Serif\" font-size=\"14.00\">tempo_emprego &lt;= 22.597</text>\n<text text-anchor=\"middle\" x=\"28373\" y=\"-230.8\" font-family=\"Helvetica,sans-Serif\" font-size=\"14.00\">squared_error = 536593147.317</text>\n<text text-anchor=\"middle\" x=\"28373\" y=\"-215.8\" font-family=\"Helvetica,sans-Serif\" font-size=\"14.00\">samples = 14</text>\n<text text-anchor=\"middle\" x=\"28373\" y=\"-200.8\" font-family=\"Helvetica,sans-Serif\" font-size=\"14.00\">value = 45112.975</text>\n</g>\n<!-- 306&#45;&gt;312 -->\n<g id=\"edge312\" class=\"edge\">\n<title>306&#45;&gt;312</title>\n<path fill=\"none\" stroke=\"black\" d=\"M28277.1,-296.88C28290.25,-287.44 28304.7,-277.06 28318.3,-267.29\"/>\n<polygon fill=\"black\" stroke=\"black\" points=\"28320.56,-269.98 28326.64,-261.3 28316.48,-264.29 28320.56,-269.98\"/>\n</g>\n<!-- 308 -->\n<g id=\"node309\" class=\"node\">\n<title>308</title>\n<polygon fill=\"#fcefe6\" stroke=\"black\" points=\"28064.5,-149.5 27861.5,-149.5 27861.5,-96.5 28064.5,-96.5 28064.5,-149.5\"/>\n<text text-anchor=\"middle\" x=\"27963\" y=\"-134.3\" font-family=\"Helvetica,sans-Serif\" font-size=\"14.00\">squared_error = 21417365.852</text>\n<text text-anchor=\"middle\" x=\"27963\" y=\"-119.3\" font-family=\"Helvetica,sans-Serif\" font-size=\"14.00\">samples = 2</text>\n<text text-anchor=\"middle\" x=\"27963\" y=\"-104.3\" font-family=\"Helvetica,sans-Serif\" font-size=\"14.00\">value = 31119.23</text>\n</g>\n<!-- 307&#45;&gt;308 -->\n<g id=\"edge308\" class=\"edge\">\n<title>307&#45;&gt;308</title>\n<path fill=\"none\" stroke=\"black\" d=\"M28087.94,-192.88C28065.5,-180.51 28040.14,-166.53 28018.16,-154.41\"/>\n<polygon fill=\"black\" stroke=\"black\" points=\"28019.73,-151.28 28009.29,-149.52 28016.35,-157.41 28019.73,-151.28\"/>\n</g>\n<!-- 309 -->\n<g id=\"node310\" class=\"node\">\n<title>309</title>\n<polygon fill=\"#fdf6f1\" stroke=\"black\" points=\"28278,-157 28082,-157 28082,-89 28278,-89 28278,-157\"/>\n<text text-anchor=\"middle\" x=\"28180\" y=\"-141.8\" font-family=\"Helvetica,sans-Serif\" font-size=\"14.00\">qtd_filhos &lt;= 0.5</text>\n<text text-anchor=\"middle\" x=\"28180\" y=\"-126.8\" font-family=\"Helvetica,sans-Serif\" font-size=\"14.00\">squared_error = 1843942.475</text>\n<text text-anchor=\"middle\" x=\"28180\" y=\"-111.8\" font-family=\"Helvetica,sans-Serif\" font-size=\"14.00\">samples = 3</text>\n<text text-anchor=\"middle\" x=\"28180\" y=\"-96.8\" font-family=\"Helvetica,sans-Serif\" font-size=\"14.00\">value = 17701.513</text>\n</g>\n<!-- 307&#45;&gt;309 -->\n<g id=\"edge309\" class=\"edge\">\n<title>307&#45;&gt;309</title>\n<path fill=\"none\" stroke=\"black\" d=\"M28158.39,-192.88C28160.99,-184.6 28163.81,-175.6 28166.54,-166.91\"/>\n<polygon fill=\"black\" stroke=\"black\" points=\"28169.9,-167.89 28169.55,-157.3 28163.22,-165.79 28169.9,-167.89\"/>\n</g>\n<!-- 310 -->\n<g id=\"node311\" class=\"node\">\n<title>310</title>\n<polygon fill=\"#fdf7f2\" stroke=\"black\" points=\"28234,-53 28098,-53 28098,0 28234,0 28234,-53\"/>\n<text text-anchor=\"middle\" x=\"28166\" y=\"-37.8\" font-family=\"Helvetica,sans-Serif\" font-size=\"14.00\">squared_error = 0.0</text>\n<text text-anchor=\"middle\" x=\"28166\" y=\"-22.8\" font-family=\"Helvetica,sans-Serif\" font-size=\"14.00\">samples = 2</text>\n<text text-anchor=\"middle\" x=\"28166\" y=\"-7.8\" font-family=\"Helvetica,sans-Serif\" font-size=\"14.00\">value = 16741.32</text>\n</g>\n<!-- 309&#45;&gt;310 -->\n<g id=\"edge310\" class=\"edge\">\n<title>309&#45;&gt;310</title>\n<path fill=\"none\" stroke=\"black\" d=\"M28175.1,-88.95C28173.87,-80.62 28172.54,-71.65 28171.29,-63.2\"/>\n<polygon fill=\"black\" stroke=\"black\" points=\"28174.74,-62.62 28169.81,-53.24 28167.82,-63.64 28174.74,-62.62\"/>\n</g>\n<!-- 311 -->\n<g id=\"node312\" class=\"node\">\n<title>311</title>\n<polygon fill=\"#fdf5f0\" stroke=\"black\" points=\"28392,-53 28252,-53 28252,0 28392,0 28392,-53\"/>\n<text text-anchor=\"middle\" x=\"28322\" y=\"-37.8\" font-family=\"Helvetica,sans-Serif\" font-size=\"14.00\">squared_error = &#45;0.0</text>\n<text text-anchor=\"middle\" x=\"28322\" y=\"-22.8\" font-family=\"Helvetica,sans-Serif\" font-size=\"14.00\">samples = 1</text>\n<text text-anchor=\"middle\" x=\"28322\" y=\"-7.8\" font-family=\"Helvetica,sans-Serif\" font-size=\"14.00\">value = 19621.9</text>\n</g>\n<!-- 309&#45;&gt;311 -->\n<g id=\"edge311\" class=\"edge\">\n<title>309&#45;&gt;311</title>\n<path fill=\"none\" stroke=\"black\" d=\"M28229.66,-88.95C28244.37,-79.16 28260.43,-68.48 28274.96,-58.8\"/>\n<polygon fill=\"black\" stroke=\"black\" points=\"28276.94,-61.69 28283.33,-53.24 28273.06,-55.86 28276.94,-61.69\"/>\n</g>\n<!-- 313 -->\n<g id=\"node314\" class=\"node\">\n<title>313</title>\n<polygon fill=\"#f2c29f\" stroke=\"black\" points=\"28432,-149.5 28296,-149.5 28296,-96.5 28432,-96.5 28432,-149.5\"/>\n<text text-anchor=\"middle\" x=\"28364\" y=\"-134.3\" font-family=\"Helvetica,sans-Serif\" font-size=\"14.00\">squared_error = 0.0</text>\n<text text-anchor=\"middle\" x=\"28364\" y=\"-119.3\" font-family=\"Helvetica,sans-Serif\" font-size=\"14.00\">samples = 1</text>\n<text text-anchor=\"middle\" x=\"28364\" y=\"-104.3\" font-family=\"Helvetica,sans-Serif\" font-size=\"14.00\">value = 119626.38</text>\n</g>\n<!-- 312&#45;&gt;313 -->\n<g id=\"edge313\" class=\"edge\">\n<title>312&#45;&gt;313</title>\n<path fill=\"none\" stroke=\"black\" d=\"M28370.08,-192.88C28369.14,-182.22 28368.09,-170.35 28367.13,-159.52\"/>\n<polygon fill=\"black\" stroke=\"black\" points=\"28370.62,-159.17 28366.25,-149.52 28363.64,-159.79 28370.62,-159.17\"/>\n</g>\n<!-- 314 -->\n<g id=\"node315\" class=\"node\">\n<title>314</title>\n<polygon fill=\"#fbebe0\" stroke=\"black\" points=\"28661.5,-157 28450.5,-157 28450.5,-89 28661.5,-89 28661.5,-157\"/>\n<text text-anchor=\"middle\" x=\"28556\" y=\"-141.8\" font-family=\"Helvetica,sans-Serif\" font-size=\"14.00\">idade &lt;= 49.5</text>\n<text text-anchor=\"middle\" x=\"28556\" y=\"-126.8\" font-family=\"Helvetica,sans-Serif\" font-size=\"14.00\">squared_error = 117920044.178</text>\n<text text-anchor=\"middle\" x=\"28556\" y=\"-111.8\" font-family=\"Helvetica,sans-Serif\" font-size=\"14.00\">samples = 13</text>\n<text text-anchor=\"middle\" x=\"28556\" y=\"-96.8\" font-family=\"Helvetica,sans-Serif\" font-size=\"14.00\">value = 39381.175</text>\n</g>\n<!-- 312&#45;&gt;314 -->\n<g id=\"edge314\" class=\"edge\">\n<title>312&#45;&gt;314</title>\n<path fill=\"none\" stroke=\"black\" d=\"M28432.41,-192.88C28450.08,-183.04 28469.58,-172.17 28487.76,-162.03\"/>\n<polygon fill=\"black\" stroke=\"black\" points=\"28489.54,-165.05 28496.57,-157.12 28486.13,-158.94 28489.54,-165.05\"/>\n</g>\n<!-- 315 -->\n<g id=\"node316\" class=\"node\">\n<title>315</title>\n<polygon fill=\"#fbe9dd\" stroke=\"black\" points=\"28635.5,-53 28432.5,-53 28432.5,0 28635.5,0 28635.5,-53\"/>\n<text text-anchor=\"middle\" x=\"28534\" y=\"-37.8\" font-family=\"Helvetica,sans-Serif\" font-size=\"14.00\">squared_error = 73196709.086</text>\n<text text-anchor=\"middle\" x=\"28534\" y=\"-22.8\" font-family=\"Helvetica,sans-Serif\" font-size=\"14.00\">samples = 11</text>\n<text text-anchor=\"middle\" x=\"28534\" y=\"-7.8\" font-family=\"Helvetica,sans-Serif\" font-size=\"14.00\">value = 42555.703</text>\n</g>\n<!-- 314&#45;&gt;315 -->\n<g id=\"edge315\" class=\"edge\">\n<title>314&#45;&gt;315</title>\n<path fill=\"none\" stroke=\"black\" d=\"M28548.31,-88.95C28546.37,-80.62 28544.28,-71.65 28542.31,-63.2\"/>\n<polygon fill=\"black\" stroke=\"black\" points=\"28545.67,-62.18 28539.99,-53.24 28538.85,-63.77 28545.67,-62.18\"/>\n</g>\n<!-- 316 -->\n<g id=\"node317\" class=\"node\">\n<title>316</title>\n<polygon fill=\"#fdf4ee\" stroke=\"black\" points=\"28849,-53 28653,-53 28653,0 28849,0 28849,-53\"/>\n<text text-anchor=\"middle\" x=\"28751\" y=\"-37.8\" font-family=\"Helvetica,sans-Serif\" font-size=\"14.00\">squared_error = 3623159.972</text>\n<text text-anchor=\"middle\" x=\"28751\" y=\"-22.8\" font-family=\"Helvetica,sans-Serif\" font-size=\"14.00\">samples = 2</text>\n<text text-anchor=\"middle\" x=\"28751\" y=\"-7.8\" font-family=\"Helvetica,sans-Serif\" font-size=\"14.00\">value = 21921.27</text>\n</g>\n<!-- 314&#45;&gt;316 -->\n<g id=\"edge316\" class=\"edge\">\n<title>314&#45;&gt;316</title>\n<path fill=\"none\" stroke=\"black\" d=\"M28624.2,-88.95C28645.34,-78.7 28668.51,-67.47 28689.2,-57.45\"/>\n<polygon fill=\"black\" stroke=\"black\" points=\"28690.73,-60.6 28698.2,-53.09 28687.68,-54.3 28690.73,-60.6\"/>\n</g>\n<!-- 318 -->\n<g id=\"node319\" class=\"node\">\n<title>318</title>\n<polygon fill=\"#f6d5bd\" stroke=\"black\" points=\"28643,-253.5 28507,-253.5 28507,-200.5 28643,-200.5 28643,-253.5\"/>\n<text text-anchor=\"middle\" x=\"28575\" y=\"-238.3\" font-family=\"Helvetica,sans-Serif\" font-size=\"14.00\">squared_error = 0.0</text>\n<text text-anchor=\"middle\" x=\"28575\" y=\"-223.3\" font-family=\"Helvetica,sans-Serif\" font-size=\"14.00\">samples = 2</text>\n<text text-anchor=\"middle\" x=\"28575\" y=\"-208.3\" font-family=\"Helvetica,sans-Serif\" font-size=\"14.00\">value = 82110.05</text>\n</g>\n<!-- 317&#45;&gt;318 -->\n<g id=\"edge318\" class=\"edge\">\n<title>317&#45;&gt;318</title>\n<path fill=\"none\" stroke=\"black\" d=\"M28575,-296.88C28575,-286.33 28575,-274.6 28575,-263.85\"/>\n<polygon fill=\"black\" stroke=\"black\" points=\"28578.5,-263.52 28575,-253.52 28571.5,-263.52 28578.5,-263.52\"/>\n</g>\n<!-- 319 -->\n<g id=\"node320\" class=\"node\">\n<title>319</title>\n<polygon fill=\"#f9e1cf\" stroke=\"black\" points=\"28898,-261 28680,-261 28680,-193 28898,-193 28898,-261\"/>\n<text text-anchor=\"middle\" x=\"28789\" y=\"-245.8\" font-family=\"Helvetica,sans-Serif\" font-size=\"14.00\">tempo_emprego &lt;= 27.233</text>\n<text text-anchor=\"middle\" x=\"28789\" y=\"-230.8\" font-family=\"Helvetica,sans-Serif\" font-size=\"14.00\">squared_error = 2199479311.887</text>\n<text text-anchor=\"middle\" x=\"28789\" y=\"-215.8\" font-family=\"Helvetica,sans-Serif\" font-size=\"14.00\">samples = 7</text>\n<text text-anchor=\"middle\" x=\"28789\" y=\"-200.8\" font-family=\"Helvetica,sans-Serif\" font-size=\"14.00\">value = 59390.707</text>\n</g>\n<!-- 317&#45;&gt;319 -->\n<g id=\"edge319\" class=\"edge\">\n<title>317&#45;&gt;319</title>\n<path fill=\"none\" stroke=\"black\" d=\"M28644.48,-296.88C28665.52,-286.86 28688.77,-275.77 28710.36,-265.48\"/>\n<polygon fill=\"black\" stroke=\"black\" points=\"28711.98,-268.59 28719.5,-261.12 28708.97,-262.27 28711.98,-268.59\"/>\n</g>\n<!-- 320 -->\n<g id=\"node321\" class=\"node\">\n<title>320</title>\n<polygon fill=\"#f8decb\" stroke=\"black\" points=\"28898,-149.5 28680,-149.5 28680,-96.5 28898,-96.5 28898,-149.5\"/>\n<text text-anchor=\"middle\" x=\"28789\" y=\"-134.3\" font-family=\"Helvetica,sans-Serif\" font-size=\"14.00\">squared_error = 4004045106.136</text>\n<text text-anchor=\"middle\" x=\"28789\" y=\"-119.3\" font-family=\"Helvetica,sans-Serif\" font-size=\"14.00\">samples = 3</text>\n<text text-anchor=\"middle\" x=\"28789\" y=\"-104.3\" font-family=\"Helvetica,sans-Serif\" font-size=\"14.00\">value = 64518.297</text>\n</g>\n<!-- 319&#45;&gt;320 -->\n<g id=\"edge320\" class=\"edge\">\n<title>319&#45;&gt;320</title>\n<path fill=\"none\" stroke=\"black\" d=\"M28789,-192.88C28789,-182.33 28789,-170.6 28789,-159.85\"/>\n<polygon fill=\"black\" stroke=\"black\" points=\"28792.5,-159.52 28789,-149.52 28785.5,-159.52 28792.5,-159.52\"/>\n</g>\n<!-- 321 -->\n<g id=\"node322\" class=\"node\">\n<title>321</title>\n<polygon fill=\"#f9e3d3\" stroke=\"black\" points=\"29127.5,-157 28916.5,-157 28916.5,-89 29127.5,-89 29127.5,-157\"/>\n<text text-anchor=\"middle\" x=\"29022\" y=\"-141.8\" font-family=\"Helvetica,sans-Serif\" font-size=\"14.00\">educacao_Secundário &lt;= 0.5</text>\n<text text-anchor=\"middle\" x=\"29022\" y=\"-126.8\" font-family=\"Helvetica,sans-Serif\" font-size=\"14.00\">squared_error = 811546487.399</text>\n<text text-anchor=\"middle\" x=\"29022\" y=\"-111.8\" font-family=\"Helvetica,sans-Serif\" font-size=\"14.00\">samples = 4</text>\n<text text-anchor=\"middle\" x=\"29022\" y=\"-96.8\" font-family=\"Helvetica,sans-Serif\" font-size=\"14.00\">value = 55545.015</text>\n</g>\n<!-- 319&#45;&gt;321 -->\n<g id=\"edge321\" class=\"edge\">\n<title>319&#45;&gt;321</title>\n<path fill=\"none\" stroke=\"black\" d=\"M28864.65,-192.88C28887.76,-182.77 28913.32,-171.58 28937.01,-161.21\"/>\n<polygon fill=\"black\" stroke=\"black\" points=\"28938.58,-164.34 28946.33,-157.12 28935.77,-157.93 28938.58,-164.34\"/>\n</g>\n<!-- 322 -->\n<g id=\"node323\" class=\"node\">\n<title>322</title>\n<polygon fill=\"#f9e3d3\" stroke=\"black\" points=\"29103.5,-53 28892.5,-53 28892.5,0 29103.5,0 29103.5,-53\"/>\n<text text-anchor=\"middle\" x=\"28998\" y=\"-37.8\" font-family=\"Helvetica,sans-Serif\" font-size=\"14.00\">squared_error = 811546487.399</text>\n<text text-anchor=\"middle\" x=\"28998\" y=\"-22.8\" font-family=\"Helvetica,sans-Serif\" font-size=\"14.00\">samples = 2</text>\n<text text-anchor=\"middle\" x=\"28998\" y=\"-7.8\" font-family=\"Helvetica,sans-Serif\" font-size=\"14.00\">value = 55545.015</text>\n</g>\n<!-- 321&#45;&gt;322 -->\n<g id=\"edge322\" class=\"edge\">\n<title>321&#45;&gt;322</title>\n<path fill=\"none\" stroke=\"black\" d=\"M29013.61,-88.95C29011.49,-80.62 29009.21,-71.65 29007.07,-63.2\"/>\n<polygon fill=\"black\" stroke=\"black\" points=\"29010.39,-62.07 29004.54,-53.24 29003.61,-63.79 29010.39,-62.07\"/>\n</g>\n<!-- 323 -->\n<g id=\"node324\" class=\"node\">\n<title>323</title>\n<polygon fill=\"#f9e3d3\" stroke=\"black\" points=\"29332.5,-53 29121.5,-53 29121.5,0 29332.5,0 29332.5,-53\"/>\n<text text-anchor=\"middle\" x=\"29227\" y=\"-37.8\" font-family=\"Helvetica,sans-Serif\" font-size=\"14.00\">squared_error = 811546487.399</text>\n<text text-anchor=\"middle\" x=\"29227\" y=\"-22.8\" font-family=\"Helvetica,sans-Serif\" font-size=\"14.00\">samples = 2</text>\n<text text-anchor=\"middle\" x=\"29227\" y=\"-7.8\" font-family=\"Helvetica,sans-Serif\" font-size=\"14.00\">value = 55545.015</text>\n</g>\n<!-- 321&#45;&gt;323 -->\n<g id=\"edge323\" class=\"edge\">\n<title>321&#45;&gt;323</title>\n<path fill=\"none\" stroke=\"black\" d=\"M29093.7,-88.95C29116.03,-78.66 29140.5,-67.37 29162.32,-57.32\"/>\n<polygon fill=\"black\" stroke=\"black\" points=\"29163.88,-60.45 29171.49,-53.09 29160.95,-54.09 29163.88,-60.45\"/>\n</g>\n<!-- 325 -->\n<g id=\"node326\" class=\"node\">\n<title>325</title>\n<polygon fill=\"#f8dfcd\" stroke=\"black\" points=\"29416.5,-469 29205.5,-469 29205.5,-401 29416.5,-401 29416.5,-469\"/>\n<text text-anchor=\"middle\" x=\"29311\" y=\"-453.8\" font-family=\"Helvetica,sans-Serif\" font-size=\"14.00\">tempo_emprego &lt;= 31.599</text>\n<text text-anchor=\"middle\" x=\"29311\" y=\"-438.8\" font-family=\"Helvetica,sans-Serif\" font-size=\"14.00\">squared_error = 437798585.652</text>\n<text text-anchor=\"middle\" x=\"29311\" y=\"-423.8\" font-family=\"Helvetica,sans-Serif\" font-size=\"14.00\">samples = 13</text>\n<text text-anchor=\"middle\" x=\"29311\" y=\"-408.8\" font-family=\"Helvetica,sans-Serif\" font-size=\"14.00\">value = 62540.255</text>\n</g>\n<!-- 324&#45;&gt;325 -->\n<g id=\"edge325\" class=\"edge\">\n<title>324&#45;&gt;325</title>\n<path fill=\"none\" stroke=\"black\" d=\"M29311,-504.88C29311,-496.78 29311,-487.98 29311,-479.47\"/>\n<polygon fill=\"black\" stroke=\"black\" points=\"29314.5,-479.3 29311,-469.3 29307.5,-479.3 29314.5,-479.3\"/>\n</g>\n<!-- 334 -->\n<g id=\"node335\" class=\"node\">\n<title>334</title>\n<polygon fill=\"#efb285\" stroke=\"black\" points=\"29880.5,-469 29629.5,-469 29629.5,-401 29880.5,-401 29880.5,-469\"/>\n<text text-anchor=\"middle\" x=\"29755\" y=\"-453.8\" font-family=\"Helvetica,sans-Serif\" font-size=\"14.00\">tipo_residencia_Governamental &lt;= 0.5</text>\n<text text-anchor=\"middle\" x=\"29755\" y=\"-438.8\" font-family=\"Helvetica,sans-Serif\" font-size=\"14.00\">squared_error = 2936956248.412</text>\n<text text-anchor=\"middle\" x=\"29755\" y=\"-423.8\" font-family=\"Helvetica,sans-Serif\" font-size=\"14.00\">samples = 7</text>\n<text text-anchor=\"middle\" x=\"29755\" y=\"-408.8\" font-family=\"Helvetica,sans-Serif\" font-size=\"14.00\">value = 150861.624</text>\n</g>\n<!-- 324&#45;&gt;334 -->\n<g id=\"edge334\" class=\"edge\">\n<title>324&#45;&gt;334</title>\n<path fill=\"none\" stroke=\"black\" d=\"M29420.18,-512.92C29480.39,-499.09 29555.66,-481.79 29619.58,-467.11\"/>\n<polygon fill=\"black\" stroke=\"black\" points=\"29620.37,-470.52 29629.34,-464.87 29618.81,-463.7 29620.37,-470.52\"/>\n</g>\n<!-- 326 -->\n<g id=\"node327\" class=\"node\">\n<title>326</title>\n<polygon fill=\"#fdf5ef\" stroke=\"black\" points=\"29285,-357.5 29149,-357.5 29149,-304.5 29285,-304.5 29285,-357.5\"/>\n<text text-anchor=\"middle\" x=\"29217\" y=\"-342.3\" font-family=\"Helvetica,sans-Serif\" font-size=\"14.00\">squared_error = 0.0</text>\n<text text-anchor=\"middle\" x=\"29217\" y=\"-327.3\" font-family=\"Helvetica,sans-Serif\" font-size=\"14.00\">samples = 1</text>\n<text text-anchor=\"middle\" x=\"29217\" y=\"-312.3\" font-family=\"Helvetica,sans-Serif\" font-size=\"14.00\">value = 20307.78</text>\n</g>\n<!-- 325&#45;&gt;326 -->\n<g id=\"edge326\" class=\"edge\">\n<title>325&#45;&gt;326</title>\n<path fill=\"none\" stroke=\"black\" d=\"M29280.48,-400.88C29269.94,-389.45 29258.13,-376.63 29247.59,-365.19\"/>\n<polygon fill=\"black\" stroke=\"black\" points=\"29249.87,-362.5 29240.52,-357.52 29244.72,-367.25 29249.87,-362.5\"/>\n</g>\n<!-- 327 -->\n<g id=\"node328\" class=\"node\">\n<title>327</title>\n<polygon fill=\"#f8ddca\" stroke=\"black\" points=\"29506.5,-365 29303.5,-365 29303.5,-297 29506.5,-297 29506.5,-365\"/>\n<text text-anchor=\"middle\" x=\"29405\" y=\"-349.8\" font-family=\"Helvetica,sans-Serif\" font-size=\"14.00\">idade &lt;= 53.5</text>\n<text text-anchor=\"middle\" x=\"29405\" y=\"-334.8\" font-family=\"Helvetica,sans-Serif\" font-size=\"14.00\">squared_error = 313263989.61</text>\n<text text-anchor=\"middle\" x=\"29405\" y=\"-319.8\" font-family=\"Helvetica,sans-Serif\" font-size=\"14.00\">samples = 12</text>\n<text text-anchor=\"middle\" x=\"29405\" y=\"-304.8\" font-family=\"Helvetica,sans-Serif\" font-size=\"14.00\">value = 66059.628</text>\n</g>\n<!-- 325&#45;&gt;327 -->\n<g id=\"edge327\" class=\"edge\">\n<title>325&#45;&gt;327</title>\n<path fill=\"none\" stroke=\"black\" d=\"M29341.52,-400.88C29349.81,-391.89 29358.88,-382.04 29367.51,-372.68\"/>\n<polygon fill=\"black\" stroke=\"black\" points=\"29370.11,-375.02 29374.31,-365.3 29364.96,-370.28 29370.11,-375.02\"/>\n</g>\n<!-- 328 -->\n<g id=\"node329\" class=\"node\">\n<title>328</title>\n<polygon fill=\"#f6d6be\" stroke=\"black\" points=\"29402,-261 29166,-261 29166,-193 29402,-193 29402,-261\"/>\n<text text-anchor=\"middle\" x=\"29284\" y=\"-245.8\" font-family=\"Helvetica,sans-Serif\" font-size=\"14.00\">educacao_Superior completo &lt;= 0.5</text>\n<text text-anchor=\"middle\" x=\"29284\" y=\"-230.8\" font-family=\"Helvetica,sans-Serif\" font-size=\"14.00\">squared_error = 238853587.545</text>\n<text text-anchor=\"middle\" x=\"29284\" y=\"-215.8\" font-family=\"Helvetica,sans-Serif\" font-size=\"14.00\">samples = 3</text>\n<text text-anchor=\"middle\" x=\"29284\" y=\"-200.8\" font-family=\"Helvetica,sans-Serif\" font-size=\"14.00\">value = 80784.557</text>\n</g>\n<!-- 327&#45;&gt;328 -->\n<g id=\"edge328\" class=\"edge\">\n<title>327&#45;&gt;328</title>\n<path fill=\"none\" stroke=\"black\" d=\"M29365.71,-296.88C29354.73,-287.62 29342.67,-277.45 29331.27,-267.85\"/>\n<polygon fill=\"black\" stroke=\"black\" points=\"29333.4,-265.07 29323.5,-261.3 29328.89,-270.42 29333.4,-265.07\"/>\n</g>\n<!-- 331 -->\n<g id=\"node332\" class=\"node\">\n<title>331</title>\n<polygon fill=\"#f9e0ce\" stroke=\"black\" points=\"29631.5,-261 29420.5,-261 29420.5,-193 29631.5,-193 29631.5,-261\"/>\n<text text-anchor=\"middle\" x=\"29526\" y=\"-245.8\" font-family=\"Helvetica,sans-Serif\" font-size=\"14.00\">idade &lt;= 56.5</text>\n<text text-anchor=\"middle\" x=\"29526\" y=\"-230.8\" font-family=\"Helvetica,sans-Serif\" font-size=\"14.00\">squared_error = 241701439.648</text>\n<text text-anchor=\"middle\" x=\"29526\" y=\"-215.8\" font-family=\"Helvetica,sans-Serif\" font-size=\"14.00\">samples = 9</text>\n<text text-anchor=\"middle\" x=\"29526\" y=\"-200.8\" font-family=\"Helvetica,sans-Serif\" font-size=\"14.00\">value = 61151.318</text>\n</g>\n<!-- 327&#45;&gt;331 -->\n<g id=\"edge331\" class=\"edge\">\n<title>327&#45;&gt;331</title>\n<path fill=\"none\" stroke=\"black\" d=\"M29444.29,-296.88C29455.27,-287.62 29467.33,-277.45 29478.73,-267.85\"/>\n<polygon fill=\"black\" stroke=\"black\" points=\"29481.11,-270.42 29486.5,-261.3 29476.6,-265.07 29481.11,-270.42\"/>\n</g>\n<!-- 329 -->\n<g id=\"node330\" class=\"node\">\n<title>329</title>\n<polygon fill=\"#f8dbc7\" stroke=\"black\" points=\"29282,-149.5 29146,-149.5 29146,-96.5 29282,-96.5 29282,-149.5\"/>\n<text text-anchor=\"middle\" x=\"29214\" y=\"-134.3\" font-family=\"Helvetica,sans-Serif\" font-size=\"14.00\">squared_error = 0.0</text>\n<text text-anchor=\"middle\" x=\"29214\" y=\"-119.3\" font-family=\"Helvetica,sans-Serif\" font-size=\"14.00\">samples = 2</text>\n<text text-anchor=\"middle\" x=\"29214\" y=\"-104.3\" font-family=\"Helvetica,sans-Serif\" font-size=\"14.00\">value = 69856.3</text>\n</g>\n<!-- 328&#45;&gt;329 -->\n<g id=\"edge329\" class=\"edge\">\n<title>328&#45;&gt;329</title>\n<path fill=\"none\" stroke=\"black\" d=\"M29261.27,-192.88C29253.57,-181.67 29244.97,-169.13 29237.23,-157.85\"/>\n<polygon fill=\"black\" stroke=\"black\" points=\"29240.06,-155.78 29231.51,-149.52 29234.29,-159.75 29240.06,-155.78\"/>\n</g>\n<!-- 330 -->\n<g id=\"node331\" class=\"node\">\n<title>330</title>\n<polygon fill=\"#f4caac\" stroke=\"black\" points=\"29440,-149.5 29300,-149.5 29300,-96.5 29440,-96.5 29440,-149.5\"/>\n<text text-anchor=\"middle\" x=\"29370\" y=\"-134.3\" font-family=\"Helvetica,sans-Serif\" font-size=\"14.00\">squared_error = &#45;0.0</text>\n<text text-anchor=\"middle\" x=\"29370\" y=\"-119.3\" font-family=\"Helvetica,sans-Serif\" font-size=\"14.00\">samples = 1</text>\n<text text-anchor=\"middle\" x=\"29370\" y=\"-104.3\" font-family=\"Helvetica,sans-Serif\" font-size=\"14.00\">value = 102641.07</text>\n</g>\n<!-- 328&#45;&gt;330 -->\n<g id=\"edge330\" class=\"edge\">\n<title>328&#45;&gt;330</title>\n<path fill=\"none\" stroke=\"black\" d=\"M29311.92,-192.88C29321.57,-181.45 29332.37,-168.63 29342.02,-157.19\"/>\n<polygon fill=\"black\" stroke=\"black\" points=\"29344.71,-159.42 29348.48,-149.52 29339.36,-154.91 29344.71,-159.42\"/>\n</g>\n<!-- 332 -->\n<g id=\"node333\" class=\"node\">\n<title>332</title>\n<polygon fill=\"#f8dfcc\" stroke=\"black\" points=\"29594,-149.5 29458,-149.5 29458,-96.5 29594,-96.5 29594,-149.5\"/>\n<text text-anchor=\"middle\" x=\"29526\" y=\"-134.3\" font-family=\"Helvetica,sans-Serif\" font-size=\"14.00\">squared_error = 0.0</text>\n<text text-anchor=\"middle\" x=\"29526\" y=\"-119.3\" font-family=\"Helvetica,sans-Serif\" font-size=\"14.00\">samples = 4</text>\n<text text-anchor=\"middle\" x=\"29526\" y=\"-104.3\" font-family=\"Helvetica,sans-Serif\" font-size=\"14.00\">value = 63286.11</text>\n</g>\n<!-- 331&#45;&gt;332 -->\n<g id=\"edge332\" class=\"edge\">\n<title>331&#45;&gt;332</title>\n<path fill=\"none\" stroke=\"black\" d=\"M29526,-192.88C29526,-182.33 29526,-170.6 29526,-159.85\"/>\n<polygon fill=\"black\" stroke=\"black\" points=\"29529.5,-159.52 29526,-149.52 29522.5,-159.52 29529.5,-159.52\"/>\n</g>\n<!-- 333 -->\n<g id=\"node334\" class=\"node\">\n<title>333</title>\n<polygon fill=\"#f9e1cf\" stroke=\"black\" points=\"29823.5,-149.5 29612.5,-149.5 29612.5,-96.5 29823.5,-96.5 29823.5,-149.5\"/>\n<text text-anchor=\"middle\" x=\"29718\" y=\"-134.3\" font-family=\"Helvetica,sans-Serif\" font-size=\"14.00\">squared_error = 428500024.889</text>\n<text text-anchor=\"middle\" x=\"29718\" y=\"-119.3\" font-family=\"Helvetica,sans-Serif\" font-size=\"14.00\">samples = 5</text>\n<text text-anchor=\"middle\" x=\"29718\" y=\"-104.3\" font-family=\"Helvetica,sans-Serif\" font-size=\"14.00\">value = 59443.484</text>\n</g>\n<!-- 331&#45;&gt;333 -->\n<g id=\"edge333\" class=\"edge\">\n<title>331&#45;&gt;333</title>\n<path fill=\"none\" stroke=\"black\" d=\"M29588.34,-192.88C29611.73,-180.46 29638.18,-166.41 29661.06,-154.25\"/>\n<polygon fill=\"black\" stroke=\"black\" points=\"29662.77,-157.3 29669.96,-149.52 29659.49,-151.12 29662.77,-157.3\"/>\n</g>\n<!-- 335 -->\n<g id=\"node336\" class=\"node\">\n<title>335</title>\n<polygon fill=\"#f1ba92\" stroke=\"black\" points=\"29860.5,-365 29649.5,-365 29649.5,-297 29860.5,-297 29860.5,-365\"/>\n<text text-anchor=\"middle\" x=\"29755\" y=\"-349.8\" font-family=\"Helvetica,sans-Serif\" font-size=\"14.00\">posse_de_imovel_True &lt;= 0.5</text>\n<text text-anchor=\"middle\" x=\"29755\" y=\"-334.8\" font-family=\"Helvetica,sans-Serif\" font-size=\"14.00\">squared_error = 1698085369.28</text>\n<text text-anchor=\"middle\" x=\"29755\" y=\"-319.8\" font-family=\"Helvetica,sans-Serif\" font-size=\"14.00\">samples = 6</text>\n<text text-anchor=\"middle\" x=\"29755\" y=\"-304.8\" font-family=\"Helvetica,sans-Serif\" font-size=\"14.00\">value = 135148.283</text>\n</g>\n<!-- 334&#45;&gt;335 -->\n<g id=\"edge335\" class=\"edge\">\n<title>334&#45;&gt;335</title>\n<path fill=\"none\" stroke=\"black\" d=\"M29755,-400.88C29755,-392.78 29755,-383.98 29755,-375.47\"/>\n<polygon fill=\"black\" stroke=\"black\" points=\"29758.5,-375.3 29755,-365.3 29751.5,-375.3 29758.5,-375.3\"/>\n</g>\n<!-- 338 -->\n<g id=\"node339\" class=\"node\">\n<title>338</title>\n<polygon fill=\"#e58139\" stroke=\"black\" points=\"30019,-357.5 29879,-357.5 29879,-304.5 30019,-304.5 30019,-357.5\"/>\n<text text-anchor=\"middle\" x=\"29949\" y=\"-342.3\" font-family=\"Helvetica,sans-Serif\" font-size=\"14.00\">squared_error = &#45;0.0</text>\n<text text-anchor=\"middle\" x=\"29949\" y=\"-327.3\" font-family=\"Helvetica,sans-Serif\" font-size=\"14.00\">samples = 1</text>\n<text text-anchor=\"middle\" x=\"29949\" y=\"-312.3\" font-family=\"Helvetica,sans-Serif\" font-size=\"14.00\">value = 245141.67</text>\n</g>\n<!-- 334&#45;&gt;338 -->\n<g id=\"edge338\" class=\"edge\">\n<title>334&#45;&gt;338</title>\n<path fill=\"none\" stroke=\"black\" d=\"M29817.99,-400.88C29841.62,-388.46 29868.35,-374.41 29891.46,-362.25\"/>\n<polygon fill=\"black\" stroke=\"black\" points=\"29893.24,-365.27 29900.46,-357.52 29889.98,-359.08 29893.24,-365.27\"/>\n</g>\n<!-- 336 -->\n<g id=\"node337\" class=\"node\">\n<title>336</title>\n<polygon fill=\"#eead7e\" stroke=\"black\" points=\"29860.5,-253.5 29649.5,-253.5 29649.5,-200.5 29860.5,-200.5 29860.5,-253.5\"/>\n<text text-anchor=\"middle\" x=\"29755\" y=\"-238.3\" font-family=\"Helvetica,sans-Serif\" font-size=\"14.00\">squared_error = 381340050.085</text>\n<text text-anchor=\"middle\" x=\"29755\" y=\"-223.3\" font-family=\"Helvetica,sans-Serif\" font-size=\"14.00\">samples = 2</text>\n<text text-anchor=\"middle\" x=\"29755\" y=\"-208.3\" font-family=\"Helvetica,sans-Serif\" font-size=\"14.00\">value = 160010.87</text>\n</g>\n<!-- 335&#45;&gt;336 -->\n<g id=\"edge336\" class=\"edge\">\n<title>335&#45;&gt;336</title>\n<path fill=\"none\" stroke=\"black\" d=\"M29755,-296.88C29755,-286.33 29755,-274.6 29755,-263.85\"/>\n<polygon fill=\"black\" stroke=\"black\" points=\"29758.5,-263.52 29755,-253.52 29751.5,-263.52 29758.5,-263.52\"/>\n</g>\n<!-- 337 -->\n<g id=\"node338\" class=\"node\">\n<title>337</title>\n<polygon fill=\"#f2c09c\" stroke=\"black\" points=\"30089.5,-253.5 29878.5,-253.5 29878.5,-200.5 30089.5,-200.5 30089.5,-253.5\"/>\n<text text-anchor=\"middle\" x=\"29984\" y=\"-238.3\" font-family=\"Helvetica,sans-Serif\" font-size=\"14.00\">squared_error = 1892846867.06</text>\n<text text-anchor=\"middle\" x=\"29984\" y=\"-223.3\" font-family=\"Helvetica,sans-Serif\" font-size=\"14.00\">samples = 4</text>\n<text text-anchor=\"middle\" x=\"29984\" y=\"-208.3\" font-family=\"Helvetica,sans-Serif\" font-size=\"14.00\">value = 122716.99</text>\n</g>\n<!-- 335&#45;&gt;337 -->\n<g id=\"edge337\" class=\"edge\">\n<title>335&#45;&gt;337</title>\n<path fill=\"none\" stroke=\"black\" d=\"M29829.35,-296.88C29857.74,-284.24 29889.91,-269.91 29917.53,-257.61\"/>\n<polygon fill=\"black\" stroke=\"black\" points=\"29918.99,-260.79 29926.71,-253.52 29916.15,-254.39 29918.99,-260.79\"/>\n</g>\n</g>\n</svg>\n",
            "text/plain": [
              "<graphviz.sources.Source at 0x7937d68f7f40>"
            ]
          },
          "metadata": {},
          "execution_count": 43
        }
      ]
    },
    {
      "cell_type": "code",
      "source": [
        "# Criando a representação gráfica da árvore de decisão treinada\n",
        "data = tree.export_graphviz(regr2, out_file=None,\n",
        "                                feature_names=X_train_c.columns,\n",
        "                                filled=True)\n",
        "\n",
        "# Criando um objeto Source do Graphviz para visualizar a árvore\n",
        "graph = graphviz.Source(data, format=\"png\")\n",
        "\n",
        "# Visualizando a árvore de decisão\n",
        "graph"
      ],
      "metadata": {
        "colab": {
          "base_uri": "https://localhost:8080/",
          "height": 399
        },
        "id": "QRn8DfbIzhZD",
        "outputId": "4ffaffcd-1ff6-4703-fe27-10972ffaf60c"
      },
      "execution_count": null,
      "outputs": [
        {
          "output_type": "execute_result",
          "data": {
            "image/svg+xml": "<?xml version=\"1.0\" encoding=\"UTF-8\" standalone=\"no\"?>\n<!DOCTYPE svg PUBLIC \"-//W3C//DTD SVG 1.1//EN\"\n \"http://www.w3.org/Graphics/SVG/1.1/DTD/svg11.dtd\">\n<!-- Generated by graphviz version 2.43.0 (0)\n -->\n<!-- Title: Tree Pages: 1 -->\n<svg width=\"884pt\" height=\"269pt\"\n viewBox=\"0.00 0.00 883.50 269.00\" xmlns=\"http://www.w3.org/2000/svg\" xmlns:xlink=\"http://www.w3.org/1999/xlink\">\n<g id=\"graph0\" class=\"graph\" transform=\"scale(1 1) rotate(0) translate(4 265)\">\n<title>Tree</title>\n<polygon fill=\"white\" stroke=\"transparent\" points=\"-4,4 -4,-265 879.5,-265 879.5,4 -4,4\"/>\n<!-- 0 -->\n<g id=\"node1\" class=\"node\">\n<title>0</title>\n<polygon fill=\"#fdf5f0\" stroke=\"black\" points=\"529,-261 326,-261 326,-193 529,-193 529,-261\"/>\n<text text-anchor=\"middle\" x=\"427.5\" y=\"-245.8\" font-family=\"Helvetica,sans-Serif\" font-size=\"14.00\">tempo_emprego &lt;= 17.011</text>\n<text text-anchor=\"middle\" x=\"427.5\" y=\"-230.8\" font-family=\"Helvetica,sans-Serif\" font-size=\"14.00\">squared_error = 86480286.682</text>\n<text text-anchor=\"middle\" x=\"427.5\" y=\"-215.8\" font-family=\"Helvetica,sans-Serif\" font-size=\"14.00\">samples = 9320</text>\n<text text-anchor=\"middle\" x=\"427.5\" y=\"-200.8\" font-family=\"Helvetica,sans-Serif\" font-size=\"14.00\">value = 6176.558</text>\n</g>\n<!-- 1 -->\n<g id=\"node2\" class=\"node\">\n<title>1</title>\n<polygon fill=\"#fef9f6\" stroke=\"black\" points=\"414.5,-157 218.5,-157 218.5,-89 414.5,-89 414.5,-157\"/>\n<text text-anchor=\"middle\" x=\"316.5\" y=\"-141.8\" font-family=\"Helvetica,sans-Serif\" font-size=\"14.00\">sexo_M &lt;= 0.5</text>\n<text text-anchor=\"middle\" x=\"316.5\" y=\"-126.8\" font-family=\"Helvetica,sans-Serif\" font-size=\"14.00\">squared_error = 34895150.56</text>\n<text text-anchor=\"middle\" x=\"316.5\" y=\"-111.8\" font-family=\"Helvetica,sans-Serif\" font-size=\"14.00\">samples = 8421</text>\n<text text-anchor=\"middle\" x=\"316.5\" y=\"-96.8\" font-family=\"Helvetica,sans-Serif\" font-size=\"14.00\">value = 5212.23</text>\n</g>\n<!-- 0&#45;&gt;1 -->\n<g id=\"edge1\" class=\"edge\">\n<title>0&#45;&gt;1</title>\n<path fill=\"none\" stroke=\"black\" d=\"M391.46,-192.88C381.48,-183.71 370.53,-173.65 360.16,-164.12\"/>\n<polygon fill=\"black\" stroke=\"black\" points=\"362.47,-161.49 352.74,-157.3 357.73,-166.64 362.47,-161.49\"/>\n<text text-anchor=\"middle\" x=\"353.79\" y=\"-178.58\" font-family=\"Helvetica,sans-Serif\" font-size=\"14.00\">True</text>\n</g>\n<!-- 4 -->\n<g id=\"node5\" class=\"node\">\n<title>4</title>\n<polygon fill=\"#f6d3ba\" stroke=\"black\" points=\"644,-157 433,-157 433,-89 644,-89 644,-157\"/>\n<text text-anchor=\"middle\" x=\"538.5\" y=\"-141.8\" font-family=\"Helvetica,sans-Serif\" font-size=\"14.00\">sexo_M &lt;= 0.5</text>\n<text text-anchor=\"middle\" x=\"538.5\" y=\"-126.8\" font-family=\"Helvetica,sans-Serif\" font-size=\"14.00\">squared_error = 479377509.577</text>\n<text text-anchor=\"middle\" x=\"538.5\" y=\"-111.8\" font-family=\"Helvetica,sans-Serif\" font-size=\"14.00\">samples = 899</text>\n<text text-anchor=\"middle\" x=\"538.5\" y=\"-96.8\" font-family=\"Helvetica,sans-Serif\" font-size=\"14.00\">value = 15209.491</text>\n</g>\n<!-- 0&#45;&gt;4 -->\n<g id=\"edge4\" class=\"edge\">\n<title>0&#45;&gt;4</title>\n<path fill=\"none\" stroke=\"black\" d=\"M463.54,-192.88C473.52,-183.71 484.47,-173.65 494.84,-164.12\"/>\n<polygon fill=\"black\" stroke=\"black\" points=\"497.27,-166.64 502.26,-157.3 492.53,-161.49 497.27,-166.64\"/>\n<text text-anchor=\"middle\" x=\"501.21\" y=\"-178.58\" font-family=\"Helvetica,sans-Serif\" font-size=\"14.00\">False</text>\n</g>\n<!-- 2 -->\n<g id=\"node3\" class=\"node\">\n<title>2</title>\n<polygon fill=\"#ffffff\" stroke=\"black\" points=\"203,-53 0,-53 0,0 203,0 203,-53\"/>\n<text text-anchor=\"middle\" x=\"101.5\" y=\"-37.8\" font-family=\"Helvetica,sans-Serif\" font-size=\"14.00\">squared_error = 10336921.834</text>\n<text text-anchor=\"middle\" x=\"101.5\" y=\"-22.8\" font-family=\"Helvetica,sans-Serif\" font-size=\"14.00\">samples = 5206</text>\n<text text-anchor=\"middle\" x=\"101.5\" y=\"-7.8\" font-family=\"Helvetica,sans-Serif\" font-size=\"14.00\">value = 3668.601</text>\n</g>\n<!-- 1&#45;&gt;2 -->\n<g id=\"edge2\" class=\"edge\">\n<title>1&#45;&gt;2</title>\n<path fill=\"none\" stroke=\"black\" d=\"M241.3,-88.95C217.78,-78.61 191.99,-67.27 169.03,-57.18\"/>\n<polygon fill=\"black\" stroke=\"black\" points=\"170.28,-53.91 159.71,-53.09 167.46,-60.31 170.28,-53.91\"/>\n</g>\n<!-- 3 -->\n<g id=\"node4\" class=\"node\">\n<title>3</title>\n<polygon fill=\"#fcf0e7\" stroke=\"black\" points=\"416.5,-53 220.5,-53 220.5,0 416.5,0 416.5,-53\"/>\n<text text-anchor=\"middle\" x=\"318.5\" y=\"-37.8\" font-family=\"Helvetica,sans-Serif\" font-size=\"14.00\">squared_error = 64555628.95</text>\n<text text-anchor=\"middle\" x=\"318.5\" y=\"-22.8\" font-family=\"Helvetica,sans-Serif\" font-size=\"14.00\">samples = 3215</text>\n<text text-anchor=\"middle\" x=\"318.5\" y=\"-7.8\" font-family=\"Helvetica,sans-Serif\" font-size=\"14.00\">value = 7711.803</text>\n</g>\n<!-- 1&#45;&gt;3 -->\n<g id=\"edge3\" class=\"edge\">\n<title>1&#45;&gt;3</title>\n<path fill=\"none\" stroke=\"black\" d=\"M317.2,-88.95C317.37,-80.72 317.56,-71.85 317.74,-63.48\"/>\n<polygon fill=\"black\" stroke=\"black\" points=\"321.24,-63.31 317.96,-53.24 314.24,-63.16 321.24,-63.31\"/>\n</g>\n<!-- 5 -->\n<g id=\"node6\" class=\"node\">\n<title>5</title>\n<polygon fill=\"#fae8dc\" stroke=\"black\" points=\"639,-53 436,-53 436,0 639,0 639,-53\"/>\n<text text-anchor=\"middle\" x=\"537.5\" y=\"-37.8\" font-family=\"Helvetica,sans-Serif\" font-size=\"14.00\">squared_error = 91051960.998</text>\n<text text-anchor=\"middle\" x=\"537.5\" y=\"-22.8\" font-family=\"Helvetica,sans-Serif\" font-size=\"14.00\">samples = 711</text>\n<text text-anchor=\"middle\" x=\"537.5\" y=\"-7.8\" font-family=\"Helvetica,sans-Serif\" font-size=\"14.00\">value = 9552.967</text>\n</g>\n<!-- 4&#45;&gt;5 -->\n<g id=\"edge5\" class=\"edge\">\n<title>4&#45;&gt;5</title>\n<path fill=\"none\" stroke=\"black\" d=\"M538.15,-88.95C538.06,-80.72 537.97,-71.85 537.88,-63.48\"/>\n<polygon fill=\"black\" stroke=\"black\" points=\"541.38,-63.2 537.77,-53.24 534.38,-63.27 541.38,-63.2\"/>\n</g>\n<!-- 6 -->\n<g id=\"node7\" class=\"node\">\n<title>6</title>\n<polygon fill=\"#e58139\" stroke=\"black\" points=\"875.5,-53 657.5,-53 657.5,0 875.5,0 875.5,-53\"/>\n<text text-anchor=\"middle\" x=\"766.5\" y=\"-37.8\" font-family=\"Helvetica,sans-Serif\" font-size=\"14.00\">squared_error = 1369345902.674</text>\n<text text-anchor=\"middle\" x=\"766.5\" y=\"-22.8\" font-family=\"Helvetica,sans-Serif\" font-size=\"14.00\">samples = 188</text>\n<text text-anchor=\"middle\" x=\"766.5\" y=\"-7.8\" font-family=\"Helvetica,sans-Serif\" font-size=\"14.00\">value = 36601.981</text>\n</g>\n<!-- 4&#45;&gt;6 -->\n<g id=\"edge6\" class=\"edge\">\n<title>4&#45;&gt;6</title>\n<path fill=\"none\" stroke=\"black\" d=\"M618.24,-88.95C643.3,-78.56 670.78,-67.17 695.21,-57.05\"/>\n<polygon fill=\"black\" stroke=\"black\" points=\"696.87,-60.15 704.77,-53.09 694.19,-53.68 696.87,-60.15\"/>\n</g>\n</g>\n</svg>\n",
            "text/plain": [
              "<graphviz.sources.Source at 0x7937d98b2b90>"
            ]
          },
          "metadata": {},
          "execution_count": 44
        }
      ]
    },
    {
      "cell_type": "code",
      "source": [
        "# Calcula o caminho para a poda de complexidade de custo\n",
        "path = regr1.cost_complexity_pruning_path(X_train_c, y_train_a)"
      ],
      "metadata": {
        "id": "LE5hi4hoznLg"
      },
      "execution_count": null,
      "outputs": []
    },
    {
      "cell_type": "code",
      "source": [
        "# Obtendo os valores de ccp_alphas (parâmetros de complexidade) e impurities (impurezas) do caminho de custo-complexidade (path)\n",
        "ccp_alphas, impurities = path.ccp_alphas, path.impurities\n",
        "\n",
        "# Criando uma figura com o tamanho de 10x6 polegadas para plotagem\n",
        "plt.figure(figsize=(10, 6))\n",
        "\n",
        "# Plotando o gráfico de ccp_alphas (parâmetros de complexidade) versus impurities (impurezas)\n",
        "plt.plot(ccp_alphas, impurities)\n",
        "\n",
        "# Definindo rótulos para os eixos x e y\n",
        "plt.xlabel(\"Alpha efetivo\")  # Rótulo do eixo x (alpha efetivo)\n",
        "plt.ylabel(\"Impureza total das folhas\")  # Rótulo do eixo y (impureza total das folhas)\n"
      ],
      "metadata": {
        "colab": {
          "base_uri": "https://localhost:8080/",
          "height": 574
        },
        "id": "Qp1xgZPqzqLo",
        "outputId": "308268be-2ffd-42e2-e422-4621003d410f"
      },
      "execution_count": null,
      "outputs": [
        {
          "output_type": "execute_result",
          "data": {
            "text/plain": [
              "Text(0, 0.5, 'Impureza total das folhas')"
            ]
          },
          "metadata": {},
          "execution_count": 48
        },
        {
          "output_type": "display_data",
          "data": {
            "text/plain": [
              "<Figure size 1000x600 with 1 Axes>"
            ],
            "image/png": "[encoded data removed]"
          },
          "metadata": {}
        }
      ]
    },
    {
      "cell_type": "code",
      "source": [
        "# Inicializando uma lista vazia para armazenar os modelos de árvore de decisão\n",
        "clfs = []\n",
        "\n",
        "# Iterando sobre os diferentes valores de ccp_alpha\n",
        "for ccp_alpha in ccp_alphas:\n",
        "    # Criando um modelo de árvore de decisão com o ccp_alpha atual\n",
        "    # O ccp_alpha é um hiperparâmetro que controla a poda da árvore\n",
        "    clf = DecisionTreeRegressor(random_state=0, ccp_alpha=ccp_alpha)\n",
        "\n",
        "    # Treinando o modelo com os dados de treinamento\n",
        "    clf.fit(X_train_c, y_train_a)\n",
        "\n",
        "    # Adicionando o modelo treinado à lista de modelos\n",
        "    clfs.append(clf)\n"
      ],
      "metadata": {
        "id": "YHDXBemoztav"
      },
      "execution_count": null,
      "outputs": []
    },
    {
      "cell_type": "code",
      "source": [
        "# Criando a tree_depths\n",
        "tree_depths = [clf.tree_.max_depth for clf in clfs]\n",
        "plt.figure(figsize=(10,  5))\n",
        "plt.plot(ccp_alphas[:-1], tree_depths[:-1])\n",
        "plt.xlabel(\"effective alpha\")\n",
        "plt.ylabel(\"Profundidade da árvore\")"
      ],
      "metadata": {
        "colab": {
          "base_uri": "https://localhost:8080/",
          "height": 482
        },
        "id": "xkQcptCXzv3f",
        "outputId": "37076317-f45d-4fb8-8e25-f3d6e59c996a"
      },
      "execution_count": null,
      "outputs": [
        {
          "output_type": "execute_result",
          "data": {
            "text/plain": [
              "Text(0, 0.5, 'Profundidade da árvore')"
            ]
          },
          "metadata": {},
          "execution_count": 52
        },
        {
          "output_type": "display_data",
          "data": {
            "text/plain": [
              "<Figure size 1000x500 with 1 Axes>"
            ],
            "image/png": "[encoded data removed]"
          },
          "metadata": {}
        }
      ]
    },
    {
      "cell_type": "code",
      "source": [
        "# Calculando os scores de treinamento para cada classificador e armazenando-os em uma lista\n",
        "train_scores = [mean_squared_error(y_train_a, clf.predict(X_train_c)) for clf in clfs]"
      ],
      "metadata": {
        "id": "OUpYzNXmzydP"
      },
      "execution_count": null,
      "outputs": []
    },
    {
      "cell_type": "code",
      "source": [
        "# Visualizando o gráfico MSE x alpha\n",
        "fig, ax = plt.subplots()\n",
        "ax.set_xlabel(\"alpha\")\n",
        "ax.set_ylabel(\"MSE\")\n",
        "ax.set_title(\"MSE x alpha do conjunto de dados de treino e teste\")\n",
        "ax.plot(ccp_alphas[:-1], train_scores[:-1], marker='o', label=\"treino\",\n",
        "        drawstyle=\"steps-post\")\n",
        "ax.legend()\n",
        "plt.show()"
      ],
      "metadata": {
        "colab": {
          "base_uri": "https://localhost:8080/",
          "height": 472
        },
        "id": "v2jWagpOz6wH",
        "outputId": "703b1306-d06f-40ee-ac5a-c237a73d8b54"
      },
      "execution_count": null,
      "outputs": [
        {
          "output_type": "display_data",
          "data": {
            "text/plain": [
              "<Figure size 640x480 with 1 Axes>"
            ],
            "image/png": "[encoded data removed]"
          },
          "metadata": {}
        }
      ]
    },
    {
      "cell_type": "code",
      "source": [
        "# Criando o regressor de árvore de decisão com configurações específicas\n",
        "arvore_final = DecisionTreeRegressor (random_state=0, ccp_alpha=.5)\n",
        "\n",
        "# Treinando o modelo com os dados de treinamento\n",
        "arvore_final.fit(X_train_c, y_train_a)\n",
        "\n",
        "# Imprimindo a profundidade máxima da árvore treinada\n",
        "print(f'Profundidade: {arvore_final.tree_.max_depth}')\n",
        "\n",
        "# Calculando e imprimindo o erro médio quadrático nos dados de treinamento\n",
        "print(f'MSE na base de testes: {mean_squared_error(y_train_a , arvore_final.predict(X_train_c)):.2f}')"
      ],
      "metadata": {
        "colab": {
          "base_uri": "https://localhost:8080/"
        },
        "id": "8huyhDbqz9Hc",
        "outputId": "8df34670-c9fe-4371-9119-75c5e161d7b8"
      },
      "execution_count": null,
      "outputs": [
        {
          "output_type": "stream",
          "name": "stdout",
          "text": [
            "Profundidade: 30\n",
            "MSE na base de testes: 15464082.84\n"
          ]
        }
      ]
    },
    {
      "cell_type": "code",
      "source": [
        "ata = tree.export_graphviz(regr1, out_file=None,\n",
        "                                feature_names=X_train_c.columns,\n",
        "                                filled=True)\n",
        "\n",
        "graph = graphviz.Source(data, format=\"png\")\n",
        "graph"
      ],
      "metadata": {
        "colab": {
          "base_uri": "https://localhost:8080/",
          "height": 400
        },
        "id": "BeSR5yY-0BOs",
        "outputId": "edbbe103-a7ba-426e-eaf5-965c7cecaed0"
      },
      "execution_count": null,
      "outputs": [
        {
          "output_type": "execute_result",
          "data": {
            "image/svg+xml": "<?xml version=\"1.0\" encoding=\"UTF-8\" standalone=\"no\"?>\n<!DOCTYPE svg PUBLIC \"-//W3C//DTD SVG 1.1//EN\"\n \"http://www.w3.org/Graphics/SVG/1.1/DTD/svg11.dtd\">\n<!-- Generated by graphviz version 2.43.0 (0)\n -->\n<!-- Title: Tree Pages: 1 -->\n<svg width=\"884pt\" height=\"269pt\"\n viewBox=\"0.00 0.00 883.50 269.00\" xmlns=\"http://www.w3.org/2000/svg\" xmlns:xlink=\"http://www.w3.org/1999/xlink\">\n<g id=\"graph0\" class=\"graph\" transform=\"scale(1 1) rotate(0) translate(4 265)\">\n<title>Tree</title>\n<polygon fill=\"white\" stroke=\"transparent\" points=\"-4,4 -4,-265 879.5,-265 879.5,4 -4,4\"/>\n<!-- 0 -->\n<g id=\"node1\" class=\"node\">\n<title>0</title>\n<polygon fill=\"#fdf5f0\" stroke=\"black\" points=\"529,-261 326,-261 326,-193 529,-193 529,-261\"/>\n<text text-anchor=\"middle\" x=\"427.5\" y=\"-245.8\" font-family=\"Helvetica,sans-Serif\" font-size=\"14.00\">tempo_emprego &lt;= 17.011</text>\n<text text-anchor=\"middle\" x=\"427.5\" y=\"-230.8\" font-family=\"Helvetica,sans-Serif\" font-size=\"14.00\">squared_error = 86480286.682</text>\n<text text-anchor=\"middle\" x=\"427.5\" y=\"-215.8\" font-family=\"Helvetica,sans-Serif\" font-size=\"14.00\">samples = 9320</text>\n<text text-anchor=\"middle\" x=\"427.5\" y=\"-200.8\" font-family=\"Helvetica,sans-Serif\" font-size=\"14.00\">value = 6176.558</text>\n</g>\n<!-- 1 -->\n<g id=\"node2\" class=\"node\">\n<title>1</title>\n<polygon fill=\"#fef9f6\" stroke=\"black\" points=\"414.5,-157 218.5,-157 218.5,-89 414.5,-89 414.5,-157\"/>\n<text text-anchor=\"middle\" x=\"316.5\" y=\"-141.8\" font-family=\"Helvetica,sans-Serif\" font-size=\"14.00\">sexo_M &lt;= 0.5</text>\n<text text-anchor=\"middle\" x=\"316.5\" y=\"-126.8\" font-family=\"Helvetica,sans-Serif\" font-size=\"14.00\">squared_error = 34895150.56</text>\n<text text-anchor=\"middle\" x=\"316.5\" y=\"-111.8\" font-family=\"Helvetica,sans-Serif\" font-size=\"14.00\">samples = 8421</text>\n<text text-anchor=\"middle\" x=\"316.5\" y=\"-96.8\" font-family=\"Helvetica,sans-Serif\" font-size=\"14.00\">value = 5212.23</text>\n</g>\n<!-- 0&#45;&gt;1 -->\n<g id=\"edge1\" class=\"edge\">\n<title>0&#45;&gt;1</title>\n<path fill=\"none\" stroke=\"black\" d=\"M391.46,-192.88C381.48,-183.71 370.53,-173.65 360.16,-164.12\"/>\n<polygon fill=\"black\" stroke=\"black\" points=\"362.47,-161.49 352.74,-157.3 357.73,-166.64 362.47,-161.49\"/>\n<text text-anchor=\"middle\" x=\"353.79\" y=\"-178.58\" font-family=\"Helvetica,sans-Serif\" font-size=\"14.00\">True</text>\n</g>\n<!-- 4 -->\n<g id=\"node5\" class=\"node\">\n<title>4</title>\n<polygon fill=\"#f6d3ba\" stroke=\"black\" points=\"644,-157 433,-157 433,-89 644,-89 644,-157\"/>\n<text text-anchor=\"middle\" x=\"538.5\" y=\"-141.8\" font-family=\"Helvetica,sans-Serif\" font-size=\"14.00\">sexo_M &lt;= 0.5</text>\n<text text-anchor=\"middle\" x=\"538.5\" y=\"-126.8\" font-family=\"Helvetica,sans-Serif\" font-size=\"14.00\">squared_error = 479377509.577</text>\n<text text-anchor=\"middle\" x=\"538.5\" y=\"-111.8\" font-family=\"Helvetica,sans-Serif\" font-size=\"14.00\">samples = 899</text>\n<text text-anchor=\"middle\" x=\"538.5\" y=\"-96.8\" font-family=\"Helvetica,sans-Serif\" font-size=\"14.00\">value = 15209.491</text>\n</g>\n<!-- 0&#45;&gt;4 -->\n<g id=\"edge4\" class=\"edge\">\n<title>0&#45;&gt;4</title>\n<path fill=\"none\" stroke=\"black\" d=\"M463.54,-192.88C473.52,-183.71 484.47,-173.65 494.84,-164.12\"/>\n<polygon fill=\"black\" stroke=\"black\" points=\"497.27,-166.64 502.26,-157.3 492.53,-161.49 497.27,-166.64\"/>\n<text text-anchor=\"middle\" x=\"501.21\" y=\"-178.58\" font-family=\"Helvetica,sans-Serif\" font-size=\"14.00\">False</text>\n</g>\n<!-- 2 -->\n<g id=\"node3\" class=\"node\">\n<title>2</title>\n<polygon fill=\"#ffffff\" stroke=\"black\" points=\"203,-53 0,-53 0,0 203,0 203,-53\"/>\n<text text-anchor=\"middle\" x=\"101.5\" y=\"-37.8\" font-family=\"Helvetica,sans-Serif\" font-size=\"14.00\">squared_error = 10336921.834</text>\n<text text-anchor=\"middle\" x=\"101.5\" y=\"-22.8\" font-family=\"Helvetica,sans-Serif\" font-size=\"14.00\">samples = 5206</text>\n<text text-anchor=\"middle\" x=\"101.5\" y=\"-7.8\" font-family=\"Helvetica,sans-Serif\" font-size=\"14.00\">value = 3668.601</text>\n</g>\n<!-- 1&#45;&gt;2 -->\n<g id=\"edge2\" class=\"edge\">\n<title>1&#45;&gt;2</title>\n<path fill=\"none\" stroke=\"black\" d=\"M241.3,-88.95C217.78,-78.61 191.99,-67.27 169.03,-57.18\"/>\n<polygon fill=\"black\" stroke=\"black\" points=\"170.28,-53.91 159.71,-53.09 167.46,-60.31 170.28,-53.91\"/>\n</g>\n<!-- 3 -->\n<g id=\"node4\" class=\"node\">\n<title>3</title>\n<polygon fill=\"#fcf0e7\" stroke=\"black\" points=\"416.5,-53 220.5,-53 220.5,0 416.5,0 416.5,-53\"/>\n<text text-anchor=\"middle\" x=\"318.5\" y=\"-37.8\" font-family=\"Helvetica,sans-Serif\" font-size=\"14.00\">squared_error = 64555628.95</text>\n<text text-anchor=\"middle\" x=\"318.5\" y=\"-22.8\" font-family=\"Helvetica,sans-Serif\" font-size=\"14.00\">samples = 3215</text>\n<text text-anchor=\"middle\" x=\"318.5\" y=\"-7.8\" font-family=\"Helvetica,sans-Serif\" font-size=\"14.00\">value = 7711.803</text>\n</g>\n<!-- 1&#45;&gt;3 -->\n<g id=\"edge3\" class=\"edge\">\n<title>1&#45;&gt;3</title>\n<path fill=\"none\" stroke=\"black\" d=\"M317.2,-88.95C317.37,-80.72 317.56,-71.85 317.74,-63.48\"/>\n<polygon fill=\"black\" stroke=\"black\" points=\"321.24,-63.31 317.96,-53.24 314.24,-63.16 321.24,-63.31\"/>\n</g>\n<!-- 5 -->\n<g id=\"node6\" class=\"node\">\n<title>5</title>\n<polygon fill=\"#fae8dc\" stroke=\"black\" points=\"639,-53 436,-53 436,0 639,0 639,-53\"/>\n<text text-anchor=\"middle\" x=\"537.5\" y=\"-37.8\" font-family=\"Helvetica,sans-Serif\" font-size=\"14.00\">squared_error = 91051960.998</text>\n<text text-anchor=\"middle\" x=\"537.5\" y=\"-22.8\" font-family=\"Helvetica,sans-Serif\" font-size=\"14.00\">samples = 711</text>\n<text text-anchor=\"middle\" x=\"537.5\" y=\"-7.8\" font-family=\"Helvetica,sans-Serif\" font-size=\"14.00\">value = 9552.967</text>\n</g>\n<!-- 4&#45;&gt;5 -->\n<g id=\"edge5\" class=\"edge\">\n<title>4&#45;&gt;5</title>\n<path fill=\"none\" stroke=\"black\" d=\"M538.15,-88.95C538.06,-80.72 537.97,-71.85 537.88,-63.48\"/>\n<polygon fill=\"black\" stroke=\"black\" points=\"541.38,-63.2 537.77,-53.24 534.38,-63.27 541.38,-63.2\"/>\n</g>\n<!-- 6 -->\n<g id=\"node7\" class=\"node\">\n<title>6</title>\n<polygon fill=\"#e58139\" stroke=\"black\" points=\"875.5,-53 657.5,-53 657.5,0 875.5,0 875.5,-53\"/>\n<text text-anchor=\"middle\" x=\"766.5\" y=\"-37.8\" font-family=\"Helvetica,sans-Serif\" font-size=\"14.00\">squared_error = 1369345902.674</text>\n<text text-anchor=\"middle\" x=\"766.5\" y=\"-22.8\" font-family=\"Helvetica,sans-Serif\" font-size=\"14.00\">samples = 188</text>\n<text text-anchor=\"middle\" x=\"766.5\" y=\"-7.8\" font-family=\"Helvetica,sans-Serif\" font-size=\"14.00\">value = 36601.981</text>\n</g>\n<!-- 4&#45;&gt;6 -->\n<g id=\"edge6\" class=\"edge\">\n<title>4&#45;&gt;6</title>\n<path fill=\"none\" stroke=\"black\" d=\"M618.24,-88.95C643.3,-78.56 670.78,-67.17 695.21,-57.05\"/>\n<polygon fill=\"black\" stroke=\"black\" points=\"696.87,-60.15 704.77,-53.09 694.19,-53.68 696.87,-60.15\"/>\n</g>\n</g>\n</svg>\n",
            "text/plain": [
              "<graphviz.sources.Source at 0x78d29f0928c0>"
            ]
          },
          "metadata": {},
          "execution_count": 83
        }
      ]
    }
  ],
  "metadata": {
    "kernelspec": {
      "display_name": "Python 3",
      "language": "python",
      "name": "python3"
    },
    "language_info": {
      "codemirror_mode": {
        "name": "ipython",
        "version": 3
      },
      "file_extension": ".py",
      "mimetype": "text/x-python",
      "name": "python",
      "nbconvert_exporter": "python",
      "pygments_lexer": "ipython3",
      "version": "3.8.5"
    },
    "colab": {
      "provenance": []
    }
  },
  "nbformat": 4,
  "nbformat_minor": 0
}