{
  "cells": [
    {
      "cell_type": "markdown",
      "metadata": {
        "id": "AeTpzBwcHeUJ"
      },
      "source": [
        "<img src=\"https://raw.githubusercontent.com/andre-marcos-perez/ebac-course-utils/main/media/logo/newebac_logo_black_half.png\" alt=\"ebac-logo\">\n",
        "\n",
        "---\n",
        "\n",
        "# **Módulo 27** | PCA\n",
        "Caderno de **exercício 01**<br>\n",
        "\n",
        "\n",
        "\n",
        "\n",
        "## Discente: Samuel Saturno"
      ]
    },
    {
      "cell_type": "markdown",
      "metadata": {
        "id": "9R1_4SxhHeUM"
      },
      "source": [
        "# PCA - Tarefa 01: *HAR* com PCA\n",
        "\n",
        "Vamos trabalhar com a base da demonstração feita em aula, mas vamos explorar um pouco melhor como é o desempenho da árvore variando o número de componentes principais."
      ]
    },
    {
      "cell_type": "markdown",
      "source": [
        "## Importando as Bibliotecas"
      ],
      "metadata": {
        "id": "YpLp4wFDHvRT"
      }
    },
    {
      "cell_type": "code",
      "source": [
        "import pandas as pd\n",
        "\n",
        "from sklearn.tree import DecisionTreeClassifier\n",
        "\n",
        "from sklearn.decomposition import PCA\n",
        "from sklearn.metrics import accuracy_score\n",
        "from sklearn.model_selection import cross_val_score\n",
        "from sklearn.model_selection import GridSearchCV"
      ],
      "metadata": {
        "id": "TsDeLAvCH98u"
      },
      "execution_count": 6,
      "outputs": []
    },
    {
      "cell_type": "markdown",
      "source": [
        "## Carrregando o Banco de dados UCI HAR"
      ],
      "metadata": {
        "id": "ISwFCr9PIJz4"
      }
    },
    {
      "cell_type": "code",
      "source": [
        "# Caminhos dos arquivos\n",
        "filename_features = \"/content/features.txt\"\n",
        "filename_labels = \"/content/activity_labels.txt\"\n",
        "\n",
        "filename_subtrain = \"/content/subject_train.txt\"\n",
        "filename_xtrain = \"/content/X_train.txt\"\n",
        "filename_ytrain = \"/content/y_train.txt\"\n",
        "\n",
        "filename_subtest = \"/content/subject_test.txt\"\n",
        "filename_xtest = \"/content/X_test.txt\"\n",
        "filename_ytest = \"/content/y_test.txt\"\n",
        "\n",
        "# Leitura dos arquivos\n",
        "features = pd.read_csv(filename_features, header=None, names=['nome_var'], sep=\"#\")['nome_var']\n",
        "labels = pd.read_csv(filename_labels, delim_whitespace=True, header=None, names=['cod_label', 'label'])\n",
        "\n",
        "subject_train = pd.read_csv(filename_subtrain, header=None, names=['subject_id'])['subject_id']\n",
        "X_train = pd.read_csv(filename_xtrain, delim_whitespace=True, header=None, names=features.tolist())\n",
        "y_train = pd.read_csv(filename_ytrain, header=None, names=['cod_label'])['cod_label']\n",
        "\n",
        "subject_test = pd.read_csv(filename_subtest, header=None, names=['subject_id'])['subject_id']\n",
        "X_test = pd.read_csv(filename_xtest, delim_whitespace=True, header=None, names=features.tolist())\n",
        "y_test = pd.read_csv(filename_ytest, header=None, names=['cod_label'])['cod_label']\n"
      ],
      "metadata": {
        "id": "gY-0ymAUInVe"
      },
      "execution_count": 8,
      "outputs": []
    },
    {
      "cell_type": "markdown",
      "metadata": {
        "id": "lpdR2Z0kHeUO"
      },
      "source": [
        "## Árvore de decisão\n",
        "\n",
        "Rode uma árvore de decisão com todas as variáveis, utilizando o ```ccp_alpha=0.001```. Avalie a acurácia nas bases de treinamento e teste. Avalie o tempo de processamento."
      ]
    },
    {
      "cell_type": "code",
      "execution_count": 9,
      "metadata": {
        "colab": {
          "base_uri": "https://localhost:8080/"
        },
        "id": "lJKSWR0cHeUO",
        "outputId": "a4fbc25c-154d-4d3e-f1fa-50aed856cde7"
      },
      "outputs": [
        {
          "output_type": "stream",
          "name": "stdout",
          "text": [
            "Acurácia na base de treinamento: 0.9757889009793254\n",
            "Acurácia na base de teste: 0.8802171700033933\n",
            "\n",
            "CPU times: user 6.45 s, sys: 0 ns, total: 6.45 s\n",
            "Wall time: 8.14 s\n"
          ]
        }
      ],
      "source": [
        "%%time\n",
        "# Medindo o tempo de processamento\n",
        "# A partir deste ponto, será cronometrado o tempo necessário para executar o código abaixo.\n",
        "\n",
        "# Criação do classificador de árvore de decisão com ccp_alpha=0.001\n",
        "clf = DecisionTreeClassifier(ccp_alpha=0.001)\n",
        "\n",
        "# Treinamento do classificador utilizando os dados de treinamento\n",
        "clf.fit(X_train, y_train)\n",
        "\n",
        "# Avaliação da acurácia do classificador nos dados de treinamento\n",
        "print(f'Acurácia na base de treinamento: {clf.score(X_train, y_train)}')\n",
        "# Avaliação da acurácia do classificador nos dados de teste\n",
        "print(f'Acurácia na base de teste: {clf.score(X_test, y_test)}\\n')\n",
        "\n"
      ]
    },
    {
      "cell_type": "markdown",
      "metadata": {
        "id": "Zpa1FlYOHeUO"
      },
      "source": [
        "## Árvore com PCA\n",
        "\n",
        "Faça uma análise de componemtes principais das variáveis originais. Utilize apenas uma componente. Faça uma árvore de decisão com esta componente como variável explicativa.\n",
        "\n",
        "- Avalie a acurácia nas bases de treinamento e teste\n",
        "- Avalie o tempo de processamento"
      ]
    },
    {
      "cell_type": "code",
      "execution_count": 10,
      "metadata": {
        "colab": {
          "base_uri": "https://localhost:8080/"
        },
        "id": "NuPREhQsHeUP",
        "outputId": "03dbd2fa-f7e2-4015-f066-c184872f79eb"
      },
      "outputs": [
        {
          "output_type": "stream",
          "name": "stdout",
          "text": [
            "Dimensões da base de treinamento: (7352, 1)\n",
            "Dimensões da base de teste: (2947, 1)\n",
            "Acurácia na base de treinamento: 0.499727965179543\n",
            "Acurácia na base de teste: 0.45707499151679676\n",
            "\n",
            "CPU times: user 646 ms, sys: 109 ms, total: 756 ms\n",
            "Wall time: 1.77 s\n"
          ]
        }
      ],
      "source": [
        "%%time\n",
        "\n",
        "# Aplica o PCA com 1 componente aos dados de treinamento\n",
        "prcomp = PCA(n_components=1).fit(X_train)\n",
        "\n",
        "# Transforma os dados de treinamento e teste utilizando as componentes principais encontradas pelo PCA\n",
        "pc_treino = prcomp.transform(X_train)\n",
        "pc_teste  = prcomp.transform(X_test)\n",
        "\n",
        "# Imprime a forma dos dados de treinamento e teste após a transformação\n",
        "print(f'Dimensões da base de treinamento: {pc_treino.shape}')\n",
        "print(f'Dimensões da base de teste: {pc_teste.shape}')\n",
        "\n",
        "# Inicializa um classificador de árvore de decisão com ccp_alpha=0.001 e treina-o com os dados de treinamento transformados\n",
        "clf = DecisionTreeClassifier(ccp_alpha=0.001)\n",
        "clf.fit(pc_treino, y_train)\n",
        "\n",
        "# Calcula e imprime a acurácia do classificador nos dados de treinamento e teste\n",
        "print(f'Acurácia na base de treinamento: {clf.score(pc_treino, y_train)}')\n",
        "print(f'Acurácia na base de teste: {clf.score(pc_teste, y_test)}\\n')"
      ]
    },
    {
      "cell_type": "markdown",
      "metadata": {
        "id": "911Dgy9vHeUP"
      },
      "source": [
        "## Testando o número de componentes\n",
        "\n",
        "Com base no código acima, teste a árvore de classificação com pelo menos as seguintes possibilidades de quantidades de componentes: ```[1, 2, 5, 10, 50]```. Avalie para cada uma delas:\n",
        "\n",
        "- Acurácia nas bases de treino e teste\n",
        "- Tempo de processamento\n"
      ]
    },
    {
      "cell_type": "code",
      "execution_count": 11,
      "metadata": {
        "colab": {
          "base_uri": "https://localhost:8080/"
        },
        "id": "h4uomN9HHeUP",
        "outputId": "fb5cd253-be7a-4ca4-c82a-b0facece9b88"
      },
      "outputs": [
        {
          "output_type": "stream",
          "name": "stdout",
          "text": [
            "Dimensões da base de treinamento: (7352, 1)\n",
            "Dimensões da base de teste: (2947, 1)\n",
            "Acurácia na base de treinamento: 0.499727965179543\n",
            "Acurácia na base de teste: 0.45707499151679676\n",
            "\n",
            "Dimensões da base de treinamento: (7352, 2)\n",
            "Dimensões da base de teste: (2947, 2)\n",
            "Acurácia na base de treinamento: 0.6127584330794341\n",
            "Acurácia na base de teste: 0.5846623685103495\n",
            "\n",
            "Dimensões da base de treinamento: (7352, 5)\n",
            "Dimensões da base de teste: (2947, 5)\n",
            "Acurácia na base de treinamento: 0.8460282916213275\n",
            "Acurácia na base de teste: 0.7885985748218527\n",
            "\n",
            "Dimensões da base de treinamento: (7352, 10)\n",
            "Dimensões da base de teste: (2947, 10)\n",
            "Acurácia na base de treinamento: 0.8926822633297062\n",
            "Acurácia na base de teste: 0.8238887003732609\n",
            "\n",
            "Dimensões da base de treinamento: (7352, 50)\n",
            "Dimensões da base de teste: (2947, 50)\n",
            "Acurácia na base de treinamento: 0.9186615886833515\n",
            "Acurácia na base de teste: 0.8262639972853749\n",
            "\n",
            "CPU times: user 4.52 s, sys: 2 s, total: 6.52 s\n",
            "Wall time: 4.39 s\n"
          ]
        }
      ],
      "source": [
        "%%time\n",
        "\n",
        "componentes = [1, 2, 5, 10, 50]\n",
        "\n",
        "# Loop sobre os diferentes números de componentes\n",
        "for n in componentes:\n",
        "    # Executa o PCA com o número de componentes atual\n",
        "    prcomp = PCA(n_components=n).fit(X_train)\n",
        "\n",
        "    # Transforma os dados de treinamento e teste nos componentes principais\n",
        "    pc_treino = prcomp.transform(X_train)\n",
        "    pc_teste  = prcomp.transform(X_test)\n",
        "\n",
        "    # Imprime as dimensões dos dados transformados\n",
        "    print(f'Dimensões da base de treinamento: {pc_treino.shape}')\n",
        "    print(f'Dimensões da base de teste: {pc_teste.shape}')\n",
        "\n",
        "    # Cria e treina um classificador de árvore de decisão\n",
        "    clf = DecisionTreeClassifier(ccp_alpha=0.001)\n",
        "    clf.fit(pc_treino, y_train)\n",
        "\n",
        "    # Avalia a acurácia na base de treinamento e teste\n",
        "    print(f'Acurácia na base de treinamento: {clf.score(pc_treino, y_train)}')\n",
        "    print(f'Acurácia na base de teste: {clf.score(pc_teste, y_test)}\\n')\n"
      ]
    },
    {
      "cell_type": "markdown",
      "metadata": {
        "id": "RLCQV5BNHeUQ"
      },
      "source": [
        "## Conclua\n",
        "\n",
        "- O que aconteceu com a acurácia?\n",
        "- O que aconteceu com o tempo de processamento?"
      ]
    },
    {
      "cell_type": "markdown",
      "source": [
        "<h3><font  color=\"\"><strong>\n",
        "Insight:\n",
        "</strong></font></h3>\n",
        "\n",
        "<h3><font  color=\"\"><i>\n",
        "Observamos uma relação entre as dimensões dos dados de treinamento e teste e a acurácia dos modelos treinados. Vamos analisar cada conjunto de dimensões em relação à acurácia e ao tempo de processamento:\n",
        "</i></font></h3>\n",
        "\n",
        "<h3><font  color=\"Blue\"><strong>\n",
        "1. Dimensões da base de treinamento: (7352, 1)\n",
        "</strong></font></h3>\n",
        "\n",
        "\n",
        "<h3><font  color=\"\"><i>\n",
        "\n",
        "* A acurácia na base de treinamento é baixa, em torno de 49.97%.\n",
        "\n",
        "* A acurácia na base de teste é semelhante, cerca de 45.71%.\n",
        "\n",
        "* Isso sugere que o modelo está sofrendo de underfitting, ou seja, não está conseguindo capturar os padrões dos dados de treinamento e, portanto, não generaliza bem para os dados de teste.\n",
        "\n",
        "* O tempo de processamento provavelmente é baixo, pois a quantidade de dados é pequena.\n",
        "</i></font></h3>\n",
        "\n",
        "\n",
        "<h3><font  color=\"Blue\"><strong>\n",
        "2. Dimensões da base de treinamento: (7352, 2)\n",
        "</strong></font></h3>\n",
        "\n",
        "<h3><font  color=\"\"><i>\n",
        "\n",
        "* A acurácia na base de treinamento aumentou em relação ao caso anterior, alcançando cerca de 61.28%.\n",
        "\n",
        "* A acurácia na base de teste também aumentou para aproximadamente 58.47%.\n",
        "\n",
        "* O aumento da dimensionalidade permitiu que o modelo capturasse mais informações, resultando em um melhor desempenho tanto nos dados de treinamento quanto nos dados de teste.\n",
        "\n",
        "* O tempo de processamento pode ser ligeiramente maior devido à presença de mais features, mas ainda deve ser relativamente baixo.\n",
        "</i></font></h3>\n",
        "\n",
        "<h3><font  color=\"Blue\"><strong>\n",
        "3. Dimensões da base de treinamento: (7352, 5)\n",
        "</strong></font></h3>\n",
        "\n",
        "<h3><font  color=\"\"><i>\n",
        "\n",
        "* Com o aumento para 5 dimensões, houve um salto significativo na acurácia, atingindo cerca de 84.60% na base de treinamento e 78.86% na base de teste.\n",
        "\n",
        "* Isso sugere que o modelo está se ajustando melhor aos dados e conseguindo generalizar de forma mais eficaz.\n",
        "\n",
        "* O tempo de processamento pode ser um pouco mais elevado, mas ainda deve ser razoável.\n",
        "</i></font></h3>\n",
        "\n",
        "<h3><font  color=\"Blue\"><strong>\n",
        "4. Dimensões da base de treinamento: (7352, 10)\n",
        "</strong></font></h3>\n",
        "\n",
        "<h3><font  color=\"\"><i>\n",
        "\n",
        "* Com mais 5 dimensões adicionadas, a acurácia continuou a aumentar, alcançando aproximadamente 89.27% na base de treinamento e 82.39% na base de teste.\n",
        "\n",
        "* Isso indica que o modelo está se ajustando ainda melhor aos dados e generalizando de forma mais precisa.\n",
        "\n",
        "* O tempo de processamento pode ser um pouco mais alto devido à presença de mais features, mas ainda deve ser gerenciável.\n",
        "\n",
        "</i></font></h3>\n",
        "\n",
        "\n",
        "<h3><font  color=\"Blue\"><strong>\n",
        "5. Dimensões da base de treinamento: (7352, 50)\n",
        "</strong></font></h3>\n",
        "\n",
        "<h3><font  color=\"\"><i>\n",
        "\n",
        "* Com um aumento significativo para 50 dimensões, a acurácia continuou a aumentar, atingindo cerca de 91.87% na base de treinamento e 82.63% na base de teste.\n",
        "\n",
        "* O modelo está agora capturando uma quantidade substancial de informações dos dados, resultando em uma boa capacidade de generalização.\n",
        "\n",
        "* O tempo de processamento pode ser significativamente maior devido ao grande número de features, o que pode afetar a escalabilidade do modelo.\n",
        "\n",
        "</i></font></h3>\n",
        "\n",
        "<h3><font  color=\"\"><i>\n",
        "Resumindo, à medida que aumentamos a dimensionalidade dos dados, a acurácia geralmente melhora, indicando que o modelo está capturando melhor os padrões nos dados. No entanto, à medida que a dimensionalidade aumenta, o tempo de processamento também pode aumentar, especialmente quando o número de features é alto, o que pode limitar a escalabilidade do modelo.\n",
        "</i></font></h3>\n",
        "\n"
      ],
      "metadata": {
        "id": "U9pZ5JC7XMW-"
      }
    },
    {
      "cell_type": "code",
      "execution_count": null,
      "metadata": {
        "id": "1xxQ-FJWHeUQ"
      },
      "outputs": [],
      "source": []
    }
  ],
  "metadata": {
    "kernelspec": {
      "display_name": "Python 3",
      "language": "python",
      "name": "python3"
    },
    "language_info": {
      "codemirror_mode": {
        "name": "ipython",
        "version": 3
      },
      "file_extension": ".py",
      "mimetype": "text/x-python",
      "name": "python",
      "nbconvert_exporter": "python",
      "pygments_lexer": "ipython3",
      "version": "3.8.5"
    },
    "toc": {
      "base_numbering": 1,
      "nav_menu": {},
      "number_sections": true,
      "sideBar": true,
      "skip_h1_title": true,
      "title_cell": "Índice",
      "title_sidebar": "Conteúdo",
      "toc_cell": false,
      "toc_position": {},
      "toc_section_display": true,
      "toc_window_display": false
    },
    "varInspector": {
      "cols": {
        "lenName": 16,
        "lenType": 16,
        "lenVar": 40
      },
      "kernels_config": {
        "python": {
          "delete_cmd_postfix": "",
          "delete_cmd_prefix": "del ",
          "library": "var_list.py",
          "varRefreshCmd": "print(var_dic_list())"
        },
        "r": {
          "delete_cmd_postfix": ") ",
          "delete_cmd_prefix": "rm(",
          "library": "var_list.r",
          "varRefreshCmd": "cat(var_dic_list()) "
        }
      },
      "types_to_exclude": [
        "module",
        "function",
        "builtin_function_or_method",
        "instance",
        "_Feature"
      ],
      "window_display": false
    },
    "colab": {
      "provenance": []
    }
  },
  "nbformat": 4,
  "nbformat_minor": 0
}