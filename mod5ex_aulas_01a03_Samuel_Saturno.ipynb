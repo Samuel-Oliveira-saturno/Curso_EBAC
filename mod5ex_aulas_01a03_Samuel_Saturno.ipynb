{
  "cells": [
    {
      "cell_type": "markdown",
      "metadata": {
        "id": "0rjRJoTbbCxD"
      },
      "source": [
        "# Módulo 5 Tarefa 1\n",
        "## Base de nascidos vivos do DataSUS\n",
        "O DataSUS disponibiliza diversos arquivos de dados com relação a seus segurados, conforme a [lei da transparência de informações públicas](https://www.sisgov.com/transparencia-acesso-informacao/#:~:text=A%20Lei%20da%20Transpar%C3%AAncia%20(LC,em%20um%20site%20na%20internet.).\n",
        "\n",
        "Essas informações podem ser obtidas pela internet [aqui](http://www2.datasus.gov.br/DATASUS/index.php?area=0901&item=1). Como o processo de obtenção desses arquivos foge um pouco do nosso escopo, deixamos o arquivo ```SINASC_RO_2019.csv``` já como vai ser encontrado no DataSUS. O dicionário de dados está no arquivo ```estrutura_sinasc_para_CD.pdf``` (o nome do arquivo tal qual no portal do DataSUS).\n",
        "\n",
        "### Nosso objetivo\n",
        "Queremos deixar uma base organizada para podermos estudar a relação entre partos com risco para o bebê e algumas condições como tempo de parto, consultas de pré-natal etc.\n",
        "\n",
        "#### Preparação da base\n",
        "1. Carregue a base 'SINASC_RO_2019.csv'. Conte o número de registros e o número de registros não duplicados da base. Dica: você aprendeu um método que remove duplicados, encadeie este método com um outro método que conta o número de linhas. **Há linhas duplicadas?**  \n",
        "\n",
        "2. Conte o número de valores *missing* por variável.  \n",
        "\n",
        "3. Ok, no item anterior você deve ter achado pouco prático ler a informação de tantas variáveis, muitas delas nem devem ser interesantes. Então crie uma seleção dessa base somente com as colunas que interessam. São elas:\n",
        "```\n",
        "['LOCNASC', 'IDADEMAE', 'ESTCIVMAE', 'ESCMAE', 'QTDFILVIVO',\n",
        "    'GESTACAO', 'GRAVIDEZ', 'CONSULTAS', 'APGAR5']\n",
        "```\n",
        "Refaça a contagem de valores *missings*.  \n",
        "\n",
        "4. Apgar é uma *nota* que o pediatra dá ao bebê quando nasce de acordo com algumas características associadas principalmente à respiração. Apgar 1 e Apgar 5 são as notas 1 e 5 minutos do nascimento. Apgar5 será a nossa variável de interesse principal. Então remova todos os registros com Apgar5 não preenchido. Para esta seleção, conte novamente o número de linhas e o número de *missings*.  \n",
        "\n",
        "5. observe que as variáveis ```['ESTCIVMAE', 'CONSULTAS']``` possuem o código ```9```, que significa *ignorado*. Vamos assumir que o não preenchido é o mesmo que o código ```9```.<br>\n",
        "6. Substitua os valores faltantes da quantitativa (```QTDFILVIVO```) por zero.  \n",
        "7. Das restantes, decida que valore te parece mais adequado (um 'não preenchido' ou um valor 'mais provável' como no item anterior) e preencha. Justifique. Lembre-se de que tratamento de dados é trabalho do cientista, e que estamos tomando decisões a todo o momento - não há necessariamente certo e errado aqui.  \n",
        "8. O Apgar possui uma classificação indicando se o bebê passou por asfixia:\n",
        "- Entre 8 e 10 está em uma faixa 'normal'.\n",
        "- Entre 6 e 7, significa que o recém-nascido passou por 'asfixia leve'.\n",
        "- Entre 4 e 5 significa 'asfixia moderada'.\n",
        "- Entre 0 e 3 significa 'asfixia severa'.  \n",
        "\n",
        "Crie uma categorização dessa variável com essa codificação e calcule as frequências dessa categorização.  \n",
        "<br>\n",
        "9. Renomeie as variáveis para que fiquem no *snake case*, ou seja, em letras minúsculas, com um *underscore* entre as palávras. Dica: repare que se você não quiser criar um *dataframe* novo, você vai precisar usar a opção ```inplace = True```."
      ]
    },
    {
      "cell_type": "markdown",
      "source": [
        "## 1. Carregue a base 'SINASC_RO_2019.csv'. Conte o número de registros e o número de registros não duplicados da base. Dica: você aprendeu um método que remove duplicados, encadeie este método com um outro método que conta o número de linhas. **Há linhas duplicadas?**"
      ],
      "metadata": {
        "id": "kCAPtSQ8jjy1"
      }
    },
    {
      "cell_type": "code",
      "source": [
        "from google.colab import drive\n",
        "drive.mount('/content/drive')"
      ],
      "metadata": {
        "colab": {
          "base_uri": "https://localhost:8080/"
        },
        "id": "BAGZxKsMnwU8",
        "outputId": "3b973b54-2872-4b83-cc49-db220c23f192"
      },
      "execution_count": null,
      "outputs": [
        {
          "output_type": "stream",
          "name": "stdout",
          "text": [
            "Mounted at /content/drive\n"
          ]
        }
      ]
    },
    {
      "cell_type": "code",
      "source": [
        "# Importando as Bibliotecas\n",
        "import pandas as pd\n",
        "import requests"
      ],
      "metadata": {
        "id": "-PnU6hLxoCPM"
      },
      "execution_count": null,
      "outputs": []
    },
    {
      "cell_type": "code",
      "execution_count": null,
      "metadata": {
        "colab": {
          "base_uri": "https://localhost:8080/"
        },
        "id": "EF6iHoVxbCxG",
        "outputId": "02235e15-1ede-4014-d23e-ef6dd227198d"
      },
      "outputs": [
        {
          "output_type": "stream",
          "name": "stdout",
          "text": [
            "(27028, 69)\n"
          ]
        },
        {
          "output_type": "execute_result",
          "data": {
            "text/plain": [
              "(27028, 69)"
            ]
          },
          "metadata": {},
          "execution_count": 3
        }
      ],
      "source": [
        "# Carregando o banco de dados\n",
        "df = pd.read_csv('/content/drive/MyDrive/Colab Notebooks/EBAC/Limpeza e tratamento de dados /SINASC_RO_2019.csv')\n",
        "print(df.shape)\n",
        "\n",
        "# Aplicando o duplicates\n",
        "df.drop_duplicates().shape\n"
      ]
    },
    {
      "cell_type": "markdown",
      "source": [
        "## 2. Conte o número de valores *missing* por variável."
      ],
      "metadata": {
        "id": "2qyWLFatjpQN"
      }
    },
    {
      "cell_type": "code",
      "execution_count": null,
      "metadata": {
        "colab": {
          "base_uri": "https://localhost:8080/"
        },
        "id": "E_B4luxBbCxH",
        "outputId": "f882cd50-3e53-4b75-d09b-dcf10713c9c7"
      },
      "outputs": [
        {
          "output_type": "execute_result",
          "data": {
            "text/plain": [
              "ORIGEM          0\n",
              "CODESTAB      115\n",
              "CODMUNNASC      0\n",
              "LOCNASC         0\n",
              "IDADEMAE        0\n",
              "             ... \n",
              "munResUf        0\n",
              "munResLat       1\n",
              "munResLon       1\n",
              "munResAlt       1\n",
              "munResArea      1\n",
              "Length: 69, dtype: int64"
            ]
          },
          "metadata": {},
          "execution_count": 4
        }
      ],
      "source": [
        "# 2) Verificando a quantidade de dados faltantes\n",
        "df.isna().sum()"
      ]
    },
    {
      "cell_type": "code",
      "source": [
        "# filtrando as colunas que possuem dados faltantes:\n",
        "df_faltantes = df.loc[:, df.isna().sum() > 0]\n",
        "\n",
        "# mostrando as colunas com dados faltantes\n",
        "df_faltantes.columns"
      ],
      "metadata": {
        "colab": {
          "base_uri": "https://localhost:8080/"
        },
        "id": "YIkOeqUUdMJ6",
        "outputId": "0b7b1d94-6acb-4cf1-dedc-4c5d8b38c70e"
      },
      "execution_count": null,
      "outputs": [
        {
          "output_type": "execute_result",
          "data": {
            "text/plain": [
              "Index(['CODESTAB', 'ESTCIVMAE', 'ESCMAE', 'CODOCUPMAE', 'QTDFILVIVO',\n",
              "       'QTDFILMORT', 'GESTACAO', 'GRAVIDEZ', 'PARTO', 'HORANASC', 'SEXO',\n",
              "       'APGAR1', 'APGAR5', 'RACACOR', 'IDANOMAL', 'CODANOMAL', 'DTRECORIGA',\n",
              "       'NATURALMAE', 'CODMUNNATU', 'CODUFNATU', 'ESCMAE2010', 'SERIESCMAE',\n",
              "       'DTNASCMAE', 'RACACORMAE', 'QTDGESTANT', 'QTDPARTNOR', 'QTDPARTCES',\n",
              "       'IDADEPAI', 'DTULTMENST', 'SEMAGESTAC', 'TPMETESTIM', 'CONSPRENAT',\n",
              "       'MESPRENAT', 'TPAPRESENT', 'STTRABPART', 'STCESPARTO', 'TPNASCASSI',\n",
              "       'TPFUNCRESP', 'TPDOCRESP', 'DTDECLARAC', 'ESCMAEAGR1', 'munResLat',\n",
              "       'munResLon', 'munResAlt', 'munResArea'],\n",
              "      dtype='object')"
            ]
          },
          "metadata": {},
          "execution_count": 5
        }
      ]
    },
    {
      "cell_type": "code",
      "source": [
        "# Colunas que possuem dados faltantes e a quantidade de dados:\n",
        "df_faltantes.isna().sum().sort_values()"
      ],
      "metadata": {
        "colab": {
          "base_uri": "https://localhost:8080/"
        },
        "id": "EkXAVIhyg-cS",
        "outputId": "51b6a3a8-a7b6-4691-afe9-91b17cd3a9fb"
      },
      "execution_count": null,
      "outputs": [
        {
          "output_type": "execute_result",
          "data": {
            "text/plain": [
              "munResArea        1\n",
              "munResLon         1\n",
              "munResLat         1\n",
              "munResAlt         1\n",
              "SEXO              4\n",
              "TPDOCRESP        14\n",
              "HORANASC         21\n",
              "DTNASCMAE        40\n",
              "PARTO            49\n",
              "DTDECLARAC       52\n",
              "TPNASCASSI       61\n",
              "TPFUNCRESP       67\n",
              "GRAVIDEZ         79\n",
              "APGAR1           96\n",
              "APGAR5          103\n",
              "CODESTAB        115\n",
              "ESCMAE2010      249\n",
              "ESCMAEAGR1      249\n",
              "TPAPRESENT      265\n",
              "NATURALMAE      298\n",
              "CODMUNNATU      298\n",
              "CODUFNATU       298\n",
              "ESCMAE          312\n",
              "ESTCIVMAE       317\n",
              "IDANOMAL        591\n",
              "RACACOR         647\n",
              "RACACORMAE      661\n",
              "STCESPARTO      747\n",
              "CONSPRENAT      930\n",
              "STTRABPART      947\n",
              "QTDGESTANT     1212\n",
              "GESTACAO       1232\n",
              "SEMAGESTAC     1238\n",
              "TPMETESTIM     1238\n",
              "QTDFILVIVO     1573\n",
              "QTDPARTCES     1791\n",
              "QTDPARTNOR     1879\n",
              "QTDFILMORT     2098\n",
              "MESPRENAT      2867\n",
              "CODOCUPMAE     2907\n",
              "DTULTMENST    10072\n",
              "SERIESCMAE    12710\n",
              "IDADEPAI      19421\n",
              "CODANOMAL     26814\n",
              "DTRECORIGA    27028\n",
              "dtype: int64"
            ]
          },
          "metadata": {},
          "execution_count": 6
        }
      ]
    },
    {
      "cell_type": "code",
      "source": [
        "# Percentual dos dados faltantes:\n",
        "Percentual_df_faltantes = (df_faltantes.isnull().sum() / len(df)) * 100\n",
        "\n",
        "# Deixando os dados em ordem\n",
        "Percentual_df_faltantes.sort_values(ascending=False)"
      ],
      "metadata": {
        "colab": {
          "base_uri": "https://localhost:8080/"
        },
        "id": "U-iwWDzccbTD",
        "outputId": "a1c44cf0-09be-41f1-d6f2-1e4c751a804e"
      },
      "execution_count": null,
      "outputs": [
        {
          "output_type": "execute_result",
          "data": {
            "text/plain": [
              "DTRECORIGA    100.000000\n",
              "CODANOMAL      99.208229\n",
              "IDADEPAI       71.855113\n",
              "SERIESCMAE     47.025307\n",
              "DTULTMENST     37.265058\n",
              "CODOCUPMAE     10.755513\n",
              "MESPRENAT      10.607518\n",
              "QTDFILMORT      7.762321\n",
              "QTDPARTNOR      6.952050\n",
              "QTDPARTCES      6.626461\n",
              "QTDFILVIVO      5.819890\n",
              "SEMAGESTAC      4.580435\n",
              "TPMETESTIM      4.580435\n",
              "GESTACAO        4.558236\n",
              "QTDGESTANT      4.484239\n",
              "STTRABPART      3.503774\n",
              "CONSPRENAT      3.440876\n",
              "STCESPARTO      2.763801\n",
              "RACACORMAE      2.445612\n",
              "RACACOR         2.393814\n",
              "IDANOMAL        2.186621\n",
              "ESTCIVMAE       1.172858\n",
              "ESCMAE          1.154358\n",
              "CODUFNATU       1.102560\n",
              "NATURALMAE      1.102560\n",
              "CODMUNNATU      1.102560\n",
              "TPAPRESENT      0.980465\n",
              "ESCMAE2010      0.921267\n",
              "ESCMAEAGR1      0.921267\n",
              "CODESTAB        0.425485\n",
              "APGAR5          0.381086\n",
              "APGAR1          0.355187\n",
              "GRAVIDEZ        0.292289\n",
              "TPFUNCRESP      0.247891\n",
              "TPNASCASSI      0.225692\n",
              "DTDECLARAC      0.192393\n",
              "PARTO           0.181293\n",
              "DTNASCMAE       0.147995\n",
              "HORANASC        0.077697\n",
              "TPDOCRESP       0.051798\n",
              "SEXO            0.014799\n",
              "munResLat       0.003700\n",
              "munResLon       0.003700\n",
              "munResAlt       0.003700\n",
              "munResArea      0.003700\n",
              "dtype: float64"
            ]
          },
          "metadata": {},
          "execution_count": 7
        }
      ]
    },
    {
      "cell_type": "code",
      "source": [
        "# Filtrando os valores maior percentual de dados faltantes:\n",
        "df_percentual_maior = Percentual_df_faltantes[Percentual_df_faltantes > 15]\n",
        "\n",
        "# Exibindo as colunas com maiores dados faltantes\n",
        "df_percentual_maior.sort_values()"
      ],
      "metadata": {
        "colab": {
          "base_uri": "https://localhost:8080/"
        },
        "id": "oRMHJMiQfm4o",
        "outputId": "12fc0e51-1bba-4ab9-8211-3da56fa28f60"
      },
      "execution_count": null,
      "outputs": [
        {
          "output_type": "execute_result",
          "data": {
            "text/plain": [
              "DTULTMENST     37.265058\n",
              "SERIESCMAE     47.025307\n",
              "IDADEPAI       71.855113\n",
              "CODANOMAL      99.208229\n",
              "DTRECORIGA    100.000000\n",
              "dtype: float64"
            ]
          },
          "metadata": {},
          "execution_count": 8
        }
      ]
    },
    {
      "cell_type": "markdown",
      "source": [
        "## 3. No item anterior você deve ter achado pouco prático ler a informação de tantas variáveis, muitas delas nem devem ser interesantes. Então crie uma seleção dessa base somente com as colunas que interessam. São elas:\n",
        "```\n",
        "['LOCNASC', 'IDADEMAE', 'ESTCIVMAE', 'ESCMAE', 'QTDFILVIVO',\n",
        "    'GESTACAO', 'GRAVIDEZ', 'CONSULTAS', 'APGAR5']\n",
        "```\n",
        "Refaça a contagem de valores *missings*."
      ],
      "metadata": {
        "id": "vFvIjgJQjr__"
      }
    },
    {
      "cell_type": "code",
      "execution_count": null,
      "metadata": {
        "colab": {
          "base_uri": "https://localhost:8080/",
          "height": 206
        },
        "id": "-mFRHAeObCxH",
        "outputId": "958dd4c0-a42b-4936-aac4-e14ca525eac4"
      },
      "outputs": [
        {
          "output_type": "execute_result",
          "data": {
            "text/plain": [
              "   LOCNASC  IDADEMAE  ESTCIVMAE           ESCMAE  QTDFILVIVO         GESTACAO  \\\n",
              "0        1        19        5.0      8 a 11 anos         0.0  37 a 41 semanas   \n",
              "1        1        29        2.0      8 a 11 anos         1.0  37 a 41 semanas   \n",
              "2        1        37        9.0      8 a 11 anos         2.0  37 a 41 semanas   \n",
              "3        1        30        5.0  12 anos ou mais         0.0  37 a 41 semanas   \n",
              "4        1        30        2.0      8 a 11 anos         1.0  37 a 41 semanas   \n",
              "\n",
              "  GRAVIDEZ  CONSULTAS  APGAR5  \n",
              "0    Única          4    10.0  \n",
              "1    Única          4     9.0  \n",
              "2    Única          4    10.0  \n",
              "3    Única          3    10.0  \n",
              "4    Única          4    10.0  "
            ],
            "text/html": [
              "\n",
              "  <div id=\"df-5873a714-b571-4fb1-b0e3-00687a85d7f8\" class=\"colab-df-container\">\n",
              "    <div>\n",
              "<style scoped>\n",
              "    .dataframe tbody tr th:only-of-type {\n",
              "        vertical-align: middle;\n",
              "    }\n",
              "\n",
              "    .dataframe tbody tr th {\n",
              "        vertical-align: top;\n",
              "    }\n",
              "\n",
              "    .dataframe thead th {\n",
              "        text-align: right;\n",
              "    }\n",
              "</style>\n",
              "<table border=\"1\" class=\"dataframe\">\n",
              "  <thead>\n",
              "    <tr style=\"text-align: right;\">\n",
              "      <th></th>\n",
              "      <th>LOCNASC</th>\n",
              "      <th>IDADEMAE</th>\n",
              "      <th>ESTCIVMAE</th>\n",
              "      <th>ESCMAE</th>\n",
              "      <th>QTDFILVIVO</th>\n",
              "      <th>GESTACAO</th>\n",
              "      <th>GRAVIDEZ</th>\n",
              "      <th>CONSULTAS</th>\n",
              "      <th>APGAR5</th>\n",
              "    </tr>\n",
              "  </thead>\n",
              "  <tbody>\n",
              "    <tr>\n",
              "      <th>0</th>\n",
              "      <td>1</td>\n",
              "      <td>19</td>\n",
              "      <td>5.0</td>\n",
              "      <td>8 a 11 anos</td>\n",
              "      <td>0.0</td>\n",
              "      <td>37 a 41 semanas</td>\n",
              "      <td>Única</td>\n",
              "      <td>4</td>\n",
              "      <td>10.0</td>\n",
              "    </tr>\n",
              "    <tr>\n",
              "      <th>1</th>\n",
              "      <td>1</td>\n",
              "      <td>29</td>\n",
              "      <td>2.0</td>\n",
              "      <td>8 a 11 anos</td>\n",
              "      <td>1.0</td>\n",
              "      <td>37 a 41 semanas</td>\n",
              "      <td>Única</td>\n",
              "      <td>4</td>\n",
              "      <td>9.0</td>\n",
              "    </tr>\n",
              "    <tr>\n",
              "      <th>2</th>\n",
              "      <td>1</td>\n",
              "      <td>37</td>\n",
              "      <td>9.0</td>\n",
              "      <td>8 a 11 anos</td>\n",
              "      <td>2.0</td>\n",
              "      <td>37 a 41 semanas</td>\n",
              "      <td>Única</td>\n",
              "      <td>4</td>\n",
              "      <td>10.0</td>\n",
              "    </tr>\n",
              "    <tr>\n",
              "      <th>3</th>\n",
              "      <td>1</td>\n",
              "      <td>30</td>\n",
              "      <td>5.0</td>\n",
              "      <td>12 anos ou mais</td>\n",
              "      <td>0.0</td>\n",
              "      <td>37 a 41 semanas</td>\n",
              "      <td>Única</td>\n",
              "      <td>3</td>\n",
              "      <td>10.0</td>\n",
              "    </tr>\n",
              "    <tr>\n",
              "      <th>4</th>\n",
              "      <td>1</td>\n",
              "      <td>30</td>\n",
              "      <td>2.0</td>\n",
              "      <td>8 a 11 anos</td>\n",
              "      <td>1.0</td>\n",
              "      <td>37 a 41 semanas</td>\n",
              "      <td>Única</td>\n",
              "      <td>4</td>\n",
              "      <td>10.0</td>\n",
              "    </tr>\n",
              "  </tbody>\n",
              "</table>\n",
              "</div>\n",
              "    <div class=\"colab-df-buttons\">\n",
              "\n",
              "  <div class=\"colab-df-container\">\n",
              "    <button class=\"colab-df-convert\" onclick=\"convertToInteractive('df-5873a714-b571-4fb1-b0e3-00687a85d7f8')\"\n",
              "            title=\"Convert this dataframe to an interactive table.\"\n",
              "            style=\"display:none;\">\n",
              "\n",
              "  <svg xmlns=\"http://www.w3.org/2000/svg\" height=\"24px\" viewBox=\"0 -960 960 960\">\n",
              "    <path d=\"M120-120v-720h720v720H120Zm60-500h600v-160H180v160Zm220 220h160v-160H400v160Zm0 220h160v-160H400v160ZM180-400h160v-160H180v160Zm440 0h160v-160H620v160ZM180-180h160v-160H180v160Zm440 0h160v-160H620v160Z\"/>\n",
              "  </svg>\n",
              "    </button>\n",
              "\n",
              "  <style>\n",
              "    .colab-df-container {\n",
              "      display:flex;\n",
              "      gap: 12px;\n",
              "    }\n",
              "\n",
              "    .colab-df-convert {\n",
              "      background-color: #E8F0FE;\n",
              "      border: none;\n",
              "      border-radius: 50%;\n",
              "      cursor: pointer;\n",
              "      display: none;\n",
              "      fill: #1967D2;\n",
              "      height: 32px;\n",
              "      padding: 0 0 0 0;\n",
              "      width: 32px;\n",
              "    }\n",
              "\n",
              "    .colab-df-convert:hover {\n",
              "      background-color: #E2EBFA;\n",
              "      box-shadow: 0px 1px 2px rgba(60, 64, 67, 0.3), 0px 1px 3px 1px rgba(60, 64, 67, 0.15);\n",
              "      fill: #174EA6;\n",
              "    }\n",
              "\n",
              "    .colab-df-buttons div {\n",
              "      margin-bottom: 4px;\n",
              "    }\n",
              "\n",
              "    [theme=dark] .colab-df-convert {\n",
              "      background-color: #3B4455;\n",
              "      fill: #D2E3FC;\n",
              "    }\n",
              "\n",
              "    [theme=dark] .colab-df-convert:hover {\n",
              "      background-color: #434B5C;\n",
              "      box-shadow: 0px 1px 3px 1px rgba(0, 0, 0, 0.15);\n",
              "      filter: drop-shadow(0px 1px 2px rgba(0, 0, 0, 0.3));\n",
              "      fill: #FFFFFF;\n",
              "    }\n",
              "  </style>\n",
              "\n",
              "    <script>\n",
              "      const buttonEl =\n",
              "        document.querySelector('#df-5873a714-b571-4fb1-b0e3-00687a85d7f8 button.colab-df-convert');\n",
              "      buttonEl.style.display =\n",
              "        google.colab.kernel.accessAllowed ? 'block' : 'none';\n",
              "\n",
              "      async function convertToInteractive(key) {\n",
              "        const element = document.querySelector('#df-5873a714-b571-4fb1-b0e3-00687a85d7f8');\n",
              "        const dataTable =\n",
              "          await google.colab.kernel.invokeFunction('convertToInteractive',\n",
              "                                                    [key], {});\n",
              "        if (!dataTable) return;\n",
              "\n",
              "        const docLinkHtml = 'Like what you see? Visit the ' +\n",
              "          '<a target=\"_blank\" href=https://colab.research.google.com/notebooks/data_table.ipynb>data table notebook</a>'\n",
              "          + ' to learn more about interactive tables.';\n",
              "        element.innerHTML = '';\n",
              "        dataTable['output_type'] = 'display_data';\n",
              "        await google.colab.output.renderOutput(dataTable, element);\n",
              "        const docLink = document.createElement('div');\n",
              "        docLink.innerHTML = docLinkHtml;\n",
              "        element.appendChild(docLink);\n",
              "      }\n",
              "    </script>\n",
              "  </div>\n",
              "\n",
              "\n",
              "<div id=\"df-e18107ed-80c9-4bba-a128-2136b1313996\">\n",
              "  <button class=\"colab-df-quickchart\" onclick=\"quickchart('df-e18107ed-80c9-4bba-a128-2136b1313996')\"\n",
              "            title=\"Suggest charts\"\n",
              "            style=\"display:none;\">\n",
              "\n",
              "<svg xmlns=\"http://www.w3.org/2000/svg\" height=\"24px\"viewBox=\"0 0 24 24\"\n",
              "     width=\"24px\">\n",
              "    <g>\n",
              "        <path d=\"M19 3H5c-1.1 0-2 .9-2 2v14c0 1.1.9 2 2 2h14c1.1 0 2-.9 2-2V5c0-1.1-.9-2-2-2zM9 17H7v-7h2v7zm4 0h-2V7h2v10zm4 0h-2v-4h2v4z\"/>\n",
              "    </g>\n",
              "</svg>\n",
              "  </button>\n",
              "\n",
              "<style>\n",
              "  .colab-df-quickchart {\n",
              "      --bg-color: #E8F0FE;\n",
              "      --fill-color: #1967D2;\n",
              "      --hover-bg-color: #E2EBFA;\n",
              "      --hover-fill-color: #174EA6;\n",
              "      --disabled-fill-color: #AAA;\n",
              "      --disabled-bg-color: #DDD;\n",
              "  }\n",
              "\n",
              "  [theme=dark] .colab-df-quickchart {\n",
              "      --bg-color: #3B4455;\n",
              "      --fill-color: #D2E3FC;\n",
              "      --hover-bg-color: #434B5C;\n",
              "      --hover-fill-color: #FFFFFF;\n",
              "      --disabled-bg-color: #3B4455;\n",
              "      --disabled-fill-color: #666;\n",
              "  }\n",
              "\n",
              "  .colab-df-quickchart {\n",
              "    background-color: var(--bg-color);\n",
              "    border: none;\n",
              "    border-radius: 50%;\n",
              "    cursor: pointer;\n",
              "    display: none;\n",
              "    fill: var(--fill-color);\n",
              "    height: 32px;\n",
              "    padding: 0;\n",
              "    width: 32px;\n",
              "  }\n",
              "\n",
              "  .colab-df-quickchart:hover {\n",
              "    background-color: var(--hover-bg-color);\n",
              "    box-shadow: 0 1px 2px rgba(60, 64, 67, 0.3), 0 1px 3px 1px rgba(60, 64, 67, 0.15);\n",
              "    fill: var(--button-hover-fill-color);\n",
              "  }\n",
              "\n",
              "  .colab-df-quickchart-complete:disabled,\n",
              "  .colab-df-quickchart-complete:disabled:hover {\n",
              "    background-color: var(--disabled-bg-color);\n",
              "    fill: var(--disabled-fill-color);\n",
              "    box-shadow: none;\n",
              "  }\n",
              "\n",
              "  .colab-df-spinner {\n",
              "    border: 2px solid var(--fill-color);\n",
              "    border-color: transparent;\n",
              "    border-bottom-color: var(--fill-color);\n",
              "    animation:\n",
              "      spin 1s steps(1) infinite;\n",
              "  }\n",
              "\n",
              "  @keyframes spin {\n",
              "    0% {\n",
              "      border-color: transparent;\n",
              "      border-bottom-color: var(--fill-color);\n",
              "      border-left-color: var(--fill-color);\n",
              "    }\n",
              "    20% {\n",
              "      border-color: transparent;\n",
              "      border-left-color: var(--fill-color);\n",
              "      border-top-color: var(--fill-color);\n",
              "    }\n",
              "    30% {\n",
              "      border-color: transparent;\n",
              "      border-left-color: var(--fill-color);\n",
              "      border-top-color: var(--fill-color);\n",
              "      border-right-color: var(--fill-color);\n",
              "    }\n",
              "    40% {\n",
              "      border-color: transparent;\n",
              "      border-right-color: var(--fill-color);\n",
              "      border-top-color: var(--fill-color);\n",
              "    }\n",
              "    60% {\n",
              "      border-color: transparent;\n",
              "      border-right-color: var(--fill-color);\n",
              "    }\n",
              "    80% {\n",
              "      border-color: transparent;\n",
              "      border-right-color: var(--fill-color);\n",
              "      border-bottom-color: var(--fill-color);\n",
              "    }\n",
              "    90% {\n",
              "      border-color: transparent;\n",
              "      border-bottom-color: var(--fill-color);\n",
              "    }\n",
              "  }\n",
              "</style>\n",
              "\n",
              "  <script>\n",
              "    async function quickchart(key) {\n",
              "      const quickchartButtonEl =\n",
              "        document.querySelector('#' + key + ' button');\n",
              "      quickchartButtonEl.disabled = true;  // To prevent multiple clicks.\n",
              "      quickchartButtonEl.classList.add('colab-df-spinner');\n",
              "      try {\n",
              "        const charts = await google.colab.kernel.invokeFunction(\n",
              "            'suggestCharts', [key], {});\n",
              "      } catch (error) {\n",
              "        console.error('Error during call to suggestCharts:', error);\n",
              "      }\n",
              "      quickchartButtonEl.classList.remove('colab-df-spinner');\n",
              "      quickchartButtonEl.classList.add('colab-df-quickchart-complete');\n",
              "    }\n",
              "    (() => {\n",
              "      let quickchartButtonEl =\n",
              "        document.querySelector('#df-e18107ed-80c9-4bba-a128-2136b1313996 button');\n",
              "      quickchartButtonEl.style.display =\n",
              "        google.colab.kernel.accessAllowed ? 'block' : 'none';\n",
              "    })();\n",
              "  </script>\n",
              "</div>\n",
              "\n",
              "    </div>\n",
              "  </div>\n"
            ]
          },
          "metadata": {},
          "execution_count": 9
        }
      ],
      "source": [
        "# 3) seu código aqui\n",
        "df_filtrados = df[['LOCNASC', 'IDADEMAE', 'ESTCIVMAE', 'ESCMAE', 'QTDFILVIVO',\n",
        "                  'GESTACAO', 'GRAVIDEZ', 'CONSULTAS', 'APGAR5']]\n",
        "\n",
        "# Colunas com dados mais relevantes:\n",
        "df_filtrados.head()\n"
      ]
    },
    {
      "cell_type": "code",
      "source": [
        "# filtrando os dados faltantes\n",
        "df_filtrados.isna().sum().sort_values()"
      ],
      "metadata": {
        "colab": {
          "base_uri": "https://localhost:8080/"
        },
        "id": "CoZ1JNU5i1-0",
        "outputId": "ac5159bd-1a2b-4ef3-8caf-e5deece8331f"
      },
      "execution_count": null,
      "outputs": [
        {
          "output_type": "execute_result",
          "data": {
            "text/plain": [
              "LOCNASC          0\n",
              "IDADEMAE         0\n",
              "CONSULTAS        0\n",
              "GRAVIDEZ        79\n",
              "APGAR5         103\n",
              "ESCMAE         312\n",
              "ESTCIVMAE      317\n",
              "GESTACAO      1232\n",
              "QTDFILVIVO    1573\n",
              "dtype: int64"
            ]
          },
          "metadata": {},
          "execution_count": 10
        }
      ]
    },
    {
      "cell_type": "code",
      "source": [
        "# Filtrando as colunas com valores faltantes\n",
        "df_faltantes_maior_0 = df_filtrados.loc[:, df_filtrados.isna().sum() > 0]\n",
        "\n",
        "df_faltantes_maior_0.columns"
      ],
      "metadata": {
        "colab": {
          "base_uri": "https://localhost:8080/"
        },
        "id": "7pvNl6gRjOs2",
        "outputId": "098f2f68-62a7-4e14-fb24-26bcfca38993"
      },
      "execution_count": null,
      "outputs": [
        {
          "output_type": "execute_result",
          "data": {
            "text/plain": [
              "Index(['ESTCIVMAE', 'ESCMAE', 'QTDFILVIVO', 'GESTACAO', 'GRAVIDEZ', 'APGAR5'], dtype='object')"
            ]
          },
          "metadata": {},
          "execution_count": 11
        }
      ]
    },
    {
      "cell_type": "markdown",
      "source": [
        "## 4. Apgar é uma *nota* que o pediatra dá ao bebê quando nasce de acordo com algumas características associadas principalmente à respiração. Apgar 1 e Apgar 5 são as notas 1 e 5 minutos do nascimento. Apgar5 será a nossa variável de interesse principal. Então remova todos os registros com Apgar5 não preenchido. Para esta seleção, conte novamente o número de linhas e o número de *missings*."
      ],
      "metadata": {
        "id": "R9RnCmIkj4jJ"
      }
    },
    {
      "cell_type": "code",
      "execution_count": null,
      "metadata": {
        "id": "8MgWH9B4bCxH",
        "colab": {
          "base_uri": "https://localhost:8080/"
        },
        "outputId": "4a1f9e4f-9a34-44d3-c989-d2e30f799eb7"
      },
      "outputs": [
        {
          "output_type": "execute_result",
          "data": {
            "text/plain": [
              "(27028,)"
            ]
          },
          "metadata": {},
          "execution_count": 13
        }
      ],
      "source": [
        "# 4) seu código aqui\n",
        "# O comando .shape() verifica a quantidade de linhas na coluna apgar5\n",
        "df['APGAR5'].shape"
      ]
    },
    {
      "cell_type": "code",
      "source": [
        "#  Somatório da quantidade de linhas missing\n",
        "df['APGAR5'].isna().sum()"
      ],
      "metadata": {
        "colab": {
          "base_uri": "https://localhost:8080/"
        },
        "id": "5zedaBCwk4lD",
        "outputId": "3d7e0c70-6c08-45d3-8b3f-a55af15eaa85"
      },
      "execution_count": null,
      "outputs": [
        {
          "output_type": "execute_result",
          "data": {
            "text/plain": [
              "103"
            ]
          },
          "metadata": {},
          "execution_count": 14
        }
      ]
    },
    {
      "cell_type": "code",
      "source": [
        "#  com o comando dropna() retiramos os dados faltantes\n",
        "df_apgar5 = df['APGAR5'].dropna()\n",
        "df_apgar5"
      ],
      "metadata": {
        "id": "P1TDb0VjjrO5",
        "colab": {
          "base_uri": "https://localhost:8080/"
        },
        "outputId": "ea975976-1125-410c-d3b9-85d4506caab5"
      },
      "execution_count": null,
      "outputs": [
        {
          "output_type": "execute_result",
          "data": {
            "text/plain": [
              "0        10.0\n",
              "1         9.0\n",
              "2        10.0\n",
              "3        10.0\n",
              "4        10.0\n",
              "         ... \n",
              "27023     9.0\n",
              "27024     9.0\n",
              "27025    10.0\n",
              "27026     9.0\n",
              "27027     8.0\n",
              "Name: APGAR5, Length: 26925, dtype: float64"
            ]
          },
          "metadata": {},
          "execution_count": 15
        }
      ]
    },
    {
      "cell_type": "markdown",
      "source": [
        "## 5. Observe que as variáveis ```['ESTCIVMAE', 'CONSULTAS']``` possuem o código ```9```, que significa *ignorado*. Vamos assumir que o não preenchido é o mesmo que o código ```9```.<br>"
      ],
      "metadata": {
        "id": "_9Vqj6tYlHrl"
      }
    },
    {
      "cell_type": "code",
      "execution_count": null,
      "metadata": {
        "id": "MZ-ewKr-bCxI",
        "colab": {
          "base_uri": "https://localhost:8080/"
        },
        "outputId": "9fa500a0-1712-4d71-d153-ffdad196bece"
      },
      "outputs": [
        {
          "output_type": "execute_result",
          "data": {
            "text/plain": [
              "1.0    8952\n",
              "2.0    9924\n",
              "3.0      57\n",
              "4.0     453\n",
              "5.0    7180\n",
              "9.0     145\n",
              "Name: ESTCIVMAE, dtype: int64"
            ]
          },
          "metadata": {},
          "execution_count": 16
        }
      ],
      "source": [
        "# 5) seu código aqui\n",
        "\n",
        "# Filtrando os dados faltantes na variável \"ESTCIVMAE\"\n",
        "df['ESTCIVMAE'].value_counts().sort_index()"
      ]
    },
    {
      "cell_type": "code",
      "source": [
        "# Filtrando os dados faltantes na variável \"CONSULTAS\"\n",
        "df['CONSULTAS'].value_counts().sort_index()"
      ],
      "metadata": {
        "colab": {
          "base_uri": "https://localhost:8080/"
        },
        "id": "q8MpUlYPlxq7",
        "outputId": "0c7a801b-68c1-4023-eb2e-ef87930ff39e"
      },
      "execution_count": null,
      "outputs": [
        {
          "output_type": "execute_result",
          "data": {
            "text/plain": [
              "1      986\n",
              "2     1379\n",
              "3     5988\n",
              "4    18624\n",
              "9       51\n",
              "Name: CONSULTAS, dtype: int64"
            ]
          },
          "metadata": {},
          "execution_count": 17
        }
      ]
    },
    {
      "cell_type": "code",
      "source": [
        "# Removendo os valores ignorados das variáveis\n",
        "df_ign = df.loc[(df['CONSULTAS'] != 9) & (df['ESTCIVMAE'] != 9)]\n",
        "df_ign['CONSULTAS'].value_counts().sort_index()"
      ],
      "metadata": {
        "colab": {
          "base_uri": "https://localhost:8080/"
        },
        "id": "rQRRA-7el93s",
        "outputId": "380db08a-efc2-45a3-fcae-9a3db62492a3"
      },
      "execution_count": null,
      "outputs": [
        {
          "output_type": "execute_result",
          "data": {
            "text/plain": [
              "1      980\n",
              "2     1374\n",
              "3     5955\n",
              "4    18523\n",
              "Name: CONSULTAS, dtype: int64"
            ]
          },
          "metadata": {},
          "execution_count": 19
        }
      ]
    },
    {
      "cell_type": "markdown",
      "source": [
        "## 6. Substitua os valores faltantes da quantitativa (```QTDFILVIVO```) por zero."
      ],
      "metadata": {
        "id": "lpuN79W0pP6r"
      }
    },
    {
      "cell_type": "code",
      "execution_count": null,
      "metadata": {
        "id": "iLAX-ImUbCxI",
        "colab": {
          "base_uri": "https://localhost:8080/"
        },
        "outputId": "7b6ab110-634b-4325-c00c-bbb48e97ac92"
      },
      "outputs": [
        {
          "output_type": "execute_result",
          "data": {
            "text/plain": [
              "1573"
            ]
          },
          "metadata": {},
          "execution_count": 20
        }
      ],
      "source": [
        "# 6) Seu código aqui\n",
        "\n",
        "# Somatório dos valores faltantes\n",
        "df['QTDFILVIVO'].isna().sum()"
      ]
    },
    {
      "cell_type": "code",
      "source": [
        "# Usamos a função .fillna para atribuir (0) nos dados faltantes\n",
        "df_filhos_vivos= df['QTDFILVIVO'].fillna(0)\n",
        "\n",
        "# Visualizando os dados\n",
        "df_filhos_vivos"
      ],
      "metadata": {
        "colab": {
          "base_uri": "https://localhost:8080/"
        },
        "id": "BOQY1b9cjrEh",
        "outputId": "e7c8d913-77bd-4958-cbd9-fa56dd7097e8"
      },
      "execution_count": null,
      "outputs": [
        {
          "output_type": "execute_result",
          "data": {
            "text/plain": [
              "0        0.0\n",
              "1        1.0\n",
              "2        2.0\n",
              "3        0.0\n",
              "4        1.0\n",
              "        ... \n",
              "27023    1.0\n",
              "27024    0.0\n",
              "27025    0.0\n",
              "27026    1.0\n",
              "27027    1.0\n",
              "Name: QTDFILVIVO, Length: 27028, dtype: float64"
            ]
          },
          "metadata": {},
          "execution_count": 22
        }
      ]
    },
    {
      "cell_type": "code",
      "source": [
        "# Filtragem quantidade de filhos vivos\n",
        "df_filhos_vivos.value_counts()"
      ],
      "metadata": {
        "colab": {
          "base_uri": "https://localhost:8080/"
        },
        "id": "V9sFBu4Mpw9N",
        "outputId": "745ffd0e-d174-4cb7-afa6-e56187ba4b4c"
      },
      "execution_count": null,
      "outputs": [
        {
          "output_type": "execute_result",
          "data": {
            "text/plain": [
              "0.0     10899\n",
              "1.0      9390\n",
              "2.0      4474\n",
              "3.0      1370\n",
              "4.0       484\n",
              "5.0       214\n",
              "6.0       112\n",
              "7.0        42\n",
              "8.0        23\n",
              "9.0         8\n",
              "10.0        6\n",
              "12.0        3\n",
              "11.0        1\n",
              "30.0        1\n",
              "14.0        1\n",
              "Name: QTDFILVIVO, dtype: int64"
            ]
          },
          "metadata": {},
          "execution_count": 24
        }
      ]
    },
    {
      "cell_type": "markdown",
      "source": [
        "## 7. Das restantes, decida que valor te parece mais adequado (um 'não preenchido' ou um valor 'mais provável' como no item anterior) e preencha. Justifique. Lembre-se de que tratamento de dados é trabalho do cientista, e que estamos tomando decisões a todo o momento - não há necessariamente certo e errado aqui."
      ],
      "metadata": {
        "id": "K18300T-qVsJ"
      }
    },
    {
      "cell_type": "code",
      "execution_count": null,
      "metadata": {
        "id": "Qrw1OS_cbCxI",
        "colab": {
          "base_uri": "https://localhost:8080/"
        },
        "outputId": "986d739a-c67d-4551-9dfc-2f75b7b38301"
      },
      "outputs": [
        {
          "output_type": "execute_result",
          "data": {
            "text/plain": [
              "Index(['ESTCIVMAE', 'ESCMAE', 'QTDFILVIVO', 'GESTACAO', 'GRAVIDEZ', 'APGAR5'], dtype='object')"
            ]
          },
          "metadata": {},
          "execution_count": 26
        }
      ],
      "source": [
        "# 7) seu código aqui\n",
        "\n",
        "# Colunas com dados faltantes\n",
        "df_faltantes_maior_0 .columns"
      ]
    },
    {
      "cell_type": "code",
      "source": [
        "df['GRAVIDEZ'].value_counts()"
      ],
      "metadata": {
        "colab": {
          "base_uri": "https://localhost:8080/"
        },
        "id": "TbWU7wYIeia6",
        "outputId": "c8c3abaa-55e2-4f6d-ca0f-f4dff28c9b9b"
      },
      "execution_count": null,
      "outputs": [
        {
          "output_type": "execute_result",
          "data": {
            "text/plain": [
              "Única              26452\n",
              "Dupla                492\n",
              "Tríplice e mais        5\n",
              "Name: GRAVIDEZ, dtype: int64"
            ]
          },
          "metadata": {},
          "execution_count": 27
        }
      ]
    },
    {
      "cell_type": "code",
      "source": [
        "# Somatório dos dados faltantes na coluna Gravidez\n",
        "df['GRAVIDEZ'].isna().sum()"
      ],
      "metadata": {
        "colab": {
          "base_uri": "https://localhost:8080/"
        },
        "id": "h8mTKoJcdo-c",
        "outputId": "f35bcd32-c9cd-4d3f-b60a-628d8bbcbc33"
      },
      "execution_count": null,
      "outputs": [
        {
          "output_type": "execute_result",
          "data": {
            "text/plain": [
              "79"
            ]
          },
          "metadata": {},
          "execution_count": 28
        }
      ]
    },
    {
      "cell_type": "code",
      "source": [
        "# Aplicando .dropna vamos elimanar os dados inexistente da coluna \"GRAVIDEZ\"\n",
        "df_gravidez = df['GRAVIDEZ'].dropna()\n",
        "df_gravidez.value_counts()"
      ],
      "metadata": {
        "colab": {
          "base_uri": "https://localhost:8080/"
        },
        "id": "uqY8MH-hfn4S",
        "outputId": "54427048-e890-4fa6-f47e-a0914447405f"
      },
      "execution_count": null,
      "outputs": [
        {
          "output_type": "execute_result",
          "data": {
            "text/plain": [
              "Única              26452\n",
              "Dupla                492\n",
              "Tríplice e mais        5\n",
              "Name: GRAVIDEZ, dtype: int64"
            ]
          },
          "metadata": {},
          "execution_count": 29
        }
      ]
    },
    {
      "cell_type": "code",
      "source": [
        "# Eliminando os valores nulos e iguais a 9\n",
        "df_estado_civil= df.loc[(df['ESTCIVMAE'] != 9) & (df['ESTCIVMAE'].notna())]\n",
        "df_estado_civil['ESTCIVMAE'].value_counts()"
      ],
      "metadata": {
        "colab": {
          "base_uri": "https://localhost:8080/"
        },
        "id": "c3VQGwo2g9Le",
        "outputId": "4b902e61-144b-4aa1-d85f-73f4e26f3518"
      },
      "execution_count": null,
      "outputs": [
        {
          "output_type": "execute_result",
          "data": {
            "text/plain": [
              "2.0    9924\n",
              "1.0    8952\n",
              "5.0    7180\n",
              "4.0     453\n",
              "3.0      57\n",
              "Name: ESTCIVMAE, dtype: int64"
            ]
          },
          "metadata": {},
          "execution_count": 30
        }
      ]
    },
    {
      "cell_type": "markdown",
      "source": [
        "## 8. O Apgar possui uma classificação indicando se o bebê passou por asfixia:\n",
        "\n",
        "- Entre 8 e 10 está em uma faixa 'normal'.\n",
        "- Entre 6 e 7, significa que o recém-nascido passou por 'asfixia leve'.\n",
        "- Entre 4 e 5 significa 'asfixia moderada'.\n",
        "- Entre 0 e 3 significa 'asfixia severa'.  \n",
        "\n",
        "Crie uma categorização dessa variável com essa codificação e calcule as frequências dessa categorização."
      ],
      "metadata": {
        "id": "Et4wwv06i0xU"
      }
    },
    {
      "cell_type": "code",
      "source": [
        "# verificando os dados\n",
        "df['APGAR5'].value_counts().sort_values()"
      ],
      "metadata": {
        "colab": {
          "base_uri": "https://localhost:8080/"
        },
        "id": "WR3GRgcajsDQ",
        "outputId": "3a183e97-bd9a-48b7-dd37-f223a82a4057"
      },
      "execution_count": null,
      "outputs": [
        {
          "output_type": "execute_result",
          "data": {
            "text/plain": [
              "3.0        15\n",
              "0.0        17\n",
              "2.0        18\n",
              "4.0        23\n",
              "1.0        24\n",
              "5.0        45\n",
              "6.0        79\n",
              "7.0       241\n",
              "8.0      1994\n",
              "10.0     8393\n",
              "9.0     16076\n",
              "Name: APGAR5, dtype: int64"
            ]
          },
          "metadata": {},
          "execution_count": 31
        }
      ]
    },
    {
      "cell_type": "code",
      "source": [
        "# Categorizando dos dados\n",
        "df.loc[df['APGAR5'] >= 8, 'apgar5_novo'] = 'normal'\n",
        "df.loc[(df['APGAR5'] >=6) & (df['APGAR5'] <= 7),\n",
        "           'apgar5_novo'] = 'asfixia leve'\n",
        "df.loc[(df['APGAR5'] >= 4) & (df['APGAR5'] <= 5),\n",
        "           'apgar5_novo'] = 'asfixia moderada'\n",
        "df.loc[(df['APGAR5'] <= 3), 'apgar5_novo'] = 'asfixia severa'"
      ],
      "metadata": {
        "id": "CLBJlbMfkhnC"
      },
      "execution_count": null,
      "outputs": []
    },
    {
      "cell_type": "code",
      "source": [
        "# mostrando a frequência\n",
        "df['apgar5_novo'].value_counts()"
      ],
      "metadata": {
        "colab": {
          "base_uri": "https://localhost:8080/"
        },
        "id": "jc4eJ3xVnVH3",
        "outputId": "0c1c9cca-320f-4782-e959-b032aa2cff37"
      },
      "execution_count": null,
      "outputs": [
        {
          "output_type": "execute_result",
          "data": {
            "text/plain": [
              "normal              26463\n",
              "asfixia leve          320\n",
              "asfixia severa         74\n",
              "asfixia moderada       68\n",
              "Name: apgar5_novo, dtype: int64"
            ]
          },
          "metadata": {},
          "execution_count": 33
        }
      ]
    },
    {
      "cell_type": "markdown",
      "source": [
        "## 9. Renomeie as variáveis para que fiquem no *snake case*, ou seja, em letras minúsculas, com um *underscore* entre as palávras. Dica: repare que se você não quiser criar um *dataframe* novo, você vai precisar usar a opção ```inplace = True```."
      ],
      "metadata": {
        "id": "kvdtMKPti2wI"
      }
    },
    {
      "cell_type": "code",
      "execution_count": null,
      "metadata": {
        "id": "MrkVBYv3bCxJ"
      },
      "outputs": [],
      "source": [
        "# 9) seu código aqui\n",
        "\n",
        "# transformando os valores em snake case\n",
        "df['apgar5_novo'] = df['apgar5_novo'].str.replace(' ', '_').str.lower()"
      ]
    },
    {
      "cell_type": "code",
      "source": [
        "# Verificando a frequencia\n",
        "df['apgar5_novo'].value_counts()"
      ],
      "metadata": {
        "colab": {
          "base_uri": "https://localhost:8080/"
        },
        "id": "1huQZ0mQoE5Y",
        "outputId": "34cc663b-0f72-4293-c2f0-97f48092463a"
      },
      "execution_count": null,
      "outputs": [
        {
          "output_type": "execute_result",
          "data": {
            "text/plain": [
              "normal              26463\n",
              "asfixia_leve          320\n",
              "asfixia_severa         74\n",
              "asfixia_moderada       68\n",
              "Name: apgar5_novo, dtype: int64"
            ]
          },
          "metadata": {},
          "execution_count": 35
        }
      ]
    }
  ],
  "metadata": {
    "kernelspec": {
      "display_name": "Python 3",
      "language": "python",
      "name": "python3"
    },
    "language_info": {
      "codemirror_mode": {
        "name": "ipython",
        "version": 3
      },
      "file_extension": ".py",
      "mimetype": "text/x-python",
      "name": "python",
      "nbconvert_exporter": "python",
      "pygments_lexer": "ipython3",
      "version": "3.8.5"
    },
    "colab": {
      "provenance": []
    }
  },
  "nbformat": 4,
  "nbformat_minor": 0
}