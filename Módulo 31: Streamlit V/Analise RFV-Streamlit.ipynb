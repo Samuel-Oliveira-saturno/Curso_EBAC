{
 "cells": [
  {
   "cell_type": "code",
   "execution_count": null,
   "metadata": {
    "_cell_guid": "fb109ad4-cdae-4e93-be9a-cff4f04dcfc4",
    "_uuid": "2b3bec228338f1149d7f9673ed7304064fa0d707"
   },
   "outputs": [],
   "source": []
  },
  {
   "cell_type": "markdown",
   "metadata": {
    "_uuid": "cbaccf99777325fb28ee98c749fea76c4b5693b6"
   },
   "source": [
    "# RFV\n",
    "\n",
    "**RFV** significa recência, frequência, valor e é utilizado para segmentação de clientes baseado no comportamento de compras dos clientes e agrupa eles em clusters parecidos. Utilizando esse tipo de agrupamento podemos realizar ações de marketing e CRM melhores direcionadas, ajudando assim na personalização do conteúdo e até a retenção de clientes.\n",
    "\n",
    "Para cada cliente é preciso calcular cada uma das componentes abaixo:\n",
    "\n",
    "- Recência (R): Quantidade de dias desde a última compra.\n",
    "- Frequência (F): Quantidade total de compras no período.\n",
    "- Valor (V): Total de dinheiro gasto nas compras do período.\n",
    "\n",
    "E é isso que iremos fazer abaixo.\n",
    "\n"
   ]
  },
  {
   "cell_type": "code",
   "execution_count": 2,
   "metadata": {},
   "outputs": [],
   "source": [
    "import numpy as np\n",
    "import pandas as pd\n",
    "from datetime import datetime\n"
   ]
  },
  {
   "cell_type": "code",
   "execution_count": 3,
   "metadata": {},
   "outputs": [
    {
     "name": "stderr",
     "output_type": "stream",
     "text": [
      "/tmp/ipykernel_9297/2724439615.py:1: FutureWarning: The argument 'infer_datetime_format' is deprecated and will be removed in a future version. A strict version of it is now the default, see https://pandas.pydata.org/pdeps/0004-consistent-to-datetime-parsing.html. You can safely remove this argument.\n",
      "  df_compras = pd.read_csv('dados.csv',\n"
     ]
    },
    {
     "data": {
      "text/html": [
       "<div>\n",
       "<style scoped>\n",
       "    .dataframe tbody tr th:only-of-type {\n",
       "        vertical-align: middle;\n",
       "    }\n",
       "\n",
       "    .dataframe tbody tr th {\n",
       "        vertical-align: top;\n",
       "    }\n",
       "\n",
       "    .dataframe thead th {\n",
       "        text-align: right;\n",
       "    }\n",
       "</style>\n",
       "<table border=\"1\" class=\"dataframe\">\n",
       "  <thead>\n",
       "    <tr style=\"text-align: right;\">\n",
       "      <th></th>\n",
       "      <th>ID_cliente</th>\n",
       "      <th>CodigoCompra</th>\n",
       "      <th>DiaCompra</th>\n",
       "      <th>ValorTotal</th>\n",
       "    </tr>\n",
       "  </thead>\n",
       "  <tbody>\n",
       "    <tr>\n",
       "      <th>0</th>\n",
       "      <td>12747</td>\n",
       "      <td>537215</td>\n",
       "      <td>2020-12-05</td>\n",
       "      <td>358.56</td>\n",
       "    </tr>\n",
       "    <tr>\n",
       "      <th>1</th>\n",
       "      <td>12747</td>\n",
       "      <td>538537</td>\n",
       "      <td>2020-12-13</td>\n",
       "      <td>347.71</td>\n",
       "    </tr>\n",
       "    <tr>\n",
       "      <th>2</th>\n",
       "      <td>12747</td>\n",
       "      <td>541677</td>\n",
       "      <td>2021-01-20</td>\n",
       "      <td>303.04</td>\n",
       "    </tr>\n",
       "    <tr>\n",
       "      <th>3</th>\n",
       "      <td>12747</td>\n",
       "      <td>545321</td>\n",
       "      <td>2021-03-01</td>\n",
       "      <td>310.78</td>\n",
       "    </tr>\n",
       "    <tr>\n",
       "      <th>4</th>\n",
       "      <td>12747</td>\n",
       "      <td>551992</td>\n",
       "      <td>2021-05-05</td>\n",
       "      <td>442.96</td>\n",
       "    </tr>\n",
       "    <tr>\n",
       "      <th>5</th>\n",
       "      <td>12747</td>\n",
       "      <td>554549</td>\n",
       "      <td>2021-05-25</td>\n",
       "      <td>328.35</td>\n",
       "    </tr>\n",
       "    <tr>\n",
       "      <th>6</th>\n",
       "      <td>12747</td>\n",
       "      <td>558265</td>\n",
       "      <td>2021-06-28</td>\n",
       "      <td>376.30</td>\n",
       "    </tr>\n",
       "    <tr>\n",
       "      <th>7</th>\n",
       "      <td>12747</td>\n",
       "      <td>563949</td>\n",
       "      <td>2021-08-22</td>\n",
       "      <td>301.70</td>\n",
       "    </tr>\n",
       "    <tr>\n",
       "      <th>8</th>\n",
       "      <td>12747</td>\n",
       "      <td>569397</td>\n",
       "      <td>2021-10-04</td>\n",
       "      <td>675.38</td>\n",
       "    </tr>\n",
       "    <tr>\n",
       "      <th>9</th>\n",
       "      <td>12747</td>\n",
       "      <td>577104</td>\n",
       "      <td>2021-11-17</td>\n",
       "      <td>312.73</td>\n",
       "    </tr>\n",
       "    <tr>\n",
       "      <th>10</th>\n",
       "      <td>12747</td>\n",
       "      <td>581163</td>\n",
       "      <td>2021-12-07</td>\n",
       "      <td>438.50</td>\n",
       "    </tr>\n",
       "    <tr>\n",
       "      <th>11</th>\n",
       "      <td>12748</td>\n",
       "      <td>537136</td>\n",
       "      <td>2020-12-05</td>\n",
       "      <td>273.76</td>\n",
       "    </tr>\n",
       "    <tr>\n",
       "      <th>12</th>\n",
       "      <td>12748</td>\n",
       "      <td>537140</td>\n",
       "      <td>2020-12-05</td>\n",
       "      <td>70.42</td>\n",
       "    </tr>\n",
       "    <tr>\n",
       "      <th>13</th>\n",
       "      <td>12748</td>\n",
       "      <td>537142</td>\n",
       "      <td>2020-12-05</td>\n",
       "      <td>41.45</td>\n",
       "    </tr>\n",
       "    <tr>\n",
       "      <th>14</th>\n",
       "      <td>12748</td>\n",
       "      <td>537155</td>\n",
       "      <td>2020-12-05</td>\n",
       "      <td>75.64</td>\n",
       "    </tr>\n",
       "    <tr>\n",
       "      <th>15</th>\n",
       "      <td>12748</td>\n",
       "      <td>537225</td>\n",
       "      <td>2020-12-05</td>\n",
       "      <td>496.48</td>\n",
       "    </tr>\n",
       "    <tr>\n",
       "      <th>16</th>\n",
       "      <td>12748</td>\n",
       "      <td>537354</td>\n",
       "      <td>2020-12-06</td>\n",
       "      <td>133.07</td>\n",
       "    </tr>\n",
       "    <tr>\n",
       "      <th>17</th>\n",
       "      <td>12748</td>\n",
       "      <td>537429</td>\n",
       "      <td>2020-12-06</td>\n",
       "      <td>82.12</td>\n",
       "    </tr>\n",
       "    <tr>\n",
       "      <th>18</th>\n",
       "      <td>12748</td>\n",
       "      <td>537624</td>\n",
       "      <td>2020-12-07</td>\n",
       "      <td>306.84</td>\n",
       "    </tr>\n",
       "    <tr>\n",
       "      <th>19</th>\n",
       "      <td>12748</td>\n",
       "      <td>537800</td>\n",
       "      <td>2020-12-08</td>\n",
       "      <td>69.79</td>\n",
       "    </tr>\n",
       "  </tbody>\n",
       "</table>\n",
       "</div>"
      ],
      "text/plain": [
       "    ID_cliente  CodigoCompra  DiaCompra  ValorTotal\n",
       "0        12747        537215 2020-12-05      358.56\n",
       "1        12747        538537 2020-12-13      347.71\n",
       "2        12747        541677 2021-01-20      303.04\n",
       "3        12747        545321 2021-03-01      310.78\n",
       "4        12747        551992 2021-05-05      442.96\n",
       "5        12747        554549 2021-05-25      328.35\n",
       "6        12747        558265 2021-06-28      376.30\n",
       "7        12747        563949 2021-08-22      301.70\n",
       "8        12747        569397 2021-10-04      675.38\n",
       "9        12747        577104 2021-11-17      312.73\n",
       "10       12747        581163 2021-12-07      438.50\n",
       "11       12748        537136 2020-12-05      273.76\n",
       "12       12748        537140 2020-12-05       70.42\n",
       "13       12748        537142 2020-12-05       41.45\n",
       "14       12748        537155 2020-12-05       75.64\n",
       "15       12748        537225 2020-12-05      496.48\n",
       "16       12748        537354 2020-12-06      133.07\n",
       "17       12748        537429 2020-12-06       82.12\n",
       "18       12748        537624 2020-12-07      306.84\n",
       "19       12748        537800 2020-12-08       69.79"
      ]
     },
     "execution_count": 3,
     "metadata": {},
     "output_type": "execute_result"
    }
   ],
   "source": [
    "df_compras = pd.read_csv('dados.csv',\n",
    "                        infer_datetime_format=True,\n",
    "                        parse_dates=['DiaCompra'])\n",
    "df_compras.head(20)"
   ]
  },
  {
   "cell_type": "code",
   "execution_count": 4,
   "metadata": {},
   "outputs": [
    {
     "data": {
      "text/plain": [
       "(16127, 4)"
      ]
     },
     "execution_count": 4,
     "metadata": {},
     "output_type": "execute_result"
    }
   ],
   "source": [
    "df_compras.shape"
   ]
  },
  {
   "cell_type": "code",
   "execution_count": 5,
   "metadata": {},
   "outputs": [
    {
     "data": {
      "text/plain": [
       "ID_cliente               int64\n",
       "CodigoCompra             int64\n",
       "DiaCompra       datetime64[ns]\n",
       "ValorTotal             float64\n",
       "dtype: object"
      ]
     },
     "execution_count": 5,
     "metadata": {},
     "output_type": "execute_result"
    }
   ],
   "source": [
    "df_compras.dtypes"
   ]
  },
  {
   "cell_type": "code",
   "execution_count": 6,
   "metadata": {},
   "outputs": [
    {
     "data": {
      "text/plain": [
       "Timestamp('2020-12-01 00:00:00')"
      ]
     },
     "execution_count": 6,
     "metadata": {},
     "output_type": "execute_result"
    }
   ],
   "source": [
    "df_compras['DiaCompra'].min()"
   ]
  },
  {
   "cell_type": "code",
   "execution_count": 7,
   "metadata": {},
   "outputs": [
    {
     "data": {
      "text/plain": [
       "Timestamp('2021-12-09 00:00:00')"
      ]
     },
     "execution_count": 7,
     "metadata": {},
     "output_type": "execute_result"
    }
   ],
   "source": [
    "df_compras['DiaCompra'].max()"
   ]
  },
  {
   "cell_type": "code",
   "execution_count": 8,
   "metadata": {},
   "outputs": [
    {
     "name": "stdout",
     "output_type": "stream",
     "text": [
      "2021-12-09 00:00:00\n"
     ]
    }
   ],
   "source": [
    "dia_atual = datetime(2021,12,9)\n",
    "print(dia_atual)"
   ]
  },
  {
   "cell_type": "markdown",
   "metadata": {},
   "source": [
    "## Recência \n",
    "\n",
    "\n",
    "### Quantos dias faz que o cliente fez a sua última compra?"
   ]
  },
  {
   "cell_type": "code",
   "execution_count": null,
   "metadata": {},
   "outputs": [],
   "source": []
  },
  {
   "cell_type": "code",
   "execution_count": 1,
   "metadata": {
    "_uuid": "29f4d8a264683adbc8960d28b5fd3a3d2b476e7b"
   },
   "outputs": [
    {
     "name": "stderr",
     "output_type": "stream",
     "text": [
      "/home/sos/anaconda3/lib/python3.11/site-packages/pandas/core/arrays/masked.py:60: UserWarning: Pandas requires version '1.3.6' or newer of 'bottleneck' (version '1.3.5' currently installed).\n",
      "  from pandas.core import (\n",
      "/tmp/ipykernel_9297/3453579499.py:39: FutureWarning: The argument 'infer_datetime_format' is deprecated and will be removed in a future version. A strict version of it is now the default, see https://pandas.pydata.org/pdeps/0004-consistent-to-datetime-parsing.html. You can safely remove this argument.\n",
      "  df_compras = pd.read_csv('./input/dados.csv',\n"
     ]
    },
    {
     "ename": "FileNotFoundError",
     "evalue": "[Errno 2] No such file or directory: './input/dados.csv'",
     "output_type": "error",
     "traceback": [
      "\u001b[0;31m---------------------------------------------------------------------------\u001b[0m",
      "\u001b[0;31mFileNotFoundError\u001b[0m                         Traceback (most recent call last)",
      "Cell \u001b[0;32mIn[1], line 39\u001b[0m\n\u001b[1;32m     35\u001b[0m     \u001b[38;5;28;01melse\u001b[39;00m:\n\u001b[1;32m     36\u001b[0m         \u001b[38;5;28;01mreturn\u001b[39;00m \u001b[38;5;124m'\u001b[39m\u001b[38;5;124mA\u001b[39m\u001b[38;5;124m'\u001b[39m\n\u001b[0;32m---> 39\u001b[0m df_compras \u001b[38;5;241m=\u001b[39m pd\u001b[38;5;241m.\u001b[39mread_csv(\u001b[38;5;124m'\u001b[39m\u001b[38;5;124m./input/dados.csv\u001b[39m\u001b[38;5;124m'\u001b[39m,\n\u001b[1;32m     40\u001b[0m                          infer_datetime_format\u001b[38;5;241m=\u001b[39m\u001b[38;5;28;01mTrue\u001b[39;00m,\n\u001b[1;32m     41\u001b[0m                          parse_dates\u001b[38;5;241m=\u001b[39m[\u001b[38;5;124m'\u001b[39m\u001b[38;5;124mDiaCompra\u001b[39m\u001b[38;5;124m'\u001b[39m])\n\u001b[1;32m     43\u001b[0m \u001b[38;5;66;03m## Recência\u001b[39;00m\n\u001b[1;32m     44\u001b[0m \n\u001b[1;32m     45\u001b[0m \u001b[38;5;66;03m####**Quantos dias faz que o cliente fez a sua última compra?**\u001b[39;00m\n\u001b[1;32m     47\u001b[0m df_recencia \u001b[38;5;241m=\u001b[39m df_compras\u001b[38;5;241m.\u001b[39mgroupby(by\u001b[38;5;241m=\u001b[39m\u001b[38;5;124m'\u001b[39m\u001b[38;5;124mID_cliente\u001b[39m\u001b[38;5;124m'\u001b[39m,\n\u001b[1;32m     48\u001b[0m                                  as_index\u001b[38;5;241m=\u001b[39m\u001b[38;5;28;01mFalse\u001b[39;00m)[\u001b[38;5;124m'\u001b[39m\u001b[38;5;124mDiaCompra\u001b[39m\u001b[38;5;124m'\u001b[39m]\u001b[38;5;241m.\u001b[39mmax()\n",
      "File \u001b[0;32m~/anaconda3/lib/python3.11/site-packages/pandas/io/parsers/readers.py:1026\u001b[0m, in \u001b[0;36mread_csv\u001b[0;34m(filepath_or_buffer, sep, delimiter, header, names, index_col, usecols, dtype, engine, converters, true_values, false_values, skipinitialspace, skiprows, skipfooter, nrows, na_values, keep_default_na, na_filter, verbose, skip_blank_lines, parse_dates, infer_datetime_format, keep_date_col, date_parser, date_format, dayfirst, cache_dates, iterator, chunksize, compression, thousands, decimal, lineterminator, quotechar, quoting, doublequote, escapechar, comment, encoding, encoding_errors, dialect, on_bad_lines, delim_whitespace, low_memory, memory_map, float_precision, storage_options, dtype_backend)\u001b[0m\n\u001b[1;32m   1013\u001b[0m kwds_defaults \u001b[38;5;241m=\u001b[39m _refine_defaults_read(\n\u001b[1;32m   1014\u001b[0m     dialect,\n\u001b[1;32m   1015\u001b[0m     delimiter,\n\u001b[0;32m   (...)\u001b[0m\n\u001b[1;32m   1022\u001b[0m     dtype_backend\u001b[38;5;241m=\u001b[39mdtype_backend,\n\u001b[1;32m   1023\u001b[0m )\n\u001b[1;32m   1024\u001b[0m kwds\u001b[38;5;241m.\u001b[39mupdate(kwds_defaults)\n\u001b[0;32m-> 1026\u001b[0m \u001b[38;5;28;01mreturn\u001b[39;00m _read(filepath_or_buffer, kwds)\n",
      "File \u001b[0;32m~/anaconda3/lib/python3.11/site-packages/pandas/io/parsers/readers.py:620\u001b[0m, in \u001b[0;36m_read\u001b[0;34m(filepath_or_buffer, kwds)\u001b[0m\n\u001b[1;32m    617\u001b[0m _validate_names(kwds\u001b[38;5;241m.\u001b[39mget(\u001b[38;5;124m\"\u001b[39m\u001b[38;5;124mnames\u001b[39m\u001b[38;5;124m\"\u001b[39m, \u001b[38;5;28;01mNone\u001b[39;00m))\n\u001b[1;32m    619\u001b[0m \u001b[38;5;66;03m# Create the parser.\u001b[39;00m\n\u001b[0;32m--> 620\u001b[0m parser \u001b[38;5;241m=\u001b[39m TextFileReader(filepath_or_buffer, \u001b[38;5;241m*\u001b[39m\u001b[38;5;241m*\u001b[39mkwds)\n\u001b[1;32m    622\u001b[0m \u001b[38;5;28;01mif\u001b[39;00m chunksize \u001b[38;5;129;01mor\u001b[39;00m iterator:\n\u001b[1;32m    623\u001b[0m     \u001b[38;5;28;01mreturn\u001b[39;00m parser\n",
      "File \u001b[0;32m~/anaconda3/lib/python3.11/site-packages/pandas/io/parsers/readers.py:1620\u001b[0m, in \u001b[0;36mTextFileReader.__init__\u001b[0;34m(self, f, engine, **kwds)\u001b[0m\n\u001b[1;32m   1617\u001b[0m     \u001b[38;5;28mself\u001b[39m\u001b[38;5;241m.\u001b[39moptions[\u001b[38;5;124m\"\u001b[39m\u001b[38;5;124mhas_index_names\u001b[39m\u001b[38;5;124m\"\u001b[39m] \u001b[38;5;241m=\u001b[39m kwds[\u001b[38;5;124m\"\u001b[39m\u001b[38;5;124mhas_index_names\u001b[39m\u001b[38;5;124m\"\u001b[39m]\n\u001b[1;32m   1619\u001b[0m \u001b[38;5;28mself\u001b[39m\u001b[38;5;241m.\u001b[39mhandles: IOHandles \u001b[38;5;241m|\u001b[39m \u001b[38;5;28;01mNone\u001b[39;00m \u001b[38;5;241m=\u001b[39m \u001b[38;5;28;01mNone\u001b[39;00m\n\u001b[0;32m-> 1620\u001b[0m \u001b[38;5;28mself\u001b[39m\u001b[38;5;241m.\u001b[39m_engine \u001b[38;5;241m=\u001b[39m \u001b[38;5;28mself\u001b[39m\u001b[38;5;241m.\u001b[39m_make_engine(f, \u001b[38;5;28mself\u001b[39m\u001b[38;5;241m.\u001b[39mengine)\n",
      "File \u001b[0;32m~/anaconda3/lib/python3.11/site-packages/pandas/io/parsers/readers.py:1880\u001b[0m, in \u001b[0;36mTextFileReader._make_engine\u001b[0;34m(self, f, engine)\u001b[0m\n\u001b[1;32m   1878\u001b[0m     \u001b[38;5;28;01mif\u001b[39;00m \u001b[38;5;124m\"\u001b[39m\u001b[38;5;124mb\u001b[39m\u001b[38;5;124m\"\u001b[39m \u001b[38;5;129;01mnot\u001b[39;00m \u001b[38;5;129;01min\u001b[39;00m mode:\n\u001b[1;32m   1879\u001b[0m         mode \u001b[38;5;241m+\u001b[39m\u001b[38;5;241m=\u001b[39m \u001b[38;5;124m\"\u001b[39m\u001b[38;5;124mb\u001b[39m\u001b[38;5;124m\"\u001b[39m\n\u001b[0;32m-> 1880\u001b[0m \u001b[38;5;28mself\u001b[39m\u001b[38;5;241m.\u001b[39mhandles \u001b[38;5;241m=\u001b[39m get_handle(\n\u001b[1;32m   1881\u001b[0m     f,\n\u001b[1;32m   1882\u001b[0m     mode,\n\u001b[1;32m   1883\u001b[0m     encoding\u001b[38;5;241m=\u001b[39m\u001b[38;5;28mself\u001b[39m\u001b[38;5;241m.\u001b[39moptions\u001b[38;5;241m.\u001b[39mget(\u001b[38;5;124m\"\u001b[39m\u001b[38;5;124mencoding\u001b[39m\u001b[38;5;124m\"\u001b[39m, \u001b[38;5;28;01mNone\u001b[39;00m),\n\u001b[1;32m   1884\u001b[0m     compression\u001b[38;5;241m=\u001b[39m\u001b[38;5;28mself\u001b[39m\u001b[38;5;241m.\u001b[39moptions\u001b[38;5;241m.\u001b[39mget(\u001b[38;5;124m\"\u001b[39m\u001b[38;5;124mcompression\u001b[39m\u001b[38;5;124m\"\u001b[39m, \u001b[38;5;28;01mNone\u001b[39;00m),\n\u001b[1;32m   1885\u001b[0m     memory_map\u001b[38;5;241m=\u001b[39m\u001b[38;5;28mself\u001b[39m\u001b[38;5;241m.\u001b[39moptions\u001b[38;5;241m.\u001b[39mget(\u001b[38;5;124m\"\u001b[39m\u001b[38;5;124mmemory_map\u001b[39m\u001b[38;5;124m\"\u001b[39m, \u001b[38;5;28;01mFalse\u001b[39;00m),\n\u001b[1;32m   1886\u001b[0m     is_text\u001b[38;5;241m=\u001b[39mis_text,\n\u001b[1;32m   1887\u001b[0m     errors\u001b[38;5;241m=\u001b[39m\u001b[38;5;28mself\u001b[39m\u001b[38;5;241m.\u001b[39moptions\u001b[38;5;241m.\u001b[39mget(\u001b[38;5;124m\"\u001b[39m\u001b[38;5;124mencoding_errors\u001b[39m\u001b[38;5;124m\"\u001b[39m, \u001b[38;5;124m\"\u001b[39m\u001b[38;5;124mstrict\u001b[39m\u001b[38;5;124m\"\u001b[39m),\n\u001b[1;32m   1888\u001b[0m     storage_options\u001b[38;5;241m=\u001b[39m\u001b[38;5;28mself\u001b[39m\u001b[38;5;241m.\u001b[39moptions\u001b[38;5;241m.\u001b[39mget(\u001b[38;5;124m\"\u001b[39m\u001b[38;5;124mstorage_options\u001b[39m\u001b[38;5;124m\"\u001b[39m, \u001b[38;5;28;01mNone\u001b[39;00m),\n\u001b[1;32m   1889\u001b[0m )\n\u001b[1;32m   1890\u001b[0m \u001b[38;5;28;01massert\u001b[39;00m \u001b[38;5;28mself\u001b[39m\u001b[38;5;241m.\u001b[39mhandles \u001b[38;5;129;01mis\u001b[39;00m \u001b[38;5;129;01mnot\u001b[39;00m \u001b[38;5;28;01mNone\u001b[39;00m\n\u001b[1;32m   1891\u001b[0m f \u001b[38;5;241m=\u001b[39m \u001b[38;5;28mself\u001b[39m\u001b[38;5;241m.\u001b[39mhandles\u001b[38;5;241m.\u001b[39mhandle\n",
      "File \u001b[0;32m~/anaconda3/lib/python3.11/site-packages/pandas/io/common.py:873\u001b[0m, in \u001b[0;36mget_handle\u001b[0;34m(path_or_buf, mode, encoding, compression, memory_map, is_text, errors, storage_options)\u001b[0m\n\u001b[1;32m    868\u001b[0m \u001b[38;5;28;01melif\u001b[39;00m \u001b[38;5;28misinstance\u001b[39m(handle, \u001b[38;5;28mstr\u001b[39m):\n\u001b[1;32m    869\u001b[0m     \u001b[38;5;66;03m# Check whether the filename is to be opened in binary mode.\u001b[39;00m\n\u001b[1;32m    870\u001b[0m     \u001b[38;5;66;03m# Binary mode does not support 'encoding' and 'newline'.\u001b[39;00m\n\u001b[1;32m    871\u001b[0m     \u001b[38;5;28;01mif\u001b[39;00m ioargs\u001b[38;5;241m.\u001b[39mencoding \u001b[38;5;129;01mand\u001b[39;00m \u001b[38;5;124m\"\u001b[39m\u001b[38;5;124mb\u001b[39m\u001b[38;5;124m\"\u001b[39m \u001b[38;5;129;01mnot\u001b[39;00m \u001b[38;5;129;01min\u001b[39;00m ioargs\u001b[38;5;241m.\u001b[39mmode:\n\u001b[1;32m    872\u001b[0m         \u001b[38;5;66;03m# Encoding\u001b[39;00m\n\u001b[0;32m--> 873\u001b[0m         handle \u001b[38;5;241m=\u001b[39m \u001b[38;5;28mopen\u001b[39m(\n\u001b[1;32m    874\u001b[0m             handle,\n\u001b[1;32m    875\u001b[0m             ioargs\u001b[38;5;241m.\u001b[39mmode,\n\u001b[1;32m    876\u001b[0m             encoding\u001b[38;5;241m=\u001b[39mioargs\u001b[38;5;241m.\u001b[39mencoding,\n\u001b[1;32m    877\u001b[0m             errors\u001b[38;5;241m=\u001b[39merrors,\n\u001b[1;32m    878\u001b[0m             newline\u001b[38;5;241m=\u001b[39m\u001b[38;5;124m\"\u001b[39m\u001b[38;5;124m\"\u001b[39m,\n\u001b[1;32m    879\u001b[0m         )\n\u001b[1;32m    880\u001b[0m     \u001b[38;5;28;01melse\u001b[39;00m:\n\u001b[1;32m    881\u001b[0m         \u001b[38;5;66;03m# Binary mode\u001b[39;00m\n\u001b[1;32m    882\u001b[0m         handle \u001b[38;5;241m=\u001b[39m \u001b[38;5;28mopen\u001b[39m(handle, ioargs\u001b[38;5;241m.\u001b[39mmode)\n",
      "\u001b[0;31mFileNotFoundError\u001b[0m: [Errno 2] No such file or directory: './input/dados.csv'"
     ]
    }
   ],
   "source": [
    "### Criando os segmentos\n",
    "def recencia_class(x, r, q_dict):\n",
    "    \"\"\"Classifica como melhor o menor quartil \n",
    "       x = valor da linha,\n",
    "       r = recencia,\n",
    "       q_dict = quartil dicionario   \n",
    "    \"\"\"\n",
    "    if x <= q_dict[r][0.25]:\n",
    "        return 'A'\n",
    "    elif x <= q_dict[r][0.50]:\n",
    "        return 'B'\n",
    "    elif x <= q_dict[r][0.75]:\n",
    "        return 'C'\n",
    "    else:\n",
    "        return 'D'\n",
    "\n",
    "\n",
    "def freq_val_class(x, fv, q_dict):\n",
    "    \"\"\"Classifica como melhor o maior quartil \n",
    "       x = valor da linha,\n",
    "       fv = frequencia ou valor,\n",
    "       q_dict = quartil dicionario   \n",
    "    \"\"\"\n",
    "    if x <= q_dict[fv][0.25]:\n",
    "        return 'D'\n",
    "    elif x <= q_dict[fv][0.50]:\n",
    "        return 'C'\n",
    "    elif x <= q_dict[fv][0.75]:\n",
    "        return 'B'\n",
    "    else:\n",
    "        return 'A'\n",
    "\n",
    "\n",
    "df_compras = pd.read_csv('./input/dados.csv',\n",
    "                         infer_datetime_format=True,\n",
    "                         parse_dates=['DiaCompra'])\n",
    "\n",
    "## Recência\n",
    "\n",
    "####**Quantos dias faz que o cliente fez a sua última compra?**\n",
    "\n",
    "df_recencia = df_compras.groupby(by='ID_cliente',\n",
    "                                 as_index=False)['DiaCompra'].max()\n",
    "df_recencia.columns = ['ID_cliente', 'DiaUltimaCompra']\n",
    "print(df_recencia.head())\n",
    "\n",
    "## dia_atual\n",
    "\n",
    "dia_atual = df_compras['DiaCompra'].max()\n",
    "print(dia_atual)\n",
    "\n",
    "df_recencia['Recencia'] = df_recencia['DiaUltimaCompra'].apply(\n",
    "    lambda x: (dia_atual - x).days)\n",
    "\n",
    "print(df_recencia.head())\n",
    "\n",
    "df_recencia.drop('DiaUltimaCompra', axis=1, inplace=True)\n",
    "\n",
    "## Frequência\n",
    "\n",
    "####**Quantas vezes cada cliente comprou com a gente?**\n",
    "\n",
    "df_frequencia = df_compras[['ID_cliente', 'CodigoCompra'\n",
    "                            ]].groupby('ID_cliente').count().reset_index()\n",
    "df_frequencia.columns = ['ID_cliente', 'Frequencia']\n",
    "print(df_frequencia.head())\n",
    "\n",
    "## Valor\n",
    "\n",
    "#### Quanto que cada cliente gastou no periodo?\n",
    "\n",
    "df_valor = df_compras[['ID_cliente', 'ValorTotal'\n",
    "                       ]].groupby('ID_cliente').sum().reset_index()\n",
    "df_valor.columns = ['ID_cliente', 'Valor']\n",
    "print(df_valor.head())\n",
    "\n",
    "## Criando a tabela RFV\n",
    "\n",
    "df_RF = df_recencia.merge(df_frequencia, on='ID_cliente')\n",
    "print(df_RFV.head())\n",
    "\n",
    "df_RFV = df_RF.merge(df_valor, on='ID_cliente')\n",
    "df_RFV.set_index('ID_cliente', inplace=True)\n",
    "print(df_RFV.head())\n",
    "\n",
    "## Segmentação de clientes utilizando o RFV\n",
    "\n",
    "### Um jeito de segmentar os clientes é criando quartis para cada componente do RFV, sendo que o melhor quartil é chamado de 'A', o segundo melhor quartil de 'B', o terceiro melhor de 'C' e o pior de 'D'. O melhor e o pior depende da componente. Po exemplo, quanto menor a recência melhor é o cliente (pois ele comprou com a gente tem pouco tempo) logo o menor quartil seria classificado como 'A', já pra componente frêquencia a lógica se inverte, ou seja, quanto maior a frêquencia do cliente comprar com a gente, melhor ele/a é, logo, o maior quartil recebe a letra 'A'.\n",
    "### Se a gente tiver interessado em mais ou menos classes, basta a gente aumentar ou diminuir o número de quantils pra cada componente.\n",
    "\n",
    "### Quartis para o RFV\n",
    "\n",
    "quartis = df_RFV.quantile(q=[0.25, 0.5, 0.75])\n",
    "print(quartis)\n",
    "\n",
    "df_RFV['R_quartil'] = df_RFV['Recencia'].apply(recencia_class,\n",
    "                                                args=('Recencia', quartis))\n",
    "df_RFV['F_quartil'] = df_RFV['Frequencia'].apply(freq_val_class,\n",
    "                                                  args=('Frequencia', quartis))\n",
    "df_RFV['V_quartil'] = df_RFV['Valor'].apply(freq_val_class,\n",
    "                                             args=('Valor', quartis))\n",
    "\n",
    "print(df_RFV.head())\n",
    "\n",
    "df_RFV['RFV_Score'] = (df_RFV.R_quartil + df_RFV.F_quartil +\n",
    "                       df_RFV.V_quartil)\n",
    "print(df_RFV.head())\n",
    "\n",
    "df_RFV['RFV_Score'].value_counts()\n",
    "\n",
    "df_RFV[df_RFV['RFV_Score'] == 'AAA'].sort_values('Valor',\n",
    "                                                 ascending=False).head(10)\n",
    "\n",
    "### Ações de marketing/CRM\n",
    "\n",
    "dict_acoes = {\n",
    "    'AAA':\n",
    "    'Enviar cupons de desconto, Pedir para indicar nosso produto pra algum amigo, Ao lançar um novo produto enviar amostras grátis pra esses.',\n",
    "    'DDD':\n",
    "    'Churn! clientes que gastaram bem pouco e fizeram poucas compras, fazer nada',\n",
    "    'DAA':\n",
    "    'Churn! clientes que gastaram bastante e fizeram muitas compras, enviar cupons de desconto para tentar recuperar',\n",
    "    'CAA':\n",
    "    'Churn! clientes que gastaram bastante e fizeram muitas compras, enviar cupons de desconto para tentar recuperar'\n",
    "}\n",
    "\n",
    "df_RFV['acoes de marketing/crm'] = df_RFV['RFV_Score'].map(dict_acoes)\n",
    "\n",
    "print(df_RFV.head())\n",
    "\n",
    "df_RFV.to_excel('./output/RFV_.xlsx')"
   ]
  },
  {
   "cell_type": "code",
   "execution_count": null,
   "metadata": {},
   "outputs": [],
   "source": []
  }
 ],
 "metadata": {
  "kernelspec": {
   "display_name": "Python 3 (ipykernel)",
   "language": "python",
   "name": "python3"
  },
  "language_info": {
   "codemirror_mode": {
    "name": "ipython",
    "version": 3
   },
   "file_extension": ".py",
   "mimetype": "text/x-python",
   "name": "python",
   "nbconvert_exporter": "python",
   "pygments_lexer": "ipython3",
   "version": "3.11.5"
  },
  "varInspector": {
   "cols": {
    "lenName": 16,
    "lenType": 16,
    "lenVar": 40
   },
   "kernels_config": {
    "python": {
     "delete_cmd_postfix": "",
     "delete_cmd_prefix": "del ",
     "library": "var_list.py",
     "varRefreshCmd": "print(var_dic_list())"
    },
    "r": {
     "delete_cmd_postfix": ") ",
     "delete_cmd_prefix": "rm(",
     "library": "var_list.r",
     "varRefreshCmd": "cat(var_dic_list()) "
    }
   },
   "types_to_exclude": [
    "module",
    "function",
    "builtin_function_or_method",
    "instance",
    "_Feature"
   ],
   "window_display": false
  }
 },
 "nbformat": 4,
 "nbformat_minor": 1
}
