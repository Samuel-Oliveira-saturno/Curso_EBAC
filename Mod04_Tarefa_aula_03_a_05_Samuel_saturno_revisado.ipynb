{
  "cells": [
    {
      "cell_type": "markdown",
      "metadata": {
        "id": "njUvbhQmC8-t"
      },
      "source": [
        "## Exercício 1: Vestibular\n",
        "\n",
        "Considere que a os dados gerados na célula abaixo contêm o número de acertos de 100 alunos em um vestibular para um curso de exatas, divididas pelos respectivos assuntos. Considere que cada assunto possui um número de questões conforme a tabela abaixo:\n",
        "\n",
        "| assunto | número de questões |\n",
        "|:---:|:---:|\n",
        "| Matemática | 24 |\n",
        "| Português | 18 |\n",
        "| Geografia | 8 |\n",
        "| Inglês | 8 |\n",
        "| História | 8 |\n",
        "| Física | 12 |\n",
        "| Química | 12 |\n",
        "\n",
        "Usando os comandos de operações com DataFrames que você aprendeu na Aula 03, calcule:\n",
        "\n",
        "1. (operações com escalar) Calcule o percentual de acerto dos alunos por assunto.  \n",
        "2. (operações entre *DataFrames) Calcule o total de acertos de cada aluno.  \n",
        "3. Calcule o porcentual geral de cada aluno.  \n",
        "4. Suponha que a nota de corte para a segunda fase seja 45. Quantos alunos tiveram nota maior que 45?  "
      ]
    },
    {
      "cell_type": "markdown",
      "source": [
        "### Importando as Bibliotecas"
      ],
      "metadata": {
        "id": "1VXItu4snBYY"
      }
    },
    {
      "cell_type": "code",
      "execution_count": 1,
      "metadata": {
        "id": "WU5SqatlkSGw"
      },
      "outputs": [],
      "source": [
        "import pandas as pd\n",
        "import numpy as np\n",
        "import zipfile\n",
        "import os"
      ]
    },
    {
      "cell_type": "markdown",
      "source": [
        "### Usando a função Random do numpy para gerar os dados aleatórios."
      ],
      "metadata": {
        "id": "btbNH-wjnIkI"
      }
    },
    {
      "cell_type": "code",
      "execution_count": 2,
      "metadata": {
        "id": "Ll6TadxCC8-y"
      },
      "outputs": [],
      "source": [
        "# Gerando os dados do Dataframe com o Random\n",
        "np.random.seed(42)\n",
        "df_mat = pd.DataFrame(np.random.randint(24, size=(100, 1)), columns=['Qt_acertos'])\n",
        "\n",
        "df_por = pd.DataFrame(np.random.randint(18, size=(100, 1)), columns=['Qt_acertos'])\n",
        "\n",
        "df_geo = pd.DataFrame(np.random.randint(8, size=(100, 1)), columns=['Qt_acertos'])\n",
        "\n",
        "df_ing = pd.DataFrame(np.random.randint(8, size=(100, 1)), columns=['Qt_acertos'])\n",
        "\n",
        "df_his = pd.DataFrame(np.random.randint(8, size=(100, 1)), columns=['Qt_acertos'])\n",
        "\n",
        "df_fis = pd.DataFrame(np.random.randint(12, size=(100, 1)), columns=['Qt_acertos'])\n",
        "\n",
        "df_qui = pd.DataFrame(np.random.randint(12, size=(100, 1)), columns=['Qt_acertos'])"
      ]
    },
    {
      "cell_type": "markdown",
      "source": [
        "### Resolução dos itens apresentados no enunciado."
      ],
      "metadata": {
        "id": "XrJha0A8niAo"
      }
    },
    {
      "cell_type": "code",
      "execution_count": 3,
      "metadata": {
        "id": "JVmLXiC2C8-0",
        "colab": {
          "base_uri": "https://localhost:8080/"
        },
        "outputId": "f1c5db5e-461a-46fa-b514-46c2d8ef3ac4"
      },
      "outputs": [
        {
          "output_type": "stream",
          "name": "stdout",
          "text": [
            "   Qt_acertos  Percentual_Acerto\n",
            "0           6          25.000000\n",
            "1          19          79.166667\n",
            "2          14          58.333333\n",
            "3          10          41.666667\n",
            "4           7          29.166667\n"
          ]
        }
      ],
      "source": [
        "# 1). Percentual de acerto dos alunos por assunto\n",
        "\n",
        "# Criar um DataFrame contendo o número de questões por assunto\n",
        "questoes_por_assunto = pd.DataFrame({\n",
        "    'Assunto': ['Matemática', 'Português', 'Geografia', 'Inglês', 'História', 'Física', 'Química'],\n",
        "    'Num_Questoes': [24, 18, 8, 8, 8, 12, 12]\n",
        "})\n",
        "\n",
        "# Listar os DataFrames de cada assunto\n",
        "dfs = [df_mat, df_por, df_geo, df_ing, df_his, df_fis, df_qui]\n",
        "\n",
        "# Calcular o percentual de acerto por assunto\n",
        "for i, df in enumerate(dfs):\n",
        "    assunto = questoes_por_assunto.loc[i, 'Assunto']\n",
        "    num_questoes = questoes_por_assunto.loc[i, 'Num_Questoes']\n",
        "\n",
        "    df['Percentual_Acerto'] = (df['Qt_acertos'] / num_questoes) * 100\n",
        "\n",
        "# Exibir os primeiros registros de um dos DataFrames para verificar os resultados\n",
        "print(df_mat.head())\n",
        "\n",
        "\n"
      ]
    },
    {
      "cell_type": "code",
      "execution_count": 4,
      "metadata": {
        "id": "JbTwCyNHC8-1",
        "colab": {
          "base_uri": "https://localhost:8080/"
        },
        "outputId": "eb842e3d-1347-46fc-f5da-8f90565805c0"
      },
      "outputs": [
        {
          "output_type": "stream",
          "name": "stdout",
          "text": [
            "   Matemática_acertos  Português_acertos  Geografia_acertos  Inglês_acertos  \\\n",
            "0                   6                  7                  7               3   \n",
            "1                  19                 10                  0               0   \n",
            "2                  14                 16                  0               5   \n",
            "3                  10                  7                  3               4   \n",
            "4                   7                  2                  2               7   \n",
            "\n",
            "   História_acertos  Física_acertos  Química_acertos  Total_Acertos  \n",
            "0                 1               8                3             35  \n",
            "1                 0              11                8             48  \n",
            "2                 7               4                4             50  \n",
            "3                 0               0                8             32  \n",
            "4                 0               9                3             30  \n"
          ]
        }
      ],
      "source": [
        "# 2) (operações entre *DataFrames) Calcule o total de acertos de cada aluno.\n",
        "\n",
        "# Listar os DataFrames de cada assunto\n",
        "dfs = [df_mat, df_por, df_geo, df_ing, df_his, df_fis, df_qui]\n",
        "\n",
        "# Criar um DataFrame vazio para armazenar o total de acertos de cada aluno\n",
        "df_total_acertos = pd.DataFrame()\n",
        "\n",
        "# Calcular o total de acertos de cada aluno\n",
        "for i, df in enumerate(dfs):\n",
        "    assunto = questoes_por_assunto.loc[i, 'Assunto']\n",
        "\n",
        "    # Adicionar a coluna de acertos do assunto ao DataFrame de total de acertos\n",
        "    df_total_acertos[f'{assunto}_acertos'] = df['Qt_acertos']\n",
        "\n",
        "# Calcular a coluna de total de acertos\n",
        "df_total_acertos['Total_Acertos'] = df_total_acertos.sum(axis=1)\n",
        "\n",
        "# Exibir os primeiros registros do DataFrame de total de acertos\n",
        "print(df_total_acertos.head())\n"
      ]
    },
    {
      "cell_type": "code",
      "execution_count": 5,
      "metadata": {
        "id": "c2L8dJkVC8-3",
        "colab": {
          "base_uri": "https://localhost:8080/"
        },
        "outputId": "655ad4e9-5060-4b01-882a-a07197c6549e"
      },
      "outputs": [
        {
          "output_type": "stream",
          "name": "stdout",
          "text": [
            "   Matemática_acertos  Português_acertos  Geografia_acertos  Inglês_acertos  \\\n",
            "0                   6                  7                  7               3   \n",
            "1                  19                 10                  0               0   \n",
            "2                  14                 16                  0               5   \n",
            "3                  10                  7                  3               4   \n",
            "4                   7                  2                  2               7   \n",
            "\n",
            "   História_acertos  Física_acertos  Química_acertos  Total_Acertos  \\\n",
            "0                 1               8                3             35   \n",
            "1                 0              11                8             48   \n",
            "2                 7               4                4             50   \n",
            "3                 0               0                8             32   \n",
            "4                 0               9                3             30   \n",
            "\n",
            "   Percentual_Geral  \n",
            "0         38.888889  \n",
            "1         53.333333  \n",
            "2         55.555556  \n",
            "3         35.555556  \n",
            "4         33.333333  \n"
          ]
        }
      ],
      "source": [
        "# 3) Calcule o porcentual geral de cada aluno.\n",
        "\n",
        "# Calcular o número total de questões do vestibular\n",
        "total_questoes_vestibular = questoes_por_assunto['Num_Questoes'].sum()\n",
        "\n",
        "# Calcular o percentual geral de cada aluno\n",
        "df_total_acertos['Percentual_Geral'] = (df_total_acertos['Total_Acertos'] / total_questoes_vestibular) * 100\n",
        "\n",
        "# Exibir os primeiros registros do DataFrame de total de acertos com o percentual geral\n",
        "print(df_total_acertos.head())\n",
        "\n"
      ]
    },
    {
      "cell_type": "code",
      "execution_count": 6,
      "metadata": {
        "id": "PZTZ7DFzC8-3",
        "colab": {
          "base_uri": "https://localhost:8080/"
        },
        "outputId": "293cdd25-11f1-4962-d465-befc26ea0ba1"
      },
      "outputs": [
        {
          "output_type": "stream",
          "name": "stdout",
          "text": [
            "O número de alunos com nota maior que 45 é: 31\n"
          ]
        }
      ],
      "source": [
        "# 4) Suponha que a nota de corte para a segunda fase seja 45. Quantos alunos tiveram nota maior que 45?\n",
        "\n",
        "# Definir a nota de corte\n",
        "nota_de_corte = 45\n",
        "\n",
        "# Filtrar os alunos que tiveram nota maior que a nota de corte\n",
        "alunos_aprovados = df_total_acertos[df_total_acertos['Total_Acertos'] > nota_de_corte]\n",
        "\n",
        "# Contar o número de alunos aprovados\n",
        "num_alunos_aprovados = len(alunos_aprovados)\n",
        "\n",
        "# Exibir o resultado\n",
        "print(f\"O número de alunos com nota maior que {nota_de_corte} é: {num_alunos_aprovados}\")\n"
      ]
    },
    {
      "cell_type": "markdown",
      "metadata": {
        "id": "Hlfl75XXC8-4"
      },
      "source": [
        "## 2) Vestibular II\n",
        "\n",
        "Ainda sobre o mesmo banco de dados:\n",
        "\n",
        "1. Neste vestibular, quem 'zera' em matemática, física ou química está desqualificado. Monte um novo *DataFrame* com os alunos desqualificados por este critério.\n",
        "2. Quantos são esses alunos?\n",
        "3. Qual a média desses alunos em história e geografia?\n",
        "4. Monte um *DataFrame* com os alunos que passaram para a segunda fase. Repare que estes alunos não podem ter sido desqualificados."
      ]
    },
    {
      "cell_type": "code",
      "execution_count": 7,
      "metadata": {
        "id": "hPaMGXvJC8-4",
        "colab": {
          "base_uri": "https://localhost:8080/"
        },
        "outputId": "fe3e15dd-72ef-4ab7-c1e4-ca39180c51f8"
      },
      "outputs": [
        {
          "output_type": "stream",
          "name": "stdout",
          "text": [
            "    Matemática_acertos  Português_acertos  Geografia_acertos  Inglês_acertos  \\\n",
            "3                   10                  7                  3               4   \n",
            "6                    6                  0                  7               7   \n",
            "10                  10                  8                  3               2   \n",
            "12                  20                  8                  3               7   \n",
            "14                   7                 11                  1               7   \n",
            "\n",
            "    História_acertos  Física_acertos  Química_acertos  Total_Acertos  \\\n",
            "3                  0               0                8             32   \n",
            "6                  5               0                4             29   \n",
            "10                 1               7                0             31   \n",
            "12                 1               0                3             42   \n",
            "14                 1               4                0             31   \n",
            "\n",
            "    Percentual_Geral  \n",
            "3          35.555556  \n",
            "6          32.222222  \n",
            "10         34.444444  \n",
            "12         46.666667  \n",
            "14         34.444444  \n"
          ]
        }
      ],
      "source": [
        "# seu código aqui\n",
        "\n",
        "# Criar um DataFrame contendo os alunos desqualificados\n",
        "df_desqualificados = df_total_acertos[(df_mat['Qt_acertos'] == 0) | (df_fis['Qt_acertos'] == 0) | (df_qui['Qt_acertos'] == 0)]\n",
        "\n",
        "# Exibir os primeiros registros do DataFrame de alunos desqualificados\n",
        "print(df_desqualificados.head())\n"
      ]
    },
    {
      "cell_type": "code",
      "execution_count": 8,
      "metadata": {
        "colab": {
          "base_uri": "https://localhost:8080/"
        },
        "id": "Utn_QYcGkSG0",
        "outputId": "76d9aa86-1d67-4f2e-e37d-7a78654ae875"
      },
      "outputs": [
        {
          "output_type": "stream",
          "name": "stdout",
          "text": [
            "O número de alunos desqualificados é: 23\n"
          ]
        }
      ],
      "source": [
        "# 2) Quantos são esses alunos?\n",
        "\n",
        "# Calcular o número de alunos desqualificados\n",
        "num_alunos_desqualificados = len(df_desqualificados)\n",
        "\n",
        "# Exibir o resultado\n",
        "print(f\"O número de alunos desqualificados é: {num_alunos_desqualificados}\")\n"
      ]
    },
    {
      "cell_type": "code",
      "execution_count": 9,
      "metadata": {
        "colab": {
          "base_uri": "https://localhost:8080/"
        },
        "id": "d-akiuVOkSG0",
        "outputId": "5799e0ec-2ef3-4389-f890-0d4843cf1119"
      },
      "outputs": [
        {
          "output_type": "stream",
          "name": "stdout",
          "text": [
            "Média dos alunos desqualificados em História e Geografia:\n",
            "História_acertos     3.434783\n",
            "Geografia_acertos    3.217391\n",
            "dtype: float64\n"
          ]
        }
      ],
      "source": [
        "# Qual a média desses alunos em história e geografia?\n",
        "\n",
        "# Filtrar as notas de História e Geografia para os alunos desqualificados\n",
        "notas_hist_geo_desqualificados = df_desqualificados[['História_acertos', 'Geografia_acertos']]\n",
        "\n",
        "# Calcular a média em História e Geografia para os alunos desqualificados\n",
        "media_hist_geo_desqualificados = notas_hist_geo_desqualificados.mean()\n",
        "\n",
        "# Exibir o resultado\n",
        "print(\"Média dos alunos desqualificados em História e Geografia:\")\n",
        "print(media_hist_geo_desqualificados)\n"
      ]
    },
    {
      "cell_type": "code",
      "execution_count": 10,
      "metadata": {
        "colab": {
          "base_uri": "https://localhost:8080/"
        },
        "id": "n5tBQTCWkSG0",
        "outputId": "428e8227-b0f3-406c-c5fd-8907bb23e4ca"
      },
      "outputs": [
        {
          "output_type": "stream",
          "name": "stdout",
          "text": [
            "   Matemática_acertos  Português_acertos  Geografia_acertos  Inglês_acertos  \\\n",
            "0                   6                  7                  7               3   \n",
            "1                  19                 10                  0               0   \n",
            "2                  14                 16                  0               5   \n",
            "4                   7                  2                  2               7   \n",
            "5                  20                  2                  5               3   \n",
            "\n",
            "   História_acertos  Física_acertos  Química_acertos  Total_Acertos  \\\n",
            "0                 1               8                3             35   \n",
            "1                 0              11                8             48   \n",
            "2                 7               4                4             50   \n",
            "4                 0               9                3             30   \n",
            "5                 2               9                9             50   \n",
            "\n",
            "   Percentual_Geral  \n",
            "0         38.888889  \n",
            "1         53.333333  \n",
            "2         55.555556  \n",
            "4         33.333333  \n",
            "5         55.555556  \n"
          ]
        }
      ],
      "source": [
        "# Monte um DataFrame com os alunos que passaram para a segunda fase. Repare que estes alunos não podem ter sido desqualificados.\n",
        "\n",
        "# Criar um DataFrame contendo os alunos que passaram para a segunda fase\n",
        "df_aprovados_segunda_fase = df_total_acertos[~df_total_acertos.index.isin(df_desqualificados.index)]\n",
        "\n",
        "# Exibir os primeiros registros do DataFrame de alunos aprovados na segunda fase\n",
        "print(df_aprovados_segunda_fase.head())\n"
      ]
    },
    {
      "cell_type": "markdown",
      "metadata": {
        "id": "EGBUWpAHC8-5"
      },
      "source": [
        "### OBservação: Devido a problemas técnico no Dataset da plaforma SUS optei por outro banco de dados.\n",
        "\n",
        "## 3) Vacinações no Acre\n",
        "Vamos trabalhar agora com a base de vacinações no Acre. Para facilitar a sua vida, copiamos o link do arquivo na célula abaixo.\n",
        "\n",
        "1. Quantas vacinas estão registradas nessa base?  \n",
        "2. Quantos pacientes foram vacinados? (considere um paciente para cada valor único de ```paciente_id```)  \n",
        "3. Quantos pacientes únicos tomaram a primeira dose? OBS: Há um caractere especial neste campo. Receba os valores do campo com o método ```.unique()```.   \n",
        "4. Quantos pacientes com menos de 18 anos foram vacinados?  \n",
        "5. Quantos estabelecimentos aplicaram vacina no Acre?\n",
        "\n",
        "\n",
        "**OBS:** O portal do DATASUS pode apresentar instabilidades, retornando um erro na segunda célula abaixo. Por este motivo está disponível uma base estática, que se for baixada para o seu *working directory* pode ser lida com este comando: ```df = pd.read_csv('registros de vacinacao covid ACRE.csv', sep=';')```.\n",
        "\n",
        "**OBS2:** Para saber qual é o seu working directory, rode no jupyter: ```!pwd```."
      ]
    },
    {
      "cell_type": "code",
      "execution_count": 11,
      "metadata": {
        "colab": {
          "base_uri": "https://localhost:8080/"
        },
        "id": "XuuJLNnIkSG0",
        "outputId": "3741a3ef-977a-42bf-ce97-badbeb348235"
      },
      "outputs": [
        {
          "output_type": "stream",
          "name": "stdout",
          "text": [
            "Mounted at /content/drive\n"
          ]
        }
      ],
      "source": [
        "# montar o Google Drive no Colab\n",
        "from google.colab import drive\n",
        "drive.mount('/content/drive')\n"
      ]
    },
    {
      "cell_type": "code",
      "source": [
        "# Caminho do arquivo zip\n",
        "caminho_zip = '/content/drive/MyDrive/Colab Notebooks/EBAC/Introdução ao pandas e carga de dados /vacinacoes_ac.zip'\n",
        "\n",
        "# Pasta de destino para a descompactação\n",
        "pasta_destino = '/content/'\n",
        "\n",
        "# Extraia o conteúdo do arquivo zip\n",
        "with zipfile.ZipFile(caminho_zip, 'r') as zip_ref:\n",
        "    zip_ref.extractall(pasta_destino)\n",
        "\n",
        "# Lista todos os arquivos na pasta de destino\n",
        "arquivos_na_pasta = os.listdir(pasta_destino)\n",
        "\n",
        "# Procura por arquivos CSV na pasta de destino\n",
        "arquivos_csv = [arquivo for arquivo in arquivos_na_pasta if arquivo.endswith('.csv')]\n",
        "\n",
        "# Imprime os arquivos CSV encontrados\n",
        "#print('vacinacoes_ac:', arquivos_csv)\n",
        "\n",
        "dados = pd.read_csv('/content/vacinacoes_ac.csv', sep=';')\n",
        "\n",
        "dados.head()\n"
      ],
      "metadata": {
        "colab": {
          "base_uri": "https://localhost:8080/",
          "height": 637
        },
        "id": "_dSnbdni1R_p",
        "outputId": "afc798ff-1223-4365-ae23-1997130e56d3"
      },
      "execution_count": 15,
      "outputs": [
        {
          "output_type": "stream",
          "name": "stderr",
          "text": [
            "<ipython-input-15-cef2f611d958>:23: DtypeWarning: Columns (7,8) have mixed types. Specify dtype option on import or set low_memory=False.\n",
            "  dados = pd.read_csv('/content/vacinacoes_ac.csv', sep=';')\n"
          ]
        },
        {
          "output_type": "execute_result",
          "data": {
            "text/plain": [
              "                                 document_id  \\\n",
              "0  592e8230-4dec-4285-9ca6-a2e0b13c8ce6-i0b0   \n",
              "1  99c16a36-0eec-4c28-858c-197085b5815f-i0b0   \n",
              "2  5bcd8893-cf6e-438b-9596-264f2fa4f678-i0b0   \n",
              "3  9a137857-c8ee-480c-ac11-69f45374260e-i0b0   \n",
              "4  6395bf47-6c42-45d0-9c2f-f24a71288bd7-i0b0   \n",
              "\n",
              "                                         paciente_id  paciente_idade  \\\n",
              "0  80dc9392f6870a1161545d3a5a9246206528d5e33fd68b...              27   \n",
              "1  8e8dbedd8661c6fff16a5a3207a2947453311cd5e3f2c1...              40   \n",
              "2  f90d1b4c2b20810484f3229650a3a2e7545bf11378f55b...              21   \n",
              "3  c8ed8ecd1354c9ffad0821e5315dcd26aaa4b96b009ec2...              53   \n",
              "4  d33c98f9c1a00e442ad9b75e31517fdf8b6e5f14331fa6...              48   \n",
              "\n",
              "  paciente_dataNascimento paciente_enumSexoBiologico  paciente_racaCor_codigo  \\\n",
              "0              1994-07-10                          F                        1   \n",
              "1              1981-02-23                          F                        1   \n",
              "2              2000-10-07                          F                        1   \n",
              "3              1967-09-23                          F                        1   \n",
              "4              1973-05-17                          M                        3   \n",
              "\n",
              "  paciente_racaCor_valor paciente_endereco_coIbgeMunicipio  \\\n",
              "0                 BRANCA                          120033.0   \n",
              "1                 BRANCA                          120040.0   \n",
              "2                 BRANCA                          120040.0   \n",
              "3                 BRANCA                          120017.0   \n",
              "4                  PARDA                          120040.0   \n",
              "\n",
              "  paciente_endereco_coPais paciente_endereco_nmMunicipio  ...  \\\n",
              "0                     10.0                   MANCIO LIMA  ...   \n",
              "1                     10.0                    RIO BRANCO  ...   \n",
              "2                     10.0                    RIO BRANCO  ...   \n",
              "3                     10.0                      CAPIXABA  ...   \n",
              "4                     10.0                    RIO BRANCO  ...   \n",
              "\n",
              "  vacina_categoria_codigo   vacina_categoria_nome vacina_lote  \\\n",
              "0                     2.0            Faixa Etária      210342   \n",
              "1                     9.0  Trabalhadores de Saúde   202010028   \n",
              "2                     1.0            Comorbidades  21PVCD368Z   \n",
              "3                     1.0            Comorbidades      210110   \n",
              "4                     2.0            Faixa Etária  215VCD134Z   \n",
              "\n",
              "  vacina_fabricante_nome  vacina_fabricante_referencia vacina_dataAplicacao  \\\n",
              "0       SINOVAC/BUTANTAN   Organization/61189445000156           2021-08-17   \n",
              "1       SINOVAC/BUTANTAN   Organization/61189445000156           2021-04-07   \n",
              "2    ASTRAZENECA/FIOCRUZ                           149           2022-07-26   \n",
              "3       SINOVAC/BUTANTAN   Organization/61189445000156           2021-05-04   \n",
              "4    ASTRAZENECA/FIOCRUZ   Organization/33781055000135           2021-08-19   \n",
              "\n",
              "  vacina_descricao_dose  vacina_codigo  \\\n",
              "0               2ª Dose             86   \n",
              "1               1ª Dose             86   \n",
              "2               Reforço             85   \n",
              "3               1ª Dose             86   \n",
              "4               2ª Dose             85   \n",
              "\n",
              "                                 vacina_nome sistema_origem  \n",
              "0      COVID-19 SINOVAC/BUTANTAN - CORONAVAC       Novo PNI  \n",
              "1      COVID-19 SINOVAC/BUTANTAN - CORONAVAC       Novo PNI  \n",
              "2  COVID-19 ASTRAZENECA/FIOCRUZ - COVISHIELD       Novo PNI  \n",
              "3      COVID-19 SINOVAC/BUTANTAN - CORONAVAC       Novo PNI  \n",
              "4  COVID-19 ASTRAZENECA/FIOCRUZ - COVISHIELD       Novo PNI  \n",
              "\n",
              "[5 rows x 32 columns]"
            ],
            "text/html": [
              "\n",
              "  <div id=\"df-51e61b62-ce47-4977-b70c-5197b99ff89b\" class=\"colab-df-container\">\n",
              "    <div>\n",
              "<style scoped>\n",
              "    .dataframe tbody tr th:only-of-type {\n",
              "        vertical-align: middle;\n",
              "    }\n",
              "\n",
              "    .dataframe tbody tr th {\n",
              "        vertical-align: top;\n",
              "    }\n",
              "\n",
              "    .dataframe thead th {\n",
              "        text-align: right;\n",
              "    }\n",
              "</style>\n",
              "<table border=\"1\" class=\"dataframe\">\n",
              "  <thead>\n",
              "    <tr style=\"text-align: right;\">\n",
              "      <th></th>\n",
              "      <th>document_id</th>\n",
              "      <th>paciente_id</th>\n",
              "      <th>paciente_idade</th>\n",
              "      <th>paciente_dataNascimento</th>\n",
              "      <th>paciente_enumSexoBiologico</th>\n",
              "      <th>paciente_racaCor_codigo</th>\n",
              "      <th>paciente_racaCor_valor</th>\n",
              "      <th>paciente_endereco_coIbgeMunicipio</th>\n",
              "      <th>paciente_endereco_coPais</th>\n",
              "      <th>paciente_endereco_nmMunicipio</th>\n",
              "      <th>...</th>\n",
              "      <th>vacina_categoria_codigo</th>\n",
              "      <th>vacina_categoria_nome</th>\n",
              "      <th>vacina_lote</th>\n",
              "      <th>vacina_fabricante_nome</th>\n",
              "      <th>vacina_fabricante_referencia</th>\n",
              "      <th>vacina_dataAplicacao</th>\n",
              "      <th>vacina_descricao_dose</th>\n",
              "      <th>vacina_codigo</th>\n",
              "      <th>vacina_nome</th>\n",
              "      <th>sistema_origem</th>\n",
              "    </tr>\n",
              "  </thead>\n",
              "  <tbody>\n",
              "    <tr>\n",
              "      <th>0</th>\n",
              "      <td>592e8230-4dec-4285-9ca6-a2e0b13c8ce6-i0b0</td>\n",
              "      <td>80dc9392f6870a1161545d3a5a9246206528d5e33fd68b...</td>\n",
              "      <td>27</td>\n",
              "      <td>1994-07-10</td>\n",
              "      <td>F</td>\n",
              "      <td>1</td>\n",
              "      <td>BRANCA</td>\n",
              "      <td>120033.0</td>\n",
              "      <td>10.0</td>\n",
              "      <td>MANCIO LIMA</td>\n",
              "      <td>...</td>\n",
              "      <td>2.0</td>\n",
              "      <td>Faixa Etária</td>\n",
              "      <td>210342</td>\n",
              "      <td>SINOVAC/BUTANTAN</td>\n",
              "      <td>Organization/61189445000156</td>\n",
              "      <td>2021-08-17</td>\n",
              "      <td>2ª Dose</td>\n",
              "      <td>86</td>\n",
              "      <td>COVID-19 SINOVAC/BUTANTAN - CORONAVAC</td>\n",
              "      <td>Novo PNI</td>\n",
              "    </tr>\n",
              "    <tr>\n",
              "      <th>1</th>\n",
              "      <td>99c16a36-0eec-4c28-858c-197085b5815f-i0b0</td>\n",
              "      <td>8e8dbedd8661c6fff16a5a3207a2947453311cd5e3f2c1...</td>\n",
              "      <td>40</td>\n",
              "      <td>1981-02-23</td>\n",
              "      <td>F</td>\n",
              "      <td>1</td>\n",
              "      <td>BRANCA</td>\n",
              "      <td>120040.0</td>\n",
              "      <td>10.0</td>\n",
              "      <td>RIO BRANCO</td>\n",
              "      <td>...</td>\n",
              "      <td>9.0</td>\n",
              "      <td>Trabalhadores de Saúde</td>\n",
              "      <td>202010028</td>\n",
              "      <td>SINOVAC/BUTANTAN</td>\n",
              "      <td>Organization/61189445000156</td>\n",
              "      <td>2021-04-07</td>\n",
              "      <td>1ª Dose</td>\n",
              "      <td>86</td>\n",
              "      <td>COVID-19 SINOVAC/BUTANTAN - CORONAVAC</td>\n",
              "      <td>Novo PNI</td>\n",
              "    </tr>\n",
              "    <tr>\n",
              "      <th>2</th>\n",
              "      <td>5bcd8893-cf6e-438b-9596-264f2fa4f678-i0b0</td>\n",
              "      <td>f90d1b4c2b20810484f3229650a3a2e7545bf11378f55b...</td>\n",
              "      <td>21</td>\n",
              "      <td>2000-10-07</td>\n",
              "      <td>F</td>\n",
              "      <td>1</td>\n",
              "      <td>BRANCA</td>\n",
              "      <td>120040.0</td>\n",
              "      <td>10.0</td>\n",
              "      <td>RIO BRANCO</td>\n",
              "      <td>...</td>\n",
              "      <td>1.0</td>\n",
              "      <td>Comorbidades</td>\n",
              "      <td>21PVCD368Z</td>\n",
              "      <td>ASTRAZENECA/FIOCRUZ</td>\n",
              "      <td>149</td>\n",
              "      <td>2022-07-26</td>\n",
              "      <td>Reforço</td>\n",
              "      <td>85</td>\n",
              "      <td>COVID-19 ASTRAZENECA/FIOCRUZ - COVISHIELD</td>\n",
              "      <td>Novo PNI</td>\n",
              "    </tr>\n",
              "    <tr>\n",
              "      <th>3</th>\n",
              "      <td>9a137857-c8ee-480c-ac11-69f45374260e-i0b0</td>\n",
              "      <td>c8ed8ecd1354c9ffad0821e5315dcd26aaa4b96b009ec2...</td>\n",
              "      <td>53</td>\n",
              "      <td>1967-09-23</td>\n",
              "      <td>F</td>\n",
              "      <td>1</td>\n",
              "      <td>BRANCA</td>\n",
              "      <td>120017.0</td>\n",
              "      <td>10.0</td>\n",
              "      <td>CAPIXABA</td>\n",
              "      <td>...</td>\n",
              "      <td>1.0</td>\n",
              "      <td>Comorbidades</td>\n",
              "      <td>210110</td>\n",
              "      <td>SINOVAC/BUTANTAN</td>\n",
              "      <td>Organization/61189445000156</td>\n",
              "      <td>2021-05-04</td>\n",
              "      <td>1ª Dose</td>\n",
              "      <td>86</td>\n",
              "      <td>COVID-19 SINOVAC/BUTANTAN - CORONAVAC</td>\n",
              "      <td>Novo PNI</td>\n",
              "    </tr>\n",
              "    <tr>\n",
              "      <th>4</th>\n",
              "      <td>6395bf47-6c42-45d0-9c2f-f24a71288bd7-i0b0</td>\n",
              "      <td>d33c98f9c1a00e442ad9b75e31517fdf8b6e5f14331fa6...</td>\n",
              "      <td>48</td>\n",
              "      <td>1973-05-17</td>\n",
              "      <td>M</td>\n",
              "      <td>3</td>\n",
              "      <td>PARDA</td>\n",
              "      <td>120040.0</td>\n",
              "      <td>10.0</td>\n",
              "      <td>RIO BRANCO</td>\n",
              "      <td>...</td>\n",
              "      <td>2.0</td>\n",
              "      <td>Faixa Etária</td>\n",
              "      <td>215VCD134Z</td>\n",
              "      <td>ASTRAZENECA/FIOCRUZ</td>\n",
              "      <td>Organization/33781055000135</td>\n",
              "      <td>2021-08-19</td>\n",
              "      <td>2ª Dose</td>\n",
              "      <td>85</td>\n",
              "      <td>COVID-19 ASTRAZENECA/FIOCRUZ - COVISHIELD</td>\n",
              "      <td>Novo PNI</td>\n",
              "    </tr>\n",
              "  </tbody>\n",
              "</table>\n",
              "<p>5 rows × 32 columns</p>\n",
              "</div>\n",
              "    <div class=\"colab-df-buttons\">\n",
              "\n",
              "  <div class=\"colab-df-container\">\n",
              "    <button class=\"colab-df-convert\" onclick=\"convertToInteractive('df-51e61b62-ce47-4977-b70c-5197b99ff89b')\"\n",
              "            title=\"Convert this dataframe to an interactive table.\"\n",
              "            style=\"display:none;\">\n",
              "\n",
              "  <svg xmlns=\"http://www.w3.org/2000/svg\" height=\"24px\" viewBox=\"0 -960 960 960\">\n",
              "    <path d=\"M120-120v-720h720v720H120Zm60-500h600v-160H180v160Zm220 220h160v-160H400v160Zm0 220h160v-160H400v160ZM180-400h160v-160H180v160Zm440 0h160v-160H620v160ZM180-180h160v-160H180v160Zm440 0h160v-160H620v160Z\"/>\n",
              "  </svg>\n",
              "    </button>\n",
              "\n",
              "  <style>\n",
              "    .colab-df-container {\n",
              "      display:flex;\n",
              "      gap: 12px;\n",
              "    }\n",
              "\n",
              "    .colab-df-convert {\n",
              "      background-color: #E8F0FE;\n",
              "      border: none;\n",
              "      border-radius: 50%;\n",
              "      cursor: pointer;\n",
              "      display: none;\n",
              "      fill: #1967D2;\n",
              "      height: 32px;\n",
              "      padding: 0 0 0 0;\n",
              "      width: 32px;\n",
              "    }\n",
              "\n",
              "    .colab-df-convert:hover {\n",
              "      background-color: #E2EBFA;\n",
              "      box-shadow: 0px 1px 2px rgba(60, 64, 67, 0.3), 0px 1px 3px 1px rgba(60, 64, 67, 0.15);\n",
              "      fill: #174EA6;\n",
              "    }\n",
              "\n",
              "    .colab-df-buttons div {\n",
              "      margin-bottom: 4px;\n",
              "    }\n",
              "\n",
              "    [theme=dark] .colab-df-convert {\n",
              "      background-color: #3B4455;\n",
              "      fill: #D2E3FC;\n",
              "    }\n",
              "\n",
              "    [theme=dark] .colab-df-convert:hover {\n",
              "      background-color: #434B5C;\n",
              "      box-shadow: 0px 1px 3px 1px rgba(0, 0, 0, 0.15);\n",
              "      filter: drop-shadow(0px 1px 2px rgba(0, 0, 0, 0.3));\n",
              "      fill: #FFFFFF;\n",
              "    }\n",
              "  </style>\n",
              "\n",
              "    <script>\n",
              "      const buttonEl =\n",
              "        document.querySelector('#df-51e61b62-ce47-4977-b70c-5197b99ff89b button.colab-df-convert');\n",
              "      buttonEl.style.display =\n",
              "        google.colab.kernel.accessAllowed ? 'block' : 'none';\n",
              "\n",
              "      async function convertToInteractive(key) {\n",
              "        const element = document.querySelector('#df-51e61b62-ce47-4977-b70c-5197b99ff89b');\n",
              "        const dataTable =\n",
              "          await google.colab.kernel.invokeFunction('convertToInteractive',\n",
              "                                                    [key], {});\n",
              "        if (!dataTable) return;\n",
              "\n",
              "        const docLinkHtml = 'Like what you see? Visit the ' +\n",
              "          '<a target=\"_blank\" href=https://colab.research.google.com/notebooks/data_table.ipynb>data table notebook</a>'\n",
              "          + ' to learn more about interactive tables.';\n",
              "        element.innerHTML = '';\n",
              "        dataTable['output_type'] = 'display_data';\n",
              "        await google.colab.output.renderOutput(dataTable, element);\n",
              "        const docLink = document.createElement('div');\n",
              "        docLink.innerHTML = docLinkHtml;\n",
              "        element.appendChild(docLink);\n",
              "      }\n",
              "    </script>\n",
              "  </div>\n",
              "\n",
              "\n",
              "<div id=\"df-95c9fd7a-cceb-45e2-ae3f-34a1e2f8d7ff\">\n",
              "  <button class=\"colab-df-quickchart\" onclick=\"quickchart('df-95c9fd7a-cceb-45e2-ae3f-34a1e2f8d7ff')\"\n",
              "            title=\"Suggest charts\"\n",
              "            style=\"display:none;\">\n",
              "\n",
              "<svg xmlns=\"http://www.w3.org/2000/svg\" height=\"24px\"viewBox=\"0 0 24 24\"\n",
              "     width=\"24px\">\n",
              "    <g>\n",
              "        <path d=\"M19 3H5c-1.1 0-2 .9-2 2v14c0 1.1.9 2 2 2h14c1.1 0 2-.9 2-2V5c0-1.1-.9-2-2-2zM9 17H7v-7h2v7zm4 0h-2V7h2v10zm4 0h-2v-4h2v4z\"/>\n",
              "    </g>\n",
              "</svg>\n",
              "  </button>\n",
              "\n",
              "<style>\n",
              "  .colab-df-quickchart {\n",
              "      --bg-color: #E8F0FE;\n",
              "      --fill-color: #1967D2;\n",
              "      --hover-bg-color: #E2EBFA;\n",
              "      --hover-fill-color: #174EA6;\n",
              "      --disabled-fill-color: #AAA;\n",
              "      --disabled-bg-color: #DDD;\n",
              "  }\n",
              "\n",
              "  [theme=dark] .colab-df-quickchart {\n",
              "      --bg-color: #3B4455;\n",
              "      --fill-color: #D2E3FC;\n",
              "      --hover-bg-color: #434B5C;\n",
              "      --hover-fill-color: #FFFFFF;\n",
              "      --disabled-bg-color: #3B4455;\n",
              "      --disabled-fill-color: #666;\n",
              "  }\n",
              "\n",
              "  .colab-df-quickchart {\n",
              "    background-color: var(--bg-color);\n",
              "    border: none;\n",
              "    border-radius: 50%;\n",
              "    cursor: pointer;\n",
              "    display: none;\n",
              "    fill: var(--fill-color);\n",
              "    height: 32px;\n",
              "    padding: 0;\n",
              "    width: 32px;\n",
              "  }\n",
              "\n",
              "  .colab-df-quickchart:hover {\n",
              "    background-color: var(--hover-bg-color);\n",
              "    box-shadow: 0 1px 2px rgba(60, 64, 67, 0.3), 0 1px 3px 1px rgba(60, 64, 67, 0.15);\n",
              "    fill: var(--button-hover-fill-color);\n",
              "  }\n",
              "\n",
              "  .colab-df-quickchart-complete:disabled,\n",
              "  .colab-df-quickchart-complete:disabled:hover {\n",
              "    background-color: var(--disabled-bg-color);\n",
              "    fill: var(--disabled-fill-color);\n",
              "    box-shadow: none;\n",
              "  }\n",
              "\n",
              "  .colab-df-spinner {\n",
              "    border: 2px solid var(--fill-color);\n",
              "    border-color: transparent;\n",
              "    border-bottom-color: var(--fill-color);\n",
              "    animation:\n",
              "      spin 1s steps(1) infinite;\n",
              "  }\n",
              "\n",
              "  @keyframes spin {\n",
              "    0% {\n",
              "      border-color: transparent;\n",
              "      border-bottom-color: var(--fill-color);\n",
              "      border-left-color: var(--fill-color);\n",
              "    }\n",
              "    20% {\n",
              "      border-color: transparent;\n",
              "      border-left-color: var(--fill-color);\n",
              "      border-top-color: var(--fill-color);\n",
              "    }\n",
              "    30% {\n",
              "      border-color: transparent;\n",
              "      border-left-color: var(--fill-color);\n",
              "      border-top-color: var(--fill-color);\n",
              "      border-right-color: var(--fill-color);\n",
              "    }\n",
              "    40% {\n",
              "      border-color: transparent;\n",
              "      border-right-color: var(--fill-color);\n",
              "      border-top-color: var(--fill-color);\n",
              "    }\n",
              "    60% {\n",
              "      border-color: transparent;\n",
              "      border-right-color: var(--fill-color);\n",
              "    }\n",
              "    80% {\n",
              "      border-color: transparent;\n",
              "      border-right-color: var(--fill-color);\n",
              "      border-bottom-color: var(--fill-color);\n",
              "    }\n",
              "    90% {\n",
              "      border-color: transparent;\n",
              "      border-bottom-color: var(--fill-color);\n",
              "    }\n",
              "  }\n",
              "</style>\n",
              "\n",
              "  <script>\n",
              "    async function quickchart(key) {\n",
              "      const quickchartButtonEl =\n",
              "        document.querySelector('#' + key + ' button');\n",
              "      quickchartButtonEl.disabled = true;  // To prevent multiple clicks.\n",
              "      quickchartButtonEl.classList.add('colab-df-spinner');\n",
              "      try {\n",
              "        const charts = await google.colab.kernel.invokeFunction(\n",
              "            'suggestCharts', [key], {});\n",
              "      } catch (error) {\n",
              "        console.error('Error during call to suggestCharts:', error);\n",
              "      }\n",
              "      quickchartButtonEl.classList.remove('colab-df-spinner');\n",
              "      quickchartButtonEl.classList.add('colab-df-quickchart-complete');\n",
              "    }\n",
              "    (() => {\n",
              "      let quickchartButtonEl =\n",
              "        document.querySelector('#df-95c9fd7a-cceb-45e2-ae3f-34a1e2f8d7ff button');\n",
              "      quickchartButtonEl.style.display =\n",
              "        google.colab.kernel.accessAllowed ? 'block' : 'none';\n",
              "    })();\n",
              "  </script>\n",
              "</div>\n",
              "\n",
              "    </div>\n",
              "  </div>\n"
            ]
          },
          "metadata": {},
          "execution_count": 15
        }
      ]
    },
    {
      "cell_type": "code",
      "source": [
        "# 1. Quantas vacinas estão registradas nessa base?\n",
        "dados.shape[0]"
      ],
      "metadata": {
        "colab": {
          "base_uri": "https://localhost:8080/"
        },
        "id": "jSnyiDako0aF",
        "outputId": "b499cbd0-de7a-4286-fb29-1062ae473a96"
      },
      "execution_count": 18,
      "outputs": [
        {
          "output_type": "execute_result",
          "data": {
            "text/plain": [
              "373919"
            ]
          },
          "metadata": {},
          "execution_count": 18
        }
      ]
    },
    {
      "cell_type": "code",
      "source": [
        "# 2. Quantos pacientes foram vacinados? (considere um paciente para cada valor único de paciente_id)\n",
        "dados['paciente_id'].nunique()"
      ],
      "metadata": {
        "colab": {
          "base_uri": "https://localhost:8080/"
        },
        "id": "mHdUB8qdo0XF",
        "outputId": "21ba5b2c-6376-4d5e-84fe-075575256288"
      },
      "execution_count": 20,
      "outputs": [
        {
          "output_type": "execute_result",
          "data": {
            "text/plain": [
              "307741"
            ]
          },
          "metadata": {},
          "execution_count": 20
        }
      ]
    },
    {
      "cell_type": "code",
      "source": [
        "print(dados.columns)\n"
      ],
      "metadata": {
        "colab": {
          "base_uri": "https://localhost:8080/"
        },
        "id": "wTJfTafy6Ggm",
        "outputId": "57a41582-c9cf-4c82-c54c-1ac956434d01"
      },
      "execution_count": 24,
      "outputs": [
        {
          "output_type": "stream",
          "name": "stdout",
          "text": [
            "Index(['document_id', 'paciente_id', 'paciente_idade',\n",
            "       'paciente_dataNascimento', 'paciente_enumSexoBiologico',\n",
            "       'paciente_racaCor_codigo', 'paciente_racaCor_valor',\n",
            "       'paciente_endereco_coIbgeMunicipio', 'paciente_endereco_coPais',\n",
            "       'paciente_endereco_nmMunicipio', 'paciente_endereco_nmPais',\n",
            "       'paciente_endereco_uf', 'paciente_endereco_cep',\n",
            "       'paciente_nacionalidade_enumNacionalidade', 'estabelecimento_valor',\n",
            "       'estabelecimento_razaoSocial', 'estalecimento_noFantasia',\n",
            "       'estabelecimento_municipio_codigo', 'estabelecimento_municipio_nome',\n",
            "       'estabelecimento_uf', 'vacina_grupoAtendimento_codigo',\n",
            "       'vacina_grupoAtendimento_nome', 'vacina_categoria_codigo',\n",
            "       'vacina_categoria_nome', 'vacina_lote', 'vacina_fabricante_nome',\n",
            "       'vacina_fabricante_referencia', 'vacina_dataAplicacao',\n",
            "       'vacina_descricao_dose', 'vacina_codigo', 'vacina_nome',\n",
            "       'sistema_origem'],\n",
            "      dtype='object')\n"
          ]
        }
      ]
    },
    {
      "cell_type": "code",
      "source": [
        "# 3. Quantos pacientes únicos tomaram a primeira dose? OBS: Há um caractere especial neste campo. Receba os valores do campo com o método .unique().\n",
        "primeira_dose = dados['vacina_descricao_dose'].unique()[0]\n",
        "df_primeira_dose = dados[dados['vacina_descricao_dose'] == primeira_dose]\n",
        "df_primeira_dose['paciente_id'].nunique()\n"
      ],
      "metadata": {
        "colab": {
          "base_uri": "https://localhost:8080/"
        },
        "id": "oEQsXeQRo0UF",
        "outputId": "74723fb7-6d71-4c25-9ca6-218ab086a7d3"
      },
      "execution_count": 27,
      "outputs": [
        {
          "output_type": "execute_result",
          "data": {
            "text/plain": [
              "118847"
            ]
          },
          "metadata": {},
          "execution_count": 27
        }
      ]
    },
    {
      "cell_type": "code",
      "source": [
        "# 4. Quantos pacientes com menos de 18 anos foram vacinados?\n",
        "# Primeiro passo: Criar uma variável para armazenar os menores de 18;\n",
        "# Segundo passo: verificamos a quantidade.\n",
        "paciente_menor = dados[dados[\"paciente_idade\"]<18]\n",
        "paciente_menor['paciente_id'].nunique()"
      ],
      "metadata": {
        "colab": {
          "base_uri": "https://localhost:8080/"
        },
        "id": "cm7eySbHo0Os",
        "outputId": "187e2ce2-d5ad-4e0d-b7ed-4c59cb40f5ba"
      },
      "execution_count": 28,
      "outputs": [
        {
          "output_type": "execute_result",
          "data": {
            "text/plain": [
              "62524"
            ]
          },
          "metadata": {},
          "execution_count": 28
        }
      ]
    },
    {
      "cell_type": "code",
      "source": [
        "# 5. Quantos estabelecimentos aplicaram vacina no Acre?\n",
        "dados['estabelecimento_razaoSocial'].nunique()"
      ],
      "metadata": {
        "colab": {
          "base_uri": "https://localhost:8080/"
        },
        "id": "2CDT3qlTo0Gl",
        "outputId": "43dc2841-972b-456c-b069-8939521c5d8a"
      },
      "execution_count": 30,
      "outputs": [
        {
          "output_type": "execute_result",
          "data": {
            "text/plain": [
              "55"
            ]
          },
          "metadata": {},
          "execution_count": 30
        }
      ]
    },
    {
      "cell_type": "markdown",
      "metadata": {
        "id": "LH1LSYvGC8-8"
      },
      "source": [
        "## 4) Vacinação II\n",
        "Gere um *DataFrame* que contenha somente os estabelecimentos que aplicaram vcinas a menores de 18 anos. Nesse *DataFrame* devem conter somente os dados dos estabelecimentos, mais uma coluna sendo a quantidade de vacinas que o estabelecimento aplicou a menores de 18 anos.  \n",
        "  \n",
        "1. crie uma cópia do *DataFrame* original, contendo somente os registros de vacinas realizadas a menores de 18 anos.  \n",
        "2. crie uma lista das colunas desse *DataFrame* com o atributo de *DataFrame* **.columns()**  \n",
        "3. Nesse *DataFrame* faça uma contagem do campo ```vacina_categoria_nome```.\n",
        "3. a partir da lista de colunas, escolha somente aquelas que são referentes ao estabelecimento, faça uma lista com esses valores.  \n",
        "4. usando o método *.loc*, selecione somente essas variáveis  \n",
        "5. Aplique o método **.drop_duplicates** e crie uma lista com uma linha para cada estabelecimento, com os dados do estabelecimento  "
      ]
    },
    {
      "cell_type": "code",
      "execution_count": 31,
      "metadata": {
        "id": "3ojs12vUC8-8"
      },
      "outputs": [],
      "source": [
        "# 1) crie uma cópia do DataFrame original, contendo somente os registros de vacinas realizadas a menores de 18 anos.\n",
        "# Usando a função .copy() da biblioteca pandas temos:\n",
        "paciente_menor = dados[dados[\"paciente_idade\"]<18].copy()\n",
        "\n"
      ]
    },
    {
      "cell_type": "code",
      "execution_count": 32,
      "metadata": {
        "id": "sLyevPRBC8-8",
        "colab": {
          "base_uri": "https://localhost:8080/"
        },
        "outputId": "cdd58de0-879b-4639-acb2-d164efd1e92b"
      },
      "outputs": [
        {
          "output_type": "execute_result",
          "data": {
            "text/plain": [
              "Index(['document_id', 'paciente_id', 'paciente_idade',\n",
              "       'paciente_dataNascimento', 'paciente_enumSexoBiologico',\n",
              "       'paciente_racaCor_codigo', 'paciente_racaCor_valor',\n",
              "       'paciente_endereco_coIbgeMunicipio', 'paciente_endereco_coPais',\n",
              "       'paciente_endereco_nmMunicipio', 'paciente_endereco_nmPais',\n",
              "       'paciente_endereco_uf', 'paciente_endereco_cep',\n",
              "       'paciente_nacionalidade_enumNacionalidade', 'estabelecimento_valor',\n",
              "       'estabelecimento_razaoSocial', 'estalecimento_noFantasia',\n",
              "       'estabelecimento_municipio_codigo', 'estabelecimento_municipio_nome',\n",
              "       'estabelecimento_uf', 'vacina_grupoAtendimento_codigo',\n",
              "       'vacina_grupoAtendimento_nome', 'vacina_categoria_codigo',\n",
              "       'vacina_categoria_nome', 'vacina_lote', 'vacina_fabricante_nome',\n",
              "       'vacina_fabricante_referencia', 'vacina_dataAplicacao',\n",
              "       'vacina_descricao_dose', 'vacina_codigo', 'vacina_nome',\n",
              "       'sistema_origem'],\n",
              "      dtype='object')"
            ]
          },
          "metadata": {},
          "execution_count": 32
        }
      ],
      "source": [
        "# 2)crie uma lista das colunas desse DataFrame com o atributo de DataFrame .columns()\n",
        "paciente_menor.columns\n"
      ]
    },
    {
      "cell_type": "code",
      "execution_count": 33,
      "metadata": {
        "id": "lZAW-Dp8C8-8",
        "colab": {
          "base_uri": "https://localhost:8080/"
        },
        "outputId": "256561f3-6dc4-4076-9117-49e73c7e2454"
      },
      "outputs": [
        {
          "output_type": "execute_result",
          "data": {
            "text/plain": [
              "Faixa Etária                                      41656\n",
              "Povos Indígenas                                    3708\n",
              "Outros                                             3697\n",
              "Povos e Comunidades Tradicionais                    680\n",
              "Trabalhadores de Saúde                              238\n",
              "Comorbidades                                         55\n",
              "População Privada de Liberdade                       51\n",
              "Gestantes                                            33\n",
              "Pessoas com Deficiência                              10\n",
              "Pessoas Institucionalizadas                           3\n",
              "Pessoas de 60 anos ou mais institucionalizadas        1\n",
              "Puérperas                                             1\n",
              "Trabalhadores da Educação                             1\n",
              "Name: vacina_categoria_nome, dtype: int64"
            ]
          },
          "metadata": {},
          "execution_count": 33
        }
      ],
      "source": [
        "# 3)Nesse DataFrame faça uma contagem do campo vacina_categoria_nome.\n",
        "paciente_menor['vacina_categoria_nome'].value_counts()\n",
        "\n"
      ]
    },
    {
      "cell_type": "code",
      "execution_count": 40,
      "metadata": {
        "id": "xxYsxrxAC8-8"
      },
      "outputs": [],
      "source": [
        "# 4) A partir da lista de colunas, escolha somente aquelas que são referentes ao estabelecimento, faça uma lista com esses valores.\n",
        "list_variaveis = ['estabelecimento_valor',\n",
        "       'estabelecimento_razaoSocial', 'estalecimento_noFantasia',\n",
        "       'estabelecimento_municipio_codigo', 'estabelecimento_municipio_nome',\n",
        "       'estabelecimento_uf']\n",
        "\n"
      ]
    },
    {
      "cell_type": "code",
      "source": [
        "# 5) usando o método .loc, selecione somente essas variáveis\n",
        "paciente_menor_lista = paciente_menor.loc[:,list_variaveis]\n",
        "paciente_menor_lista.head()"
      ],
      "metadata": {
        "colab": {
          "base_uri": "https://localhost:8080/",
          "height": 206
        },
        "id": "qKOnqdbh-uCJ",
        "outputId": "0d3e7013-eb1c-4a8f-f75a-252d20964855"
      },
      "execution_count": 44,
      "outputs": [
        {
          "output_type": "execute_result",
          "data": {
            "text/plain": [
              "    estabelecimento_valor              estabelecimento_razaoSocial  \\\n",
              "6                  468363                            REDE DE FRIOS   \n",
              "20                2002876             SECRETARIA MUNCIPAL DE SAUDE   \n",
              "27                5981891  PREFEITURA MUNICIIPAL DE SENA MADUREIRA   \n",
              "31                6917291       PREFEITURA MUNICIPAL DE RIO BRANCO   \n",
              "43                2002876             SECRETARIA MUNCIPAL DE SAUDE   \n",
              "\n",
              "                             estalecimento_noFantasia  \\\n",
              "6                                       REDE DE FRIOS   \n",
              "20   CENTRO DE SAUDE RAIMUNDA PORFIRIO DE BRITO RAMOS   \n",
              "27                   UNIDADE BASICA DE SAUDE MODULO I   \n",
              "31  DEPARTAMENTO DE VIGILANCIA EPIDEMIOLOGICA E AM...   \n",
              "43   CENTRO DE SAUDE RAIMUNDA PORFIRIO DE BRITO RAMOS   \n",
              "\n",
              "    estabelecimento_municipio_codigo estabelecimento_municipio_nome  \\\n",
              "6                             120033                    MANCIO LIMA   \n",
              "20                            120013                         BUJARI   \n",
              "27                            120050                 SENA MADUREIRA   \n",
              "31                            120040                     RIO BRANCO   \n",
              "43                            120013                         BUJARI   \n",
              "\n",
              "   estabelecimento_uf  \n",
              "6                  AC  \n",
              "20                 AC  \n",
              "27                 AC  \n",
              "31                 AC  \n",
              "43                 AC  "
            ],
            "text/html": [
              "\n",
              "  <div id=\"df-ff503a1f-0aee-4e89-98fe-ba5360f0186f\" class=\"colab-df-container\">\n",
              "    <div>\n",
              "<style scoped>\n",
              "    .dataframe tbody tr th:only-of-type {\n",
              "        vertical-align: middle;\n",
              "    }\n",
              "\n",
              "    .dataframe tbody tr th {\n",
              "        vertical-align: top;\n",
              "    }\n",
              "\n",
              "    .dataframe thead th {\n",
              "        text-align: right;\n",
              "    }\n",
              "</style>\n",
              "<table border=\"1\" class=\"dataframe\">\n",
              "  <thead>\n",
              "    <tr style=\"text-align: right;\">\n",
              "      <th></th>\n",
              "      <th>estabelecimento_valor</th>\n",
              "      <th>estabelecimento_razaoSocial</th>\n",
              "      <th>estalecimento_noFantasia</th>\n",
              "      <th>estabelecimento_municipio_codigo</th>\n",
              "      <th>estabelecimento_municipio_nome</th>\n",
              "      <th>estabelecimento_uf</th>\n",
              "    </tr>\n",
              "  </thead>\n",
              "  <tbody>\n",
              "    <tr>\n",
              "      <th>6</th>\n",
              "      <td>468363</td>\n",
              "      <td>REDE DE FRIOS</td>\n",
              "      <td>REDE DE FRIOS</td>\n",
              "      <td>120033</td>\n",
              "      <td>MANCIO LIMA</td>\n",
              "      <td>AC</td>\n",
              "    </tr>\n",
              "    <tr>\n",
              "      <th>20</th>\n",
              "      <td>2002876</td>\n",
              "      <td>SECRETARIA MUNCIPAL DE SAUDE</td>\n",
              "      <td>CENTRO DE SAUDE RAIMUNDA PORFIRIO DE BRITO RAMOS</td>\n",
              "      <td>120013</td>\n",
              "      <td>BUJARI</td>\n",
              "      <td>AC</td>\n",
              "    </tr>\n",
              "    <tr>\n",
              "      <th>27</th>\n",
              "      <td>5981891</td>\n",
              "      <td>PREFEITURA MUNICIIPAL DE SENA MADUREIRA</td>\n",
              "      <td>UNIDADE BASICA DE SAUDE MODULO I</td>\n",
              "      <td>120050</td>\n",
              "      <td>SENA MADUREIRA</td>\n",
              "      <td>AC</td>\n",
              "    </tr>\n",
              "    <tr>\n",
              "      <th>31</th>\n",
              "      <td>6917291</td>\n",
              "      <td>PREFEITURA MUNICIPAL DE RIO BRANCO</td>\n",
              "      <td>DEPARTAMENTO DE VIGILANCIA EPIDEMIOLOGICA E AM...</td>\n",
              "      <td>120040</td>\n",
              "      <td>RIO BRANCO</td>\n",
              "      <td>AC</td>\n",
              "    </tr>\n",
              "    <tr>\n",
              "      <th>43</th>\n",
              "      <td>2002876</td>\n",
              "      <td>SECRETARIA MUNCIPAL DE SAUDE</td>\n",
              "      <td>CENTRO DE SAUDE RAIMUNDA PORFIRIO DE BRITO RAMOS</td>\n",
              "      <td>120013</td>\n",
              "      <td>BUJARI</td>\n",
              "      <td>AC</td>\n",
              "    </tr>\n",
              "  </tbody>\n",
              "</table>\n",
              "</div>\n",
              "    <div class=\"colab-df-buttons\">\n",
              "\n",
              "  <div class=\"colab-df-container\">\n",
              "    <button class=\"colab-df-convert\" onclick=\"convertToInteractive('df-ff503a1f-0aee-4e89-98fe-ba5360f0186f')\"\n",
              "            title=\"Convert this dataframe to an interactive table.\"\n",
              "            style=\"display:none;\">\n",
              "\n",
              "  <svg xmlns=\"http://www.w3.org/2000/svg\" height=\"24px\" viewBox=\"0 -960 960 960\">\n",
              "    <path d=\"M120-120v-720h720v720H120Zm60-500h600v-160H180v160Zm220 220h160v-160H400v160Zm0 220h160v-160H400v160ZM180-400h160v-160H180v160Zm440 0h160v-160H620v160ZM180-180h160v-160H180v160Zm440 0h160v-160H620v160Z\"/>\n",
              "  </svg>\n",
              "    </button>\n",
              "\n",
              "  <style>\n",
              "    .colab-df-container {\n",
              "      display:flex;\n",
              "      gap: 12px;\n",
              "    }\n",
              "\n",
              "    .colab-df-convert {\n",
              "      background-color: #E8F0FE;\n",
              "      border: none;\n",
              "      border-radius: 50%;\n",
              "      cursor: pointer;\n",
              "      display: none;\n",
              "      fill: #1967D2;\n",
              "      height: 32px;\n",
              "      padding: 0 0 0 0;\n",
              "      width: 32px;\n",
              "    }\n",
              "\n",
              "    .colab-df-convert:hover {\n",
              "      background-color: #E2EBFA;\n",
              "      box-shadow: 0px 1px 2px rgba(60, 64, 67, 0.3), 0px 1px 3px 1px rgba(60, 64, 67, 0.15);\n",
              "      fill: #174EA6;\n",
              "    }\n",
              "\n",
              "    .colab-df-buttons div {\n",
              "      margin-bottom: 4px;\n",
              "    }\n",
              "\n",
              "    [theme=dark] .colab-df-convert {\n",
              "      background-color: #3B4455;\n",
              "      fill: #D2E3FC;\n",
              "    }\n",
              "\n",
              "    [theme=dark] .colab-df-convert:hover {\n",
              "      background-color: #434B5C;\n",
              "      box-shadow: 0px 1px 3px 1px rgba(0, 0, 0, 0.15);\n",
              "      filter: drop-shadow(0px 1px 2px rgba(0, 0, 0, 0.3));\n",
              "      fill: #FFFFFF;\n",
              "    }\n",
              "  </style>\n",
              "\n",
              "    <script>\n",
              "      const buttonEl =\n",
              "        document.querySelector('#df-ff503a1f-0aee-4e89-98fe-ba5360f0186f button.colab-df-convert');\n",
              "      buttonEl.style.display =\n",
              "        google.colab.kernel.accessAllowed ? 'block' : 'none';\n",
              "\n",
              "      async function convertToInteractive(key) {\n",
              "        const element = document.querySelector('#df-ff503a1f-0aee-4e89-98fe-ba5360f0186f');\n",
              "        const dataTable =\n",
              "          await google.colab.kernel.invokeFunction('convertToInteractive',\n",
              "                                                    [key], {});\n",
              "        if (!dataTable) return;\n",
              "\n",
              "        const docLinkHtml = 'Like what you see? Visit the ' +\n",
              "          '<a target=\"_blank\" href=https://colab.research.google.com/notebooks/data_table.ipynb>data table notebook</a>'\n",
              "          + ' to learn more about interactive tables.';\n",
              "        element.innerHTML = '';\n",
              "        dataTable['output_type'] = 'display_data';\n",
              "        await google.colab.output.renderOutput(dataTable, element);\n",
              "        const docLink = document.createElement('div');\n",
              "        docLink.innerHTML = docLinkHtml;\n",
              "        element.appendChild(docLink);\n",
              "      }\n",
              "    </script>\n",
              "  </div>\n",
              "\n",
              "\n",
              "<div id=\"df-887c839b-3c7d-402f-973f-93650291cf7c\">\n",
              "  <button class=\"colab-df-quickchart\" onclick=\"quickchart('df-887c839b-3c7d-402f-973f-93650291cf7c')\"\n",
              "            title=\"Suggest charts\"\n",
              "            style=\"display:none;\">\n",
              "\n",
              "<svg xmlns=\"http://www.w3.org/2000/svg\" height=\"24px\"viewBox=\"0 0 24 24\"\n",
              "     width=\"24px\">\n",
              "    <g>\n",
              "        <path d=\"M19 3H5c-1.1 0-2 .9-2 2v14c0 1.1.9 2 2 2h14c1.1 0 2-.9 2-2V5c0-1.1-.9-2-2-2zM9 17H7v-7h2v7zm4 0h-2V7h2v10zm4 0h-2v-4h2v4z\"/>\n",
              "    </g>\n",
              "</svg>\n",
              "  </button>\n",
              "\n",
              "<style>\n",
              "  .colab-df-quickchart {\n",
              "      --bg-color: #E8F0FE;\n",
              "      --fill-color: #1967D2;\n",
              "      --hover-bg-color: #E2EBFA;\n",
              "      --hover-fill-color: #174EA6;\n",
              "      --disabled-fill-color: #AAA;\n",
              "      --disabled-bg-color: #DDD;\n",
              "  }\n",
              "\n",
              "  [theme=dark] .colab-df-quickchart {\n",
              "      --bg-color: #3B4455;\n",
              "      --fill-color: #D2E3FC;\n",
              "      --hover-bg-color: #434B5C;\n",
              "      --hover-fill-color: #FFFFFF;\n",
              "      --disabled-bg-color: #3B4455;\n",
              "      --disabled-fill-color: #666;\n",
              "  }\n",
              "\n",
              "  .colab-df-quickchart {\n",
              "    background-color: var(--bg-color);\n",
              "    border: none;\n",
              "    border-radius: 50%;\n",
              "    cursor: pointer;\n",
              "    display: none;\n",
              "    fill: var(--fill-color);\n",
              "    height: 32px;\n",
              "    padding: 0;\n",
              "    width: 32px;\n",
              "  }\n",
              "\n",
              "  .colab-df-quickchart:hover {\n",
              "    background-color: var(--hover-bg-color);\n",
              "    box-shadow: 0 1px 2px rgba(60, 64, 67, 0.3), 0 1px 3px 1px rgba(60, 64, 67, 0.15);\n",
              "    fill: var(--button-hover-fill-color);\n",
              "  }\n",
              "\n",
              "  .colab-df-quickchart-complete:disabled,\n",
              "  .colab-df-quickchart-complete:disabled:hover {\n",
              "    background-color: var(--disabled-bg-color);\n",
              "    fill: var(--disabled-fill-color);\n",
              "    box-shadow: none;\n",
              "  }\n",
              "\n",
              "  .colab-df-spinner {\n",
              "    border: 2px solid var(--fill-color);\n",
              "    border-color: transparent;\n",
              "    border-bottom-color: var(--fill-color);\n",
              "    animation:\n",
              "      spin 1s steps(1) infinite;\n",
              "  }\n",
              "\n",
              "  @keyframes spin {\n",
              "    0% {\n",
              "      border-color: transparent;\n",
              "      border-bottom-color: var(--fill-color);\n",
              "      border-left-color: var(--fill-color);\n",
              "    }\n",
              "    20% {\n",
              "      border-color: transparent;\n",
              "      border-left-color: var(--fill-color);\n",
              "      border-top-color: var(--fill-color);\n",
              "    }\n",
              "    30% {\n",
              "      border-color: transparent;\n",
              "      border-left-color: var(--fill-color);\n",
              "      border-top-color: var(--fill-color);\n",
              "      border-right-color: var(--fill-color);\n",
              "    }\n",
              "    40% {\n",
              "      border-color: transparent;\n",
              "      border-right-color: var(--fill-color);\n",
              "      border-top-color: var(--fill-color);\n",
              "    }\n",
              "    60% {\n",
              "      border-color: transparent;\n",
              "      border-right-color: var(--fill-color);\n",
              "    }\n",
              "    80% {\n",
              "      border-color: transparent;\n",
              "      border-right-color: var(--fill-color);\n",
              "      border-bottom-color: var(--fill-color);\n",
              "    }\n",
              "    90% {\n",
              "      border-color: transparent;\n",
              "      border-bottom-color: var(--fill-color);\n",
              "    }\n",
              "  }\n",
              "</style>\n",
              "\n",
              "  <script>\n",
              "    async function quickchart(key) {\n",
              "      const quickchartButtonEl =\n",
              "        document.querySelector('#' + key + ' button');\n",
              "      quickchartButtonEl.disabled = true;  // To prevent multiple clicks.\n",
              "      quickchartButtonEl.classList.add('colab-df-spinner');\n",
              "      try {\n",
              "        const charts = await google.colab.kernel.invokeFunction(\n",
              "            'suggestCharts', [key], {});\n",
              "      } catch (error) {\n",
              "        console.error('Error during call to suggestCharts:', error);\n",
              "      }\n",
              "      quickchartButtonEl.classList.remove('colab-df-spinner');\n",
              "      quickchartButtonEl.classList.add('colab-df-quickchart-complete');\n",
              "    }\n",
              "    (() => {\n",
              "      let quickchartButtonEl =\n",
              "        document.querySelector('#df-887c839b-3c7d-402f-973f-93650291cf7c button');\n",
              "      quickchartButtonEl.style.display =\n",
              "        google.colab.kernel.accessAllowed ? 'block' : 'none';\n",
              "    })();\n",
              "  </script>\n",
              "</div>\n",
              "\n",
              "    </div>\n",
              "  </div>\n"
            ]
          },
          "metadata": {},
          "execution_count": 44
        }
      ]
    },
    {
      "cell_type": "code",
      "execution_count": 45,
      "metadata": {
        "id": "vaX2x_0rC8-8",
        "colab": {
          "base_uri": "https://localhost:8080/"
        },
        "outputId": "9137649e-d0e7-4270-d717-e3162d709311"
      },
      "outputs": [
        {
          "output_type": "execute_result",
          "data": {
            "text/plain": [
              "(175, 6)"
            ]
          },
          "metadata": {},
          "execution_count": 45
        }
      ],
      "source": [
        "# 6) Aplique o método .drop_duplicates e crie uma lista com uma linha para cada estabelecimento, com os dados do estabelecimento\n",
        "paciente_menor_lista = paciente_menor_lista.drop_duplicates()\n",
        "paciente_menor_lista.shape\n",
        "\n"
      ]
    }
  ],
  "metadata": {
    "colab": {
      "provenance": []
    },
    "kernelspec": {
      "display_name": "Python 3 (ipykernel)",
      "language": "python",
      "name": "python3"
    },
    "language_info": {
      "codemirror_mode": {
        "name": "ipython",
        "version": 3
      },
      "file_extension": ".py",
      "mimetype": "text/x-python",
      "name": "python",
      "nbconvert_exporter": "python",
      "pygments_lexer": "ipython3",
      "version": "3.11.5"
    },
    "toc": {
      "base_numbering": 1,
      "nav_menu": {},
      "number_sections": false,
      "sideBar": true,
      "skip_h1_title": true,
      "title_cell": "Índice",
      "title_sidebar": "Conteúdo",
      "toc_cell": false,
      "toc_position": {},
      "toc_section_display": true,
      "toc_window_display": false
    },
    "varInspector": {
      "cols": {
        "lenName": 16,
        "lenType": 16,
        "lenVar": 40
      },
      "kernels_config": {
        "python": {
          "delete_cmd_postfix": "",
          "delete_cmd_prefix": "del ",
          "library": "var_list.py",
          "varRefreshCmd": "print(var_dic_list())"
        },
        "r": {
          "delete_cmd_postfix": ") ",
          "delete_cmd_prefix": "rm(",
          "library": "var_list.r",
          "varRefreshCmd": "cat(var_dic_list()) "
        }
      },
      "types_to_exclude": [
        "module",
        "function",
        "builtin_function_or_method",
        "instance",
        "_Feature"
      ],
      "window_display": false
    }
  },
  "nbformat": 4,
  "nbformat_minor": 0
}