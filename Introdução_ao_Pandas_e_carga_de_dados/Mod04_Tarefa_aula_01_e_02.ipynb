{
  "cells": [
    {
      "cell_type": "markdown",
      "metadata": {
        "id": "5mE6f5g0TezJ"
      },
      "source": [
        "# Tarefa 01\n",
        "\n",
        "- Leia os enunciados com atenção\n",
        "- Saiba que pode haver mais de uma resposta correta\n",
        "- Insira novas células de código sempre que achar necessário\n",
        "- Em caso de dúvidas, procure os tutores\n",
        "- Divirta-se :)\n",
        "\n",
        "#### 1)  crie uma série do pandas a partir de uma lista com os dados abaixo:\n",
        "\n",
        "Em um estudo sobre alteração na tempreatura global, A NASA disponibiliza dados de diferenças de de temperatura média da superfície terrestre relativos às médias de temperatura entre 1951 e 1980. Os dados originais podem ser vistos no site da NASA/GISS, e estão dispostos a cada década na tabela abaixo.\n",
        "\n",
        "|ano|anomalia termica|\n",
        "|:-:|:----:|\n",
        "| 1900 | -0.08 |\n",
        "| 1920 | -0.27 |\n",
        "| 1940 | 0.12 |\n",
        "| 1960 | -0.03 |\n",
        "| 1980 | 0.26 |\n",
        "| 2000 | 0.40 |\n",
        "| 2020 | 1.02 |\n",
        "\n",
        "Crie uma séries do Pandas a partir de uma lista com esses dados."
      ]
    },
    {
      "cell_type": "code",
      "execution_count": 1,
      "metadata": {
        "id": "EsZjirreTezN"
      },
      "outputs": [],
      "source": [
        "# Biblioteca pandas e numpy\n",
        "import pandas as pd\n",
        "import numpy as np"
      ]
    },
    {
      "cell_type": "code",
      "source": [
        "# Dados fornecidos\n",
        "dados = {'ano': [1900, 1920, 1940, 1960, 1980, 2000, 2020],\n",
        "         'anomalia_termica': [-0.08, -0.27, 0.12, -0.03, 0.26, 0.40, 1.02]}\n",
        "\n",
        "dados"
      ],
      "metadata": {
        "colab": {
          "base_uri": "https://localhost:8080/"
        },
        "id": "W9mNUtcgT2My",
        "outputId": "69f30800-e864-44f7-cb9a-5d92de893fb1"
      },
      "execution_count": 5,
      "outputs": [
        {
          "output_type": "execute_result",
          "data": {
            "text/plain": [
              "{'ano': [1900, 1920, 1940, 1960, 1980, 2000, 2020],\n",
              " 'anomalia_termica': [-0.08, -0.27, 0.12, -0.03, 0.26, 0.4, 1.02]}"
            ]
          },
          "metadata": {},
          "execution_count": 5
        }
      ]
    },
    {
      "cell_type": "markdown",
      "metadata": {
        "id": "e1cxmyVITezP"
      },
      "source": [
        "#### 2) Coloque os anos nos índices conforme a tabela."
      ]
    },
    {
      "cell_type": "code",
      "execution_count": 6,
      "metadata": {
        "colab": {
          "base_uri": "https://localhost:8080/"
        },
        "id": "t1UZX6QETezP",
        "outputId": "d8af6e08-ab6e-467e-b591-bb7ed861c620"
      },
      "outputs": [
        {
          "output_type": "stream",
          "name": "stdout",
          "text": [
            "1900   -0.08\n",
            "1920   -0.27\n",
            "1940    0.12\n",
            "1960   -0.03\n",
            "1980    0.26\n",
            "2000    0.40\n",
            "2020    1.02\n",
            "dtype: float64\n"
          ]
        }
      ],
      "source": [
        "# Criar a série do pandas\n",
        "serie_temperatura = pd.Series(dados['anomalia_termica'], index=dados['ano'])\n",
        "\n",
        "# Exibir a série\n",
        "print(serie_temperatura)\n"
      ]
    },
    {
      "cell_type": "markdown",
      "metadata": {
        "id": "TLhUA2pvTezQ"
      },
      "source": [
        "#### 3) A partir do dicionário abaixo, crie uma séries do Pandas:"
      ]
    },
    {
      "cell_type": "code",
      "execution_count": 8,
      "metadata": {
        "colab": {
          "base_uri": "https://localhost:8080/"
        },
        "id": "wuESyD11TezQ",
        "outputId": "e2406f6c-ae20-4a9a-df6f-a2dde7b3ea7c"
      },
      "outputs": [
        {
          "output_type": "execute_result",
          "data": {
            "text/plain": [
              "{1900: -0.08,\n",
              " 1920: -0.27,\n",
              " 1940: 0.12,\n",
              " 1960: -0.03,\n",
              " 1980: 0.26,\n",
              " 2000: 0.4,\n",
              " 2020: 1.02}"
            ]
          },
          "metadata": {},
          "execution_count": 8
        }
      ],
      "source": [
        "dic_temperaturas = {1900: -.08, 1920: -.27, 1940: .12, 1960: -.03, 1980: .26, 2000: .40, 2020: 1.02}\n",
        "\n",
        "dic_temperaturas"
      ]
    },
    {
      "cell_type": "code",
      "source": [
        "# Criar a série do pandas\n",
        "serie_temperatura = pd.Series(dic_temperaturas)\n",
        "\n",
        "# Exibir a série\n",
        "print(serie_temperatura)\n"
      ],
      "metadata": {
        "colab": {
          "base_uri": "https://localhost:8080/"
        },
        "id": "OjdiodCuVxyG",
        "outputId": "8aab8295-a21e-4b87-a24b-40bccc3fdfff"
      },
      "execution_count": 9,
      "outputs": [
        {
          "output_type": "stream",
          "name": "stdout",
          "text": [
            "1900   -0.08\n",
            "1920   -0.27\n",
            "1940    0.12\n",
            "1960   -0.03\n",
            "1980    0.26\n",
            "2000    0.40\n",
            "2020    1.02\n",
            "dtype: float64\n"
          ]
        }
      ]
    },
    {
      "cell_type": "markdown",
      "metadata": {
        "id": "8gU2UQmHTezQ"
      },
      "source": [
        "#### 4) Transforme o ndarray abaixo em um dataframe.\n",
        "O numpy é capaz de gerar arrays n-dimensionais com números pseudo-aleatórios de acordo com uma variedade de distribuições, como no exemplo abaixo. Transforme esse nd-array em um DataFrame."
      ]
    },
    {
      "cell_type": "code",
      "execution_count": 11,
      "metadata": {
        "colab": {
          "base_uri": "https://localhost:8080/"
        },
        "id": "mN00tQb2TezR",
        "outputId": "77a444df-bbb5-4334-b000-0f2a83b62e97"
      },
      "outputs": [
        {
          "output_type": "execute_result",
          "data": {
            "text/plain": [
              "array([[ 95.77516952, 101.42709297,  91.09961714],\n",
              "       [100.18947671,  84.92562021,  93.74173216],\n",
              "       [ 96.9513124 ,  94.89771408,  98.12582948],\n",
              "       [ 96.77064111,  92.07970178,  96.61352345],\n",
              "       [105.5141036 ,  95.07248154, 102.28346598],\n",
              "       [ 89.81470792,  96.94406505,  76.88165044],\n",
              "       [ 79.43085394,  91.33406288,  92.18624313],\n",
              "       [ 86.51653306, 112.08333512,  90.41659463],\n",
              "       [100.37666929,  83.22091541, 102.65144496],\n",
              "       [105.53435951, 107.08481914,  98.65705323],\n",
              "       [100.53991762, 100.29837074, 104.81945223],\n",
              "       [104.41206398, 104.32358238,  81.41825703],\n",
              "       [103.10815914,  88.03761815, 102.56567364],\n",
              "       [ 94.62076663, 109.04854984, 117.99932055],\n",
              "       [ 89.4625112 ,  82.33934857,  97.23509999],\n",
              "       [ 93.37921784,  85.95928575,  91.52367367],\n",
              "       [108.71316654,  99.8633806 ,  94.11199944],\n",
              "       [ 97.33667677, 108.81605318, 102.60060375],\n",
              "       [ 74.26367822,  92.78728777, 108.03085308],\n",
              "       [ 89.76496838, 113.85791524,  84.77379027]])"
            ]
          },
          "metadata": {},
          "execution_count": 11
        }
      ],
      "source": [
        "arr = np.random.normal(100, 10, (20,3))\n",
        "\n",
        "arr"
      ]
    },
    {
      "cell_type": "code",
      "source": [
        "# Transformar o ndarray em DataFrame\n",
        "df = pd.DataFrame(arr, columns=['Coluna1', 'Coluna2', 'Coluna3'])\n",
        "\n",
        "# Exibir o DataFrame\n",
        "print(df)\n"
      ],
      "metadata": {
        "colab": {
          "base_uri": "https://localhost:8080/"
        },
        "id": "r2zXiVWPWLFt",
        "outputId": "36b0156c-046c-4a75-ca22-0c1f13943bec"
      },
      "execution_count": 12,
      "outputs": [
        {
          "output_type": "stream",
          "name": "stdout",
          "text": [
            "       Coluna1     Coluna2     Coluna3\n",
            "0    95.775170  101.427093   91.099617\n",
            "1   100.189477   84.925620   93.741732\n",
            "2    96.951312   94.897714   98.125829\n",
            "3    96.770641   92.079702   96.613523\n",
            "4   105.514104   95.072482  102.283466\n",
            "5    89.814708   96.944065   76.881650\n",
            "6    79.430854   91.334063   92.186243\n",
            "7    86.516533  112.083335   90.416595\n",
            "8   100.376669   83.220915  102.651445\n",
            "9   105.534360  107.084819   98.657053\n",
            "10  100.539918  100.298371  104.819452\n",
            "11  104.412064  104.323582   81.418257\n",
            "12  103.108159   88.037618  102.565674\n",
            "13   94.620767  109.048550  117.999321\n",
            "14   89.462511   82.339349   97.235100\n",
            "15   93.379218   85.959286   91.523674\n",
            "16  108.713167   99.863381   94.111999\n",
            "17   97.336677  108.816053  102.600604\n",
            "18   74.263678   92.787288  108.030853\n",
            "19   89.764968  113.857915   84.773790\n"
          ]
        }
      ]
    },
    {
      "cell_type": "markdown",
      "metadata": {
        "id": "PEVtsgcUTezR"
      },
      "source": [
        "#### 5) Nomeie os índices das linhas com inteiros de 1 a 20, e as colunas com os nomes \"x1\", \"x2\", e \"x3\" respectivamente."
      ]
    },
    {
      "cell_type": "code",
      "execution_count": 15,
      "metadata": {
        "colab": {
          "base_uri": "https://localhost:8080/"
        },
        "id": "S8HHImxxTezS",
        "outputId": "c6cf10d9-11e9-43a0-dfe2-310dfcb2def6"
      },
      "outputs": [
        {
          "output_type": "stream",
          "name": "stdout",
          "text": [
            "            x1          x2          x3\n",
            "1    95.775170  101.427093   91.099617\n",
            "2   100.189477   84.925620   93.741732\n",
            "3    96.951312   94.897714   98.125829\n",
            "4    96.770641   92.079702   96.613523\n",
            "5   105.514104   95.072482  102.283466\n",
            "6    89.814708   96.944065   76.881650\n",
            "7    79.430854   91.334063   92.186243\n",
            "8    86.516533  112.083335   90.416595\n",
            "9   100.376669   83.220915  102.651445\n",
            "10  105.534360  107.084819   98.657053\n",
            "11  100.539918  100.298371  104.819452\n",
            "12  104.412064  104.323582   81.418257\n",
            "13  103.108159   88.037618  102.565674\n",
            "14   94.620767  109.048550  117.999321\n",
            "15   89.462511   82.339349   97.235100\n",
            "16   93.379218   85.959286   91.523674\n",
            "17  108.713167   99.863381   94.111999\n",
            "18   97.336677  108.816053  102.600604\n",
            "19   74.263678   92.787288  108.030853\n",
            "20   89.764968  113.857915   84.773790\n"
          ]
        }
      ],
      "source": [
        "# Transformar o ndarray em DataFrame\n",
        "df = pd.DataFrame(arr, columns=['x1', 'x2', 'x3'])\n",
        "\n",
        "# Nomear os índices das linhas de 1 a 20\n",
        "df.index = np.arange(1, 21)\n",
        "\n",
        "# Exibir o DataFrame\n",
        "print(df)\n",
        "\n"
      ]
    },
    {
      "cell_type": "markdown",
      "metadata": {
        "id": "sGtPpC2bTezS"
      },
      "source": [
        "#### 6) No DataFrame do exercício 5, crie uma nova coluna como sendo a média das três colunas, e dê a ela o nome de \"media\" (não recomendo colocar acentos em nomes de variáveis)."
      ]
    },
    {
      "cell_type": "code",
      "execution_count": 16,
      "metadata": {
        "colab": {
          "base_uri": "https://localhost:8080/"
        },
        "id": "iNzAFIZQTezS",
        "outputId": "f45e3d8e-07b1-42cb-b4fd-fb6cada15724"
      },
      "outputs": [
        {
          "output_type": "stream",
          "name": "stdout",
          "text": [
            "            x1          x2          x3       media\n",
            "1    95.775170  101.427093   91.099617   96.100627\n",
            "2   100.189477   84.925620   93.741732   92.952276\n",
            "3    96.951312   94.897714   98.125829   96.658285\n",
            "4    96.770641   92.079702   96.613523   95.154622\n",
            "5   105.514104   95.072482  102.283466  100.956684\n",
            "6    89.814708   96.944065   76.881650   87.880141\n",
            "7    79.430854   91.334063   92.186243   87.650387\n",
            "8    86.516533  112.083335   90.416595   96.338821\n",
            "9   100.376669   83.220915  102.651445   95.416343\n",
            "10  105.534360  107.084819   98.657053  103.758744\n",
            "11  100.539918  100.298371  104.819452  101.885914\n",
            "12  104.412064  104.323582   81.418257   96.717968\n",
            "13  103.108159   88.037618  102.565674   97.903817\n",
            "14   94.620767  109.048550  117.999321  107.222879\n",
            "15   89.462511   82.339349   97.235100   89.678987\n",
            "16   93.379218   85.959286   91.523674   90.287392\n",
            "17  108.713167   99.863381   94.111999  100.896182\n",
            "18   97.336677  108.816053  102.600604  102.917778\n",
            "19   74.263678   92.787288  108.030853   91.693940\n",
            "20   89.764968  113.857915   84.773790   96.132225\n"
          ]
        }
      ],
      "source": [
        "# Adicionar a coluna \"media\"\n",
        "df['media'] = df.mean(axis=1)\n",
        "\n",
        "# Exibir o DataFrame\n",
        "print(df)\n"
      ]
    },
    {
      "cell_type": "markdown",
      "metadata": {
        "id": "svuuLUL8TezS"
      },
      "source": [
        "#### 7) No DataFrame do exercício 6, crie uma nova coluna chamada \"log_med\", contendo o logaritmo natural da média calculada no exercício 6 <br>"
      ]
    },
    {
      "cell_type": "code",
      "execution_count": 17,
      "metadata": {
        "colab": {
          "base_uri": "https://localhost:8080/"
        },
        "id": "wEVhqSbTTezS",
        "outputId": "7295dbac-5875-41ba-c0ed-13ea73cd179b"
      },
      "outputs": [
        {
          "output_type": "stream",
          "name": "stdout",
          "text": [
            "            x1          x2          x3       media   log_med\n",
            "1    95.775170  101.427093   91.099617   96.100627  4.565396\n",
            "2   100.189477   84.925620   93.741732   92.952276  4.532086\n",
            "3    96.951312   94.897714   98.125829   96.658285  4.571182\n",
            "4    96.770641   92.079702   96.613523   95.154622  4.555503\n",
            "5   105.514104   95.072482  102.283466  100.956684  4.614692\n",
            "6    89.814708   96.944065   76.881650   87.880141  4.475974\n",
            "7    79.430854   91.334063   92.186243   87.650387  4.473356\n",
            "8    86.516533  112.083335   90.416595   96.338821  4.567871\n",
            "9   100.376669   83.220915  102.651445   95.416343  4.558250\n",
            "10  105.534360  107.084819   98.657053  103.758744  4.642068\n",
            "11  100.539918  100.298371  104.819452  101.885914  4.623854\n",
            "12  104.412064  104.323582   81.418257   96.717968  4.571799\n",
            "13  103.108159   88.037618  102.565674   97.903817  4.583986\n",
            "14   94.620767  109.048550  117.999321  107.222879  4.674910\n",
            "15   89.462511   82.339349   97.235100   89.678987  4.496236\n",
            "16   93.379218   85.959286   91.523674   90.287392  4.502998\n",
            "17  108.713167   99.863381   94.111999  100.896182  4.614092\n",
            "18   97.336677  108.816053  102.600604  102.917778  4.633930\n",
            "19   74.263678   92.787288  108.030853   91.693940  4.518456\n",
            "20   89.764968  113.857915   84.773790   96.132225  4.565725\n"
          ]
        }
      ],
      "source": [
        "# Adicionar a coluna \"log_med\"\n",
        "df['log_med'] = np.log(df['media'])\n",
        "\n",
        "# Exibir o DataFrame\n",
        "print(df)\n"
      ]
    }
  ],
  "metadata": {
    "kernelspec": {
      "display_name": "Python 3",
      "language": "python",
      "name": "python3"
    },
    "language_info": {
      "codemirror_mode": {
        "name": "ipython",
        "version": 3
      },
      "file_extension": ".py",
      "mimetype": "text/x-python",
      "name": "python",
      "nbconvert_exporter": "python",
      "pygments_lexer": "ipython3",
      "version": "3.8.5"
    },
    "colab": {
      "provenance": []
    }
  },
  "nbformat": 4,
  "nbformat_minor": 0
}