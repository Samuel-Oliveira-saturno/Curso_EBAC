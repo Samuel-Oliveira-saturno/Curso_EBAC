{
  "cells": [
    {
      "cell_type": "markdown",
      "metadata": {
        "id": "Ep3mlD8fMVcQ"
      },
      "source": [
        "<img src=\"https://raw.githubusercontent.com/andre-marcos-perez/ebac-course-utils/main/media/logo/newebac_logo_black_half.png\" alt=\"ebac-logo\">\n",
        "\n",
        "---\n",
        "\n",
        "# **Módulo 14** | Scripting\n",
        "Caderno de **exercício**<br>\n",
        "\n",
        "# Tarefa 2\n",
        "\n",
        "Discente: Samuel Saturno"
      ]
    },
    {
      "cell_type": "code",
      "source": [
        "# Importando a função criada para pesquisa os dados mês a mês do dataframe SINASC_RO_2019\n",
        "from analise_sinasc import processa_dados"
      ],
      "metadata": {
        "id": "zsCOzLxcTPLU"
      },
      "execution_count": 6,
      "outputs": []
    },
    {
      "cell_type": "code",
      "source": [
        "# Solicita ao usuário o mês desejado\n",
        "mes = input(\"Digite o mês desejado (jan, fev, mar, abr, mai, jun, jul, ago, set, out, nov, dez): \")\n",
        "\n",
        "# Chama a função usando o subprocess e o comando desejado\n",
        "comando = f\"python analise_sinasc.py {mes}\"\n",
        "resultado = subprocess.run(comando, shell=True)\n",
        "\n",
        "# Verifica se o comando foi executado com sucesso\n",
        "if resultado.returncode == 0:\n",
        "    print(\"Comando executado com sucesso!\")\n",
        "else:\n",
        "    print(\"Ocorreu um erro ao executar o comando.\")\n"
      ],
      "metadata": {
        "colab": {
          "base_uri": "https://localhost:8080/"
        },
        "id": "xlrHq4IFtkAR",
        "outputId": "0c05a2ce-fb86-4910-cd9a-17030226903e"
      },
      "execution_count": 7,
      "outputs": [
        {
          "output_type": "stream",
          "name": "stdout",
          "text": [
            "Digite o mês desejado (jan, fev, mar, abr, mai, jun, jul, ago, set, out, nov, dez): jun\n",
            "Comando executado com sucesso!\n"
          ]
        }
      ]
    }
  ],
  "metadata": {
    "kernelspec": {
      "display_name": "Python 3 (ipykernel)",
      "language": "python",
      "name": "python3"
    },
    "language_info": {
      "codemirror_mode": {
        "name": "ipython",
        "version": 3
      },
      "file_extension": ".py",
      "mimetype": "text/x-python",
      "name": "python",
      "nbconvert_exporter": "python",
      "pygments_lexer": "ipython3",
      "version": "3.11.5"
    },
    "varInspector": {
      "cols": {
        "lenName": 16,
        "lenType": 16,
        "lenVar": 40
      },
      "kernels_config": {
        "python": {
          "delete_cmd_postfix": "",
          "delete_cmd_prefix": "del ",
          "library": "var_list.py",
          "varRefreshCmd": "print(var_dic_list())"
        },
        "r": {
          "delete_cmd_postfix": ") ",
          "delete_cmd_prefix": "rm(",
          "library": "var_list.r",
          "varRefreshCmd": "cat(var_dic_list()) "
        }
      },
      "types_to_exclude": [
        "module",
        "function",
        "builtin_function_or_method",
        "instance",
        "_Feature"
      ],
      "window_display": false
    },
    "colab": {
      "provenance": []
    }
  },
  "nbformat": 4,
  "nbformat_minor": 0
}