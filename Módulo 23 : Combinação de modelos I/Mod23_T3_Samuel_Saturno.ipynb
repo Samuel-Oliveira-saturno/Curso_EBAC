{
  "nbformat": 4,
  "nbformat_minor": 0,
  "metadata": {
    "colab": {
      "provenance": []
    },
    "kernelspec": {
      "name": "python3",
      "display_name": "Python 3"
    },
    "language_info": {
      "name": "python"
    }
  },
  "cells": [
    {
      "cell_type": "markdown",
      "source": [
        "<img src=\"https://raw.githubusercontent.com/andre-marcos-perez/ebac-course-utils/main/media/logo/newebac_logo_black_half.png\" alt=\"ebac-logo\">\n",
        "\n",
        "---\n",
        "\n",
        "# **Módulo 23** | Combinação de modelos I | Random Forest - Hiperparâmetros\n",
        "Caderno de **exercício 03**<br>\n",
        "\n",
        "\n",
        "\n",
        "\n",
        "## Discente: Samuel Saturno <br>\n"
      ],
      "metadata": {
        "id": "IQZl-knkK6k0"
      }
    },
    {
      "cell_type": "markdown",
      "source": [
        "<h3><font  color=\"blue\"><strong>1. Quais são os hyperparâmetros do RF? Pra que serve cada um deles? </strong></font></h3>\n",
        "\n",
        "<h5><font  color=\"\"><strong>\n",
        "\n",
        "Os hiperparâmetros do algoritmo Random Forest (Floresta Aleatória) podem afetar significativamente o desempenho e o comportamento do modelo. Aqui estão os principais hiperparâmetros do Random Forest:\n",
        "\n",
        "</strong></font></h5>\n",
        "\n",
        "<h5><font  color=\"\"><i>\n",
        "1. n_estimators: Representa o número de árvores na floresta. Quanto maior o número de árvores, mais robusto o modelo se torna, mas também aumenta o tempo de computação. Resultados significativamente melhores podem ser alcançados até um número crítico de árvores.\n",
        "</i></font></h5>\n",
        "\n",
        "<h5><font  color=\"\"><i>\n",
        "    2. max_features: Refere-se ao tamanho dos subconjuntos aleatórios de características a serem considerados ao dividir um nó. Um valor menor reduz a variância, mas aumenta o viés. Boas escolhas de valores padrão são max_features=1.0 para problemas de regressão (considerando todas as características) e max_features=\"sqrt\" para problemas de classificação (usando um subconjunto aleatório de tamanho sqrt(n_features)).\n",
        "</i></font></h5>\n",
        "\n",
        "<h5><font  color=\"\"><i>\n",
        "    3. max_depth: Representa a profundidade máxima de cada árvore na floresta. Definir max_depth=None em combinação com min_samples_split=2 pode levar ao desenvolvimento completo das árvores, mas deve-se ter cuidado com o consumo excessivo de memória RAM.\n",
        "</i></font></h5>\n",
        "\n",
        "<h5><font  color=\"\"><i>\n",
        "    4. min_samples_split: O número mínimo de amostmin_samples_split: É o número mínimo de amostras necessárias para dividir um nó interno da árvore.\n",
        "</i></font></h5>\n",
        "\n",
        "<h5><font  color=\"\"><i>\n",
        "    5. min_samples_leaf: É o número mínimo de amostras necessárias para ser um nó folha da árvore.\n",
        "</i></font></h5>\n",
        "\n",
        "<h5><font  color=\"\"><i>\n",
        "    6. bootstrap: Indica se amostras de bootstrap são usadas por padrão. O padrão é True, o que significa que amostras de bootstrap são usadas, enquanto o conjunto de dados inteiro é usado para construir cada árvore quando bootstrap=False.\n",
        "</i></font></h5>\n",
        "\n",
        "<h5><font  color=\"\"><i>\n",
        "    7. oob_score: Controla se o erro de generalização pode ser estimado nas amostras deixadas de fora (out-of-bag). Quando definido como True, ativa a estimativa do erro de generalização nas amostras de out-of-bag.\n",
        "</i></font></h5>\n",
        "\n",
        "<h5><font  color=\"\"><i>\n",
        "    8. random_state: Semente aleatória para controle da aleatoriedade dos dados durante o treinamento.\n",
        "\n",
        "</i></font></h5>\n",
        "\n",
        "<h5><font  color=\"\"><strong>Referências Bibliográticas (visto em 18/04/2024)</strong></font></h5>\n",
        "\n",
        "<h6><font  color=\"blue\"><strong>Sites:</strong></font></h6>\n",
        "\n",
        "https://scikit-learn.org/stable/modules/ensemble.html#gradient-boosted-trees\n"
      ],
      "metadata": {
        "id": "Sfee7KzBDj_f"
      }
    }
  ]
}