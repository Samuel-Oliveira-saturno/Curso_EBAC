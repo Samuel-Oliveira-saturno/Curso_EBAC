{
  "nbformat": 4,
  "nbformat_minor": 0,
  "metadata": {
    "colab": {
      "provenance": []
    },
    "kernelspec": {
      "name": "python3",
      "display_name": "Python 3"
    },
    "language_info": {
      "name": "python"
    }
  },
  "cells": [
    {
      "cell_type": "markdown",
      "source": [
        "<img src=\"https://raw.githubusercontent.com/andre-marcos-perez/ebac-course-utils/main/media/logo/newebac_logo_black_half.png\" alt=\"ebac-logo\">\n",
        "\n",
        "---\n",
        "\n",
        "# **Módulo 23** | Combinação de modelos I |Random Forest\n",
        "Caderno de **exercício 02**<br>\n",
        "\n",
        "\n",
        "\n",
        "\n",
        "## Discente: Samuel Saturno\n"
      ],
      "metadata": {
        "id": "IQZl-knkK6k0"
      }
    },
    {
      "cell_type": "markdown",
      "source": [
        "<h3><font  color=\"blue\"><strong>1. Monte um passo a passo para o algoritmo Random Forest</strong></font></h3>\n",
        "\n",
        "<h5><font  color=\"\"><strong>Passo 1: Entendimento do Random Forest</strong></font></h5>\n",
        "\n",
        "<h5><font  color=\"\"><i>Random Forest é um algoritmo de aprendizado de máquina baseado em ensemble que combina várias árvores de decisão para classificação ou regressão. Ele cria uma \"floresta\" de árvores de decisão durante o treinamento e faz previsões combinando as previsões de todas as árvores individuais.</font></h5>\n",
        "\n",
        "\n",
        "<h5><font  color=\"\"><strong>Passo 2: Preparação dos Dados</strong></font></h5>\n",
        "\n",
        "\n",
        "<h5><font  color=\"\"><i>\n",
        "\n",
        "* Divisão dos Dados:\n",
        "\n",
        "Organizar os dados em um conjunto de treinamento e um conjunto de teste. O conjunto de treinamento será usado para treinar o modelo e o conjunto de teste será usado para avaliar o desempenho do modelo final.\n",
        "\n",
        "* Pré-processamento:\n",
        "\n",
        "Para garantir o sucesso da atividade, realizar o pré-processamento se faz necessário, como normalização de dados, tratamento de valores ausentes e codificação de variáveis categóricas.\n",
        ".</font></h5>\n",
        "\n",
        "<h5><font  color=\"\"><strong>Passo 3: Implementação do Random Forest</strong></font></h5>\n",
        "\n",
        "\n",
        "<h5><font  color=\"\"><i>\n",
        "\n",
        "\n",
        "* Inicialização: Escolha o número de árvores a serem incluídas na floresta (n_estimators) e outros parâmetros como a profundidade máxima da árvore (max_depth) e o número mínimo de amostras necessárias para dividir um nó (min_samples_split).\n",
        "\n",
        "* Treinamento: Treine cada árvore de decisão em uma amostra aleatória (com substituição) do conjunto de treinamento. Cada árvore é treinada de forma independente.\n",
        "\n",
        "\n",
        "* Previsões: Faça previsões para o conjunto de teste usando cada árvore na floresta. Para problemas de classificação, a previsão final é determinada pela moda das previsões de todas as árvores. Para problemas de regressão, a média das previsões é usada.\n",
        "</font></h5>\n",
        "\n",
        "\n",
        "<h5><font  color=\"\"><strong>Passo 4: Avaliação do Desempenho </strong></font></h5>\n",
        "\n",
        "\n",
        "<h5><font  color=\"\"><i>\n",
        "\n",
        "Avalie o desempenho do modelo final usando métricas apropriadas para o tipo de problema (por exemplo, precisão, recall, F1-score para classificação; erro quadrático médio para regressão).\n",
        "\n",
        "\n",
        "</font></h5>\n",
        "\n",
        "\n",
        "<h5><font  color=\"\"><strong>Passo 5: Ajuste de Parâmetros Opcionais </strong></font></h5>\n",
        "\n",
        "\n",
        "\n",
        "<h5><font  color=\"\"><i>\n",
        "\n",
        "Ajuste os parâmetros do Random Forest, como o número de árvores na floresta, a profundidade máxima da árvore e outros hiperparâmetros, usando validação cruzada ou outras técnicas de ajuste de hiperparâmetros.\n",
        "\n",
        "</font></h5>\n",
        "\n",
        "\n",
        "<h5><font  color=\"\"><strong>Passo 6: Validação Cruzada (Opcional)</strong></font></h5>\n",
        "\n",
        "\n",
        "<h5><font  color=\"\"><i>\n",
        "\n",
        "Realize validação cruzada, como k-fold cross validation, para uma avaliação mais robusta do desempenho do modelo.\n",
        "\n",
        "</font></h5>\n",
        "\n",
        "\n",
        "<h5><font  color=\"\"><strong>Passo 7: Implementação e Otimização</strong></font></h5>\n",
        "\n",
        "<h5><font  color=\"\"><i>\n",
        "Implemente o algoritmo Random Forest em uma linguagem de programação, como Python ou R, utilizando bibliotecas de aprendizado de máquina, como scikit-learn (para Python) ou RandomForestRegressor/RandomForestClassifier (para R). Experimente técnicas de otimização de desempenho, como paralelização, para reduzir o tempo de treinamento do modelo.\n",
        "</font></h5>\n",
        "\n",
        "<h5><font  color=\"\"><strong>Referências Bibliográticas (visto em 17/04/2024)</strong></font></h5>\n",
        "\n",
        "<h6><font  color=\"blue\"><strong>Sites:</strong></font></h6>\n",
        "\n",
        "https://scikit-learn.org/stable/modules/ensemble.html#gradient-boosted-trees\n",
        "\n",
        "https://medium.com/cinthiabpessanha/random-forest-como-funciona-um-dos-algoritmos-mais-populares-de-ml-cc1b8a58b3b4"
      ],
      "metadata": {
        "id": "Sfee7KzBDj_f"
      }
    },
    {
      "cell_type": "markdown",
      "source": [
        "<h3><font  color=\"blue\"><strong>2. Explique com suas palavras o Random Forest</strong></font></h3>\n",
        "\n",
        "\n",
        "<h5><font  color=\"\"><i>\n",
        "\n",
        "Random Forest (Floresta Aleatória) é um algoritmo de aprendizado de máquina baseado em ensemble que combina múltiplas árvores de decisão durante o treinamento para classificação ou regressão. Em vez de depender de uma única árvore de decisão, o Random Forest cria uma \"floresta\" de árvores de decisão durante o treinamento, onde cada árvore é treinada em uma amostra aleatória (com substituição) dos dados de treinamento. Durante a previsão, as previsões de todas as árvores na floresta são combinadas para obter uma previsão final. Isso resulta em um modelo mais robusto e menos propenso a overfitting do que uma única árvore de decisão.\n",
        "\n",
        "</i></font></h5>\n",
        "\n",
        "\n",
        "\n"
      ],
      "metadata": {
        "id": "vn0VJluJHDzK"
      }
    },
    {
      "cell_type": "markdown",
      "source": [
        "<h3><font  color=\"blue\"><strong>3.(Opcional) Implementar em python o código do Random Forest </strong></font></h3> <br>\n",
        "\n",
        "\n",
        "<h3><font  color=\"\"><strong>\n",
        "\n",
        "* Bootstrap\n",
        "* Feature selection\n",
        "* Modelagem com Decision trees\n",
        "* Agregação\n",
        "\n",
        "</strong></font></h3> <br>\n"
      ],
      "metadata": {
        "id": "sA_KavbVJcRz"
      }
    },
    {
      "cell_type": "markdown",
      "source": [
        "<h3><font  color=\"\">\n",
        "O Random Forest oferece muitas opções de ajuste e personalização adicionais, como seleção de recursos mais avançada, ajuste de hiperparâmetros e validação cruzada para uma avaliação mais robusta do desempenho do modelo.\n",
        "</font></h3> <br>\n"
      ],
      "metadata": {
        "id": "GcdwN-K77ybU"
      }
    },
    {
      "cell_type": "code",
      "source": [
        "# Importando as Bibliotecas\n",
        "from sklearn.datasets import load_iris\n",
        "from sklearn.model_selection import train_test_split\n",
        "from sklearn.ensemble import RandomForestClassifier\n",
        "from sklearn.metrics import accuracy_score\n",
        "\n",
        "# Carregar conjunto de dados (exemplo com o conjunto de dados Iris)\n",
        "iris = load_iris()\n",
        "X, y = iris.data, iris.target\n",
        "\n",
        "# Dividir conjunto de dados em treino e teste\n",
        "X_train, X_test, y_train, y_test = train_test_split(X, y, test_size=0.2, random_state=42)\n",
        "\n",
        "# Inicializar o classificador Random Forest com Bootstrap e Feature Selection\n",
        "# Neste exemplo, usaremos 100 árvores e todas as features\n",
        "rf_classifier = RandomForestClassifier(n_estimators=100, max_features=\"auto\")\n",
        "\n",
        "# Treinar o classificador\n",
        "rf_classifier.fit(X_train, y_train)\n",
        "\n",
        "# Prever no conjunto de teste\n",
        "predictions = rf_classifier.predict(X_test)\n",
        "\n",
        "# Avaliar a precisão do modelo\n",
        "accuracy = accuracy_score(y_test, predictions)\n",
        "print(\"Acurácia:\", accuracy)\n"
      ],
      "metadata": {
        "colab": {
          "base_uri": "https://localhost:8080/"
        },
        "id": "5nPJ2IiEK_WM",
        "outputId": "b20269ae-f552-4f7c-bac8-a0181b5c9351"
      },
      "execution_count": 1,
      "outputs": [
        {
          "output_type": "stream",
          "name": "stderr",
          "text": [
            "/usr/local/lib/python3.10/dist-packages/sklearn/ensemble/_forest.py:424: FutureWarning: `max_features='auto'` has been deprecated in 1.1 and will be removed in 1.3. To keep the past behaviour, explicitly set `max_features='sqrt'` or remove this parameter as it is also the default value for RandomForestClassifiers and ExtraTreesClassifiers.\n",
            "  warn(\n"
          ]
        },
        {
          "output_type": "stream",
          "name": "stdout",
          "text": [
            "Acurácia: 1.0\n"
          ]
        }
      ]
    },
    {
      "cell_type": "markdown",
      "source": [
        "### Plotando as árvores de decisão em um modelo Random Forest"
      ],
      "metadata": {
        "id": "7KBDBjIjMTE0"
      }
    },
    {
      "cell_type": "code",
      "source": [
        "# Importando as Bibliotecas\n",
        "from sklearn.tree import export_graphviz\n",
        "import graphviz\n",
        "\n",
        "# Carregar conjunto de dados (exemplo com o conjunto de dados Iris)\n",
        "iris = load_iris()\n",
        "X, y = iris.data, iris.target\n",
        "\n",
        "# Dividir conjunto de dados em treino e teste\n",
        "X_train, X_test, y_train, y_test = train_test_split(X, y, test_size=0.2, random_state=42)\n",
        "\n",
        "# Inicializar o classificador Random Forest com Bootstrap e Feature Selection\n",
        "# Neste exemplo, usaremos 100 árvores e todas as features\n",
        "rf_classifier = RandomForestClassifier(n_estimators=100, max_features=\"auto\")\n",
        "\n",
        "# Treinar o classificador\n",
        "rf_classifier.fit(X_train, y_train)\n",
        "\n",
        "# Escolher uma árvore específica do modelo (por exemplo, a primeira árvore)\n",
        "tree = rf_classifier.estimators_[0]\n",
        "\n",
        "# Exportar a árvore em formato DOT\n",
        "dot_data = export_graphviz(tree, out_file=None,\n",
        "                           feature_names=iris.feature_names,\n",
        "                           class_names=iris.target_names,\n",
        "                           filled=True, rounded=True,\n",
        "                           special_characters=True)\n",
        "\n",
        "# Visualizar a árvore com o Graphviz\n",
        "graph = graphviz.Source(dot_data)\n",
        "graph.render(\"iris_tree\")  # Salvar a árvore em um arquivo\n",
        "graph.view()  # Visualizar a árvore\n"
      ],
      "metadata": {
        "colab": {
          "base_uri": "https://localhost:8080/",
          "height": 89
        },
        "id": "NlteG-_3Luzm",
        "outputId": "9178c04a-4053-44ae-f6ef-5e1581416305"
      },
      "execution_count": 4,
      "outputs": [
        {
          "output_type": "stream",
          "name": "stderr",
          "text": [
            "/usr/local/lib/python3.10/dist-packages/sklearn/ensemble/_forest.py:424: FutureWarning: `max_features='auto'` has been deprecated in 1.1 and will be removed in 1.3. To keep the past behaviour, explicitly set `max_features='sqrt'` or remove this parameter as it is also the default value for RandomForestClassifiers and ExtraTreesClassifiers.\n",
            "  warn(\n"
          ]
        },
        {
          "output_type": "execute_result",
          "data": {
            "text/plain": [
              "'iris_tree.pdf'"
            ],
            "application/vnd.google.colaboratory.intrinsic+json": {
              "type": "string"
            }
          },
          "metadata": {},
          "execution_count": 4
        }
      ]
    }
  ]
}