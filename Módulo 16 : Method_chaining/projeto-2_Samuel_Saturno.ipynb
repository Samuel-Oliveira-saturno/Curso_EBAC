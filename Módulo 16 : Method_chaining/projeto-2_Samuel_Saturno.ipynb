{
 "cells": [
  {
   "cell_type": "markdown",
   "metadata": {},
   "source": [
    "<img src=\"https://raw.githubusercontent.com/andre-marcos-perez/ebac-course-utils/main/media/logo/newebac_logo_black_half.png\" alt=\"ebac-logo\">\n",
    "\n",
    "---\n",
    "\n",
    "# **Módulo 16** |Method_chaining\n",
    "Caderno de **exercício**<br>\n",
    "\n",
    "# Previsão de Renda \n",
    "\n",
    "## Discente: Samuel Saturno"
   ]
  },
  {
   "cell_type": "markdown",
   "metadata": {
    "id": "3x_AtV2sBVI1"
   },
   "source": [
    "### 4 elementos importantes\n",
    "- Esse notebook\n",
    "- Streamlit com as análises\n",
    "- Seu Github com o projeto\n",
    "- Vídeo no readme do github mostrando o streamlit"
   ]
  },
  {
   "cell_type": "markdown",
   "metadata": {
    "id": "wBKZw5-oBVI2"
   },
   "source": [
    "## Etapa 1 CRISP - DM: Entendimento do negócio\n",
    "\n",
    "O principal cliente da empresa, SOS Investimentos, solicitou uma análise para prospectar a aquisição de novas contas e liberar capital para clientes adimplentes. Isso sugere que a empresa está interessada em expandir sua base de clientes ao mesmo tempo em que busca otimizar seus recursos ao liberar capital para clientes confiáveis e adimplentes.\n",
    "\n",
    "Para atender a essa solicitação, é crucial entender os seguintes pontos:\n",
    "\n",
    "* Objetivos do Projeto:\n",
    "\n",
    "Prospectar aquisição de novas contas: identificar potenciais clientes que possam se beneficiar dos serviços e produtos oferecidos pela SOS Investimentos.\n",
    "\n",
    "Liberação de capital para clientes adimplentes: identificar os clientes existentes que têm um histórico sólido de adimplência e são candidatos viáveis para a liberação de mais capital.\n",
    "\n",
    "* Indicadores-Chave de Desempenho (KPIs):\n",
    "        \n",
    "Para prospectar novas contas, os KPIs podem incluir taxas de conversão de leads, retorno sobre investimento (ROI) em campanhas de marketing, e número de novas contas abertas.\n",
    "\n",
    "Para a liberação de capital, os KPIs podem incluir histórico de pagamentos, níveis de risco associados a cada cliente e oportunidades de upselling ou cross-selling.\n",
    "\n",
    "* Recursos Disponíveis:\n",
    "\n",
    "Avaliar os recursos disponíveis em termos de pessoal, tecnologia e dados para conduzir as análises necessárias.\n",
    "\n",
    "Determinar se são necessários investimentos adicionais em ferramentas de análise de dados, campanhas de marketing ou estratégias de retenção de clientes.\n",
    "\n",
    "* Contexto de Mercado e Competitivo:\n",
    "\n",
    "Entender o cenário econômico atual, tendências de mercado e concorrência para informar as estratégias de prospecção e retenção de clientes.\n",
    "\n",
    "Identificar oportunidades únicas ou desafios específicos que podem influenciar as decisões de investimento e liberação de capital.\n",
    "\n",
    "* Estratégias e Planos de Ação:\n",
    "\n",
    "Desenvolver estratégias claras para alcançar os objetivos do projeto, incluindo campanhas de marketing direcionadas, análise de segmentação de clientes e abordagens personalizadas para clientes adimplentes.\n",
    "\n",
    "Estabelecer planos de ação detalhados, incluindo cronogramas, responsabilidades da equipe e métricas de acompanhamento para avaliar o progresso ao longo do tempo.\n",
    "\n",
    "Ao compreender esses aspectos do negócio, a equipe poderá direcionar efetivamente suas análises e esforços para atender às necessidades e expectativas do cliente SOS Investimentos, maximizando assim o valor entregue através da prospecção de novas contas e da liberação estratégica de capital para clientes adimplentes.\n"
   ]
  },
  {
   "cell_type": "markdown",
   "metadata": {
    "id": "Av3bds2cBVI2"
   },
   "source": [
    "## Etapa 2 Crisp-DM: Entendimento dos dados\n",
    "\n",
    "* Data de Referência (data_ref):\n",
    "\n",
    "Verifique se todas as datas estão formatadas de maneira consistente para garantir que possam ser usadas em análises de séries temporais ou para entender a dinâmica dos dados ao longo do tempo.\n",
    "\n",
    "* Código de Identificação do Cliente (id_cliente):\n",
    "\n",
    "Certifique-se de que não há duplicatas ou erros nos códigos de identificação dos clientes, pois isso pode afetar análises que dependem de identificação única de clientes.\n",
    "\n",
    "* Variáveis Categóricas (sexo, tipo_renda, educacao, estado_civil, tipo_residencia):\n",
    "\n",
    "Para variáveis categóricas, é importante verificar se todas as categorias estão corretamente codificadas e se não há valores faltantes ou desconhecidos que possam impactar análises posteriores.\n",
    "\n",
    "* Variáveis Booleanas (posse_de_veiculo, posse_de_imovel):\n",
    "\n",
    "Certifique-se de que essas variáveis estão corretamente codificadas como booleanas (True/False) para facilitar análises que dependem de condições específicas, como posse de veículo ou imóvel.\n",
    "\n",
    "* Variáveis Numéricas (qtd_filhos, idade, tempo_emprego, qt_pessoas_residencia, renda):\n",
    "\n",
    "Verifique se não há valores extremos ou inconsistentes nessas variáveis numéricas, como idades negativas, valores de renda irreais ou tempos de emprego fora do esperado para a realidade do negócio.\n",
    "\n",
    "\n",
    "* Tratamento de Dados Faltantes:\n",
    "\n",
    "Analise se há valores faltantes em alguma das variáveis e decida sobre a melhor abordagem para lidar com esses dados ausentes, seja por imputação de valores, exclusão de registros ou outras técnicas de tratamento de dados faltantes.\n",
    "\n",
    "* Análise Exploratória de Dados (EDA):\n",
    "\n",
    "Realize uma análise exploratória dos dados para entender melhor a distribuição de cada variável, identificar correlações entre variáveis e explorar padrões que possam ser relevantes para os objetivos do projeto.\n",
    "\n",
    "* Preparação de Dados:\n",
    "\n",
    "Prepare os dados de acordo com as necessidades específicas das análises ou modelagens que serão realizadas nas etapas seguintes do projeto, como codificação de variáveis categóricas, normalização de dados numéricos, etc.\n",
    "\n",
    "\n",
    "### Dicionário de dados\n",
    "\n",
    "\n",
    "\n",
    "| Variável                | Descrição                                           | Tipo         |\n",
    "| ----------------------- |:---------------------------------------------------:| ------------:|\n",
    "| data_ref                | Data de referência de coleta das variáveis          |    object    |\n",
    "| id_cliente              | Código de identificação do cliente                  |    int64     |\n",
    "| sexo                    | Sexo do cliente                                     |    object    |\n",
    "| posse_de_veiculo        | Indica se o cliente possui veículo                  |     bool     |\n",
    "| posse_de_imovel         | Indica se o cliente possui imóvel                   |     bool     |\n",
    "| qtd_filhos              | Quantidade de filhos do cliente                     |    int64     |\n",
    "| tipo_renda              | Tipo de renda do cliente                            |    object    |\n",
    "| educacao                | Grau de instrução do cliente                        |    object    |\n",
    "| estado_civil            | Estado civil do cliente                             |    object    |\n",
    "| tipo_residencia         | Tipo de residência do cliente (própria, alugada etc)|    object    |\n",
    "| idade                   | Idade do cliente                                    |    int64     |\n",
    "| tempo_emprego           | Tempo no emprego atual                              |   float64    |\n",
    "| qt_pessoas_residencia   | Quantidade de pessoas que moram na residência       |   float64    |\n",
    "| renda                   | Renda em reais                                      |   float64    |\n",
    "\n",
    "\n",
    "\n"
   ]
  },
  {
   "cell_type": "markdown",
   "metadata": {},
   "source": [
    "### Carregando pacote \"ydata_profiling\" para análise avançadas dos dados. \n"
   ]
  },
  {
   "cell_type": "code",
   "execution_count": 1,
   "metadata": {
    "colab": {
     "base_uri": "https://localhost:8080/"
    },
    "executionInfo": {
     "elapsed": 25710,
     "status": "ok",
     "timestamp": 1711395314592,
     "user": {
      "displayName": "samuel saturno",
      "userId": "00516815470965477804"
     },
     "user_tz": 180
    },
    "id": "EIEKJVjPJZy_",
    "outputId": "9882bff0-75b9-4462-c721-c73d787224d9"
   },
   "outputs": [
    {
     "name": "stdout",
     "output_type": "stream",
     "text": [
      "Requirement already satisfied: ydata_profiling in /home/sos/anaconda3/lib/python3.11/site-packages (4.7.0)\n",
      "Requirement already satisfied: scipy<1.12,>=1.4.1 in /home/sos/anaconda3/lib/python3.11/site-packages (from ydata_profiling) (1.11.1)\n",
      "Requirement already satisfied: pandas!=1.4.0,<3,>1.1 in /home/sos/anaconda3/lib/python3.11/site-packages (from ydata_profiling) (2.0.3)\n",
      "Requirement already satisfied: matplotlib<3.9,>=3.2 in /home/sos/anaconda3/lib/python3.11/site-packages (from ydata_profiling) (3.7.2)\n",
      "Requirement already satisfied: pydantic>=2 in /home/sos/anaconda3/lib/python3.11/site-packages (from ydata_profiling) (2.6.4)\n",
      "Requirement already satisfied: PyYAML<6.1,>=5.0.0 in /home/sos/anaconda3/lib/python3.11/site-packages (from ydata_profiling) (6.0)\n",
      "Requirement already satisfied: jinja2<3.2,>=2.11.1 in /home/sos/anaconda3/lib/python3.11/site-packages (from ydata_profiling) (3.1.2)\n",
      "Requirement already satisfied: visions[type_image_path]<0.7.7,>=0.7.5 in /home/sos/anaconda3/lib/python3.11/site-packages (from ydata_profiling) (0.7.6)\n",
      "Requirement already satisfied: numpy<2,>=1.16.0 in /home/sos/anaconda3/lib/python3.11/site-packages (from ydata_profiling) (1.24.3)\n",
      "Requirement already satisfied: htmlmin==0.1.12 in /home/sos/anaconda3/lib/python3.11/site-packages (from ydata_profiling) (0.1.12)\n",
      "Requirement already satisfied: phik<0.13,>=0.11.1 in /home/sos/anaconda3/lib/python3.11/site-packages (from ydata_profiling) (0.12.4)\n",
      "Requirement already satisfied: requests<3,>=2.24.0 in /home/sos/anaconda3/lib/python3.11/site-packages (from ydata_profiling) (2.31.0)\n",
      "Requirement already satisfied: tqdm<5,>=4.48.2 in /home/sos/anaconda3/lib/python3.11/site-packages (from ydata_profiling) (4.65.0)\n",
      "Requirement already satisfied: seaborn<0.13,>=0.10.1 in /home/sos/anaconda3/lib/python3.11/site-packages (from ydata_profiling) (0.12.2)\n",
      "Requirement already satisfied: multimethod<2,>=1.4 in /home/sos/anaconda3/lib/python3.11/site-packages (from ydata_profiling) (1.11.2)\n",
      "Requirement already satisfied: statsmodels<1,>=0.13.2 in /home/sos/anaconda3/lib/python3.11/site-packages (from ydata_profiling) (0.14.0)\n",
      "Requirement already satisfied: typeguard<5,>=4.1.2 in /home/sos/anaconda3/lib/python3.11/site-packages (from ydata_profiling) (4.2.1)\n",
      "Requirement already satisfied: imagehash==4.3.1 in /home/sos/anaconda3/lib/python3.11/site-packages (from ydata_profiling) (4.3.1)\n",
      "Requirement already satisfied: wordcloud>=1.9.1 in /home/sos/anaconda3/lib/python3.11/site-packages (from ydata_profiling) (1.9.3)\n",
      "Requirement already satisfied: dacite>=1.8 in /home/sos/anaconda3/lib/python3.11/site-packages (from ydata_profiling) (1.8.1)\n",
      "Requirement already satisfied: numba<1,>=0.56.0 in /home/sos/anaconda3/lib/python3.11/site-packages (from ydata_profiling) (0.57.1)\n",
      "Requirement already satisfied: PyWavelets in /home/sos/anaconda3/lib/python3.11/site-packages (from imagehash==4.3.1->ydata_profiling) (1.4.1)\n",
      "Requirement already satisfied: pillow in /home/sos/anaconda3/lib/python3.11/site-packages (from imagehash==4.3.1->ydata_profiling) (10.0.1)\n",
      "Requirement already satisfied: MarkupSafe>=2.0 in /home/sos/anaconda3/lib/python3.11/site-packages (from jinja2<3.2,>=2.11.1->ydata_profiling) (2.1.1)\n",
      "Requirement already satisfied: contourpy>=1.0.1 in /home/sos/anaconda3/lib/python3.11/site-packages (from matplotlib<3.9,>=3.2->ydata_profiling) (1.0.5)\n",
      "Requirement already satisfied: cycler>=0.10 in /home/sos/anaconda3/lib/python3.11/site-packages (from matplotlib<3.9,>=3.2->ydata_profiling) (0.11.0)\n",
      "Requirement already satisfied: fonttools>=4.22.0 in /home/sos/anaconda3/lib/python3.11/site-packages (from matplotlib<3.9,>=3.2->ydata_profiling) (4.25.0)\n",
      "Requirement already satisfied: kiwisolver>=1.0.1 in /home/sos/anaconda3/lib/python3.11/site-packages (from matplotlib<3.9,>=3.2->ydata_profiling) (1.4.4)\n",
      "Requirement already satisfied: packaging>=20.0 in /home/sos/anaconda3/lib/python3.11/site-packages (from matplotlib<3.9,>=3.2->ydata_profiling) (23.1)\n",
      "Requirement already satisfied: pyparsing<3.1,>=2.3.1 in /home/sos/anaconda3/lib/python3.11/site-packages (from matplotlib<3.9,>=3.2->ydata_profiling) (3.0.9)\n",
      "Requirement already satisfied: python-dateutil>=2.7 in /home/sos/anaconda3/lib/python3.11/site-packages (from matplotlib<3.9,>=3.2->ydata_profiling) (2.8.2)\n",
      "Requirement already satisfied: llvmlite<0.41,>=0.40.0dev0 in /home/sos/anaconda3/lib/python3.11/site-packages (from numba<1,>=0.56.0->ydata_profiling) (0.40.0)\n",
      "Requirement already satisfied: pytz>=2020.1 in /home/sos/anaconda3/lib/python3.11/site-packages (from pandas!=1.4.0,<3,>1.1->ydata_profiling) (2023.3.post1)\n",
      "Requirement already satisfied: tzdata>=2022.1 in /home/sos/anaconda3/lib/python3.11/site-packages (from pandas!=1.4.0,<3,>1.1->ydata_profiling) (2023.3)\n",
      "Requirement already satisfied: joblib>=0.14.1 in /home/sos/anaconda3/lib/python3.11/site-packages (from phik<0.13,>=0.11.1->ydata_profiling) (1.2.0)\n",
      "Requirement already satisfied: annotated-types>=0.4.0 in /home/sos/anaconda3/lib/python3.11/site-packages (from pydantic>=2->ydata_profiling) (0.6.0)\n",
      "Requirement already satisfied: pydantic-core==2.16.3 in /home/sos/anaconda3/lib/python3.11/site-packages (from pydantic>=2->ydata_profiling) (2.16.3)\n",
      "Requirement already satisfied: typing-extensions>=4.6.1 in /home/sos/anaconda3/lib/python3.11/site-packages (from pydantic>=2->ydata_profiling) (4.10.0)\n",
      "Requirement already satisfied: charset-normalizer<4,>=2 in /home/sos/anaconda3/lib/python3.11/site-packages (from requests<3,>=2.24.0->ydata_profiling) (2.0.4)\n",
      "Requirement already satisfied: idna<4,>=2.5 in /home/sos/anaconda3/lib/python3.11/site-packages (from requests<3,>=2.24.0->ydata_profiling) (3.4)\n",
      "Requirement already satisfied: urllib3<3,>=1.21.1 in /home/sos/anaconda3/lib/python3.11/site-packages (from requests<3,>=2.24.0->ydata_profiling) (1.26.16)\n",
      "Requirement already satisfied: certifi>=2017.4.17 in /home/sos/anaconda3/lib/python3.11/site-packages (from requests<3,>=2.24.0->ydata_profiling) (2024.2.2)\n",
      "Requirement already satisfied: patsy>=0.5.2 in /home/sos/anaconda3/lib/python3.11/site-packages (from statsmodels<1,>=0.13.2->ydata_profiling) (0.5.3)\n",
      "Requirement already satisfied: attrs>=19.3.0 in /home/sos/anaconda3/lib/python3.11/site-packages (from visions[type_image_path]<0.7.7,>=0.7.5->ydata_profiling) (22.1.0)\n",
      "Requirement already satisfied: networkx>=2.4 in /home/sos/anaconda3/lib/python3.11/site-packages (from visions[type_image_path]<0.7.7,>=0.7.5->ydata_profiling) (3.1)\n",
      "Requirement already satisfied: six in /home/sos/anaconda3/lib/python3.11/site-packages (from patsy>=0.5.2->statsmodels<1,>=0.13.2->ydata_profiling) (1.16.0)\n"
     ]
    }
   ],
   "source": [
    "!pip install ydata_profiling"
   ]
  },
  {
   "cell_type": "markdown",
   "metadata": {},
   "source": [
    "### Importando as Bibliotecas "
   ]
  },
  {
   "cell_type": "code",
   "execution_count": 34,
   "metadata": {
    "executionInfo": {
     "elapsed": 4926,
     "status": "ok",
     "timestamp": 1711395431630,
     "user": {
      "displayName": "samuel saturno",
      "userId": "00516815470965477804"
     },
     "user_tz": 180
    },
    "id": "DOheHy6NBVI4"
   },
   "outputs": [],
   "source": [
    "import pandas as pd\n",
    "import numpy as np\n",
    "import seaborn as sns\n",
    "import scipy.stats as stats\n",
    "from pathlib import Path\n",
    "import pandas_profiling\n",
    "import os\n",
    "import sys \n",
    "import matplotlib.pyplot as plt\n",
    "from ydata_profiling import ProfileReport\n",
    "\n",
    "from sklearn.preprocessing import StandardScaler\n",
    "from sklearn.model_selection import train_test_split\n",
    "from sklearn.linear_model import LinearRegression\n",
    "from sklearn.metrics import mean_squared_error, r2_score\n",
    "from sklearn.preprocessing import MinMaxScaler, StandardScaler\n",
    "\n",
    "%matplotlib inline\n"
   ]
  },
  {
   "cell_type": "markdown",
   "metadata": {},
   "source": [
    "### Carregando o Dataframe \"previsao_de_renda.csv\""
   ]
  },
  {
   "cell_type": "code",
   "execution_count": 4,
   "metadata": {
    "id": "UK3UIpMCBVI5"
   },
   "outputs": [
    {
     "data": {
      "text/html": [
       "<div>\n",
       "<style scoped>\n",
       "    .dataframe tbody tr th:only-of-type {\n",
       "        vertical-align: middle;\n",
       "    }\n",
       "\n",
       "    .dataframe tbody tr th {\n",
       "        vertical-align: top;\n",
       "    }\n",
       "\n",
       "    .dataframe thead th {\n",
       "        text-align: right;\n",
       "    }\n",
       "</style>\n",
       "<table border=\"1\" class=\"dataframe\">\n",
       "  <thead>\n",
       "    <tr style=\"text-align: right;\">\n",
       "      <th></th>\n",
       "      <th>Unnamed: 0</th>\n",
       "      <th>data_ref</th>\n",
       "      <th>id_cliente</th>\n",
       "      <th>sexo</th>\n",
       "      <th>posse_de_veiculo</th>\n",
       "      <th>posse_de_imovel</th>\n",
       "      <th>qtd_filhos</th>\n",
       "      <th>tipo_renda</th>\n",
       "      <th>educacao</th>\n",
       "      <th>estado_civil</th>\n",
       "      <th>tipo_residencia</th>\n",
       "      <th>idade</th>\n",
       "      <th>tempo_emprego</th>\n",
       "      <th>qt_pessoas_residencia</th>\n",
       "      <th>renda</th>\n",
       "    </tr>\n",
       "  </thead>\n",
       "  <tbody>\n",
       "    <tr>\n",
       "      <th>0</th>\n",
       "      <td>0</td>\n",
       "      <td>2015-01-01</td>\n",
       "      <td>15056</td>\n",
       "      <td>F</td>\n",
       "      <td>False</td>\n",
       "      <td>True</td>\n",
       "      <td>0</td>\n",
       "      <td>Empresário</td>\n",
       "      <td>Secundário</td>\n",
       "      <td>Solteiro</td>\n",
       "      <td>Casa</td>\n",
       "      <td>26</td>\n",
       "      <td>6.60274</td>\n",
       "      <td>1.0</td>\n",
       "      <td>8060.34</td>\n",
       "    </tr>\n",
       "  </tbody>\n",
       "</table>\n",
       "</div>"
      ],
      "text/plain": [
       "   Unnamed: 0    data_ref  id_cliente sexo  posse_de_veiculo  posse_de_imovel  \\\n",
       "0           0  2015-01-01       15056    F             False             True   \n",
       "\n",
       "   qtd_filhos  tipo_renda    educacao estado_civil tipo_residencia  idade  \\\n",
       "0           0  Empresário  Secundário     Solteiro            Casa     26   \n",
       "\n",
       "   tempo_emprego  qt_pessoas_residencia    renda  \n",
       "0        6.60274                    1.0  8060.34  "
      ]
     },
     "execution_count": 4,
     "metadata": {},
     "output_type": "execute_result"
    }
   ],
   "source": [
    "renda = pd.read_csv('previsao_de_renda.csv')\n",
    "profile = ProfileReport(renda, title=\"Profiling Report\")\n",
    "\n",
    "#renda = pd.DataFrame(renda)\n",
    "# Exibir a primeira linha do Dataframe \n",
    "renda.head(1)"
   ]
  },
  {
   "cell_type": "code",
   "execution_count": 5,
   "metadata": {},
   "outputs": [],
   "source": [
    "# Drop da coluna 'Unnamed: 0'\n",
    "renda.drop('Unnamed: 0', axis=1, inplace=True)"
   ]
  },
  {
   "cell_type": "code",
   "execution_count": 6,
   "metadata": {},
   "outputs": [
    {
     "data": {
      "text/html": [
       "<div>\n",
       "<style scoped>\n",
       "    .dataframe tbody tr th:only-of-type {\n",
       "        vertical-align: middle;\n",
       "    }\n",
       "\n",
       "    .dataframe tbody tr th {\n",
       "        vertical-align: top;\n",
       "    }\n",
       "\n",
       "    .dataframe thead th {\n",
       "        text-align: right;\n",
       "    }\n",
       "</style>\n",
       "<table border=\"1\" class=\"dataframe\">\n",
       "  <thead>\n",
       "    <tr style=\"text-align: right;\">\n",
       "      <th></th>\n",
       "      <th>data_ref</th>\n",
       "      <th>id_cliente</th>\n",
       "      <th>sexo</th>\n",
       "      <th>posse_de_veiculo</th>\n",
       "      <th>posse_de_imovel</th>\n",
       "      <th>qtd_filhos</th>\n",
       "      <th>tipo_renda</th>\n",
       "      <th>educacao</th>\n",
       "      <th>estado_civil</th>\n",
       "      <th>tipo_residencia</th>\n",
       "      <th>idade</th>\n",
       "      <th>tempo_emprego</th>\n",
       "      <th>qt_pessoas_residencia</th>\n",
       "      <th>renda</th>\n",
       "    </tr>\n",
       "  </thead>\n",
       "  <tbody>\n",
       "    <tr>\n",
       "      <th>0</th>\n",
       "      <td>2015-01-01</td>\n",
       "      <td>15056</td>\n",
       "      <td>F</td>\n",
       "      <td>False</td>\n",
       "      <td>True</td>\n",
       "      <td>0</td>\n",
       "      <td>Empresário</td>\n",
       "      <td>Secundário</td>\n",
       "      <td>Solteiro</td>\n",
       "      <td>Casa</td>\n",
       "      <td>26</td>\n",
       "      <td>6.60274</td>\n",
       "      <td>1.0</td>\n",
       "      <td>8060.34</td>\n",
       "    </tr>\n",
       "  </tbody>\n",
       "</table>\n",
       "</div>"
      ],
      "text/plain": [
       "     data_ref  id_cliente sexo  posse_de_veiculo  posse_de_imovel  qtd_filhos  \\\n",
       "0  2015-01-01       15056    F             False             True           0   \n",
       "\n",
       "   tipo_renda    educacao estado_civil tipo_residencia  idade  tempo_emprego  \\\n",
       "0  Empresário  Secundário     Solteiro            Casa     26        6.60274   \n",
       "\n",
       "   qt_pessoas_residencia    renda  \n",
       "0                    1.0  8060.34  "
      ]
     },
     "execution_count": 6,
     "metadata": {},
     "output_type": "execute_result"
    }
   ],
   "source": [
    "#renda = pd.DataFrame(renda) após drop de coluna \n",
    "renda.head(1)"
   ]
  },
  {
   "cell_type": "markdown",
   "metadata": {
    "id": "CWw7j_MYBVI6"
   },
   "source": [
    "#### Entendimento dos dados - Univariada\n",
    "Nesta etapa tipicamente avaliamos a distribuição de todas as variáveis."
   ]
  },
  {
   "cell_type": "code",
   "execution_count": 7,
   "metadata": {},
   "outputs": [
    {
     "data": {
      "application/vnd.jupyter.widget-view+json": {
       "model_id": "deb6839776384dff8ad7e0920737aad1",
       "version_major": 2,
       "version_minor": 0
      },
      "text/plain": [
       "Summarize dataset:   0%|          | 0/5 [00:00<?, ?it/s]"
      ]
     },
     "metadata": {},
     "output_type": "display_data"
    },
    {
     "data": {
      "application/vnd.jupyter.widget-view+json": {
       "model_id": "3be9b82a15e045d99efa94b6610da0ec",
       "version_major": 2,
       "version_minor": 0
      },
      "text/plain": [
       "Generate report structure:   0%|          | 0/1 [00:00<?, ?it/s]"
      ]
     },
     "metadata": {},
     "output_type": "display_data"
    },
    {
     "data": {
      "application/vnd.jupyter.widget-view+json": {
       "model_id": "31c39f527b0d4d8eabc6ad753c73342d",
       "version_major": 2,
       "version_minor": 0
      },
      "text/plain": [
       "Render HTML:   0%|          | 0/1 [00:00<?, ?it/s]"
      ]
     },
     "metadata": {},
     "output_type": "display_data"
    },
    {
     "data": {
      "application/vnd.jupyter.widget-view+json": {
       "model_id": "6573b18479124d6c97093f74ea2b14a8",
       "version_major": 2,
       "version_minor": 0
      },
      "text/plain": [
       "Export report to file:   0%|          | 0/1 [00:00<?, ?it/s]"
      ]
     },
     "metadata": {},
     "output_type": "display_data"
    }
   ],
   "source": [
    "# Aplicando pandas profiling \n",
    "# Gerar relatório \n",
    "prof = ProfileReport(renda, explorative=True, minimal=True)\n",
    "\n",
    "# Criar diretório de saída \n",
    "output_dir = Path('./output')\n",
    "output_dir.mkdir(parents=True, exist_ok=True)\n",
    "\n",
    "# Salve o relatório em arquivo \n",
    "prof.to_file(output_dir / 'renda_analisys.html')\n"
   ]
  },
  {
   "cell_type": "markdown",
   "metadata": {
    "id": "T20aoKBWBVI6"
   },
   "source": [
    "### Entendimento dos dados - Bivariadas\n",
    "\n",
    "\n"
   ]
  },
  {
   "cell_type": "code",
   "execution_count": 8,
   "metadata": {
    "id": "AjekMGRKBVI7"
   },
   "outputs": [],
   "source": [
    "# Selecionar apenas as variáveis quantitativas do DataFrame\n",
    "renda_quantitativa = renda.select_dtypes(include=['int64', 'float64'])"
   ]
  },
  {
   "cell_type": "code",
   "execution_count": 9,
   "metadata": {},
   "outputs": [
    {
     "data": {
      "text/html": [
       "<div>\n",
       "<style scoped>\n",
       "    .dataframe tbody tr th:only-of-type {\n",
       "        vertical-align: middle;\n",
       "    }\n",
       "\n",
       "    .dataframe tbody tr th {\n",
       "        vertical-align: top;\n",
       "    }\n",
       "\n",
       "    .dataframe thead th {\n",
       "        text-align: right;\n",
       "    }\n",
       "</style>\n",
       "<table border=\"1\" class=\"dataframe\">\n",
       "  <thead>\n",
       "    <tr style=\"text-align: right;\">\n",
       "      <th></th>\n",
       "      <th>id_cliente</th>\n",
       "      <th>qtd_filhos</th>\n",
       "      <th>idade</th>\n",
       "      <th>tempo_emprego</th>\n",
       "      <th>qt_pessoas_residencia</th>\n",
       "      <th>renda</th>\n",
       "    </tr>\n",
       "  </thead>\n",
       "  <tbody>\n",
       "    <tr>\n",
       "      <th>id_cliente</th>\n",
       "      <td>1.000000</td>\n",
       "      <td>0.030296</td>\n",
       "      <td>-0.057812</td>\n",
       "      <td>-0.036373</td>\n",
       "      <td>0.037951</td>\n",
       "      <td>-0.009129</td>\n",
       "    </tr>\n",
       "    <tr>\n",
       "      <th>qtd_filhos</th>\n",
       "      <td>0.030296</td>\n",
       "      <td>1.000000</td>\n",
       "      <td>-0.360426</td>\n",
       "      <td>-0.063220</td>\n",
       "      <td>0.889777</td>\n",
       "      <td>0.029346</td>\n",
       "    </tr>\n",
       "    <tr>\n",
       "      <th>idade</th>\n",
       "      <td>-0.057812</td>\n",
       "      <td>-0.360426</td>\n",
       "      <td>1.000000</td>\n",
       "      <td>0.321573</td>\n",
       "      <td>-0.339320</td>\n",
       "      <td>0.022435</td>\n",
       "    </tr>\n",
       "    <tr>\n",
       "      <th>tempo_emprego</th>\n",
       "      <td>-0.036373</td>\n",
       "      <td>-0.063220</td>\n",
       "      <td>0.321573</td>\n",
       "      <td>1.000000</td>\n",
       "      <td>-0.065670</td>\n",
       "      <td>0.385013</td>\n",
       "    </tr>\n",
       "    <tr>\n",
       "      <th>qt_pessoas_residencia</th>\n",
       "      <td>0.037951</td>\n",
       "      <td>0.889777</td>\n",
       "      <td>-0.339320</td>\n",
       "      <td>-0.065670</td>\n",
       "      <td>1.000000</td>\n",
       "      <td>0.047842</td>\n",
       "    </tr>\n",
       "    <tr>\n",
       "      <th>renda</th>\n",
       "      <td>-0.009129</td>\n",
       "      <td>0.029346</td>\n",
       "      <td>0.022435</td>\n",
       "      <td>0.385013</td>\n",
       "      <td>0.047842</td>\n",
       "      <td>1.000000</td>\n",
       "    </tr>\n",
       "  </tbody>\n",
       "</table>\n",
       "</div>"
      ],
      "text/plain": [
       "                       id_cliente  qtd_filhos     idade  tempo_emprego  \\\n",
       "id_cliente               1.000000    0.030296 -0.057812      -0.036373   \n",
       "qtd_filhos               0.030296    1.000000 -0.360426      -0.063220   \n",
       "idade                   -0.057812   -0.360426  1.000000       0.321573   \n",
       "tempo_emprego           -0.036373   -0.063220  0.321573       1.000000   \n",
       "qt_pessoas_residencia    0.037951    0.889777 -0.339320      -0.065670   \n",
       "renda                   -0.009129    0.029346  0.022435       0.385013   \n",
       "\n",
       "                       qt_pessoas_residencia     renda  \n",
       "id_cliente                          0.037951 -0.009129  \n",
       "qtd_filhos                          0.889777  0.029346  \n",
       "idade                              -0.339320  0.022435  \n",
       "tempo_emprego                      -0.065670  0.385013  \n",
       "qt_pessoas_residencia               1.000000  0.047842  \n",
       "renda                               0.047842  1.000000  "
      ]
     },
     "execution_count": 9,
     "metadata": {},
     "output_type": "execute_result"
    }
   ],
   "source": [
    "# Exibir a correlação entre as variáveis \n",
    "renda_quantitativa.corr()"
   ]
  },
  {
   "cell_type": "code",
   "execution_count": 10,
   "metadata": {},
   "outputs": [
    {
     "data": {
      "text/plain": [
       "posse_de_imovel\n",
       "False    [6475.97, 6402.41, 581.18, 3675.33, 856.31, 10...\n",
       "True     [8060.34, 1852.15, 2253.89, 6600.77, 1445.87, ...\n",
       "Name: renda, dtype: object"
      ]
     },
     "execution_count": 10,
     "metadata": {},
     "output_type": "execute_result"
    }
   ],
   "source": [
    "# Dividir o DataFrame em grupos com base na posse de imóvel\n",
    "grupo_posse_imovel = renda.groupby('posse_de_imovel')['renda'].apply(list)\n",
    "\n",
    "# Visualizando os dados\n",
    "grupo_posse_imovel\n"
   ]
  },
  {
   "cell_type": "code",
   "execution_count": 11,
   "metadata": {},
   "outputs": [],
   "source": [
    "# Teste t para comparar as médias de renda entre os grupos\n",
    "t_stat_imovel, p_valor_imovel = stats.ttest_ind(grupo_posse_imovel[0], grupo_posse_imovel[1])\n"
   ]
  },
  {
   "cell_type": "code",
   "execution_count": 12,
   "metadata": {},
   "outputs": [
    {
     "name": "stdout",
     "output_type": "stream",
     "text": [
      "Posse de imóvel:\n",
      "   Teste t-valor: -0.47512780825537565\n",
      "   Valor p: 0.6347027976671364\n"
     ]
    }
   ],
   "source": [
    "# Visualizando os dados de teste\n",
    "print(\"Posse de imóvel:\")\n",
    "print(\"   Teste t-valor:\", t_stat_imovel)\n",
    "print(\"   Valor p:\", p_valor_imovel)"
   ]
  },
  {
   "cell_type": "markdown",
   "metadata": {},
   "source": []
  },
  {
   "cell_type": "code",
   "execution_count": 13,
   "metadata": {},
   "outputs": [
    {
     "data": {
      "text/plain": [
       "posse_de_veiculo\n",
       "False    [8060.34, 6600.77, 1445.87, 1726.03, 2515.98, ...\n",
       "True     [1852.15, 2253.89, 6475.97, 12939.14, 581.18, ...\n",
       "Name: renda, dtype: object"
      ]
     },
     "execution_count": 13,
     "metadata": {},
     "output_type": "execute_result"
    }
   ],
   "source": [
    "# Dividir o DataFrame em grupos com base na posse de veículo\n",
    "grupo_posse_veiculo = renda.groupby('posse_de_veiculo')['renda'].apply(list)\n",
    "\n",
    "# visualizando os grupo\n",
    "grupo_posse_veiculo"
   ]
  },
  {
   "cell_type": "code",
   "execution_count": 14,
   "metadata": {},
   "outputs": [
    {
     "name": "stdout",
     "output_type": "stream",
     "text": [
      "Posse de veículo:\n",
      "   Teste t-valor: -12.369567394143342\n",
      "   Valor p: 5.655201142039675e-35\n"
     ]
    }
   ],
   "source": [
    "# Teste t para comparar as médias de renda entre os grupos\n",
    "t_stat_veiculo, p_valor_veiculo = stats.ttest_ind(grupo_posse_veiculo[0], grupo_posse_veiculo[1])\n",
    "\n",
    "# Visualizando o valores de teste\n",
    "print(\"Posse de veículo:\")\n",
    "print(\"   Teste t-valor:\", t_stat_veiculo)\n",
    "print(\"   Valor p:\", p_valor_veiculo)"
   ]
  },
  {
   "cell_type": "markdown",
   "metadata": {},
   "source": []
  },
  {
   "cell_type": "markdown",
   "metadata": {
    "id": "JGBoFT0QBVI7"
   },
   "source": [
    "## Etapa 3 Crisp-DM: Preparação dos dados"
   ]
  },
  {
   "cell_type": "markdown",
   "metadata": {
    "id": "drg_EmqlBVI7"
   },
   "source": [
    "* **Seleção**:\n",
    "        Nesta etapa, devemos avaliar se os dados que temos selecionados são adequados para os objetivos do projeto. Isso envolve verificar se todas as variáveis necessárias estão presentes e se não há excesso de variáveis irrelevantes que possam prejudicar a análise.\n",
    "\n",
    "* **Limpeza**:\n",
    "        A limpeza de dados é uma parte crucial da preparação dos dados. Devemos identificar e tratar dados faltantes (valores ausentes), outliers (valores extremos que podem distorcer análises), erros de digitação e inconsistências nos dados. Métodos como imputação de valores faltantes, remoção de outliers e correção de erros podem ser aplicados nesta etapa.\n",
    "\n",
    "* **Construção**:\n",
    "        A construção de novas variáveis envolve a criação de características adicionais que podem ser úteis para a análise e modelagem. Isso pode incluir a transformação de variáveis existentes, criação de variáveis derivadas (como proporções, índices, variáveis categóricas a partir de variáveis numéricas) e criação de variáveis dummy para representar variáveis categóricas em modelos.\n",
    "\n",
    "* **Integração**:\n",
    "        Se houver múltiplas fontes de dados relevantes para o projeto, a etapa de integração seria necessária para combinar esses dados de forma coesa. No seu caso, se você possui apenas uma fonte de dados, essa etapa não seria necessária.\n",
    "\n",
    "* **Formatação**:\n",
    "        A formatação dos dados envolve garantir que os dados estejam em formatos úteis para análise. Isso inclui garantir que as variáveis estejam no tipo de dados correto (por exemplo, variáveis numéricas como float64 ou int64, variáveis categóricas como object ou category), que as datas estejam no formato correto, e que não haja problemas de codificação nos dados.\n",
    "\n"
   ]
  },
  {
   "cell_type": "code",
   "execution_count": 36,
   "metadata": {
    "id": "NrmpTTqtBVI7"
   },
   "outputs": [
    {
     "name": "stdout",
     "output_type": "stream",
     "text": [
      "     data_ref  id_cliente sexo  posse_de_veiculo  posse_de_imovel  qtd_filhos  \\\n",
      "0  2015-01-01       15056    F             False             True           0   \n",
      "1  2015-01-01        9968    M              True             True           0   \n",
      "2  2015-01-01        4312    F              True             True           0   \n",
      "3  2015-01-01       10639    F             False             True           1   \n",
      "4  2015-01-01        7064    M              True            False           0   \n",
      "\n",
      "         tipo_renda           educacao estado_civil tipo_residencia  idade  \\\n",
      "0        Empresário         Secundário     Solteiro            Casa     26   \n",
      "1       Assalariado  Superior completo       Casado            Casa     28   \n",
      "2        Empresário  Superior completo       Casado            Casa     35   \n",
      "3  Servidor público  Superior completo       Casado            Casa     30   \n",
      "4       Assalariado         Secundário     Solteiro   Governamental     33   \n",
      "\n",
      "   tempo_emprego  qt_pessoas_residencia    renda  renda_maior_media  \n",
      "0       6.602740                    1.0  8060.34               True  \n",
      "1       7.183562                    2.0  1852.15              False  \n",
      "2       0.838356                    2.0  2253.89              False  \n",
      "3       4.846575                    3.0  6600.77               True  \n",
      "4       4.293151                    1.0  6475.97               True  \n",
      "Index(['data_ref', 'id_cliente', 'sexo', 'posse_de_veiculo', 'posse_de_imovel',\n",
      "       'qtd_filhos', 'tipo_renda', 'educacao', 'estado_civil',\n",
      "       'tipo_residencia', 'idade', 'tempo_emprego', 'qt_pessoas_residencia',\n",
      "       'renda', 'renda_maior_media'],\n",
      "      dtype='object')\n",
      "data_ref                 0\n",
      "id_cliente               0\n",
      "sexo                     0\n",
      "posse_de_veiculo         0\n",
      "posse_de_imovel          0\n",
      "qtd_filhos               0\n",
      "tipo_renda               0\n",
      "educacao                 0\n",
      "estado_civil             0\n",
      "tipo_residencia          0\n",
      "idade                    0\n",
      "tempo_emprego            0\n",
      "qt_pessoas_residencia    0\n",
      "renda                    0\n",
      "renda_maior_media        0\n",
      "dtype: int64\n",
      "data_ref                 0\n",
      "id_cliente               0\n",
      "sexo                     0\n",
      "posse_de_veiculo         0\n",
      "posse_de_imovel          0\n",
      "qtd_filhos               0\n",
      "tipo_renda               0\n",
      "educacao                 0\n",
      "estado_civil             0\n",
      "tipo_residencia          0\n",
      "idade                    0\n",
      "tempo_emprego            0\n",
      "qt_pessoas_residencia    0\n",
      "renda                    0\n",
      "renda_maior_media        0\n",
      "dtype: int64\n",
      "<class 'pandas.core.frame.DataFrame'>\n",
      "Index: 12860 entries, 0 to 14999\n",
      "Data columns (total 15 columns):\n",
      " #   Column                 Non-Null Count  Dtype  \n",
      "---  ------                 --------------  -----  \n",
      " 0   data_ref               12860 non-null  object \n",
      " 1   id_cliente             12860 non-null  int64  \n",
      " 2   sexo                   12860 non-null  object \n",
      " 3   posse_de_veiculo       12860 non-null  bool   \n",
      " 4   posse_de_imovel        12860 non-null  bool   \n",
      " 5   qtd_filhos             12860 non-null  int64  \n",
      " 6   tipo_renda             12860 non-null  object \n",
      " 7   educacao               12860 non-null  object \n",
      " 8   estado_civil           12860 non-null  object \n",
      " 9   tipo_residencia        12860 non-null  object \n",
      " 10  idade                  12860 non-null  int64  \n",
      " 11  tempo_emprego          12860 non-null  float64\n",
      " 12  qt_pessoas_residencia  12860 non-null  float64\n",
      " 13  renda                  12860 non-null  float64\n",
      " 14  renda_maior_media      12860 non-null  bool   \n",
      "dtypes: bool(3), float64(3), int64(3), object(6)\n",
      "memory usage: 1.3+ MB\n",
      "None\n"
     ]
    }
   ],
   "source": [
    "\n",
    "# Verificar as primeiras linhas do DataFrame para entender a estrutura dos dados\n",
    "print(renda.head())\n",
    "\n",
    "# Verificar se as colunas necessárias estão presentes e se há excesso de variáveis irrelevantes\n",
    "print(renda.columns)\n",
    "\n",
    "# Verificar se há dados faltantes (valores ausentes) no DataFrame\n",
    "print(renda.isnull().sum())\n",
    "\n",
    "# Identificar e tratar dados faltantes, outliers e inconsistências nos dados\n",
    "renda['tempo_emprego'].fillna(renda['tempo_emprego'].median(), inplace=True)\n",
    "\n",
    "\n",
    "# Exemplo de remoção de outliers: remover valores acima de um limite específico\n",
    "limite_superior = renda['renda'].quantile(0.95)  # Definindo o limite superior como o quantil de 95%\n",
    "renda = renda[renda['renda'] <= limite_superior]\n",
    "\n",
    "# Verificar novamente se há dados faltantes após o tratamento\n",
    "print(renda.isnull().sum())\n",
    "\n",
    "# Criar novas variáveis, se necessário\n",
    "# Exemplo: criar uma variável 'renda_maior_media' indicando se a renda é maior que a média\n",
    "media_renda = renda['renda'].mean()\n",
    "renda['renda_maior_media'] = renda['renda'] > media_renda\n",
    "\n",
    "# Verificar a estrutura do DataFrame após as operações de limpeza e construção\n",
    "print(renda.info())\n",
    "\n",
    "# Salvar o DataFrame modificado se desejar\n",
    "# renda.to_csv('novo_arquivo.csv', index=False)\n",
    "\n"
   ]
  },
  {
   "cell_type": "markdown",
   "metadata": {
    "id": "2OZFVWJVBVI7"
   },
   "source": [
    "## Etapa 4 Crisp-DM: Modelagem\n",
    "Nessa etapa que realizaremos a construção do modelo. Os passos típicos são:\n",
    "- Selecionar a técnica de modelagem\n",
    "- Desenho do teste\n",
    "- Avaliação do modelo\n"
   ]
  },
  {
   "cell_type": "markdown",
   "metadata": {
    "id": "CEnzh4JBBVI7"
   },
   "source": [
    "### Selecionar a Técnica de Modelagem:\n",
    "        \n",
    "Com base nas variáveis fornecidas, temos uma combinação de variáveis numéricas (int64, float64) e categóricas (object, bool). A escolha da técnica de modelagem dependerá do tipo de problema que você deseja resolver. Alguns exemplos de técnicas de modelagem incluem regressão linear para prever uma variável contínua como renda, regressão logística para problemas de classificação binária, ou até mesmo modelos de árvore de decisão para lidar com variáveis categóricas.\n",
    "        Se você puder fornecer mais detalhes sobre o objetivo específico do modelo (por exemplo, prever a renda, determinar a posse de imóvel com base em outras variáveis, etc.), será possível sugerir uma técnica de modelagem mais adequada.\n",
    "\n",
    "### Desenho do Teste:\n",
    "\n",
    "O desenho do teste envolve dividir o conjunto de dados em conjuntos de treinamento e teste para avaliar o desempenho do modelo. Como parte do desenho do teste, também é importante considerar técnicas como validação cruzada para garantir que o modelo seja robusto e generalize bem para dados não vistos.\n",
    "        Você pode usar a função train_test_split da biblioteca scikit-learn para dividir os dados em conjunto de treinamento e teste.\n",
    "\n",
    "### Avaliação do Modelo:\n",
    "\n",
    "Após treinar o modelo e fazer previsões nos dados de teste, é crucial avaliar o desempenho do modelo. Para problemas de regressão, métricas como o coeficiente de determinação (R²), erro médio absoluto (MAE) e erro quadrático médio (MSE) são comuns. Para problemas de classificação, métricas como acurácia, precisão, recall, F1-score e AUC-ROC são importantes para avaliar o desempenho do modelo.\n",
    "\n"
   ]
  },
  {
   "cell_type": "markdown",
   "metadata": {
    "id": "lu8mspJwBVI8"
   },
   "source": [
    "### Rodando o modelo\n"
   ]
  },
  {
   "cell_type": "code",
   "execution_count": 23,
   "metadata": {},
   "outputs": [
    {
     "data": {
      "text/plain": [
       "Index(['data_ref', 'id_cliente', 'sexo', 'posse_de_veiculo', 'posse_de_imovel',\n",
       "       'qtd_filhos', 'tipo_renda', 'educacao', 'estado_civil',\n",
       "       'tipo_residencia', 'idade', 'tempo_emprego', 'qt_pessoas_residencia',\n",
       "       'renda', 'renda_maior_media'],\n",
       "      dtype='object')"
      ]
     },
     "execution_count": 23,
     "metadata": {},
     "output_type": "execute_result"
    }
   ],
   "source": [
    "renda.columns"
   ]
  },
  {
   "cell_type": "code",
   "execution_count": 26,
   "metadata": {
    "id": "rUAlcg47BVI8"
   },
   "outputs": [
    {
     "name": "stdout",
     "output_type": "stream",
     "text": [
      "Erro quadrático médio (MSE): 6145838.34\n",
      "Coeficiente de determinação (R²): 0.07\n"
     ]
    }
   ],
   "source": [
    "# Selecionar as features e a variável alvo\n",
    "X = renda[['qtd_filhos', 'idade','tempo_emprego' , 'qt_pessoas_residencia']]\n",
    "y = renda['renda']\n",
    "\n",
    "# Dividir os dados em conjunto de treinamento e teste\n",
    "X_train, X_test, y_train, y_test = train_test_split(X, y, test_size=0.2, random_state=42)\n",
    "\n",
    "# Inicializar e treinar o modelo de regressão linear\n",
    "model = LinearRegression()\n",
    "model.fit(X_train, y_train)\n",
    "\n",
    "# Fazer previsões com o conjunto de teste\n",
    "y_pred = model.predict(X_test)\n",
    "\n",
    "# Avaliar o desempenho do modelo\n",
    "mse = mean_squared_error(y_test, y_pred)\n",
    "r2 = r2_score(y_test, y_pred)\n",
    "\n",
    "print(f'Erro quadrático médio (MSE): {mse:.2f}')\n",
    "print(f'Coeficiente de determinação (R²): {r2:.2f}')\n"
   ]
  },
  {
   "cell_type": "code",
   "execution_count": 27,
   "metadata": {},
   "outputs": [],
   "source": [
    "# Padronização\n",
    "scaler = StandardScaler()\n",
    "X_standardized = scaler.fit_transform(X)\n"
   ]
  },
  {
   "cell_type": "code",
   "execution_count": 29,
   "metadata": {},
   "outputs": [
    {
     "name": "stdout",
     "output_type": "stream",
     "text": [
      "Erro quadrático médio (MSE) com normalização: 6145838.34\n",
      "Coeficiente de determinação (R²) com normalização: 0.07\n",
      "Erro quadrático médio (MSE) com padronização: 6145838.34\n",
      "Coeficiente de determinação (R²) com padronização: 0.07\n"
     ]
    }
   ],
   "source": [
    "# Selecionar as features e a variável alvo\n",
    "X = renda[['qtd_filhos', 'idade', 'tempo_emprego', 'qt_pessoas_residencia']]\n",
    "y = renda['renda']\n",
    "\n",
    "# Dividir os dados em conjunto de treinamento e teste\n",
    "X_train, X_test, y_train, y_test = train_test_split(X, y, test_size=0.2, random_state=42)\n",
    "\n",
    "# Normalização das variáveis\n",
    "scaler_norm = MinMaxScaler()\n",
    "X_train_normalized = scaler_norm.fit_transform(X_train)\n",
    "X_test_normalized = scaler_norm.transform(X_test)\n",
    "\n",
    "# Padronização das variáveis\n",
    "scaler_std = StandardScaler()\n",
    "X_train_standardized = scaler_std.fit_transform(X_train)\n",
    "X_test_standardized = scaler_std.transform(X_test)\n",
    "\n",
    "# Inicializar e treinar o modelo de regressão linear com variáveis normalizadas\n",
    "model_norm = LinearRegression()\n",
    "model_norm.fit(X_train_normalized, y_train)\n",
    "\n",
    "# Fazer previsões com o conjunto de teste normalizado\n",
    "y_pred_norm = model_norm.predict(X_test_normalized)\n",
    "\n",
    "# Avaliar o desempenho do modelo normalizado\n",
    "mse_norm = mean_squared_error(y_test, y_pred_norm)\n",
    "r2_norm = r2_score(y_test, y_pred_norm)\n",
    "\n",
    "print(f'Erro quadrático médio (MSE) com normalização: {mse_norm:.2f}')\n",
    "print(f'Coeficiente de determinação (R²) com normalização: {r2_norm:.2f}')\n",
    "\n",
    "# Inicializar e treinar o modelo de regressão linear com variáveis padronizadas\n",
    "model_std = LinearRegression()\n",
    "model_std.fit(X_train_standardized, y_train)\n",
    "\n",
    "# Fazer previsões com o conjunto de teste padronizado\n",
    "y_pred_std = model_std.predict(X_test_standardized)\n",
    "\n",
    "# Avaliar o desempenho do modelo padronizado\n",
    "mse_std = mean_squared_error(y_test, y_pred_std)\n",
    "r2_std = r2_score(y_test, y_pred_std)\n",
    "\n",
    "print(f'Erro quadrático médio (MSE) com padronização: {mse_std:.2f}')\n",
    "print(f'Coeficiente de determinação (R²) com padronização: {r2_std:.2f}')\n"
   ]
  },
  {
   "cell_type": "markdown",
   "metadata": {
    "id": "CpXCFYLmBVI8"
   },
   "source": []
  },
  {
   "cell_type": "code",
   "execution_count": 33,
   "metadata": {},
   "outputs": [
    {
     "data": {
      "image/png": "[encoded data removed]",
      "text/plain": [
       "<Figure size 1000x600 with 2 Axes>"
      ]
     },
     "metadata": {},
     "output_type": "display_data"
    },
    {
     "name": "stdout",
     "output_type": "stream",
     "text": [
      "Erro quadrático médio (MSE) dos resíduos: 6042749.24\n",
      "Coeficiente de determinação (R²) dos resíduos: 0.08\n"
     ]
    }
   ],
   "source": [
    "# Selecionar as features e a variável alvo\n",
    "X = renda[['qtd_filhos', 'idade', 'tempo_emprego', 'qt_pessoas_residencia']]\n",
    "y = renda['renda']\n",
    "\n",
    "# Inicializar e treinar o modelo de regressão linear\n",
    "model = LinearRegression()\n",
    "model.fit(X, y)\n",
    "\n",
    "# Fazer previsões\n",
    "y_pred = model.predict(X)\n",
    "\n",
    "# Calcular os resíduos\n",
    "residuals = y - y_pred\n",
    "\n",
    "# Plotar gráficos de análise de resíduos\n",
    "plt.figure(figsize=(10, 6))\n",
    "\n",
    "# Gráfico de dispersão entre os valores preditos e os resíduos\n",
    "plt.subplot(1, 2, 1)\n",
    "plt.scatter(y_pred, residuals)\n",
    "plt.axhline(y=0, color='r', linestyle='--')\n",
    "plt.title('Residual Plot')\n",
    "plt.xlabel('Valores Preditos')\n",
    "plt.ylabel('Resíduos')\n",
    "\n",
    "# Histograma dos resíduos\n",
    "plt.subplot(1, 2, 2)\n",
    "plt.hist(residuals, bins=30)\n",
    "plt.title('Histograma de Resíduos')\n",
    "plt.xlabel('Resíduos')\n",
    "plt.ylabel('Frequência')\n",
    "\n",
    "plt.tight_layout()\n",
    "plt.show()\n",
    "\n",
    "# Calcular métricas de avaliação dos resíduos\n",
    "mse_residuos = mean_squared_error(y, y_pred)\n",
    "r2_residuos = r2_score(y, y_pred)\n",
    "\n",
    "print(f'Erro quadrático médio (MSE) dos resíduos: {mse_residuos:.2f}')\n",
    "print(f'Coeficiente de determinação (R²) dos resíduos: {r2_residuos:.2f}')\n"
   ]
  },
  {
   "cell_type": "code",
   "execution_count": null,
   "metadata": {
    "id": "LakQaHz2BVI8"
   },
   "outputs": [],
   "source": []
  },
  {
   "cell_type": "markdown",
   "metadata": {
    "id": "hrmtm7tHBVI8"
   },
   "source": [
    "## Etapa 5 Crisp-DM: Avaliação dos resultados\n"
   ]
  },
  {
   "cell_type": "markdown",
   "metadata": {
    "id": "hz6iObz6BVI8"
   },
   "source": [
    "### Insight 01:\n",
    "\n",
    "Uma análise bivariada entre a variável \"Posse de imóvel\" e a \"Renda\". Os resultados do teste t-valor e valor p são indicativos da relação entre essas variáveis:\n",
    "\n",
    "* Teste t-valor:\n",
    "\n",
    "O teste t-valor é uma medida estatística que indica a diferença entre as médias de duas amostras. No contexto da posse de imóvel, um teste t-valor negativo (-0.475) indica que há uma tendência de que as médias das duas amostras (possuidores de imóvel e não possuidores) sejam diferentes, mas essa diferença não é muito grande em termos absolutos.\n",
    "\n",
    "\n",
    "* Valor p:\n",
    "\n",
    "O valor p é uma medida estatística que indica a significância estatística da diferença observada entre as amostras. No seu caso, o valor p é 0.6347. Um valor p alto (próximo de 1) sugere que não há evidências suficientes para rejeitar a hipótese nula de que não existe diferença significativa entre as médias das duas amostras.\n",
    "\n",
    "* Interpretando o insight:\n",
    "\n",
    "Com base nos resultados do teste t-valor e do valor p, não encontramos evidências estatisticamente significativas para afirmar que a posse de imóvel está significativamente relacionada com a variável analisada. Em outras palavras, não parece haver uma diferença significativa nos valores médios da variável analisada entre os grupos de pessoas que possuem e não possuem imóveis.\n",
    "\n",
    "É importante considerar o contexto específico da análise e os objetivos do projeto ao interpretar esses resultados. Mesmo que não haja uma relação significativa identificada neste momento, outros insights e análises podem ser realizados para entender melhor o impacto da posse de imóvel ou explorar outras variáveis que possam estar mais diretamente relacionadas à variável de interesse.\n"
   ]
  },
  {
   "cell_type": "markdown",
   "metadata": {
    "id": "PLoMmZeSBVI8"
   },
   "source": [
    "### Insight 02 :\n",
    "\n",
    "O teste t com valor de -12.369567394143342 e um valor p extremamente baixo (5.655201142039675e-35) indicam uma forte associação estatística entre a renda das pessoas e sua posse de veículo. Isso sugere que, em geral, quanto maior a renda de uma pessoa, maior a probabilidade de ela possuir um veículo. Esse insight é consistente com a intuição de que a posse de veículo está diretamente relacionada à capacidade financeira das pessoas."
   ]
  },
  {
   "cell_type": "markdown",
   "metadata": {},
   "source": [
    "### Insight 03: \n",
    "\n",
    "### Erro Quadrático Médio (MSE):\n",
    "\n",
    "O erro quadrático médio (MSE) é uma medida que quantifica a média dos quadrados dos erros entre os valores reais e as previsões do modelo. O MSE foi calculado como 6145838.34. Isso significa que, em média, os erros quadráticos das previsões em relação aos valores reais são bastante elevados. Um MSE alto indica que o modelo não está conseguindo prever com precisão a renda com base nas variáveis selecionadas.\n",
    "\n",
    "### Coeficiente de Determinação (R²):\n",
    "\n",
    "O coeficiente de determinação (R²) é uma medida que indica a proporção da variância na variável dependente (no seu caso, a renda) que é explicada pelas variáveis independentes do modelo. Um R² de 0.07 indica que apenas cerca de 7% da variabilidade na renda é explicada pelas variáveis utilizadas no modelo. Isso sugere que o modelo tem um poder explicativo muito baixo e não está capturando adequadamente a relação entre as variáveis e a renda.\n",
    "\n",
    "### Conclusão:\n",
    "\n",
    "Com base nos resultados do MSE e do R², podemos concluir que o modelo de regressão linear construído para prever a renda não está tendo um desempenho satisfatório. O alto MSE indica que as previsões estão distantes dos valores reais da renda, enquanto o baixo R² sugere que o modelo não está capturando a variabilidade da renda com base nas variáveis fornecidas.\n",
    "    Isso pode ser devido a diversos fatores, como a escolha inadequada de variáveis, falta de correlação linear forte entre as variáveis e a renda, presença de outliers ou não linearidades que o modelo linear não consegue capturar."
   ]
  },
  {
   "cell_type": "markdown",
   "metadata": {
    "id": "AZlmOE4nBVI8"
   },
   "source": [
    "## Etapa 6 Crisp-DM: Implantação\n",
    "Nessa etapa colocamos em uso o modelo desenvolvido, normalmente implementando o modelo desenvolvido em um motor que toma as decisões com algum nível de automação."
   ]
  },
  {
   "cell_type": "markdown",
   "metadata": {
    "id": "oS-r4dgbBVI8"
   },
   "source": [
    "Após a análise dos insights, identificamos que o modelo de regressão linear não está proporcionando resultados satisfatórios para a predição. Diante disso, é fundamental explorar abordagens alternativas e técnicas de modelagem mais adequadas para melhorar a performance da predição. Abaixo estão algumas sugestões de próximos passos que podem ser adotados:\n",
    "\n",
    "* Explorar Outros Algoritmos:\n",
    "\n",
    "Uma primeira estratégia é explorar outros algoritmos de machine learning que sejam mais robustos para o problema em questão. Algoritmos como árvores de decisão, random forests, gradient boosting e redes neurais podem capturar relações mais complexas nos dados, proporcionando resultados mais precisos.\n",
    "\n",
    "* Feature Engineering:\n",
    "\n",
    "Refinar ou criar novas features pode ser crucial para capturar melhor a relação entre as variáveis independentes e a variável alvo. A engenharia de features envolve técnicas como transformações, criação de variáveis derivadas e seleção de features mais relevantes, o que pode melhorar significativamente a capacidade do modelo de fazer boas previsões.\n",
    "\n",
    "* Tratamento de Outliers e Anomalias:\n",
    "\n",
    "É importante identificar e tratar outliers ou dados anômalos que possam estar impactando negativamente o desempenho do modelo. Essas observações atípicas podem distorcer as relações entre as variáveis e a variável alvo, sendo necessário removê-las ou aplicar técnicas de transformação adequadas.\n",
    "\n",
    "* Validação Cruzada e Ajuste de Hiperparâmetros:\n",
    "\n",
    "Utilizar técnicas de validação cruzada e ajuste de hiperparâmetros é fundamental para otimizar o desempenho do modelo. Isso envolve testar diferentes combinações de parâmetros do modelo para encontrar a configuração que resulta em melhores métricas de avaliação, garantindo a generalização do modelo para novos dados.\n"
   ]
  }
 ],
 "metadata": {
  "colab": {
   "provenance": []
  },
  "kernelspec": {
   "display_name": "Python 3 (ipykernel)",
   "language": "python",
   "name": "python3"
  },
  "language_info": {
   "codemirror_mode": {
    "name": "ipython",
    "version": 3
   },
   "file_extension": ".py",
   "mimetype": "text/x-python",
   "name": "python",
   "nbconvert_exporter": "python",
   "pygments_lexer": "ipython3",
   "version": "3.11.5"
  },
  "varInspector": {
   "cols": {
    "lenName": 16,
    "lenType": 16,
    "lenVar": 40
   },
   "kernels_config": {
    "python": {
     "delete_cmd_postfix": "",
     "delete_cmd_prefix": "del ",
     "library": "var_list.py",
     "varRefreshCmd": "print(var_dic_list())"
    },
    "r": {
     "delete_cmd_postfix": ") ",
     "delete_cmd_prefix": "rm(",
     "library": "var_list.r",
     "varRefreshCmd": "cat(var_dic_list()) "
    }
   },
   "types_to_exclude": [
    "module",
    "function",
    "builtin_function_or_method",
    "instance",
    "_Feature"
   ],
   "window_display": false
  },
  "widgets": {
   "application/vnd.jupyter.widget-state+json": {
    "06775c14cbcf4465832b81df1eeefdf7": {
     "model_module": "@jupyter-widgets/base",
     "model_module_version": "1.2.0",
     "model_name": "LayoutModel",
     "state": {
      "_model_module": "@jupyter-widgets/base",
      "_model_module_version": "1.2.0",
      "_model_name": "LayoutModel",
      "_view_count": null,
      "_view_module": "@jupyter-widgets/base",
      "_view_module_version": "1.2.0",
      "_view_name": "LayoutView",
      "align_content": null,
      "align_items": null,
      "align_self": null,
      "border": null,
      "bottom": null,
      "display": null,
      "flex": null,
      "flex_flow": null,
      "grid_area": null,
      "grid_auto_columns": null,
      "grid_auto_flow": null,
      "grid_auto_rows": null,
      "grid_column": null,
      "grid_gap": null,
      "grid_row": null,
      "grid_template_areas": null,
      "grid_template_columns": null,
      "grid_template_rows": null,
      "height": null,
      "justify_content": null,
      "justify_items": null,
      "left": null,
      "margin": null,
      "max_height": null,
      "max_width": null,
      "min_height": null,
      "min_width": null,
      "object_fit": null,
      "object_position": null,
      "order": null,
      "overflow": null,
      "overflow_x": null,
      "overflow_y": null,
      "padding": null,
      "right": null,
      "top": null,
      "visibility": null,
      "width": null
     }
    },
    "083734f632d24929869bf364b1fa97c1": {
     "model_module": "@jupyter-widgets/base",
     "model_module_version": "1.2.0",
     "model_name": "LayoutModel",
     "state": {
      "_model_module": "@jupyter-widgets/base",
      "_model_module_version": "1.2.0",
      "_model_name": "LayoutModel",
      "_view_count": null,
      "_view_module": "@jupyter-widgets/base",
      "_view_module_version": "1.2.0",
      "_view_name": "LayoutView",
      "align_content": null,
      "align_items": null,
      "align_self": null,
      "border": null,
      "bottom": null,
      "display": null,
      "flex": null,
      "flex_flow": null,
      "grid_area": null,
      "grid_auto_columns": null,
      "grid_auto_flow": null,
      "grid_auto_rows": null,
      "grid_column": null,
      "grid_gap": null,
      "grid_row": null,
      "grid_template_areas": null,
      "grid_template_columns": null,
      "grid_template_rows": null,
      "height": null,
      "justify_content": null,
      "justify_items": null,
      "left": null,
      "margin": null,
      "max_height": null,
      "max_width": null,
      "min_height": null,
      "min_width": null,
      "object_fit": null,
      "object_position": null,
      "order": null,
      "overflow": null,
      "overflow_x": null,
      "overflow_y": null,
      "padding": null,
      "right": null,
      "top": null,
      "visibility": null,
      "width": null
     }
    },
    "0926bfc1a426435c82d2b962d7796fde": {
     "model_module": "@jupyter-widgets/controls",
     "model_module_version": "1.5.0",
     "model_name": "ProgressStyleModel",
     "state": {
      "_model_module": "@jupyter-widgets/controls",
      "_model_module_version": "1.5.0",
      "_model_name": "ProgressStyleModel",
      "_view_count": null,
      "_view_module": "@jupyter-widgets/base",
      "_view_module_version": "1.2.0",
      "_view_name": "StyleView",
      "bar_color": null,
      "description_width": ""
     }
    },
    "1f3b356742494454a5fdc3d1c6e9037d": {
     "model_module": "@jupyter-widgets/controls",
     "model_module_version": "1.5.0",
     "model_name": "FloatProgressModel",
     "state": {
      "_dom_classes": [],
      "_model_module": "@jupyter-widgets/controls",
      "_model_module_version": "1.5.0",
      "_model_name": "FloatProgressModel",
      "_view_count": null,
      "_view_module": "@jupyter-widgets/controls",
      "_view_module_version": "1.5.0",
      "_view_name": "ProgressView",
      "bar_style": "success",
      "description": "",
      "description_tooltip": null,
      "layout": "IPY_MODEL_06775c14cbcf4465832b81df1eeefdf7",
      "max": 5,
      "min": 0,
      "orientation": "horizontal",
      "style": "IPY_MODEL_effa23da9e2148f4826da6d84f9c3e3d",
      "value": 5
     }
    },
    "3f5057b10b784f21b023ff57b7715fe2": {
     "model_module": "@jupyter-widgets/base",
     "model_module_version": "1.2.0",
     "model_name": "LayoutModel",
     "state": {
      "_model_module": "@jupyter-widgets/base",
      "_model_module_version": "1.2.0",
      "_model_name": "LayoutModel",
      "_view_count": null,
      "_view_module": "@jupyter-widgets/base",
      "_view_module_version": "1.2.0",
      "_view_name": "LayoutView",
      "align_content": null,
      "align_items": null,
      "align_self": null,
      "border": null,
      "bottom": null,
      "display": null,
      "flex": null,
      "flex_flow": null,
      "grid_area": null,
      "grid_auto_columns": null,
      "grid_auto_flow": null,
      "grid_auto_rows": null,
      "grid_column": null,
      "grid_gap": null,
      "grid_row": null,
      "grid_template_areas": null,
      "grid_template_columns": null,
      "grid_template_rows": null,
      "height": null,
      "justify_content": null,
      "justify_items": null,
      "left": null,
      "margin": null,
      "max_height": null,
      "max_width": null,
      "min_height": null,
      "min_width": null,
      "object_fit": null,
      "object_position": null,
      "order": null,
      "overflow": null,
      "overflow_x": null,
      "overflow_y": null,
      "padding": null,
      "right": null,
      "top": null,
      "visibility": null,
      "width": null
     }
    },
    "43dd45ea5ccf4bd4bcd29d6324ae7d12": {
     "model_module": "@jupyter-widgets/controls",
     "model_module_version": "1.5.0",
     "model_name": "HTMLModel",
     "state": {
      "_dom_classes": [],
      "_model_module": "@jupyter-widgets/controls",
      "_model_module_version": "1.5.0",
      "_model_name": "HTMLModel",
      "_view_count": null,
      "_view_module": "@jupyter-widgets/controls",
      "_view_module_version": "1.5.0",
      "_view_name": "HTMLView",
      "description": "",
      "description_tooltip": null,
      "layout": "IPY_MODEL_e9e8033c5409430ca367ee0751ecea91",
      "placeholder": "​",
      "style": "IPY_MODEL_a448b264e20f4d158d886f991d81c3a2",
      "value": "Generate report structure:   0%"
     }
    },
    "4d853c6875ae40feb4f9816d96dcf3e6": {
     "model_module": "@jupyter-widgets/base",
     "model_module_version": "1.2.0",
     "model_name": "LayoutModel",
     "state": {
      "_model_module": "@jupyter-widgets/base",
      "_model_module_version": "1.2.0",
      "_model_name": "LayoutModel",
      "_view_count": null,
      "_view_module": "@jupyter-widgets/base",
      "_view_module_version": "1.2.0",
      "_view_name": "LayoutView",
      "align_content": null,
      "align_items": null,
      "align_self": null,
      "border": null,
      "bottom": null,
      "display": null,
      "flex": null,
      "flex_flow": null,
      "grid_area": null,
      "grid_auto_columns": null,
      "grid_auto_flow": null,
      "grid_auto_rows": null,
      "grid_column": null,
      "grid_gap": null,
      "grid_row": null,
      "grid_template_areas": null,
      "grid_template_columns": null,
      "grid_template_rows": null,
      "height": null,
      "justify_content": null,
      "justify_items": null,
      "left": null,
      "margin": null,
      "max_height": null,
      "max_width": null,
      "min_height": null,
      "min_width": null,
      "object_fit": null,
      "object_position": null,
      "order": null,
      "overflow": null,
      "overflow_x": null,
      "overflow_y": null,
      "padding": null,
      "right": null,
      "top": null,
      "visibility": null,
      "width": null
     }
    },
    "4e0a3caf5c5e413887906dc2274cfe6f": {
     "model_module": "@jupyter-widgets/controls",
     "model_module_version": "1.5.0",
     "model_name": "DescriptionStyleModel",
     "state": {
      "_model_module": "@jupyter-widgets/controls",
      "_model_module_version": "1.5.0",
      "_model_name": "DescriptionStyleModel",
      "_view_count": null,
      "_view_module": "@jupyter-widgets/base",
      "_view_module_version": "1.2.0",
      "_view_name": "StyleView",
      "description_width": ""
     }
    },
    "61765c6e89624cfb9013364eacbde780": {
     "model_module": "@jupyter-widgets/controls",
     "model_module_version": "1.5.0",
     "model_name": "HTMLModel",
     "state": {
      "_dom_classes": [],
      "_model_module": "@jupyter-widgets/controls",
      "_model_module_version": "1.5.0",
      "_model_name": "HTMLModel",
      "_view_count": null,
      "_view_module": "@jupyter-widgets/controls",
      "_view_module_version": "1.5.0",
      "_view_name": "HTMLView",
      "description": "",
      "description_tooltip": null,
      "layout": "IPY_MODEL_901a430572994a56a618cef666c1a1d2",
      "placeholder": "​",
      "style": "IPY_MODEL_4e0a3caf5c5e413887906dc2274cfe6f",
      "value": "Summarize dataset: 100%"
     }
    },
    "6c7be013ebea41f58ff9b1d3e8bd39ca": {
     "model_module": "@jupyter-widgets/base",
     "model_module_version": "1.2.0",
     "model_name": "LayoutModel",
     "state": {
      "_model_module": "@jupyter-widgets/base",
      "_model_module_version": "1.2.0",
      "_model_name": "LayoutModel",
      "_view_count": null,
      "_view_module": "@jupyter-widgets/base",
      "_view_module_version": "1.2.0",
      "_view_name": "LayoutView",
      "align_content": null,
      "align_items": null,
      "align_self": null,
      "border": null,
      "bottom": null,
      "display": null,
      "flex": null,
      "flex_flow": null,
      "grid_area": null,
      "grid_auto_columns": null,
      "grid_auto_flow": null,
      "grid_auto_rows": null,
      "grid_column": null,
      "grid_gap": null,
      "grid_row": null,
      "grid_template_areas": null,
      "grid_template_columns": null,
      "grid_template_rows": null,
      "height": null,
      "justify_content": null,
      "justify_items": null,
      "left": null,
      "margin": null,
      "max_height": null,
      "max_width": null,
      "min_height": null,
      "min_width": null,
      "object_fit": null,
      "object_position": null,
      "order": null,
      "overflow": null,
      "overflow_x": null,
      "overflow_y": null,
      "padding": null,
      "right": null,
      "top": null,
      "visibility": null,
      "width": null
     }
    },
    "901a430572994a56a618cef666c1a1d2": {
     "model_module": "@jupyter-widgets/base",
     "model_module_version": "1.2.0",
     "model_name": "LayoutModel",
     "state": {
      "_model_module": "@jupyter-widgets/base",
      "_model_module_version": "1.2.0",
      "_model_name": "LayoutModel",
      "_view_count": null,
      "_view_module": "@jupyter-widgets/base",
      "_view_module_version": "1.2.0",
      "_view_name": "LayoutView",
      "align_content": null,
      "align_items": null,
      "align_self": null,
      "border": null,
      "bottom": null,
      "display": null,
      "flex": null,
      "flex_flow": null,
      "grid_area": null,
      "grid_auto_columns": null,
      "grid_auto_flow": null,
      "grid_auto_rows": null,
      "grid_column": null,
      "grid_gap": null,
      "grid_row": null,
      "grid_template_areas": null,
      "grid_template_columns": null,
      "grid_template_rows": null,
      "height": null,
      "justify_content": null,
      "justify_items": null,
      "left": null,
      "margin": null,
      "max_height": null,
      "max_width": null,
      "min_height": null,
      "min_width": null,
      "object_fit": null,
      "object_position": null,
      "order": null,
      "overflow": null,
      "overflow_x": null,
      "overflow_y": null,
      "padding": null,
      "right": null,
      "top": null,
      "visibility": null,
      "width": null
     }
    },
    "989d431577c74537a3957c025e055622": {
     "model_module": "@jupyter-widgets/controls",
     "model_module_version": "1.5.0",
     "model_name": "FloatProgressModel",
     "state": {
      "_dom_classes": [],
      "_model_module": "@jupyter-widgets/controls",
      "_model_module_version": "1.5.0",
      "_model_name": "FloatProgressModel",
      "_view_count": null,
      "_view_module": "@jupyter-widgets/controls",
      "_view_module_version": "1.5.0",
      "_view_name": "ProgressView",
      "bar_style": "danger",
      "description": "",
      "description_tooltip": null,
      "layout": "IPY_MODEL_083734f632d24929869bf364b1fa97c1",
      "max": 1,
      "min": 0,
      "orientation": "horizontal",
      "style": "IPY_MODEL_0926bfc1a426435c82d2b962d7796fde",
      "value": 0
     }
    },
    "a3dc885a6259458db2e695804b251343": {
     "model_module": "@jupyter-widgets/controls",
     "model_module_version": "1.5.0",
     "model_name": "DescriptionStyleModel",
     "state": {
      "_model_module": "@jupyter-widgets/controls",
      "_model_module_version": "1.5.0",
      "_model_name": "DescriptionStyleModel",
      "_view_count": null,
      "_view_module": "@jupyter-widgets/base",
      "_view_module_version": "1.2.0",
      "_view_name": "StyleView",
      "description_width": ""
     }
    },
    "a448b264e20f4d158d886f991d81c3a2": {
     "model_module": "@jupyter-widgets/controls",
     "model_module_version": "1.5.0",
     "model_name": "DescriptionStyleModel",
     "state": {
      "_model_module": "@jupyter-widgets/controls",
      "_model_module_version": "1.5.0",
      "_model_name": "DescriptionStyleModel",
      "_view_count": null,
      "_view_module": "@jupyter-widgets/base",
      "_view_module_version": "1.2.0",
      "_view_name": "StyleView",
      "description_width": ""
     }
    },
    "af035de3b3024e18837772c8f896accd": {
     "model_module": "@jupyter-widgets/controls",
     "model_module_version": "1.5.0",
     "model_name": "DescriptionStyleModel",
     "state": {
      "_model_module": "@jupyter-widgets/controls",
      "_model_module_version": "1.5.0",
      "_model_name": "DescriptionStyleModel",
      "_view_count": null,
      "_view_module": "@jupyter-widgets/base",
      "_view_module_version": "1.2.0",
      "_view_name": "StyleView",
      "description_width": ""
     }
    },
    "c6c79ef3875a4ed9a90124cc7f9dcb6e": {
     "model_module": "@jupyter-widgets/controls",
     "model_module_version": "1.5.0",
     "model_name": "HTMLModel",
     "state": {
      "_dom_classes": [],
      "_model_module": "@jupyter-widgets/controls",
      "_model_module_version": "1.5.0",
      "_model_name": "HTMLModel",
      "_view_count": null,
      "_view_module": "@jupyter-widgets/controls",
      "_view_module_version": "1.5.0",
      "_view_name": "HTMLView",
      "description": "",
      "description_tooltip": null,
      "layout": "IPY_MODEL_3f5057b10b784f21b023ff57b7715fe2",
      "placeholder": "​",
      "style": "IPY_MODEL_af035de3b3024e18837772c8f896accd",
      "value": " 0/1 [00:00&lt;?, ?it/s]"
     }
    },
    "d1ee14622a9c4abbb401f469a9c54924": {
     "model_module": "@jupyter-widgets/controls",
     "model_module_version": "1.5.0",
     "model_name": "HBoxModel",
     "state": {
      "_dom_classes": [],
      "_model_module": "@jupyter-widgets/controls",
      "_model_module_version": "1.5.0",
      "_model_name": "HBoxModel",
      "_view_count": null,
      "_view_module": "@jupyter-widgets/controls",
      "_view_module_version": "1.5.0",
      "_view_name": "HBoxView",
      "box_style": "",
      "children": [
       "IPY_MODEL_43dd45ea5ccf4bd4bcd29d6324ae7d12",
       "IPY_MODEL_989d431577c74537a3957c025e055622",
       "IPY_MODEL_c6c79ef3875a4ed9a90124cc7f9dcb6e"
      ],
      "layout": "IPY_MODEL_6c7be013ebea41f58ff9b1d3e8bd39ca"
     }
    },
    "e9e8033c5409430ca367ee0751ecea91": {
     "model_module": "@jupyter-widgets/base",
     "model_module_version": "1.2.0",
     "model_name": "LayoutModel",
     "state": {
      "_model_module": "@jupyter-widgets/base",
      "_model_module_version": "1.2.0",
      "_model_name": "LayoutModel",
      "_view_count": null,
      "_view_module": "@jupyter-widgets/base",
      "_view_module_version": "1.2.0",
      "_view_name": "LayoutView",
      "align_content": null,
      "align_items": null,
      "align_self": null,
      "border": null,
      "bottom": null,
      "display": null,
      "flex": null,
      "flex_flow": null,
      "grid_area": null,
      "grid_auto_columns": null,
      "grid_auto_flow": null,
      "grid_auto_rows": null,
      "grid_column": null,
      "grid_gap": null,
      "grid_row": null,
      "grid_template_areas": null,
      "grid_template_columns": null,
      "grid_template_rows": null,
      "height": null,
      "justify_content": null,
      "justify_items": null,
      "left": null,
      "margin": null,
      "max_height": null,
      "max_width": null,
      "min_height": null,
      "min_width": null,
      "object_fit": null,
      "object_position": null,
      "order": null,
      "overflow": null,
      "overflow_x": null,
      "overflow_y": null,
      "padding": null,
      "right": null,
      "top": null,
      "visibility": null,
      "width": null
     }
    },
    "eea35329eaae4d78934dc1ef4e46b28c": {
     "model_module": "@jupyter-widgets/controls",
     "model_module_version": "1.5.0",
     "model_name": "HTMLModel",
     "state": {
      "_dom_classes": [],
      "_model_module": "@jupyter-widgets/controls",
      "_model_module_version": "1.5.0",
      "_model_name": "HTMLModel",
      "_view_count": null,
      "_view_module": "@jupyter-widgets/controls",
      "_view_module_version": "1.5.0",
      "_view_name": "HTMLView",
      "description": "",
      "description_tooltip": null,
      "layout": "IPY_MODEL_fb309b59c8374bb2bae9918d902a2172",
      "placeholder": "​",
      "style": "IPY_MODEL_a3dc885a6259458db2e695804b251343",
      "value": " 21/21 [00:00&lt;00:00, 45.96it/s, Completed]"
     }
    },
    "effa23da9e2148f4826da6d84f9c3e3d": {
     "model_module": "@jupyter-widgets/controls",
     "model_module_version": "1.5.0",
     "model_name": "ProgressStyleModel",
     "state": {
      "_model_module": "@jupyter-widgets/controls",
      "_model_module_version": "1.5.0",
      "_model_name": "ProgressStyleModel",
      "_view_count": null,
      "_view_module": "@jupyter-widgets/base",
      "_view_module_version": "1.2.0",
      "_view_name": "StyleView",
      "bar_color": null,
      "description_width": ""
     }
    },
    "fb309b59c8374bb2bae9918d902a2172": {
     "model_module": "@jupyter-widgets/base",
     "model_module_version": "1.2.0",
     "model_name": "LayoutModel",
     "state": {
      "_model_module": "@jupyter-widgets/base",
      "_model_module_version": "1.2.0",
      "_model_name": "LayoutModel",
      "_view_count": null,
      "_view_module": "@jupyter-widgets/base",
      "_view_module_version": "1.2.0",
      "_view_name": "LayoutView",
      "align_content": null,
      "align_items": null,
      "align_self": null,
      "border": null,
      "bottom": null,
      "display": null,
      "flex": null,
      "flex_flow": null,
      "grid_area": null,
      "grid_auto_columns": null,
      "grid_auto_flow": null,
      "grid_auto_rows": null,
      "grid_column": null,
      "grid_gap": null,
      "grid_row": null,
      "grid_template_areas": null,
      "grid_template_columns": null,
      "grid_template_rows": null,
      "height": null,
      "justify_content": null,
      "justify_items": null,
      "left": null,
      "margin": null,
      "max_height": null,
      "max_width": null,
      "min_height": null,
      "min_width": null,
      "object_fit": null,
      "object_position": null,
      "order": null,
      "overflow": null,
      "overflow_x": null,
      "overflow_y": null,
      "padding": null,
      "right": null,
      "top": null,
      "visibility": null,
      "width": null
     }
    },
    "ffd8a470fe03489b93b945d4feacd99a": {
     "model_module": "@jupyter-widgets/controls",
     "model_module_version": "1.5.0",
     "model_name": "HBoxModel",
     "state": {
      "_dom_classes": [],
      "_model_module": "@jupyter-widgets/controls",
      "_model_module_version": "1.5.0",
      "_model_name": "HBoxModel",
      "_view_count": null,
      "_view_module": "@jupyter-widgets/controls",
      "_view_module_version": "1.5.0",
      "_view_name": "HBoxView",
      "box_style": "",
      "children": [
       "IPY_MODEL_61765c6e89624cfb9013364eacbde780",
       "IPY_MODEL_1f3b356742494454a5fdc3d1c6e9037d",
       "IPY_MODEL_eea35329eaae4d78934dc1ef4e46b28c"
      ],
      "layout": "IPY_MODEL_4d853c6875ae40feb4f9816d96dcf3e6"
     }
    }
   }
  }
 },
 "nbformat": 4,
 "nbformat_minor": 1
}
