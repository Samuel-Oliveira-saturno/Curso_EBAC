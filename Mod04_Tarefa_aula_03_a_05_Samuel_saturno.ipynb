{
 "cells": [
  {
   "cell_type": "markdown",
   "metadata": {
    "id": "njUvbhQmC8-t"
   },
   "source": [
    "## Exercício 1: Vestibular\n",
    "\n",
    "Considere que a os dados gerados na célula abaixo contêm o número de acertos de 100 alunos em um vestibular para um curso de exatas, divididas pelos respectivos assuntos. Considere que cada assunto possui um número de questões conforme a tabela abaixo:\n",
    "\n",
    "| assunto | número de questões |\n",
    "|:---:|:---:|\n",
    "| Matemática | 24 |\n",
    "| Português | 18 |\n",
    "| Geografia | 8 |\n",
    "| Inglês | 8 |\n",
    "| História | 8 |\n",
    "| Física | 12 |\n",
    "| Química | 12 |\n",
    "\n",
    "Usando os comandos de operações com DataFrames que você aprendeu na Aula 03, calcule:\n",
    "\n",
    "1. (operações com escalar) Calcule o percentual de acerto dos alunos por assunto.  \n",
    "2. (operações entre *DataFrames) Calcule o total de acertos de cada aluno.  \n",
    "3. Calcule o porcentual geral de cada aluno.  \n",
    "4. Suponha que a nota de corte para a segunda fase seja 45. Quantos alunos tiveram nota maior que 45?  "
   ]
  },
  {
   "cell_type": "code",
   "execution_count": 1,
   "metadata": {},
   "outputs": [],
   "source": [
    "import pandas as pd\n",
    "import numpy as np"
   ]
  },
  {
   "cell_type": "code",
   "execution_count": null,
   "metadata": {
    "id": "Ll6TadxCC8-y"
   },
   "outputs": [],
   "source": [
    "# Gerando os dados do Dataframe com o Random\n",
    "np.random.seed(42)\n",
    "df_mat = pd.DataFrame(np.random.randint(24, size=(100, 1)), columns=['Qt_acertos'])\n",
    "\n",
    "df_por = pd.DataFrame(np.random.randint(18, size=(100, 1)), columns=['Qt_acertos'])\n",
    "\n",
    "df_geo = pd.DataFrame(np.random.randint(8, size=(100, 1)), columns=['Qt_acertos'])\n",
    "\n",
    "df_ing = pd.DataFrame(np.random.randint(8, size=(100, 1)), columns=['Qt_acertos'])\n",
    "\n",
    "df_his = pd.DataFrame(np.random.randint(8, size=(100, 1)), columns=['Qt_acertos'])\n",
    "\n",
    "df_fis = pd.DataFrame(np.random.randint(12, size=(100, 1)), columns=['Qt_acertos'])\n",
    "\n",
    "df_qui = pd.DataFrame(np.random.randint(12, size=(100, 1)), columns=['Qt_acertos'])"
   ]
  },
  {
   "cell_type": "code",
   "execution_count": null,
   "metadata": {
    "id": "JVmLXiC2C8-0"
   },
   "outputs": [],
   "source": [
    "# 1). Percentual de acerto dos alunos por assunto\n",
    "\n",
    "# Criar um DataFrame contendo o número de questões por assunto\n",
    "questoes_por_assunto = pd.DataFrame({\n",
    "    'Assunto': ['Matemática', 'Português', 'Geografia', 'Inglês', 'História', 'Física', 'Química'],\n",
    "    'Num_Questoes': [24, 18, 8, 8, 8, 12, 12]\n",
    "})\n",
    "\n",
    "# Listar os DataFrames de cada assunto\n",
    "dfs = [df_mat, df_por, df_geo, df_ing, df_his, df_fis, df_qui]\n",
    "\n",
    "# Calcular o percentual de acerto por assunto\n",
    "for i, df in enumerate(dfs):\n",
    "    assunto = questoes_por_assunto.loc[i, 'Assunto']\n",
    "    num_questoes = questoes_por_assunto.loc[i, 'Num_Questoes']\n",
    "    \n",
    "    df['Percentual_Acerto'] = (df['Qt_acertos'] / num_questoes) * 100\n",
    "\n",
    "# Exibir os primeiros registros de um dos DataFrames para verificar os resultados\n",
    "print(df_mat.head())\n",
    "\n",
    "\n"
   ]
  },
  {
   "cell_type": "code",
   "execution_count": null,
   "metadata": {
    "id": "JbTwCyNHC8-1"
   },
   "outputs": [],
   "source": [
    "# 2) (operações entre *DataFrames) Calcule o total de acertos de cada aluno. \n",
    "\n",
    "# Listar os DataFrames de cada assunto\n",
    "dfs = [df_mat, df_por, df_geo, df_ing, df_his, df_fis, df_qui]\n",
    "\n",
    "# Criar um DataFrame vazio para armazenar o total de acertos de cada aluno\n",
    "df_total_acertos = pd.DataFrame()\n",
    "\n",
    "# Calcular o total de acertos de cada aluno\n",
    "for i, df in enumerate(dfs):\n",
    "    assunto = questoes_por_assunto.loc[i, 'Assunto']\n",
    "    \n",
    "    # Adicionar a coluna de acertos do assunto ao DataFrame de total de acertos\n",
    "    df_total_acertos[f'{assunto}_acertos'] = df['Qt_acertos']\n",
    "\n",
    "# Calcular a coluna de total de acertos\n",
    "df_total_acertos['Total_Acertos'] = df_total_acertos.sum(axis=1)\n",
    "\n",
    "# Exibir os primeiros registros do DataFrame de total de acertos\n",
    "print(df_total_acertos.head())\n"
   ]
  },
  {
   "cell_type": "code",
   "execution_count": null,
   "metadata": {
    "id": "c2L8dJkVC8-3"
   },
   "outputs": [],
   "source": [
    "# 3) Calcule o porcentual geral de cada aluno. \n",
    "\n",
    "# Calcular o número total de questões do vestibular\n",
    "total_questoes_vestibular = questoes_por_assunto['Num_Questoes'].sum()\n",
    "\n",
    "# Calcular o percentual geral de cada aluno\n",
    "df_total_acertos['Percentual_Geral'] = (df_total_acertos['Total_Acertos'] / total_questoes_vestibular) * 100\n",
    "\n",
    "# Exibir os primeiros registros do DataFrame de total de acertos com o percentual geral\n",
    "print(df_total_acertos.head())\n",
    "\n"
   ]
  },
  {
   "cell_type": "code",
   "execution_count": null,
   "metadata": {
    "id": "PZTZ7DFzC8-3"
   },
   "outputs": [],
   "source": [
    "# 4) Suponha que a nota de corte para a segunda fase seja 45. Quantos alunos tiveram nota maior que 45?\n",
    "\n",
    "# Definir a nota de corte\n",
    "nota_de_corte = 45\n",
    "\n",
    "# Filtrar os alunos que tiveram nota maior que a nota de corte\n",
    "alunos_aprovados = df_total_acertos[df_total_acertos['Total_Acertos'] > nota_de_corte]\n",
    "\n",
    "# Contar o número de alunos aprovados\n",
    "num_alunos_aprovados = len(alunos_aprovados)\n",
    "\n",
    "# Exibir o resultado\n",
    "print(f\"O número de alunos com nota maior que {nota_de_corte} é: {num_alunos_aprovados}\")\n"
   ]
  },
  {
   "cell_type": "markdown",
   "metadata": {
    "id": "Hlfl75XXC8-4"
   },
   "source": [
    "## 2) Vestibular II\n",
    "\n",
    "Ainda sobre o mesmo banco de dados:\n",
    "\n",
    "1. Neste vestibular, quem 'zera' em matemática, física ou química está desqualificado. Monte um novo *DataFrame* com os alunos desqualificados por este critério.\n",
    "2. Quantos são esses alunos?\n",
    "3. Qual a média desses alunos em história e geografia?\n",
    "4. Monte um *DataFrame* com os alunos que passaram para a segunda fase. Repare que estes alunos não podem ter sido desqualificados."
   ]
  },
  {
   "cell_type": "code",
   "execution_count": null,
   "metadata": {
    "id": "hPaMGXvJC8-4"
   },
   "outputs": [],
   "source": [
    "# seu código aqui\n",
    "\n",
    "# Criar um DataFrame contendo os alunos desqualificados\n",
    "df_desqualificados = df_total_acertos[(df_mat['Qt_acertos'] == 0) | (df_fis['Qt_acertos'] == 0) | (df_qui['Qt_acertos'] == 0)]\n",
    "\n",
    "# Exibir os primeiros registros do DataFrame de alunos desqualificados\n",
    "print(df_desqualificados.head())\n"
   ]
  },
  {
   "cell_type": "code",
   "execution_count": null,
   "metadata": {},
   "outputs": [],
   "source": [
    "# 2) Quantos são esses alunos?\n",
    "\n",
    "# Calcular o número de alunos desqualificados\n",
    "num_alunos_desqualificados = len(df_desqualificados)\n",
    "\n",
    "# Exibir o resultado\n",
    "print(f\"O número de alunos desqualificados é: {num_alunos_desqualificados}\")\n"
   ]
  },
  {
   "cell_type": "code",
   "execution_count": null,
   "metadata": {},
   "outputs": [],
   "source": [
    "# Qual a média desses alunos em história e geografia?\n",
    "\n",
    "# Filtrar as notas de História e Geografia para os alunos desqualificados\n",
    "notas_hist_geo_desqualificados = df_desqualificados[['História_acertos', 'Geografia_acertos']]\n",
    "\n",
    "# Calcular a média em História e Geografia para os alunos desqualificados\n",
    "media_hist_geo_desqualificados = notas_hist_geo_desqualificados.mean()\n",
    "\n",
    "# Exibir o resultado\n",
    "print(\"Média dos alunos desqualificados em História e Geografia:\")\n",
    "print(media_hist_geo_desqualificados)\n"
   ]
  },
  {
   "cell_type": "code",
   "execution_count": null,
   "metadata": {},
   "outputs": [],
   "source": [
    "# Monte um DataFrame com os alunos que passaram para a segunda fase. Repare que estes alunos não podem ter sido desqualificados.\n",
    "\n",
    "# Criar um DataFrame contendo os alunos que passaram para a segunda fase\n",
    "df_aprovados_segunda_fase = df_total_acertos[~df_total_acertos.index.isin(df_desqualificados.index)]\n",
    "\n",
    "# Exibir os primeiros registros do DataFrame de alunos aprovados na segunda fase\n",
    "print(df_aprovados_segunda_fase.head())\n"
   ]
  },
  {
   "cell_type": "markdown",
   "metadata": {
    "id": "EGBUWpAHC8-5"
   },
   "source": [
    "### OBservação: Devido a problemas técnico no Dataset da plaforma SUS optei por outro banco de dados.\n",
    "\n",
    "## 3) Vacinações no Ceará\n",
    "Vamos trabalhar agora com a base de vacinações no Acre. Para facilitar a sua vida, copiamos o link do arquivo na célula abaixo.\n",
    "\n",
    "1. Quantas vacinas estão registradas nessa base?  \n",
    "2. Quantos pacientes foram vacinados? (considere um paciente para cada valor único de ```paciente_id```)  \n",
    "3. Quantos pacientes únicos tomaram a primeira dose? OBS: Há um caractere especial neste campo. Receba os valores do campo com o método ```.unique()```.   \n",
    "4. Quantos pacientes com menos de 18 anos foram vacinados?  \n",
    "5. Quantos estabelecimentos aplicaram vacina no Acre?\n",
    "\n",
    "\n",
    "**OBS:** O portal do DATASUS pode apresentar instabilidades, retornando um erro na segunda célula abaixo. Por este motivo está disponível uma base estática, que se for baixada para o seu *working directory* pode ser lida com este comando: ```df = pd.read_csv('registros de vacinacao covid ACRE.csv', sep=';')```.\n",
    "\n",
    "**OBS2:** Para saber qual é o seu working directory, rode no jupyter: ```!pwd```."
   ]
  },
  {
   "cell_type": "code",
   "execution_count": null,
   "metadata": {},
   "outputs": [],
   "source": [
    "!pwd"
   ]
  },
  {
   "cell_type": "code",
   "execution_count": 2,
   "metadata": {},
   "outputs": [
    {
     "name": "stdout",
     "output_type": "stream",
     "text": [
      "Número de linhas e colunas da tabela: (191, 329)\n"
     ]
    },
    {
     "data": {
      "text/html": [
       "<div>\n",
       "<style scoped>\n",
       "    .dataframe tbody tr th:only-of-type {\n",
       "        vertical-align: middle;\n",
       "    }\n",
       "\n",
       "    .dataframe tbody tr th {\n",
       "        vertical-align: top;\n",
       "    }\n",
       "\n",
       "    .dataframe thead th {\n",
       "        text-align: right;\n",
       "    }\n",
       "</style>\n",
       "<table border=\"1\" class=\"dataframe\">\n",
       "  <thead>\n",
       "    <tr style=\"text-align: right;\">\n",
       "      <th></th>\n",
       "      <th>Unnamed: 0</th>\n",
       "      <th>Unnamed: 1</th>\n",
       "      <th>Unnamed: 2</th>\n",
       "      <th>Unnamed: 3</th>\n",
       "      <th>Unnamed: 4</th>\n",
       "      <th>Unnamed: 5</th>\n",
       "      <th>Unnamed: 6</th>\n",
       "      <th>Unnamed: 7</th>\n",
       "      <th>Unnamed: 8</th>\n",
       "      <th>Unnamed: 9</th>\n",
       "      <th>...</th>\n",
       "      <th>Unnamed: 319</th>\n",
       "      <th>Unnamed: 320</th>\n",
       "      <th>Unnamed: 321</th>\n",
       "      <th>Unnamed: 322</th>\n",
       "      <th>Unnamed: 323</th>\n",
       "      <th>Unnamed: 324</th>\n",
       "      <th>Unnamed: 325</th>\n",
       "      <th>Unnamed: 326</th>\n",
       "      <th>Unnamed: 327</th>\n",
       "      <th>Unnamed: 328</th>\n",
       "    </tr>\n",
       "  </thead>\n",
       "  <tbody>\n",
       "    <tr>\n",
       "      <th>0</th>\n",
       "      <td>Município</td>\n",
       "      <td>SRS</td>\n",
       "      <td>ADS</td>\n",
       "      <td>Trabalhadores de Saúde - Meta</td>\n",
       "      <td>Trabalhadores de Saúde - Doses aplicadas (D1)</td>\n",
       "      <td>Trabalhadores de Saúde - Doses aplicadas (DU)</td>\n",
       "      <td>Trabalhadores de Saúde - Doses aplicadas (D2)</td>\n",
       "      <td>Trabalhadores de Saúde - Doses aplicadas (DR)</td>\n",
       "      <td>Trabalhadores de Saúde - Doses aplicadas (REF2)</td>\n",
       "      <td>Trabalhadores de Saúde - Doses distribuídas (D1)</td>\n",
       "      <td>...</td>\n",
       "      <td>População IBGE (Acima 12 anos)</td>\n",
       "      <td>População IBGE (Acima 18 anos)</td>\n",
       "      <td>População IBGE (Acima 70 anos)</td>\n",
       "      <td>População IBGE (40 anos e mais e Trabalhadores...</td>\n",
       "      <td>População (40 anos e mais Janssen)</td>\n",
       "      <td>CV (%) parcial - D1</td>\n",
       "      <td>CV (%) parcial - (D2+DU)</td>\n",
       "      <td>CV (%) parcial - (D3)</td>\n",
       "      <td>CV (%) parcial - DR/DA</td>\n",
       "      <td>CV (%) parcial - REF2/REF3</td>\n",
       "    </tr>\n",
       "    <tr>\n",
       "      <th>1</th>\n",
       "      <td>NaN</td>\n",
       "      <td>NaN</td>\n",
       "      <td>NaN</td>\n",
       "      <td>NaN</td>\n",
       "      <td>NaN</td>\n",
       "      <td>NaN</td>\n",
       "      <td>NaN</td>\n",
       "      <td>NaN</td>\n",
       "      <td>NaN</td>\n",
       "      <td>NaN</td>\n",
       "      <td>...</td>\n",
       "      <td>NaN</td>\n",
       "      <td>NaN</td>\n",
       "      <td>NaN</td>\n",
       "      <td>NaN</td>\n",
       "      <td>NaN</td>\n",
       "      <td>NaN</td>\n",
       "      <td>NaN</td>\n",
       "      <td>NaN</td>\n",
       "      <td>NaN</td>\n",
       "      <td>NaN</td>\n",
       "    </tr>\n",
       "    <tr>\n",
       "      <th>2</th>\n",
       "      <td>Abaiara</td>\n",
       "      <td>Cariri</td>\n",
       "      <td>19</td>\n",
       "      <td>157</td>\n",
       "      <td>205</td>\n",
       "      <td>1</td>\n",
       "      <td>205</td>\n",
       "      <td>313</td>\n",
       "      <td>205</td>\n",
       "      <td>199</td>\n",
       "      <td>...</td>\n",
       "      <td>9986</td>\n",
       "      <td>8915</td>\n",
       "      <td>753</td>\n",
       "      <td>4689</td>\n",
       "      <td>52</td>\n",
       "      <td>73,24</td>\n",
       "      <td>79,75</td>\n",
       "      <td>0</td>\n",
       "      <td>44,61</td>\n",
       "      <td>48,73</td>\n",
       "    </tr>\n",
       "    <tr>\n",
       "      <th>3</th>\n",
       "      <td>Acarape</td>\n",
       "      <td>Fortaleza</td>\n",
       "      <td>3</td>\n",
       "      <td>176</td>\n",
       "      <td>215</td>\n",
       "      <td>0</td>\n",
       "      <td>179</td>\n",
       "      <td>173</td>\n",
       "      <td>119</td>\n",
       "      <td>233</td>\n",
       "      <td>...</td>\n",
       "      <td>12586</td>\n",
       "      <td>11236</td>\n",
       "      <td>949</td>\n",
       "      <td>5863</td>\n",
       "      <td>28</td>\n",
       "      <td>88,78</td>\n",
       "      <td>81,57</td>\n",
       "      <td>1,78</td>\n",
       "      <td>58,42</td>\n",
       "      <td>42,01</td>\n",
       "    </tr>\n",
       "    <tr>\n",
       "      <th>4</th>\n",
       "      <td>Acaraú</td>\n",
       "      <td>Norte</td>\n",
       "      <td>12</td>\n",
       "      <td>824</td>\n",
       "      <td>1187</td>\n",
       "      <td>6</td>\n",
       "      <td>1182</td>\n",
       "      <td>690</td>\n",
       "      <td>132</td>\n",
       "      <td>1238</td>\n",
       "      <td>...</td>\n",
       "      <td>52835</td>\n",
       "      <td>47166</td>\n",
       "      <td>3983</td>\n",
       "      <td>24715</td>\n",
       "      <td>48</td>\n",
       "      <td>87,51</td>\n",
       "      <td>77,46</td>\n",
       "      <td>0</td>\n",
       "      <td>48,58</td>\n",
       "      <td>25,65</td>\n",
       "    </tr>\n",
       "  </tbody>\n",
       "</table>\n",
       "<p>5 rows × 329 columns</p>\n",
       "</div>"
      ],
      "text/plain": [
       "  Unnamed: 0 Unnamed: 1 Unnamed: 2                     Unnamed: 3  \\\n",
       "0  Município        SRS        ADS  Trabalhadores de Saúde - Meta   \n",
       "1        NaN        NaN        NaN                            NaN   \n",
       "2    Abaiara     Cariri         19                            157   \n",
       "3    Acarape  Fortaleza          3                            176   \n",
       "4     Acaraú      Norte         12                            824   \n",
       "\n",
       "                                      Unnamed: 4  \\\n",
       "0  Trabalhadores de Saúde - Doses aplicadas (D1)   \n",
       "1                                            NaN   \n",
       "2                                            205   \n",
       "3                                            215   \n",
       "4                                           1187   \n",
       "\n",
       "                                      Unnamed: 5  \\\n",
       "0  Trabalhadores de Saúde - Doses aplicadas (DU)   \n",
       "1                                            NaN   \n",
       "2                                              1   \n",
       "3                                              0   \n",
       "4                                              6   \n",
       "\n",
       "                                      Unnamed: 6  \\\n",
       "0  Trabalhadores de Saúde - Doses aplicadas (D2)   \n",
       "1                                            NaN   \n",
       "2                                            205   \n",
       "3                                            179   \n",
       "4                                           1182   \n",
       "\n",
       "                                      Unnamed: 7  \\\n",
       "0  Trabalhadores de Saúde - Doses aplicadas (DR)   \n",
       "1                                            NaN   \n",
       "2                                            313   \n",
       "3                                            173   \n",
       "4                                            690   \n",
       "\n",
       "                                        Unnamed: 8  \\\n",
       "0  Trabalhadores de Saúde - Doses aplicadas (REF2)   \n",
       "1                                              NaN   \n",
       "2                                              205   \n",
       "3                                              119   \n",
       "4                                              132   \n",
       "\n",
       "                                         Unnamed: 9  ...  \\\n",
       "0  Trabalhadores de Saúde - Doses distribuídas (D1)  ...   \n",
       "1                                               NaN  ...   \n",
       "2                                               199  ...   \n",
       "3                                               233  ...   \n",
       "4                                              1238  ...   \n",
       "\n",
       "                     Unnamed: 319                    Unnamed: 320  \\\n",
       "0  População IBGE (Acima 12 anos)  População IBGE (Acima 18 anos)   \n",
       "1                             NaN                             NaN   \n",
       "2                            9986                            8915   \n",
       "3                           12586                           11236   \n",
       "4                           52835                           47166   \n",
       "\n",
       "                     Unnamed: 321  \\\n",
       "0  População IBGE (Acima 70 anos)   \n",
       "1                             NaN   \n",
       "2                             753   \n",
       "3                             949   \n",
       "4                            3983   \n",
       "\n",
       "                                        Unnamed: 322  \\\n",
       "0  População IBGE (40 anos e mais e Trabalhadores...   \n",
       "1                                                NaN   \n",
       "2                                               4689   \n",
       "3                                               5863   \n",
       "4                                              24715   \n",
       "\n",
       "                         Unnamed: 323         Unnamed: 324  \\\n",
       "0  População (40 anos e mais Janssen)  CV (%) parcial - D1   \n",
       "1                                 NaN                  NaN   \n",
       "2                                  52                73,24   \n",
       "3                                  28                88,78   \n",
       "4                                  48                87,51   \n",
       "\n",
       "               Unnamed: 325           Unnamed: 326            Unnamed: 327  \\\n",
       "0  CV (%) parcial - (D2+DU)  CV (%) parcial - (D3)  CV (%) parcial - DR/DA   \n",
       "1                       NaN                    NaN                     NaN   \n",
       "2                     79,75                      0                   44,61   \n",
       "3                     81,57                   1,78                   58,42   \n",
       "4                     77,46                      0                   48,58   \n",
       "\n",
       "                 Unnamed: 328  \n",
       "0  CV (%) parcial - REF2/REF3  \n",
       "1                         NaN  \n",
       "2                       48,73  \n",
       "3                       42,01  \n",
       "4                       25,65  \n",
       "\n",
       "[5 rows x 329 columns]"
      ]
     },
     "execution_count": 2,
     "metadata": {},
     "output_type": "execute_result"
    }
   ],
   "source": [
    "df = pd.read_csv('dados_covid.csv')\n",
    "print (\"Número de linhas e colunas da tabela: {}\".format(df.shape))\n",
    "\n",
    "df.head()"
   ]
  },
  {
   "cell_type": "code",
   "execution_count": 3,
   "metadata": {},
   "outputs": [
    {
     "name": "stdout",
     "output_type": "stream",
     "text": [
      "Index(['Unnamed: 0', 'Unnamed: 1', 'Unnamed: 2', 'Unnamed: 3', 'Unnamed: 4',\n",
      "       'Unnamed: 5', 'Unnamed: 6', 'Unnamed: 7', 'Unnamed: 8', 'Unnamed: 9',\n",
      "       ...\n",
      "       'Unnamed: 319', 'Unnamed: 320', 'Unnamed: 321', 'Unnamed: 322',\n",
      "       'Unnamed: 323', 'Unnamed: 324', 'Unnamed: 325', 'Unnamed: 326',\n",
      "       'Unnamed: 327', 'Unnamed: 328'],\n",
      "      dtype='object', length=329)\n"
     ]
    }
   ],
   "source": [
    "print(df.columns)"
   ]
  },
  {
   "cell_type": "code",
   "execution_count": 4,
   "metadata": {},
   "outputs": [],
   "source": [
    "colunas_desejadas = ['Unnamed: 0','Unnamed: 319','Unnamed: 320','Unnamed: 321','Unnamed: 322','Unnamed: 323']"
   ]
  },
  {
   "cell_type": "code",
   "execution_count": 5,
   "metadata": {},
   "outputs": [],
   "source": [
    "df = df.loc[:, colunas_desejadas]"
   ]
  },
  {
   "cell_type": "code",
   "execution_count": 6,
   "metadata": {},
   "outputs": [
    {
     "name": "stdout",
     "output_type": "stream",
     "text": [
      "                                            Unnamed: 0  \\\n",
      "0                                            Município   \n",
      "1                                                  NaN   \n",
      "2                                              Abaiara   \n",
      "3                                              Acarape   \n",
      "4                                               Acaraú   \n",
      "..                                                 ...   \n",
      "186                                              CEARÁ   \n",
      "187  Fonte: Secretarias Municipais de Saúde. Dados ...   \n",
      "188  * Nota: Esses dados referem-se aos dados agreg...   \n",
      "189  **Nota: O % de doses aplicadas está calculado ...   \n",
      "190  ***Nota: Em razão do avanço da Campanha de Vac...   \n",
      "\n",
      "                       Unnamed: 319                    Unnamed: 320  \\\n",
      "0    População IBGE (Acima 12 anos)  População IBGE (Acima 18 anos)   \n",
      "1                               NaN                             NaN   \n",
      "2                              9986                            8915   \n",
      "3                             12586                           11236   \n",
      "4                             52835                           47166   \n",
      "..                              ...                             ...   \n",
      "186                       7.622.452                       6.802.007   \n",
      "187                             NaN                             NaN   \n",
      "188                             NaN                             NaN   \n",
      "189                             NaN                             NaN   \n",
      "190                             NaN                             NaN   \n",
      "\n",
      "                       Unnamed: 321  \\\n",
      "0    População IBGE (Acima 70 anos)   \n",
      "1                               NaN   \n",
      "2                               753   \n",
      "3                               949   \n",
      "4                              3983   \n",
      "..                              ...   \n",
      "186                         579.060   \n",
      "187                             NaN   \n",
      "188                             NaN   \n",
      "189                             NaN   \n",
      "190                             NaN   \n",
      "\n",
      "                                          Unnamed: 322  \\\n",
      "0    População IBGE (40 anos e mais e Trabalhadores...   \n",
      "1                                                  NaN   \n",
      "2                                                 4689   \n",
      "3                                                 5863   \n",
      "4                                                24715   \n",
      "..                                                 ...   \n",
      "186                                          3.744.257   \n",
      "187                                                NaN   \n",
      "188                                                NaN   \n",
      "189                                                NaN   \n",
      "190                                                NaN   \n",
      "\n",
      "                           Unnamed: 323  \n",
      "0    População (40 anos e mais Janssen)  \n",
      "1                                   NaN  \n",
      "2                                    52  \n",
      "3                                    28  \n",
      "4                                    48  \n",
      "..                                  ...  \n",
      "186                              22.755  \n",
      "187                                 NaN  \n",
      "188                                 NaN  \n",
      "189                                 NaN  \n",
      "190                                 NaN  \n",
      "\n",
      "[191 rows x 6 columns]\n"
     ]
    }
   ],
   "source": [
    "print(df)"
   ]
  },
  {
   "cell_type": "code",
   "execution_count": 7,
   "metadata": {},
   "outputs": [
    {
     "data": {
      "text/html": [
       "<div>\n",
       "<style scoped>\n",
       "    .dataframe tbody tr th:only-of-type {\n",
       "        vertical-align: middle;\n",
       "    }\n",
       "\n",
       "    .dataframe tbody tr th {\n",
       "        vertical-align: top;\n",
       "    }\n",
       "\n",
       "    .dataframe thead th {\n",
       "        text-align: right;\n",
       "    }\n",
       "</style>\n",
       "<table border=\"1\" class=\"dataframe\">\n",
       "  <thead>\n",
       "    <tr style=\"text-align: right;\">\n",
       "      <th></th>\n",
       "      <th>Unnamed: 0</th>\n",
       "      <th>Unnamed: 319</th>\n",
       "      <th>Unnamed: 320</th>\n",
       "      <th>Unnamed: 321</th>\n",
       "      <th>Unnamed: 322</th>\n",
       "      <th>Unnamed: 323</th>\n",
       "    </tr>\n",
       "  </thead>\n",
       "  <tbody>\n",
       "    <tr>\n",
       "      <th>0</th>\n",
       "      <td>Município</td>\n",
       "      <td>População IBGE (Acima 12 anos)</td>\n",
       "      <td>População IBGE (Acima 18 anos)</td>\n",
       "      <td>População IBGE (Acima 70 anos)</td>\n",
       "      <td>População IBGE (40 anos e mais e Trabalhadores...</td>\n",
       "      <td>População (40 anos e mais Janssen)</td>\n",
       "    </tr>\n",
       "    <tr>\n",
       "      <th>1</th>\n",
       "      <td>NaN</td>\n",
       "      <td>NaN</td>\n",
       "      <td>NaN</td>\n",
       "      <td>NaN</td>\n",
       "      <td>NaN</td>\n",
       "      <td>NaN</td>\n",
       "    </tr>\n",
       "    <tr>\n",
       "      <th>2</th>\n",
       "      <td>Abaiara</td>\n",
       "      <td>9986</td>\n",
       "      <td>8915</td>\n",
       "      <td>753</td>\n",
       "      <td>4689</td>\n",
       "      <td>52</td>\n",
       "    </tr>\n",
       "    <tr>\n",
       "      <th>3</th>\n",
       "      <td>Acarape</td>\n",
       "      <td>12586</td>\n",
       "      <td>11236</td>\n",
       "      <td>949</td>\n",
       "      <td>5863</td>\n",
       "      <td>28</td>\n",
       "    </tr>\n",
       "    <tr>\n",
       "      <th>4</th>\n",
       "      <td>Acaraú</td>\n",
       "      <td>52835</td>\n",
       "      <td>47166</td>\n",
       "      <td>3983</td>\n",
       "      <td>24715</td>\n",
       "      <td>48</td>\n",
       "    </tr>\n",
       "  </tbody>\n",
       "</table>\n",
       "</div>"
      ],
      "text/plain": [
       "  Unnamed: 0                    Unnamed: 319                    Unnamed: 320  \\\n",
       "0  Município  População IBGE (Acima 12 anos)  População IBGE (Acima 18 anos)   \n",
       "1        NaN                             NaN                             NaN   \n",
       "2    Abaiara                            9986                            8915   \n",
       "3    Acarape                           12586                           11236   \n",
       "4     Acaraú                           52835                           47166   \n",
       "\n",
       "                     Unnamed: 321  \\\n",
       "0  População IBGE (Acima 70 anos)   \n",
       "1                             NaN   \n",
       "2                             753   \n",
       "3                             949   \n",
       "4                            3983   \n",
       "\n",
       "                                        Unnamed: 322  \\\n",
       "0  População IBGE (40 anos e mais e Trabalhadores...   \n",
       "1                                                NaN   \n",
       "2                                               4689   \n",
       "3                                               5863   \n",
       "4                                              24715   \n",
       "\n",
       "                         Unnamed: 323  \n",
       "0  População (40 anos e mais Janssen)  \n",
       "1                                 NaN  \n",
       "2                                  52  \n",
       "3                                  28  \n",
       "4                                  48  "
      ]
     },
     "execution_count": 7,
     "metadata": {},
     "output_type": "execute_result"
    }
   ],
   "source": [
    "df.head()"
   ]
  },
  {
   "cell_type": "code",
   "execution_count": 8,
   "metadata": {},
   "outputs": [],
   "source": [
    "df_atual = {\n",
    "    'Unnamed: 0': 'Município',\n",
    "    'Unnamed: 319':'Acima 12 anos',\n",
    "    'Unnamed: 320':'Acima 18 anos',\n",
    "    'Unnamed: 321':'Acima 70 anos',\n",
    "    'Unnamed: 322':'40 anos e mais trabalhadores',\n",
    "    'Unnamed: 323':'40 anos e mais...Janssen'\n",
    "}"
   ]
  },
  {
   "cell_type": "code",
   "execution_count": 9,
   "metadata": {},
   "outputs": [],
   "source": [
    "df = df.rename(columns=df_atual)"
   ]
  },
  {
   "cell_type": "code",
   "execution_count": 10,
   "metadata": {},
   "outputs": [
    {
     "data": {
      "text/html": [
       "<div>\n",
       "<style scoped>\n",
       "    .dataframe tbody tr th:only-of-type {\n",
       "        vertical-align: middle;\n",
       "    }\n",
       "\n",
       "    .dataframe tbody tr th {\n",
       "        vertical-align: top;\n",
       "    }\n",
       "\n",
       "    .dataframe thead th {\n",
       "        text-align: right;\n",
       "    }\n",
       "</style>\n",
       "<table border=\"1\" class=\"dataframe\">\n",
       "  <thead>\n",
       "    <tr style=\"text-align: right;\">\n",
       "      <th></th>\n",
       "      <th>Município</th>\n",
       "      <th>Acima 12 anos</th>\n",
       "      <th>Acima 18 anos</th>\n",
       "      <th>Acima 70 anos</th>\n",
       "      <th>40 anos e mais trabalhadores</th>\n",
       "      <th>40 anos e mais...Janssen</th>\n",
       "    </tr>\n",
       "  </thead>\n",
       "  <tbody>\n",
       "    <tr>\n",
       "      <th>0</th>\n",
       "      <td>Município</td>\n",
       "      <td>População IBGE (Acima 12 anos)</td>\n",
       "      <td>População IBGE (Acima 18 anos)</td>\n",
       "      <td>População IBGE (Acima 70 anos)</td>\n",
       "      <td>População IBGE (40 anos e mais e Trabalhadores...</td>\n",
       "      <td>População (40 anos e mais Janssen)</td>\n",
       "    </tr>\n",
       "    <tr>\n",
       "      <th>1</th>\n",
       "      <td>NaN</td>\n",
       "      <td>NaN</td>\n",
       "      <td>NaN</td>\n",
       "      <td>NaN</td>\n",
       "      <td>NaN</td>\n",
       "      <td>NaN</td>\n",
       "    </tr>\n",
       "    <tr>\n",
       "      <th>2</th>\n",
       "      <td>Abaiara</td>\n",
       "      <td>9986</td>\n",
       "      <td>8915</td>\n",
       "      <td>753</td>\n",
       "      <td>4689</td>\n",
       "      <td>52</td>\n",
       "    </tr>\n",
       "    <tr>\n",
       "      <th>3</th>\n",
       "      <td>Acarape</td>\n",
       "      <td>12586</td>\n",
       "      <td>11236</td>\n",
       "      <td>949</td>\n",
       "      <td>5863</td>\n",
       "      <td>28</td>\n",
       "    </tr>\n",
       "    <tr>\n",
       "      <th>4</th>\n",
       "      <td>Acaraú</td>\n",
       "      <td>52835</td>\n",
       "      <td>47166</td>\n",
       "      <td>3983</td>\n",
       "      <td>24715</td>\n",
       "      <td>48</td>\n",
       "    </tr>\n",
       "  </tbody>\n",
       "</table>\n",
       "</div>"
      ],
      "text/plain": [
       "   Município                   Acima 12 anos                   Acima 18 anos  \\\n",
       "0  Município  População IBGE (Acima 12 anos)  População IBGE (Acima 18 anos)   \n",
       "1        NaN                             NaN                             NaN   \n",
       "2    Abaiara                            9986                            8915   \n",
       "3    Acarape                           12586                           11236   \n",
       "4     Acaraú                           52835                           47166   \n",
       "\n",
       "                    Acima 70 anos  \\\n",
       "0  População IBGE (Acima 70 anos)   \n",
       "1                             NaN   \n",
       "2                             753   \n",
       "3                             949   \n",
       "4                            3983   \n",
       "\n",
       "                        40 anos e mais trabalhadores  \\\n",
       "0  População IBGE (40 anos e mais e Trabalhadores...   \n",
       "1                                                NaN   \n",
       "2                                               4689   \n",
       "3                                               5863   \n",
       "4                                              24715   \n",
       "\n",
       "             40 anos e mais...Janssen  \n",
       "0  População (40 anos e mais Janssen)  \n",
       "1                                 NaN  \n",
       "2                                  52  \n",
       "3                                  28  \n",
       "4                                  48  "
      ]
     },
     "execution_count": 10,
     "metadata": {},
     "output_type": "execute_result"
    }
   ],
   "source": [
    "df.head()"
   ]
  },
  {
   "cell_type": "code",
   "execution_count": 12,
   "metadata": {},
   "outputs": [],
   "source": [
    "df = df.drop([0,1])"
   ]
  },
  {
   "cell_type": "code",
   "execution_count": 13,
   "metadata": {},
   "outputs": [
    {
     "data": {
      "text/html": [
       "<div>\n",
       "<style scoped>\n",
       "    .dataframe tbody tr th:only-of-type {\n",
       "        vertical-align: middle;\n",
       "    }\n",
       "\n",
       "    .dataframe tbody tr th {\n",
       "        vertical-align: top;\n",
       "    }\n",
       "\n",
       "    .dataframe thead th {\n",
       "        text-align: right;\n",
       "    }\n",
       "</style>\n",
       "<table border=\"1\" class=\"dataframe\">\n",
       "  <thead>\n",
       "    <tr style=\"text-align: right;\">\n",
       "      <th></th>\n",
       "      <th>Município</th>\n",
       "      <th>Acima 12 anos</th>\n",
       "      <th>Acima 18 anos</th>\n",
       "      <th>Acima 70 anos</th>\n",
       "      <th>40 anos e mais trabalhadores</th>\n",
       "      <th>40 anos e mais...Janssen</th>\n",
       "    </tr>\n",
       "  </thead>\n",
       "  <tbody>\n",
       "    <tr>\n",
       "      <th>2</th>\n",
       "      <td>Abaiara</td>\n",
       "      <td>9986</td>\n",
       "      <td>8915</td>\n",
       "      <td>753</td>\n",
       "      <td>4689</td>\n",
       "      <td>52</td>\n",
       "    </tr>\n",
       "    <tr>\n",
       "      <th>3</th>\n",
       "      <td>Acarape</td>\n",
       "      <td>12586</td>\n",
       "      <td>11236</td>\n",
       "      <td>949</td>\n",
       "      <td>5863</td>\n",
       "      <td>28</td>\n",
       "    </tr>\n",
       "    <tr>\n",
       "      <th>4</th>\n",
       "      <td>Acaraú</td>\n",
       "      <td>52835</td>\n",
       "      <td>47166</td>\n",
       "      <td>3983</td>\n",
       "      <td>24715</td>\n",
       "      <td>48</td>\n",
       "    </tr>\n",
       "    <tr>\n",
       "      <th>5</th>\n",
       "      <td>Acopiara</td>\n",
       "      <td>45462</td>\n",
       "      <td>40584</td>\n",
       "      <td>3427</td>\n",
       "      <td>21949</td>\n",
       "      <td>40</td>\n",
       "    </tr>\n",
       "    <tr>\n",
       "      <th>6</th>\n",
       "      <td>Aiuaba</td>\n",
       "      <td>14618</td>\n",
       "      <td>13049</td>\n",
       "      <td>1102</td>\n",
       "      <td>6887</td>\n",
       "      <td>124</td>\n",
       "    </tr>\n",
       "  </tbody>\n",
       "</table>\n",
       "</div>"
      ],
      "text/plain": [
       "  Município Acima 12 anos Acima 18 anos Acima 70 anos  \\\n",
       "2   Abaiara          9986          8915           753   \n",
       "3   Acarape         12586         11236           949   \n",
       "4    Acaraú         52835         47166          3983   \n",
       "5  Acopiara         45462         40584          3427   \n",
       "6    Aiuaba         14618         13049          1102   \n",
       "\n",
       "  40 anos e mais trabalhadores 40 anos e mais...Janssen  \n",
       "2                         4689                       52  \n",
       "3                         5863                       28  \n",
       "4                        24715                       48  \n",
       "5                        21949                       40  \n",
       "6                         6887                      124  "
      ]
     },
     "execution_count": 13,
     "metadata": {},
     "output_type": "execute_result"
    }
   ],
   "source": [
    "df.head()"
   ]
  },
  {
   "cell_type": "code",
   "execution_count": 14,
   "metadata": {},
   "outputs": [],
   "source": [
    "df = df.reset_index(drop=True)"
   ]
  },
  {
   "cell_type": "code",
   "execution_count": 15,
   "metadata": {},
   "outputs": [
    {
     "data": {
      "text/html": [
       "<div>\n",
       "<style scoped>\n",
       "    .dataframe tbody tr th:only-of-type {\n",
       "        vertical-align: middle;\n",
       "    }\n",
       "\n",
       "    .dataframe tbody tr th {\n",
       "        vertical-align: top;\n",
       "    }\n",
       "\n",
       "    .dataframe thead th {\n",
       "        text-align: right;\n",
       "    }\n",
       "</style>\n",
       "<table border=\"1\" class=\"dataframe\">\n",
       "  <thead>\n",
       "    <tr style=\"text-align: right;\">\n",
       "      <th></th>\n",
       "      <th>Município</th>\n",
       "      <th>Acima 12 anos</th>\n",
       "      <th>Acima 18 anos</th>\n",
       "      <th>Acima 70 anos</th>\n",
       "      <th>40 anos e mais trabalhadores</th>\n",
       "      <th>40 anos e mais...Janssen</th>\n",
       "    </tr>\n",
       "  </thead>\n",
       "  <tbody>\n",
       "    <tr>\n",
       "      <th>0</th>\n",
       "      <td>Abaiara</td>\n",
       "      <td>9986</td>\n",
       "      <td>8915</td>\n",
       "      <td>753</td>\n",
       "      <td>4689</td>\n",
       "      <td>52</td>\n",
       "    </tr>\n",
       "    <tr>\n",
       "      <th>1</th>\n",
       "      <td>Acarape</td>\n",
       "      <td>12586</td>\n",
       "      <td>11236</td>\n",
       "      <td>949</td>\n",
       "      <td>5863</td>\n",
       "      <td>28</td>\n",
       "    </tr>\n",
       "    <tr>\n",
       "      <th>2</th>\n",
       "      <td>Acaraú</td>\n",
       "      <td>52835</td>\n",
       "      <td>47166</td>\n",
       "      <td>3983</td>\n",
       "      <td>24715</td>\n",
       "      <td>48</td>\n",
       "    </tr>\n",
       "    <tr>\n",
       "      <th>3</th>\n",
       "      <td>Acopiara</td>\n",
       "      <td>45462</td>\n",
       "      <td>40584</td>\n",
       "      <td>3427</td>\n",
       "      <td>21949</td>\n",
       "      <td>40</td>\n",
       "    </tr>\n",
       "    <tr>\n",
       "      <th>4</th>\n",
       "      <td>Aiuaba</td>\n",
       "      <td>14618</td>\n",
       "      <td>13049</td>\n",
       "      <td>1102</td>\n",
       "      <td>6887</td>\n",
       "      <td>124</td>\n",
       "    </tr>\n",
       "  </tbody>\n",
       "</table>\n",
       "</div>"
      ],
      "text/plain": [
       "  Município Acima 12 anos Acima 18 anos Acima 70 anos  \\\n",
       "0   Abaiara          9986          8915           753   \n",
       "1   Acarape         12586         11236           949   \n",
       "2    Acaraú         52835         47166          3983   \n",
       "3  Acopiara         45462         40584          3427   \n",
       "4    Aiuaba         14618         13049          1102   \n",
       "\n",
       "  40 anos e mais trabalhadores 40 anos e mais...Janssen  \n",
       "0                         4689                       52  \n",
       "1                         5863                       28  \n",
       "2                        24715                       48  \n",
       "3                        21949                       40  \n",
       "4                         6887                      124  "
      ]
     },
     "execution_count": 15,
     "metadata": {},
     "output_type": "execute_result"
    }
   ],
   "source": [
    "df.head()"
   ]
  },
  {
   "cell_type": "code",
   "execution_count": 16,
   "metadata": {},
   "outputs": [],
   "source": [
    "nan_df = df.isna()"
   ]
  },
  {
   "cell_type": "code",
   "execution_count": 17,
   "metadata": {},
   "outputs": [],
   "source": [
    "df = df.fillna(0)"
   ]
  },
  {
   "cell_type": "code",
   "execution_count": 18,
   "metadata": {
    "id": "SC9YMWLSC8-6"
   },
   "outputs": [
    {
     "data": {
      "text/plain": [
       "189"
      ]
     },
     "execution_count": 18,
     "metadata": {},
     "output_type": "execute_result"
    }
   ],
   "source": [
    "df.shape[0]\n"
   ]
  },
  {
   "cell_type": "code",
   "execution_count": 20,
   "metadata": {
    "id": "PMztY1RlC8-7"
   },
   "outputs": [
    {
     "data": {
      "text/plain": [
       "'99868915753468952'"
      ]
     },
     "execution_count": 20,
     "metadata": {},
     "output_type": "execute_result"
    }
   ],
   "source": []
  },
  {
   "cell_type": "code",
   "execution_count": null,
   "metadata": {
    "id": "V_wr--3JC8-7"
   },
   "outputs": [],
   "source": [
    "# 3)\n"
   ]
  },
  {
   "cell_type": "code",
   "execution_count": null,
   "metadata": {
    "id": "SPHgIxtcC8-7"
   },
   "outputs": [],
   "source": [
    "# 3) solução alternativa\n"
   ]
  },
  {
   "cell_type": "code",
   "execution_count": null,
   "metadata": {
    "id": "S6ab9ExEC8-7"
   },
   "outputs": [],
   "source": [
    "# 4)\n"
   ]
  },
  {
   "cell_type": "code",
   "execution_count": null,
   "metadata": {
    "id": "PVrY_-qlC8-8"
   },
   "outputs": [],
   "source": [
    "# 5)\n"
   ]
  },
  {
   "cell_type": "markdown",
   "metadata": {
    "id": "LH1LSYvGC8-8"
   },
   "source": [
    "## 4) Vacinação II\n",
    "Gere um *DataFrame* que contenha somente os estabelecimentos que aplicaram vcinas a menores de 18 anos. Nesse *DataFrame* devem conter somente os dados dos estabelecimentos, mais uma coluna sendo a quantidade de vacinas que o estabelecimento aplicou a menores de 18 anos.  \n",
    "  \n",
    "1. crie uma cópia do *DataFrame* original, contendo somente os registros de vacinas realizadas a menores de 18 anos.  \n",
    "2. crie uma lista das colunas desse *DataFrame* com o atributo de *DataFrame* **.columns()**  \n",
    "3. Nesse *DataFrame* faça uma contagem do campo ```vacina_categoria_nome```.\n",
    "3. a partir da lista de colunas, escolha somente aquelas que são referentes ao estabelecimento, faça uma lista com esses valores.  \n",
    "4. usando o método *.loc*, selecione somente essas variáveis  \n",
    "5. Aplique o método **.drop_duplicates** e crie uma lista com uma linha para cada estabelecimento, com os dados do estabelecimento  "
   ]
  },
  {
   "cell_type": "code",
   "execution_count": null,
   "metadata": {
    "id": "3ojs12vUC8-8"
   },
   "outputs": [],
   "source": [
    "# 1)\n"
   ]
  },
  {
   "cell_type": "code",
   "execution_count": null,
   "metadata": {
    "id": "sLyevPRBC8-8"
   },
   "outputs": [],
   "source": [
    "# 2)\n"
   ]
  },
  {
   "cell_type": "code",
   "execution_count": null,
   "metadata": {
    "id": "lZAW-Dp8C8-8"
   },
   "outputs": [],
   "source": [
    "# 3)\n"
   ]
  },
  {
   "cell_type": "code",
   "execution_count": null,
   "metadata": {
    "id": "xxYsxrxAC8-8"
   },
   "outputs": [],
   "source": [
    "# 4)\n"
   ]
  },
  {
   "cell_type": "code",
   "execution_count": null,
   "metadata": {
    "id": "vaX2x_0rC8-8"
   },
   "outputs": [],
   "source": [
    "# 5)\n"
   ]
  }
 ],
 "metadata": {
  "colab": {
   "provenance": []
  },
  "kernelspec": {
   "display_name": "Python 3 (ipykernel)",
   "language": "python",
   "name": "python3"
  },
  "language_info": {
   "codemirror_mode": {
    "name": "ipython",
    "version": 3
   },
   "file_extension": ".py",
   "mimetype": "text/x-python",
   "name": "python",
   "nbconvert_exporter": "python",
   "pygments_lexer": "ipython3",
   "version": "3.11.5"
  },
  "toc": {
   "base_numbering": 1,
   "nav_menu": {},
   "number_sections": false,
   "sideBar": true,
   "skip_h1_title": true,
   "title_cell": "Índice",
   "title_sidebar": "Conteúdo",
   "toc_cell": false,
   "toc_position": {},
   "toc_section_display": true,
   "toc_window_display": false
  },
  "varInspector": {
   "cols": {
    "lenName": 16,
    "lenType": 16,
    "lenVar": 40
   },
   "kernels_config": {
    "python": {
     "delete_cmd_postfix": "",
     "delete_cmd_prefix": "del ",
     "library": "var_list.py",
     "varRefreshCmd": "print(var_dic_list())"
    },
    "r": {
     "delete_cmd_postfix": ") ",
     "delete_cmd_prefix": "rm(",
     "library": "var_list.r",
     "varRefreshCmd": "cat(var_dic_list()) "
    }
   },
   "types_to_exclude": [
    "module",
    "function",
    "builtin_function_or_method",
    "instance",
    "_Feature"
   ],
   "window_display": false
  }
 },
 "nbformat": 4,
 "nbformat_minor": 1
}
