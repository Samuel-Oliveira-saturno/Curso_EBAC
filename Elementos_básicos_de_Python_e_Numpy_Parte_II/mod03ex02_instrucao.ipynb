{
  "cells": [
    {
      "cell_type": "code",
      "execution_count": 18,
      "metadata": {
        "id": "fFhFteHV695k"
      },
      "outputs": [],
      "source": [
        "import numpy as np"
      ]
    },
    {
      "cell_type": "markdown",
      "metadata": {
        "id": "YLWEzg3N695m"
      },
      "source": [
        "### 1) Alturas  \n",
        "i. No trecho de código abaixo, crie um ndarray chamado ```altura_em_centimetros``` transformando a lista ```lista_de_alturas``` em um ndarray do numpy com a função ```np.array()```  \n",
        "ii. Crie um outro objeto ```altura_em_metros```, com os valores de ```altura_em_centimetros``` convertidos para metros."
      ]
    },
    {
      "cell_type": "code",
      "execution_count": 1,
      "metadata": {
        "id": "tx6DbJk7695o",
        "colab": {
          "base_uri": "https://localhost:8080/"
        },
        "outputId": "d68a66cc-80a3-4cfe-961c-e7b011dc41b5"
      },
      "outputs": [
        {
          "output_type": "execute_result",
          "data": {
            "text/plain": [
              "[170, 175, 180, 185]"
            ]
          },
          "metadata": {},
          "execution_count": 1
        }
      ],
      "source": [
        "lista_de_centimetros = list(range(170, 190, 5))\n",
        "lista_de_centimetros"
      ]
    },
    {
      "cell_type": "code",
      "execution_count": 7,
      "metadata": {
        "id": "-tXC4lyT695o",
        "colab": {
          "base_uri": "https://localhost:8080/"
        },
        "outputId": "7a235690-666c-48b1-df59-f512d2caac3c"
      },
      "outputs": [
        {
          "output_type": "stream",
          "name": "stdout",
          "text": [
            "Altura em centímetros: [170 175 180 185]\n"
          ]
        }
      ],
      "source": [
        "# I. Criando um ndarray chamado altura_em_centimetros\n",
        "lista_de_centimetros = list(range(170, 190, 5))\n",
        "altura_em_centimetros = np.array(lista_de_centimetros)\n",
        "\n",
        "# Exibindo os resultados\n",
        "print(\"Altura em centímetros:\", altura_em_centimetros)"
      ]
    },
    {
      "cell_type": "code",
      "execution_count": 9,
      "metadata": {
        "id": "zFDQt9_K695p",
        "colab": {
          "base_uri": "https://localhost:8080/"
        },
        "outputId": "252a5695-9656-47e9-eca8-b18ce1df4839"
      },
      "outputs": [
        {
          "output_type": "stream",
          "name": "stdout",
          "text": [
            "Altura em metros: [1.7  1.75 1.8  1.85]\n"
          ]
        }
      ],
      "source": [
        "# II. Convertendo para metros e criando o objeto altura_em_metros\n",
        "altura_em_metros = altura_em_centimetros / 100.0\n",
        "\n",
        "# Exibindo os resultados\n",
        "print(\"Altura em metros:\", altura_em_metros)"
      ]
    },
    {
      "cell_type": "markdown",
      "metadata": {
        "id": "hlsDzubv695p"
      },
      "source": [
        "### 2) IMC  \n",
        "i. Considere que pesos em Kg dessas pessoas, na mesma ortem, estão na lista pesos ```lista_pesos = [70, 75, 80, 85]```. Crie um **ndarray** chamado ```pesos``` com a função ```np.array()``` que contenha esses valores.  \n",
        "ii. Utilizando o objeto que contém as alturas em metros e esse objeto que contém os respectivos pesos em quilos, calcule o IMC desses indivíduos utilizando a aritmética de arrays e guarde os resultados em um objeto chamado ```imc```."
      ]
    },
    {
      "cell_type": "code",
      "execution_count": 11,
      "metadata": {
        "id": "YL87C0It695p",
        "outputId": "c9f0640d-4037-4281-c4b5-5bf7c9346e21",
        "colab": {
          "base_uri": "https://localhost:8080/"
        }
      },
      "outputs": [
        {
          "output_type": "stream",
          "name": "stdout",
          "text": [
            "Pesos em quilos: [70 75 80 85]\n",
            "Alturas em metros: [1.7  1.75 1.8  1.85]\n",
            "IMC: [24.22145329 24.48979592 24.69135802 24.83564646]\n"
          ]
        }
      ],
      "source": [
        "lista_pesos = [70, 75, 80, 85]\n",
        "lista_pesos\n",
        "# seu código aqui\n",
        "import numpy as np\n",
        "\n",
        "# I. Criando um ndarray chamado pesos\n",
        "lista_pesos = [70, 75, 80, 85]\n",
        "pesos = np.array(lista_pesos)\n",
        "\n",
        "# II. Calculando o IMC (Índice de Massa Corporal)\n",
        "altura_em_metros = altura_em_centimetros / 100.0\n",
        "imc = pesos / altura_em_metros**2\n",
        "\n",
        "# Exibindo os resultados\n",
        "print(\"Pesos em quilos:\", pesos)\n",
        "print(\"Alturas em metros:\", altura_em_metros)\n",
        "print(\"IMC:\", imc)\n"
      ]
    },
    {
      "cell_type": "markdown",
      "metadata": {
        "id": "k1JIBxZb695r"
      },
      "source": [
        "### 3) Endividamento\n",
        "\n",
        "Cálculos de novas variáveis como endividamento total e comprometimento de renda são essenciais para a construção de modelos financeiros em ciência de dados. Áreas não financeiras terão cálculos semelhantes também. Vamos praticar:\n",
        "\n",
        "Considere que o seguinte ndarray contém os dados de 4 pessoas, total a ser pago a empréstimos mensalmente e renda familiar:\n",
        "\n",
        "| custo fixo | dívida financeira | renda familiar |\n",
        "|:----:|:----:|:---|\n",
        "| 3000  | 1000 | 6000 |\n",
        "| 2500  | 2500 | 5500 |\n",
        "| 1000  | 3000 | 7000 |\n",
        "| 10000 | 5000 | 16000 |\n",
        "\n",
        "i. Transforme a lista de listas ```dados_financeiros``` no ndarray ```nd_financeiros```.\n",
        "> ``` dados_financeiros[[3000, 2500, 1000, 10000],[1000, 2500, 3000, 5000],[6000, 5500, 7000, 16000]] ```\n",
        "\n",
        "ii. Utilize o método ```.transpose ``` e certifique-se de que esse ndarray tenha uma linha por indivíduo e uma coluna por informação. Utilizando a indexação do numpy, imprima no output a segunda linha do array, depois a segunda coluna.\n",
        "\n",
        "iii. Pratique aritmética com nearrays e calcule o endividamento total como:\n",
        "$$endividamento\\hspace{.2cm}total = \\frac{custo \\hspace{.2cm}fixo + dívida\\hspace{.2cm}financeira}{renda\\hspace{.2cm}familiar}$$\n",
        "Guarde os resultados em uma variável chamada ```endividamento_total``` e verifique os resultados imprimindo o conteúdo dessa variável no output.\n",
        "\n",
        "iv. Considere que há um erro de digitação que precisa ser corrigido: 3o indivíduo na verdade não possui renda familiar de R\\\\$7.000,00, mas sim R\\\\$ 10.000,00. Corrija esse valor e refaça os cálculos."
      ]
    },
    {
      "cell_type": "code",
      "execution_count": 12,
      "metadata": {
        "id": "k17jw6kT695r",
        "colab": {
          "base_uri": "https://localhost:8080/"
        },
        "outputId": "778e46f2-b2db-46f4-d5f5-22763239978d"
      },
      "outputs": [
        {
          "output_type": "execute_result",
          "data": {
            "text/plain": [
              "[[3000, 2500, 1000, 10000],\n",
              " [1000, 2500, 3000, 5000],\n",
              " [6000, 5500, 7000, 16000]]"
            ]
          },
          "metadata": {},
          "execution_count": 12
        }
      ],
      "source": [
        "# lista dados_financeiros\n",
        "dados_financeiros = [[3000, 2500, 1000, 10000],[1000, 2500, 3000, 5000],[6000, 5500, 7000, 16000]]\n",
        "dados_financeiros\n",
        "#i) transforme essa lista em um ndarray"
      ]
    },
    {
      "cell_type": "code",
      "execution_count": 17,
      "metadata": {
        "id": "ecRsPjml695r",
        "colab": {
          "base_uri": "https://localhost:8080/"
        },
        "outputId": "16ac2b9c-f3e2-4582-8164-18ee4380ec92"
      },
      "outputs": [
        {
          "output_type": "stream",
          "name": "stdout",
          "text": [
            "i. ndarray dados_financeiros:\n",
            "[[ 3000  2500  1000 10000]\n",
            " [ 1000  2500  3000  5000]\n",
            " [ 6000  5500 10000 16000]]\n",
            "\n",
            "ii. Segunda linha e segunda coluna do array transposto:\n",
            "Segunda linha: [2500 2500 5500]\n",
            "Segunda coluna: [1000 2500 3000 5000]\n",
            "\n",
            "iii. Endividamento total antes da correção:\n",
            "[10000 10500 11000 31000]\n",
            "\n",
            "iv. Endividamento total após a correção:\n",
            "[10000 10500 14000 31000]\n"
          ]
        }
      ],
      "source": [
        "# i. Transformando a lista de listas em um ndarray\n",
        "dados_financeiros = np.array([[3000, 2500, 1000, 10000],\n",
        "                              [1000, 2500, 3000, 5000],\n",
        "                              [6000, 5500, 7000, 16000]])\n",
        "\n",
        "# ii. Transpondo o ndarray e acessando a segunda linha e a segunda coluna\n",
        "dados_transpostos = dados_financeiros.transpose()\n",
        "segunda_linha = dados_transpostos[1]\n",
        "segunda_coluna = dados_transpostos[:, 1]\n",
        "\n",
        "# iii. Calculando o endividamento total\n",
        "endividamento_total = dados_financeiros[0] + dados_financeiros[1] + dados_financeiros[2]\n",
        "\n",
        "# iv. Corrigindo o valor do terceiro indivíduo na renda familiar\n",
        "dados_financeiros[2, 2] = 10000\n",
        "# Recalculando o endividamento total após a correção\n",
        "endividamento_total_corrigido = dados_financeiros[0] + dados_financeiros[1] + dados_financeiros[2]\n",
        "\n",
        "# Exibindo os resultados\n",
        "print(\"i. ndarray dados_financeiros:\")\n",
        "print(dados_financeiros)\n",
        "\n",
        "print(\"\\nii. Segunda linha e segunda coluna do array transposto:\")\n",
        "print(\"Segunda linha:\", segunda_linha)\n",
        "print(\"Segunda coluna:\", segunda_coluna)\n",
        "\n",
        "print(\"\\niii. Endividamento total antes da correção:\")\n",
        "print(endividamento_total)\n",
        "\n",
        "print(\"\\niv. Endividamento total após a correção:\")\n",
        "print(endividamento_total_corrigido)\n"
      ]
    },
    {
      "cell_type": "markdown",
      "metadata": {
        "id": "RghMgSOX695t"
      },
      "source": [
        "### 4) É muito comum precisarmos identificar valores especiais e darmos tratamento a eles quer seja alterando-os quer seja descartando-os.\n",
        "\n",
        "O trecho de código abaixo gera um ndarray com números pseudo aleatórios. Considere que para efeitos do estudo que virá, devemos desconsiderar valores iguais a zero. Sendo assim:\n",
        "\n",
        "i) crie um objeto ```bool_zero``` que traga uma sequencia de booleanos do mesmo tamanho que o objeto poi, e que vale ```True``` quando o valor de ```poi``` é zero, e ```False``` caso contrário.\n",
        "\n",
        "ii) Conte quantos valores zero existem. Lembre-se de que no final das contas, ```True``` vale 1 para o Python, e ```False``` vale zero, então uma boa dica seria usar a função ```sum()```.\n",
        "\n",
        "iii) Utilize a indexação booleana que você aprendeu para criar uma variável ```poi_nao_zero``` que aponta para os elementos de ```poi``` diferentes de zero. Dica: você vai pode inverter os elementos do objeto que criou em *ii)* ou escrever a comparação adequada."
      ]
    },
    {
      "cell_type": "code",
      "execution_count": 19,
      "metadata": {
        "id": "Y6JUhNiT695t",
        "outputId": "437abf0b-a988-4197-af9f-05ce40a9620e",
        "colab": {
          "base_uri": "https://localhost:8080/"
        }
      },
      "outputs": [
        {
          "output_type": "execute_result",
          "data": {
            "text/plain": [
              "array([3, 3, 6, 2, 4, 5, 4, 4, 2, 0, 3, 3, 2, 8, 2, 3, 3, 3, 0, 4, 4, 2,\n",
              "       6, 6, 0, 3, 4, 3, 5, 2, 1, 3, 2, 2, 3, 2, 4, 4, 5, 7, 3, 5, 3, 3,\n",
              "       2, 2, 3, 6, 2, 2, 4, 3, 5, 2, 5, 3, 0, 2, 1, 1, 4, 4, 4, 6, 2, 4,\n",
              "       1, 2, 5, 5, 3, 4, 1, 4, 1, 1, 7, 1, 2, 1, 3, 7, 0, 4, 4, 0, 6, 1,\n",
              "       3, 4, 2, 5, 4, 5, 5, 3, 4, 6, 8, 2])"
            ]
          },
          "metadata": {},
          "execution_count": 19
        }
      ],
      "source": [
        "# objeto poi - obs: o comando np.random.seed(1234) garante que o mesmo resultado será gerado sempre\n",
        "np.random.seed(1234)\n",
        "poi = np.random.poisson(3, 100)\n",
        "poi"
      ]
    },
    {
      "cell_type": "code",
      "source": [
        "# Configurando a semente para garantir a reproducibilidade\n",
        "np.random.seed(1234)\n",
        "\n",
        "# i. Criando um objeto bool_zero com valores True para zero e False para outros valores\n",
        "poi = np.random.poisson(3, 100)\n",
        "bool_zero = (poi == 0)\n",
        "\n",
        "# ii. Contando quantos valores zero existem\n",
        "quantidade_zeros = np.sum(bool_zero)\n",
        "\n",
        "# iii. Criando uma variável poi_nao_zero usando indexação booleana\n",
        "poi_nao_zero = poi[~bool_zero]  # ~ inverte os valores True e False\n",
        "\n",
        "# Exibindo os resultados\n",
        "print(\"i. Objeto bool_zero:\")\n",
        "print(bool_zero)\n",
        "\n",
        "print(\"\\nii. Quantidade de valores zero:\", quantidade_zeros)\n",
        "\n",
        "print(\"\\niii. Variável poi_nao_zero:\")\n",
        "print(poi_nao_zero)\n"
      ],
      "metadata": {
        "colab": {
          "base_uri": "https://localhost:8080/"
        },
        "id": "HyDWtsB5LSFy",
        "outputId": "ba9bef1f-b0a3-4aa0-9c7f-7848ffca0c07"
      },
      "execution_count": 23,
      "outputs": [
        {
          "output_type": "stream",
          "name": "stdout",
          "text": [
            "i. Objeto bool_zero:\n",
            "[False False False False False False False False False  True False False\n",
            " False False False False False False  True False False False False False\n",
            "  True False False False False False False False False False False False\n",
            " False False False False False False False False False False False False\n",
            " False False False False False False False False  True False False False\n",
            " False False False False False False False False False False False False\n",
            " False False False False False False False False False False  True False\n",
            " False  True False False False False False False False False False False\n",
            " False False False False]\n",
            "\n",
            "ii. Quantidade de valores zero: 6\n",
            "\n",
            "iii. Variável poi_nao_zero:\n",
            "[3 3 6 2 4 5 4 4 2 3 3 2 8 2 3 3 3 4 4 2 6 6 3 4 3 5 2 1 3 2 2 3 2 4 4 5 7\n",
            " 3 5 3 3 2 2 3 6 2 2 4 3 5 2 5 3 2 1 1 4 4 4 6 2 4 1 2 5 5 3 4 1 4 1 1 7 1\n",
            " 2 1 3 7 4 4 6 1 3 4 2 5 4 5 5 3 4 6 8 2]\n"
          ]
        }
      ]
    }
  ],
  "metadata": {
    "kernelspec": {
      "display_name": "Python 3",
      "language": "python",
      "name": "python3"
    },
    "language_info": {
      "codemirror_mode": {
        "name": "ipython",
        "version": 3
      },
      "file_extension": ".py",
      "mimetype": "text/x-python",
      "name": "python",
      "nbconvert_exporter": "python",
      "pygments_lexer": "ipython3",
      "version": "3.8.5"
    },
    "colab": {
      "provenance": []
    }
  },
  "nbformat": 4,
  "nbformat_minor": 0
}