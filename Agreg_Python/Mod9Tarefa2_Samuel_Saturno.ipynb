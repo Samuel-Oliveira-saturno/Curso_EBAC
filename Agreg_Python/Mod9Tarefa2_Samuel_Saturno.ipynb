{
  "cells": [
    {
      "cell_type": "markdown",
      "metadata": {
        "id": "S0aXKq62gy1J"
      },
      "source": [
        "# Livro para consulta:\n",
        "- https://jakevdp.github.io/PythonDataScienceHandbook/03.08-aggregation-and-grouping.html\n",
        "- https://jakevdp.github.io/PythonDataScienceHandbook/03.09-pivot-tables.html\n",
        "    "
      ]
    },
    {
      "cell_type": "markdown",
      "metadata": {
        "id": "SjKStNabgy1P"
      },
      "source": [
        "# 1. Importando bibliotecas <a name=\"import\"></a>\n",
        "\n",
        "<div style=\"text-align: right\"\n",
        "     \n",
        "[Voltar ao índice](#Contents)"
      ]
    },
    {
      "cell_type": "code",
      "execution_count": 44,
      "metadata": {
        "ExecuteTime": {
          "end_time": "2021-06-06T21:12:37.298706Z",
          "start_time": "2021-06-06T21:12:36.656481Z"
        },
        "id": "ZgqVZIHcgy1P"
      },
      "outputs": [],
      "source": [
        "import numpy as np\n",
        "import pandas as pd\n",
        "import seaborn as sns\n",
        "import requests\n",
        "from bs4 import BeautifulSoup\n",
        "import matplotlib.pyplot as plt\n",
        "\n",
        "%matplotlib inline"
      ]
    },
    {
      "cell_type": "markdown",
      "metadata": {
        "id": "xTYTEcn4gy1Q"
      },
      "source": [
        "# 2. Carregando o dataframe SINASC <a name=\"read\"></a>\n",
        "<div style=\"text-align: right\"\n",
        "     \n",
        "[Voltar ao índice](#Contents)"
      ]
    },
    {
      "cell_type": "code",
      "execution_count": 39,
      "metadata": {
        "ExecuteTime": {
          "end_time": "2021-06-06T21:12:37.762376Z",
          "start_time": "2021-06-06T21:12:37.728383Z"
        },
        "scrolled": true,
        "colab": {
          "base_uri": "https://localhost:8080/",
          "height": 446
        },
        "id": "OmglJtvhgy1R",
        "outputId": "ec8cca65-8c77-4ce3-d1d6-5cbbb86c5367"
      },
      "outputs": [
        {
          "output_type": "execute_result",
          "data": {
            "text/plain": [
              "   ORIGEM   CODESTAB  CODMUNNASC  LOCNASC  IDADEMAE  ESTCIVMAE  \\\n",
              "0       1  2679477.0      110001        1        19        5.0   \n",
              "1       1  2679477.0      110001        1        29        2.0   \n",
              "2       1  2679477.0      110001        1        37        9.0   \n",
              "3       1  2516500.0      110001        1        30        5.0   \n",
              "4       1  2516500.0      110001        1        30        2.0   \n",
              "\n",
              "            ESCMAE  CODOCUPMAE  QTDFILVIVO  QTDFILMORT  ...  KOTELCHUCK  \\\n",
              "0      8 a 11 anos         NaN         0.0         0.0  ...           5   \n",
              "1      8 a 11 anos    999992.0         1.0         0.0  ...           5   \n",
              "2      8 a 11 anos    513205.0         2.0         0.0  ...           5   \n",
              "3  12 anos ou mais    231205.0         0.0         0.0  ...           4   \n",
              "4      8 a 11 anos    999992.0         1.0         0.0  ...           5   \n",
              "\n",
              "  CONTADOR munResStatus munResTipo               munResNome  munResUf  \\\n",
              "0        1        ATIVO      MUNIC    Alta Floresta D'Oeste  Rondônia   \n",
              "1        2        ATIVO      MUNIC    Alta Floresta D'Oeste  Rondônia   \n",
              "2        3        ATIVO      MUNIC    Alta Floresta D'Oeste  Rondônia   \n",
              "3        4        ATIVO      MUNIC  Alto Alegre dos Parecis  Rondônia   \n",
              "4        5        ATIVO      MUNIC    Alta Floresta D'Oeste  Rondônia   \n",
              "\n",
              "   munResLat munResLon  munResAlt  munResArea  \n",
              "0  -11.93554 -61.99982      338.0    7067.025  \n",
              "1  -11.93554 -61.99982      338.0    7067.025  \n",
              "2  -11.93554 -61.99982      338.0    7067.025  \n",
              "3  -12.13178 -61.85308      397.0    3958.273  \n",
              "4  -11.93554 -61.99982      338.0    7067.025  \n",
              "\n",
              "[5 rows x 69 columns]"
            ],
            "text/html": [
              "\n",
              "  <div id=\"df-c6db8838-74d0-4a18-8282-8a3b88772fa0\" class=\"colab-df-container\">\n",
              "    <div>\n",
              "<style scoped>\n",
              "    .dataframe tbody tr th:only-of-type {\n",
              "        vertical-align: middle;\n",
              "    }\n",
              "\n",
              "    .dataframe tbody tr th {\n",
              "        vertical-align: top;\n",
              "    }\n",
              "\n",
              "    .dataframe thead th {\n",
              "        text-align: right;\n",
              "    }\n",
              "</style>\n",
              "<table border=\"1\" class=\"dataframe\">\n",
              "  <thead>\n",
              "    <tr style=\"text-align: right;\">\n",
              "      <th></th>\n",
              "      <th>ORIGEM</th>\n",
              "      <th>CODESTAB</th>\n",
              "      <th>CODMUNNASC</th>\n",
              "      <th>LOCNASC</th>\n",
              "      <th>IDADEMAE</th>\n",
              "      <th>ESTCIVMAE</th>\n",
              "      <th>ESCMAE</th>\n",
              "      <th>CODOCUPMAE</th>\n",
              "      <th>QTDFILVIVO</th>\n",
              "      <th>QTDFILMORT</th>\n",
              "      <th>...</th>\n",
              "      <th>KOTELCHUCK</th>\n",
              "      <th>CONTADOR</th>\n",
              "      <th>munResStatus</th>\n",
              "      <th>munResTipo</th>\n",
              "      <th>munResNome</th>\n",
              "      <th>munResUf</th>\n",
              "      <th>munResLat</th>\n",
              "      <th>munResLon</th>\n",
              "      <th>munResAlt</th>\n",
              "      <th>munResArea</th>\n",
              "    </tr>\n",
              "  </thead>\n",
              "  <tbody>\n",
              "    <tr>\n",
              "      <th>0</th>\n",
              "      <td>1</td>\n",
              "      <td>2679477.0</td>\n",
              "      <td>110001</td>\n",
              "      <td>1</td>\n",
              "      <td>19</td>\n",
              "      <td>5.0</td>\n",
              "      <td>8 a 11 anos</td>\n",
              "      <td>NaN</td>\n",
              "      <td>0.0</td>\n",
              "      <td>0.0</td>\n",
              "      <td>...</td>\n",
              "      <td>5</td>\n",
              "      <td>1</td>\n",
              "      <td>ATIVO</td>\n",
              "      <td>MUNIC</td>\n",
              "      <td>Alta Floresta D'Oeste</td>\n",
              "      <td>Rondônia</td>\n",
              "      <td>-11.93554</td>\n",
              "      <td>-61.99982</td>\n",
              "      <td>338.0</td>\n",
              "      <td>7067.025</td>\n",
              "    </tr>\n",
              "    <tr>\n",
              "      <th>1</th>\n",
              "      <td>1</td>\n",
              "      <td>2679477.0</td>\n",
              "      <td>110001</td>\n",
              "      <td>1</td>\n",
              "      <td>29</td>\n",
              "      <td>2.0</td>\n",
              "      <td>8 a 11 anos</td>\n",
              "      <td>999992.0</td>\n",
              "      <td>1.0</td>\n",
              "      <td>0.0</td>\n",
              "      <td>...</td>\n",
              "      <td>5</td>\n",
              "      <td>2</td>\n",
              "      <td>ATIVO</td>\n",
              "      <td>MUNIC</td>\n",
              "      <td>Alta Floresta D'Oeste</td>\n",
              "      <td>Rondônia</td>\n",
              "      <td>-11.93554</td>\n",
              "      <td>-61.99982</td>\n",
              "      <td>338.0</td>\n",
              "      <td>7067.025</td>\n",
              "    </tr>\n",
              "    <tr>\n",
              "      <th>2</th>\n",
              "      <td>1</td>\n",
              "      <td>2679477.0</td>\n",
              "      <td>110001</td>\n",
              "      <td>1</td>\n",
              "      <td>37</td>\n",
              "      <td>9.0</td>\n",
              "      <td>8 a 11 anos</td>\n",
              "      <td>513205.0</td>\n",
              "      <td>2.0</td>\n",
              "      <td>0.0</td>\n",
              "      <td>...</td>\n",
              "      <td>5</td>\n",
              "      <td>3</td>\n",
              "      <td>ATIVO</td>\n",
              "      <td>MUNIC</td>\n",
              "      <td>Alta Floresta D'Oeste</td>\n",
              "      <td>Rondônia</td>\n",
              "      <td>-11.93554</td>\n",
              "      <td>-61.99982</td>\n",
              "      <td>338.0</td>\n",
              "      <td>7067.025</td>\n",
              "    </tr>\n",
              "    <tr>\n",
              "      <th>3</th>\n",
              "      <td>1</td>\n",
              "      <td>2516500.0</td>\n",
              "      <td>110001</td>\n",
              "      <td>1</td>\n",
              "      <td>30</td>\n",
              "      <td>5.0</td>\n",
              "      <td>12 anos ou mais</td>\n",
              "      <td>231205.0</td>\n",
              "      <td>0.0</td>\n",
              "      <td>0.0</td>\n",
              "      <td>...</td>\n",
              "      <td>4</td>\n",
              "      <td>4</td>\n",
              "      <td>ATIVO</td>\n",
              "      <td>MUNIC</td>\n",
              "      <td>Alto Alegre dos Parecis</td>\n",
              "      <td>Rondônia</td>\n",
              "      <td>-12.13178</td>\n",
              "      <td>-61.85308</td>\n",
              "      <td>397.0</td>\n",
              "      <td>3958.273</td>\n",
              "    </tr>\n",
              "    <tr>\n",
              "      <th>4</th>\n",
              "      <td>1</td>\n",
              "      <td>2516500.0</td>\n",
              "      <td>110001</td>\n",
              "      <td>1</td>\n",
              "      <td>30</td>\n",
              "      <td>2.0</td>\n",
              "      <td>8 a 11 anos</td>\n",
              "      <td>999992.0</td>\n",
              "      <td>1.0</td>\n",
              "      <td>0.0</td>\n",
              "      <td>...</td>\n",
              "      <td>5</td>\n",
              "      <td>5</td>\n",
              "      <td>ATIVO</td>\n",
              "      <td>MUNIC</td>\n",
              "      <td>Alta Floresta D'Oeste</td>\n",
              "      <td>Rondônia</td>\n",
              "      <td>-11.93554</td>\n",
              "      <td>-61.99982</td>\n",
              "      <td>338.0</td>\n",
              "      <td>7067.025</td>\n",
              "    </tr>\n",
              "  </tbody>\n",
              "</table>\n",
              "<p>5 rows × 69 columns</p>\n",
              "</div>\n",
              "    <div class=\"colab-df-buttons\">\n",
              "\n",
              "  <div class=\"colab-df-container\">\n",
              "    <button class=\"colab-df-convert\" onclick=\"convertToInteractive('df-c6db8838-74d0-4a18-8282-8a3b88772fa0')\"\n",
              "            title=\"Convert this dataframe to an interactive table.\"\n",
              "            style=\"display:none;\">\n",
              "\n",
              "  <svg xmlns=\"http://www.w3.org/2000/svg\" height=\"24px\" viewBox=\"0 -960 960 960\">\n",
              "    <path d=\"M120-120v-720h720v720H120Zm60-500h600v-160H180v160Zm220 220h160v-160H400v160Zm0 220h160v-160H400v160ZM180-400h160v-160H180v160Zm440 0h160v-160H620v160ZM180-180h160v-160H180v160Zm440 0h160v-160H620v160Z\"/>\n",
              "  </svg>\n",
              "    </button>\n",
              "\n",
              "  <style>\n",
              "    .colab-df-container {\n",
              "      display:flex;\n",
              "      gap: 12px;\n",
              "    }\n",
              "\n",
              "    .colab-df-convert {\n",
              "      background-color: #E8F0FE;\n",
              "      border: none;\n",
              "      border-radius: 50%;\n",
              "      cursor: pointer;\n",
              "      display: none;\n",
              "      fill: #1967D2;\n",
              "      height: 32px;\n",
              "      padding: 0 0 0 0;\n",
              "      width: 32px;\n",
              "    }\n",
              "\n",
              "    .colab-df-convert:hover {\n",
              "      background-color: #E2EBFA;\n",
              "      box-shadow: 0px 1px 2px rgba(60, 64, 67, 0.3), 0px 1px 3px 1px rgba(60, 64, 67, 0.15);\n",
              "      fill: #174EA6;\n",
              "    }\n",
              "\n",
              "    .colab-df-buttons div {\n",
              "      margin-bottom: 4px;\n",
              "    }\n",
              "\n",
              "    [theme=dark] .colab-df-convert {\n",
              "      background-color: #3B4455;\n",
              "      fill: #D2E3FC;\n",
              "    }\n",
              "\n",
              "    [theme=dark] .colab-df-convert:hover {\n",
              "      background-color: #434B5C;\n",
              "      box-shadow: 0px 1px 3px 1px rgba(0, 0, 0, 0.15);\n",
              "      filter: drop-shadow(0px 1px 2px rgba(0, 0, 0, 0.3));\n",
              "      fill: #FFFFFF;\n",
              "    }\n",
              "  </style>\n",
              "\n",
              "    <script>\n",
              "      const buttonEl =\n",
              "        document.querySelector('#df-c6db8838-74d0-4a18-8282-8a3b88772fa0 button.colab-df-convert');\n",
              "      buttonEl.style.display =\n",
              "        google.colab.kernel.accessAllowed ? 'block' : 'none';\n",
              "\n",
              "      async function convertToInteractive(key) {\n",
              "        const element = document.querySelector('#df-c6db8838-74d0-4a18-8282-8a3b88772fa0');\n",
              "        const dataTable =\n",
              "          await google.colab.kernel.invokeFunction('convertToInteractive',\n",
              "                                                    [key], {});\n",
              "        if (!dataTable) return;\n",
              "\n",
              "        const docLinkHtml = 'Like what you see? Visit the ' +\n",
              "          '<a target=\"_blank\" href=https://colab.research.google.com/notebooks/data_table.ipynb>data table notebook</a>'\n",
              "          + ' to learn more about interactive tables.';\n",
              "        element.innerHTML = '';\n",
              "        dataTable['output_type'] = 'display_data';\n",
              "        await google.colab.output.renderOutput(dataTable, element);\n",
              "        const docLink = document.createElement('div');\n",
              "        docLink.innerHTML = docLinkHtml;\n",
              "        element.appendChild(docLink);\n",
              "      }\n",
              "    </script>\n",
              "  </div>\n",
              "\n",
              "\n",
              "<div id=\"df-6420529c-93d6-4458-a32e-52fe3ea0660f\">\n",
              "  <button class=\"colab-df-quickchart\" onclick=\"quickchart('df-6420529c-93d6-4458-a32e-52fe3ea0660f')\"\n",
              "            title=\"Suggest charts\"\n",
              "            style=\"display:none;\">\n",
              "\n",
              "<svg xmlns=\"http://www.w3.org/2000/svg\" height=\"24px\"viewBox=\"0 0 24 24\"\n",
              "     width=\"24px\">\n",
              "    <g>\n",
              "        <path d=\"M19 3H5c-1.1 0-2 .9-2 2v14c0 1.1.9 2 2 2h14c1.1 0 2-.9 2-2V5c0-1.1-.9-2-2-2zM9 17H7v-7h2v7zm4 0h-2V7h2v10zm4 0h-2v-4h2v4z\"/>\n",
              "    </g>\n",
              "</svg>\n",
              "  </button>\n",
              "\n",
              "<style>\n",
              "  .colab-df-quickchart {\n",
              "      --bg-color: #E8F0FE;\n",
              "      --fill-color: #1967D2;\n",
              "      --hover-bg-color: #E2EBFA;\n",
              "      --hover-fill-color: #174EA6;\n",
              "      --disabled-fill-color: #AAA;\n",
              "      --disabled-bg-color: #DDD;\n",
              "  }\n",
              "\n",
              "  [theme=dark] .colab-df-quickchart {\n",
              "      --bg-color: #3B4455;\n",
              "      --fill-color: #D2E3FC;\n",
              "      --hover-bg-color: #434B5C;\n",
              "      --hover-fill-color: #FFFFFF;\n",
              "      --disabled-bg-color: #3B4455;\n",
              "      --disabled-fill-color: #666;\n",
              "  }\n",
              "\n",
              "  .colab-df-quickchart {\n",
              "    background-color: var(--bg-color);\n",
              "    border: none;\n",
              "    border-radius: 50%;\n",
              "    cursor: pointer;\n",
              "    display: none;\n",
              "    fill: var(--fill-color);\n",
              "    height: 32px;\n",
              "    padding: 0;\n",
              "    width: 32px;\n",
              "  }\n",
              "\n",
              "  .colab-df-quickchart:hover {\n",
              "    background-color: var(--hover-bg-color);\n",
              "    box-shadow: 0 1px 2px rgba(60, 64, 67, 0.3), 0 1px 3px 1px rgba(60, 64, 67, 0.15);\n",
              "    fill: var(--button-hover-fill-color);\n",
              "  }\n",
              "\n",
              "  .colab-df-quickchart-complete:disabled,\n",
              "  .colab-df-quickchart-complete:disabled:hover {\n",
              "    background-color: var(--disabled-bg-color);\n",
              "    fill: var(--disabled-fill-color);\n",
              "    box-shadow: none;\n",
              "  }\n",
              "\n",
              "  .colab-df-spinner {\n",
              "    border: 2px solid var(--fill-color);\n",
              "    border-color: transparent;\n",
              "    border-bottom-color: var(--fill-color);\n",
              "    animation:\n",
              "      spin 1s steps(1) infinite;\n",
              "  }\n",
              "\n",
              "  @keyframes spin {\n",
              "    0% {\n",
              "      border-color: transparent;\n",
              "      border-bottom-color: var(--fill-color);\n",
              "      border-left-color: var(--fill-color);\n",
              "    }\n",
              "    20% {\n",
              "      border-color: transparent;\n",
              "      border-left-color: var(--fill-color);\n",
              "      border-top-color: var(--fill-color);\n",
              "    }\n",
              "    30% {\n",
              "      border-color: transparent;\n",
              "      border-left-color: var(--fill-color);\n",
              "      border-top-color: var(--fill-color);\n",
              "      border-right-color: var(--fill-color);\n",
              "    }\n",
              "    40% {\n",
              "      border-color: transparent;\n",
              "      border-right-color: var(--fill-color);\n",
              "      border-top-color: var(--fill-color);\n",
              "    }\n",
              "    60% {\n",
              "      border-color: transparent;\n",
              "      border-right-color: var(--fill-color);\n",
              "    }\n",
              "    80% {\n",
              "      border-color: transparent;\n",
              "      border-right-color: var(--fill-color);\n",
              "      border-bottom-color: var(--fill-color);\n",
              "    }\n",
              "    90% {\n",
              "      border-color: transparent;\n",
              "      border-bottom-color: var(--fill-color);\n",
              "    }\n",
              "  }\n",
              "</style>\n",
              "\n",
              "  <script>\n",
              "    async function quickchart(key) {\n",
              "      const quickchartButtonEl =\n",
              "        document.querySelector('#' + key + ' button');\n",
              "      quickchartButtonEl.disabled = true;  // To prevent multiple clicks.\n",
              "      quickchartButtonEl.classList.add('colab-df-spinner');\n",
              "      try {\n",
              "        const charts = await google.colab.kernel.invokeFunction(\n",
              "            'suggestCharts', [key], {});\n",
              "      } catch (error) {\n",
              "        console.error('Error during call to suggestCharts:', error);\n",
              "      }\n",
              "      quickchartButtonEl.classList.remove('colab-df-spinner');\n",
              "      quickchartButtonEl.classList.add('colab-df-quickchart-complete');\n",
              "    }\n",
              "    (() => {\n",
              "      let quickchartButtonEl =\n",
              "        document.querySelector('#df-6420529c-93d6-4458-a32e-52fe3ea0660f button');\n",
              "      quickchartButtonEl.style.display =\n",
              "        google.colab.kernel.accessAllowed ? 'block' : 'none';\n",
              "    })();\n",
              "  </script>\n",
              "</div>\n",
              "\n",
              "    </div>\n",
              "  </div>\n"
            ],
            "application/vnd.google.colaboratory.intrinsic+json": {
              "type": "dataframe",
              "variable_name": "sinasc_raw"
            }
          },
          "metadata": {},
          "execution_count": 39
        }
      ],
      "source": [
        "sinasc_raw = pd.read_csv('SINASC_RO_2019.csv')\n",
        "sinasc_raw.head()"
      ]
    },
    {
      "cell_type": "markdown",
      "metadata": {
        "id": "_zqYXb3qgy1S"
      },
      "source": [
        "# Tarefa 2"
      ]
    },
    {
      "cell_type": "markdown",
      "metadata": {
        "id": "QmuB6lLvgy1T"
      },
      "source": [
        "### 1. Crie 2 faixas de Latitude do município (munResLat) sendo uma acima e outra abaixo de -10.5 e aplique o groupby usando essas faixas como chave e realize operações de soma, media, minimo, maximo, mediana, desvio padrao, variancia pra pelo menos 2 variáveis numéricas ainda não utilizadas"
      ]
    },
    {
      "cell_type": "code",
      "execution_count": 40,
      "metadata": {
        "colab": {
          "base_uri": "https://localhost:8080/"
        },
        "id": "1OnJNwgZgy1T",
        "outputId": "f489185b-b4eb-4d3e-8b4a-03e871d65769"
      },
      "outputs": [
        {
          "output_type": "stream",
          "name": "stdout",
          "text": [
            "                IDADEMAE                                                 \\\n",
            "                     sum       mean min max median       std        var   \n",
            "FaixaLat                                                                  \n",
            "Abaixo de -10.5   340143  26.178943  12  53   26.0  6.320385  39.947272   \n",
            "Acima de -10.5    365094  26.014964  11  52   25.0  6.447663  41.572355   \n",
            "\n",
            "                QTDFILVIVO                                                  \n",
            "                       sum      mean  min   max median       std       var  \n",
            "FaixaLat                                                                    \n",
            "Abaixo de -10.5    12600.0  0.980011  0.0  30.0    1.0  1.138300  1.295727  \n",
            "Acima de -10.5     14226.0  1.129317  0.0  12.0    1.0  1.198613  1.436674  \n"
          ]
        }
      ],
      "source": [
        "# 1. Criar uma coluna indicando a faixa de latitude do município\n",
        "sinasc_raw['FaixaLat'] = pd.cut(sinasc_raw['munResLat'], bins=[-float('inf'), -10.5, float('inf')], labels=['Abaixo de -10.5', 'Acima de -10.5'])\n",
        "\n",
        "# 2. Usar groupby com a coluna de faixa de latitude\n",
        "grouped = sinasc_raw.groupby('FaixaLat')\n",
        "\n",
        "# 3. Aplicar operações de agregação para as variáveis numéricas selecionadas\n",
        "aggregated_results = grouped.agg({\n",
        "    'IDADEMAE': ['sum', 'mean', 'min', 'max', 'median', 'std', 'var'],\n",
        "    'QTDFILVIVO': ['sum', 'mean', 'min', 'max', 'median', 'std', 'var']\n",
        "})\n",
        "\n",
        "# Visualizando os resultados\n",
        "print(aggregated_results)\n"
      ]
    },
    {
      "cell_type": "markdown",
      "source": [
        "\n",
        "### Insight 01:\n",
        "\n",
        "### Idade média das mães:\n",
        "\n",
        "A média de idade das mães é semelhante nas duas\n",
        "\n",
        "*   faixas de latitude, com valores em torno de 26 anos.\n",
        "*   A distribuição das idades parece ser relativamente próxima, com medianas próximas a 25-26 anos.\n",
        "*   A faixa de idade das mães varia de 11 a 53 anos, indicando uma ampla distribuição de idades.\n",
        "\n",
        "### Número médio de filhos vivos:\n",
        "\n",
        "*   A média do número de filhos vivos parece ser ligeiramente maior na faixa de latitude acima de -10.5, com cerca de 1.13 filhos, em comparação com cerca de 0.98 na faixa abaixo de -10.5.\n",
        "*   Ambas as faixas têm uma mediana de 1 filho vivo.\n",
        "A variabilidade no número de filhos vivos parece ser maior na faixa de latitude acima de -10.5, com um desvio padrão ligeiramente maior e uma variância mais alta.\n",
        "\n",
        "\n",
        "### Os valores obtidos indicam as características demográficas em relação as mães nos municípios de Rondônia, diferenciadas por faixas de latitude. Essas informações podem ser úteis para planejar e desenvolver políticas públicas voltadas para a saúde materna e infantil, bem como para entender melhor as características demográficas das diferentes regiões."
      ],
      "metadata": {
        "id": "n9wZrsF2QaTJ"
      }
    },
    {
      "cell_type": "markdown",
      "metadata": {
        "id": "4Xj_34lxgy1T"
      },
      "source": [
        "### 2. Crie 2 faixas da área dos municípios (munResArea) sendo uma acima e outra abaixo de 3000 e aplique o groupby usando essas faixas como chave e realize operações de soma, media, minimo, maximo, mediana, desvio padrao, variancia pra pelo menos 2 variáveis numéricas ainda não utilizadas\n"
      ]
    },
    {
      "cell_type": "code",
      "execution_count": 41,
      "metadata": {
        "colab": {
          "base_uri": "https://localhost:8080/"
        },
        "id": "YO9WeIRngy1T",
        "outputId": "87489119-c1fa-4dfd-b62c-e2016797b035"
      },
      "outputs": [
        {
          "output_type": "stream",
          "name": "stdout",
          "text": [
            "               IDADEMAE                                                 \\\n",
            "                    sum       mean min max median       std        var   \n",
            "FaixaArea                                                                \n",
            "Abaixo de 3000   137389  26.324775  11  53   26.0  6.305535  39.759775   \n",
            "Acima de 3000    567848  26.038518  12  53   25.0  6.405497  41.030387   \n",
            "\n",
            "               QTDFILMORT                                                  \n",
            "                      sum      mean  min   max median       std       var  \n",
            "FaixaArea                                                                  \n",
            "Abaixo de 3000     1260.0  0.244803  0.0   4.0    0.0  0.551215  0.303838  \n",
            "Acima de 3000      5383.0  0.272116  0.0  28.0    0.0  0.629081  0.395743  \n"
          ]
        }
      ],
      "source": [
        "# 1. Criar uma coluna indicando a faixa de área dos municípios\n",
        "sinasc_raw['FaixaArea'] = pd.cut(sinasc_raw['munResArea'], bins=[-float('inf'), 3000, float('inf')], labels=['Abaixo de 3000', 'Acima de 3000'])\n",
        "\n",
        "# 2. Usar groupby com a coluna de faixa de área\n",
        "grouped_area = sinasc_raw.groupby('FaixaArea')\n",
        "\n",
        "# 3. Aplicar operações de agregação para as variáveis numéricas selecionadas\n",
        "aggregated_results_area = grouped_area.agg({\n",
        "    'IDADEMAE': ['sum', 'mean', 'min', 'max', 'median', 'std', 'var'],\n",
        "    'QTDFILMORT': ['sum', 'mean', 'min', 'max', 'median', 'std', 'var']\n",
        "})\n",
        "\n",
        "# Visualizando os resultados\n",
        "print(aggregated_results_area)\n"
      ]
    },
    {
      "cell_type": "markdown",
      "source": [
        "Insights 02:\n",
        "\n",
        "### Idade média das mães:\n",
        "\n",
        "1.   A média de idade das mães é semelhante em ambas as faixas de área, com valores em torno de 26 anos.\n",
        "\n",
        "2.   A distribuição das idades parece ser relativamente próxima, com medianas próximas a 25-26 anos.\n",
        "\n",
        "3.   A faixa de idade das mães varia de 11 a 53 anos, indicando uma ampla distribuição de idades.\n",
        "\n",
        "### Número médio de filhos mortos:\n",
        "\n",
        "1.   A média do número de filhos mortos parece ser ligeiramente maior na faixa de área acima de 3000, com cerca de 0.27 filhos, em comparação com cerca de 0.24 na faixa abaixo de 3000.\n",
        "\n",
        "2.   Ambas as faixas têm uma mediana de 0 filho morto.\n",
        "\n",
        "3.   A variabilidade no número de filhos mortos parece ser um pouco maior na faixa de área acima de 3000, com um desvio padrão e uma variância ligeiramente maiores.\n",
        "\n",
        "### Temos uma visão das características demográficas das mães nos municípios de Rondônia, diferenciadas por faixas de área. Essas informações podem ser úteis para entender melhor as características demográficas das diferentes regiões e para orientar políticas públicas relacionadas à saúde materna e infantil, especialmente em relação ao número de filhos mortos."
      ],
      "metadata": {
        "id": "B57dzSDRTuMN"
      }
    },
    {
      "cell_type": "markdown",
      "metadata": {
        "id": "GwJZ3Ykdgy1T"
      },
      "source": [
        "### 3. Determine faixas na variável munResAlt e aplique o groupby usando essas faixas como chave e realize operações de soma, media, minimo, maximo, mediana, desvio padrao, variancia pra pelo menos 2 variáveis numéricas ainda não utilizadas"
      ]
    },
    {
      "cell_type": "code",
      "source": [
        "# 1. Determinar faixas na variável munResAlt\n",
        "alt_bins = pd.cut(sinasc_raw['munResAlt'], bins=5)  # Dividindo em 5 faixas, você pode ajustar o número de faixas conforme necessário\n",
        "\n",
        "# Adicionar as faixas ao DataFrame\n",
        "sinasc_raw['AltitudeFaixa'] = alt_bins\n",
        "\n",
        "# 2. Usar groupby com a coluna de faixa de altitude\n",
        "grouped_altitude = sinasc_raw.groupby('AltitudeFaixa')\n",
        "\n",
        "# 3. Aplicar operações de agregação para as variáveis numéricas selecionadas\n",
        "aggregated_results_altitude = grouped_altitude.agg({\n",
        "    'IDADEMAE': ['sum', 'mean', 'min', 'max', 'median', 'std', 'var'],\n",
        "    'QTDFILMORT': ['sum', 'mean', 'min', 'max', 'median', 'std', 'var']\n",
        "})\n",
        "\n",
        "# Visualizando os resultados\n",
        "print(aggregated_results_altitude)\n"
      ],
      "metadata": {
        "colab": {
          "base_uri": "https://localhost:8080/"
        },
        "id": "i-EtxlGzrfIg",
        "outputId": "cc8cb4dc-9d94-4c0d-bc5a-6d2b9fe41990"
      },
      "execution_count": 42,
      "outputs": [
        {
          "output_type": "stream",
          "name": "stdout",
          "text": [
            "               IDADEMAE                                                 \\\n",
            "                    sum       mean min max median       std        var   \n",
            "AltitudeFaixa                                                            \n",
            "(84.49, 187.0]   524269  26.027354  11  52   25.0  6.426582  41.300960   \n",
            "(187.0, 289.0]   114398  26.280266  13  53   26.0  6.213165  38.603418   \n",
            "(289.0, 391.0]    14807  25.841187  13  53   25.0  6.402653  40.993965   \n",
            "(391.0, 493.0]     9733  26.448370  14  47   26.0  6.484738  42.051823   \n",
            "(493.0, 595.0]    42030  26.433962  14  46   26.0  6.310937  39.827921   \n",
            "\n",
            "               QTDFILMORT                                                  \n",
            "                      sum      mean  min   max median       std       var  \n",
            "AltitudeFaixa                                                              \n",
            "(84.49, 187.0]     5008.0  0.275649  0.0   9.0    0.0  0.607269  0.368776  \n",
            "(187.0, 289.0]     1047.0  0.246295  0.0   4.0    0.0  0.544303  0.296266  \n",
            "(289.0, 391.0]      108.0  0.191150  0.0   3.0    0.0  0.463864  0.215170  \n",
            "(391.0, 493.0]       82.0  0.225895  0.0   3.0    0.0  0.518915  0.269272  \n",
            "(493.0, 595.0]      398.0  0.251580  0.0  28.0    0.0  0.874790  0.765257  \n"
          ]
        }
      ]
    },
    {
      "cell_type": "markdown",
      "source": [
        "### Insight 03:\n",
        "\n",
        "### Idade média das mães:\n",
        "\n",
        "\n",
        "1.   A média de idade das mães é relativamente consistente em todas as faixas de altitude, variando de aproximadamente 25.8 a 26.4 anos.\n",
        "\n",
        "2.   A distribuição das idades parece ser similar entre as faixas, com medianas em torno de 25-26 anos.\n",
        "\n",
        "3.   A faixa de idade das mães varia de 11 a 53 anos em todas as faixas de altitude.\n",
        "\n",
        "\n",
        "### Número médio de filhos mortos:\n",
        "\n",
        "\n",
        "1.   O número médio de filhos mortos parece variar ligeiramente entre as faixas de altitude.\n",
        "\n",
        "2.   As faixas de altitude mais baixas (84.49 a 187.0) e mais altas (493.0 a 595.0) têm uma média de filhos mortos ligeiramente mais alta, em torno de 0.25 a 0.28, respectivamente.\n",
        "\n",
        "3.   As faixas de altitude intermediárias têm uma média de filhos mortos um pouco menor, variando de aproximadamente 0.19 a 0.25.\n",
        "\n",
        "\n",
        "\n",
        "\n",
        "\n",
        "\n",
        "\n",
        "\n"
      ],
      "metadata": {
        "id": "iFQEm4RYWRJ_"
      }
    },
    {
      "cell_type": "markdown",
      "metadata": {
        "id": "_Z5wgZBTgy1T"
      },
      "source": [
        "### 4. Plote no mesmo grafico ao longo do tempo a idade media das mulheres de cada regiao imediatas de rondonia\n",
        "https://pt.wikipedia.org/wiki/Lista_de_regi%C3%B5es_geogr%C3%A1ficas_intermedi%C3%A1rias_e_imediatas_de_Rond%C3%B4nia"
      ]
    },
    {
      "cell_type": "code",
      "source": [
        "# Mapeamento das regiões imediatas para os respectivos municípios\n",
        "regioes_imediatas = {\n",
        "    'Porto Velho': ['Candeias do Jamari', 'Guajará-Mirim', 'Itapuã do Oeste', 'Nova Mamoré', 'Porto Velho'],\n",
        "    'Ariquemes': ['Alto Paraíso', 'Ariquemes', 'Buritis', 'Cacaulândia', 'Campo Novo de Rondônia', 'Cujubim', 'Monte Negro', 'Rio Crespo'],\n",
        "    'Jaru': ['Governador Jorge Teixeira', 'Jaru', 'Machadinho d\\'Oeste', 'Theobroma', 'Vale do Anari']\n",
        "}\n",
        "\n",
        "# Filtrar os dados para incluir apenas os municípios das regiões imediatas especificadas\n",
        "sinasc_regioes = sinasc_raw[sinasc_raw['munResNome'].isin(sum(regioes_imediatas.values(), []))].copy()\n",
        "\n",
        "# Extrair o ano dos dados\n",
        "sinasc_regioes['ANO'] = pd.to_datetime(sinasc_regioes['DTNASC']).dt.year\n",
        "\n",
        "# Agrupar os dados por região imediata e ano, calculando a idade média das mulheres\n",
        "idade_media_por_regiao = sinasc_regioes.groupby(['munResNome', 'ANO'])['IDADEMAE'].mean().unstack()\n",
        "\n",
        "# Plotar o gráfico\n",
        "idade_media_por_regiao.plot(kind='line', marker='o', figsize=(12, 8))\n",
        "plt.title('Idade Média das Mulheres por Região Imediata de Rondônia ao Longo do Tempo')\n",
        "plt.xlabel('Ano')\n",
        "plt.ylabel('Idade Média')\n",
        "plt.grid(True)\n",
        "plt.legend(title='Região Imediata')\n",
        "\n",
        "# Definir os rótulos do eixo x manualmente\n",
        "plt.xticks(range(len(idade_media_por_regiao.index)), idade_media_por_regiao.index)\n",
        "\n",
        "plt.tight_layout()\n",
        "plt.show()\n"
      ],
      "metadata": {
        "colab": {
          "base_uri": "https://localhost:8080/",
          "height": 573
        },
        "id": "IFE1H9u64oWg",
        "outputId": "d9345857-49f5-432c-9b8b-07d3b7a36363"
      },
      "execution_count": 43,
      "outputs": [
        {
          "output_type": "display_data",
          "data": {
            "text/plain": [
              "<Figure size 1200x800 with 1 Axes>"
            ],
            "image/png": "[encoded data removed]"
          },
          "metadata": {}
        }
      ]
    },
    {
      "cell_type": "markdown",
      "metadata": {
        "id": "SpnTiodCgy1U"
      },
      "source": [
        "### 5. Utilize a tabela do link abaixo e crie faixas utilizando o mapping e gere agrupamentos utilizando essas faixas como chave\n"
      ]
    },
    {
      "cell_type": "markdown",
      "metadata": {
        "id": "vl2JABm9gy1U"
      },
      "source": [
        "### 5.1 IDH\n",
        "A - https://pt.wikipedia.org/wiki/Lista_de_munic%C3%ADpios_de_Rond%C3%B4nia_por_IDH-M\n"
      ]
    },
    {
      "cell_type": "code",
      "source": [
        "# URL da página da Wikipedia\n",
        "url = \"https://pt.wikipedia.org/wiki/Lista_de_munic%C3%ADpios_de_Rond%C3%B4nia_por_IDH-M\"\n",
        "\n",
        "# Fazendo uma solicitação GET para obter o conteúdo da página\n",
        "response = requests.get(url)\n",
        "\n",
        "# Criando um objeto BeautifulSoup para analisar o conteúdo HTML\n",
        "soup = BeautifulSoup(response.content, \"html.parser\")\n",
        "\n",
        "# Encontrando a tabela na página com base na classe wikitable\n",
        "table = soup.find(\"table\", {\"class\": \"wikitable\"})\n",
        "\n",
        "# Lendo a tabela em um DataFrame do Pandas\n",
        "# Especificando que o cabeçalho está na terceira linha (índice 2)\n",
        "df = pd.read_html(str(table), header=2)[0]\n",
        "\n",
        "# Limpando e preparando os dados\n",
        "# Remover linhas com valores NaN\n",
        "df = df.dropna()\n",
        "\n",
        "# Remover linhas de cabeçalho\n",
        "df = df[df[\"IDH-M muito alto\"] != \"nenhum município\"]\n",
        "\n",
        "# Renomear as colunas para facilitar o acesso\n",
        "df.columns = [\"Posição\", \"munResNome\", \"IDH_municipal\", \"IDH_renda\", \"IDH_longevidade\", \"IDH_educação\"]\n",
        "\n",
        "# Exibir o DataFrame\n",
        "print(df.head())\n"
      ],
      "metadata": {
        "colab": {
          "base_uri": "https://localhost:8080/"
        },
        "id": "_iHchtabMqoi",
        "outputId": "39412f40-7866-467c-ad2e-cac072b41597"
      },
      "execution_count": 48,
      "outputs": [
        {
          "output_type": "stream",
          "name": "stdout",
          "text": [
            "      Posição   munResNome IDH_municipal   IDH_renda IDH_longevidade  \\\n",
            "1  IDH-M alto   IDH-M alto    IDH-M alto  IDH-M alto      IDH-M alto   \n",
            "2           1  Porto Velho         0.736       0.764           0.819   \n",
            "3           2      Vilhena         0.731       0.734           0.808   \n",
            "4           3       Cacoal         0.718       0.727           0.821   \n",
            "5           4    Ji-Paraná         0.714       0.728           0.810   \n",
            "\n",
            "  IDH_educação  \n",
            "1   IDH-M alto  \n",
            "2        0.638  \n",
            "3        0.659  \n",
            "4        0.620  \n",
            "5        0.617  \n"
          ]
        }
      ]
    },
    {
      "cell_type": "markdown",
      "source": [
        "### Insight 04:\n",
        "Os dados fornecem informações sobre o Índice de Desenvolvimento Humano Municipal (IDH-M) de alguns municípios de Rondônia. O IDH-M é uma medida composta que considera o desenvolvimento em quatro dimensões principais: renda, longevidade, educação e municipal.\n",
        "\n",
        "* IDH Municipal: Refere-se à medida geral do índice de desenvolvimento humano para o município.\n",
        "\n",
        "* IDH Renda: Refere-se à dimensão do IDH-M relacionada à renda média dos habitantes do município.\n",
        "\n",
        "* IDH Longevidade: Refere-se à dimensão do IDH-M relacionada à expectativa de vida ao nascer dos habitantes do município.\n",
        "\n",
        "* IDH Educação: Refere-se à dimensão do IDH-M relacionada ao acesso à educação e à média de anos de estudo da população.\n",
        "\n",
        "Os municípios listados foram classificados como \"IDH-M alto\", o que indica que possuem um bom desenvolvimento humano em comparação com outros municípios do estado. As medidas específicas de cada dimensão do IDH-M são fornecidas para cada município listado.\n"
      ],
      "metadata": {
        "id": "6-X0dT59ez1H"
      }
    },
    {
      "cell_type": "markdown",
      "metadata": {
        "id": "tvjzCue2gy1U"
      },
      "source": [
        "### 5.2 IFDM\n",
        "B - https://pt.wikipedia.org/wiki/Lista_de_munic%C3%ADpios_de_Rond%C3%B4nia_por_IFDM\n"
      ]
    },
    {
      "cell_type": "code",
      "source": [
        "# URL da página da Wikipedia\n",
        "url = \"https://pt.wikipedia.org/wiki/Lista_de_munic%C3%ADpios_de_Rond%C3%B4nia_por_IFDM\"\n",
        "\n",
        "# Fazendo uma solicitação GET para obter o conteúdo da página\n",
        "response = requests.get(url)\n",
        "\n",
        "# Criando um objeto BeautifulSoup para analisar o conteúdo HTML\n",
        "soup = BeautifulSoup(response.content, \"html.parser\")\n",
        "\n",
        "# Encontrando a tabela na página com base na classe wikitable\n",
        "table = soup.find(\"table\", {\"class\": \"wikitable\"})\n",
        "\n",
        "# Lendo a tabela em um DataFrame do Pandas\n",
        "df = pd.read_html(str(table), header=[0, 1])[0]\n",
        "\n",
        "# Limpando e preparando os dados\n",
        "# Remover linhas com valores NaN\n",
        "df = df.dropna()\n",
        "\n",
        "# Remover linhas de cabeçalho\n",
        "df = df[df[\"Posição\"][\"Desenvolvimento alto\"] != \"nenhum município\"]\n",
        "\n",
        "# Renomear as colunas para facilitar o acesso\n",
        "df.columns = [\"Posição\", \"Município\", \"IFDM\"]\n",
        "\n",
        "# Exibir o DataFrame\n",
        "print(df.head())\n"
      ],
      "metadata": {
        "colab": {
          "base_uri": "https://localhost:8080/"
        },
        "id": "3p9PdXHxOUed",
        "outputId": "4e82b097-fb09-4c27-c646-1b6c68b2bb67"
      },
      "execution_count": 53,
      "outputs": [
        {
          "output_type": "stream",
          "name": "stdout",
          "text": [
            "                    Posição                 Município  \\\n",
            "1  Desenvolvimento moderado  Desenvolvimento moderado   \n",
            "2                        1º                 Ariquemes   \n",
            "3                        2º                   Vilhena   \n",
            "4                        3º             Pimenta Bueno   \n",
            "5                        4º               Porto Velho   \n",
            "\n",
            "                       IFDM  \n",
            "1  Desenvolvimento moderado  \n",
            "2                    0.7746  \n",
            "3                    0.7465  \n",
            "4                    0.7383  \n",
            "5                    0.7257  \n"
          ]
        }
      ]
    },
    {
      "cell_type": "markdown",
      "source": [
        "### Insight 05:\n",
        "Os dados fornecem informações sobre o Índice Firjan de Desenvolvimento Municipal (IFDM) de alguns municípios de Rondônia. O IFDM é uma medida composta que avalia o desenvolvimento socioeconômico dos municípios brasileiros.\n",
        "\n",
        "* Desenvolvimento Moderado: Refere-se a uma classificação geral do IFDM para os municípios listados, indicando que possuem um nível intermediário de desenvolvimento socioeconômico.\n",
        "* IFDM: É a medida específica do Índice Firjan de Desenvolvimento Municipal para cada município listado. Este índice é calculado com base em três áreas: Emprego e Renda, Educação e Saúde.\n",
        "\n",
        "\n",
        "Os municípios listados foram classificados como tendo um desenvolvimento socioeconômico moderado. As medidas específicas do IFDM são fornecidas para cada município, o que permite uma comparação relativa do seu desempenho nessas áreas em comparação com outros municípios."
      ],
      "metadata": {
        "id": "TQTO7eQifbex"
      }
    },
    {
      "cell_type": "markdown",
      "metadata": {
        "id": "MRh4iA01gy1U"
      },
      "source": [
        "### 5.3 PIB\n",
        "C - https://pt.wikipedia.org/wiki/Lista_de_munic%C3%ADpios_de_Rond%C3%B4nia_por_PIB\n"
      ]
    },
    {
      "cell_type": "code",
      "source": [
        "# URL da página da Wikipedia\n",
        "url = \"https://pt.wikipedia.org/wiki/Lista_de_munic%C3%ADpios_de_Rond%C3%B4nia_por_PIB\"\n",
        "\n",
        "# Fazendo uma solicitação GET para obter o conteúdo da página\n",
        "response = requests.get(url)\n",
        "\n",
        "# Criando um objeto BeautifulSoup para analisar o conteúdo HTML\n",
        "soup = BeautifulSoup(response.content, \"html.parser\")\n",
        "\n",
        "# Encontrando a tabela na página com base na classe wikitable\n",
        "table = soup.find(\"table\", {\"class\": \"wikitable\"})\n",
        "\n",
        "# Lendo a tabela em um DataFrame do Pandas\n",
        "df = pd.read_html(str(table), header=0)[0]\n",
        "\n",
        "# Exibindo as primeiras linhas do DataFrame para entender a estrutura dos dados\n",
        "print(df.head())\n"
      ],
      "metadata": {
        "colab": {
          "base_uri": "https://localhost:8080/"
        },
        "id": "8OozUFMLO8j4",
        "outputId": "66990e23-0a17-41e9-8505-ec1cb3099b13"
      },
      "execution_count": 56,
      "outputs": [
        {
          "output_type": "stream",
          "name": "stdout",
          "text": [
            "   Posição       Posição.1    Município         PIB  Alteração\n",
            "0  Em 2019  Mudança (2014)    Município         PIB  Alteração\n",
            "1        1             (0)  Porto Velho  17 912 070        NaN\n",
            "2        2             (0)    Ji-Paraná   3 783 972        NaN\n",
            "3        3             (0)      Vilhena   2 831 175        NaN\n",
            "4        4             (0)    Ariquemes   2 579 830        NaN\n"
          ]
        }
      ]
    },
    {
      "cell_type": "markdown",
      "source": [
        "### Insight 06:\n",
        "\n",
        "Os dados fornecem informações sobre o Produto Interno Bruto (PIB) de alguns municípios de Rondônia em 2019, juntamente com a mudança no PIB desde 2014. Aqui está uma descrição das colunas:\n",
        "\n",
        "* Posição: Classificação do município com base no seu PIB em 2019.\n",
        "\n",
        "* Posição.1: Indicação da mudança na posição do município em relação ao seu PIB desde 2014.\n",
        "\n",
        "* Município: Nome do município.\n",
        "\n",
        "* PIB: O Produto Interno Bruto do município em 2019, representado em milhões de reais.\n",
        "\n",
        "* Alteração: Indicação de mudança, possivelmente ausente devido a um valor NaN na amostra fornecida.\n",
        "\n",
        "\n",
        "Esses dados são úteis para entender a distribuição econômica entre os municípios de Rondônia, destacando aqueles com os maiores PIBs em 2019 e a mudança relativa desde 2014. Isso pode ser usado para identificar áreas de crescimento econômico e para orientar políticas e investimentos econômicos futuros."
      ],
      "metadata": {
        "id": "-MOSN5E3f-yE"
      }
    }
  ],
  "metadata": {
    "kernelspec": {
      "display_name": "Python 3",
      "language": "python",
      "name": "python3"
    },
    "language_info": {
      "codemirror_mode": {
        "name": "ipython",
        "version": 3
      },
      "file_extension": ".py",
      "mimetype": "text/x-python",
      "name": "python",
      "nbconvert_exporter": "python",
      "pygments_lexer": "ipython3",
      "version": "3.8.5"
    },
    "varInspector": {
      "cols": {
        "lenName": 16,
        "lenType": 16,
        "lenVar": 40
      },
      "kernels_config": {
        "python": {
          "delete_cmd_postfix": "",
          "delete_cmd_prefix": "del ",
          "library": "var_list.py",
          "varRefreshCmd": "print(var_dic_list())"
        },
        "r": {
          "delete_cmd_postfix": ") ",
          "delete_cmd_prefix": "rm(",
          "library": "var_list.r",
          "varRefreshCmd": "cat(var_dic_list()) "
        }
      },
      "types_to_exclude": [
        "module",
        "function",
        "builtin_function_or_method",
        "instance",
        "_Feature"
      ],
      "window_display": false
    },
    "colab": {
      "provenance": []
    }
  },
  "nbformat": 4,
  "nbformat_minor": 0
}