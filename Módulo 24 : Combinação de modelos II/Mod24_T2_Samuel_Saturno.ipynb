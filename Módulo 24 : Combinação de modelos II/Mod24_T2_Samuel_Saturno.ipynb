{
  "nbformat": 4,
  "nbformat_minor": 0,
  "metadata": {
    "colab": {
      "provenance": []
    },
    "kernelspec": {
      "name": "python3",
      "display_name": "Python 3"
    },
    "language_info": {
      "name": "python"
    }
  },
  "cells": [
    {
      "cell_type": "markdown",
      "source": [
        "<img src=\"https://raw.githubusercontent.com/andre-marcos-perez/ebac-course-utils/main/media/logo/newebac_logo_black_half.png\" alt=\"ebac-logo\">\n",
        "\n",
        "---\n",
        "\n",
        "# **Módulo 24** | Combinação de modelos II | AdaBoost vs GBM\n",
        "Caderno de **exercício 02**<br>\n",
        "\n",
        "\n",
        "\n",
        "\n",
        "## Discente: Samuel Saturno\n"
      ],
      "metadata": {
        "id": "IQZl-knkK6k0"
      }
    },
    {
      "cell_type": "markdown",
      "source": [
        "<h3><font  color=\"bronw\"><strong>1. Cite 5 diferenças entre o AdaBooste o GBM.</strong></font></h3>\n",
        "\n",
        "<h4><font  color=\"\"><strong>AdaBoost (Adaptive Boosting) e GBM (Gradient Boosting Machine) são ambos algoritmos de aprendizado de máquina que pertencem à família de técnicas de boosting, mas eles têm algumas diferenças importantes:</strong></font></h4>\n",
        "\n",
        "**1. Função de perda:**\n",
        "\n",
        "<h4><font  color=\"\"><i>\n",
        "\n",
        "* AdaBoost: Utiliza uma função de perda exponencial, o que torna o algoritmo sensível a outliers.\n",
        "* GBM: Permite uma gama mais ampla de funções de perda, incluindo as mais comuns, como a função de perda de desvio ou função de perda exponencial.\n",
        "\n",
        "</i></font></h4>\n",
        "\n",
        "**2. Abordagem de ajuste:**\n",
        "\n",
        "<h4><font  color=\"\"><i>\n",
        "\n",
        "* AdaBoost: Ajusta os pesos dos exemplos de treinamento a cada iteração, dando mais peso aos exemplos mal classificados nas iterações anteriores.\n",
        "* GBM: Ajusta os modelos em cada iteração, minimizando diretamente a função de perda usando métodos de otimização de gradiente descendente.\n",
        "\n",
        "</i></font></h4>\n",
        "\n",
        "**3. Número de estimadores base:**\n",
        "\n",
        "<h4><font  color=\"\"><i>\n",
        "\n",
        "* AdaBoost: Pode usar uma variedade de estimadores base, mas é comum usar árvores de decisão simples.\n",
        "* GBM: Também pode usar uma variedade de estimadores base, mas é mais comumente usado um único tipo, geralmente árvores de decisão profundas.\n",
        "</i></font></h4>\n",
        "\n",
        "**4. Pesos dos exemplos:**\n",
        "\n",
        "<h4><font  color=\"\"><i>\n",
        "\n",
        "* AdaBoost: Atribui pesos a cada exemplo de treinamento, dando mais peso aos exemplos que são difíceis de classificar.\n",
        "* GBM: Não atribui pesos aos exemplos de treinamento, mas ajusta os modelos com base nos erros residuais.\n",
        "\n",
        "</i></font></h4>\n",
        "\n",
        "**5. Forma como os modelos são combinados:**\n",
        "\n",
        "<h4><font  color=\"\"><i>\n",
        "\n",
        "* AdaBoost: Combina os modelos por meio de uma votação ponderada, onde modelos mais precisos recebem mais peso.\n",
        "* GBM: Combina os modelos aditivamente, ou seja, adiciona iterativamente modelos que melhoram o desempenho global do conjunto.\n",
        "\n",
        "</i></font></h4>\n",
        "\n",
        "\n",
        "\n",
        "<h5><font  color=\"\"><strong>Referências Bibliográticas (visto em 20/04/2024)</strong></font></h5>\n",
        "\n",
        "<h6><font  color=\"blue\"><strong>Sites:</strong></font></h6>\n",
        "\n",
        "https://scikit-learn.org/stable/modules/ensemble.html\n",
        "\n",
        "\n"
      ],
      "metadata": {
        "id": "Sfee7KzBDj_f"
      }
    },
    {
      "cell_type": "markdown",
      "source": [
        "\n",
        "\n",
        "<h3><font  color=\"Bronw\"><strong> 2. Acesse o link Scikit-learn–GBM, leia a explicação (traduza se for preciso) e crie um jupyternotebook contendo o exemplo de classificação e de regressão do GBM. </strong></font></h3>\n",
        "\n",
        "\n",
        "\n",
        "\n",
        "\n"
      ],
      "metadata": {
        "id": "CBMU9pqA9mYZ"
      }
    },
    {
      "cell_type": "code",
      "source": [
        "import numpy as np\n",
        "from sklearn.metrics import mean_squared_error\n",
        "from sklearn.datasets import make_friedman1\n",
        "from sklearn.ensemble import GradientBoostingRegressor\n",
        "\n",
        "# Gerando dados de exemplo usando make_friedman1, uma função de geração de dados sintéticos.\n",
        "# Essa função cria um conjunto de dados com características não lineares.\n",
        "X, y = make_friedman1(n_samples=1200, random_state=0, noise=1.0)\n",
        "\n",
        "# Dividindo os dados em conjuntos de treinamento e teste.\n",
        "X_train, X_test = X[:200], X[200:]\n",
        "y_train, y_test = y[:200], y[200:]\n",
        "\n",
        "# Inicializando o modelo GradientBoostingRegressor com os parâmetros especificados.\n",
        "# O modelo utilizará 100 estimadores, cada um com uma profundidade máxima de 1.\n",
        "# O learning_rate controla a taxa de aprendizado do algoritmo.\n",
        "# O parâmetro loss indica a função de perda a ser otimizada, neste caso, 'squared_error' para minimizar o erro quadrático médio.\n",
        "est = GradientBoostingRegressor(\n",
        "    n_estimators=100, learning_rate=0.1, max_depth=1, random_state=0,\n",
        "    loss='squared_error'\n",
        ")\n",
        "\n",
        "# Ajustando o modelo aos dados de treinamento.\n",
        "est.fit(X_train, y_train)\n",
        "\n",
        "# Calculando o erro quadrático médio entre as previsões do modelo e os verdadeiros valores de y nos dados de teste.\n",
        "mse = mean_squared_error(y_test, est.predict(X_test))\n",
        "\n",
        "# Imprimindo o erro quadrático médio.\n",
        "print(\"Mean Squared Error:\", mse)\n"
      ],
      "metadata": {
        "colab": {
          "base_uri": "https://localhost:8080/"
        },
        "id": "aD4xmWMaLiPE",
        "outputId": "86c98e5e-1916-4d64-db51-70e567905a52"
      },
      "execution_count": 1,
      "outputs": [
        {
          "output_type": "stream",
          "name": "stdout",
          "text": [
            "Mean Squared Error: 5.009154859960321\n"
          ]
        }
      ]
    },
    {
      "cell_type": "markdown",
      "source": [
        "\n",
        "\n",
        "**Gradient Boosting regression**\n",
        "\n",
        "https://scikit-learn.org/stable/auto_examples/ensemble/plot_gradient_boosting_regression.html#sphx-glr-auto-examples-ensemble-plot-gradient-boosting-regression-py"
      ],
      "metadata": {
        "id": "SJ3O8vGdMFl4"
      }
    },
    {
      "cell_type": "code",
      "source": [
        "# Author: Peter Prettenhofer <peter.prettenhofer@gmail.com>\n",
        "#         Maria Telenczuk <https://github.com/maikia>\n",
        "#         Katrina Ni <https://github.com/nilichen>\n",
        "#\n",
        "# License: BSD 3 clause\n",
        "\n",
        "import matplotlib.pyplot as plt\n",
        "import numpy as np\n",
        "\n",
        "from sklearn import datasets, ensemble\n",
        "from sklearn.inspection import permutation_importance\n",
        "from sklearn.metrics import mean_squared_error\n",
        "from sklearn.model_selection import train_test_split"
      ],
      "metadata": {
        "id": "NsYssU_HMGIP"
      },
      "execution_count": 2,
      "outputs": []
    },
    {
      "cell_type": "code",
      "source": [
        "# Carregando os dados\n",
        "diabetes = datasets.load_diabetes()\n",
        "X, y = diabetes.data, diabetes.target"
      ],
      "metadata": {
        "id": "hv8Xn-e7ML-d"
      },
      "execution_count": 3,
      "outputs": []
    },
    {
      "cell_type": "code",
      "source": [
        "# Pré-processamento dos dados\n",
        "X_train, X_test, y_train, y_test = train_test_split(\n",
        "    X, y, test_size=0.1, random_state=13\n",
        ")\n",
        "\n",
        "params = {\n",
        "    \"n_estimators\": 500,\n",
        "    \"max_depth\": 4,\n",
        "    \"min_samples_split\": 5,\n",
        "    \"learning_rate\": 0.01,\n",
        "    \"loss\": \"squared_error\",\n",
        "}"
      ],
      "metadata": {
        "id": "Aku5FlGjMQH1"
      },
      "execution_count": 4,
      "outputs": []
    },
    {
      "cell_type": "code",
      "source": [
        "# Ajuste do modelo de regressão\n",
        "reg = ensemble.GradientBoostingRegressor(**params)\n",
        "reg.fit(X_train, y_train)\n",
        "\n",
        "mse = mean_squared_error(y_test, reg.predict(X_test))\n",
        "print(\"The mean squared error (MSE) on test set: {:.4f}\".format(mse))"
      ],
      "metadata": {
        "colab": {
          "base_uri": "https://localhost:8080/"
        },
        "id": "B0zXQld7MctC",
        "outputId": "0643ca0c-1495-4f89-bc22-35856df58c24"
      },
      "execution_count": 5,
      "outputs": [
        {
          "output_type": "stream",
          "name": "stdout",
          "text": [
            "The mean squared error (MSE) on test set: 3027.2152\n"
          ]
        }
      ]
    },
    {
      "cell_type": "code",
      "source": [
        "# Visualização do gráfico\n",
        "test_score = np.zeros((params[\"n_estimators\"],), dtype=np.float64)\n",
        "for i, y_pred in enumerate(reg.staged_predict(X_test)):\n",
        "    test_score[i] = mean_squared_error(y_test, y_pred)\n",
        "\n",
        "fig = plt.figure(figsize=(6, 6))\n",
        "plt.subplot(1, 1, 1)\n",
        "plt.title(\"Deviance\")\n",
        "plt.plot(\n",
        "    np.arange(params[\"n_estimators\"]) + 1,\n",
        "    reg.train_score_,\n",
        "    \"b-\",\n",
        "    label=\"Training Set Deviance\",\n",
        ")\n",
        "plt.plot(\n",
        "    np.arange(params[\"n_estimators\"]) + 1, test_score, \"r-\", label=\"Test Set Deviance\"\n",
        ")\n",
        "plt.legend(loc=\"upper right\")\n",
        "plt.xlabel(\"Boosting Iterations\")\n",
        "plt.ylabel(\"Deviance\")\n",
        "fig.tight_layout()\n",
        "plt.show()"
      ],
      "metadata": {
        "colab": {
          "base_uri": "https://localhost:8080/",
          "height": 607
        },
        "id": "0JXg6tKJMnep",
        "outputId": "3194f2ea-d63f-4033-c6f2-b577eda66e55"
      },
      "execution_count": 6,
      "outputs": [
        {
          "output_type": "display_data",
          "data": {
            "text/plain": [
              "<Figure size 600x600 with 1 Axes>"
            ],
            "image/png": "[encoded data removed]"
          },
          "metadata": {}
        }
      ]
    },
    {
      "cell_type": "code",
      "source": [
        "feature_importance = reg.feature_importances_\n",
        "sorted_idx = np.argsort(feature_importance)\n",
        "pos = np.arange(sorted_idx.shape[0]) + 0.5\n",
        "fig = plt.figure(figsize=(12, 6))\n",
        "plt.subplot(1, 2, 1)\n",
        "plt.barh(pos, feature_importance[sorted_idx], align=\"center\")\n",
        "plt.yticks(pos, np.array(diabetes.feature_names)[sorted_idx])\n",
        "plt.title(\"Feature Importance (MDI)\")\n",
        "\n",
        "result = permutation_importance(\n",
        "    reg, X_test, y_test, n_repeats=10, random_state=42, n_jobs=2\n",
        ")\n",
        "sorted_idx = result.importances_mean.argsort()\n",
        "plt.subplot(1, 2, 2)\n",
        "plt.boxplot(\n",
        "    result.importances[sorted_idx].T,\n",
        "    vert=False,\n",
        "    labels=np.array(diabetes.feature_names)[sorted_idx],\n",
        ")\n",
        "plt.title(\"Permutation Importance (test set)\")\n",
        "fig.tight_layout()\n",
        "plt.show()"
      ],
      "metadata": {
        "colab": {
          "base_uri": "https://localhost:8080/",
          "height": 607
        },
        "id": "P4c5zvD6M6T0",
        "outputId": "51f72a22-4fa0-48f4-f7f6-d1c50889436c"
      },
      "execution_count": 7,
      "outputs": [
        {
          "output_type": "display_data",
          "data": {
            "text/plain": [
              "<Figure size 1200x600 with 2 Axes>"
            ],
            "image/png": "[encoded data removed]"
          },
          "metadata": {}
        }
      ]
    },
    {
      "cell_type": "markdown",
      "source": [
        "<h3><font  color=\"bronw\"><strong>3. Cite 5 Hyperparametrosimportantes no GBM.</strong></font></h3>\n",
        "\n",
        "\n",
        "**1. learning_rate:**\n",
        "\n",
        "<h4><font  color=\"\"><i>\n",
        "\n",
        "* O learning_rate controla a taxa de aprendizado do algoritmo, encolhendo a contribuição de cada árvore no ensemble. Valores menores geralmente exigem mais árvores para o modelo convergir, mas podem levar a um modelo mais robusto.\n",
        "\n",
        "</i></font></h4>\n",
        "\n",
        "**2. n_estimators:**\n",
        "\n",
        "<h4><font  color=\"\"><i>\n",
        "\n",
        "* Este hiperparâmetro indica o número de estágios de boosting a serem realizados. Um número maior de estimadores geralmente resulta em um desempenho melhor, mas há um ponto em que o aumento do número de estimadores pode levar ao overfitting.\n",
        "\n",
        "</i></font></h4>\n",
        "\n",
        "**3. subsample:**\n",
        "\n",
        "<h4><font  color=\"\"><i>\n",
        "\n",
        "* Representa a fração de amostras a serem usadas para ajustar os modelos base individuais. Valores menores que 1.0 resultam em Stochastic Gradient Boosting, o que pode ajudar a reduzir a variância do modelo.\n",
        "\n",
        "</i></font></h4>\n",
        "\n",
        "**4. max_depth:**\n",
        "\n",
        "<h4><font  color=\"\"><i>\n",
        "\n",
        "* Define a profundidade máxima das árvores de decisão individuais no ensemble. Controlar a profundidade pode ajudar a evitar overfitting e ajustar a complexidade do modelo.\n",
        "\n",
        "</i></font></h4>\n",
        "\n",
        "**5. criterion:**\n",
        "\n",
        "<h4><font  color=\"\"><i>\n",
        "\n",
        "* Indica a função usada para medir a qualidade de uma divisão. As opções incluem 'friedman_mse' para o erro quadrático médio com pontuação de melhoria por Friedman, e 'squared_error' para o erro quadrático médio. Escolher a função correta pode influenciar a eficácia do algoritmo em diferentes conjuntos de dados.\n",
        "\n",
        "</i></font></h4>\n",
        "\n",
        "\n",
        "\n",
        "<h5><font  color=\"\"><strong>Referências Bibliográticas (visto em 20/04/2024)</strong></font></h5>\n",
        "\n",
        "<h6><font  color=\"blue\"><strong>Sites:</strong></font></h6>\n",
        "\n",
        "https://scikit-learn.org/stable/modules/ensemble.html"
      ],
      "metadata": {
        "id": "KtjjjkZvBFOj"
      }
    },
    {
      "cell_type": "markdown",
      "source": [
        "<h3><font  color=\"bronw\"><strong>4.(Opcional) Utilize o GridSearchpara encontrar os melhores hyperparametrospara o conjunto de dados do exemplo</strong></font></h3>\n"
      ],
      "metadata": {
        "id": "qwz7EeUyQiui"
      }
    },
    {
      "cell_type": "code",
      "source": [
        "import numpy as np\n",
        "from sklearn.metrics import mean_squared_error\n",
        "from sklearn.datasets import make_friedman1\n",
        "from sklearn.model_selection import GridSearchCV\n",
        "from sklearn.ensemble import GradientBoostingRegressor\n",
        "\n",
        "# Gerando os dados de exemplo\n",
        "X, y = make_friedman1(n_samples=1200, random_state=0, noise=1.0)\n",
        "\n",
        "# Definindo os conjuntos de treinamento e teste\n",
        "X_train, X_test = X[:200], X[200:]\n",
        "y_train, y_test = y[:200], y[200:]\n",
        "\n",
        "# Definindo os hiperparâmetros para GridSearch\n",
        "param_grid = {\n",
        "    'learning_rate': [0.05, 0.1, 0.2],\n",
        "    'n_estimators': [50, 100, 200],\n",
        "    'max_depth': [3, 4, 5]\n",
        "}\n",
        "\n",
        "# Inicializando o modelo GradientBoostingRegressor\n",
        "gbm = GradientBoostingRegressor()\n",
        "\n",
        "# Inicializando o GridSearchCV\n",
        "grid_search = GridSearchCV(estimator=gbm, param_grid=param_grid, cv=3, scoring='neg_mean_squared_error')\n",
        "\n",
        "# Ajustando o GridSearch aos dados de treinamento\n",
        "grid_search.fit(X_train, y_train)\n",
        "\n",
        "# Obtendo os melhores hiperparâmetros\n",
        "best_params = grid_search.best_params_\n",
        "\n",
        "# Criando um novo modelo com os melhores hiperparâmetros encontrados\n",
        "best_gbm = GradientBoostingRegressor(**best_params)\n",
        "\n",
        "# Treinando o modelo final nos dados de treinamento\n",
        "best_gbm.fit(X_train, y_train)\n",
        "\n",
        "# Calculando o erro quadrático médio nos dados de teste\n",
        "mse = mean_squared_error(y_test, best_gbm.predict(X_test))\n",
        "\n",
        "print(\"Best Hyperparameters:\", best_params)\n",
        "print(\"Mean Squared Error:\", mse)\n"
      ],
      "metadata": {
        "colab": {
          "base_uri": "https://localhost:8080/"
        },
        "id": "-Q2wzNcTQkB5",
        "outputId": "659a8e0d-a2b9-4d5f-ad4e-d331417d721b"
      },
      "execution_count": 8,
      "outputs": [
        {
          "output_type": "stream",
          "name": "stdout",
          "text": [
            "Best Hyperparameters: {'learning_rate': 0.05, 'max_depth': 3, 'n_estimators': 200}\n",
            "Mean Squared Error: 4.073475465179768\n"
          ]
        }
      ]
    },
    {
      "cell_type": "markdown",
      "source": [
        "**Insight:**\n",
        "\n",
        "<h4><font  color=\"\"><i>\n",
        "\n",
        "* Podemos observar que ao ajustar um modelo Gradient Boosting para o conjunto de dados de exemplo, os melhores hiperparâmetros encontrados foram {'learning_rate': 0.05, 'max_depth': 3, 'n_estimators': 200}.\n",
        "\n",
        "* learning rate mais baixo, uma profundidade máxima de árvore moderada e um número maior de estimadores resultaram em melhor desempenho de generalização, conforme indicado pelo erro quadrático médio de 4.0735 nos dados de teste.\n",
        "\n",
        "* Em tese o processo de aprendizado mais lento, combinado com uma modelagem mais rasa e complexa, foi mais eficaz para capturar as relações nos dados, evitando overfitting.\n",
        "\n",
        "</i></font></h4>\n"
      ],
      "metadata": {
        "id": "C997W6bkSUSr"
      }
    },
    {
      "cell_type": "markdown",
      "source": [
        "\n",
        "\n",
        "<h3><font  color=\"bronw\"><strong>\n",
        "5. Acessando o artigo do Jerome Friedman (Stochastic) e pensando no nome dado ao StochasticGBM, qual é a maior diferença entre os dois algoritmos?\n",
        "</strong></font></h3>"
      ],
      "metadata": {
        "id": "OI4kNbfQCxqP"
      }
    },
    {
      "cell_type": "markdown",
      "source": [
        "\n",
        "<h4><font color=\"\"><i>\n",
        "A maior diferença entre o algoritmo descrito no artigo de Jerome Friedman e o Stochastic Gradient Boosting Machine (StochasticGBM) está na introdução de aleatoriedade durante o processo de treinamento.\n",
        "\n",
        "No artigo original de Friedman sobre Gradient Boosting, o algoritmo segue um procedimento determinístico, onde cada árvore de decisão é ajustada sequencialmente para corrigir os erros residuais do conjunto anterior. Não há introdução de aleatoriedade durante o treinamento das árvores individuais.\n",
        "\n",
        "Por outro lado, no Stochastic Gradient Boosting Machine, a aleatoriedade é introduzida através do subamostragem das observações (bootstrap) e/ou das características (subsample) durante o ajuste de cada árvore. Isso significa que em cada etapa de ajuste, apenas uma parte das observações ou características é considerada, tornando o processo de treinamento mais rápido e potencialmente mais robusto contra overfitting.\n",
        "\n",
        "Portanto, a principal diferença entre os dois algoritmos reside na abordagem de introdução de aleatoriedade durante o treinamento das árvores de decisão, o que caracteriza o Stochastic Gradient Boosting Machine como uma extensão estocástica do algoritmo original de Gradient Boosting proposto por Friedman.\n",
        "</i></font></h4>"
      ],
      "metadata": {
        "id": "lroArwXgDs6L"
      }
    }
  ]
}